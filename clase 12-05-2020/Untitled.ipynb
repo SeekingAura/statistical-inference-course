{
 "cells": [
  {
   "cell_type": "markdown",
   "metadata": {},
   "source": [
    "# Media poblacional $\\sigma$ desconocida\n",
    "\n",
    "## Caracteristicas\n",
    "\n",
    "Se tiene muestra pero se desconocen los estadisticos de la población. Las pruebas de hipotesis son iguales, pero los valores-p son ligermaente diferentes. en el caso de $\\sigma$ conocido de la población tiene distribución normal estándar, pero en estre caso no se peude afirmar.\n",
    "\n",
    "Para usar la distribución t se tiene ne cuenta los criterios para escojerlo\n",
    "* si tiene menos de 30 datos\n",
    "* tener la meustra pero no tener la población (conocer toda la población es el 100% de los datos)\n",
    "\n",
    "##\n",
    "En el caso de $\\sigma$ desconocido la distribución muestral del estadístico de prueba sigue la distribución t\n",
    "\n",
    "$t=\\frac{\\bar{x}-\\mu}{s}$\n",
    "\n",
    "dependiendo de donde se ubique el valor t será la conclusión a sacar\n",
    "\n",
    "## Ejemplo\n",
    "### Prueba una cola\n",
    "La calificación de un aeropuerto mayor a 7 considera que este presta un servicio superior, en una meustra de 60 viajeros, con x=7.25 y s=1.052, odría servir para afirmar que este arepuerto presta un servicio superior?\n",
    "\n",
    "Usar significancia de $\\alpha=0.05$\n",
    "\n",
    "### Hipotesis\n",
    "Ha: $\\mu >7$\n",
    "Ho: $\\mu <=7$\n",
    "\n",
    "Ha considerado el servicio superior, Ho el servicio no es superior\n",
    "\n",
    "Para x=7.25, s=1.052, $\\mu =7$, n=60\n",
    "\n",
    "$t=\\frac{x-\\mu}{s/\\sqrt{n}}=\\frac{7-7.25}{1.052/\\sqrt{60}}=-1.84$\n",
    "\n",
    "se debe hallar $t_{0.05}$ para df=59\n",
    "\n",
    "Dado a que:\n",
    "Ha: $\\mu >7$\n",
    "Ho: $\\mu <=7$\n",
    "\n",
    "Si $t < 1.67$ cae en la zona de aceptación de Ho y rechaza Ha.\n",
    "\n",
    "Si $t > 1.67$ cae en zona de aceptación de Ha y rechaza Ho\n",
    "\n",
    "Como t=1.84 y $t_{0.05}=1.67$ para $df=59$, se cumple:\n",
    "\n",
    "$t=1.84 > t_{0.05} = 1.67$ para df=59, se acepta Ha y se rechaza la Ho, con significancia de 95%\n"
   ]
  },
  {
   "cell_type": "code",
   "execution_count": 2,
   "metadata": {},
   "outputs": [
    {
     "data": {
      "text/html": [
       "0.135812616007007"
      ],
      "text/latex": [
       "0.135812616007007"
      ],
      "text/markdown": [
       "0.135812616007007"
      ],
      "text/plain": [
       "[1] 0.1358126"
      ]
     },
     "metadata": {},
     "output_type": "display_data"
    },
    {
     "data": {
      "text/html": [
       "-1.84077155237995"
      ],
      "text/latex": [
       "-1.84077155237995"
      ],
      "text/markdown": [
       "-1.84077155237995"
      ],
      "text/plain": [
       "[1] -1.840772"
      ]
     },
     "metadata": {},
     "output_type": "display_data"
    },
    {
     "data": {
      "text/html": [
       "1.6710930321039"
      ],
      "text/latex": [
       "1.6710930321039"
      ],
      "text/markdown": [
       "1.6710930321039"
      ],
      "text/plain": [
       "[1] 1.671093"
      ]
     },
     "metadata": {},
     "output_type": "display_data"
    },
    {
     "data": {
      "text/html": [
       "0.0353425542208883"
      ],
      "text/latex": [
       "0.0353425542208883"
      ],
      "text/markdown": [
       "0.0353425542208883"
      ],
      "text/plain": [
       "[1] 0.03534255"
      ]
     },
     "metadata": {},
     "output_type": "display_data"
    },
    {
     "data": {
      "text/html": [
       "2.06389856162803"
      ],
      "text/latex": [
       "2.06389856162803"
      ],
      "text/markdown": [
       "2.06389856162803"
      ],
      "text/plain": [
       "[1] 2.063899"
      ]
     },
     "metadata": {},
     "output_type": "display_data"
    }
   ],
   "source": [
    "# valor t en 0.05 y 59 grados de libertad\n",
    "\n",
    "num <- 7-7.25\n",
    "den <- 1.052 / sqrt(60); den\n",
    "ta=num/den;ta\n",
    "qt(0.05, df=59, lower.tail=FALSE)\n",
    "pt(ta,59)\n",
    "\n",
    "qt(0.025, df=24, lower.tail=FALSE)\n"
   ]
  },
  {
   "cell_type": "markdown",
   "metadata": {},
   "source": [
    "# Actividad\n",
    "\n",
    "Tomar datos de un equipo de la liga inglesa, analizar cual es la cantidad de golpes esperado como local. el equipo seleccionado anotará mas de 2 goles en promedio por partido.\n",
    "\n",
    "Se anotará en el partido mas x cantidad de goles?\n",
    "\n",
    "## Observaciones\n",
    "1. Se tiene una muestra (el campeonato en marcha)\n",
    "2. Se puede obtener la media y la desviación estandar de la muestra\n",
    "3. No se conoce la media o desviación de la población\n",
    "4. Seguramente no se tiene mas de 30 datos\n",
    "\n",
    "Por lo tanto, las pruebas realziadas se deben ajustar a la distribución t"
   ]
  },
  {
   "cell_type": "code",
   "execution_count": null,
   "metadata": {},
   "outputs": [],
   "source": [
    "# Download dataframe\n",
    "vec_ris_df <- read.csv(\"https://www.football-data.co.uk/mmz4281/1920/E0.csv\")"
   ]
  },
  {
   "cell_type": "markdown",
   "metadata": {},
   "source": [
    "# Ejemplo 2 colas\n",
    "Prueba de dos colas:\n",
    "\n",
    "Se espera que la demanda un producto nuevo sea de 40 unidades, se realiza encuesta en 25 puntos de venta, se obtiene x=37.4 y s=11.79, se deberá modificar la producción?\n",
    "\n",
    "Se espera significancia del 95%\n",
    "\n",
    "## Solución Ejemplo\n",
    "Se tiene x=37.4, s=11.79, u=40, n=25\n",
    "\n",
    "$Ha: u\\neq 40$ $Ho: u=404\n",
    "\n",
    "Si la Ho es rechazada deberá replantear la producción. Se tiene $\\alpha = 0.05$, al ser de dos colas $\\alpha /2 = 0.025$ Calculamos el valor t\n",
    "\n",
    "$t=\\frac{37.4-40}{11.79/\\sqrt{25}}=-1.10$"
   ]
  },
  {
   "cell_type": "code",
   "execution_count": 4,
   "metadata": {},
   "outputs": [
    {
     "data": {
      "text/html": [
       "-2.6"
      ],
      "text/latex": [
       "-2.6"
      ],
      "text/markdown": [
       "-2.6"
      ],
      "text/plain": [
       "[1] -2.6"
      ]
     },
     "metadata": {},
     "output_type": "display_data"
    },
    {
     "data": {
      "text/html": [
       "2.358"
      ],
      "text/latex": [
       "2.358"
      ],
      "text/markdown": [
       "2.358"
      ],
      "text/plain": [
       "[1] 2.358"
      ]
     },
     "metadata": {},
     "output_type": "display_data"
    },
    {
     "data": {
      "text/html": [
       "-1.10262934690416"
      ],
      "text/latex": [
       "-1.10262934690416"
      ],
      "text/markdown": [
       "-1.10262934690416"
      ],
      "text/plain": [
       "[1] -1.102629"
      ]
     },
     "metadata": {},
     "output_type": "display_data"
    }
   ],
   "source": [
    "num <- 37.4 - 40; num\n",
    "den <- 11.79/sqrt(25);den\n",
    "tp <- num/den; tp"
   ]
  },
  {
   "cell_type": "markdown",
   "metadata": {},
   "source": [
    "Para $t_{0.025}=2.063$ con 25-1=24 grados de libertad\n",
    "\n",
    "Como t=-1.10 y los limites son:\n",
    "\n",
    "Si -2.063 < t < 2.063 está en la zona de aceptación de la Ho y rechazo de Ha.\n",
    "\n",
    "Si está t fuera de ese rango anterior se rechaza Ha y se acepta Ho\n",
    "\n",
    "Como t realmente se encuentra en la zona de aceptación de Ho, ya que -2.063 < -1.10 < 2.063 y por ende se rechaza la Ha, no se replantea la producción\n",
    "\n",
    "Los grados de libertad son la relación entr ela media y la desviación estandar"
   ]
  },
  {
   "cell_type": "markdown",
   "metadata": {},
   "source": [
    "# confusion matrix\n",
    "\n",
    "* Falsos positivos\n",
    "* Verdaderos positivos\n",
    "* \n",
    "\n",
    "Error tipo 1: cuandos e encuentra el valor $\\alpha$ es un error tipo 1\n",
    "Error tipo 2: los errores tipo 2 son los tipo $\\beta$"
   ]
  }
 ],
 "metadata": {
  "kernelspec": {
   "display_name": "R",
   "language": "R",
   "name": "ir"
  },
  "language_info": {
   "codemirror_mode": "r",
   "file_extension": ".r",
   "mimetype": "text/x-r-source",
   "name": "R",
   "pygments_lexer": "r",
   "version": "3.6.3"
  }
 },
 "nbformat": 4,
 "nbformat_minor": 4
}
