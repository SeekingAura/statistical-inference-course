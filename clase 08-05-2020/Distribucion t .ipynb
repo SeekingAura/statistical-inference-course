{
 "cells": [
  {
   "cell_type": "markdown",
   "metadata": {},
   "source": [
    "# Valor t\n",
    "\n",
    "Cuando se calcula un intervalo de confianza para una media\n",
    "\n",
    "La distribución t es una familia de distribuciones de probabilidad similares que dependen de un parámetro llamado grado de libertad.\n",
    "\n",
    "Hay una relación entre los datos de la distribución y la camapana de la distribución T\n",
    "\n",
    "*Grados de libertad* Tiene que ver con el tamaño de la muestra\n",
    "\n",
    "si la distribución tiene menos de 30 datos la distribución tiene un tamaño fijo, si tiene mas de 30 tiene unas variaciones\n",
    "\n",
    "Para hallar la media poblacional cuando $\\sigma$ np es conocida se emplea una formula.\n",
    "\n",
    "Si una muestra es menos a 30 no se puede afirmar que se comporta como una muestra grande, en este caso se debe usar la formula para la distribución\n",
    "\n",
    "## Caracteristicas\n",
    "\n",
    "* Forma de campana y simétrica al rededor de t igual que z\n",
    "* Es mas variable que z\n",
    "* El valor de t depende del tamaño n de la meustra, si n aumenta, t disminuye\n",
    "\n",
    "Esta distribución relamente tiene varias camapanas según al numero de datos, a amayor numero de datos la campana es mas alta, mas atachada (menso ancha. La t va ser igual a la normal cuando tiene 30 o mas datos\n",
    "\n",
    "Al hacer esto se cambia la consideración que tienen los datos, el rango de datos cuando es demasiado pequeño aveces no se puede ser analisis correcto, por ejemplo en los gastos de algo visto de forma diaria no se verá cambios grandes en cambio si se visualiza por meses podria llegar a analisis mas adecuados.\n",
    "\n",
    "## Grados de libertad \n",
    "Los grados de libertad se definen como\n",
    "\n",
    "$df=n-1$\n",
    "\n",
    "Los valores de grados de libertad tambien tienen valores que parten de un estandar\n",
    "\n",
    "\n",
    "## Ejemplo\n",
    "\n",
    "Se tiene una muestra de tamaño n=10 de una distribución normal, encuentra el valor de t tal que solo el 1% de los valores sean mas pequeños\n",
    "\n",
    "### calcular el grado de libertad\n",
    "\n",
    "df=10-9=9 para t =0.10\n",
    "\n",
    "en la tabla t=2.921 como se trata de vlaor a la izquierda entonces -t=-2.821. Esta operación se realiza debido a que la tabla entrega valores hacia la derecha, entonces la tabla para valor t=0.01 es el inverso del valor.\n",
    "\n",
    "Los grados de libertad solo se calculan cuando la muestra es 30 o menor a 30\n",
    "\n",
    "#### Calculo de t\n",
    "La forma de calcular el valor t seria si se queire el 1% de los datos el t a buscar en la tabla seria 1-1%=0.99 se busca para 0.99 y se multiplica * -1.\n",
    "\n",
    "Esto solo aplica para valores inferiores al 50%, el calculo es para la parte baja de la cola, si es mayor al 50% de la parte de la cola\n",
    "\n",
    "# Ejemplo\n",
    "Una compañia tiene datos financieros diarios, los voluementes en millones son los siguientes\n",
    "\n",
    "\n",
    "Lunes: 45, 43, 43, 66, 91, 53, 35, 45, 29, 64, 56\n",
    "Viernes: 43, 41, 45, 46, 61, 56. 80. 40. 48. 49. 50. 41\n",
    "\n",
    "Genere datos y grafica los cuartiles de ambos dias. encuentre el intervalo de confianza del 95% para el movimiento de voluemenes de ambos dias\n",
    "\n",
    "el 95% de confianza se requeire 0.95=0.05 de intervalo, esto es para\n",
    "\n",
    "$x_{medio} \\pm t_{0.025}s/\\sqrt{n}$\n",
    "\n",
    "Para n el número de datos en cada dia, S es desviación estandar, Xmedio promedio. Con el intervalo de confianza se calcula a la mitad del porcentaje\n",
    "\n",
    "Lo que la compañia quiere saber la cantidad de dinero esparada de cuanto va a moverse acuerdo al dia.\n",
    "\n",
    "El valor t indica mas o menos cuanto puede fluctuar el valor, de por si le dan un valor a los datos que en si muestran el valor esperado (tal cual para aprnedizaje de maquina) \n",
    "\n"
   ]
  },
  {
   "cell_type": "code",
   "execution_count": 5,
   "metadata": {},
   "outputs": [
    {
     "data": {
      "text/html": [
       "52.7"
      ],
      "text/latex": [
       "52.7"
      ],
      "text/markdown": [
       "52.7"
      ],
      "text/plain": [
       "[1] 52.7"
      ]
     },
     "metadata": {},
     "output_type": "display_data"
    },
    {
     "data": {
      "text/html": [
       "10"
      ],
      "text/latex": [
       "10"
      ],
      "text/markdown": [
       "10"
      ],
      "text/plain": [
       "[1] 10"
      ]
     },
     "metadata": {},
     "output_type": "display_data"
    },
    {
     "data": {
      "text/html": [
       "10"
      ],
      "text/latex": [
       "10"
      ],
      "text/markdown": [
       "10"
      ],
      "text/plain": [
       "[1] 10"
      ]
     },
     "metadata": {},
     "output_type": "display_data"
    },
    {
     "data": {
      "text/html": [
       "<style>\n",
       ".dl-inline {width: auto; margin:0; padding: 0}\n",
       ".dl-inline>dt, .dl-inline>dd {float: none; width: auto; display: inline-block}\n",
       ".dl-inline>dt::after {content: \":\\0020\"; padding-right: .5ex}\n",
       ".dl-inline>dt:not(:first-of-type) {padding-left: .5ex}\n",
       "</style><dl class=dl-inline><dt>0%</dt><dd>29</dd><dt>25%</dt><dd>43.5</dd><dt>50%</dt><dd>49</dd><dt>75%</dt><dd>62</dd><dt>100%</dt><dd>91</dd></dl>\n"
      ],
      "text/latex": [
       "\\begin{description*}\n",
       "\\item[0\\textbackslash{}\\%] 29\n",
       "\\item[25\\textbackslash{}\\%] 43.5\n",
       "\\item[50\\textbackslash{}\\%] 49\n",
       "\\item[75\\textbackslash{}\\%] 62\n",
       "\\item[100\\textbackslash{}\\%] 91\n",
       "\\end{description*}\n"
      ],
      "text/markdown": [
       "0%\n",
       ":   2925%\n",
       ":   43.550%\n",
       ":   4975%\n",
       ":   62100%\n",
       ":   91\n",
       "\n"
      ],
      "text/plain": [
       "  0%  25%  50%  75% 100% \n",
       "29.0 43.5 49.0 62.0 91.0 "
      ]
     },
     "metadata": {},
     "output_type": "display_data"
    },
    {
     "data": {
      "text/html": [
       "47.9"
      ],
      "text/latex": [
       "47.9"
      ],
      "text/markdown": [
       "47.9"
      ],
      "text/plain": [
       "[1] 47.9"
      ]
     },
     "metadata": {},
     "output_type": "display_data"
    },
    {
     "data": {
      "text/html": [
       "11.8645129131653"
      ],
      "text/latex": [
       "11.8645129131653"
      ],
      "text/markdown": [
       "11.8645129131653"
      ],
      "text/plain": [
       "[1] 11.86451"
      ]
     },
     "metadata": {},
     "output_type": "display_data"
    },
    {
     "data": {
      "text/html": [
       "<style>\n",
       ".dl-inline {width: auto; margin:0; padding: 0}\n",
       ".dl-inline>dt, .dl-inline>dd {float: none; width: auto; display: inline-block}\n",
       ".dl-inline>dt::after {content: \":\\0020\"; padding-right: .5ex}\n",
       ".dl-inline>dt:not(:first-of-type) {padding-left: .5ex}\n",
       "</style><dl class=dl-inline><dt>0%</dt><dd>29</dd><dt>25%</dt><dd>43</dd><dt>50%</dt><dd>45</dd><dt>75%</dt><dd>55.25</dd><dt>100%</dt><dd>66</dd></dl>\n"
      ],
      "text/latex": [
       "\\begin{description*}\n",
       "\\item[0\\textbackslash{}\\%] 29\n",
       "\\item[25\\textbackslash{}\\%] 43\n",
       "\\item[50\\textbackslash{}\\%] 45\n",
       "\\item[75\\textbackslash{}\\%] 55.25\n",
       "\\item[100\\textbackslash{}\\%] 66\n",
       "\\end{description*}\n"
      ],
      "text/markdown": [
       "0%\n",
       ":   2925%\n",
       ":   4350%\n",
       ":   4575%\n",
       ":   55.25100%\n",
       ":   66\n",
       "\n"
      ],
      "text/plain": [
       "   0%   25%   50%   75%  100% \n",
       "29.00 43.00 45.00 55.25 66.00 "
      ]
     },
     "metadata": {},
     "output_type": "display_data"
    },
    {
     "data": {
      "image/png": "[encoded data removed]",
      "text/plain": [
       "plot without title"
      ]
     },
     "metadata": {
      "image/png": {
       "height": 420,
       "width": 420
      },
      "text/plain": {
       "height": 420,
       "width": 420
      }
     },
     "output_type": "display_data"
    },
    {
     "data": {
      "image/png": "[encoded data removed]",
      "text/plain": [
       "plot without title"
      ]
     },
     "metadata": {
      "image/png": {
       "height": 420,
       "width": 420
      },
      "text/plain": {
       "height": 420,
       "width": 420
      }
     },
     "output_type": "display_data"
    }
   ],
   "source": [
    "# Ejerecicio grafica cuartiles\n",
    "\n",
    "lun<- c(45,43, 66, 91, 53, 35, 45, 29, 64, 56)\n",
    "\n",
    "xl <- mean(lun); xl\n",
    "nl <- length(lun); nl\n",
    "sl <- sd(lun); nl\n",
    "quantile(lun)\n",
    "boxplot(lun)\n",
    "\n",
    "## Esta es la versión corregida quitando algunos datos de acuerdo al resultaod anterior\n",
    "lun2<- c(45,43, 43, 66, 53, 35, 45, 29, 64, 56)\n",
    "xl <- mean(lun2); xl\n",
    "nl <- length(lun2);\n",
    "sl <- sd(lun2); sl\n",
    "quantile(lun2)\n",
    "boxplot(lun2)"
   ]
  },
  {
   "cell_type": "code",
   "execution_count": 9,
   "metadata": {},
   "outputs": [
    {
     "data": {
      "text/html": [
       "45.9"
      ],
      "text/latex": [
       "45.9"
      ],
      "text/markdown": [
       "45.9"
      ],
      "text/plain": [
       "[1] 45.9"
      ]
     },
     "metadata": {},
     "output_type": "display_data"
    },
    {
     "data": {
      "text/html": [
       "10"
      ],
      "text/latex": [
       "10"
      ],
      "text/markdown": [
       "10"
      ],
      "text/plain": [
       "[1] 10"
      ]
     },
     "metadata": {},
     "output_type": "display_data"
    },
    {
     "data": {
      "text/html": [
       "<style>\n",
       ".dl-inline {width: auto; margin:0; padding: 0}\n",
       ".dl-inline>dt, .dl-inline>dd {float: none; width: auto; display: inline-block}\n",
       ".dl-inline>dt::after {content: \":\\0020\"; padding-right: .5ex}\n",
       ".dl-inline>dt:not(:first-of-type) {padding-left: .5ex}\n",
       "</style><dl class=dl-inline><dt>0%</dt><dd>40</dd><dt>25%</dt><dd>41.5</dd><dt>50%</dt><dd>45.5</dd><dt>75%</dt><dd>48.75</dd><dt>100%</dt><dd>56</dd></dl>\n"
      ],
      "text/latex": [
       "\\begin{description*}\n",
       "\\item[0\\textbackslash{}\\%] 40\n",
       "\\item[25\\textbackslash{}\\%] 41.5\n",
       "\\item[50\\textbackslash{}\\%] 45.5\n",
       "\\item[75\\textbackslash{}\\%] 48.75\n",
       "\\item[100\\textbackslash{}\\%] 56\n",
       "\\end{description*}\n"
      ],
      "text/markdown": [
       "0%\n",
       ":   4025%\n",
       ":   41.550%\n",
       ":   45.575%\n",
       ":   48.75100%\n",
       ":   56\n",
       "\n"
      ],
      "text/plain": [
       "   0%   25%   50%   75%  100% \n",
       "40.00 41.50 45.50 48.75 56.00 "
      ]
     },
     "metadata": {},
     "output_type": "display_data"
    },
    {
     "data": {
      "text/html": [
       "45.9"
      ],
      "text/latex": [
       "45.9"
      ],
      "text/markdown": [
       "45.9"
      ],
      "text/plain": [
       "[1] 45.9"
      ]
     },
     "metadata": {},
     "output_type": "display_data"
    },
    {
     "data": {
      "text/html": [
       "10"
      ],
      "text/latex": [
       "10"
      ],
      "text/markdown": [
       "10"
      ],
      "text/plain": [
       "[1] 10"
      ]
     },
     "metadata": {},
     "output_type": "display_data"
    },
    {
     "data": {
      "text/html": [
       "<style>\n",
       ".dl-inline {width: auto; margin:0; padding: 0}\n",
       ".dl-inline>dt, .dl-inline>dd {float: none; width: auto; display: inline-block}\n",
       ".dl-inline>dt::after {content: \":\\0020\"; padding-right: .5ex}\n",
       ".dl-inline>dt:not(:first-of-type) {padding-left: .5ex}\n",
       "</style><dl class=dl-inline><dt>0%</dt><dd>40</dd><dt>25%</dt><dd>41.5</dd><dt>50%</dt><dd>45.5</dd><dt>75%</dt><dd>48.75</dd><dt>100%</dt><dd>56</dd></dl>\n"
      ],
      "text/latex": [
       "\\begin{description*}\n",
       "\\item[0\\textbackslash{}\\%] 40\n",
       "\\item[25\\textbackslash{}\\%] 41.5\n",
       "\\item[50\\textbackslash{}\\%] 45.5\n",
       "\\item[75\\textbackslash{}\\%] 48.75\n",
       "\\item[100\\textbackslash{}\\%] 56\n",
       "\\end{description*}\n"
      ],
      "text/markdown": [
       "0%\n",
       ":   4025%\n",
       ":   41.550%\n",
       ":   45.575%\n",
       ":   48.75100%\n",
       ":   56\n",
       "\n"
      ],
      "text/plain": [
       "   0%   25%   50%   75%  100% \n",
       "40.00 41.50 45.50 48.75 56.00 "
      ]
     },
     "metadata": {},
     "output_type": "display_data"
    },
    {
     "data": {
      "text/html": [
       "45.9"
      ],
      "text/latex": [
       "45.9"
      ],
      "text/markdown": [
       "45.9"
      ],
      "text/plain": [
       "[1] 45.9"
      ]
     },
     "metadata": {},
     "output_type": "display_data"
    },
    {
     "data": {
      "text/html": [
       "10"
      ],
      "text/latex": [
       "10"
      ],
      "text/markdown": [
       "10"
      ],
      "text/plain": [
       "[1] 10"
      ]
     },
     "metadata": {},
     "output_type": "display_data"
    },
    {
     "data": {
      "text/html": [
       "<style>\n",
       ".dl-inline {width: auto; margin:0; padding: 0}\n",
       ".dl-inline>dt, .dl-inline>dd {float: none; width: auto; display: inline-block}\n",
       ".dl-inline>dt::after {content: \":\\0020\"; padding-right: .5ex}\n",
       ".dl-inline>dt:not(:first-of-type) {padding-left: .5ex}\n",
       "</style><dl class=dl-inline><dt>0%</dt><dd>40</dd><dt>25%</dt><dd>41.5</dd><dt>50%</dt><dd>45.5</dd><dt>75%</dt><dd>48.75</dd><dt>100%</dt><dd>56</dd></dl>\n"
      ],
      "text/latex": [
       "\\begin{description*}\n",
       "\\item[0\\textbackslash{}\\%] 40\n",
       "\\item[25\\textbackslash{}\\%] 41.5\n",
       "\\item[50\\textbackslash{}\\%] 45.5\n",
       "\\item[75\\textbackslash{}\\%] 48.75\n",
       "\\item[100\\textbackslash{}\\%] 56\n",
       "\\end{description*}\n"
      ],
      "text/markdown": [
       "0%\n",
       ":   4025%\n",
       ":   41.550%\n",
       ":   45.575%\n",
       ":   48.75100%\n",
       ":   56\n",
       "\n"
      ],
      "text/plain": [
       "   0%   25%   50%   75%  100% \n",
       "40.00 41.50 45.50 48.75 56.00 "
      ]
     },
     "metadata": {},
     "output_type": "display_data"
    },
    {
     "data": {
      "image/png": "[encoded data removed]",
      "text/plain": [
       "plot without title"
      ]
     },
     "metadata": {
      "image/png": {
       "height": 420,
       "width": 420
      },
      "text/plain": {
       "height": 420,
       "width": 420
      }
     },
     "output_type": "display_data"
    }
   ],
   "source": [
    "# caso viernes\n",
    "\n",
    "vie <- c(43, 41, 45, 46, 56, 40, 48, 49, 50, 41)\n",
    "xv <- mean (vie); xv\n",
    "nv <- length(vie); nv\n",
    "quantile(vie)\n",
    "boxplot(vie)\n",
    "\n",
    "\n",
    "vie2 <- c(43, 41, 45, 46, 56, 40, 48, 49, 50, 41)\n",
    "xv <- mean (vie2); xv\n",
    "nv <- length(vie2); nv\n",
    "quantile(vie2)\n",
    "boxplot(vie2)\n",
    "\n",
    "vie3 <- c(43, 41, 45, 46, 56, 40, 48, 49, 50, 41)\n",
    "xv <- mean (vie3); xv\n",
    "nv <- length(vie3); nv\n",
    "quantile(vie3)\n",
    "boxplot(vie3)\n"
   ]
  },
  {
   "cell_type": "markdown",
   "metadata": {},
   "source": [
    "La idea es centralizar los puntos de los datos elimnando los datos atipicos, si se aplica demasiado quitar datos atipicos puede generar el problema de sobre-ajuste y tocaria utilizar mejor otro algoirmot como los de agrupamiento"
   ]
  },
  {
   "cell_type": "code",
   "execution_count": 13,
   "metadata": {},
   "outputs": [
    {
     "data": {
      "text/html": [
       "47.9"
      ],
      "text/latex": [
       "47.9"
      ],
      "text/markdown": [
       "47.9"
      ],
      "text/plain": [
       "[1] 47.9"
      ]
     },
     "metadata": {},
     "output_type": "display_data"
    },
    {
     "data": {
      "text/html": [
       "11.8645129131653"
      ],
      "text/latex": [
       "11.8645129131653"
      ],
      "text/markdown": [
       "11.8645129131653"
      ],
      "text/plain": [
       "[1] 11.86451"
      ]
     },
     "metadata": {},
     "output_type": "display_data"
    },
    {
     "data": {
      "text/html": [
       "<style>\n",
       ".dl-inline {width: auto; margin:0; padding: 0}\n",
       ".dl-inline>dt, .dl-inline>dd {float: none; width: auto; display: inline-block}\n",
       ".dl-inline>dt::after {content: \":\\0020\"; padding-right: .5ex}\n",
       ".dl-inline>dt:not(:first-of-type) {padding-left: .5ex}\n",
       "</style><dl class=dl-inline><dt>0%</dt><dd>29</dd><dt>25%</dt><dd>43</dd><dt>50%</dt><dd>45</dd><dt>75%</dt><dd>55.25</dd><dt>100%</dt><dd>66</dd></dl>\n"
      ],
      "text/latex": [
       "\\begin{description*}\n",
       "\\item[0\\textbackslash{}\\%] 29\n",
       "\\item[25\\textbackslash{}\\%] 43\n",
       "\\item[50\\textbackslash{}\\%] 45\n",
       "\\item[75\\textbackslash{}\\%] 55.25\n",
       "\\item[100\\textbackslash{}\\%] 66\n",
       "\\end{description*}\n"
      ],
      "text/markdown": [
       "0%\n",
       ":   2925%\n",
       ":   4350%\n",
       ":   4575%\n",
       ":   55.25100%\n",
       ":   66\n",
       "\n"
      ],
      "text/plain": [
       "   0%   25%   50%   75%  100% \n",
       "29.00 43.00 45.00 55.25 66.00 "
      ]
     },
     "metadata": {},
     "output_type": "display_data"
    },
    {
     "data": {
      "text/html": [
       "3.7518884134082"
      ],
      "text/latex": [
       "3.7518884134082"
      ],
      "text/markdown": [
       "3.7518884134082"
      ],
      "text/plain": [
       "[1] 3.751888"
      ]
     },
     "metadata": {},
     "output_type": "display_data"
    },
    {
     "data": {
      "text/html": [
       "2.2621571627982"
      ],
      "text/latex": [
       "2.2621571627982"
      ],
      "text/markdown": [
       "2.2621571627982"
      ],
      "text/plain": [
       "[1] 2.262157"
      ]
     },
     "metadata": {},
     "output_type": "display_data"
    },
    {
     "data": {
      "text/html": [
       "'Se esperaria que los luens las transacciones esten entre el limite inferior y superior'"
      ],
      "text/latex": [
       "'Se esperaria que los luens las transacciones esten entre el limite inferior y superior'"
      ],
      "text/markdown": [
       "'Se esperaria que los luens las transacciones esten entre el limite inferior y superior'"
      ],
      "text/plain": [
       "[1] \"Se esperaria que los luens las transacciones esten entre el limite inferior y superior\""
      ]
     },
     "metadata": {},
     "output_type": "display_data"
    },
    {
     "data": {
      "text/html": [
       "56.3873612484109"
      ],
      "text/latex": [
       "56.3873612484109"
      ],
      "text/markdown": [
       "56.3873612484109"
      ],
      "text/plain": [
       "[1] 56.38736"
      ]
     },
     "metadata": {},
     "output_type": "display_data"
    },
    {
     "data": {
      "text/html": [
       "39.4126387515891"
      ],
      "text/latex": [
       "39.4126387515891"
      ],
      "text/markdown": [
       "39.4126387515891"
      ],
      "text/plain": [
       "[1] 39.41264"
      ]
     },
     "metadata": {},
     "output_type": "display_data"
    },
    {
     "data": {
      "image/png": "[encoded data removed]",
      "text/plain": [
       "plot without title"
      ]
     },
     "metadata": {
      "image/png": {
       "height": 420,
       "width": 420
      },
      "text/plain": {
       "height": 420,
       "width": 420
      }
     },
     "output_type": "display_data"
    }
   ],
   "source": [
    "## Esta es la versión corregida quitando algunos datos de acuerdo al resultaod anterior\n",
    "lun2<- c(45,43, 43, 66, 53, 35, 45, 29, 64, 56)\n",
    "xl <- mean(lun2); xl\n",
    "nl <- length(lun2);\n",
    "sl <- sd(lun2); sl\n",
    "quantile(lun2)\n",
    "boxplot(lun2)\n",
    "\n",
    "se_l <- sl/sqrt(nl); se_l\n",
    "\n",
    "t_alfa <- qt(p=0.95+0.05/2, df=9, lower.tail=TRUE)\n",
    "t_alfa\n",
    "\n",
    "sprintf(\"Se esperaria que los luens las transacciones esten entre el limite inferior y superior\")\n",
    "lim_sup <- xl + (t_alfa*se_l); lim_sup\n",
    "lim_inf <- xl - (t_alfa*se_l); lim_inf\n"
   ]
  },
  {
   "cell_type": "markdown",
   "metadata": {},
   "source": [
    "# Y la prueba de hipotesis?\n",
    "1. Hipoteis nula $H_{0}$ $\\mu = \\mu _{0}$\n",
    "2. Hipotesis alternativa\n",
    "    * Prueba de una cola\n",
    "    $H_{a} : \\mu > \\mu _{0}$\n",
    "    $(0, H_{a} : \\mu < \\mu _{0})$\n",
    "    * Prueba de dos colas\n",
    "    $H_{a} : \\mu \\neq \\mu _{0}$\n",
    "    \n",
    "# Inferencia en una muestra pequeña\n",
    "Región de rechazo, rechazar $H_{0}$ cuando\n",
    "* Prueba de una cola\n",
    "$t > t_{0}$\n",
    "\n",
    "# Intervalos de confianza\n",
    "Para una muestra pequeña el intervalo de confianza es el intervalo donde los valores\n",
    "\n",
    "\n",
    "## Ejercicio\n",
    "La duración de la capacitación de 20 empleados en una plataforma en linea es:\n",
    "\n",
    "|dato1|dato2|dato3|dato4|\n",
    "|:-:|:-:|:-:|:-:|\n",
    "\n",
    "\n",
    "\n",
    "\n",
    "Encontrar la estimación de la medida poblacional del tiempo requerido para que los empleados completen la capacitación. Se tiene la idea de que los empleados completan su capacitación en al menos 52 dias, será esto cierto?"
   ]
  }
 ],
 "metadata": {
  "kernelspec": {
   "display_name": "R",
   "language": "R",
   "name": "ir"
  },
  "language_info": {
   "codemirror_mode": "r",
   "file_extension": ".r",
   "mimetype": "text/x-r-source",
   "name": "R",
   "pygments_lexer": "r",
   "version": "3.6.3"
  }
 },
 "nbformat": 4,
 "nbformat_minor": 4
}
