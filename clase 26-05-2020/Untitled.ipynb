{
 "cells": [
  {
   "cell_type": "markdown",
   "metadata": {},
   "source": [
    "# Error de dos colas\n"
   ]
  },
  {
   "cell_type": "code",
   "execution_count": 1,
   "metadata": {},
   "outputs": [
    {
     "ename": "ERROR",
     "evalue": "Error in eval(expr, envir, enclos): objeto 'miu_m' no encontrado\n",
     "output_type": "error",
     "traceback": [
      "Error in eval(expr, envir, enclos): objeto 'miu_m' no encontrado\nTraceback:\n"
     ]
    },
    {
     "ename": "ERROR",
     "evalue": "Error in eval(expr, envir, enclos): objeto 'zb' no encontrado\n",
     "output_type": "error",
     "traceback": [
      "Error in eval(expr, envir, enclos): objeto 'zb' no encontrado\nTraceback:\n"
     ]
    }
   ],
   "source": [
    "miu <-\n",
    "z <- (116)\n",
    "\n",
    "\n",
    "zb <- (698.55- miu_m) / (102 / sqrt(40));zb\n",
    "\n",
    "## Limite superior\n",
    "lim_inf <- qnorm(0.95); lim_sup\n",
    "lim_inf <- qnorm(0.95); lim_inf\n",
    "\n",
    "#curve\n",
    "\n"
   ]
  },
  {
   "cell_type": "markdown",
   "metadata": {},
   "source": [
    "## Error tipo 2 en pruebas de dos colas\n",
    "Si se trata de una prueba de dos colas el procedimiento es similar\n",
    "\n",
    "Se tiene un lote de guadua que se emplerará en una construcción, es necesario que la longitud...\n",
    "\n",
    "En este caso lo deseable es que el valor medio sea de 5 metros, pero se debe rechazar un lote que no cumpla las dimensiones aproximadas a la medida necesaria, se plantea entonces la prueba de hipótesis de la siguiente manera:\n",
    "\n",
    "$H_{o} \\mu =5.0 H_{a} \\mu \\neq 5.0$\n",
    "\n",
    "Es decir que lo deseable es que se tenga una medida de 5m y rechazar valores que estén lejos de este valor medio. El error tipo 2 en este caso...\n",
    "\n",
    "Se tiene $\\mu =5, \\sigma = 0.25, n=10, z_{\\alpha / 2}=Z_{0.03}=1.88$ al tratarse de una prueba de dos colas es posible encontrar el valor simétrico del limite.\n",
    "\n",
    "$\\bar{x}=\\pm \\frac{Z_{\\alpha / 2} \\sigma}{\\sqrt{n}}=5+\\frac{(-1.88)(0.25)}{\\sqrt{10}}=4.851$\n",
    "\n",
    "$\\bar{x}=5-\\frac{(1.88)(0.25)}{\\sqrt{10}}=5.148$\n",
    "\n",
    "\n",
    "Se generan dos valores Z limites, a izquierda y derecha\n",
    "\n",
    "$Z_{i}=\\frac{4.851-\\mu}{0.25/\\sqrt{10}}$ \n",
    "\n",
    "$Z_{d}=\\frac{5.148-\\mu}{0.25/\\sqrt{10}}$\n",
    "\n",
    "Generamos valores para mabos limites, a izquierda: 4.9, 4.8, 4.7, 4.6; a derecha 5.1, 5.2, 5.3, 5.4\n"
   ]
  },
  {
   "cell_type": "code",
   "execution_count": 12,
   "metadata": {},
   "outputs": [
    {
     "data": {
      "text/html": [
       "-1.88079360815125"
      ],
      "text/latex": [
       "-1.88079360815125"
      ],
      "text/markdown": [
       "-1.88079360815125"
      ],
      "text/plain": [
       "[1] -1.880794"
      ]
     },
     "metadata": {},
     "output_type": "display_data"
    },
    {
     "data": {
      "text/html": [
       "4.8513102097389"
      ],
      "text/latex": [
       "4.8513102097389"
      ],
      "text/markdown": [
       "4.8513102097389"
      ],
      "text/plain": [
       "[1] 4.85131"
      ]
     },
     "metadata": {},
     "output_type": "display_data"
    },
    {
     "data": {
      "text/html": [
       "5.1486897902611"
      ],
      "text/latex": [
       "5.1486897902611"
      ],
      "text/markdown": [
       "5.1486897902611"
      ],
      "text/plain": [
       "[1] 5.14869"
      ]
     },
     "metadata": {},
     "output_type": "display_data"
    },
    {
     "data": {
      "text/html": [
       "<style>\n",
       ".list-inline {list-style: none; margin:0; padding: 0}\n",
       ".list-inline>li {display: inline-block}\n",
       ".list-inline>li:not(:last-child)::after {content: \"\\00b7\"; padding: 0 .5ex}\n",
       "</style>\n",
       "<ol class=list-inline><li>4.9</li><li>4.8</li><li>4.75</li><li>4.7</li><li>4.65</li><li>4.6</li></ol>\n"
      ],
      "text/latex": [
       "\\begin{enumerate*}\n",
       "\\item 4.9\n",
       "\\item 4.8\n",
       "\\item 4.75\n",
       "\\item 4.7\n",
       "\\item 4.65\n",
       "\\item 4.6\n",
       "\\end{enumerate*}\n"
      ],
      "text/markdown": [
       "1. 4.9\n",
       "2. 4.8\n",
       "3. 4.75\n",
       "4. 4.7\n",
       "5. 4.65\n",
       "6. 4.6\n",
       "\n",
       "\n"
      ],
      "text/plain": [
       "[1] 4.90 4.80 4.75 4.70 4.65 4.60"
      ]
     },
     "metadata": {},
     "output_type": "display_data"
    },
    {
     "data": {
      "text/html": [
       "<style>\n",
       ".list-inline {list-style: none; margin:0; padding: 0}\n",
       ".list-inline>li {display: inline-block}\n",
       ".list-inline>li:not(:last-child)::after {content: \"\\00b7\"; padding: 0 .5ex}\n",
       "</style>\n",
       "<ol class=list-inline><li>-0.619806421393007</li><li>0.645104642674351</li><li>1.27756017470802</li><li>1.9100157067417</li><li>2.54247123877537</li><li>3.17492677080906</li></ol>\n"
      ],
      "text/latex": [
       "\\begin{enumerate*}\n",
       "\\item -0.619806421393007\n",
       "\\item 0.645104642674351\n",
       "\\item 1.27756017470802\n",
       "\\item 1.9100157067417\n",
       "\\item 2.54247123877537\n",
       "\\item 3.17492677080906\n",
       "\\end{enumerate*}\n"
      ],
      "text/markdown": [
       "1. -0.619806421393007\n",
       "2. 0.645104642674351\n",
       "3. 1.27756017470802\n",
       "4. 1.9100157067417\n",
       "5. 2.54247123877537\n",
       "6. 3.17492677080906\n",
       "\n",
       "\n"
      ],
      "text/plain": [
       "[1] -0.6198064  0.6451046  1.2775602  1.9100157  2.5424712  3.1749268"
      ]
     },
     "metadata": {},
     "output_type": "display_data"
    },
    {
     "data": {
      "text/html": [
       "<style>\n",
       ".list-inline {list-style: none; margin:0; padding: 0}\n",
       ".list-inline>li {display: inline-block}\n",
       ".list-inline>li:not(:last-child)::after {content: \"\\00b7\"; padding: 0 .5ex}\n",
       "</style>\n",
       "<ol class=list-inline><li>0.267692620265284</li><li>0.740570312286495</li><li>0.899297724830082</li><li>0.971934404488405</li><li>0.994496417013291</li><li>0.999250628405274</li></ol>\n"
      ],
      "text/latex": [
       "\\begin{enumerate*}\n",
       "\\item 0.267692620265284\n",
       "\\item 0.740570312286495\n",
       "\\item 0.899297724830082\n",
       "\\item 0.971934404488405\n",
       "\\item 0.994496417013291\n",
       "\\item 0.999250628405274\n",
       "\\end{enumerate*}\n"
      ],
      "text/markdown": [
       "1. 0.267692620265284\n",
       "2. 0.740570312286495\n",
       "3. 0.899297724830082\n",
       "4. 0.971934404488405\n",
       "5. 0.994496417013291\n",
       "6. 0.999250628405274\n",
       "\n",
       "\n"
      ],
      "text/plain": [
       "[1] 0.2676926 0.7405703 0.8992977 0.9719344 0.9944964 0.9992506"
      ]
     },
     "metadata": {},
     "output_type": "display_data"
    },
    {
     "data": {
      "text/html": [
       "<style>\n",
       ".list-inline {list-style: none; margin:0; padding: 0}\n",
       ".list-inline>li {display: inline-block}\n",
       ".list-inline>li:not(:last-child)::after {content: \"\\00b7\"; padding: 0 .5ex}\n",
       "</style>\n",
       "<ol class=list-inline><li>0.732307379734716</li><li>0.259429687713505</li><li>0.100702275169918</li><li>0.028065595511595</li><li>0.00550358298670917</li><li>0.000749371594725656</li></ol>\n"
      ],
      "text/latex": [
       "\\begin{enumerate*}\n",
       "\\item 0.732307379734716\n",
       "\\item 0.259429687713505\n",
       "\\item 0.100702275169918\n",
       "\\item 0.028065595511595\n",
       "\\item 0.00550358298670917\n",
       "\\item 0.000749371594725656\n",
       "\\end{enumerate*}\n"
      ],
      "text/markdown": [
       "1. 0.732307379734716\n",
       "2. 0.259429687713505\n",
       "3. 0.100702275169918\n",
       "4. 0.028065595511595\n",
       "5. 0.00550358298670917\n",
       "6. 0.000749371594725656\n",
       "\n",
       "\n"
      ],
      "text/plain": [
       "[1] 0.7323073797 0.2594296877 0.1007022752 0.0280655955 0.0055035830\n",
       "[6] 0.0007493716"
      ]
     },
     "metadata": {},
     "output_type": "display_data"
    },
    {
     "data": {
      "text/html": [
       "<style>\n",
       ".list-inline {list-style: none; margin:0; padding: 0}\n",
       ".list-inline>li {display: inline-block}\n",
       ".list-inline>li:not(:last-child)::after {content: \"\\00b7\"; padding: 0 .5ex}\n",
       "</style>\n",
       "<ol class=list-inline><li>5.15</li><li>5.2</li><li>5.25</li><li>5.3</li><li>5.35</li><li>5.34</li></ol>\n"
      ],
      "text/latex": [
       "\\begin{enumerate*}\n",
       "\\item 5.15\n",
       "\\item 5.2\n",
       "\\item 5.25\n",
       "\\item 5.3\n",
       "\\item 5.35\n",
       "\\item 5.34\n",
       "\\end{enumerate*}\n"
      ],
      "text/markdown": [
       "1. 5.15\n",
       "2. 5.2\n",
       "3. 5.25\n",
       "4. 5.3\n",
       "5. 5.35\n",
       "6. 5.34\n",
       "\n",
       "\n"
      ],
      "text/plain": [
       "[1] 5.15 5.20 5.25 5.30 5.35 5.34"
      ]
     },
     "metadata": {},
     "output_type": "display_data"
    },
    {
     "data": {
      "text/html": [
       "<style>\n",
       ".list-inline {list-style: none; margin:0; padding: 0}\n",
       ".list-inline>li {display: inline-block}\n",
       ".list-inline>li:not(:last-child)::after {content: \"\\00b7\"; padding: 0 .5ex}\n",
       "</style>\n",
       "<ol class=list-inline><li>-0.0252982212813555</li><li>-0.657753753315029</li><li>-1.2902092853487</li><li>-1.92266481738238</li><li>-2.55512034941605</li><li>-2.42862924300932</li></ol>\n"
      ],
      "text/latex": [
       "\\begin{enumerate*}\n",
       "\\item -0.0252982212813555\n",
       "\\item -0.657753753315029\n",
       "\\item -1.2902092853487\n",
       "\\item -1.92266481738238\n",
       "\\item -2.55512034941605\n",
       "\\item -2.42862924300932\n",
       "\\end{enumerate*}\n"
      ],
      "text/markdown": [
       "1. -0.0252982212813555\n",
       "2. -0.657753753315029\n",
       "3. -1.2902092853487\n",
       "4. -1.92266481738238\n",
       "5. -2.55512034941605\n",
       "6. -2.42862924300932\n",
       "\n",
       "\n"
      ],
      "text/plain": [
       "[1] -0.02529822 -0.65775375 -1.29020929 -1.92266482 -2.55512035 -2.42862924"
      ]
     },
     "metadata": {},
     "output_type": "display_data"
    },
    {
     "data": {
      "text/html": [
       "<style>\n",
       ".list-inline {list-style: none; margin:0; padding: 0}\n",
       ".list-inline>li {display: inline-block}\n",
       ".list-inline>li:not(:last-child)::after {content: \"\\00b7\"; padding: 0 .5ex}\n",
       "</style>\n",
       "<ol class=list-inline><li>0.847388752586147</li><li>0.951316410360678</li><li>0.988995406286959</li><li>0.998264750549601</li><li>0.99981109694189</li><li>0.999696681189505</li></ol>\n"
      ],
      "text/latex": [
       "\\begin{enumerate*}\n",
       "\\item 0.847388752586147\n",
       "\\item 0.951316410360678\n",
       "\\item 0.988995406286959\n",
       "\\item 0.998264750549601\n",
       "\\item 0.99981109694189\n",
       "\\item 0.999696681189505\n",
       "\\end{enumerate*}\n"
      ],
      "text/markdown": [
       "1. 0.847388752586147\n",
       "2. 0.951316410360678\n",
       "3. 0.988995406286959\n",
       "4. 0.998264750549601\n",
       "5. 0.99981109694189\n",
       "6. 0.999696681189505\n",
       "\n",
       "\n"
      ],
      "text/plain": [
       "[1] 0.8473888 0.9513164 0.9889954 0.9982648 0.9998111 0.9996967"
      ]
     },
     "metadata": {},
     "output_type": "display_data"
    },
    {
     "data": {
      "text/html": [
       "<style>\n",
       ".list-inline {list-style: none; margin:0; padding: 0}\n",
       ".list-inline>li {display: inline-block}\n",
       ".list-inline>li:not(:last-child)::after {content: \"\\00b7\"; padding: 0 .5ex}\n",
       "</style>\n",
       "<ol class=list-inline><li>0.152611247413853</li><li>0.048683589639322</li><li>0.011004593713041</li><li>0.00173524945039905</li><li>0.000188903058109591</li><li>0.000303318810495057</li></ol>\n"
      ],
      "text/latex": [
       "\\begin{enumerate*}\n",
       "\\item 0.152611247413853\n",
       "\\item 0.048683589639322\n",
       "\\item 0.011004593713041\n",
       "\\item 0.00173524945039905\n",
       "\\item 0.000188903058109591\n",
       "\\item 0.000303318810495057\n",
       "\\end{enumerate*}\n"
      ],
      "text/markdown": [
       "1. 0.152611247413853\n",
       "2. 0.048683589639322\n",
       "3. 0.011004593713041\n",
       "4. 0.00173524945039905\n",
       "5. 0.000188903058109591\n",
       "6. 0.000303318810495057\n",
       "\n",
       "\n"
      ],
      "text/plain": [
       "[1] 0.1526112474 0.0486835896 0.0110045937 0.0017352495 0.0001889031\n",
       "[6] 0.0003033188"
      ]
     },
     "metadata": {},
     "output_type": "display_data"
    },
    {
     "data": {
      "image/png": "[encoded data removed]",
      "text/plain": [
       "Plot with title \"Probabilidad de rechazar acertadmaente Ho por izquierda\""
      ]
     },
     "metadata": {
      "image/png": {
       "height": 420,
       "width": 420
      },
      "text/plain": {
       "height": 420,
       "width": 420
      }
     },
     "output_type": "display_data"
    },
    {
     "data": {
      "image/png": "[encoded data removed]",
      "text/plain": [
       "Plot with title \"Probalidad de rechazar por la derecha\""
      ]
     },
     "metadata": {
      "image/png": {
       "height": 420,
       "width": 420
      },
      "text/plain": {
       "height": 420,
       "width": 420
      }
     },
     "output_type": "display_data"
    }
   ],
   "source": [
    "# Error tipo 2 colas\n",
    "qnorm(0.03)\n",
    "lmiz <- 5 + ((qnorm(0.03)*(0.25)) / sqrt(10));lmiz\n",
    "lmde <- 5 - ((qnorm(0.03)*(0.25)) / sqrt(10));lmde\n",
    "\n",
    "mediz <- c(4.9, 4.8, 4.75, 4.7, 4.65, 4.6);mediz\n",
    "\n",
    "z_mediz <- (4.851 - mediz) / (0.25/sqrt(10));z_mediz\n",
    "\n",
    "# Probabilidad por la izquierda de rechazar acertadamente de NO Cometer error tipo 2, el valor beta\n",
    "prob_biz <- pnorm(z_mediz);prob_biz\n",
    "\n",
    "pot_biz <- 1-prob_biz;pot_biz\n",
    "\n",
    "plot(mediz, prob_biz, main=\"Probabilidad de rechazar acertadmaente Ho por izquierda\", type=\"o\")\n",
    "\n",
    "\n",
    "medde <- c(5.15, 5.2, 5.25, 5.3, 5.35, 5.34); medde\n",
    "z_medde <- (5.148 - medde) / (0.25/sqrt(10));z_medde\n",
    "\n",
    "# Probabilidad por la izquierda de rechazar acertadamente de NO Cometer error tipo 2, el valor beta\n",
    "prob_bde <- pnorm (1-z_medde);prob_bde\n",
    "pot_bde <- 1-prob_bde; pot_bde\n",
    "plot(medde, prob_bde, main=\"Probalidad de rechazar por la derecha\", type=\"o\")\n"
   ]
  },
  {
   "cell_type": "code",
   "execution_count": 13,
   "metadata": {},
   "outputs": [],
   "source": [
    "# Observar limite a la izquierda\n",
    "\n",
    "#\n",
    "lim_sup <- qnorm(0.97)\n",
    "curve(dnom(x,0,1), xlim=c(-3, 3), las=)\n",
    "\n",
    "lim_inf"
   ]
  },
  {
   "cell_type": "code",
   "execution_count": null,
   "metadata": {},
   "outputs": [],
   "source": [
    "#### Copiar de la clase\n",
    "### Funcion grafica de limites\n",
    "#Grafica <- function(alfa){\n",
    "#    lim_sup <- qnorm(alfa)\n",
    "#    curve(dnorm(x,0,1), xlim = c(3,3), las=1, main=c(\"Probabilidad:\", round(lim_inf,2)))\n",
    "#    \n",
    "#    cord.x <- c(lim_inf, seq(lim_sup, 0.01), 3);\n",
    "#    cord.y <-c(0, dnorm(seq(lim_inf, 3)))\n",
    "#}\n",
    "# Esto grafica prubas inferior, superior y de dos colas mostrando el limite de las graficas\n",
    "\n"
   ]
  }
 ],
 "metadata": {
  "kernelspec": {
   "display_name": "R",
   "language": "R",
   "name": "ir"
  },
  "language_info": {
   "codemirror_mode": "r",
   "file_extension": ".r",
   "mimetype": "text/x-r-source",
   "name": "R",
   "pygments_lexer": "r",
   "version": "3.6.3"
  }
 },
 "nbformat": 4,
 "nbformat_minor": 4
}
