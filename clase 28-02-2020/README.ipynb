{
 "cells": [
  {
   "cell_type": "markdown",
   "metadata": {},
   "source": [
    "# Probabilidades\n",
    "\n",
    "## Probabilidad de un evento\n",
    "\n",
    "** Probabilidad:** Forma o método para cuantificar la aleatoriedad, la probabilidad p de un evneto A se define como:\n",
    "\n",
    "<img src=\"https://latex.codecogs.com/png.latex?\\huge&space;p=P(A))=\\frac{s}{n}\" title=\"\\huge p=P(A))=\\frac{s}{n}\" />\n",
    "\n",
    "Donde **s** es las veces que puede ocurrir el evento A entre **n** posibles.\n",
    "\n",
    "El conjunto **S** de todos los resultados posibles de un experimento es llamado espacio muestral, es decir es el \"espacio\" de donde aplica la probabilidad o que puede indiciar en si, el que son los datos.\n",
    "\n",
    "La probabilidad de este caso puede darse a razón del conjunto de datos de un dato **s** contra el total de datos **n**\n",
    "\n",
    "### Hecho de la probabilidad\n",
    "La probabilidad de cierto evento se puede encontrar calculando la frecuencia relativa de la ocurrencia del evento, una probabilidad va siempre de 0 a 1.\n",
    "\n",
    "## Axiomas de la probabilidad\n",
    "* La probabilidad de que algo que no existe o no hay (un conjunto vacio) es cero.\n",
    "<img src=\"https://latex.codecogs.com/png.latex?\\huge&space;P(\\oslash)=0\" title=\"\\huge P(\\oslash)=0\" />\n",
    "\n",
    "* La unión de varias probabilidades es igual a la suma de las probabilidades restando su intersección, para probabilidades mutuamente excluyentes su intersección es 0\n",
    "<img src=\"https://latex.codecogs.com/png.latex?\\huge&space;P(A\\cup&space;B)=P(A)&plus;P(B)-P(A\\cap&space;B)\" title=\"\\huge P(A\\cup B)=P(A)+P(B)-P(A\\cap B)\" />\n",
    "\n",
    "* Si una probabilidad contiene a otra entonces La probabilidad contenedora es inferior a la probabilidad que contiene\n",
    "<img src=\"https://latex.codecogs.com/png.latex?\\huge&space;B\\subset&space;A\" title=\"\\huge B\\subset A\" /> entonces <img src=\"https://latex.codecogs.com/png.latex?\\huge&space;P(B)\\leq&space;P(A)\" title=\"\\huge P(B)\\leq P(A)\" />\n",
    "\n",
    "de hecho <img src=\"https://latex.codecogs.com/png.latex?\\huge&space;P(A-B)=P(A)-P(B)\" title=\"\\huge P(A-B)=P(A)-P(B)\" />\n",
    "\n",
    "* La unión de las probabilidades es menor que la suma de probabilidades\n",
    "<img src=\"https://latex.codecogs.com/png.latex?\\dpi{200}&space;P(A\\cup&space;B)\\leq&space;P(A)&plus;P(B)-P(A\\cap&space;B)\\leq&space;P(A)&plus;P(B)\" title=\"P(A\\cup B)\\leq P(A)+P(B)-P(A\\cap B)\\leq P(A)+P(B)\" />\n",
    "\n",
    "## Probabilidades en la perspectiva de conjuntos\n",
    "* La unión es la probabilidad de que ocurra uno de los 2 o ambos\n",
    "* La intersección es la probabilidad de que ocurran ambos\n",
    "* el complemento de un suceso es que ocurra el suceso\n",
    "* La diferencia de dos sucesos es que ocurra uno pero no el restado\n",
    "\n",
    "## Eventos dependientes o independientes\n",
    "Cuando dos conjuntos comparten resultados en su espacio muestral se dice qeu son dependientes\n",
    "Cuando dos conjuntos **no comparten** resultados sobre un espacio muestral se dice que son independientes o disjuntos\n",
    "Cuando multiples eventos al ocurrir cubren en su totalidad el espacio muestral se les llama colectivmaente exhaustivos, es decir datos \"filtrados\"\n",
    "\n",
    "## Tipos de muestras\n",
    "* **Permutación** muestras ordenas de tamaño r:\n",
    "<img src=\"https://latex.codecogs.com/png.latex?\\huge&space;_{n}^{r}\\textrm{P}=\\frac{n!}{(n-r)!}\" title=\"\\huge _{n}^{r}\\textrm{P}=\\frac{n!}{(n-r)!}\" />\n",
    "* **Combinación:** Muestras sin ordenar de tamaños r:\n",
    "<img src=\"https://latex.codecogs.com/png.latex?\\huge&space;\\binom{n}{r}=_{r}^{n}\\textrm{C}=\\frac{n!}{r!(n-r)!}\" title=\"\\huge \\binom{n}{r}=_{r}^{n}\\textrm{C}=\\frac{n!}{r!(n-r)!}\" />\n",
    "\n",
    "\n",
    "\n"
   ]
  },
  {
   "cell_type": "code",
   "execution_count": null,
   "metadata": {},
   "outputs": [],
   "source": []
  }
 ],
 "metadata": {
  "kernelspec": {
   "display_name": "R",
   "language": "R",
   "name": "ir"
  },
  "language_info": {
   "codemirror_mode": "r",
   "file_extension": ".r",
   "mimetype": "text/x-r-source",
   "name": "R",
   "pygments_lexer": "r",
   "version": "3.6.2"
  }
 },
 "nbformat": 4,
 "nbformat_minor": 2
}
