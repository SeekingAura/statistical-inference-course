{
 "cells": [
  {
   "cell_type": "markdown",
   "metadata": {},
   "source": [
    "# Actividad\n",
    "## Obtención de los datos\n",
    "Primero se debe obtenerse el dataset para ello se \"descarga\" el csv y es almacenado como dataframe"
   ]
  },
  {
   "cell_type": "code",
   "execution_count": null,
   "metadata": {},
   "outputs": [],
   "source": [
    "# Get data set from web\n",
    "grad_upct <- read.csv(\"https://www.datos.gov.co/api/views/ha9e-e48s/rows.csv?accessType=DOWNLOAD\")"
   ]
  },
  {
   "cell_type": "markdown",
   "metadata": {},
   "source": [
    "## Conocer que datos hay en el conjunto\n",
    "Para realizar estudio sobre un conjunto de datos, es necesario conocer que es lo que hay en estos datos, para ello por medio de R se puede obtener cierta información basica que facilita establecer que se puede analizar.\n",
    "\n",
    "### Dimensión de los datos\n",
    "Los agrupamiento de datos tienen una estructura tabla similar al SQL, donde cada fila de la tabla es un dato y cada columna es partes del dato, para obtener esa cantidad se utiliza la función **dim**\n",
    "\n",
    "\n"
   ]
  },
  {
   "cell_type": "code",
   "execution_count": null,
   "metadata": {},
   "outputs": [],
   "source": [
    "# Get data set from web\n",
    "grad_upct <- read.csv(\"https://www.datos.gov.co/api/views/ha9e-e48s/rows.csv?accessType=DOWNLOAD\")\n",
    "\n",
    "# Get quantity of dataset row, col\n",
    "sprintf('Dimensión de los datos [Filas, columnas]:')\n",
    "dim(grad_upct)\n",
    "\n",
    "\n",
    "\n"
   ]
  },
  {
   "cell_type": "markdown",
   "metadata": {},
   "source": [
    "### Obtener las llaves de las columnas (nombres, etiquetas)\n",
    "Cada columna de la tabla del dataframe contiene una parte del dato, toda la fila está compuesta por 1 dato en cada columna, los nombre de las columnas permite identificar que datos contienem estos se obtienen con **columname**"
   ]
  },
  {
   "cell_type": "code",
   "execution_count": null,
   "metadata": {},
   "outputs": [],
   "source": [
    "# Get data set from web\n",
    "grad_upct <- read.csv(\"https://www.datos.gov.co/api/views/ha9e-e48s/rows.csv?accessType=DOWNLOAD\")\n",
    "\n",
    "sprintf('Columnas en el dataframe:')\n",
    "# Get column names from dataframe\n",
    "columname(grad_upct)"
   ]
  },
  {
   "cell_type": "markdown",
   "metadata": {},
   "source": [
    "## Extraer los datos que se utilizarán para el analisis\n",
    "Para un analisis no siempre suele utilizarse todos los datos que contiene, solo unos en especifico que tengan alguna relación permite analizar, lo cual son separados del dataframe completo. En este caso el analisi a realizar es sobre la frecuencia de graduados por programa y solamente los graduados de pregrado\n",
    "\n",
    "### Extrayendo los programas y listar todos los diferentes que hay\n",
    "Conociendo los datos que hay se establece que analisis que se desea realizar, en este caso en particular se filtrará por el nombre de carrera donde se separará la variable **NOMBRE_PROGRAMA** en un vector o contenedor aparte por medio del operador **$** de R (los datos con esa unica columna) y se listarán todos los diferentes programas que hay esa columna con la función **levels**"
   ]
  },
  {
   "cell_type": "code",
   "execution_count": null,
   "metadata": {},
   "outputs": [],
   "source": [
    "# Get data set from web\n",
    "grad_upct <- read.csv(\"https://www.datos.gov.co/api/views/ha9e-e48s/rows.csv?accessType=DOWNLOAD\")\n",
    "\n",
    "# Get data \"NOMBRE_PROGRAMA\" from dataframe, this are name of graduated program\n",
    "nomb_prog <- grad_upct$NOMBRE_PROGRAMA\n",
    "\n",
    "sprintf('Programas de los que hay al menos 1 graduado:')\n",
    "# Show different programs that are graduated\n",
    "levels(nomb_prog)"
   ]
  },
  {
   "cell_type": "markdown",
   "metadata": {},
   "source": [
    "### Filtrar los programas a solo los de pregrado\n",
    "En los programas de los que se han graduado hay carreras de post-grado, las carreras que son de post-grado en general son Maestrias, doctorados y especializaciones por ende las carreras que contengan eso en su nombre serán las que se debe excluir, para ello se obtiene un vector de boleanos con la función **str_detect** de la libreria **stringr** el cual busca en cada dato que sea cadena de caracteres si cumple con la expresión regular dada dejando **TRUE** si coincide y **FALSE** si no coincide, este vector funcionará como llave para \"filtrar\" los datos y quitar todas las carreras de posgrado dejando las de pregrado unicamente.\n",
    "\n",
    "Este vector funcionará como **llave** (key) para remover los datos que no coincidan con el orden de este vector, dejadno unicamente datos de los de pregrado, como los analisis a realizar requieren la nota y la facultad de donde provienen a estas columnas se le aplica el uso de la llave obtenida."
   ]
  },
  {
   "cell_type": "code",
   "execution_count": 3,
   "metadata": {},
   "outputs": [
    {
     "data": {
      "text/html": [
       "'Total de estudiantes graduados de pregrado y posgrado:'"
      ],
      "text/latex": [
       "'Total de estudiantes graduados de pregrado y posgrado:'"
      ],
      "text/markdown": [
       "'Total de estudiantes graduados de pregrado y posgrado:'"
      ],
      "text/plain": [
       "[1] \"Total de estudiantes graduados de pregrado y posgrado:\""
      ]
     },
     "metadata": {},
     "output_type": "display_data"
    },
    {
     "data": {
      "text/html": [
       "5576"
      ],
      "text/latex": [
       "5576"
      ],
      "text/markdown": [
       "5576"
      ],
      "text/plain": [
       "[1] 5576"
      ]
     },
     "metadata": {},
     "output_type": "display_data"
    },
    {
     "data": {
      "text/html": [
       "'Total de estudiantes de graduados pregrado:'"
      ],
      "text/latex": [
       "'Total de estudiantes de graduados pregrado:'"
      ],
      "text/markdown": [
       "'Total de estudiantes de graduados pregrado:'"
      ],
      "text/plain": [
       "[1] \"Total de estudiantes de graduados pregrado:\""
      ]
     },
     "metadata": {},
     "output_type": "display_data"
    },
    {
     "data": {
      "text/html": [
       "3345"
      ],
      "text/latex": [
       "3345"
      ],
      "text/markdown": [
       "3345"
      ],
      "text/plain": [
       "[1] 3345"
      ]
     },
     "metadata": {},
     "output_type": "display_data"
    }
   ],
   "source": [
    "# Get data set from web\n",
    "grad_upct <- read.csv(\"https://www.datos.gov.co/api/views/ha9e-e48s/rows.csv?accessType=DOWNLOAD\")\n",
    "\n",
    "## Process for separate pregrade and posgrade\n",
    "# Include library for str_detect for exclude post-grades\n",
    "library(stringr)\n",
    "\n",
    "# Get keys for exclude posgrades\n",
    "var_key <- str_detect(nomb_prog, \"MAESTRIA.*|DOCTORADO.*|ESPECIALIZACION.*|MAESTRÃ\\\\u008dA.*|ESPECIALIZACIÃ“N.*\")\n",
    "\n",
    "# Set pregrade facult, programs, and prom exclude result from var_key (removing postgrade)\n",
    "pregrade_facult <-grad_upct$NOMBRE_FACULTAD[!var_key]\n",
    "pregrade_programs <-grad_upct$NOMBRE_PROGRAMA[!var_key]\n",
    "pregrade_prom_grad <-grad_upct$PACUMULADO[!var_key]\n",
    "\n",
    "# Length of rows in dataframe from any colum\n",
    "sprintf('Total de estudiantes graduados de pregrado y posgrado:')\n",
    "length(grad_upct$NOMBRE_PROGRAMA)\n",
    "\n",
    "sprintf('Total de estudiantes de graduados pregrado:')\n",
    "# Quantity of pregrade students, length of current rows\n",
    "length(pregrade_programs)"
   ]
  },
  {
   "cell_type": "markdown",
   "metadata": {},
   "source": [
    "## Tabla de frecuencia\n",
    "La tabla de frecuencia indica cuantos de un mismo dato agrupado (combinando por columna) hay esto ayudaá a indicar cuantos graduados hay de cada programa en especifico"
   ]
  },
  {
   "cell_type": "code",
   "execution_count": 4,
   "metadata": {},
   "outputs": [
    {
     "data": {
      "text/plain": [
       "\n",
       "                                                               ADMINISTRACION AGROINDUSTRIAL \n",
       "                                                                                           6 \n",
       "                                                       ADMINISTRACION COMERCIAL Y FINANCIERA \n",
       "                                                                                          20 \n",
       "                                                                  ADMINISTRACION DE EMPRESAS \n",
       "                                                                                         168 \n",
       "                                                    ADMINISTRACION DE EMPRESAS AGROPECUARIAS \n",
       "                                                                                          48 \n",
       "                                                        ADMINISTRACION DE SERVICIOS DE SALUD \n",
       "                                                                                          53 \n",
       "                                                                   ADMINISTRACION INDUSTRIAL \n",
       "                                                                                          35 \n",
       "                                                         ADMINISTRACION TURISTICA Y HOTELERA \n",
       "                                                                                          50 \n",
       "                                                                                    BIOLOGIA \n",
       "                                                                                          28 \n",
       "                                                                          CONTADURIA PUBLICA \n",
       "                                                                                         204 \n",
       "                                                                                     DERECHO \n",
       "                                                                                          35 \n",
       "                                                                 DERECHO Y CIENCIAS SOCIALES \n",
       "                                                                                           8 \n",
       "                                                                          DISEÃ‘O INDUSTRIAL \n",
       "                                                                                          55 \n",
       "                                                                                    ECONOMIA \n",
       "                                                                                          84 \n",
       "                                                                                  ENFERMERIA \n",
       "                                                                                          48 \n",
       "                                                                ESPECIALICION  EN TRIBUTARIA \n",
       "                                                                                          14 \n",
       "                                                                                      FISICA \n",
       "                                                                                          10 \n",
       "                                                                       INGENIERIA AGRONOMICA \n",
       "                                                                                          34 \n",
       "                                                                        INGENIERIA AMBIENTAL \n",
       "                                                                                          61 \n",
       "                                                                            INGENIERIA CIVIL \n",
       "                                                                                          81 \n",
       "                                                                         INGENIERIA DE MINAS \n",
       "                                                                                          48 \n",
       "                                                        INGENIERIA DE SISTEMAS Y COMPUTACION \n",
       "                                                                                          44 \n",
       "                                                             INGENIERIA DE TRANSPORTE Y VIAS \n",
       "                                                                                          46 \n",
       "                                                                  INGENIERIA ELECTROMECANICA \n",
       "                                                                                          33 \n",
       "                                                                      INGENIERIA ELECTRONICA \n",
       "                                                                                          56 \n",
       "                                                                        INGENIERIA GEOLOGICA \n",
       "                                                                                          64 \n",
       "                                                                       INGENIERIA INDUSTRIAL \n",
       "                                                                                          53 \n",
       "                                                                      INGENIERIA METALURGICA \n",
       "                                                                                          51 \n",
       "                                           LIC. EN PSICOPEDAGOGIA ENFASIS ASESORIA EDUCATIVA \n",
       "                                                                                          60 \n",
       "                                   LICENCIATURA  EN CIENCIAS NATURALES Y EDUCACION AMBIENTAL \n",
       "                                                                                          32 \n",
       "                                                             LICENCIATURA EN ARTES PLASTICAS \n",
       "                                                                                          16 \n",
       "                                                           LICENCIATURA EN CIENCIAS SOCIALES \n",
       "                                                                                          48 \n",
       "LICENCIATURA EN EDUCACION BASICA CON ENFASIS EN MATEMATICAS, HUMANIDADES Y LENGUA CASTELLANA \n",
       "                                                                                         461 \n",
       "                                      LICENCIATURA EN EDUCACION FISICA RECREACION Y DEPORTES \n",
       "                                                                                         102 \n",
       "                                                        LICENCIATURA EN EDUCACION PREESCOLAR \n",
       "                                                                                          61 \n",
       "                                                                   LICENCIATURA EN FILOSOFIA \n",
       "                                                                                          12 \n",
       "                                           LICENCIATURA EN IDIOMAS MODERNOS ESPAÃ‘OL-INGLÃ‰S \n",
       "                                                                                          60 \n",
       "                                                       LICENCIATURA EN INFORMATICA EDUCATIVA \n",
       "                                                                                           3 \n",
       "                                                    LICENCIATURA EN INFORMATICA Y TECNOLOGIA \n",
       "                                                                                          21 \n",
       "                                                         LICENCIATURA EN LENGUAS EXTRANJERAS \n",
       "                                                                                          38 \n",
       "                                                                 LICENCIATURA EN MATEMATICAS \n",
       "                                                                                          45 \n",
       "                                                   LICENCIATURA EN MATEMATICAS Y ESTADISTICA \n",
       "                                                                                          19 \n",
       "                                                                      LICENCIATURA EN MUSICA \n",
       "                                                                                           7 \n",
       "                                                                  LICENCIATURA EN TECNOLOGIA \n",
       "                                                                                          22 \n",
       "                                                                                 MATEMATICAS \n",
       "                                                                                           5 \n",
       "                                                                                    MEDICINA \n",
       "                                                                                          41 \n",
       "                                                            MEDICINA VETERINARIA Y ZOOTECNIA \n",
       "                                                                                          43 \n",
       "                                                                     MERCADEO AGROINDUSTRIAL \n",
       "                                                                                           3 \n",
       "                                                                                  PSICOLOGIA \n",
       "                                                                                          57 \n",
       "                                                                                     QUIMICA \n",
       "                                                                                          52 \n",
       "                                  TECNICA PROFESIONAL  EN PROCESOS COMERCIALES Y FINANCIEROS \n",
       "                                                                                         104 \n",
       "                                    TECNICA PROFESIONAL EN PROCESOS ADMINISTRATIVOS DE SALUD \n",
       "                                                                                          89 \n",
       "                                            TECNICA PROFESIONAL EN PROCESOS AGROINDUSTRIALES \n",
       "                                                                                           4 \n",
       "                  TECNICO PROFESIONAL EN INSTALACION Y MANTENIMIENTO DE REDES Y COMPUTADORES \n",
       "                                                                                          16 \n",
       "                                TECNICO PROFESIONAL EN PRODUCCION Y TRANSFORMACION DEL ACERO \n",
       "                                                                                           1 \n",
       "                                        TECNOLOGIA DE  PROGRAMACION DE SISTEMAS INFORMATICOS \n",
       "                                                                                           5 \n",
       "                              TECNOLOGIA EN  GESTION DE PRODUCCION Y TRANSFOMACION DEL ACERO \n",
       "                                                                                           7 \n",
       "                                                                  TECNOLOGIA EN ELECTRICIDAD \n",
       "                                                                                          63 \n",
       "                                  TECNOLOGIA EN GESTION ADMINISTRATIVA DE SERVICIOS DE SALUD \n",
       "                                                                                          63 \n",
       "                                                TECNOLOGIA EN GESTION COMERCIAL Y FINANCIERA \n",
       "                                                                                          85 \n",
       "                                                              TECNOLOGIA EN GESTION DE SALUD \n",
       "                                                                                           3 \n",
       "                                                       TECNOLOGIA EN MAQUINAS Y HERRAMIENTAS \n",
       "                                                                                          17 \n",
       "                                                         TECNOLOGIA EN MERCADEO AGROPECUARIO \n",
       "                                                                                           1 \n",
       "                                                                 TECNOLOGIA EN OBRAS CIVILES \n",
       "                                                                                          91 \n",
       "                                                          TECNOLOGIA EN REGENCIA DE FARMACIA \n",
       "                                                                                         150 \n",
       "                                                                    TECNOLOGIA EN TELEMATICA \n",
       "                                                                                           1 "
      ]
     },
     "metadata": {},
     "output_type": "display_data"
    }
   ],
   "source": [
    "# Get data set from web\n",
    "grad_upct <- read.csv(\"https://www.datos.gov.co/api/views/ha9e-e48s/rows.csv?accessType=DOWNLOAD\")\n",
    "\n",
    "## Process for separate pregrade and posgrade\n",
    "# Include library for str_detect for exclude post-grades\n",
    "library(stringr)\n",
    "\n",
    "# Get keys for exclude posgrades\n",
    "var_key <- str_detect(nomb_prog, \"MAESTRIA.*|DOCTORADO.*|ESPECIALIZACION.*|MAESTRÃ\\\\u008dA.*|ESPECIALIZACIÃ“N.*\")\n",
    "\n",
    "# Set pregrade facult, programs, and prom exclude result from var_key (removing postgrade)\n",
    "pregrade_facult <-grad_upct$NOMBRE_FACULTAD[!var_key]\n",
    "pregrade_programs <-grad_upct$NOMBRE_PROGRAMA[!var_key]\n",
    "pregrade_prom_grad <-grad_upct$PACUMULADO[!var_key]\n",
    "\n",
    "# Create data_frame for analysis\n",
    "data_frame <- data.frame(pregrade_facult, pregrade_programs, pregrade_prom_grad/10)\n",
    "\n",
    "# https://stackoverflow.com/questions/29639680/r-table-function-how-to-remove-0-counts\n",
    "# Remove headers with cero ocurrencies from pregrade_programs\n",
    "data_frame$pregrade_programs<-droplevels(data_frame$pregrade_programs)\n",
    "\n",
    "# https://stackoverflow.com/questions/25293045/count-number-of-rows-in-a-data-frame-in-r-based-on-group\n",
    "# Show number of ocurrencies, quantity of graduated people\n",
    "table(data_frame$pregrade_programs)"
   ]
  }
 ],
 "metadata": {
  "kernelspec": {
   "display_name": "R",
   "language": "R",
   "name": "ir"
  },
  "language_info": {
   "codemirror_mode": "r",
   "file_extension": ".r",
   "mimetype": "text/x-r-source",
   "name": "R",
   "pygments_lexer": "r",
   "version": "3.6.2"
  }
 },
 "nbformat": 4,
 "nbformat_minor": 2
}
