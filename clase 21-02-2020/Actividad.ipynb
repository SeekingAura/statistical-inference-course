{
 "cells": [
  {
   "cell_type": "markdown",
   "metadata": {},
   "source": [
    "# Actividad\n",
    "Primero se debe obtenerse el dataset y almacenarlos"
   ]
  },
  {
   "cell_type": "code",
   "execution_count": 5,
   "metadata": {},
   "outputs": [
    {
     "data": {
      "text/html": [
       "'Dimensión de los datos [Filas, columnas]:'"
      ],
      "text/latex": [
       "'Dimensión de los datos {[}Filas, columnas{]}:'"
      ],
      "text/markdown": [
       "'Dimensión de los datos [Filas, columnas]:'"
      ],
      "text/plain": [
       "[1] \"Dimensión de los datos [Filas, columnas]:\""
      ]
     },
     "metadata": {},
     "output_type": "display_data"
    },
    {
     "data": {
      "text/html": [
       "<style>\n",
       ".list-inline {list-style: none; margin:0; padding: 0}\n",
       ".list-inline>li {display: inline-block}\n",
       ".list-inline>li:not(:last-child)::after {content: \"\\00b7\"; padding: 0 .5ex}\n",
       "</style>\n",
       "<ol class=list-inline><li>5576</li><li>13</li></ol>\n"
      ],
      "text/latex": [
       "\\begin{enumerate*}\n",
       "\\item 5576\n",
       "\\item 13\n",
       "\\end{enumerate*}\n"
      ],
      "text/markdown": [
       "1. 5576\n",
       "2. 13\n",
       "\n",
       "\n"
      ],
      "text/plain": [
       "[1] 5576   13"
      ]
     },
     "metadata": {},
     "output_type": "display_data"
    }
   ],
   "source": [
    "# Get data set from web\n",
    "grad_upct <- read.csv(\"https://www.datos.gov.co/api/views/ha9e-e48s/rows.csv?accessType=DOWNLOAD\")\n",
    "\n",
    "# Get quantity of dataset row, col\n",
    "sprintf('Dimensión de los datos [Filas, columnas]:')\n",
    "dim(grad_upct)"
   ]
  },
  {
   "cell_type": "code",
   "execution_count": null,
   "metadata": {},
   "outputs": [],
   "source": [
    "## Fixing set data NOMBRE_PROGRAMA\n",
    "# Get data \"NOMBRE_PROGRAMA\" from dataframe, this are name of graduated program\n",
    "nomb_prog <- grad_upct$NOMBRE_PROGRAMA\n",
    "\n",
    "# Show different programs that are graduated\n",
    "levels(nomb_prog)\n",
    "\n",
    "\n",
    "## Process for separate pregrade and postgrade\n",
    "# Include library for str_detect for exclude post-grades\n",
    "library(stringr)\n",
    "\n",
    "# Get keys for exclude post-grades\n",
    "var_key <- str_detect(nomb_prog, \"MAESTRIA.*|DOCTORADO.*|ESPECIALIZACION.*|MAESTRÃ\\\\u008dA.*|ESPECIALIZACIÃ“N.*\")\n",
    "\n",
    "# Set nomb_prog exclude result from var_key\n",
    "pregrade_programs <-nomb_prog[!var_key]\n",
    "\n",
    "\n",
    "## Fixing set data \"PACUMULADO\" from dataframe\n",
    "# Get data \"PACUMULADO\" from dataframe, this are name of graduated program\n",
    "prom_grad <- grad_upct$PACUMULADO\n",
    "\n",
    "# Set nomb_prog exclude result from var_key\n",
    "pregrade_prom_grad<-prom_grad[!var_key]\n",
    "\n",
    "# Quantity of pregrade students\n",
    "length(pregrade_prom_grad)\n",
    "\n",
    "### Analysis\n",
    "\n",
    "\n",
    "# Create data_frame for analysis\n",
    "data_frame <- data.frame(grad_upct$NOMBRE_FACULTAD, grad_upct$NOMBRE_PROGRAMA, grad_upct$PACUMULADO/10)\n",
    "\n",
    "# Hacer que data_frame tenga solo datos de promedio de ingenierias y pregrado\n",
    "# Frecuencia por ingenieria, es decir cuantos graduados de cada carrera, es decir la tabla de contingencia\n",
    "\n"
   ]
  },
  {
   "cell_type": "code",
   "execution_count": null,
   "metadata": {},
   "outputs": [],
   "source": []
  }
 ],
 "metadata": {
  "kernelspec": {
   "display_name": "R",
   "language": "R",
   "name": "ir"
  },
  "language_info": {
   "codemirror_mode": "r",
   "file_extension": ".r",
   "mimetype": "text/x-r-source",
   "name": "R",
   "pygments_lexer": "r",
   "version": "3.6.2"
  }
 },
 "nbformat": 4,
 "nbformat_minor": 2
}
