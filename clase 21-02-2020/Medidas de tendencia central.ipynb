{
 "cells": [
  {
   "cell_type": "markdown",
   "metadata": {},
   "source": [
    "# Medidas de tendencia central\n",
    "De un conjunto de datos se pueden realizar estudios a razón de valores medios y las frecuencias\n",
    "\n",
    "## Calculo de medidas de tendencia central\n",
    "Para la mediana, si la cantidad de valores es impar es el valor de la mitad será la mediana, si la cantidad de valores es par es el valor medio dos valores de que hay en la mitad, esto se aplica es a los valores que se encuentran \"ordenados\"\n",
    "\n",
    "## Variabilidad de los datos\n",
    "La variabilidad de los datos permite mostrar cuales datos están muy alejados del conjunto o bien son datos que son \"anomalos\"\n"
   ]
  }
 ],
 "metadata": {
  "kernelspec": {
   "display_name": "R",
   "language": "R",
   "name": "ir"
  },
  "language_info": {
   "codemirror_mode": "r",
   "file_extension": ".r",
   "mimetype": "text/x-r-source",
   "name": "R",
   "pygments_lexer": "r",
   "version": "3.6.2"
  }
 },
 "nbformat": 4,
 "nbformat_minor": 2
}
