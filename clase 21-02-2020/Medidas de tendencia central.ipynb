{
 "cells": [
  {
   "cell_type": "markdown",
   "metadata": {},
   "source": [
    "# Medidas de tendencia central\n",
    "De un conjunto de datos se pueden realizar estudios a razón de valores medios y las frecuencias\n",
    "\n",
    "## Calculo de medidas de tendencia central\n",
    "Para la mediana, si la cantidad de valores es impar es el valor de la mitad será la mediana, si la cantidad de valores es par es el valor medio dos valores de que hay en la mitad, esto se aplica es a los valores que se encuentran \"ordenados\"\n",
    "\n",
    "## Variabilidad de los datos\n",
    "La variabilidad de los datos permite mostrar cuales datos están muy alejados del conjunto o bien son datos que son \"anomalos\"\n",
    "\n",
    "## Rango intercuartil\n",
    "Es el rango de valores que establece el rango de valores que son pertenecientes a un grupo para asi establecer cuales estan fuera. Para calcularlo en R se hace con la función **quantile**, este establece los rangos basado en la probabilidad obtenida con el algoritmo de Hyndman y Fan (1996)"
   ]
  },
  {
   "cell_type": "code",
   "execution_count": 8,
   "metadata": {},
   "outputs": [
    {
     "data": {
      "text/html": [
       "<style>\n",
       ".dl-inline {width: auto; margin:0; padding: 0}\n",
       ".dl-inline>dt, .dl-inline>dd {float: none; width: auto; display: inline-block}\n",
       ".dl-inline>dt::after {content: \":\\0020\"; padding-right: .5ex}\n",
       ".dl-inline>dt:not(:first-of-type) {padding-left: .5ex}\n",
       "</style><dl class=dl-inline><dt>0%</dt><dd>4.1</dd><dt>25%</dt><dd>6.575</dd><dt>50%</dt><dd>7.25</dd><dt>75%</dt><dd>7.525</dd><dt>100%</dt><dd>8.1</dd></dl>\n"
      ],
      "text/latex": [
       "\\begin{description*}\n",
       "\\item[0\\textbackslash{}\\%] 4.1\n",
       "\\item[25\\textbackslash{}\\%] 6.575\n",
       "\\item[50\\textbackslash{}\\%] 7.25\n",
       "\\item[75\\textbackslash{}\\%] 7.525\n",
       "\\item[100\\textbackslash{}\\%] 8.1\n",
       "\\end{description*}\n"
      ],
      "text/markdown": [
       "0%\n",
       ":   4.125%\n",
       ":   6.57550%\n",
       ":   7.2575%\n",
       ":   7.525100%\n",
       ":   8.1\n",
       "\n"
      ],
      "text/plain": [
       "   0%   25%   50%   75%  100% \n",
       "4.100 6.575 7.250 7.525 8.100 "
      ]
     },
     "metadata": {},
     "output_type": "display_data"
    },
    {
     "data": {
      "text/html": [
       "<strong>25%:</strong> 6.575"
      ],
      "text/latex": [
       "\\textbf{25\\textbackslash{}\\%:} 6.575"
      ],
      "text/markdown": [
       "**25%:** 6.575"
      ],
      "text/plain": [
       "  25% \n",
       "6.575 "
      ]
     },
     "metadata": {},
     "output_type": "display_data"
    },
    {
     "data": {
      "text/html": [
       "<strong>50%:</strong> 7.25"
      ],
      "text/latex": [
       "\\textbf{50\\textbackslash{}\\%:} 7.25"
      ],
      "text/markdown": [
       "**50%:** 7.25"
      ],
      "text/plain": [
       " 50% \n",
       "7.25 "
      ]
     },
     "metadata": {},
     "output_type": "display_data"
    },
    {
     "data": {
      "text/html": [
       "<strong>75%:</strong> 7.525"
      ],
      "text/latex": [
       "\\textbf{75\\textbackslash{}\\%:} 7.525"
      ],
      "text/markdown": [
       "**75%:** 7.525"
      ],
      "text/plain": [
       "  75% \n",
       "7.525 "
      ]
     },
     "metadata": {},
     "output_type": "display_data"
    },
    {
     "data": {
      "text/html": [
       "<strong>100%:</strong> 8.1"
      ],
      "text/latex": [
       "\\textbf{100\\textbackslash{}\\%:} 8.1"
      ],
      "text/markdown": [
       "**100%:** 8.1"
      ],
      "text/plain": [
       "100% \n",
       " 8.1 "
      ]
     },
     "metadata": {},
     "output_type": "display_data"
    }
   ],
   "source": [
    "# Create \"vector\" with notes\n",
    "notas <- c(7.4, 7.9, 4.1, 8.1, 6.2, 7.1, 7.4, 6.7)\n",
    "\n",
    "# Get Quantile range in percentage\n",
    "quantile(notas)\n",
    "\n",
    "# Get only data are in range 25% from set\n",
    "quantile(notas, 0.25)\n",
    "\n",
    "# Get only data are in range 50% from set\n",
    "quantile(notas, 0.50)\n",
    "\n",
    "# Get only data are in range 75% from set\n",
    "quantile(notas, 0.75)\n",
    "\n",
    "# Get only data are in range 100% from set\n",
    "quantile(notas, 1)"
   ]
  },
  {
   "cell_type": "markdown",
   "metadata": {},
   "source": [
    "Para detectar acerca de la variabilidad de los datos se puede utilizar la función *boxpplot.stats* el cual muestra:\n",
    "* La lista de los datos\n",
    "* Número de datos\n",
    "* Los que conforman el rango\n",
    "* Los que están fuera del rango"
   ]
  },
  {
   "cell_type": "code",
   "execution_count": 12,
   "metadata": {},
   "outputs": [
    {
     "data": {
      "text/html": [
       "<dl>\n",
       "\t<dt>$stats</dt>\n",
       "\t\t<dd><style>\n",
       ".list-inline {list-style: none; margin:0; padding: 0}\n",
       ".list-inline>li {display: inline-block}\n",
       ".list-inline>li:not(:last-child)::after {content: \"\\00b7\"; padding: 0 .5ex}\n",
       "</style>\n",
       "<ol class=list-inline><li>4.1</li><li>5.15</li><li>6.45</li><li>6.9</li><li>7.1</li></ol>\n",
       "</dd>\n",
       "\t<dt>$n</dt>\n",
       "\t\t<dd>4</dd>\n",
       "\t<dt>$conf</dt>\n",
       "\t\t<dd><style>\n",
       ".list-inline {list-style: none; margin:0; padding: 0}\n",
       ".list-inline>li {display: inline-block}\n",
       ".list-inline>li:not(:last-child)::after {content: \"\\00b7\"; padding: 0 .5ex}\n",
       "</style>\n",
       "<ol class=list-inline><li>5.0675</li><li>7.8325</li></ol>\n",
       "</dd>\n",
       "\t<dt>$out</dt>\n",
       "\t\t<dd></dd>\n",
       "</dl>\n"
      ],
      "text/latex": [
       "\\begin{description}\n",
       "\\item[\\$stats] \\begin{enumerate*}\n",
       "\\item 4.1\n",
       "\\item 5.15\n",
       "\\item 6.45\n",
       "\\item 6.9\n",
       "\\item 7.1\n",
       "\\end{enumerate*}\n",
       "\n",
       "\\item[\\$n] 4\n",
       "\\item[\\$conf] \\begin{enumerate*}\n",
       "\\item 5.0675\n",
       "\\item 7.8325\n",
       "\\end{enumerate*}\n",
       "\n",
       "\\item[\\$out] \n",
       "\\end{description}\n"
      ],
      "text/markdown": [
       "$stats\n",
       ":   1. 4.1\n",
       "2. 5.15\n",
       "3. 6.45\n",
       "4. 6.9\n",
       "5. 7.1\n",
       "\n",
       "\n",
       "\n",
       "$n\n",
       ":   4\n",
       "$conf\n",
       ":   1. 5.0675\n",
       "2. 7.8325\n",
       "\n",
       "\n",
       "\n",
       "$out\n",
       ":   \n",
       "\n",
       "\n"
      ],
      "text/plain": [
       "$stats\n",
       "[1] 4.10 5.15 6.45 6.90 7.10\n",
       "\n",
       "$n\n",
       "[1] 4\n",
       "\n",
       "$conf\n",
       "[1] 5.0675 7.8325\n",
       "\n",
       "$out\n",
       "numeric(0)\n"
      ]
     },
     "metadata": {},
     "output_type": "display_data"
    },
    {
     "data": {
      "text/html": [
       "'Lista de datos del conjunto \"notas\":'"
      ],
      "text/latex": [
       "'Lista de datos del conjunto \"notas\":'"
      ],
      "text/markdown": [
       "'Lista de datos del conjunto \"notas\":'"
      ],
      "text/plain": [
       "[1] \"Lista de datos del conjunto \\\"notas\\\":\""
      ]
     },
     "metadata": {},
     "output_type": "display_data"
    },
    {
     "data": {
      "text/html": [
       "<style>\n",
       ".list-inline {list-style: none; margin:0; padding: 0}\n",
       ".list-inline>li {display: inline-block}\n",
       ".list-inline>li:not(:last-child)::after {content: \"\\00b7\"; padding: 0 .5ex}\n",
       "</style>\n",
       "<ol class=list-inline><li>4.1</li><li>5.15</li><li>6.45</li><li>6.9</li><li>7.1</li></ol>\n"
      ],
      "text/latex": [
       "\\begin{enumerate*}\n",
       "\\item 4.1\n",
       "\\item 5.15\n",
       "\\item 6.45\n",
       "\\item 6.9\n",
       "\\item 7.1\n",
       "\\end{enumerate*}\n"
      ],
      "text/markdown": [
       "1. 4.1\n",
       "2. 5.15\n",
       "3. 6.45\n",
       "4. 6.9\n",
       "5. 7.1\n",
       "\n",
       "\n"
      ],
      "text/plain": [
       "[1] 4.10 5.15 6.45 6.90 7.10"
      ]
     },
     "metadata": {},
     "output_type": "display_data"
    },
    {
     "data": {
      "text/html": [
       "'Valor n del set \"notas\":'"
      ],
      "text/latex": [
       "'Valor n del set \"notas\":'"
      ],
      "text/markdown": [
       "'Valor n del set \"notas\":'"
      ],
      "text/plain": [
       "[1] \"Valor n del set \\\"notas\\\":\""
      ]
     },
     "metadata": {},
     "output_type": "display_data"
    },
    {
     "data": {
      "text/html": [
       "4"
      ],
      "text/latex": [
       "4"
      ],
      "text/markdown": [
       "4"
      ],
      "text/plain": [
       "[1] 4"
      ]
     },
     "metadata": {},
     "output_type": "display_data"
    },
    {
     "data": {
      "text/html": [
       "'Valores del set \"notas\" que pertenencen al rango aceptable:'"
      ],
      "text/latex": [
       "'Valores del set \"notas\" que pertenencen al rango aceptable:'"
      ],
      "text/markdown": [
       "'Valores del set \"notas\" que pertenencen al rango aceptable:'"
      ],
      "text/plain": [
       "[1] \"Valores del set \\\"notas\\\" que pertenencen al rango aceptable:\""
      ]
     },
     "metadata": {},
     "output_type": "display_data"
    },
    {
     "data": {
      "text/html": [
       "<style>\n",
       ".list-inline {list-style: none; margin:0; padding: 0}\n",
       ".list-inline>li {display: inline-block}\n",
       ".list-inline>li:not(:last-child)::after {content: \"\\00b7\"; padding: 0 .5ex}\n",
       "</style>\n",
       "<ol class=list-inline><li>5.0675</li><li>7.8325</li></ol>\n"
      ],
      "text/latex": [
       "\\begin{enumerate*}\n",
       "\\item 5.0675\n",
       "\\item 7.8325\n",
       "\\end{enumerate*}\n"
      ],
      "text/markdown": [
       "1. 5.0675\n",
       "2. 7.8325\n",
       "\n",
       "\n"
      ],
      "text/plain": [
       "[1] 5.0675 7.8325"
      ]
     },
     "metadata": {},
     "output_type": "display_data"
    },
    {
     "data": {
      "text/html": [
       "'Valores del set \"notas\" NO que pertenencen al rango aceptable:'"
      ],
      "text/latex": [
       "'Valores del set \"notas\" NO que pertenencen al rango aceptable:'"
      ],
      "text/markdown": [
       "'Valores del set \"notas\" NO que pertenencen al rango aceptable:'"
      ],
      "text/plain": [
       "[1] \"Valores del set \\\"notas\\\" NO que pertenencen al rango aceptable:\""
      ]
     },
     "metadata": {},
     "output_type": "display_data"
    },
    {
     "data": {
      "text/html": [],
      "text/latex": [],
      "text/markdown": [],
      "text/plain": [
       "numeric(0)"
      ]
     },
     "metadata": {},
     "output_type": "display_data"
    }
   ],
   "source": [
    "# Create array with notes\n",
    "notas <- c(4.1, 6.2, 6.7, 7.1)\n",
    "boxplot.stats(notas)\n",
    "\n",
    "# Get only list of set\n",
    "sprintf('Lista de datos del conjunto \"notas\":')\n",
    "boxplot.stats(notas)$stats\n",
    "\n",
    "\n",
    "# Get only quantity of set 'n'\n",
    "sprintf('Valor n del set \"notas\":')\n",
    "boxplot.stats(notas)$n\n",
    "\n",
    "# Get only data are in conformed from set\n",
    "sprintf('Valores del set \"notas\" que pertenencen al rango aceptable:')\n",
    "boxplot.stats(notas)$conf\n",
    "\n",
    "# # Get only data are out conformed from set\n",
    "sprintf('Valores del set \"notas\" NO que pertenencen al rango aceptable:')\n",
    "boxplot.stats(notas)$out"
   ]
  },
  {
   "cell_type": "markdown",
   "metadata": {},
   "source": [
    "# Valores z\n",
    "* Permite establecer si un valor es comun o excepcional\n",
    "* Se expresa en términos de del numero de desviaciones estándar respecto al valor medio.\n",
    "* Un valor bajo significa que le valor es común (cercano a 0)\n",
    "* Un valor alto significa que es un valor poco común\n",
    "\n",
    "<img src=\"https://latex.codecogs.com/png.latex?\\huge&space;z_{i}=\\frac{x_{i}-\\bar{x}}{s}\" title=\"\\huge z_{i}=\\frac{x_{i}-\\bar{x}}{s}\" />\n",
    "\n",
    "El valor de **z** me permite establecer a que tantas desviaciones estandar se encuentra alejado de la media un dato x<sub>i</sub> en especifico\n"
   ]
  },
  {
   "cell_type": "markdown",
   "metadata": {},
   "source": [
    "# Correlación\n",
    "Es el grado de relación que hay entre dos variables que se puede expresar númericamente mediante el coeficiente de correlación (Pearson r)\n",
    "\n",
    "* Para datos muestrales\n",
    "\n",
    "<img src=\"https://latex.codecogs.com/png.latex?\\huge&space;r_{xy}=\\frac{s_{xy}}{s_{x}s_{y}}\" title=\"\\huge r_{xy}=\\frac{s_{xy}}{s_{x}s_{y}}\" />\n",
    "\n",
    "* Para datos poblacionales\n",
    "<img src=\"https://latex.codecogs.com/png.latex?\\huge&space;\\rho&space;_{xy}=\\frac{\\sigma&space;_{xy}}{\\sigma&space;_{x}\\sigma&space;_{y}}\" title=\"\\huge \\rho _{xy}=\\frac{\\sigma _{xy}}{\\sigma _{x}\\sigma _{y}}\" />\n",
    "\n",
    "* Otra forma de hallar\n",
    "<img src=\"https://latex.codecogs.com/png.latex?\\huge&space;r=\\frac{\\sum&space;z_{x}z_{y}}{n-1}\" title=\"\\huge r=\\frac{\\sum z_{x}z_{y}}{n-1}\" />\n",
    "\n",
    "\n",
    "## Proceso para aplicar correlación\n",
    "Calcular los valores z\n",
    "\n",
    "```r\n",
    "# Calcular\n",
    "# r= suma(Zx Zy) / n-1\n",
    "# z = ()\n",
    "```\n",
    "\n",
    "\n",
    "\n",
    "\n",
    "\n"
   ]
  },
  {
   "cell_type": "code",
   "execution_count": 29,
   "metadata": {},
   "outputs": [
    {
     "data": {
      "text/html": [
       "'Correlación entre el Peso y el consumo de cholocate es: 0.927944'"
      ],
      "text/latex": [
       "'Correlación entre el Peso y el consumo de cholocate es: 0.927944'"
      ],
      "text/markdown": [
       "'Correlación entre el Peso y el consumo de cholocate es: 0.927944'"
      ],
      "text/plain": [
       "[1] \"Correlación entre el Peso y el consumo de cholocate es: 0.927944\""
      ]
     },
     "metadata": {},
     "output_type": "display_data"
    }
   ],
   "source": [
    "# Create data of Gr consumption\n",
    "gr <- c(50,100,200,300)\n",
    "\n",
    "# Create data of weight consumption\n",
    "weight <- c(50,70,70,95)\n",
    "\n",
    "# Find Z value for gr dataframe\n",
    "z_gr <- (gr-mean(gr))/sd(gr)\n",
    "\n",
    "# Find Z value for weigth dataframe\n",
    "z_weight <- (weight-mean(weight))/sd(weight)\n",
    "\n",
    "# Apply equation for get Correlation value (Pearson Coeficent)\n",
    "r=((sum(z_gr * z_weight))/(length(z_gr)-1))\n",
    "\n",
    "sprintf('Correlación entre el Peso y el consumo de cholocate es: %f', r)\n"
   ]
  },
  {
   "cell_type": "raw",
   "metadata": {},
   "source": [
    "Los datos tienen un comportamiento al graficarse puede observarse parcialmente este, para obtener una ecucación de tendencia se hace una regresión lineal (que será un proximo tema)"
   ]
  },
  {
   "cell_type": "code",
   "execution_count": 30,
   "metadata": {},
   "outputs": [
    {
     "data": {
      "image/png": "[encoded data removed]",
      "text/plain": [
       "plot without title"
      ]
     },
     "metadata": {
      "image/png": {
       "height": 420,
       "width": 420
      },
      "text/plain": {
       "height": 420,
       "width": 420
      }
     },
     "output_type": "display_data"
    }
   ],
   "source": [
    "# Create data of Gr consumption\n",
    "gr <- c(50,100,200,300)\n",
    "\n",
    "# Create data of weight consumption\n",
    "weight <- c(50,70,70,95)\n",
    "\n",
    "\n",
    "plot(gr,weight,type=\"p\")"
   ]
  },
  {
   "cell_type": "markdown",
   "metadata": {},
   "source": [
    "La correlación dependiendo del valor del coeficiente de pearson indica la relación que hay entre los dos conjuntos de datos que se están analizando, la tabla siguiente indica su comportamiento\n",
    "\n",
    "**Por el signo**\n",
    "\n",
    "|Signo|Tipo de correlación|\n",
    "|-----|-------------------|\n",
    "|  +  |Directamente proporcional|\n",
    "|  -  |Inversamente proporcional|\n",
    "\n",
    "\n",
    "**Por el valor del coeficiente obtenido**\n",
    "\n",
    "|Valores|Tipo de correlación|\n",
    "|-------|-------------------|\n",
    "|   0   |No hay correlación |\n",
    "|\\[0,0.5\\]| Correlación debil|\n",
    "|\\[0.5,1.0\\]|Correlación fuerte|"
   ]
  },
  {
   "cell_type": "markdown",
   "metadata": {},
   "source": [
    "## Tabla de correlación\n",
    "Es la tabla que indica valores a razón de una relación, en este caso es peso contra gramo consumido\n",
    "\n",
    "\n",
    "|         |Consumo de chocolate grxsem  |        |      |       |\n",
    "|---------|-----------------------------|--------|------|-------|\n",
    "| Peso    | <50                         | 50-150 | >150 | Total |\n",
    "| <50     | 27                          | 5      | 1    | 33    |\n",
    "| 50-69   | 24                          | 35     | 2    | 61    |\n",
    "| 70-89   | 6                           | 43     | 19   | 68    |\n",
    "| >90     | 3                           | 7      | 28   | 38    |\n",
    "| Totales | 60                          | 90     | 50   | 200   |\n",
    "\n",
    "\n",
    "## Tabla de contingencia\n",
    "Es la tabla que me indica la proporción de población es decir en porcentaje que pertenecen a lo que han indicado o establecido en la relación (se obtiene cantidad sobre total)\n",
    "\n",
    "|         |Consumo de chocolate grxsem  |        |      |       |\n",
    "|---------|-----------------------------|--------|------|-------|\n",
    "| Peso    | <50                         | 50-150 | >150 | Total |\n",
    "| <50     | 27/60=0.45                  | 5/90=0.05| 1/50=0.02| 33    |\n",
    "| 50-69   | 0.40                        | 0.39     | 0.04  | 61    |\n",
    "| 70-89   |   ...                         |      |    | 68    |\n",
    "| >90     |                            |       |    | 38    |\n",
    "| Totales | 60                          | 90     | 50   | 200   |\n",
    "\n",
    "\n",
    "## Ejemplos\n",
    "\n"
   ]
  },
  {
   "cell_type": "code",
   "execution_count": null,
   "metadata": {},
   "outputs": [],
   "source": []
  }
 ],
 "metadata": {
  "kernelspec": {
   "display_name": "R",
   "language": "R",
   "name": "ir"
  },
  "language_info": {
   "codemirror_mode": "r",
   "file_extension": ".r",
   "mimetype": "text/x-r-source",
   "name": "R",
   "pygments_lexer": "r",
   "version": "3.6.2"
  }
 },
 "nbformat": 4,
 "nbformat_minor": 2
}
