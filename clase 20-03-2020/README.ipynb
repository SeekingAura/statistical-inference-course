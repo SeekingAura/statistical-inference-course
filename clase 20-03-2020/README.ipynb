{
 "cells": [
  {
   "cell_type": "markdown",
   "metadata": {},
   "source": [
    "# Distribución normal\n",
    "\n",
    "La desviación indica la amplitud de la campana que presenta la distrubicón o bien la altura.\n",
    "\n",
    "Se define como $f(x)=\\frac{1}{\\sigma \\sqrt{2\\pi}}$\n",
    "\n",
    "donde\n",
    "\n",
    "# Ejemplo\n",
    "Se tiene un promedio de 40 minutos de viaje entre dos lugares, la distribución estandar de los viajes es de 10\n",
    "\n",
    "Dado que se busca el 95% de los casos generamos el rango de viajes entre $\\mu + 2\\sigma y \\mu -2\\sigma$\n",
    "\n",
    "$\\mu -2\\sigma$\n",
    "\n",
    "\n",
    "La distribución normalizada de los datos es cuando un conjunto de datos se acumulan en un punto (la media) tienden a centrarlizarse\n",
    "\n",
    "# Distribución normal Z\n",
    "\n",
    "Es una versión mas simple de la distribución de probabilidad normal\n",
    "\n",
    "Se busca encontrar un valor de la probabilidad relacionada directamente con cada valor de la distribución simplificada\n",
    "\n",
    "Uso del valor 7\n",
    "\n",
    "Esta distribución indica cuantas veces la desviación estandar es´ta respecto a la media\n",
    "\n",
    "¿Cual es el valor z para un valor 1.0, cuantos valores tiene acumulados?\n",
    "\n",
    "## Estandarización\n",
    "Podemos calcular a z para cualquier distribución\n",
    "\n",
    "* Conversión a la variable aleatoria normal estandar\n",
    "\n",
    "$z=\\frac{x-\\mu}{\\sigma}$\n",
    "\n",
    "Cad avalor de la media dividirlo por la desviación y forma una distribución normalizada\n",
    "\n"
   ]
  },
  {
   "cell_type": "code",
   "execution_count": 11,
   "metadata": {},
   "outputs": [
    {
     "data": {
      "image/png": "[encoded data removed]",
      "text/plain": [
       "plot without title"
      ]
     },
     "metadata": {
      "image/png": {
       "height": 420,
       "width": 420
      },
      "text/plain": {
       "height": 420,
       "width": 420
      }
     },
     "output_type": "display_data"
    }
   ],
   "source": [
    "# Generate random values form nomral distribution\n",
    "randNorm <- rnorm(10000)\n",
    "\n",
    "randDensidad <- dnorm(randNorm)\n",
    "\n",
    "# Graph\n",
    "library(ggplot2)\n",
    "ggplot(data.frame(x=randNorm, y=randDensidad))+\n",
    "aes(x=x, y=y)+ geom_point() + \n",
    "labs(\"Variable normal aleatoria\", y=\"Densidad\")"
   ]
  },
  {
   "cell_type": "markdown",
   "metadata": {},
   "source": [
    "# Aplicación de distribución z\n",
    "Un grupo de aves realiza una migración que en promedio tarda 4 dias y cuya desviación estandar es de 1.3 dias\n",
    "\n",
    "¿Cual es la probabilidad que complete la migración en 6 dias?\n",
    "\n",
    "Ya que la distribución la definimos como $N \\sim (\\mu)$\n",
    "\n",
    "4 el promedio y 1.3 la desviación\n",
    "\n",
    "\n",
    "$z=\\frac{x-\\mu}{\\sigma}$\n",
    "\n",
    "$z=(6-4)/1.3 = 1.54$\n",
    "\n",
    "Para calcular la distribución debe usarse una tabla de distribución buscnado el valor de z resultante\n",
    "\n",
    "El resultado que esté en la tabla es la probabilidad de una ocurrencia para que el dato resulte"
   ]
  },
  {
   "cell_type": "code",
   "execution_count": 7,
   "metadata": {},
   "outputs": [
    {
     "data": {
      "text/html": [
       "1.53846153846154"
      ],
      "text/latex": [
       "1.53846153846154"
      ],
      "text/markdown": [
       "1.53846153846154"
      ],
      "text/plain": [
       "[1] 1.538462"
      ]
     },
     "metadata": {},
     "output_type": "display_data"
    },
    {
     "data": {
      "text/html": [
       "0.938032097163629"
      ],
      "text/latex": [
       "0.938032097163629"
      ],
      "text/markdown": [
       "0.938032097163629"
      ],
      "text/plain": [
       "[1] 0.9380321"
      ]
     },
     "metadata": {},
     "output_type": "display_data"
    }
   ],
   "source": [
    "z <- (6-4)/1.3\n",
    "\n",
    "z\n",
    "pnorm(z)"
   ]
  },
  {
   "cell_type": "markdown",
   "metadata": {},
   "source": [
    "¿Cuanto es el 10% de la duración de la migración?\n",
    "Despejamos la ecucación de <, entonces\n",
    "\n",
    "$x=\\mu + \\sigma z$\n",
    "\n",
    "Conocemos la esperanza y la desviación pero debemos hallar a z\n",
    "\n",
    "Con toda la información calculamos cual es el tiempo esitmado para el 10% de la migración\n",
    "\n",
    "$x=\\mu + \\sigma <$\n",
    "$x=4+(1.3)(-1.28)=2.34$\n",
    "\n",
    "Se espera que el 10% de la migración ocurra en 2.34 dias. Esto se peude aplicar en R"
   ]
  },
  {
   "cell_type": "code",
   "execution_count": 29,
   "metadata": {},
   "outputs": [
    {
     "data": {
      "text/html": [
       "1.53846153846154"
      ],
      "text/latex": [
       "1.53846153846154"
      ],
      "text/markdown": [
       "1.53846153846154"
      ],
      "text/plain": [
       "[1] 1.538462"
      ]
     },
     "metadata": {},
     "output_type": "display_data"
    },
    {
     "data": {
      "text/html": [
       "0.938032097163629"
      ],
      "text/latex": [
       "0.938032097163629"
      ],
      "text/markdown": [
       "0.938032097163629"
      ],
      "text/plain": [
       "[1] 0.9380321"
      ]
     },
     "metadata": {},
     "output_type": "display_data"
    },
    {
     "data": {
      "text/html": [
       "0.524400512708041"
      ],
      "text/latex": [
       "0.524400512708041"
      ],
      "text/markdown": [
       "0.524400512708041"
      ],
      "text/plain": [
       "[1] 0.5244005"
      ]
     },
     "metadata": {},
     "output_type": "display_data"
    }
   ],
   "source": [
    "z <- (6-4)/1.3\n",
    "\n",
    "z\n",
    "\n",
    "# Cuando se queire saber valores\n",
    "pnorm(z)\n",
    "\n",
    "# Cuanto se queire sbaer porcentajes\n",
    "qnorm(0.7)"
   ]
  },
  {
   "cell_type": "markdown",
   "metadata": {},
   "source": [
    "Tomamos el equipo Schalke04 de la Bundes Liga y vamos a sacar la tabla de distribución normal\n",
    "\n",
    "Encontramos la frecuencia de los goles\n",
    "\n",
    "# Uso en R\n",
    "Dado que la distribución de provbabilidad del equipo tiene forma de campa, es posible utilizar la distribución z para encontrar probabildiades\n",
    "\n",
    "## Ejemplo\n",
    "1. Se desea encontrar cual es la probabilidad qeu el Schalke 04 anote al menos 2 goles\n",
    "2. Se desea"
   ]
  },
  {
   "cell_type": "code",
   "execution_count": 21,
   "metadata": {},
   "outputs": [
    {
     "data": {
      "text/html": [
       "'Levels'"
      ],
      "text/latex": [
       "'Levels'"
      ],
      "text/markdown": [
       "'Levels'"
      ],
      "text/plain": [
       "[1] \"Levels\""
      ]
     },
     "metadata": {},
     "output_type": "display_data"
    },
    {
     "data": {
      "text/html": [
       "<style>\n",
       ".list-inline {list-style: none; margin:0; padding: 0}\n",
       ".list-inline>li {display: inline-block}\n",
       ".list-inline>li:not(:last-child)::after {content: \"\\00b7\"; padding: 0 .5ex}\n",
       "</style>\n",
       "<ol class=list-inline><li>'Augsburg'</li><li>'Bayern Munich'</li><li>'Dortmund'</li><li>'Ein Frankfurt'</li><li>'Fortuna Dusseldorf'</li><li>'Freiburg'</li><li>'Hannover'</li><li>'Hertha'</li><li>'Hoffenheim'</li><li>'Leverkusen'</li><li>'M\\'gladbach'</li><li>'Mainz'</li><li>'Nurnberg'</li><li>'RB Leipzig'</li><li>'Schalke 04'</li><li>'Stuttgart'</li><li>'Werder Bremen'</li><li>'Wolfsburg'</li></ol>\n"
      ],
      "text/latex": [
       "\\begin{enumerate*}\n",
       "\\item 'Augsburg'\n",
       "\\item 'Bayern Munich'\n",
       "\\item 'Dortmund'\n",
       "\\item 'Ein Frankfurt'\n",
       "\\item 'Fortuna Dusseldorf'\n",
       "\\item 'Freiburg'\n",
       "\\item 'Hannover'\n",
       "\\item 'Hertha'\n",
       "\\item 'Hoffenheim'\n",
       "\\item 'Leverkusen'\n",
       "\\item 'M\\textbackslash{}'gladbach'\n",
       "\\item 'Mainz'\n",
       "\\item 'Nurnberg'\n",
       "\\item 'RB Leipzig'\n",
       "\\item 'Schalke 04'\n",
       "\\item 'Stuttgart'\n",
       "\\item 'Werder Bremen'\n",
       "\\item 'Wolfsburg'\n",
       "\\end{enumerate*}\n"
      ],
      "text/markdown": [
       "1. 'Augsburg'\n",
       "2. 'Bayern Munich'\n",
       "3. 'Dortmund'\n",
       "4. 'Ein Frankfurt'\n",
       "5. 'Fortuna Dusseldorf'\n",
       "6. 'Freiburg'\n",
       "7. 'Hannover'\n",
       "8. 'Hertha'\n",
       "9. 'Hoffenheim'\n",
       "10. 'Leverkusen'\n",
       "11. 'M\\'gladbach'\n",
       "12. 'Mainz'\n",
       "13. 'Nurnberg'\n",
       "14. 'RB Leipzig'\n",
       "15. 'Schalke 04'\n",
       "16. 'Stuttgart'\n",
       "17. 'Werder Bremen'\n",
       "18. 'Wolfsburg'\n",
       "\n",
       "\n"
      ],
      "text/plain": [
       " [1] \"Augsburg\"           \"Bayern Munich\"      \"Dortmund\"          \n",
       " [4] \"Ein Frankfurt\"      \"Fortuna Dusseldorf\" \"Freiburg\"          \n",
       " [7] \"Hannover\"           \"Hertha\"             \"Hoffenheim\"        \n",
       "[10] \"Leverkusen\"         \"M'gladbach\"         \"Mainz\"             \n",
       "[13] \"Nurnberg\"           \"RB Leipzig\"         \"Schalke 04\"        \n",
       "[16] \"Stuttgart\"          \"Werder Bremen\"      \"Wolfsburg\"         "
      ]
     },
     "metadata": {},
     "output_type": "display_data"
    },
    {
     "data": {
      "text/html": [
       "'Goles'"
      ],
      "text/latex": [
       "'Goles'"
      ],
      "text/markdown": [
       "'Goles'"
      ],
      "text/plain": [
       "[1] \"Goles\""
      ]
     },
     "metadata": {},
     "output_type": "display_data"
    },
    {
     "data": {
      "text/html": [
       "34"
      ],
      "text/latex": [
       "34"
      ],
      "text/markdown": [
       "34"
      ],
      "text/plain": [
       "[1] 34"
      ]
     },
     "metadata": {},
     "output_type": "display_data"
    },
    {
     "data": {
      "text/plain": [
       "goles\n",
       " 0  1  2  3  4  5 \n",
       "13 12  5  2  1  1 "
      ]
     },
     "metadata": {},
     "output_type": "display_data"
    },
    {
     "ename": "ERROR",
     "evalue": "Error in prob.table(frec_goles): no se pudo encontrar la función \"prob.table\"\n",
     "output_type": "error",
     "traceback": [
      "Error in prob.table(frec_goles): no se pudo encontrar la función \"prob.table\"\nTraceback:\n"
     ]
    },
    {
     "data": {
      "image/png": "[encoded data removed]",
      "text/plain": [
       "plot without title"
      ]
     },
     "metadata": {
      "image/png": {
       "height": 420,
       "width": 420
      },
      "text/plain": {
       "height": 420,
       "width": 420
      }
     },
     "output_type": "display_data"
    }
   ],
   "source": [
    "bundes_1819 <- read.csv(\"https://www.football-data.co.uk/mmz4281/1819/D1.csv\")\n",
    "s_local <- subset(bundes_1819, bundes_1819$HomeTeam == \"Schalke 04\")\n",
    "s_visita <- subset(bundes_1819, bundes_1819$AwayTeam == \"Schalke 04\")\n",
    "\n",
    "sprintf(\"Levels\")\n",
    "levels(bundes_1819$HomeTeam)\n",
    "\n",
    "g_local <- s_local$FTHG\n",
    "g_visita <- s_visita$FTAG\n",
    "\n",
    "# Get golas local and visis on same vector for analysis all goals\n",
    "goles <- c(g_local, g_visita)\n",
    "\n",
    "sprintf(\"Goles\")\n",
    "length(goles)\n",
    "frec_goles <- table(goles)\n",
    "plot(frec_goles)\n",
    "frec_goles\n",
    "\n"
   ]
  },
  {
   "cell_type": "code",
   "execution_count": 35,
   "metadata": {},
   "outputs": [
    {
     "data": {
      "text/plain": [
       "goles\n",
       "         0          1          2          3          4          5 \n",
       "0.38235294 0.35294118 0.14705882 0.05882353 0.02941176 0.02941176 "
      ]
     },
     "metadata": {},
     "output_type": "display_data"
    },
    {
     "data": {
      "text/html": [
       "1.08823529411765"
      ],
      "text/latex": [
       "1.08823529411765"
      ],
      "text/markdown": [
       "1.08823529411765"
      ],
      "text/plain": [
       "[1] 1.088235"
      ]
     },
     "metadata": {},
     "output_type": "display_data"
    },
    {
     "data": {
      "text/html": [
       "1.49221453287197"
      ],
      "text/latex": [
       "1.49221453287197"
      ],
      "text/markdown": [
       "1.49221453287197"
      ],
      "text/plain": [
       "[1] 1.492215"
      ]
     },
     "metadata": {},
     "output_type": "display_data"
    },
    {
     "data": {
      "text/html": [
       "1.22156233278207"
      ],
      "text/latex": [
       "1.22156233278207"
      ],
      "text/markdown": [
       "1.22156233278207"
      ],
      "text/plain": [
       "[1] 1.221562"
      ]
     },
     "metadata": {},
     "output_type": "display_data"
    },
    {
     "data": {
      "image/png": "[encoded data removed]",
      "text/plain": [
       "plot without title"
      ]
     },
     "metadata": {
      "image/png": {
       "height": 420,
       "width": 420
      },
      "text/plain": {
       "height": 420,
       "width": 420
      }
     },
     "output_type": "display_data"
    }
   ],
   "source": [
    "# Distribución de probabiidad\n",
    "prob <- prop.table(frec_goles)\n",
    "prob\n",
    "\n",
    "plot(prob, type = \"h\")\n",
    "n_goles <- c(0:5)\n",
    "p<- as.numeric(prob)\n",
    "\n",
    "# esperanza\n",
    "weighted.mean(n_goles, p)\n",
    "\n",
    "library(Weighted.Desc.Stat)\n",
    "\n",
    "w.var(n_goles, p)\n",
    "\n",
    "w.sd(n_goles,p)\n",
    "\n"
   ]
  },
  {
   "cell_type": "code",
   "execution_count": 28,
   "metadata": {},
   "outputs": [
    {
     "data": {
      "text/html": [
       "<style>\n",
       ".dl-inline {width: auto; margin:0; padding: 0}\n",
       ".dl-inline>dt, .dl-inline>dd {float: none; width: auto; display: inline-block}\n",
       ".dl-inline>dt::after {content: \":\\0020\"; padding-right: .5ex}\n",
       ".dl-inline>dt:not(:first-of-type) {padding-left: .5ex}\n",
       "</style><dl class=dl-inline><dt>0</dt><dd>0.382352941176471</dd><dt>1</dt><dd>0.735294117647059</dd><dt>2</dt><dd>0.882352941176471</dd><dt>3</dt><dd>0.941176470588235</dd><dt>4</dt><dd>0.970588235294118</dd><dt>5</dt><dd>1</dd></dl>\n"
      ],
      "text/latex": [
       "\\begin{description*}\n",
       "\\item[0] 0.382352941176471\n",
       "\\item[1] 0.735294117647059\n",
       "\\item[2] 0.882352941176471\n",
       "\\item[3] 0.941176470588235\n",
       "\\item[4] 0.970588235294118\n",
       "\\item[5] 1\n",
       "\\end{description*}\n"
      ],
      "text/markdown": [
       "0\n",
       ":   0.3823529411764711\n",
       ":   0.7352941176470592\n",
       ":   0.8823529411764713\n",
       ":   0.9411764705882354\n",
       ":   0.9705882352941185\n",
       ":   1\n",
       "\n"
      ],
      "text/plain": [
       "        0         1         2         3         4         5 \n",
       "0.3823529 0.7352941 0.8823529 0.9411765 0.9705882 1.0000000 "
      ]
     },
     "metadata": {},
     "output_type": "display_data"
    },
    {
     "data": {
      "text/html": [
       "'Probabilidad para 2 goles'"
      ],
      "text/latex": [
       "'Probabilidad para 2 goles'"
      ],
      "text/markdown": [
       "'Probabilidad para 2 goles'"
      ],
      "text/plain": [
       "[1] \"Probabilidad para 2 goles\""
      ]
     },
     "metadata": {},
     "output_type": "display_data"
    },
    {
     "data": {
      "text/html": [
       "<strong>1:</strong> 0.735294117647059"
      ],
      "text/latex": [
       "\\textbf{1:} 0.735294117647059"
      ],
      "text/markdown": [
       "**1:** 0.735294117647059"
      ],
      "text/plain": [
       "        1 \n",
       "0.7352941 "
      ]
     },
     "metadata": {},
     "output_type": "display_data"
    }
   ],
   "source": [
    "# valores acumulados\n",
    "p_acum <- cumsum(prob)\n",
    "p_acum\n",
    "\n",
    "sprintf(\"Probabilidad para que el equipo meta 1 gol\")\n",
    "p_1 <- p_acum[2]\n",
    "p_1\n",
    "\n",
    "sprintf(\"Probabilidad para que el equipo meta 2 gol\")\n",
    "p_2 <- p_acum[3]\n",
    "p_2\n"
   ]
  },
  {
   "cell_type": "markdown",
   "metadata": {},
   "source": [
    "### Cual es la cantidad de golpes que hace en el 70% de los partidos?\n",
    "\n",
    "$x=\\mu + \\sigma z$\n",
    "\n",
    "$z=0.53, \\mu =1.57, \\sigma= 0.8538$\n",
    "\n",
    "$X=1.57+(0.8538)(0.53)=1.12$\n"
   ]
  },
  {
   "cell_type": "code",
   "execution_count": 45,
   "metadata": {},
   "outputs": [
    {
     "data": {
      "text/html": [
       "'Hope'"
      ],
      "text/latex": [
       "'Hope'"
      ],
      "text/markdown": [
       "'Hope'"
      ],
      "text/plain": [
       "[1] \"Hope\""
      ]
     },
     "metadata": {},
     "output_type": "display_data"
    },
    {
     "data": {
      "text/html": [
       "1.08823529411765"
      ],
      "text/latex": [
       "1.08823529411765"
      ],
      "text/markdown": [
       "1.08823529411765"
      ],
      "text/plain": [
       "[1] 1.088235"
      ]
     },
     "metadata": {},
     "output_type": "display_data"
    },
    {
     "data": {
      "text/html": [
       "'Variance w'"
      ],
      "text/latex": [
       "'Variance w'"
      ],
      "text/markdown": [
       "'Variance w'"
      ],
      "text/plain": [
       "[1] \"Variance w\""
      ]
     },
     "metadata": {},
     "output_type": "display_data"
    },
    {
     "data": {
      "text/html": [
       "1.49221453287197"
      ],
      "text/latex": [
       "1.49221453287197"
      ],
      "text/markdown": [
       "1.49221453287197"
      ],
      "text/plain": [
       "[1] 1.492215"
      ]
     },
     "metadata": {},
     "output_type": "display_data"
    },
    {
     "data": {
      "text/html": [
       "'Standart desv W'"
      ],
      "text/latex": [
       "'Standart desv W'"
      ],
      "text/markdown": [
       "'Standart desv W'"
      ],
      "text/plain": [
       "[1] \"Standart desv W\""
      ]
     },
     "metadata": {},
     "output_type": "display_data"
    },
    {
     "data": {
      "text/html": [
       "1.22156233278207"
      ],
      "text/latex": [
       "1.22156233278207"
      ],
      "text/markdown": [
       "1.22156233278207"
      ],
      "text/plain": [
       "[1] 1.221562"
      ]
     },
     "metadata": {},
     "output_type": "display_data"
    },
    {
     "data": {
      "text/html": [
       "'Valores acumulados'"
      ],
      "text/latex": [
       "'Valores acumulados'"
      ],
      "text/markdown": [
       "'Valores acumulados'"
      ],
      "text/plain": [
       "[1] \"Valores acumulados\""
      ]
     },
     "metadata": {},
     "output_type": "display_data"
    },
    {
     "data": {
      "text/html": [
       "<style>\n",
       ".dl-inline {width: auto; margin:0; padding: 0}\n",
       ".dl-inline>dt, .dl-inline>dd {float: none; width: auto; display: inline-block}\n",
       ".dl-inline>dt::after {content: \":\\0020\"; padding-right: .5ex}\n",
       ".dl-inline>dt:not(:first-of-type) {padding-left: .5ex}\n",
       "</style><dl class=dl-inline><dt>0</dt><dd>0.382352941176471</dd><dt>1</dt><dd>0.735294117647059</dd><dt>2</dt><dd>0.882352941176471</dd><dt>3</dt><dd>0.941176470588235</dd><dt>4</dt><dd>0.970588235294118</dd><dt>5</dt><dd>1</dd></dl>\n"
      ],
      "text/latex": [
       "\\begin{description*}\n",
       "\\item[0] 0.382352941176471\n",
       "\\item[1] 0.735294117647059\n",
       "\\item[2] 0.882352941176471\n",
       "\\item[3] 0.941176470588235\n",
       "\\item[4] 0.970588235294118\n",
       "\\item[5] 1\n",
       "\\end{description*}\n"
      ],
      "text/markdown": [
       "0\n",
       ":   0.3823529411764711\n",
       ":   0.7352941176470592\n",
       ":   0.8823529411764713\n",
       ":   0.9411764705882354\n",
       ":   0.9705882352941185\n",
       ":   1\n",
       "\n"
      ],
      "text/plain": [
       "        0         1         2         3         4         5 \n",
       "0.3823529 0.7352941 0.8823529 0.9411765 0.9705882 1.0000000 "
      ]
     },
     "metadata": {},
     "output_type": "display_data"
    },
    {
     "data": {
      "text/html": [
       "'Probabilidad de hacer entre 1 y 3 goles'"
      ],
      "text/latex": [
       "'Probabilidad de hacer entre 1 y 3 goles'"
      ],
      "text/markdown": [
       "'Probabilidad de hacer entre 1 y 3 goles'"
      ],
      "text/plain": [
       "[1] \"Probabilidad de hacer entre 1 y 3 goles\""
      ]
     },
     "metadata": {},
     "output_type": "display_data"
    },
    {
     "data": {
      "text/html": [
       "<strong>3:</strong> 0.205882352941176"
      ],
      "text/latex": [
       "\\textbf{3:} 0.205882352941176"
      ],
      "text/markdown": [
       "**3:** 0.205882352941176"
      ],
      "text/plain": [
       "        3 \n",
       "0.2058824 "
      ]
     },
     "metadata": {},
     "output_type": "display_data"
    },
    {
     "data": {
      "text/html": [
       "1.73566333049214"
      ],
      "text/latex": [
       "1.73566333049214"
      ],
      "text/markdown": [
       "1.73566333049214"
      ],
      "text/plain": [
       "[1] 1.735663"
      ]
     },
     "metadata": {},
     "output_type": "display_data"
    },
    {
     "data": {
      "text/html": [
       "0.958688309554555"
      ],
      "text/latex": [
       "0.958688309554555"
      ],
      "text/markdown": [
       "0.958688309554555"
      ],
      "text/plain": [
       "[1] 0.9586883"
      ]
     },
     "metadata": {},
     "output_type": "display_data"
    }
   ],
   "source": [
    "# Formar el grupo de fenomenos para calcular en cada uno\n",
    "n_goles <- c(0:5)\n",
    "p<- as.numeric(prob)\n",
    "\n",
    "sprintf(\"Hope\")\n",
    "esperanza <- weighted.mean(n_goles,p)\n",
    "esperanza\n",
    "\n",
    "sprintf(\"Variance w\")\n",
    "wvar <- w.var(n_goles,p)\n",
    "wvar\n",
    "\n",
    "sprintf(\"Standart desv W\")\n",
    "wsd <- w.sd(n_goles,p)\n",
    "wsd\n",
    "\n",
    "###Valores acumulados\n",
    "sprintf(\"Valores acumulados\")\n",
    "p_acum <- cumsum(prob)\n",
    "p_acum\n",
    "\n",
    "###Probabilidad de hacer entre 1 y 3 goles\n",
    "sprintf(\"Probabilidad de hacer entre 1 y 3 goles\")\n",
    "p_acum[4]-p_acum[2]\n",
    "\n",
    "####Valores Z\n",
    "x <- 2\n",
    "\n",
    "# mean are Hope\n",
    "media <- esperanza\n",
    "desviacion <- wsd\n",
    "\n",
    "###\n",
    "Z <- 0.53\n",
    "X <- esperanza+(wsd*Z)\n",
    "###z <- (x-media)/desviacion\n",
    "X\n",
    "pnorm(X)\n",
    "\n"
   ]
  },
  {
   "cell_type": "markdown",
   "metadata": {},
   "source": [
    "# Esperanza\n",
    "La esperanza es el fenomeno multiplicado por la probabilidad sumado la proxima probabilidad, en este caso se usa como la media.\n",
    "\n",
    "## Ejercicio\n",
    "En el portal de datos abiertos de colombia se encuentra la siguiente información:\n",
    "\n",
    "clase, placa, marca, modelo, linea, cilindraje, con novedad, sin novedad.\n",
    "\n",
    "Encuentre la distribución de probabilidad acumulada para las motos basadas en el cilindraje.Para ello divida categorias 0 a 124, 125-165, 165-225, 225-500 y mas de 500\n",
    "\n",
    "* Probabilidad de encontrar una motocicleta con un cilindraje entre 125 y 250\n",
    "\n",
    "* Cual es el cilindraje del 30% de las motocicletas"
   ]
  },
  {
   "cell_type": "code",
   "execution_count": 53,
   "metadata": {},
   "outputs": [],
   "source": [
    "vehicles_df <- read.csv(\"https://www.datos.gov.co/api/views/x9pp-pcn5/rows.csv?accessType=DOWNLOAD\")\n",
    "\n",
    "\n"
   ]
  },
  {
   "cell_type": "code",
   "execution_count": 76,
   "metadata": {},
   "outputs": [
    {
     "data": {
      "text/html": [
       "'Column names'"
      ],
      "text/latex": [
       "'Column names'"
      ],
      "text/markdown": [
       "'Column names'"
      ],
      "text/plain": [
       "[1] \"Column names\""
      ]
     },
     "metadata": {},
     "output_type": "display_data"
    },
    {
     "data": {
      "text/html": [
       "<style>\n",
       ".list-inline {list-style: none; margin:0; padding: 0}\n",
       ".list-inline>li {display: inline-block}\n",
       ".list-inline>li:not(:last-child)::after {content: \"\\00b7\"; padding: 0 .5ex}\n",
       "</style>\n",
       "<ol class=list-inline><li>'CLASE'</li><li>'PLACA'</li><li>'MARCA'</li><li>'MODELO'</li><li>'LINEA'</li><li>'CILINDRAJE'</li></ol>\n"
      ],
      "text/latex": [
       "\\begin{enumerate*}\n",
       "\\item 'CLASE'\n",
       "\\item 'PLACA'\n",
       "\\item 'MARCA'\n",
       "\\item 'MODELO'\n",
       "\\item 'LINEA'\n",
       "\\item 'CILINDRAJE'\n",
       "\\end{enumerate*}\n"
      ],
      "text/markdown": [
       "1. 'CLASE'\n",
       "2. 'PLACA'\n",
       "3. 'MARCA'\n",
       "4. 'MODELO'\n",
       "5. 'LINEA'\n",
       "6. 'CILINDRAJE'\n",
       "\n",
       "\n"
      ],
      "text/plain": [
       "[1] \"CLASE\"      \"PLACA\"      \"MARCA\"      \"MODELO\"     \"LINEA\"     \n",
       "[6] \"CILINDRAJE\""
      ]
     },
     "metadata": {},
     "output_type": "display_data"
    },
    {
     "data": {
      "text/html": [
       "'Head'"
      ],
      "text/latex": [
       "'Head'"
      ],
      "text/markdown": [
       "'Head'"
      ],
      "text/plain": [
       "[1] \"Head\""
      ]
     },
     "metadata": {},
     "output_type": "display_data"
    },
    {
     "data": {
      "text/html": [
       "<table>\n",
       "<caption>A data.frame: 6 × 6</caption>\n",
       "<thead>\n",
       "\t<tr><th></th><th scope=col>CLASE</th><th scope=col>PLACA</th><th scope=col>MARCA</th><th scope=col>MODELO</th><th scope=col>LINEA</th><th scope=col>CILINDRAJE</th></tr>\n",
       "\t<tr><th></th><th scope=col>&lt;fct&gt;</th><th scope=col>&lt;fct&gt;</th><th scope=col>&lt;fct&gt;</th><th scope=col>&lt;int&gt;</th><th scope=col>&lt;fct&gt;</th><th scope=col>&lt;int&gt;</th></tr>\n",
       "</thead>\n",
       "<tbody>\n",
       "\t<tr><th scope=row>1</th><td>AMBULANCIA</td><td>OCA021</td><td>CHEVROLET </td><td>1994</td><td>DIMAX 4X4 3000                 </td><td>5700</td></tr>\n",
       "\t<tr><th scope=row>2</th><td>AMBULANCIA</td><td>OCA050</td><td>FORD      </td><td>1997</td><td>F-150                          </td><td>4942</td></tr>\n",
       "\t<tr><th scope=row>3</th><td>AMBULANCIA</td><td>HWO878</td><td>TOYOTA    </td><td>2014</td><td>LAND CRUISER 4000              </td><td>4000</td></tr>\n",
       "\t<tr><th scope=row>4</th><td>AMBULANCIA</td><td>HWT466</td><td>NISSAN    </td><td>2015</td><td>URBAN 3000                     </td><td>3000</td></tr>\n",
       "\t<tr><th scope=row>5</th><td>AMBULANCIA</td><td>OVE404</td><td>JAC       </td><td>2015</td><td>HFC5049XJHKM 2771              </td><td>2771</td></tr>\n",
       "\t<tr><th scope=row>6</th><td>AMBULANCIA</td><td>IGN198</td><td>VOLKSWAGEN</td><td>2015</td><td>TRANSPORTER KOMBI T5 GP MT 1968</td><td>1968</td></tr>\n",
       "</tbody>\n",
       "</table>\n"
      ],
      "text/latex": [
       "A data.frame: 6 × 6\n",
       "\\begin{tabular}{r|llllll}\n",
       "  & CLASE & PLACA & MARCA & MODELO & LINEA & CILINDRAJE\\\\\n",
       "  & <fct> & <fct> & <fct> & <int> & <fct> & <int>\\\\\n",
       "\\hline\n",
       "\t1 & AMBULANCIA & OCA021 & CHEVROLET  & 1994 & DIMAX 4X4 3000                  & 5700\\\\\n",
       "\t2 & AMBULANCIA & OCA050 & FORD       & 1997 & F-150                           & 4942\\\\\n",
       "\t3 & AMBULANCIA & HWO878 & TOYOTA     & 2014 & LAND CRUISER 4000               & 4000\\\\\n",
       "\t4 & AMBULANCIA & HWT466 & NISSAN     & 2015 & URBAN 3000                      & 3000\\\\\n",
       "\t5 & AMBULANCIA & OVE404 & JAC        & 2015 & HFC5049XJHKM 2771               & 2771\\\\\n",
       "\t6 & AMBULANCIA & IGN198 & VOLKSWAGEN & 2015 & TRANSPORTER KOMBI T5 GP MT 1968 & 1968\\\\\n",
       "\\end{tabular}\n"
      ],
      "text/markdown": [
       "\n",
       "A data.frame: 6 × 6\n",
       "\n",
       "| <!--/--> | CLASE &lt;fct&gt; | PLACA &lt;fct&gt; | MARCA &lt;fct&gt; | MODELO &lt;int&gt; | LINEA &lt;fct&gt; | CILINDRAJE &lt;int&gt; |\n",
       "|---|---|---|---|---|---|---|\n",
       "| 1 | AMBULANCIA | OCA021 | CHEVROLET  | 1994 | DIMAX 4X4 3000                  | 5700 |\n",
       "| 2 | AMBULANCIA | OCA050 | FORD       | 1997 | F-150                           | 4942 |\n",
       "| 3 | AMBULANCIA | HWO878 | TOYOTA     | 2014 | LAND CRUISER 4000               | 4000 |\n",
       "| 4 | AMBULANCIA | HWT466 | NISSAN     | 2015 | URBAN 3000                      | 3000 |\n",
       "| 5 | AMBULANCIA | OVE404 | JAC        | 2015 | HFC5049XJHKM 2771               | 2771 |\n",
       "| 6 | AMBULANCIA | IGN198 | VOLKSWAGEN | 2015 | TRANSPORTER KOMBI T5 GP MT 1968 | 1968 |\n",
       "\n"
      ],
      "text/plain": [
       "  CLASE      PLACA  MARCA      MODELO LINEA                          \n",
       "1 AMBULANCIA OCA021 CHEVROLET  1994   DIMAX 4X4 3000                 \n",
       "2 AMBULANCIA OCA050 FORD       1997   F-150                          \n",
       "3 AMBULANCIA HWO878 TOYOTA     2014   LAND CRUISER 4000              \n",
       "4 AMBULANCIA HWT466 NISSAN     2015   URBAN 3000                     \n",
       "5 AMBULANCIA OVE404 JAC        2015   HFC5049XJHKM 2771              \n",
       "6 AMBULANCIA IGN198 VOLKSWAGEN 2015   TRANSPORTER KOMBI T5 GP MT 1968\n",
       "  CILINDRAJE\n",
       "1 5700      \n",
       "2 4942      \n",
       "3 4000      \n",
       "4 3000      \n",
       "5 2771      \n",
       "6 1968      "
      ]
     },
     "metadata": {},
     "output_type": "display_data"
    },
    {
     "data": {
      "text/html": [
       "'Tail'"
      ],
      "text/latex": [
       "'Tail'"
      ],
      "text/markdown": [
       "'Tail'"
      ],
      "text/plain": [
       "[1] \"Tail\""
      ]
     },
     "metadata": {},
     "output_type": "display_data"
    },
    {
     "data": {
      "text/html": [
       "<table>\n",
       "<caption>A data.frame: 6 × 6</caption>\n",
       "<thead>\n",
       "\t<tr><th></th><th scope=col>CLASE</th><th scope=col>PLACA</th><th scope=col>MARCA</th><th scope=col>MODELO</th><th scope=col>LINEA</th><th scope=col>CILINDRAJE</th></tr>\n",
       "\t<tr><th></th><th scope=col>&lt;fct&gt;</th><th scope=col>&lt;fct&gt;</th><th scope=col>&lt;fct&gt;</th><th scope=col>&lt;int&gt;</th><th scope=col>&lt;fct&gt;</th><th scope=col>&lt;int&gt;</th></tr>\n",
       "</thead>\n",
       "<tbody>\n",
       "\t<tr><th scope=row>157341</th><td>VOLQUETA</td><td>OVE472</td><td>VOLKSWAGEN   </td><td>2018</td><td>WORKER 9150 4X2 MT 4300                                     </td><td>4300</td></tr>\n",
       "\t<tr><th scope=row>157342</th><td>VOLQUETA</td><td>OVE473</td><td>VOLKSWAGEN   </td><td>2018</td><td>WORKER 9150 4X2 MT 4300                                     </td><td>4300</td></tr>\n",
       "\t<tr><th scope=row>157343</th><td>VOLQUETA</td><td>OVE470</td><td>VOLKSWAGEN   </td><td>2018</td><td>WORKER 9150 4X2 MT 4300                                     </td><td>4300</td></tr>\n",
       "\t<tr><th scope=row>157344</th><td>VOLQUETA</td><td>OOJ526</td><td>INTERNATIONAL</td><td>1973</td><td>LINEAS Y CILINDRAJE NO INCLUIDAS DE ESTA MARCA ANTES DE 1994</td><td>6700</td></tr>\n",
       "\t<tr><th scope=row>157345</th><td>VOLQUETA</td><td>FBH968</td><td>DODGE        </td><td>1979</td><td>D600 157 5900                                               </td><td>5600</td></tr>\n",
       "\t<tr><th scope=row>157346</th><td>VOLQUETA</td><td>QGV496</td><td>CHEVROLET    </td><td>1988</td><td>C70 5900                                                    </td><td>5400</td></tr>\n",
       "</tbody>\n",
       "</table>\n"
      ],
      "text/latex": [
       "A data.frame: 6 × 6\n",
       "\\begin{tabular}{r|llllll}\n",
       "  & CLASE & PLACA & MARCA & MODELO & LINEA & CILINDRAJE\\\\\n",
       "  & <fct> & <fct> & <fct> & <int> & <fct> & <int>\\\\\n",
       "\\hline\n",
       "\t157341 & VOLQUETA & OVE472 & VOLKSWAGEN    & 2018 & WORKER 9150 4X2 MT 4300                                      & 4300\\\\\n",
       "\t157342 & VOLQUETA & OVE473 & VOLKSWAGEN    & 2018 & WORKER 9150 4X2 MT 4300                                      & 4300\\\\\n",
       "\t157343 & VOLQUETA & OVE470 & VOLKSWAGEN    & 2018 & WORKER 9150 4X2 MT 4300                                      & 4300\\\\\n",
       "\t157344 & VOLQUETA & OOJ526 & INTERNATIONAL & 1973 & LINEAS Y CILINDRAJE NO INCLUIDAS DE ESTA MARCA ANTES DE 1994 & 6700\\\\\n",
       "\t157345 & VOLQUETA & FBH968 & DODGE         & 1979 & D600 157 5900                                                & 5600\\\\\n",
       "\t157346 & VOLQUETA & QGV496 & CHEVROLET     & 1988 & C70 5900                                                     & 5400\\\\\n",
       "\\end{tabular}\n"
      ],
      "text/markdown": [
       "\n",
       "A data.frame: 6 × 6\n",
       "\n",
       "| <!--/--> | CLASE &lt;fct&gt; | PLACA &lt;fct&gt; | MARCA &lt;fct&gt; | MODELO &lt;int&gt; | LINEA &lt;fct&gt; | CILINDRAJE &lt;int&gt; |\n",
       "|---|---|---|---|---|---|---|\n",
       "| 157341 | VOLQUETA | OVE472 | VOLKSWAGEN    | 2018 | WORKER 9150 4X2 MT 4300                                      | 4300 |\n",
       "| 157342 | VOLQUETA | OVE473 | VOLKSWAGEN    | 2018 | WORKER 9150 4X2 MT 4300                                      | 4300 |\n",
       "| 157343 | VOLQUETA | OVE470 | VOLKSWAGEN    | 2018 | WORKER 9150 4X2 MT 4300                                      | 4300 |\n",
       "| 157344 | VOLQUETA | OOJ526 | INTERNATIONAL | 1973 | LINEAS Y CILINDRAJE NO INCLUIDAS DE ESTA MARCA ANTES DE 1994 | 6700 |\n",
       "| 157345 | VOLQUETA | FBH968 | DODGE         | 1979 | D600 157 5900                                                | 5600 |\n",
       "| 157346 | VOLQUETA | QGV496 | CHEVROLET     | 1988 | C70 5900                                                     | 5400 |\n",
       "\n"
      ],
      "text/plain": [
       "       CLASE    PLACA  MARCA         MODELO\n",
       "157341 VOLQUETA OVE472 VOLKSWAGEN    2018  \n",
       "157342 VOLQUETA OVE473 VOLKSWAGEN    2018  \n",
       "157343 VOLQUETA OVE470 VOLKSWAGEN    2018  \n",
       "157344 VOLQUETA OOJ526 INTERNATIONAL 1973  \n",
       "157345 VOLQUETA FBH968 DODGE         1979  \n",
       "157346 VOLQUETA QGV496 CHEVROLET     1988  \n",
       "       LINEA                                                        CILINDRAJE\n",
       "157341 WORKER 9150 4X2 MT 4300                                      4300      \n",
       "157342 WORKER 9150 4X2 MT 4300                                      4300      \n",
       "157343 WORKER 9150 4X2 MT 4300                                      4300      \n",
       "157344 LINEAS Y CILINDRAJE NO INCLUIDAS DE ESTA MARCA ANTES DE 1994 6700      \n",
       "157345 D600 157 5900                                                5600      \n",
       "157346 C70 5900                                                     5400      "
      ]
     },
     "metadata": {},
     "output_type": "display_data"
    },
    {
     "data": {
      "text/html": [
       "<style>\n",
       ".list-inline {list-style: none; margin:0; padding: 0}\n",
       ".list-inline>li {display: inline-block}\n",
       ".list-inline>li:not(:last-child)::after {content: \"\\00b7\"; padding: 0 .5ex}\n",
       "</style>\n",
       "<ol class=list-inline><li>'AMBULANCIA'</li><li>'AUTOMOVIL'</li><li>'BUS'</li><li>'BUSETA'</li><li>'CAMIÃ“N'</li><li>'CAMIONETA'</li><li>'CAMPERO'</li><li>'MICRO BUS'</li><li>'MOTOCARRO'</li><li>'MOTOCICLETA'</li><li>'MOTOTRICICLO'</li><li>'TRACTO-CAMIÃ“N'</li><li>'VOLQUETA'</li></ol>\n"
      ],
      "text/latex": [
       "\\begin{enumerate*}\n",
       "\\item 'AMBULANCIA'\n",
       "\\item 'AUTOMOVIL'\n",
       "\\item 'BUS'\n",
       "\\item 'BUSETA'\n",
       "\\item 'CAMIÃ“N'\n",
       "\\item 'CAMIONETA'\n",
       "\\item 'CAMPERO'\n",
       "\\item 'MICRO BUS'\n",
       "\\item 'MOTOCARRO'\n",
       "\\item 'MOTOCICLETA'\n",
       "\\item 'MOTOTRICICLO'\n",
       "\\item 'TRACTO-CAMIÃ“N'\n",
       "\\item 'VOLQUETA'\n",
       "\\end{enumerate*}\n"
      ],
      "text/markdown": [
       "1. 'AMBULANCIA'\n",
       "2. 'AUTOMOVIL'\n",
       "3. 'BUS'\n",
       "4. 'BUSETA'\n",
       "5. 'CAMIÃ“N'\n",
       "6. 'CAMIONETA'\n",
       "7. 'CAMPERO'\n",
       "8. 'MICRO BUS'\n",
       "9. 'MOTOCARRO'\n",
       "10. 'MOTOCICLETA'\n",
       "11. 'MOTOTRICICLO'\n",
       "12. 'TRACTO-CAMIÃ“N'\n",
       "13. 'VOLQUETA'\n",
       "\n",
       "\n"
      ],
      "text/plain": [
       " [1] \"AMBULANCIA\"     \"AUTOMOVIL\"      \"BUS\"            \"BUSETA\"        \n",
       " [5] \"CAMIÃ“N\"        \"CAMIONETA\"      \"CAMPERO\"        \"MICRO BUS\"     \n",
       " [9] \"MOTOCARRO\"      \"MOTOCICLETA\"    \"MOTOTRICICLO\"   \"TRACTO-CAMIÃ“N\"\n",
       "[13] \"VOLQUETA\"      "
      ]
     },
     "metadata": {},
     "output_type": "display_data"
    },
    {
     "data": {
      "text/html": [
       "'Head for dataframe motos'"
      ],
      "text/latex": [
       "'Head for dataframe motos'"
      ],
      "text/markdown": [
       "'Head for dataframe motos'"
      ],
      "text/plain": [
       "[1] \"Head for dataframe motos\""
      ]
     },
     "metadata": {},
     "output_type": "display_data"
    },
    {
     "data": {
      "text/html": [
       "<table>\n",
       "<caption>A data.frame: 6 × 6</caption>\n",
       "<thead>\n",
       "\t<tr><th></th><th scope=col>CLASE</th><th scope=col>PLACA</th><th scope=col>MARCA</th><th scope=col>MODELO</th><th scope=col>LINEA</th><th scope=col>CILINDRAJE</th></tr>\n",
       "\t<tr><th></th><th scope=col>&lt;fct&gt;</th><th scope=col>&lt;fct&gt;</th><th scope=col>&lt;fct&gt;</th><th scope=col>&lt;int&gt;</th><th scope=col>&lt;fct&gt;</th><th scope=col>&lt;int&gt;</th></tr>\n",
       "</thead>\n",
       "<tbody>\n",
       "\t<tr><th scope=row>1</th><td>MOTOCICLETA</td><td>AAP39A</td><td>YAMAHA  </td><td>1996</td><td>DT 200 MT 200       </td><td>200</td></tr>\n",
       "\t<tr><th scope=row>2</th><td>MOTOCICLETA</td><td>AAW31A</td><td>YAMAHA  </td><td>1996</td><td>DT 200 MT 200       </td><td>200</td></tr>\n",
       "\t<tr><th scope=row>3</th><td>MOTOCICLETA</td><td>ABE64 </td><td>KAWASAKI</td><td>1979</td><td>KE 175 ENDURO MT 175</td><td>175</td></tr>\n",
       "\t<tr><th scope=row>4</th><td>MOTOCICLETA</td><td>ABT84 </td><td>BMW     </td><td>1979</td><td>SIN LINEA           </td><td>972</td></tr>\n",
       "\t<tr><th scope=row>5</th><td>MOTOCICLETA</td><td>ACE99 </td><td>HONDA   </td><td>1979</td><td>XL 200 MT 197       </td><td>250</td></tr>\n",
       "\t<tr><th scope=row>6</th><td>MOTOCICLETA</td><td>ADR05 </td><td>KAWASAKI</td><td>1979</td><td>KE 175 ENDURO MT 175</td><td>175</td></tr>\n",
       "</tbody>\n",
       "</table>\n"
      ],
      "text/latex": [
       "A data.frame: 6 × 6\n",
       "\\begin{tabular}{r|llllll}\n",
       "  & CLASE & PLACA & MARCA & MODELO & LINEA & CILINDRAJE\\\\\n",
       "  & <fct> & <fct> & <fct> & <int> & <fct> & <int>\\\\\n",
       "\\hline\n",
       "\t1 & MOTOCICLETA & AAP39A & YAMAHA   & 1996 & DT 200 MT 200        & 200\\\\\n",
       "\t2 & MOTOCICLETA & AAW31A & YAMAHA   & 1996 & DT 200 MT 200        & 200\\\\\n",
       "\t3 & MOTOCICLETA & ABE64  & KAWASAKI & 1979 & KE 175 ENDURO MT 175 & 175\\\\\n",
       "\t4 & MOTOCICLETA & ABT84  & BMW      & 1979 & SIN LINEA            & 972\\\\\n",
       "\t5 & MOTOCICLETA & ACE99  & HONDA    & 1979 & XL 200 MT 197        & 250\\\\\n",
       "\t6 & MOTOCICLETA & ADR05  & KAWASAKI & 1979 & KE 175 ENDURO MT 175 & 175\\\\\n",
       "\\end{tabular}\n"
      ],
      "text/markdown": [
       "\n",
       "A data.frame: 6 × 6\n",
       "\n",
       "| <!--/--> | CLASE &lt;fct&gt; | PLACA &lt;fct&gt; | MARCA &lt;fct&gt; | MODELO &lt;int&gt; | LINEA &lt;fct&gt; | CILINDRAJE &lt;int&gt; |\n",
       "|---|---|---|---|---|---|---|\n",
       "| 1 | MOTOCICLETA | AAP39A | YAMAHA   | 1996 | DT 200 MT 200        | 200 |\n",
       "| 2 | MOTOCICLETA | AAW31A | YAMAHA   | 1996 | DT 200 MT 200        | 200 |\n",
       "| 3 | MOTOCICLETA | ABE64  | KAWASAKI | 1979 | KE 175 ENDURO MT 175 | 175 |\n",
       "| 4 | MOTOCICLETA | ABT84  | BMW      | 1979 | SIN LINEA            | 972 |\n",
       "| 5 | MOTOCICLETA | ACE99  | HONDA    | 1979 | XL 200 MT 197        | 250 |\n",
       "| 6 | MOTOCICLETA | ADR05  | KAWASAKI | 1979 | KE 175 ENDURO MT 175 | 175 |\n",
       "\n"
      ],
      "text/plain": [
       "  CLASE       PLACA  MARCA    MODELO LINEA                CILINDRAJE\n",
       "1 MOTOCICLETA AAP39A YAMAHA   1996   DT 200 MT 200        200       \n",
       "2 MOTOCICLETA AAW31A YAMAHA   1996   DT 200 MT 200        200       \n",
       "3 MOTOCICLETA ABE64  KAWASAKI 1979   KE 175 ENDURO MT 175 175       \n",
       "4 MOTOCICLETA ABT84  BMW      1979   SIN LINEA            972       \n",
       "5 MOTOCICLETA ACE99  HONDA    1979   XL 200 MT 197        250       \n",
       "6 MOTOCICLETA ADR05  KAWASAKI 1979   KE 175 ENDURO MT 175 175       "
      ]
     },
     "metadata": {},
     "output_type": "display_data"
    },
    {
     "data": {
      "text/html": [
       "'Head for dataframe motos con categorias'"
      ],
      "text/latex": [
       "'Head for dataframe motos con categorias'"
      ],
      "text/markdown": [
       "'Head for dataframe motos con categorias'"
      ],
      "text/plain": [
       "[1] \"Head for dataframe motos con categorias\""
      ]
     },
     "metadata": {},
     "output_type": "display_data"
    },
    {
     "data": {
      "text/html": [
       "<table>\n",
       "<caption>A data.frame: 6 × 7</caption>\n",
       "<thead>\n",
       "\t<tr><th></th><th scope=col>CLASE</th><th scope=col>PLACA</th><th scope=col>MARCA</th><th scope=col>MODELO</th><th scope=col>LINEA</th><th scope=col>CILINDRAJE</th><th scope=col>TIPO</th></tr>\n",
       "\t<tr><th></th><th scope=col>&lt;fct&gt;</th><th scope=col>&lt;fct&gt;</th><th scope=col>&lt;fct&gt;</th><th scope=col>&lt;int&gt;</th><th scope=col>&lt;fct&gt;</th><th scope=col>&lt;int&gt;</th><th scope=col>&lt;chr&gt;</th></tr>\n",
       "</thead>\n",
       "<tbody>\n",
       "\t<tr><th scope=row>1</th><td>MOTOCICLETA</td><td>AAP39A</td><td>YAMAHA  </td><td>1996</td><td>DT 200 MT 200       </td><td>200</td><td>181 a 220 </td></tr>\n",
       "\t<tr><th scope=row>2</th><td>MOTOCICLETA</td><td>AAW31A</td><td>YAMAHA  </td><td>1996</td><td>DT 200 MT 200       </td><td>200</td><td>181 a 220 </td></tr>\n",
       "\t<tr><th scope=row>3</th><td>MOTOCICLETA</td><td>ABE64 </td><td>KAWASAKI</td><td>1979</td><td>KE 175 ENDURO MT 175</td><td>175</td><td>151 a 180 </td></tr>\n",
       "\t<tr><th scope=row>4</th><td>MOTOCICLETA</td><td>ABT84 </td><td>BMW     </td><td>1979</td><td>SIN LINEA           </td><td>972</td><td>mas de 500</td></tr>\n",
       "\t<tr><th scope=row>5</th><td>MOTOCICLETA</td><td>ACE99 </td><td>HONDA   </td><td>1979</td><td>XL 200 MT 197       </td><td>250</td><td>221 a 500 </td></tr>\n",
       "\t<tr><th scope=row>6</th><td>MOTOCICLETA</td><td>ADR05 </td><td>KAWASAKI</td><td>1979</td><td>KE 175 ENDURO MT 175</td><td>175</td><td>151 a 180 </td></tr>\n",
       "</tbody>\n",
       "</table>\n"
      ],
      "text/latex": [
       "A data.frame: 6 × 7\n",
       "\\begin{tabular}{r|lllllll}\n",
       "  & CLASE & PLACA & MARCA & MODELO & LINEA & CILINDRAJE & TIPO\\\\\n",
       "  & <fct> & <fct> & <fct> & <int> & <fct> & <int> & <chr>\\\\\n",
       "\\hline\n",
       "\t1 & MOTOCICLETA & AAP39A & YAMAHA   & 1996 & DT 200 MT 200        & 200 & 181 a 220 \\\\\n",
       "\t2 & MOTOCICLETA & AAW31A & YAMAHA   & 1996 & DT 200 MT 200        & 200 & 181 a 220 \\\\\n",
       "\t3 & MOTOCICLETA & ABE64  & KAWASAKI & 1979 & KE 175 ENDURO MT 175 & 175 & 151 a 180 \\\\\n",
       "\t4 & MOTOCICLETA & ABT84  & BMW      & 1979 & SIN LINEA            & 972 & mas de 500\\\\\n",
       "\t5 & MOTOCICLETA & ACE99  & HONDA    & 1979 & XL 200 MT 197        & 250 & 221 a 500 \\\\\n",
       "\t6 & MOTOCICLETA & ADR05  & KAWASAKI & 1979 & KE 175 ENDURO MT 175 & 175 & 151 a 180 \\\\\n",
       "\\end{tabular}\n"
      ],
      "text/markdown": [
       "\n",
       "A data.frame: 6 × 7\n",
       "\n",
       "| <!--/--> | CLASE &lt;fct&gt; | PLACA &lt;fct&gt; | MARCA &lt;fct&gt; | MODELO &lt;int&gt; | LINEA &lt;fct&gt; | CILINDRAJE &lt;int&gt; | TIPO &lt;chr&gt; |\n",
       "|---|---|---|---|---|---|---|---|\n",
       "| 1 | MOTOCICLETA | AAP39A | YAMAHA   | 1996 | DT 200 MT 200        | 200 | 181 a 220  |\n",
       "| 2 | MOTOCICLETA | AAW31A | YAMAHA   | 1996 | DT 200 MT 200        | 200 | 181 a 220  |\n",
       "| 3 | MOTOCICLETA | ABE64  | KAWASAKI | 1979 | KE 175 ENDURO MT 175 | 175 | 151 a 180  |\n",
       "| 4 | MOTOCICLETA | ABT84  | BMW      | 1979 | SIN LINEA            | 972 | mas de 500 |\n",
       "| 5 | MOTOCICLETA | ACE99  | HONDA    | 1979 | XL 200 MT 197        | 250 | 221 a 500  |\n",
       "| 6 | MOTOCICLETA | ADR05  | KAWASAKI | 1979 | KE 175 ENDURO MT 175 | 175 | 151 a 180  |\n",
       "\n"
      ],
      "text/plain": [
       "  CLASE       PLACA  MARCA    MODELO LINEA                CILINDRAJE TIPO      \n",
       "1 MOTOCICLETA AAP39A YAMAHA   1996   DT 200 MT 200        200        181 a 220 \n",
       "2 MOTOCICLETA AAW31A YAMAHA   1996   DT 200 MT 200        200        181 a 220 \n",
       "3 MOTOCICLETA ABE64  KAWASAKI 1979   KE 175 ENDURO MT 175 175        151 a 180 \n",
       "4 MOTOCICLETA ABT84  BMW      1979   SIN LINEA            972        mas de 500\n",
       "5 MOTOCICLETA ACE99  HONDA    1979   XL 200 MT 197        250        221 a 500 \n",
       "6 MOTOCICLETA ADR05  KAWASAKI 1979   KE 175 ENDURO MT 175 175        151 a 180 "
      ]
     },
     "metadata": {},
     "output_type": "display_data"
    },
    {
     "data": {
      "text/html": [
       "'Frequency table (quantity)'"
      ],
      "text/latex": [
       "'Frequency table (quantity)'"
      ],
      "text/markdown": [
       "'Frequency table (quantity)'"
      ],
      "text/plain": [
       "[1] \"Frequency table (quantity)\""
      ]
     },
     "metadata": {},
     "output_type": "display_data"
    },
    {
     "data": {
      "text/plain": [
       "\n",
       "   0 a 150  151 a 180  181 a 220  221 a 500 mas de 500 \n",
       "     21555      12614       7918       2746       2056 "
      ]
     },
     "metadata": {},
     "output_type": "display_data"
    },
    {
     "data": {
      "text/html": [
       "'Frequency Graph'"
      ],
      "text/latex": [
       "'Frequency Graph'"
      ],
      "text/markdown": [
       "'Frequency Graph'"
      ],
      "text/plain": [
       "[1] \"Frequency Graph\""
      ]
     },
     "metadata": {},
     "output_type": "display_data"
    },
    {
     "data": {
      "text/html": [
       "'Prop table'"
      ],
      "text/latex": [
       "'Prop table'"
      ],
      "text/markdown": [
       "'Prop table'"
      ],
      "text/plain": [
       "[1] \"Prop table\""
      ]
     },
     "metadata": {},
     "output_type": "display_data"
    },
    {
     "data": {
      "text/plain": [
       "\n",
       "   0 a 150  151 a 180  181 a 220  221 a 500 mas de 500 \n",
       "0.45970270 0.26901832 0.16886690 0.05856384 0.04384824 "
      ]
     },
     "metadata": {},
     "output_type": "display_data"
    },
    {
     "data": {
      "text/html": [
       "'Probabilidad acumulada'"
      ],
      "text/latex": [
       "'Probabilidad acumulada'"
      ],
      "text/markdown": [
       "'Probabilidad acumulada'"
      ],
      "text/plain": [
       "[1] \"Probabilidad acumulada\""
      ]
     },
     "metadata": {},
     "output_type": "display_data"
    },
    {
     "data": {
      "text/html": [
       "<style>\n",
       ".dl-inline {width: auto; margin:0; padding: 0}\n",
       ".dl-inline>dt, .dl-inline>dd {float: none; width: auto; display: inline-block}\n",
       ".dl-inline>dt::after {content: \":\\0020\"; padding-right: .5ex}\n",
       ".dl-inline>dt:not(:first-of-type) {padding-left: .5ex}\n",
       "</style><dl class=dl-inline><dt>0 a 150</dt><dd>0.459702702126298</dd><dt>151 a 180</dt><dd>0.7287210219881</dd><dt>181 a 220</dt><dd>0.897587920407772</dd><dt>221 a 500</dt><dd>0.956151762673548</dd><dt>mas de 500</dt><dd>1</dd></dl>\n"
      ],
      "text/latex": [
       "\\begin{description*}\n",
       "\\item[0 a 150] 0.459702702126298\n",
       "\\item[151 a 180] 0.7287210219881\n",
       "\\item[181 a 220] 0.897587920407772\n",
       "\\item[221 a 500] 0.956151762673548\n",
       "\\item[mas de 500] 1\n",
       "\\end{description*}\n"
      ],
      "text/markdown": [
       "0 a 150\n",
       ":   0.459702702126298151 a 180\n",
       ":   0.7287210219881181 a 220\n",
       ":   0.897587920407772221 a 500\n",
       ":   0.956151762673548mas de 500\n",
       ":   1\n",
       "\n"
      ],
      "text/plain": [
       "   0 a 150  151 a 180  181 a 220  221 a 500 mas de 500 \n",
       " 0.4597027  0.7287210  0.8975879  0.9561518  1.0000000 "
      ]
     },
     "metadata": {},
     "output_type": "display_data"
    },
    {
     "data": {
      "text/html": [
       "'Probabildiad de que la moto tenga cilindraje entre 0 a 150'"
      ],
      "text/latex": [
       "'Probabildiad de que la moto tenga cilindraje entre 0 a 150'"
      ],
      "text/markdown": [
       "'Probabildiad de que la moto tenga cilindraje entre 0 a 150'"
      ],
      "text/plain": [
       "[1] \"Probabildiad de que la moto tenga cilindraje entre 0 a 150\""
      ]
     },
     "metadata": {},
     "output_type": "display_data"
    },
    {
     "data": {
      "text/html": [
       "<strong>0 a 150:</strong> 0.459702702126298"
      ],
      "text/latex": [
       "\\textbf{0 a 150:} 0.459702702126298"
      ],
      "text/markdown": [
       "**0 a 150:** 0.459702702126298"
      ],
      "text/plain": [
       "  0 a 150 \n",
       "0.4597027 "
      ]
     },
     "metadata": {},
     "output_type": "display_data"
    },
    {
     "data": {
      "text/html": [
       "'Probabildiad de que la moto tenga cilindraje más de 500'"
      ],
      "text/latex": [
       "'Probabildiad de que la moto tenga cilindraje más de 500'"
      ],
      "text/markdown": [
       "'Probabildiad de que la moto tenga cilindraje más de 500'"
      ],
      "text/plain": [
       "[1] \"Probabildiad de que la moto tenga cilindraje más de 500\""
      ]
     },
     "metadata": {},
     "output_type": "display_data"
    },
    {
     "data": {
      "text/html": [
       "<strong>mas de 500:</strong> 0.0438482373264518"
      ],
      "text/latex": [
       "\\textbf{mas de 500:} 0.0438482373264518"
      ],
      "text/markdown": [
       "**mas de 500:** 0.0438482373264518"
      ],
      "text/plain": [
       "mas de 500 \n",
       "0.04384824 "
      ]
     },
     "metadata": {},
     "output_type": "display_data"
    },
    {
     "data": {
      "text/html": [
       "'Probabilidad de encontrar una motocicleta de 0 a 150 ó 500 o mas'"
      ],
      "text/latex": [
       "'Probabilidad de encontrar una motocicleta de 0 a 150 ó 500 o mas'"
      ],
      "text/markdown": [
       "'Probabilidad de encontrar una motocicleta de 0 a 150 ó 500 o mas'"
      ],
      "text/plain": [
       "[1] \"Probabilidad de encontrar una motocicleta de 0 a 150 ó 500 o mas\""
      ]
     },
     "metadata": {},
     "output_type": "display_data"
    },
    {
     "data": {
      "text/html": [
       "<strong>0 a 150:</strong> 0.50355093945275"
      ],
      "text/latex": [
       "\\textbf{0 a 150:} 0.50355093945275"
      ],
      "text/markdown": [
       "**0 a 150:** 0.50355093945275"
      ],
      "text/plain": [
       "  0 a 150 \n",
       "0.5035509 "
      ]
     },
     "metadata": {},
     "output_type": "display_data"
    },
    {
     "data": {
      "text/html": [
       "'Hope'"
      ],
      "text/latex": [
       "'Hope'"
      ],
      "text/markdown": [
       "'Hope'"
      ],
      "text/plain": [
       "[1] \"Hope\""
      ]
     },
     "metadata": {},
     "output_type": "display_data"
    },
    {
     "data": {
      "text/html": [
       "1.95783659280428"
      ],
      "text/latex": [
       "1.95783659280428"
      ],
      "text/markdown": [
       "1.95783659280428"
      ],
      "text/plain": [
       "[1] 1.957837"
      ]
     },
     "metadata": {},
     "output_type": "display_data"
    },
    {
     "data": {
      "text/html": [
       "'Standart desv W'"
      ],
      "text/latex": [
       "'Standart desv W'"
      ],
      "text/markdown": [
       "'Standart desv W'"
      ],
      "text/plain": [
       "[1] \"Standart desv W\""
      ]
     },
     "metadata": {},
     "output_type": "display_data"
    },
    {
     "data": {
      "text/html": [
       "1.12057188642264"
      ],
      "text/latex": [
       "1.12057188642264"
      ],
      "text/markdown": [
       "1.12057188642264"
      ],
      "text/plain": [
       "[1] 1.120572"
      ]
     },
     "metadata": {},
     "output_type": "display_data"
    },
    {
     "data": {
      "text/html": [
       "'value x_30'"
      ],
      "text/latex": [
       "'value x\\_30'"
      ],
      "text/markdown": [
       "'value x_30'"
      ],
      "text/plain": [
       "[1] \"value x_30\""
      ]
     },
     "metadata": {},
     "output_type": "display_data"
    },
    {
     "data": {
      "text/html": [
       "1.37020812103803"
      ],
      "text/latex": [
       "1.37020812103803"
      ],
      "text/markdown": [
       "1.37020812103803"
      ],
      "text/plain": [
       "[1] 1.370208"
      ]
     },
     "metadata": {},
     "output_type": "display_data"
    }
   ],
   "source": [
    "sprintf(\"Column names\")\n",
    "names(vehicles_df)\n",
    "\n",
    "sprintf(\"Head\")\n",
    "head(vehicles_df)\n",
    "sprintf(\"Tail\")\n",
    "tail(vehicles_df)\n",
    "\n",
    "levels(vehicles_df$CLASE)\n",
    "\n",
    "library(dplyr)\n",
    "# Filter\n",
    "motos_df <- filter(vehicles_df, vehicles_df$CLASE==\"MOTOCICLETA\")\n",
    "\n",
    "\n",
    "\n",
    "# Remove data (rows) where are null\n",
    "motos_df$CLASE<-droplevels(motos_df$CLASE)\n",
    "\n",
    "sprintf(\"Head for dataframe motos\")\n",
    "head(motos_df)\n",
    "\n",
    "#\n",
    "motos_df$TIPO[motos_df$CILINDRAJE >= 0 & motos_df$CILINDRAJE <= 150] <- \"0 a 150\"\n",
    "motos_df$TIPO[motos_df$CILINDRAJE > 150 & motos_df$CILINDRAJE <= 180] <- \"151 a 180\"\n",
    "motos_df$TIPO[motos_df$CILINDRAJE > 180 & motos_df$CILINDRAJE <= 220] <- \"181 a 220\"\n",
    "motos_df$TIPO[motos_df$CILINDRAJE > 220 & motos_df$CILINDRAJE <= 500] <- \"221 a 500\"\n",
    "motos_df$TIPO[motos_df$CILINDRAJE > 500] <- \"mas de 500\"\n",
    "\n",
    "sprintf(\"Head for dataframe motos con categorias\")\n",
    "head(motos_df)\n",
    "\n",
    "sprintf(\"Frequency table (quantity)\")\n",
    "frec_motos <- table(motos_df$TIPO)\n",
    "frec_motos\n",
    "\n",
    "sprintf(\"Frequency Graph\")\n",
    "#plot(frec_motos)\n",
    "\n",
    "# Probabilidad\n",
    "p_cilindraje <- prop.table(frec_motos)\n",
    "\n",
    "sprintf(\"Prop table\")\n",
    "p_cilindraje\n",
    "\n",
    "sprintf(\"Probabilidad acumulada\")\n",
    "cumsum(p_cilindraje)\n",
    "\n",
    "\n",
    "p1=p_cilindraje[\"0 a 150\"]\n",
    "p2=p_cilindraje[\"mas de 500\"]\n",
    "\n",
    "sprintf(\"Probabildiad de que la moto tenga cilindraje entre 0 a 150\")\n",
    "p1\n",
    "\n",
    "sprintf(\"Probabildiad de que la moto tenga cilindraje más de 500\")\n",
    "p2\n",
    "\n",
    "# Debido a que son mutuamente excluyentes se puede sumar\n",
    "sprintf(\"Probabilidad de encontrar una motocicleta de 0 a 150 ó 500 o mas\")\n",
    "p1+p2\n",
    "\n",
    "# Cilindraje del 30% de las motos\n",
    "# x= E+ ed z\n",
    "# z 30%\n",
    "\n",
    "# Obtener valor de la distribución normal para 30%\n",
    "z_30 <- qnorm(0.30)\n",
    "\n",
    "# Esperanza\n",
    "x <- c(1:5)\n",
    "p<- as.numeric(prob)\n",
    "\n",
    "sprintf(\"Hope\")\n",
    "E <- weighted.mean(x,p_cilindraje)\n",
    "E\n",
    "\n",
    "\n",
    "sprintf(\"Standart desv W\")\n",
    "Ed <- w.sd(x,p_cilindraje)\n",
    "Ed\n",
    "\n",
    "\n",
    "# Value\n",
    "sprintf(\"value x_30\")\n",
    "x_30= E+ (Ed*z_30)\n",
    "x_30\n",
    "\n",
    "# El resultado 1.37 dice que el 30% de las motos (30% de los datos) está en su mayoria para 0 a 150 y unos 151-180"
   ]
  },
  {
   "cell_type": "markdown",
   "metadata": {},
   "source": [
    "El vector ayuda a dar clasificación de los datos, en este caso el 1 pertenece a la categoria de \"0 a 150\" la categoria 2 pertenece a \"150 a 180\" y asi.\n",
    "\n",
    "\n",
    "# Para la proxima clase\n",
    "\n",
    "* Distribución binomial\n",
    "\n",
    "* Wasson, preguntas propagaas en el tiempo\n",
    "* Teorema de los grande numeros para pruebas de inferencia y estimación"
   ]
  }
 ],
 "metadata": {
  "kernelspec": {
   "display_name": "R",
   "language": "R",
   "name": "ir"
  },
  "language_info": {
   "codemirror_mode": "r",
   "file_extension": ".r",
   "mimetype": "text/x-r-source",
   "name": "R",
   "pygments_lexer": "r",
   "version": "3.6.3"
  }
 },
 "nbformat": 4,
 "nbformat_minor": 4
}
