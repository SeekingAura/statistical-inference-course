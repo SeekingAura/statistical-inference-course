{
 "cells": [
  {
   "cell_type": "code",
   "execution_count": 1,
   "metadata": {
    "scrolled": false
   },
   "outputs": [
    {
     "data": {
      "text/plain": [
       "NULL"
      ]
     },
     "metadata": {},
     "output_type": "display_data"
    },
    {
     "ename": "ERROR",
     "evalue": "Error in library(dplyr): there is no package called 'dplyr'\n",
     "output_type": "error",
     "traceback": [
      "Error in library(dplyr): there is no package called 'dplyr'\nTraceback:\n",
      "1. library(dplyr)"
     ]
    }
   ],
   "source": [
    "# Get data set from web\n",
    "df_all <- read.csv(\"https://www.datos.gov.co/api/views/ha9e-e48s/rows.csv?accessType=DOWNLOAD\")\n",
    "\n",
    "facult <-df_all$NOMBRE_FACULTAD\n",
    "programs <-df_all$NOMBRE_PROGRAMA\n",
    "prom_grad <-df_all$PACUMULADO\n",
    "genre <-df_all$SEXO\n",
    "\n",
    "\n",
    "# Create a sub dataframe with certain columns\n",
    "df_all_facu_promg_prom <- data.frame(facult, programs, prom_grad/10, genre)\n",
    "\n",
    "\n",
    "library(dplyr)\n",
    "# Filter to get only engineering facult\n",
    "df_fac_eng <- filter(df_all_facu_promg_prom, df_all_facu_promg_prom$facult==\"INGENIERIA\")\n",
    "\n",
    "# Remove data (rows) where are null\n",
    "df_fac_eng$programs<-droplevels(df_fac_eng$programs)\n",
    "\n",
    "\n",
    "## Analysis in students of INGENIERIA DE TRANSPORTE Y VIAS\n",
    "# Get students only of INGENIERIA DE TRANSPORTE Y VIAS\n",
    "df_fac_eng_engTransWays <- filter(df_fac_eng, df_fac_eng$programs==\"INGENIERIA DE TRANSPORTE Y VIAS\")\n",
    "\n",
    "df_fac_eng_engTransWays$programs<-droplevels(df_fac_eng_engTransWays$programs)\n",
    "df_fac_eng_engTransWays$facult<-droplevels(df_fac_eng_engTransWays$facult)\n",
    "df_fac_eng_engTransWays$genre<-droplevels(df_fac_eng_engTransWays$genre)\n",
    "\n",
    "sprintf('Datos del dataframe de estudiantes INGENIERIA DE TRANSPORTE Y VIAS:')\n",
    "head(df_fac_eng_engTransWays)\n",
    "\n",
    "sprintf('Total de estudiantes de INGENIERIA DE TRANSPORTE Y VIAS:')\n",
    "length(df_fac_eng_engTransWays$prom_grad.10)\n",
    "\n",
    "# Create a new colum where defines prom range \n",
    "df_fac_eng_engTransWays$performance[df_fac_eng_engTransWays$prom_grad.10 < 3.5] <- \"bajo\"\n",
    "df_fac_eng_engTransWays$performance[df_fac_eng_engTransWays$prom_grad.10 >= 3.5 & df_fac_eng_engTransWays$prom_grad.10 < 4.0] <- \"media\"\n",
    "df_fac_eng_engTransWays$performance[df_fac_eng_engTransWays$prom_grad.10 >= 4 & df_fac_eng_engTransWays$prom_grad.10 < 4.5] <- \"alto\"\n",
    "df_fac_eng_engTransWays$performance[df_fac_eng_engTransWays$prom_grad.10 >= 4.5 & df_fac_eng_engTransWays$prom_grad.10 <= 5] <- \"muy alto\"\n",
    "\n",
    "sprintf('Datos del dataframe con la columna performance')\n",
    "head(df_fac_eng_engTransWays)\n",
    "\n",
    "\n",
    "# Contingency table\n",
    "tab_genre_perf_TransWays<-table(df_fac_eng_engTransWays$performance, df_fac_eng_engTransWays$genre)\n",
    "# https://www.datacamp.com/community/tutorials/contingency-tables-r\n",
    "sprintf('Tabla de contingencia estudiantes de INGENIERIA DE TRANSPORTE Y VIAS')\n",
    "tab_genre_perf_TransWays\n",
    "\n",
    "sprintf(\"Cantidad de estudiantes de INGENIERIA DE TRANSPORTE Y VIAS agrupado por el rangos de notas (performance)\")\n",
    "rowSums(tab_genre_perf_TransWays)\n",
    "\n",
    "sprintf(\"Cantidad de estudiantes de INGENIERIA DE TRANSPORTE Y VIAS agrupado por el genero\")\n",
    "colSums(tab_genre_perf_TransWays)\n",
    "\n",
    "# Percentages from contingency table\n",
    "tab_prop<-prop.table(tab_genre_perf_TransWays)*100 # multiply by 100 set percentages 0 to 100\n",
    "\n",
    "sprintf(\"Tabla con promedios usando base total de estudiantes - INGENIERIA DE TRANSPORTE Y VIAS\")\n",
    "tab_prop\n",
    "\n",
    "sprintf(\"Tabla con promedios usando como base las filas (la suma por notas) - INGENIERIA DE TRANSPORTE Y VIAS\")\n",
    "tab_prop_row<-prop.table(tab_genre_perf_TransWays, margin=1)*100\n",
    "tab_prop_row\n",
    "\n",
    "sprintf(\"Tabla con promedios usando como base las columnas (la suma de genero) - INGENIERIA DE TRANSPORTE Y VIAS\")\n",
    "tab_prop_col<-prop.table(tab_genre_perf_TransWays, margin=2)*100\n",
    "tab_prop_col\n",
    "\n",
    "\n",
    "\n",
    "df_fac_eng_engTransWays_women <- filter(df_fac_eng_engTransWays, df_fac_eng_engTransWays$genre==\"F\")\n",
    "\n",
    "df_fac_eng_engTransWays_men <- filter(df_fac_eng_engTransWays, df_fac_eng_engTransWays$genre==\"M\")\n",
    "\n",
    "hist(df_fac_eng_engTransWays$prom_grad.10, main=\"Histograma de notas de los graduados de ING vias\",xlab = \"Nota de graduación\",col = \"gray\",border = \"black\")#, xlim = c(3,5))\n",
    "\n",
    "hist(df_fac_eng_engTransWays_women$prom_grad.10, main=\"Histograma de notas de los graduados mujeres de ING vias\",xlab = \"Nota de graduación\",col = \"gray\",border = \"black\")#, xlim = c(3,5))\n",
    "\n",
    "hist(df_fac_eng_engTransWays_men$prom_grad.10, main=\"Histograma de notas de los graduados hombres de ING vias\",xlab = \"Nota de graduación\",col = \"gray\",border = \"black\")#, xlim = c(3,5))\n",
    "\n",
    "\n",
    "\n",
    "\n",
    "\n",
    "\n",
    "# Tomar de una misma facultad 2 programas\n",
    "# Indicar en proporción quien rinde mas si hombres o mujeres\n",
    "# Tabla de contingencia\n",
    "# A la tabla de contingencia un histograma"
   ]
  },
  {
   "cell_type": "code",
   "execution_count": 45,
   "metadata": {
    "scrolled": false
   },
   "outputs": [
    {
     "data": {
      "text/html": [
       "'Datos del dataframe de estudiantes INGENIERIA AMBIENTAL:'"
      ],
      "text/latex": [
       "'Datos del dataframe de estudiantes INGENIERIA AMBIENTAL:'"
      ],
      "text/markdown": [
       "'Datos del dataframe de estudiantes INGENIERIA AMBIENTAL:'"
      ],
      "text/plain": [
       "[1] \"Datos del dataframe de estudiantes INGENIERIA AMBIENTAL:\""
      ]
     },
     "metadata": {},
     "output_type": "display_data"
    },
    {
     "data": {
      "text/html": [
       "<table>\n",
       "<caption>A data.frame: 6 × 4</caption>\n",
       "<thead>\n",
       "\t<tr><th></th><th scope=col>facult</th><th scope=col>programs</th><th scope=col>prom_grad.10</th><th scope=col>genre</th></tr>\n",
       "\t<tr><th></th><th scope=col>&lt;fct&gt;</th><th scope=col>&lt;fct&gt;</th><th scope=col>&lt;dbl&gt;</th><th scope=col>&lt;fct&gt;</th></tr>\n",
       "</thead>\n",
       "<tbody>\n",
       "\t<tr><th scope=row>1</th><td>F</td><td>INGENIERIA AMBIENTAL</td><td>4.0</td><td>F</td></tr>\n",
       "\t<tr><th scope=row>2</th><td>M</td><td>INGENIERIA AMBIENTAL</td><td>4.1</td><td>M</td></tr>\n",
       "\t<tr><th scope=row>3</th><td>F</td><td>INGENIERIA AMBIENTAL</td><td>4.0</td><td>F</td></tr>\n",
       "\t<tr><th scope=row>4</th><td>F</td><td>INGENIERIA AMBIENTAL</td><td>3.5</td><td>F</td></tr>\n",
       "\t<tr><th scope=row>5</th><td>M</td><td>INGENIERIA AMBIENTAL</td><td>3.8</td><td>M</td></tr>\n",
       "\t<tr><th scope=row>6</th><td>F</td><td>INGENIERIA AMBIENTAL</td><td>4.0</td><td>F</td></tr>\n",
       "</tbody>\n",
       "</table>\n"
      ],
      "text/latex": [
       "A data.frame: 6 × 4\n",
       "\\begin{tabular}{r|llll}\n",
       "  & facult & programs & prom\\_grad.10 & genre\\\\\n",
       "  & <fct> & <fct> & <dbl> & <fct>\\\\\n",
       "\\hline\n",
       "\t1 & F & INGENIERIA AMBIENTAL & 4.0 & F\\\\\n",
       "\t2 & M & INGENIERIA AMBIENTAL & 4.1 & M\\\\\n",
       "\t3 & F & INGENIERIA AMBIENTAL & 4.0 & F\\\\\n",
       "\t4 & F & INGENIERIA AMBIENTAL & 3.5 & F\\\\\n",
       "\t5 & M & INGENIERIA AMBIENTAL & 3.8 & M\\\\\n",
       "\t6 & F & INGENIERIA AMBIENTAL & 4.0 & F\\\\\n",
       "\\end{tabular}\n"
      ],
      "text/markdown": [
       "\n",
       "A data.frame: 6 × 4\n",
       "\n",
       "| <!--/--> | facult &lt;fct&gt; | programs &lt;fct&gt; | prom_grad.10 &lt;dbl&gt; | genre &lt;fct&gt; |\n",
       "|---|---|---|---|---|\n",
       "| 1 | F | INGENIERIA AMBIENTAL | 4.0 | F |\n",
       "| 2 | M | INGENIERIA AMBIENTAL | 4.1 | M |\n",
       "| 3 | F | INGENIERIA AMBIENTAL | 4.0 | F |\n",
       "| 4 | F | INGENIERIA AMBIENTAL | 3.5 | F |\n",
       "| 5 | M | INGENIERIA AMBIENTAL | 3.8 | M |\n",
       "| 6 | F | INGENIERIA AMBIENTAL | 4.0 | F |\n",
       "\n"
      ],
      "text/plain": [
       "  facult programs             prom_grad.10 genre\n",
       "1 F      INGENIERIA AMBIENTAL 4.0          F    \n",
       "2 M      INGENIERIA AMBIENTAL 4.1          M    \n",
       "3 F      INGENIERIA AMBIENTAL 4.0          F    \n",
       "4 F      INGENIERIA AMBIENTAL 3.5          F    \n",
       "5 M      INGENIERIA AMBIENTAL 3.8          M    \n",
       "6 F      INGENIERIA AMBIENTAL 4.0          F    "
      ]
     },
     "metadata": {},
     "output_type": "display_data"
    },
    {
     "data": {
      "text/html": [
       "'Total de estudiantes de INGENIERIA AMBIENTAL:'"
      ],
      "text/latex": [
       "'Total de estudiantes de INGENIERIA AMBIENTAL:'"
      ],
      "text/markdown": [
       "'Total de estudiantes de INGENIERIA AMBIENTAL:'"
      ],
      "text/plain": [
       "[1] \"Total de estudiantes de INGENIERIA AMBIENTAL:\""
      ]
     },
     "metadata": {},
     "output_type": "display_data"
    },
    {
     "data": {
      "text/html": [
       "61"
      ],
      "text/latex": [
       "61"
      ],
      "text/markdown": [
       "61"
      ],
      "text/plain": [
       "[1] 61"
      ]
     },
     "metadata": {},
     "output_type": "display_data"
    },
    {
     "data": {
      "text/html": [
       "'Datos del dataframe con la columna performance'"
      ],
      "text/latex": [
       "'Datos del dataframe con la columna performance'"
      ],
      "text/markdown": [
       "'Datos del dataframe con la columna performance'"
      ],
      "text/plain": [
       "[1] \"Datos del dataframe con la columna performance\""
      ]
     },
     "metadata": {},
     "output_type": "display_data"
    },
    {
     "data": {
      "text/html": [
       "<table>\n",
       "<caption>A data.frame: 6 × 5</caption>\n",
       "<thead>\n",
       "\t<tr><th></th><th scope=col>facult</th><th scope=col>programs</th><th scope=col>prom_grad.10</th><th scope=col>genre</th><th scope=col>performance</th></tr>\n",
       "\t<tr><th></th><th scope=col>&lt;fct&gt;</th><th scope=col>&lt;fct&gt;</th><th scope=col>&lt;dbl&gt;</th><th scope=col>&lt;fct&gt;</th><th scope=col>&lt;chr&gt;</th></tr>\n",
       "</thead>\n",
       "<tbody>\n",
       "\t<tr><th scope=row>1</th><td>F</td><td>INGENIERIA AMBIENTAL</td><td>4.0</td><td>F</td><td>alto </td></tr>\n",
       "\t<tr><th scope=row>2</th><td>M</td><td>INGENIERIA AMBIENTAL</td><td>4.1</td><td>M</td><td>alto </td></tr>\n",
       "\t<tr><th scope=row>3</th><td>F</td><td>INGENIERIA AMBIENTAL</td><td>4.0</td><td>F</td><td>alto </td></tr>\n",
       "\t<tr><th scope=row>4</th><td>F</td><td>INGENIERIA AMBIENTAL</td><td>3.5</td><td>F</td><td>media</td></tr>\n",
       "\t<tr><th scope=row>5</th><td>M</td><td>INGENIERIA AMBIENTAL</td><td>3.8</td><td>M</td><td>media</td></tr>\n",
       "\t<tr><th scope=row>6</th><td>F</td><td>INGENIERIA AMBIENTAL</td><td>4.0</td><td>F</td><td>alto </td></tr>\n",
       "</tbody>\n",
       "</table>\n"
      ],
      "text/latex": [
       "A data.frame: 6 × 5\n",
       "\\begin{tabular}{r|lllll}\n",
       "  & facult & programs & prom\\_grad.10 & genre & performance\\\\\n",
       "  & <fct> & <fct> & <dbl> & <fct> & <chr>\\\\\n",
       "\\hline\n",
       "\t1 & F & INGENIERIA AMBIENTAL & 4.0 & F & alto \\\\\n",
       "\t2 & M & INGENIERIA AMBIENTAL & 4.1 & M & alto \\\\\n",
       "\t3 & F & INGENIERIA AMBIENTAL & 4.0 & F & alto \\\\\n",
       "\t4 & F & INGENIERIA AMBIENTAL & 3.5 & F & media\\\\\n",
       "\t5 & M & INGENIERIA AMBIENTAL & 3.8 & M & media\\\\\n",
       "\t6 & F & INGENIERIA AMBIENTAL & 4.0 & F & alto \\\\\n",
       "\\end{tabular}\n"
      ],
      "text/markdown": [
       "\n",
       "A data.frame: 6 × 5\n",
       "\n",
       "| <!--/--> | facult &lt;fct&gt; | programs &lt;fct&gt; | prom_grad.10 &lt;dbl&gt; | genre &lt;fct&gt; | performance &lt;chr&gt; |\n",
       "|---|---|---|---|---|---|\n",
       "| 1 | F | INGENIERIA AMBIENTAL | 4.0 | F | alto  |\n",
       "| 2 | M | INGENIERIA AMBIENTAL | 4.1 | M | alto  |\n",
       "| 3 | F | INGENIERIA AMBIENTAL | 4.0 | F | alto  |\n",
       "| 4 | F | INGENIERIA AMBIENTAL | 3.5 | F | media |\n",
       "| 5 | M | INGENIERIA AMBIENTAL | 3.8 | M | media |\n",
       "| 6 | F | INGENIERIA AMBIENTAL | 4.0 | F | alto  |\n",
       "\n"
      ],
      "text/plain": [
       "  facult programs             prom_grad.10 genre performance\n",
       "1 F      INGENIERIA AMBIENTAL 4.0          F     alto       \n",
       "2 M      INGENIERIA AMBIENTAL 4.1          M     alto       \n",
       "3 F      INGENIERIA AMBIENTAL 4.0          F     alto       \n",
       "4 F      INGENIERIA AMBIENTAL 3.5          F     media      \n",
       "5 M      INGENIERIA AMBIENTAL 3.8          M     media      \n",
       "6 F      INGENIERIA AMBIENTAL 4.0          F     alto       "
      ]
     },
     "metadata": {},
     "output_type": "display_data"
    },
    {
     "data": {
      "text/html": [
       "'Tabla de contingencia'"
      ],
      "text/latex": [
       "'Tabla de contingencia'"
      ],
      "text/markdown": [
       "'Tabla de contingencia'"
      ],
      "text/plain": [
       "[1] \"Tabla de contingencia\""
      ]
     },
     "metadata": {},
     "output_type": "display_data"
    },
    {
     "data": {
      "text/plain": [
       "       \n",
       "         F  M\n",
       "  alto  12  5\n",
       "  bajo   1  1\n",
       "  media 23 19"
      ]
     },
     "metadata": {},
     "output_type": "display_data"
    },
    {
     "data": {
      "text/html": [
       "'Cantidad de estudiantes dado por el rangos de notas'"
      ],
      "text/latex": [
       "'Cantidad de estudiantes dado por el rangos de notas'"
      ],
      "text/markdown": [
       "'Cantidad de estudiantes dado por el rangos de notas'"
      ],
      "text/plain": [
       "[1] \"Cantidad de estudiantes dado por el rangos de notas\""
      ]
     },
     "metadata": {},
     "output_type": "display_data"
    },
    {
     "data": {
      "text/html": [
       "<style>\n",
       ".dl-inline {width: auto; margin:0; padding: 0}\n",
       ".dl-inline>dt, .dl-inline>dd {float: none; width: auto; display: inline-block}\n",
       ".dl-inline>dt::after {content: \":\\0020\"; padding-right: .5ex}\n",
       ".dl-inline>dt:not(:first-of-type) {padding-left: .5ex}\n",
       "</style><dl class=dl-inline><dt>alto</dt><dd>17</dd><dt>bajo</dt><dd>2</dd><dt>media</dt><dd>42</dd></dl>\n"
      ],
      "text/latex": [
       "\\begin{description*}\n",
       "\\item[alto] 17\n",
       "\\item[bajo] 2\n",
       "\\item[media] 42\n",
       "\\end{description*}\n"
      ],
      "text/markdown": [
       "alto\n",
       ":   17bajo\n",
       ":   2media\n",
       ":   42\n",
       "\n"
      ],
      "text/plain": [
       " alto  bajo media \n",
       "   17     2    42 "
      ]
     },
     "metadata": {},
     "output_type": "display_data"
    },
    {
     "data": {
      "text/html": [
       "'Cantidad de estudiantes dado por el genero'"
      ],
      "text/latex": [
       "'Cantidad de estudiantes dado por el genero'"
      ],
      "text/markdown": [
       "'Cantidad de estudiantes dado por el genero'"
      ],
      "text/plain": [
       "[1] \"Cantidad de estudiantes dado por el genero\""
      ]
     },
     "metadata": {},
     "output_type": "display_data"
    },
    {
     "data": {
      "text/html": [
       "<style>\n",
       ".dl-inline {width: auto; margin:0; padding: 0}\n",
       ".dl-inline>dt, .dl-inline>dd {float: none; width: auto; display: inline-block}\n",
       ".dl-inline>dt::after {content: \":\\0020\"; padding-right: .5ex}\n",
       ".dl-inline>dt:not(:first-of-type) {padding-left: .5ex}\n",
       "</style><dl class=dl-inline><dt>F</dt><dd>36</dd><dt>M</dt><dd>25</dd></dl>\n"
      ],
      "text/latex": [
       "\\begin{description*}\n",
       "\\item[F] 36\n",
       "\\item[M] 25\n",
       "\\end{description*}\n"
      ],
      "text/markdown": [
       "F\n",
       ":   36M\n",
       ":   25\n",
       "\n"
      ],
      "text/plain": [
       " F  M \n",
       "36 25 "
      ]
     },
     "metadata": {},
     "output_type": "display_data"
    },
    {
     "data": {
      "text/html": [
       "'Tabla con promedios con base total de estudiantes'"
      ],
      "text/latex": [
       "'Tabla con promedios con base total de estudiantes'"
      ],
      "text/markdown": [
       "'Tabla con promedios con base total de estudiantes'"
      ],
      "text/plain": [
       "[1] \"Tabla con promedios con base total de estudiantes\""
      ]
     },
     "metadata": {},
     "output_type": "display_data"
    },
    {
     "data": {
      "text/plain": [
       "       \n",
       "                F         M\n",
       "  alto  19.672131  8.196721\n",
       "  bajo   1.639344  1.639344\n",
       "  media 37.704918 31.147541"
      ]
     },
     "metadata": {},
     "output_type": "display_data"
    },
    {
     "data": {
      "text/html": [
       "'Tabla con promedios con base las filas (la suma por notas)'"
      ],
      "text/latex": [
       "'Tabla con promedios con base las filas (la suma por notas)'"
      ],
      "text/markdown": [
       "'Tabla con promedios con base las filas (la suma por notas)'"
      ],
      "text/plain": [
       "[1] \"Tabla con promedios con base las filas (la suma por notas)\""
      ]
     },
     "metadata": {},
     "output_type": "display_data"
    },
    {
     "data": {
      "text/plain": [
       "       \n",
       "               F        M\n",
       "  alto  70.58824 29.41176\n",
       "  bajo  50.00000 50.00000\n",
       "  media 54.76190 45.23810"
      ]
     },
     "metadata": {},
     "output_type": "display_data"
    },
    {
     "data": {
      "text/html": [
       "'Tabla con promedios con base las columnas (la suma de genero)'"
      ],
      "text/latex": [
       "'Tabla con promedios con base las columnas (la suma de genero)'"
      ],
      "text/markdown": [
       "'Tabla con promedios con base las columnas (la suma de genero)'"
      ],
      "text/plain": [
       "[1] \"Tabla con promedios con base las columnas (la suma de genero)\""
      ]
     },
     "metadata": {},
     "output_type": "display_data"
    },
    {
     "data": {
      "text/plain": [
       "       \n",
       "                F         M\n",
       "  alto  33.333333 20.000000\n",
       "  bajo   2.777778  4.000000\n",
       "  media 63.888889 76.000000"
      ]
     },
     "metadata": {},
     "output_type": "display_data"
    },
    {
     "data": {
      "image/png": "[encoded data removed]",
      "text/plain": [
       "Plot with title \"Histograma de notas de los graduados de ING ambiental\""
      ]
     },
     "metadata": {
      "image/png": {
       "height": 420,
       "width": 420
      },
      "text/plain": {
       "height": 420,
       "width": 420
      }
     },
     "output_type": "display_data"
    },
    {
     "data": {
      "image/png": "[encoded data removed]",
      "text/plain": [
       "Plot with title \"Histograma de notas de los graduados mujeres de ING ambiental\""
      ]
     },
     "metadata": {
      "image/png": {
       "height": 420,
       "width": 420
      },
      "text/plain": {
       "height": 420,
       "width": 420
      }
     },
     "output_type": "display_data"
    },
    {
     "data": {
      "image/png": "[encoded data removed]",
      "text/plain": [
       "Plot with title \"Histograma de notas de los graduados hombres de ING ambiental\""
      ]
     },
     "metadata": {
      "image/png": {
       "height": 420,
       "width": 420
      },
      "text/plain": {
       "height": 420,
       "width": 420
      }
     },
     "output_type": "display_data"
    }
   ],
   "source": [
    "# Get students only of INGENIERIA AMBIENTAL\n",
    "df_fac_eng_engEnv <- filter(df_fac_eng, df_fac_eng$programs==\"INGENIERIA AMBIENTAL\")\n",
    "\n",
    "df_fac_eng_engEnv$programs<-droplevels(df_fac_eng_engEnv$programs)\n",
    "df_fac_eng_engEnv$facult<-droplevels(df_fac_eng_engEnv$facult)\n",
    "df_fac_eng_engEnv$genre<-droplevels(df_fac_eng_engEnv$genre)\n",
    "\n",
    "sprintf('Datos del dataframe de estudiantes INGENIERIA AMBIENTAL:')\n",
    "head(df_fac_eng_engEnv)\n",
    "\n",
    "sprintf('Total de estudiantes de INGENIERIA AMBIENTAL:')\n",
    "length(df_fac_eng_engEnv$prom_grad.10)\n",
    "\n",
    "# Create a new colum where defines prom range \n",
    "df_fac_eng_engEnv$performance[df_fac_eng_engEnv$prom_grad.10 < 3.5] <- \"bajo\"\n",
    "df_fac_eng_engEnv$performance[df_fac_eng_engEnv$prom_grad.10 >= 3.5 & df_fac_eng_engEnv$prom_grad.10 < 4.0] <- \"media\"\n",
    "df_fac_eng_engEnv$performance[df_fac_eng_engEnv$prom_grad.10 >= 4 & df_fac_eng_engEnv$prom_grad.10 < 4.5] <- \"alto\"\n",
    "df_fac_eng_engEnv$performance[df_fac_eng_engEnv$prom_grad.10 >= 4.5] <- \"muy alto\"\n",
    "\n",
    "sprintf('Datos del dataframe con la columna performance')\n",
    "head(df_fac_eng_engEnv)\n",
    "\n",
    "\n",
    "# Contingency table\n",
    "tab_genre_perf_engEnv<-table(df_fac_eng_engEnv$performance, df_fac_eng_engEnv$genre)\n",
    "# https://www.datacamp.com/community/tutorials/contingency-tables-r\n",
    "sprintf('Tabla de contingencia')\n",
    "tab_genre_perf_engEnv\n",
    "\n",
    "sprintf(\"Cantidad de estudiantes dado por el rangos de notas\")\n",
    "rowSums(tab_genre_perf_engEnv)\n",
    "\n",
    "sprintf(\"Cantidad de estudiantes dado por el genero\")\n",
    "colSums(tab_genre_perf_engEnv)\n",
    "\n",
    "# Percentages from contingency table\n",
    "tab_prop<-prop.table(tab_genre_perf_engEnv)*100 # multiply by 100 set percentages 0 to 100\n",
    "\n",
    "sprintf(\"Tabla con promedios con base total de estudiantes\")\n",
    "tab_prop\n",
    "\n",
    "sprintf(\"Tabla con promedios con base las filas (la suma por notas)\")\n",
    "tab_prop_row<-prop.table(tab_genre_perf_engEnv, margin=1)*100\n",
    "tab_prop_row\n",
    "\n",
    "sprintf(\"Tabla con promedios con base las columnas (la suma de genero)\")\n",
    "tab_prop_col<-prop.table(tab_genre_perf_engEnv, margin=2)*100\n",
    "tab_prop_col\n",
    "\n",
    "\n",
    "\n",
    "df_fac_eng_engEnv_women <- filter(df_fac_eng_engEnv, df_fac_eng_engEnv$genre==\"F\")\n",
    "\n",
    "df_fac_eng_engEnv_men <- filter(df_fac_eng_engEnv, df_fac_eng_engEnv$genre==\"M\")\n",
    "\n",
    "hist(df_fac_eng_engEnv$prom_grad.10, main=\"Histograma de notas de los graduados de ING ambiental\",xlab = \"Nota de graduación\",col = \"gray\",border = \"black\")\n",
    "\n",
    "hist(df_fac_eng_engEnv_women$prom_grad.10, main=\"Histograma de notas de los graduados mujeres de ING ambiental\",xlab = \"Nota de graduación\",col = \"gray\",border = \"black\")\n",
    "\n",
    "hist(df_fac_eng_engEnv_men$prom_grad.10, main=\"Histograma de notas de los graduados hombres de ING ambiental\",xlab = \"Nota de graduación\",col = \"gray\",border = \"black\")\n"
   ]
  },
  {
   "cell_type": "markdown",
   "metadata": {},
   "source": [
    "# Datos durante analisis\n",
    "\n",
    "## tipo categoricos\n",
    "Los categoricos califican o indican a razón de valores determinados, normalmente suelen ser cadenas de caracteres, para poder ejecutar analisis una forma es darle una conversión númerica\n",
    "\n"
   ]
  },
  {
   "cell_type": "code",
   "execution_count": null,
   "metadata": {
    "scrolled": true
   },
   "outputs": [],
   "source": []
  }
 ],
 "metadata": {
  "celltoolbar": "Slideshow",
  "kernelspec": {
   "display_name": "R",
   "language": "R",
   "name": "ir"
  },
  "language_info": {
   "codemirror_mode": "r",
   "file_extension": ".r",
   "mimetype": "text/x-r-source",
   "name": "R",
   "pygments_lexer": "r",
   "version": "3.6.3"
  }
 },
 "nbformat": 4,
 "nbformat_minor": 2
}
