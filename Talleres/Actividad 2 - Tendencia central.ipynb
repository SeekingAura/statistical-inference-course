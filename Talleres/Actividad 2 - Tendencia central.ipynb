{
 "cells": [
  {
   "cell_type": "markdown",
   "metadata": {},
   "source": [
    "# Trabajo de clase\n",
    "* Extraer 2 muestra de vehiculso que sean automovlies en Pereira\n",
    "* Hallar los valores de tendencia central para modelos de los vehiculos en cada muestra\n",
    "* Hallar los valores de tendencia central para el modelo de los vehiculos de la población\n",
    "* cual es la probabilidad que la media muestral supere el 2017\n",
    "* Cual es la probabilidad de que la media muestra encuentre entre 2014 y 2017"
   ]
  },
  {
   "cell_type": "code",
   "execution_count": 1,
   "metadata": {},
   "outputs": [],
   "source": [
    "# Download dataframe\n",
    "vec_ris_df <- read.csv(\"https://www.datos.gov.co/api/views/x9pp-pcn5/rows.csv?accessType=DOWNLOAD\")"
   ]
  },
  {
   "cell_type": "code",
   "execution_count": 6,
   "metadata": {},
   "outputs": [
    {
     "data": {
      "text/html": [
       "'Show Head Data'"
      ],
      "text/latex": [
       "'Show Head Data'"
      ],
      "text/markdown": [
       "'Show Head Data'"
      ],
      "text/plain": [
       "[1] \"Show Head Data\""
      ]
     },
     "metadata": {},
     "output_type": "display_data"
    },
    {
     "data": {
      "text/html": [
       "<table>\n",
       "<caption>A data.frame: 6 × 6</caption>\n",
       "<thead>\n",
       "\t<tr><th></th><th scope=col>CLASE</th><th scope=col>PLACA</th><th scope=col>MARCA</th><th scope=col>MODELO</th><th scope=col>LINEA</th><th scope=col>CILINDRAJE</th></tr>\n",
       "\t<tr><th></th><th scope=col>&lt;fct&gt;</th><th scope=col>&lt;fct&gt;</th><th scope=col>&lt;fct&gt;</th><th scope=col>&lt;int&gt;</th><th scope=col>&lt;fct&gt;</th><th scope=col>&lt;int&gt;</th></tr>\n",
       "</thead>\n",
       "<tbody>\n",
       "\t<tr><th scope=row>1</th><td>AMBULANCIA</td><td>OCA021</td><td>CHEVROLET </td><td>1994</td><td>DIMAX 4X4 3000                 </td><td>5700</td></tr>\n",
       "\t<tr><th scope=row>2</th><td>AMBULANCIA</td><td>OCA050</td><td>FORD      </td><td>1997</td><td>F-150                          </td><td>4942</td></tr>\n",
       "\t<tr><th scope=row>3</th><td>AMBULANCIA</td><td>HWO878</td><td>TOYOTA    </td><td>2014</td><td>LAND CRUISER 4000              </td><td>4000</td></tr>\n",
       "\t<tr><th scope=row>4</th><td>AMBULANCIA</td><td>HWT466</td><td>NISSAN    </td><td>2015</td><td>URBAN 3000                     </td><td>3000</td></tr>\n",
       "\t<tr><th scope=row>5</th><td>AMBULANCIA</td><td>OVE404</td><td>JAC       </td><td>2015</td><td>HFC5049XJHKM 2771              </td><td>2771</td></tr>\n",
       "\t<tr><th scope=row>6</th><td>AMBULANCIA</td><td>IGN198</td><td>VOLKSWAGEN</td><td>2015</td><td>TRANSPORTER KOMBI T5 GP MT 1968</td><td>1968</td></tr>\n",
       "</tbody>\n",
       "</table>\n"
      ],
      "text/latex": [
       "A data.frame: 6 × 6\n",
       "\\begin{tabular}{r|llllll}\n",
       "  & CLASE & PLACA & MARCA & MODELO & LINEA & CILINDRAJE\\\\\n",
       "  & <fct> & <fct> & <fct> & <int> & <fct> & <int>\\\\\n",
       "\\hline\n",
       "\t1 & AMBULANCIA & OCA021 & CHEVROLET  & 1994 & DIMAX 4X4 3000                  & 5700\\\\\n",
       "\t2 & AMBULANCIA & OCA050 & FORD       & 1997 & F-150                           & 4942\\\\\n",
       "\t3 & AMBULANCIA & HWO878 & TOYOTA     & 2014 & LAND CRUISER 4000               & 4000\\\\\n",
       "\t4 & AMBULANCIA & HWT466 & NISSAN     & 2015 & URBAN 3000                      & 3000\\\\\n",
       "\t5 & AMBULANCIA & OVE404 & JAC        & 2015 & HFC5049XJHKM 2771               & 2771\\\\\n",
       "\t6 & AMBULANCIA & IGN198 & VOLKSWAGEN & 2015 & TRANSPORTER KOMBI T5 GP MT 1968 & 1968\\\\\n",
       "\\end{tabular}\n"
      ],
      "text/markdown": [
       "\n",
       "A data.frame: 6 × 6\n",
       "\n",
       "| <!--/--> | CLASE &lt;fct&gt; | PLACA &lt;fct&gt; | MARCA &lt;fct&gt; | MODELO &lt;int&gt; | LINEA &lt;fct&gt; | CILINDRAJE &lt;int&gt; |\n",
       "|---|---|---|---|---|---|---|\n",
       "| 1 | AMBULANCIA | OCA021 | CHEVROLET  | 1994 | DIMAX 4X4 3000                  | 5700 |\n",
       "| 2 | AMBULANCIA | OCA050 | FORD       | 1997 | F-150                           | 4942 |\n",
       "| 3 | AMBULANCIA | HWO878 | TOYOTA     | 2014 | LAND CRUISER 4000               | 4000 |\n",
       "| 4 | AMBULANCIA | HWT466 | NISSAN     | 2015 | URBAN 3000                      | 3000 |\n",
       "| 5 | AMBULANCIA | OVE404 | JAC        | 2015 | HFC5049XJHKM 2771               | 2771 |\n",
       "| 6 | AMBULANCIA | IGN198 | VOLKSWAGEN | 2015 | TRANSPORTER KOMBI T5 GP MT 1968 | 1968 |\n",
       "\n"
      ],
      "text/plain": [
       "  CLASE      PLACA  MARCA      MODELO LINEA                          \n",
       "1 AMBULANCIA OCA021 CHEVROLET  1994   DIMAX 4X4 3000                 \n",
       "2 AMBULANCIA OCA050 FORD       1997   F-150                          \n",
       "3 AMBULANCIA HWO878 TOYOTA     2014   LAND CRUISER 4000              \n",
       "4 AMBULANCIA HWT466 NISSAN     2015   URBAN 3000                     \n",
       "5 AMBULANCIA OVE404 JAC        2015   HFC5049XJHKM 2771              \n",
       "6 AMBULANCIA IGN198 VOLKSWAGEN 2015   TRANSPORTER KOMBI T5 GP MT 1968\n",
       "  CILINDRAJE\n",
       "1 5700      \n",
       "2 4942      \n",
       "3 4000      \n",
       "4 3000      \n",
       "5 2771      \n",
       "6 1968      "
      ]
     },
     "metadata": {},
     "output_type": "display_data"
    },
    {
     "data": {
      "text/html": [
       "'Column Headers'"
      ],
      "text/latex": [
       "'Column Headers'"
      ],
      "text/markdown": [
       "'Column Headers'"
      ],
      "text/plain": [
       "[1] \"Column Headers\""
      ]
     },
     "metadata": {},
     "output_type": "display_data"
    },
    {
     "data": {
      "text/html": [
       "<style>\n",
       ".list-inline {list-style: none; margin:0; padding: 0}\n",
       ".list-inline>li {display: inline-block}\n",
       ".list-inline>li:not(:last-child)::after {content: \"\\00b7\"; padding: 0 .5ex}\n",
       "</style>\n",
       "<ol class=list-inline><li>'CLASE'</li><li>'PLACA'</li><li>'MARCA'</li><li>'MODELO'</li><li>'LINEA'</li><li>'CILINDRAJE'</li></ol>\n"
      ],
      "text/latex": [
       "\\begin{enumerate*}\n",
       "\\item 'CLASE'\n",
       "\\item 'PLACA'\n",
       "\\item 'MARCA'\n",
       "\\item 'MODELO'\n",
       "\\item 'LINEA'\n",
       "\\item 'CILINDRAJE'\n",
       "\\end{enumerate*}\n"
      ],
      "text/markdown": [
       "1. 'CLASE'\n",
       "2. 'PLACA'\n",
       "3. 'MARCA'\n",
       "4. 'MODELO'\n",
       "5. 'LINEA'\n",
       "6. 'CILINDRAJE'\n",
       "\n",
       "\n"
      ],
      "text/plain": [
       "[1] \"CLASE\"      \"PLACA\"      \"MARCA\"      \"MODELO\"     \"LINEA\"     \n",
       "[6] \"CILINDRAJE\""
      ]
     },
     "metadata": {},
     "output_type": "display_data"
    },
    {
     "data": {
      "text/html": [
       "'Quantity of data'"
      ],
      "text/latex": [
       "'Quantity of data'"
      ],
      "text/markdown": [
       "'Quantity of data'"
      ],
      "text/plain": [
       "[1] \"Quantity of data\""
      ]
     },
     "metadata": {},
     "output_type": "display_data"
    },
    {
     "data": {
      "text/html": [
       "157346"
      ],
      "text/latex": [
       "157346"
      ],
      "text/markdown": [
       "157346"
      ],
      "text/plain": [
       "[1] 157346"
      ]
     },
     "metadata": {},
     "output_type": "display_data"
    },
    {
     "data": {
      "text/html": [
       "'Head of sample 1'"
      ],
      "text/latex": [
       "'Head of sample 1'"
      ],
      "text/markdown": [
       "'Head of sample 1'"
      ],
      "text/plain": [
       "[1] \"Head of sample 1\""
      ]
     },
     "metadata": {},
     "output_type": "display_data"
    },
    {
     "data": {
      "text/html": [
       "<table>\n",
       "<caption>A data.frame: 6 × 6</caption>\n",
       "<thead>\n",
       "\t<tr><th></th><th scope=col>CLASE</th><th scope=col>PLACA</th><th scope=col>MARCA</th><th scope=col>MODELO</th><th scope=col>LINEA</th><th scope=col>CILINDRAJE</th></tr>\n",
       "\t<tr><th></th><th scope=col>&lt;fct&gt;</th><th scope=col>&lt;fct&gt;</th><th scope=col>&lt;fct&gt;</th><th scope=col>&lt;int&gt;</th><th scope=col>&lt;fct&gt;</th><th scope=col>&lt;int&gt;</th></tr>\n",
       "</thead>\n",
       "<tbody>\n",
       "\t<tr><th scope=row>89551</th><td>CAMIONETA  </td><td>BFB661</td><td>CHEVROLET</td><td>1995</td><td>LUV TFR 4X2 1600                      </td><td>1600</td></tr>\n",
       "\t<tr><th scope=row>70659</th><td>AUTOMOVIL  </td><td>FIO916</td><td>NISSAN   </td><td>2019</td><td>VERSA ADVANCE MT 1598                 </td><td>1598</td></tr>\n",
       "\t<tr><th scope=row>56048</th><td>AUTOMOVIL  </td><td>IGM980</td><td>MAZDA    </td><td>2016</td><td>3 GRAND TOURING TP 1998               </td><td>1998</td></tr>\n",
       "\t<tr><th scope=row>39070</th><td>AUTOMOVIL  </td><td>WHF484</td><td>CHEVROLET</td><td>1993</td><td>CHEVETTE 1400 / CHEVETTE MECANICO 1400</td><td>1600</td></tr>\n",
       "\t<tr><th scope=row>126888</th><td>MOTOCICLETA</td><td>SQF98C</td><td>AUTECO   </td><td>2013</td><td>BAJAJ PULSAR 135 LS MT 134            </td><td> 135</td></tr>\n",
       "\t<tr><th scope=row>118500</th><td>MOTOCICLETA</td><td>SLJ36 </td><td>HONDA    </td><td>2005</td><td>CBZ 160 ES MT 156                     </td><td> 156</td></tr>\n",
       "</tbody>\n",
       "</table>\n"
      ],
      "text/latex": [
       "A data.frame: 6 × 6\n",
       "\\begin{tabular}{r|llllll}\n",
       "  & CLASE & PLACA & MARCA & MODELO & LINEA & CILINDRAJE\\\\\n",
       "  & <fct> & <fct> & <fct> & <int> & <fct> & <int>\\\\\n",
       "\\hline\n",
       "\t89551 & CAMIONETA   & BFB661 & CHEVROLET & 1995 & LUV TFR 4X2 1600                       & 1600\\\\\n",
       "\t70659 & AUTOMOVIL   & FIO916 & NISSAN    & 2019 & VERSA ADVANCE MT 1598                  & 1598\\\\\n",
       "\t56048 & AUTOMOVIL   & IGM980 & MAZDA     & 2016 & 3 GRAND TOURING TP 1998                & 1998\\\\\n",
       "\t39070 & AUTOMOVIL   & WHF484 & CHEVROLET & 1993 & CHEVETTE 1400 / CHEVETTE MECANICO 1400 & 1600\\\\\n",
       "\t126888 & MOTOCICLETA & SQF98C & AUTECO    & 2013 & BAJAJ PULSAR 135 LS MT 134             &  135\\\\\n",
       "\t118500 & MOTOCICLETA & SLJ36  & HONDA     & 2005 & CBZ 160 ES MT 156                      &  156\\\\\n",
       "\\end{tabular}\n"
      ],
      "text/markdown": [
       "\n",
       "A data.frame: 6 × 6\n",
       "\n",
       "| <!--/--> | CLASE &lt;fct&gt; | PLACA &lt;fct&gt; | MARCA &lt;fct&gt; | MODELO &lt;int&gt; | LINEA &lt;fct&gt; | CILINDRAJE &lt;int&gt; |\n",
       "|---|---|---|---|---|---|---|\n",
       "| 89551 | CAMIONETA   | BFB661 | CHEVROLET | 1995 | LUV TFR 4X2 1600                       | 1600 |\n",
       "| 70659 | AUTOMOVIL   | FIO916 | NISSAN    | 2019 | VERSA ADVANCE MT 1598                  | 1598 |\n",
       "| 56048 | AUTOMOVIL   | IGM980 | MAZDA     | 2016 | 3 GRAND TOURING TP 1998                | 1998 |\n",
       "| 39070 | AUTOMOVIL   | WHF484 | CHEVROLET | 1993 | CHEVETTE 1400 / CHEVETTE MECANICO 1400 | 1600 |\n",
       "| 126888 | MOTOCICLETA | SQF98C | AUTECO    | 2013 | BAJAJ PULSAR 135 LS MT 134             |  135 |\n",
       "| 118500 | MOTOCICLETA | SLJ36  | HONDA     | 2005 | CBZ 160 ES MT 156                      |  156 |\n",
       "\n"
      ],
      "text/plain": [
       "       CLASE       PLACA  MARCA     MODELO\n",
       "89551  CAMIONETA   BFB661 CHEVROLET 1995  \n",
       "70659  AUTOMOVIL   FIO916 NISSAN    2019  \n",
       "56048  AUTOMOVIL   IGM980 MAZDA     2016  \n",
       "39070  AUTOMOVIL   WHF484 CHEVROLET 1993  \n",
       "126888 MOTOCICLETA SQF98C AUTECO    2013  \n",
       "118500 MOTOCICLETA SLJ36  HONDA     2005  \n",
       "       LINEA                                  CILINDRAJE\n",
       "89551  LUV TFR 4X2 1600                       1600      \n",
       "70659  VERSA ADVANCE MT 1598                  1598      \n",
       "56048  3 GRAND TOURING TP 1998                1998      \n",
       "39070  CHEVETTE 1400 / CHEVETTE MECANICO 1400 1600      \n",
       "126888 BAJAJ PULSAR 135 LS MT 134              135      \n",
       "118500 CBZ 160 ES MT 156                       156      "
      ]
     },
     "metadata": {},
     "output_type": "display_data"
    },
    {
     "data": {
      "text/html": [
       "'Quantity of sample 1'"
      ],
      "text/latex": [
       "'Quantity of sample 1'"
      ],
      "text/markdown": [
       "'Quantity of sample 1'"
      ],
      "text/plain": [
       "[1] \"Quantity of sample 1\""
      ]
     },
     "metadata": {},
     "output_type": "display_data"
    },
    {
     "data": {
      "text/html": [
       "1000"
      ],
      "text/latex": [
       "1000"
      ],
      "text/markdown": [
       "1000"
      ],
      "text/plain": [
       "[1] 1000"
      ]
     },
     "metadata": {},
     "output_type": "display_data"
    },
    {
     "data": {
      "text/html": [
       "'Head of sample 2'"
      ],
      "text/latex": [
       "'Head of sample 2'"
      ],
      "text/markdown": [
       "'Head of sample 2'"
      ],
      "text/plain": [
       "[1] \"Head of sample 2\""
      ]
     },
     "metadata": {},
     "output_type": "display_data"
    },
    {
     "data": {
      "text/html": [
       "<table>\n",
       "<caption>A data.frame: 6 × 6</caption>\n",
       "<thead>\n",
       "\t<tr><th></th><th scope=col>CLASE</th><th scope=col>PLACA</th><th scope=col>MARCA</th><th scope=col>MODELO</th><th scope=col>LINEA</th><th scope=col>CILINDRAJE</th></tr>\n",
       "\t<tr><th></th><th scope=col>&lt;fct&gt;</th><th scope=col>&lt;fct&gt;</th><th scope=col>&lt;fct&gt;</th><th scope=col>&lt;int&gt;</th><th scope=col>&lt;fct&gt;</th><th scope=col>&lt;int&gt;</th></tr>\n",
       "</thead>\n",
       "<tbody>\n",
       "\t<tr><th scope=row>143859</th><td>MOTOCICLETA</td><td>HHI73E</td><td>AKT   </td><td>2016</td><td>AK 180 XM MT 180                 </td><td> 180</td></tr>\n",
       "\t<tr><th scope=row>86198</th><td>CAMIONETA  </td><td>HWR412</td><td>FORD  </td><td>2015</td><td>ECOSPORT FREESTYLE 4X2 MT 1999   </td><td>1999</td></tr>\n",
       "\t<tr><th scope=row>118250</th><td>MOTOCICLETA</td><td>SKG19 </td><td>HONDA </td><td>2004</td><td>CBZ 160 (LINEA BASE ESTANDAR) 160</td><td> 156</td></tr>\n",
       "\t<tr><th scope=row>34429</th><td>AUTOMOVIL  </td><td>PFS391</td><td>KIA   </td><td>2011</td><td>RIO EX 1600                      </td><td>1600</td></tr>\n",
       "\t<tr><th scope=row>130326</th><td>MOTOCICLETA</td><td>SWE08 </td><td>AUTECO</td><td>2014</td><td>BAJAJ BOXER BM MT 145            </td><td> 145</td></tr>\n",
       "\t<tr><th scope=row>106147</th><td>CAMPERO    </td><td>MUW203</td><td>HONDA </td><td>2014</td><td>CRV LX AT 2354                   </td><td>2354</td></tr>\n",
       "</tbody>\n",
       "</table>\n"
      ],
      "text/latex": [
       "A data.frame: 6 × 6\n",
       "\\begin{tabular}{r|llllll}\n",
       "  & CLASE & PLACA & MARCA & MODELO & LINEA & CILINDRAJE\\\\\n",
       "  & <fct> & <fct> & <fct> & <int> & <fct> & <int>\\\\\n",
       "\\hline\n",
       "\t143859 & MOTOCICLETA & HHI73E & AKT    & 2016 & AK 180 XM MT 180                  &  180\\\\\n",
       "\t86198 & CAMIONETA   & HWR412 & FORD   & 2015 & ECOSPORT FREESTYLE 4X2 MT 1999    & 1999\\\\\n",
       "\t118250 & MOTOCICLETA & SKG19  & HONDA  & 2004 & CBZ 160 (LINEA BASE ESTANDAR) 160 &  156\\\\\n",
       "\t34429 & AUTOMOVIL   & PFS391 & KIA    & 2011 & RIO EX 1600                       & 1600\\\\\n",
       "\t130326 & MOTOCICLETA & SWE08  & AUTECO & 2014 & BAJAJ BOXER BM MT 145             &  145\\\\\n",
       "\t106147 & CAMPERO     & MUW203 & HONDA  & 2014 & CRV LX AT 2354                    & 2354\\\\\n",
       "\\end{tabular}\n"
      ],
      "text/markdown": [
       "\n",
       "A data.frame: 6 × 6\n",
       "\n",
       "| <!--/--> | CLASE &lt;fct&gt; | PLACA &lt;fct&gt; | MARCA &lt;fct&gt; | MODELO &lt;int&gt; | LINEA &lt;fct&gt; | CILINDRAJE &lt;int&gt; |\n",
       "|---|---|---|---|---|---|---|\n",
       "| 143859 | MOTOCICLETA | HHI73E | AKT    | 2016 | AK 180 XM MT 180                  |  180 |\n",
       "| 86198 | CAMIONETA   | HWR412 | FORD   | 2015 | ECOSPORT FREESTYLE 4X2 MT 1999    | 1999 |\n",
       "| 118250 | MOTOCICLETA | SKG19  | HONDA  | 2004 | CBZ 160 (LINEA BASE ESTANDAR) 160 |  156 |\n",
       "| 34429 | AUTOMOVIL   | PFS391 | KIA    | 2011 | RIO EX 1600                       | 1600 |\n",
       "| 130326 | MOTOCICLETA | SWE08  | AUTECO | 2014 | BAJAJ BOXER BM MT 145             |  145 |\n",
       "| 106147 | CAMPERO     | MUW203 | HONDA  | 2014 | CRV LX AT 2354                    | 2354 |\n",
       "\n"
      ],
      "text/plain": [
       "       CLASE       PLACA  MARCA  MODELO LINEA                            \n",
       "143859 MOTOCICLETA HHI73E AKT    2016   AK 180 XM MT 180                 \n",
       "86198  CAMIONETA   HWR412 FORD   2015   ECOSPORT FREESTYLE 4X2 MT 1999   \n",
       "118250 MOTOCICLETA SKG19  HONDA  2004   CBZ 160 (LINEA BASE ESTANDAR) 160\n",
       "34429  AUTOMOVIL   PFS391 KIA    2011   RIO EX 1600                      \n",
       "130326 MOTOCICLETA SWE08  AUTECO 2014   BAJAJ BOXER BM MT 145            \n",
       "106147 CAMPERO     MUW203 HONDA  2014   CRV LX AT 2354                   \n",
       "       CILINDRAJE\n",
       "143859  180      \n",
       "86198  1999      \n",
       "118250  156      \n",
       "34429  1600      \n",
       "130326  145      \n",
       "106147 2354      "
      ]
     },
     "metadata": {},
     "output_type": "display_data"
    },
    {
     "data": {
      "text/html": [
       "'Quantity of sample 2'"
      ],
      "text/latex": [
       "'Quantity of sample 2'"
      ],
      "text/markdown": [
       "'Quantity of sample 2'"
      ],
      "text/plain": [
       "[1] \"Quantity of sample 2\""
      ]
     },
     "metadata": {},
     "output_type": "display_data"
    },
    {
     "data": {
      "text/html": [
       "2000"
      ],
      "text/latex": [
       "2000"
      ],
      "text/markdown": [
       "2000"
      ],
      "text/plain": [
       "[1] 2000"
      ]
     },
     "metadata": {},
     "output_type": "display_data"
    },
    {
     "data": {
      "text/html": [
       "'For sample1'"
      ],
      "text/latex": [
       "'For sample1'"
      ],
      "text/markdown": [
       "'For sample1'"
      ],
      "text/plain": [
       "[1] \"For sample1\""
      ]
     },
     "metadata": {},
     "output_type": "display_data"
    },
    {
     "data": {
      "text/html": [
       "1000"
      ],
      "text/latex": [
       "1000"
      ],
      "text/markdown": [
       "1000"
      ],
      "text/plain": [
       "[1] 1000"
      ]
     },
     "metadata": {},
     "output_type": "display_data"
    },
    {
     "data": {
      "text/html": [
       "2006.435"
      ],
      "text/latex": [
       "2006.435"
      ],
      "text/markdown": [
       "2006.435"
      ],
      "text/plain": [
       "[1] 2006.435"
      ]
     },
     "metadata": {},
     "output_type": "display_data"
    },
    {
     "data": {
      "text/html": [
       "0.41783532804367"
      ],
      "text/latex": [
       "0.41783532804367"
      ],
      "text/markdown": [
       "0.41783532804367"
      ],
      "text/plain": [
       "[1] 0.4178353"
      ]
     },
     "metadata": {},
     "output_type": "display_data"
    },
    {
     "data": {
      "text/html": [
       "'Get prob value for 2017 and higher'"
      ],
      "text/latex": [
       "'Get prob value for 2017 and higher'"
      ],
      "text/markdown": [
       "'Get prob value for 2017 and higher'"
      ],
      "text/plain": [
       "[1] \"Get prob value for 2017 and higher\""
      ]
     },
     "metadata": {},
     "output_type": "display_data"
    },
    {
     "data": {
      "text/html": [
       "25.2850807265772"
      ],
      "text/latex": [
       "25.2850807265772"
      ],
      "text/markdown": [
       "25.2850807265772"
      ],
      "text/plain": [
       "[1] 25.28508"
      ]
     },
     "metadata": {},
     "output_type": "display_data"
    },
    {
     "data": {
      "text/html": [
       "'show prob 2017 and higher'"
      ],
      "text/latex": [
       "'show prob 2017 and higher'"
      ],
      "text/markdown": [
       "'show prob 2017 and higher'"
      ],
      "text/plain": [
       "[1] \"show prob 2017 and higher\""
      ]
     },
     "metadata": {},
     "output_type": "display_data"
    },
    {
     "data": {
      "text/html": [
       "1"
      ],
      "text/latex": [
       "1"
      ],
      "text/markdown": [
       "1"
      ],
      "text/plain": [
       "[1] 1"
      ]
     },
     "metadata": {},
     "output_type": "display_data"
    },
    {
     "data": {
      "text/html": [
       "0"
      ],
      "text/latex": [
       "0"
      ],
      "text/markdown": [
       "0"
      ],
      "text/plain": [
       "[1] 0"
      ]
     },
     "metadata": {},
     "output_type": "display_data"
    },
    {
     "data": {
      "text/html": [
       "'Get prob for beetwhen 2017 and 2014'"
      ],
      "text/latex": [
       "'Get prob for beetwhen 2017 and 2014'"
      ],
      "text/markdown": [
       "'Get prob for beetwhen 2017 and 2014'"
      ],
      "text/plain": [
       "[1] \"Get prob for beetwhen 2017 and 2014\""
      ]
     },
     "metadata": {},
     "output_type": "display_data"
    },
    {
     "data": {
      "text/html": [
       "25.2850807265772"
      ],
      "text/latex": [
       "25.2850807265772"
      ],
      "text/markdown": [
       "25.2850807265772"
      ],
      "text/plain": [
       "[1] 25.28508"
      ]
     },
     "metadata": {},
     "output_type": "display_data"
    },
    {
     "data": {
      "text/html": [
       "18.1052187124048"
      ],
      "text/latex": [
       "18.1052187124048"
      ],
      "text/markdown": [
       "18.1052187124048"
      ],
      "text/plain": [
       "[1] 18.10522"
      ]
     },
     "metadata": {},
     "output_type": "display_data"
    },
    {
     "data": {
      "text/html": [
       "0"
      ],
      "text/latex": [
       "0"
      ],
      "text/markdown": [
       "0"
      ],
      "text/plain": [
       "[1] 0"
      ]
     },
     "metadata": {},
     "output_type": "display_data"
    },
    {
     "data": {
      "text/html": [
       "'For sample2'"
      ],
      "text/latex": [
       "'For sample2'"
      ],
      "text/markdown": [
       "'For sample2'"
      ],
      "text/plain": [
       "[1] \"For sample2\""
      ]
     },
     "metadata": {},
     "output_type": "display_data"
    },
    {
     "data": {
      "text/html": [
       "2000"
      ],
      "text/latex": [
       "2000"
      ],
      "text/markdown": [
       "2000"
      ],
      "text/plain": [
       "[1] 2000"
      ]
     },
     "metadata": {},
     "output_type": "display_data"
    },
    {
     "data": {
      "text/html": [
       "2007.0675"
      ],
      "text/latex": [
       "2007.0675"
      ],
      "text/markdown": [
       "2007.0675"
      ],
      "text/plain": [
       "[1] 2007.068"
      ]
     },
     "metadata": {},
     "output_type": "display_data"
    },
    {
     "data": {
      "text/html": [
       "0.295454193878985"
      ],
      "text/latex": [
       "0.295454193878985"
      ],
      "text/markdown": [
       "0.295454193878985"
      ],
      "text/plain": [
       "[1] 0.2954542"
      ]
     },
     "metadata": {},
     "output_type": "display_data"
    },
    {
     "data": {
      "text/html": [
       "'Get prob value for 2017 and higher'"
      ],
      "text/latex": [
       "'Get prob value for 2017 and higher'"
      ],
      "text/markdown": [
       "'Get prob value for 2017 and higher'"
      ],
      "text/plain": [
       "[1] \"Get prob value for 2017 and higher\""
      ]
     },
     "metadata": {},
     "output_type": "display_data"
    },
    {
     "data": {
      "text/html": [
       "33.617732311047"
      ],
      "text/latex": [
       "33.617732311047"
      ],
      "text/markdown": [
       "33.617732311047"
      ],
      "text/plain": [
       "[1] 33.61773"
      ]
     },
     "metadata": {},
     "output_type": "display_data"
    },
    {
     "data": {
      "text/html": [
       "'show prob 2017 and higher'"
      ],
      "text/latex": [
       "'show prob 2017 and higher'"
      ],
      "text/markdown": [
       "'show prob 2017 and higher'"
      ],
      "text/plain": [
       "[1] \"show prob 2017 and higher\""
      ]
     },
     "metadata": {},
     "output_type": "display_data"
    },
    {
     "data": {
      "text/html": [
       "1"
      ],
      "text/latex": [
       "1"
      ],
      "text/markdown": [
       "1"
      ],
      "text/plain": [
       "[1] 1"
      ]
     },
     "metadata": {},
     "output_type": "display_data"
    },
    {
     "data": {
      "text/html": [
       "0"
      ],
      "text/latex": [
       "0"
      ],
      "text/markdown": [
       "0"
      ],
      "text/plain": [
       "[1] 0"
      ]
     },
     "metadata": {},
     "output_type": "display_data"
    },
    {
     "data": {
      "text/html": [
       "'Get prob for beetwhen 2017 and 2014'"
      ],
      "text/latex": [
       "'Get prob for beetwhen 2017 and 2014'"
      ],
      "text/markdown": [
       "'Get prob for beetwhen 2017 and 2014'"
      ],
      "text/plain": [
       "[1] \"Get prob for beetwhen 2017 and 2014\""
      ]
     },
     "metadata": {},
     "output_type": "display_data"
    },
    {
     "data": {
      "text/html": [
       "33.617732311047"
      ],
      "text/latex": [
       "33.617732311047"
      ],
      "text/markdown": [
       "33.617732311047"
      ],
      "text/plain": [
       "[1] 33.61773"
      ]
     },
     "metadata": {},
     "output_type": "display_data"
    },
    {
     "data": {
      "text/html": [
       "23.463874074637"
      ],
      "text/latex": [
       "23.463874074637"
      ],
      "text/markdown": [
       "23.463874074637"
      ],
      "text/plain": [
       "[1] 23.46387"
      ]
     },
     "metadata": {},
     "output_type": "display_data"
    },
    {
     "data": {
      "text/html": [
       "0"
      ],
      "text/latex": [
       "0"
      ],
      "text/markdown": [
       "0"
      ],
      "text/plain": [
       "[1] 0"
      ]
     },
     "metadata": {},
     "output_type": "display_data"
    }
   ],
   "source": [
    "sprintf(\"Show Head Data\")\n",
    "head(vec_ris_df)\n",
    "\n",
    "sprintf(\"Column Headers\")\n",
    "colnames(vec_ris_df)\n",
    "\n",
    "sprintf(\"Quantity of data\")\n",
    "nrow(vec_ris_df)\n",
    "# sample https://meet.google.com/linkredirect?authuser=1&dest=https%3A%2F%2Fwww.rdocumentation.org%2Fpackages%2Fbase%2Fversions%2F3.6.2%2Ftopics%2Fsample\n",
    "# sample(xdata, sizedata)\n",
    "\n",
    "# https://stackoverflow.com/questions/8273313/sample-random-rows-in-dataframe\n",
    "sample1 <- vec_ris_df[sample(nrow(vec_ris_df), 1000), ]\n",
    "sample2 <- vec_ris_df[sample(nrow(vec_ris_df), 2000), ]\n",
    "\n",
    "sprintf(\"Head of sample 1\")\n",
    "head(sample1)\n",
    "\n",
    "sprintf(\"Quantity of sample 1\")\n",
    "nrow(sample1)\n",
    "\n",
    "sprintf(\"Head of sample 2\")\n",
    "head(sample2)\n",
    "\n",
    "sprintf(\"Quantity of sample 2\")\n",
    "nrow(sample2)\n",
    "\n",
    "\n",
    "\n",
    "# Probabildiad de muestra\n",
    "sprintf(\"For sample1\")\n",
    "n<-nrow(sample1)\n",
    "ux<-mean(sample1$MODELO)\n",
    "sx<-sd(sample1$MODELO)/sqrt(n)\n",
    "n;ux;sx\n",
    "\n",
    "## Normalizar la media de la población\n",
    "# Media muestral exceda 2017\n",
    "sprintf(\"Get prob value for 2017 and higher\")\n",
    "z<-(2017-ux)/sx;z\n",
    "\n",
    "# Probabilidad de P(x>=2017)\n",
    "sprintf(\"show prob 2017 and higher\")\n",
    "pnorm(z)\n",
    "1-pnorm(z)\n",
    "\n",
    "# Hallar la probabilidad que la media muestral este parecido al 79 y 72\n",
    "sprintf(\"Get prob for beetwhen 2017 and 2014\")\n",
    "z2017<-(2017-ux)/sx;z2017\n",
    "z2014<-(2014-ux)/sx;z2014\n",
    "(pnorm(z2017) - pnorm(z2014))*100\n",
    "\n",
    "\n",
    "# Probabildiad de muestra\n",
    "sprintf(\"For sample2\")\n",
    "n<-nrow(sample2)\n",
    "ux<-mean(sample2$MODELO)\n",
    "sx<-sd(sample1$MODELO)/sqrt(n)\n",
    "n;ux;sx\n",
    "\n",
    "## Normalizar la media de la población\n",
    "# Media muestral exceda 2017\n",
    "sprintf(\"Get prob value for 2017 and higher\")\n",
    "z<-(2017-ux)/sx;z\n",
    "\n",
    "# Probabilidad de P(x>=2017)\n",
    "sprintf(\"show prob 2017 and higher\")\n",
    "pnorm(z)\n",
    "1-pnorm(z)\n",
    "\n",
    "# Hallar la probabilidad que la media muestral este parecido al 79 y 72\n",
    "sprintf(\"Get prob for beetwhen 2017 and 2014\")\n",
    "z2017<-(2017-ux)/sx;z2017\n",
    "z2014<-(2014-ux)/sx;z2014\n",
    "(pnorm(z2017) - pnorm(z2014))*100"
   ]
  }
 ],
 "metadata": {
  "kernelspec": {
   "display_name": "R",
   "language": "R",
   "name": "ir"
  },
  "language_info": {
   "codemirror_mode": "r",
   "file_extension": ".r",
   "mimetype": "text/x-r-source",
   "name": "R",
   "pygments_lexer": "r",
   "version": "3.6.3"
  }
 },
 "nbformat": 4,
 "nbformat_minor": 4
}
