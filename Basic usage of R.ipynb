{
 "cells": [
  {
   "cell_type": "markdown",
   "metadata": {},
   "source": [
    "# Getting started with R\n",
    "Un poco de operaciones basicas de R\n",
    "\n",
    "## Operaciones con estaticos\n",
    "Operaciones estaticas en suma, resta, multiplicación, división, modulo, cada operación imprime el resultado en la consola de R."
   ]
  },
  {
   "cell_type": "code",
   "execution_count": 5,
   "metadata": {
    "collapsed": true
   },
   "outputs": [
    {
     "data": {
      "text/html": [
       "35"
      ],
      "text/latex": [
       "35"
      ],
      "text/markdown": [
       "35"
      ],
      "text/plain": [
       "[1] 35"
      ]
     },
     "metadata": {},
     "output_type": "display_data"
    },
    {
     "data": {
      "text/html": [
       "-11"
      ],
      "text/latex": [
       "-11"
      ],
      "text/markdown": [
       "-11"
      ],
      "text/plain": [
       "[1] -11"
      ]
     },
     "metadata": {},
     "output_type": "display_data"
    },
    {
     "data": {
      "text/html": [
       "1836"
      ],
      "text/latex": [
       "1836"
      ],
      "text/markdown": [
       "1836"
      ],
      "text/plain": [
       "[1] 1836"
      ]
     },
     "metadata": {},
     "output_type": "display_data"
    },
    {
     "data": {
      "text/html": [
       "5"
      ],
      "text/latex": [
       "5"
      ],
      "text/markdown": [
       "5"
      ],
      "text/plain": [
       "[1] 5"
      ]
     },
     "metadata": {},
     "output_type": "display_data"
    },
    {
     "data": {
      "text/html": [
       "4"
      ],
      "text/latex": [
       "4"
      ],
      "text/markdown": [
       "4"
      ],
      "text/plain": [
       "[1] 4"
      ]
     },
     "metadata": {},
     "output_type": "display_data"
    }
   ],
   "source": [
    "# Add\n",
    "12+23\n",
    "\n",
    "# Sub\n",
    "23-34\n",
    "\n",
    "# Mul\n",
    "54*34\n",
    "\n",
    "# Div\n",
    "10/2\n",
    "\n",
    "# Module\n",
    "28%%6"
   ]
  },
  {
   "cell_type": "markdown",
   "metadata": {},
   "source": [
    "# Creación y uso basico en variables\n",
    "R como cualquier lenguaje de programación permite crear variables y realizar varias operacioens asicas\n",
    "\n",
    "## Crear variables y accederlas\n",
    "R es un lenguaje de alto nivel similar al python, por lo cual al momento de crear una variable no es necesario indicar el tipo de esta"
   ]
  },
  {
   "cell_type": "code",
   "execution_count": 6,
   "metadata": {
    "collapsed": true
   },
   "outputs": [
    {
     "data": {
      "text/html": [
       "'Value for x: 42'"
      ],
      "text/latex": [
       "'Value for x: 42'"
      ],
      "text/markdown": [
       "'Value for x: 42'"
      ],
      "text/plain": [
       "[1] \"Value for x: 42\""
      ]
     },
     "metadata": {},
     "output_type": "display_data"
    },
    {
     "data": {
      "text/html": [
       "'Value for y: 23'"
      ],
      "text/latex": [
       "'Value for y: 23'"
      ],
      "text/markdown": [
       "'Value for y: 23'"
      ],
      "text/plain": [
       "[1] \"Value for y: 23\""
      ]
     },
     "metadata": {},
     "output_type": "display_data"
    }
   ],
   "source": [
    "# Create vars and assign values to these.\n",
    "x <- 42\n",
    "y <- 23\n",
    "\n",
    "# Print a string with vars values using format (Style similar to printf of c++)\n",
    "sprintf(\"Value for x: %i\", x)\n",
    "sprintf(\"Value for y: %i\", y)"
   ]
  },
  {
   "cell_type": "markdown",
   "metadata": {},
   "source": [
    "## Tipos de dato\n",
    "Aun que no se indique el tipo de dato maneja los tipos de dato como cualquier otro lenguaje de programación como los enteros, caracteres, flotantes, booleanos entre otros. Estos se establecen de acuerdo a la forma en que se escriba el dato en sintaxys o como lo interprete de acuerdo a la forma en que está escrito"
   ]
  },
  {
   "cell_type": "code",
   "execution_count": 7,
   "metadata": {
    "collapsed": true
   },
   "outputs": [
    {
     "data": {
      "text/html": [
       "3.4"
      ],
      "text/latex": [
       "3.4"
      ],
      "text/markdown": [
       "3.4"
      ],
      "text/plain": [
       "[1] 3.4"
      ]
     },
     "metadata": {},
     "output_type": "display_data"
    },
    {
     "data": {
      "text/html": [
       "'ejemplo'"
      ],
      "text/latex": [
       "'ejemplo'"
      ],
      "text/markdown": [
       "'ejemplo'"
      ],
      "text/plain": [
       "[1] \"ejemplo\""
      ]
     },
     "metadata": {},
     "output_type": "display_data"
    },
    {
     "data": {
      "text/html": [
       "TRUE"
      ],
      "text/latex": [
       "TRUE"
      ],
      "text/markdown": [
       "TRUE"
      ],
      "text/plain": [
       "[1] TRUE"
      ]
     },
     "metadata": {},
     "output_type": "display_data"
    }
   ],
   "source": [
    "# Data Type\n",
    "# Can execute multiples sentences on same line using ';' separator\n",
    "# simbol ';' works similar to endline.\n",
    "\n",
    "# Float type\n",
    "n1 <- 3.4; n1\n",
    "\n",
    "# String Type\n",
    "n2 <- \"ejemplo\" ; n2\n",
    "\n",
    "# Bool Type\n",
    "n3 <- TRUE ; n3"
   ]
  },
  {
   "cell_type": "markdown",
   "metadata": {},
   "source": [
    "### Obtener tipo de dato\n",
    "El tipo de dato en el que fue almacenado o creado una variable puede ser verificado por medio de la función class, para asi estar seguro de que operaciones se pueden realizar sobre esta variable."
   ]
  },
  {
   "cell_type": "code",
   "execution_count": 8,
   "metadata": {
    "collapsed": true
   },
   "outputs": [
    {
     "data": {
      "text/html": [
       "'Tipo de dato de n1 \"numeric\"'"
      ],
      "text/latex": [
       "'Tipo de dato de n1 \"numeric\"'"
      ],
      "text/markdown": [
       "'Tipo de dato de n1 \"numeric\"'"
      ],
      "text/plain": [
       "[1] \"Tipo de dato de n1 \\\"numeric\\\"\""
      ]
     },
     "metadata": {},
     "output_type": "display_data"
    },
    {
     "data": {
      "text/html": [
       "'Tipo de dato de n2 \"character\"'"
      ],
      "text/latex": [
       "'Tipo de dato de n2 \"character\"'"
      ],
      "text/markdown": [
       "'Tipo de dato de n2 \"character\"'"
      ],
      "text/plain": [
       "[1] \"Tipo de dato de n2 \\\"character\\\"\""
      ]
     },
     "metadata": {},
     "output_type": "display_data"
    },
    {
     "data": {
      "text/html": [
       "'Tipo de dato de n3 \"logical\"'"
      ],
      "text/latex": [
       "'Tipo de dato de n3 \"logical\"'"
      ],
      "text/markdown": [
       "'Tipo de dato de n3 \"logical\"'"
      ],
      "text/plain": [
       "[1] \"Tipo de dato de n3 \\\"logical\\\"\""
      ]
     },
     "metadata": {},
     "output_type": "display_data"
    }
   ],
   "source": [
    "# Check Data type (similar to function 'type' in python)\n",
    "\n",
    "# Create some vars\n",
    "n1 <- 3.4\n",
    "n2 <- \"ejemplo\"\n",
    "n3 <- TRUE\n",
    "\n",
    "sprintf('Tipo de dato de n1 \"%s\"', class(n1))\n",
    "sprintf('Tipo de dato de n2 \"%s\"', class(n2))\n",
    "sprintf('Tipo de dato de n3 \"%s\"', class(n3))"
   ]
  },
  {
   "cell_type": "markdown",
   "metadata": {},
   "source": [
    "### Verificar tipo de dato\n",
    "Los tipos de datos pueden ser chequeados para utilizarlo en operadores de decisión como el **if**, por medio del objeto *is* se puede acceder, cabe recordar que algunos datos tienen mas de un tipo por la interpretación o analisis."
   ]
  },
  {
   "cell_type": "code",
   "execution_count": 9,
   "metadata": {
    "collapsed": true
   },
   "outputs": [
    {
     "data": {
      "text/html": [
       "'La variable \"n1\" ¿es de tipo caracter? \"FALSE\"'"
      ],
      "text/latex": [
       "'La variable \"n1\" ¿es de tipo caracter? \"FALSE\"'"
      ],
      "text/markdown": [
       "'La variable \"n1\" ¿es de tipo caracter? \"FALSE\"'"
      ],
      "text/plain": [
       "[1] \"La variable \\\"n1\\\" ¿es de tipo caracter? \\\"FALSE\\\"\""
      ]
     },
     "metadata": {},
     "output_type": "display_data"
    },
    {
     "data": {
      "text/html": [
       "'La variable \"n1\" ¿es de tipo integer? \"FALSE\"'"
      ],
      "text/latex": [
       "'La variable \"n1\" ¿es de tipo integer? \"FALSE\"'"
      ],
      "text/markdown": [
       "'La variable \"n1\" ¿es de tipo integer? \"FALSE\"'"
      ],
      "text/plain": [
       "[1] \"La variable \\\"n1\\\" ¿es de tipo integer? \\\"FALSE\\\"\""
      ]
     },
     "metadata": {},
     "output_type": "display_data"
    },
    {
     "data": {
      "text/html": [
       "'La variable \"n1\" ¿es de tipo double? \"TRUE\"'"
      ],
      "text/latex": [
       "'La variable \"n1\" ¿es de tipo double? \"TRUE\"'"
      ],
      "text/markdown": [
       "'La variable \"n1\" ¿es de tipo double? \"TRUE\"'"
      ],
      "text/plain": [
       "[1] \"La variable \\\"n1\\\" ¿es de tipo double? \\\"TRUE\\\"\""
      ]
     },
     "metadata": {},
     "output_type": "display_data"
    },
    {
     "data": {
      "text/html": [
       "'La variable \"n1\" ¿es de tipo numerico? \"TRUE\"'"
      ],
      "text/latex": [
       "'La variable \"n1\" ¿es de tipo numerico? \"TRUE\"'"
      ],
      "text/markdown": [
       "'La variable \"n1\" ¿es de tipo numerico? \"TRUE\"'"
      ],
      "text/plain": [
       "[1] \"La variable \\\"n1\\\" ¿es de tipo numerico? \\\"TRUE\\\"\""
      ]
     },
     "metadata": {},
     "output_type": "display_data"
    }
   ],
   "source": [
    "# Create vars\n",
    "n1 <- 3.4\n",
    "\n",
    "# Check Data type\n",
    "sprintf('La variable \"n1\" ¿es de tipo caracter? \"%s\"', is.character(n1))\n",
    "sprintf('La variable \"n1\" ¿es de tipo integer? \"%s\"', is.integer(n1))\n",
    "sprintf('La variable \"n1\" ¿es de tipo double? \"%s\"', is.double(n1))\n",
    "sprintf('La variable \"n1\" ¿es de tipo numerico? \"%s\"', is.numeric(n1))"
   ]
  },
  {
   "cell_type": "markdown",
   "metadata": {},
   "source": [
    "### Casting de tipos de dato\n",
    "El \"casting\" es el termino de modificar el tipo de dato de una variable al de otro tipo, por ejemplo una cadena de caracteres a un tipo entero, un número en cadena de caracteres no permite la interpretación correcta ue se le haria si fuese tipo entero. Los casting no es aplicable a cualquier dato. Las conversiones se realizan con funciones del objeto *as* que es propio de R"
   ]
  },
  {
   "cell_type": "code",
   "execution_count": 10,
   "metadata": {
    "collapsed": true
   },
   "outputs": [
    {
     "data": {
      "text/html": [
       "'valor de la variable \"a\" -&gt; 6'"
      ],
      "text/latex": [
       "'valor de la variable \"a\" -> 6'"
      ],
      "text/markdown": [
       "'valor de la variable \"a\" -&gt; 6'"
      ],
      "text/plain": [
       "[1] \"valor de la variable \\\"a\\\" -> 6\""
      ]
     },
     "metadata": {},
     "output_type": "display_data"
    },
    {
     "data": {
      "text/html": [
       "'Tipo de dato de a \"numeric\"'"
      ],
      "text/latex": [
       "'Tipo de dato de a \"numeric\"'"
      ],
      "text/markdown": [
       "'Tipo de dato de a \"numeric\"'"
      ],
      "text/plain": [
       "[1] \"Tipo de dato de a \\\"numeric\\\"\""
      ]
     },
     "metadata": {},
     "output_type": "display_data"
    },
    {
     "data": {
      "text/html": [
       "'valor de la variable \"a\" -&gt; 6'"
      ],
      "text/latex": [
       "'valor de la variable \"a\" -> 6'"
      ],
      "text/markdown": [
       "'valor de la variable \"a\" -&gt; 6'"
      ],
      "text/plain": [
       "[1] \"valor de la variable \\\"a\\\" -> 6\""
      ]
     },
     "metadata": {},
     "output_type": "display_data"
    },
    {
     "data": {
      "text/html": [
       "'Tipo de dato de \"a\" \"character\"'"
      ],
      "text/latex": [
       "'Tipo de dato de \"a\" \"character\"'"
      ],
      "text/markdown": [
       "'Tipo de dato de \"a\" \"character\"'"
      ],
      "text/plain": [
       "[1] \"Tipo de dato de \\\"a\\\" \\\"character\\\"\""
      ]
     },
     "metadata": {},
     "output_type": "display_data"
    },
    {
     "data": {
      "text/html": [
       "'valor de la variable \"b\" -&gt; 3'"
      ],
      "text/latex": [
       "'valor de la variable \"b\" -> 3'"
      ],
      "text/markdown": [
       "'valor de la variable \"b\" -&gt; 3'"
      ],
      "text/plain": [
       "[1] \"valor de la variable \\\"b\\\" -> 3\""
      ]
     },
     "metadata": {},
     "output_type": "display_data"
    },
    {
     "data": {
      "text/html": [
       "'Tipo de dato de \"b\" \"character\"'"
      ],
      "text/latex": [
       "'Tipo de dato de \"b\" \"character\"'"
      ],
      "text/markdown": [
       "'Tipo de dato de \"b\" \"character\"'"
      ],
      "text/plain": [
       "[1] \"Tipo de dato de \\\"b\\\" \\\"character\\\"\""
      ]
     },
     "metadata": {},
     "output_type": "display_data"
    },
    {
     "data": {
      "text/html": [
       "'valor de la variable \"b\" -&gt; 3'"
      ],
      "text/latex": [
       "'valor de la variable \"b\" -> 3'"
      ],
      "text/markdown": [
       "'valor de la variable \"b\" -&gt; 3'"
      ],
      "text/plain": [
       "[1] \"valor de la variable \\\"b\\\" -> 3\""
      ]
     },
     "metadata": {},
     "output_type": "display_data"
    },
    {
     "data": {
      "text/html": [
       "'Tipo de dato de \"b\" \"numeric\"'"
      ],
      "text/latex": [
       "'Tipo de dato de \"b\" \"numeric\"'"
      ],
      "text/markdown": [
       "'Tipo de dato de \"b\" \"numeric\"'"
      ],
      "text/plain": [
       "[1] \"Tipo de dato de \\\"b\\\" \\\"numeric\\\"\""
      ]
     },
     "metadata": {},
     "output_type": "display_data"
    }
   ],
   "source": [
    "# Convert integer to string\n",
    "\n",
    "# Create var 'a' with integer\n",
    "a<-6\n",
    "\n",
    "sprintf('valor de la variable \"a\" -> %i', a)\n",
    "sprintf('Tipo de dato de a \"%s\"', class(a))\n",
    "\n",
    "# Convert var 'a' to type character or string and overwrite result in var 'a'\n",
    "a<-as.character(a)\n",
    "\n",
    "sprintf('valor de la variable \"a\" -> %s', a)\n",
    "sprintf('Tipo de dato de \"a\" \"%s\"', class(a))\n",
    "\n",
    "# Convert string to integer\n",
    "\n",
    "b <-\"3\"\n",
    "sprintf('valor de la variable \"b\" -> %s', b)\n",
    "sprintf('Tipo de dato de \"b\" \"%s\"', class(b))\n",
    "\n",
    "b <- as.numeric(b)\n",
    "sprintf('valor de la variable \"b\" -> %i', b)\n",
    "sprintf('Tipo de dato de \"b\" \"%s\"', class(b))"
   ]
  },
  {
   "cell_type": "markdown",
   "metadata": {},
   "source": [
    "# Manejo de las variables y el almacenamiento\n",
    "## Mostrar las variables creadas en R\n",
    "Cada vez que una variable es \"creada\" el lenguaje **R** lo almacena en un espacio denominado *enviroment*, este puede ser consultado los nombres de variables que han sido definidios en la ejecución con la función *ls()*. Cuando se ejecuta de aqui muestra todas las variables que se han creado en las diferentes celdas o bloques de codigo sin recargar la pagina."
   ]
  },
  {
   "cell_type": "code",
   "execution_count": 11,
   "metadata": {
    "collapsed": true
   },
   "outputs": [
    {
     "data": {
      "text/html": [
       "<style>\n",
       ".list-inline {list-style: none; margin:0; padding: 0}\n",
       ".list-inline>li {display: inline-block}\n",
       ".list-inline>li:not(:last-child)::after {content: \"\\00b7\"; padding: 0 .5ex}\n",
       "</style>\n",
       "<ol class=list-inline><li>'a'</li><li>'b'</li><li>'n1'</li><li>'n2'</li><li>'n3'</li><li>'x'</li><li>'y'</li></ol>\n"
      ],
      "text/latex": [
       "\\begin{enumerate*}\n",
       "\\item 'a'\n",
       "\\item 'b'\n",
       "\\item 'n1'\n",
       "\\item 'n2'\n",
       "\\item 'n3'\n",
       "\\item 'x'\n",
       "\\item 'y'\n",
       "\\end{enumerate*}\n"
      ],
      "text/markdown": [
       "1. 'a'\n",
       "2. 'b'\n",
       "3. 'n1'\n",
       "4. 'n2'\n",
       "5. 'n3'\n",
       "6. 'x'\n",
       "7. 'y'\n",
       "\n",
       "\n"
      ],
      "text/plain": [
       "[1] \"a\"  \"b\"  \"n1\" \"n2\" \"n3\" \"x\"  \"y\" "
      ]
     },
     "metadata": {},
     "output_type": "display_data"
    }
   ],
   "source": [
    "# Show vars in enviroment\n",
    "ls()"
   ]
  },
  {
   "cell_type": "markdown",
   "metadata": {},
   "source": [
    "## Eliminar variables creadas en R\n",
    "Las variables del enviroment pueden borrarse por medio de la función propia de **R** la sentencia *rm()*, en esta se indican por nombre y puede indicarse una sola o varias separadas por coma."
   ]
  },
  {
   "cell_type": "code",
   "execution_count": 12,
   "metadata": {
    "collapsed": true
   },
   "outputs": [
    {
     "data": {
      "text/html": [
       "'Creando variables'"
      ],
      "text/latex": [
       "'Creando variables'"
      ],
      "text/markdown": [
       "'Creando variables'"
      ],
      "text/plain": [
       "[1] \"Creando variables\""
      ]
     },
     "metadata": {},
     "output_type": "display_data"
    },
    {
     "data": {
      "text/html": [
       "'Variables creadas'"
      ],
      "text/latex": [
       "'Variables creadas'"
      ],
      "text/markdown": [
       "'Variables creadas'"
      ],
      "text/plain": [
       "[1] \"Variables creadas\""
      ]
     },
     "metadata": {},
     "output_type": "display_data"
    },
    {
     "data": {
      "text/html": [
       "'Variables en el enviroment'"
      ],
      "text/latex": [
       "'Variables en el enviroment'"
      ],
      "text/markdown": [
       "'Variables en el enviroment'"
      ],
      "text/plain": [
       "[1] \"Variables en el enviroment\""
      ]
     },
     "metadata": {},
     "output_type": "display_data"
    },
    {
     "data": {
      "text/html": [
       "<style>\n",
       ".list-inline {list-style: none; margin:0; padding: 0}\n",
       ".list-inline>li {display: inline-block}\n",
       ".list-inline>li:not(:last-child)::after {content: \"\\00b7\"; padding: 0 .5ex}\n",
       "</style>\n",
       "<ol class=list-inline><li>'a'</li><li>'b'</li><li>'n1'</li><li>'n2'</li><li>'n3'</li><li>'n4'</li><li>'x'</li><li>'y'</li></ol>\n"
      ],
      "text/latex": [
       "\\begin{enumerate*}\n",
       "\\item 'a'\n",
       "\\item 'b'\n",
       "\\item 'n1'\n",
       "\\item 'n2'\n",
       "\\item 'n3'\n",
       "\\item 'n4'\n",
       "\\item 'x'\n",
       "\\item 'y'\n",
       "\\end{enumerate*}\n"
      ],
      "text/markdown": [
       "1. 'a'\n",
       "2. 'b'\n",
       "3. 'n1'\n",
       "4. 'n2'\n",
       "5. 'n3'\n",
       "6. 'n4'\n",
       "7. 'x'\n",
       "8. 'y'\n",
       "\n",
       "\n"
      ],
      "text/plain": [
       "[1] \"a\"  \"b\"  \"n1\" \"n2\" \"n3\" \"n4\" \"x\"  \"y\" "
      ]
     },
     "metadata": {},
     "output_type": "display_data"
    },
    {
     "data": {
      "text/html": [
       "'Borrando n1 del enviroment'"
      ],
      "text/latex": [
       "'Borrando n1 del enviroment'"
      ],
      "text/markdown": [
       "'Borrando n1 del enviroment'"
      ],
      "text/plain": [
       "[1] \"Borrando n1 del enviroment\""
      ]
     },
     "metadata": {},
     "output_type": "display_data"
    },
    {
     "data": {
      "text/html": [
       "'Variables en el enviroment'"
      ],
      "text/latex": [
       "'Variables en el enviroment'"
      ],
      "text/markdown": [
       "'Variables en el enviroment'"
      ],
      "text/plain": [
       "[1] \"Variables en el enviroment\""
      ]
     },
     "metadata": {},
     "output_type": "display_data"
    },
    {
     "data": {
      "text/html": [
       "<style>\n",
       ".list-inline {list-style: none; margin:0; padding: 0}\n",
       ".list-inline>li {display: inline-block}\n",
       ".list-inline>li:not(:last-child)::after {content: \"\\00b7\"; padding: 0 .5ex}\n",
       "</style>\n",
       "<ol class=list-inline><li>'a'</li><li>'b'</li><li>'n2'</li><li>'n3'</li><li>'n4'</li><li>'x'</li><li>'y'</li></ol>\n"
      ],
      "text/latex": [
       "\\begin{enumerate*}\n",
       "\\item 'a'\n",
       "\\item 'b'\n",
       "\\item 'n2'\n",
       "\\item 'n3'\n",
       "\\item 'n4'\n",
       "\\item 'x'\n",
       "\\item 'y'\n",
       "\\end{enumerate*}\n"
      ],
      "text/markdown": [
       "1. 'a'\n",
       "2. 'b'\n",
       "3. 'n2'\n",
       "4. 'n3'\n",
       "5. 'n4'\n",
       "6. 'x'\n",
       "7. 'y'\n",
       "\n",
       "\n"
      ],
      "text/plain": [
       "[1] \"a\"  \"b\"  \"n2\" \"n3\" \"n4\" \"x\"  \"y\" "
      ]
     },
     "metadata": {},
     "output_type": "display_data"
    },
    {
     "data": {
      "text/html": [
       "'Borrando n2 y n4 del enviroment'"
      ],
      "text/latex": [
       "'Borrando n2 y n4 del enviroment'"
      ],
      "text/markdown": [
       "'Borrando n2 y n4 del enviroment'"
      ],
      "text/plain": [
       "[1] \"Borrando n2 y n4 del enviroment\""
      ]
     },
     "metadata": {},
     "output_type": "display_data"
    },
    {
     "data": {
      "text/html": [
       "'Variables en el enviroment'"
      ],
      "text/latex": [
       "'Variables en el enviroment'"
      ],
      "text/markdown": [
       "'Variables en el enviroment'"
      ],
      "text/plain": [
       "[1] \"Variables en el enviroment\""
      ]
     },
     "metadata": {},
     "output_type": "display_data"
    },
    {
     "data": {
      "text/html": [
       "<style>\n",
       ".list-inline {list-style: none; margin:0; padding: 0}\n",
       ".list-inline>li {display: inline-block}\n",
       ".list-inline>li:not(:last-child)::after {content: \"\\00b7\"; padding: 0 .5ex}\n",
       "</style>\n",
       "<ol class=list-inline><li>'a'</li><li>'b'</li><li>'n3'</li><li>'x'</li><li>'y'</li></ol>\n"
      ],
      "text/latex": [
       "\\begin{enumerate*}\n",
       "\\item 'a'\n",
       "\\item 'b'\n",
       "\\item 'n3'\n",
       "\\item 'x'\n",
       "\\item 'y'\n",
       "\\end{enumerate*}\n"
      ],
      "text/markdown": [
       "1. 'a'\n",
       "2. 'b'\n",
       "3. 'n3'\n",
       "4. 'x'\n",
       "5. 'y'\n",
       "\n",
       "\n"
      ],
      "text/plain": [
       "[1] \"a\"  \"b\"  \"n3\" \"x\"  \"y\" "
      ]
     },
     "metadata": {},
     "output_type": "display_data"
    }
   ],
   "source": [
    "# Create some vars\n",
    "sprintf(\"Creando variables\")\n",
    "\n",
    "n1 <- 3.4\n",
    "n2 <- \"ejemplo\"\n",
    "n3 <- TRUE\n",
    "n4 <- 43\n",
    "\n",
    "sprintf(\"Variables creadas\")\n",
    "\n",
    "# Show current enviroment\n",
    "sprintf(\"Variables en el enviroment\")\n",
    "ls()\n",
    "\n",
    "# Delete var n1 from enviroment\n",
    "sprintf(\"Borrando n1 del enviroment\")\n",
    "rm(n1)\n",
    "\n",
    "sprintf(\"Variables en el enviroment\")\n",
    "ls()\n",
    "\n",
    "# Delete var n2 and n4 from enviroment\n",
    "sprintf(\"Borrando n2 y n4 del enviroment\")\n",
    "rm(n2, n4)\n",
    "\n",
    "sprintf(\"Variables en el enviroment\")\n",
    "ls()"
   ]
  },
  {
   "cell_type": "markdown",
   "metadata": {},
   "source": [
    "# Arreglos en R\n",
    "El lenguaje R al igual que en otros lenguajes de programación como C+, python puede generar tipos de datos que acumulen varios datos de un mismo tipo o de varios tipos (collections).\n",
    "\n",
    "## Arreglos tipo vector\n",
    "Los vectores se crean por medio del constructor *c* que es como una \"función\" de R que permite crear de una colección de datos separados por coma un vector."
   ]
  },
  {
   "cell_type": "code",
   "execution_count": null,
   "metadata": {},
   "outputs": [],
   "source": [
    "# Array with\n",
    "valores <- c(4,7,9)\n",
    "nombres <- c(\"ana\", \"juan\", \"luisa\")"
   ]
  }
 ],
 "metadata": {
  "kernelspec": {
   "display_name": "Python 3",
   "language": "python",
   "name": "python3"
  },
  "language_info": {
   "codemirror_mode": "r",
   "file_extension": ".r",
   "mimetype": "text/x-r-source",
   "name": "R",
   "pygments_lexer": "r",
   "version": "3.6.2"
  }
 },
 "nbformat": 4,
 "nbformat_minor": 2
}
