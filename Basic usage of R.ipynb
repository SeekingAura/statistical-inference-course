{
 "cells": [
  {
   "cell_type": "markdown",
   "metadata": {},
   "source": [
    "# Getting started with R\n",
    "Un poco de operaciones basicas de R\n",
    "\n",
    "## Operaciones con estaticos\n",
    "Operaciones estaticas en suma, resta, multiplicación, división, modulo, cada operación imprime el resultado en la consola de R."
   ]
  },
  {
   "cell_type": "code",
   "execution_count": null,
   "metadata": {
    "collapsed": true
   },
   "outputs": [],
   "source": [
    "# Add\n",
    "12+23\n",
    "\n",
    "# Sub\n",
    "23-34\n",
    "\n",
    "# Mul\n",
    "54*34\n",
    "\n",
    "# Div\n",
    "10/2\n",
    "\n",
    "# Module\n",
    "28%%6"
   ]
  },
  {
   "cell_type": "markdown",
   "metadata": {},
   "source": [
    "# Creación y uso basico en variables\n",
    "R como cualquier lenguaje de programación permite crear variables y realizar varias operacioens asicas\n",
    "\n",
    "## Crear variables y accederlas\n",
    "R es un lenguaje de alto nivel similar al python, por lo cual al momento de crear una variable no es necesario indicar el tipo de esta"
   ]
  },
  {
   "cell_type": "code",
   "execution_count": null,
   "metadata": {
    "collapsed": true
   },
   "outputs": [],
   "source": [
    "# Create vars and assign values to these.\n",
    "x <- 42\n",
    "y <- 23\n",
    "\n",
    "# Print a string with vars values using format (Style similar to printf of c++)\n",
    "sprintf(\"Value for x: %i\", x)\n",
    "sprintf(\"Value for y: %i\", y)"
   ]
  },
  {
   "cell_type": "markdown",
   "metadata": {},
   "source": [
    "## Tipos de dato\n",
    "Aun que no se indique el tipo de dato maneja los tipos de dato como cualquier otro lenguaje de programación como los enteros, caracteres, flotantes, booleanos entre otros. Estos se establecen de acuerdo a la forma en que se escriba el dato en sintaxys o como lo interprete de acuerdo a la forma en que está escrito"
   ]
  },
  {
   "cell_type": "code",
   "execution_count": null,
   "metadata": {
    "collapsed": true
   },
   "outputs": [],
   "source": [
    "# Data Type\n",
    "# Can execute multiples sentences on same line using ';' separator\n",
    "# simbol ';' works similar to endline.\n",
    "\n",
    "# Float type\n",
    "n1 <- 3.4; n1\n",
    "\n",
    "# String Type\n",
    "n2 <- \"ejemplo\" ; n2\n",
    "\n",
    "# Bool Type\n",
    "n3 <- TRUE ; n3"
   ]
  },
  {
   "cell_type": "markdown",
   "metadata": {},
   "source": [
    "### Obtener tipo de dato\n",
    "El tipo de dato en el que fue almacenado o creado una variable puede ser verificado por medio de la función class, para asi estar seguro de que operaciones se pueden realizar sobre esta variable."
   ]
  },
  {
   "cell_type": "code",
   "execution_count": null,
   "metadata": {
    "collapsed": true
   },
   "outputs": [],
   "source": [
    "# Check Data type (similar to function 'type' in python)\n",
    "\n",
    "# Create some vars\n",
    "n1 <- 3.4\n",
    "n2 <- \"ejemplo\"\n",
    "n3 <- TRUE\n",
    "\n",
    "sprintf('Tipo de dato de n1 \"%s\"', class(n1))\n",
    "sprintf('Tipo de dato de n2 \"%s\"', class(n2))\n",
    "sprintf('Tipo de dato de n3 \"%s\"', class(n3))"
   ]
  },
  {
   "cell_type": "markdown",
   "metadata": {},
   "source": [
    "### Verificar tipo de dato\n",
    "Los tipos de datos pueden ser chequeados para utilizarlo en operadores de decisión como el **if**, por medio del objeto *is* se puede acceder, cabe recordar que algunos datos tienen mas de un tipo por la interpretación o analisis."
   ]
  },
  {
   "cell_type": "code",
   "execution_count": null,
   "metadata": {
    "collapsed": true
   },
   "outputs": [],
   "source": [
    "# Create vars\n",
    "n1 <- 3.4\n",
    "\n",
    "# Check Data type\n",
    "sprintf('La variable \"n1\" ¿es de tipo caracter? \"%s\"', is.character(n1))\n",
    "sprintf('La variable \"n1\" ¿es de tipo integer? \"%s\"', is.integer(n1))\n",
    "sprintf('La variable \"n1\" ¿es de tipo double? \"%s\"', is.double(n1))\n",
    "sprintf('La variable \"n1\" ¿es de tipo numerico? \"%s\"', is.numeric(n1))"
   ]
  },
  {
   "cell_type": "markdown",
   "metadata": {},
   "source": [
    "### Casting de tipos de dato\n",
    "El \"casting\" es el termino de modificar el tipo de dato de una variable al de otro tipo, por ejemplo una cadena de caracteres a un tipo entero, un número en cadena de caracteres no permite la interpretación correcta ue se le haria si fuese tipo entero. Los casting no es aplicable a cualquier dato. Las conversiones se realizan con funciones del objeto *as* que es propio de R"
   ]
  },
  {
   "cell_type": "code",
   "execution_count": null,
   "metadata": {
    "collapsed": true
   },
   "outputs": [],
   "source": [
    "# Convert integer to string\n",
    "\n",
    "# Create var 'a' with integer\n",
    "a<-6\n",
    "\n",
    "sprintf('valor de la variable \"a\" -> %i', a)\n",
    "sprintf('Tipo de dato de a \"%s\"', class(a))\n",
    "\n",
    "# Convert var 'a' to type character or string and overwrite result in var 'a'\n",
    "a<-as.character(a)\n",
    "\n",
    "sprintf('valor de la variable \"a\" -> %s', a)\n",
    "sprintf('Tipo de dato de \"a\" \"%s\"', class(a))\n",
    "\n",
    "# Convert string to integer\n",
    "\n",
    "b <-\"3\"\n",
    "sprintf('valor de la variable \"b\" -> %s', b)\n",
    "sprintf('Tipo de dato de \"b\" \"%s\"', class(b))\n",
    "\n",
    "b <- as.numeric(b)\n",
    "sprintf('valor de la variable \"b\" -> %i', b)\n",
    "sprintf('Tipo de dato de \"b\" \"%s\"', class(b))"
   ]
  },
  {
   "cell_type": "markdown",
   "metadata": {},
   "source": [
    "# Manejo de las variables y el almacenamiento\n",
    "## Mostrar las variables creadas en R\n",
    "Cada vez que una variable es \"creada\" el lenguaje **R** lo almacena en un espacio denominado *enviroment*, este puede ser consultado los nombres de variables que han sido definidios en la ejecución con la función *ls()*. Cuando se ejecuta de aqui muestra todas las variables que se han creado en las diferentes celdas o bloques de codigo sin recargar la pagina."
   ]
  },
  {
   "cell_type": "code",
   "execution_count": null,
   "metadata": {
    "collapsed": true
   },
   "outputs": [],
   "source": [
    "# Show vars in enviroment\n",
    "ls()"
   ]
  },
  {
   "cell_type": "markdown",
   "metadata": {},
   "source": [
    "## Eliminar variables creadas en R\n",
    "Las variables del enviroment pueden borrarse por medio de la función propia de **R** la sentencia *rm()*, en esta se indican por nombre y puede indicarse una sola o varias separadas por coma."
   ]
  },
  {
   "cell_type": "code",
   "execution_count": null,
   "metadata": {
    "collapsed": true
   },
   "outputs": [],
   "source": [
    "# Create some vars\n",
    "sprintf(\"Creando variables\")\n",
    "\n",
    "n1 <- 3.4\n",
    "n2 <- \"ejemplo\"\n",
    "n3 <- TRUE\n",
    "n4 <- 43\n",
    "\n",
    "sprintf(\"Variables creadas\")\n",
    "\n",
    "# Show current enviroment\n",
    "sprintf(\"Variables en el enviroment\")\n",
    "ls()\n",
    "\n",
    "# Delete var n1 from enviroment\n",
    "sprintf(\"Borrando n1 del enviroment\")\n",
    "rm(n1)\n",
    "\n",
    "sprintf(\"Variables en el enviroment\")\n",
    "ls()\n",
    "\n",
    "# Delete var n2 and n4 from enviroment\n",
    "sprintf(\"Borrando n2 y n4 del enviroment\")\n",
    "rm(n2, n4)\n",
    "\n",
    "sprintf(\"Variables en el enviroment\")\n",
    "ls()"
   ]
  },
  {
   "cell_type": "markdown",
   "metadata": {},
   "source": [
    "# Arrays i"
   ]
  }
 ],
 "metadata": {
  "kernelspec": {
   "display_name": "R",
   "language": "R",
   "name": "ir"
  },
  "language_info": {
   "codemirror_mode": "r",
   "file_extension": ".r",
   "mimetype": "text/x-r-source",
   "name": "R",
   "pygments_lexer": "r",
   "version": "3.6.2"
  }
 },
 "nbformat": 4,
 "nbformat_minor": 2
}
