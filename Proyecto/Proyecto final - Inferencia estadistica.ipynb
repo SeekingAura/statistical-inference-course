{
 "cells": [
  {
   "cell_type": "markdown",
   "metadata": {},
   "source": [
    "# Suscriptores de internet\n",
    "\n",
    "https://drive.google.com/drive/u/1/folders/1HMnUurdpY1dQP8xYwjvfTA19UD0m1c1g"
   ]
  },
  {
   "cell_type": "code",
   "execution_count": 1,
   "metadata": {},
   "outputs": [
    {
     "name": "stderr",
     "output_type": "stream",
     "text": [
      "Warning message in eval(expr, envir, enclos):\n",
      "\"NAs introducidos por coerción\"\n"
     ]
    },
    {
     "data": {
      "text/html": [
       "<table>\n",
       "<caption>A data.frame: 4409 × 13</caption>\n",
       "<thead>\n",
       "\t<tr><th scope=col>ANNO</th><th scope=col>TRIMESTRE</th><th scope=col>MES_DEL_TRIMESTRE</th><th scope=col>ID_SEGMENTO</th><th scope=col>DESC_SEGMENTO</th><th scope=col>ID_EMPRESA</th><th scope=col>DESC_EMPRESA</th><th scope=col>ID_TERMINAL</th><th scope=col>DESC_TERMINAL</th><th scope=col>ID_TECNOLOGIA</th><th scope=col>DESC_TECNOLOGIA</th><th scope=col>CANTIDAD_SUSCRIPTORES</th><th scope=col>QUANTITY</th></tr>\n",
       "\t<tr><th scope=col>&lt;int&gt;</th><th scope=col>&lt;dbl&gt;</th><th scope=col>&lt;dbl&gt;</th><th scope=col>&lt;int&gt;</th><th scope=col>&lt;fct&gt;</th><th scope=col>&lt;int&gt;</th><th scope=col>&lt;fct&gt;</th><th scope=col>&lt;int&gt;</th><th scope=col>&lt;fct&gt;</th><th scope=col>&lt;int&gt;</th><th scope=col>&lt;fct&gt;</th><th scope=col>&lt;dbl&gt;</th><th scope=col>&lt;dbl&gt;</th></tr>\n",
       "</thead>\n",
       "<tbody>\n",
       "\t<tr><td>2012</td><td>1</td><td>1</td><td>1</td><td>Personas</td><td>830122566</td><td>COLOMBIA TELECOMUNICACIONES S.A. ESP</td><td>1</td><td>TelÃ©fono MÃ³vil</td><td>1</td><td>2G</td><td> 50590</td><td>0</td></tr>\n",
       "\t<tr><td>2012</td><td>1</td><td>1</td><td>1</td><td>Personas</td><td>830122566</td><td>COLOMBIA TELECOMUNICACIONES S.A. ESP</td><td>1</td><td>TelÃ©fono MÃ³vil</td><td>2</td><td>3G</td><td>469844</td><td>0</td></tr>\n",
       "\t<tr><td>2012</td><td>1</td><td>1</td><td>1</td><td>Personas</td><td>830122566</td><td>COLOMBIA TELECOMUNICACIONES S.A. ESP</td><td>1</td><td>TelÃ©fono MÃ³vil</td><td>3</td><td>4G</td><td>     0</td><td>0</td></tr>\n",
       "\t<tr><td>2012</td><td>1</td><td>1</td><td>1</td><td>Personas</td><td>830122566</td><td>COLOMBIA TELECOMUNICACIONES S.A. ESP</td><td>2</td><td>Data Card       </td><td>1</td><td>2G</td><td>  2024</td><td>0</td></tr>\n",
       "\t<tr><td>2012</td><td>1</td><td>1</td><td>1</td><td>Personas</td><td>830122566</td><td>COLOMBIA TELECOMUNICACIONES S.A. ESP</td><td>2</td><td>Data Card       </td><td>2</td><td>3G</td><td> 25295</td><td>0</td></tr>\n",
       "\t<tr><td>2012</td><td>1</td><td>1</td><td>1</td><td>Personas</td><td>830122566</td><td>COLOMBIA TELECOMUNICACIONES S.A. ESP</td><td>2</td><td>Data Card       </td><td>3</td><td>4G</td><td>     0</td><td>0</td></tr>\n",
       "\t<tr><td>2012</td><td>1</td><td>1</td><td>2</td><td>Empresas</td><td>830122566</td><td>COLOMBIA TELECOMUNICACIONES S.A. ESP</td><td>1</td><td>TelÃ©fono MÃ³vil</td><td>1</td><td>2G</td><td> 22533</td><td>0</td></tr>\n",
       "\t<tr><td>2012</td><td>1</td><td>1</td><td>2</td><td>Empresas</td><td>830122566</td><td>COLOMBIA TELECOMUNICACIONES S.A. ESP</td><td>1</td><td>TelÃ©fono MÃ³vil</td><td>2</td><td>3G</td><td> 45531</td><td>0</td></tr>\n",
       "\t<tr><td>2012</td><td>1</td><td>1</td><td>2</td><td>Empresas</td><td>830122566</td><td>COLOMBIA TELECOMUNICACIONES S.A. ESP</td><td>1</td><td>TelÃ©fono MÃ³vil</td><td>3</td><td>4G</td><td>     0</td><td>0</td></tr>\n",
       "\t<tr><td>2012</td><td>1</td><td>1</td><td>2</td><td>Empresas</td><td>830122566</td><td>COLOMBIA TELECOMUNICACIONES S.A. ESP</td><td>2</td><td>Data Card       </td><td>1</td><td>2G</td><td>141651</td><td>0</td></tr>\n",
       "\t<tr><td>2012</td><td>1</td><td>1</td><td>2</td><td>Empresas</td><td>830122566</td><td>COLOMBIA TELECOMUNICACIONES S.A. ESP</td><td>2</td><td>Data Card       </td><td>2</td><td>3G</td><td> 20236</td><td>0</td></tr>\n",
       "\t<tr><td>2012</td><td>1</td><td>1</td><td>2</td><td>Empresas</td><td>830122566</td><td>COLOMBIA TELECOMUNICACIONES S.A. ESP</td><td>2</td><td>Data Card       </td><td>3</td><td>4G</td><td>     0</td><td>0</td></tr>\n",
       "\t<tr><td>2012</td><td>1</td><td>1</td><td>1</td><td>Personas</td><td>800153993</td><td>COMUNICACION CELULAR S A COMCEL S A </td><td>2</td><td>TelÃ©fono MÃ³vil</td><td>1</td><td>2G</td><td> 25037</td><td>0</td></tr>\n",
       "\t<tr><td>2012</td><td>1</td><td>1</td><td>1</td><td>Personas</td><td>800153993</td><td>COMUNICACION CELULAR S A COMCEL S A </td><td>2</td><td>TelÃ©fono MÃ³vil</td><td>2</td><td>3G</td><td>612953</td><td>0</td></tr>\n",
       "\t<tr><td>2012</td><td>1</td><td>1</td><td>1</td><td>Personas</td><td>800153993</td><td>COMUNICACION CELULAR S A COMCEL S A </td><td>2</td><td>TelÃ©fono MÃ³vil</td><td>3</td><td>4G</td><td>     0</td><td>0</td></tr>\n",
       "\t<tr><td>2012</td><td>1</td><td>1</td><td>1</td><td>Personas</td><td>800153993</td><td>COMUNICACION CELULAR S A COMCEL S A </td><td>2</td><td>Data card       </td><td>1</td><td>2G</td><td>     1</td><td>0</td></tr>\n",
       "\t<tr><td>2012</td><td>1</td><td>1</td><td>1</td><td>Personas</td><td>800153993</td><td>COMUNICACION CELULAR S A COMCEL S A </td><td>2</td><td>Data card       </td><td>2</td><td>3G</td><td>   133</td><td>0</td></tr>\n",
       "\t<tr><td>2012</td><td>1</td><td>1</td><td>1</td><td>Personas</td><td>800153993</td><td>COMUNICACION CELULAR S A COMCEL S A </td><td>2</td><td>Data card       </td><td>3</td><td>4G</td><td>     0</td><td>0</td></tr>\n",
       "\t<tr><td>2012</td><td>1</td><td>1</td><td>2</td><td>Empresas</td><td>800153993</td><td>COMUNICACION CELULAR S A COMCEL S A </td><td>2</td><td>TelÃ©fono MÃ³vil</td><td>1</td><td>2G</td><td> 15921</td><td>0</td></tr>\n",
       "\t<tr><td>2012</td><td>1</td><td>1</td><td>2</td><td>Empresas</td><td>800153993</td><td>COMUNICACION CELULAR S A COMCEL S A </td><td>2</td><td>TelÃ©fono MÃ³vil</td><td>2</td><td>3G</td><td>208322</td><td>0</td></tr>\n",
       "\t<tr><td>2012</td><td>1</td><td>1</td><td>2</td><td>Empresas</td><td>800153993</td><td>COMUNICACION CELULAR S A COMCEL S A </td><td>2</td><td>TelÃ©fono MÃ³vil</td><td>3</td><td>4G</td><td>     0</td><td>0</td></tr>\n",
       "\t<tr><td>2012</td><td>1</td><td>1</td><td>2</td><td>Empresas</td><td>800153993</td><td>COMUNICACION CELULAR S A COMCEL S A </td><td>2</td><td>Data card       </td><td>1</td><td>2G</td><td>     6</td><td>0</td></tr>\n",
       "\t<tr><td>2012</td><td>1</td><td>1</td><td>2</td><td>Empresas</td><td>800153993</td><td>COMUNICACION CELULAR S A COMCEL S A </td><td>2</td><td>Data card       </td><td>2</td><td>3G</td><td>   670</td><td>0</td></tr>\n",
       "\t<tr><td>2012</td><td>1</td><td>1</td><td>2</td><td>Empresas</td><td>800153993</td><td>COMUNICACION CELULAR S A COMCEL S A </td><td>2</td><td>Data card       </td><td>3</td><td>4G</td><td>     0</td><td>0</td></tr>\n",
       "\t<tr><td>2012</td><td>1</td><td>2</td><td>1</td><td>Personas</td><td>830122566</td><td>COLOMBIA TELECOMUNICACIONES S.A. ESP</td><td>1</td><td>TelÃ©fono MÃ³vil</td><td>1</td><td>2G</td><td> 54330</td><td>0</td></tr>\n",
       "\t<tr><td>2012</td><td>1</td><td>2</td><td>1</td><td>Personas</td><td>830122566</td><td>COLOMBIA TELECOMUNICACIONES S.A. ESP</td><td>1</td><td>TelÃ©fono MÃ³vil</td><td>2</td><td>3G</td><td>514573</td><td>0</td></tr>\n",
       "\t<tr><td>2012</td><td>1</td><td>2</td><td>1</td><td>Personas</td><td>830122566</td><td>COLOMBIA TELECOMUNICACIONES S.A. ESP</td><td>1</td><td>TelÃ©fono MÃ³vil</td><td>3</td><td>4G</td><td>     0</td><td>0</td></tr>\n",
       "\t<tr><td>2012</td><td>1</td><td>2</td><td>1</td><td>Personas</td><td>830122566</td><td>COLOMBIA TELECOMUNICACIONES S.A. ESP</td><td>2</td><td>Data Card       </td><td>1</td><td>2G</td><td>  2211</td><td>0</td></tr>\n",
       "\t<tr><td>2012</td><td>1</td><td>2</td><td>1</td><td>Personas</td><td>830122566</td><td>COLOMBIA TELECOMUNICACIONES S.A. ESP</td><td>2</td><td>Data Card       </td><td>2</td><td>3G</td><td> 27586</td><td>0</td></tr>\n",
       "\t<tr><td>2012</td><td>1</td><td>2</td><td>1</td><td>Personas</td><td>830122566</td><td>COLOMBIA TELECOMUNICACIONES S.A. ESP</td><td>2</td><td>Data Card       </td><td>3</td><td>4G</td><td>     0</td><td>0</td></tr>\n",
       "\t<tr><td>...</td><td>...</td><td>...</td><td>...</td><td>...</td><td>...</td><td>...</td><td>...</td><td>...</td><td>...</td><td>...</td><td>...</td><td>...</td></tr>\n",
       "\t<tr><td>2019</td><td>4</td><td>3</td><td>2</td><td>Empresas</td><td>830114921</td><td>COLOMBIA MOVIL S.A. E.S.P.                        </td><td>2</td><td>Data Card       </td><td>2</td><td>3G</td><td>   4375</td><td>0</td></tr>\n",
       "\t<tr><td>2019</td><td>4</td><td>3</td><td>1</td><td>Personas</td><td>830114921</td><td>COLOMBIA MOVIL S.A. E.S.P.                        </td><td>1</td><td>TelÃ©fono mÃ³vil</td><td>2</td><td>3G</td><td> 126129</td><td>0</td></tr>\n",
       "\t<tr><td>2019</td><td>4</td><td>3</td><td>2</td><td>Empresas</td><td>830114921</td><td>COLOMBIA MOVIL S.A. E.S.P.                        </td><td>1</td><td>TelÃ©fono mÃ³vil</td><td>1</td><td>2G</td><td>  59889</td><td>0</td></tr>\n",
       "\t<tr><td>2019</td><td>4</td><td>3</td><td>1</td><td>Personas</td><td>830114921</td><td>COLOMBIA MOVIL S.A. E.S.P.                        </td><td>2</td><td>Data Card       </td><td>2</td><td>3G</td><td>   3695</td><td>0</td></tr>\n",
       "\t<tr><td>2019</td><td>4</td><td>3</td><td>1</td><td>Personas</td><td>830114921</td><td>COLOMBIA MOVIL S.A. E.S.P.                        </td><td>1</td><td>TelÃ©fono mÃ³vil</td><td>1</td><td>2G</td><td>  40665</td><td>0</td></tr>\n",
       "\t<tr><td>2019</td><td>4</td><td>3</td><td>2</td><td>Empresas</td><td>830114921</td><td>COLOMBIA MOVIL S.A. E.S.P.                        </td><td>1</td><td>TelÃ©fono mÃ³vil</td><td>3</td><td>4G</td><td>   8682</td><td>0</td></tr>\n",
       "\t<tr><td>2019</td><td>4</td><td>3</td><td>2</td><td>Empresas</td><td>830114921</td><td>COLOMBIA MOVIL S.A. E.S.P.                        </td><td>2</td><td>Data Card       </td><td>3</td><td>4G</td><td>   1727</td><td>0</td></tr>\n",
       "\t<tr><td>2019</td><td>4</td><td>3</td><td>1</td><td>Personas</td><td>830114921</td><td>COLOMBIA MOVIL S.A. E.S.P.                        </td><td>1</td><td>TelÃ©fono mÃ³vil</td><td>3</td><td>4G</td><td>1269381</td><td>0</td></tr>\n",
       "\t<tr><td>2019</td><td>4</td><td>3</td><td>2</td><td>Empresas</td><td>830114921</td><td>COLOMBIA MOVIL S.A. E.S.P.                        </td><td>1</td><td>TelÃ©fono mÃ³vil</td><td>2</td><td>3G</td><td>   4500</td><td>0</td></tr>\n",
       "\t<tr><td>2019</td><td>4</td><td>3</td><td>1</td><td>Personas</td><td>830114921</td><td>COLOMBIA MOVIL S.A. E.S.P.                        </td><td>2</td><td>Data Card       </td><td>3</td><td>4G</td><td>   1639</td><td>0</td></tr>\n",
       "\t<tr><td>2019</td><td>4</td><td>3</td><td>1</td><td>Personas</td><td>830122566</td><td>COLOMBIA TELECOMUNICACIONES S.A. ESP              </td><td>1</td><td>TelÃ©fono mÃ³vil</td><td>1</td><td>2G</td><td>  27235</td><td>0</td></tr>\n",
       "\t<tr><td>2019</td><td>4</td><td>3</td><td>1</td><td>Personas</td><td>830122566</td><td>COLOMBIA TELECOMUNICACIONES S.A. ESP              </td><td>2</td><td>Data Card       </td><td>3</td><td>4G</td><td>   4010</td><td>0</td></tr>\n",
       "\t<tr><td>2019</td><td>4</td><td>3</td><td>2</td><td>Empresas</td><td>830122566</td><td>COLOMBIA TELECOMUNICACIONES S.A. ESP              </td><td>2</td><td>Data Card       </td><td>2</td><td>3G</td><td> 158773</td><td>0</td></tr>\n",
       "\t<tr><td>2019</td><td>4</td><td>3</td><td>1</td><td>Personas</td><td>830122566</td><td>COLOMBIA TELECOMUNICACIONES S.A. ESP              </td><td>1</td><td>TelÃ©fono mÃ³vil</td><td>2</td><td>3G</td><td> 500675</td><td>0</td></tr>\n",
       "\t<tr><td>2019</td><td>4</td><td>3</td><td>2</td><td>Empresas</td><td>830122566</td><td>COLOMBIA TELECOMUNICACIONES S.A. ESP              </td><td>1</td><td>TelÃ©fono mÃ³vil</td><td>1</td><td>2G</td><td>  72668</td><td>0</td></tr>\n",
       "\t<tr><td>2019</td><td>4</td><td>3</td><td>1</td><td>Personas</td><td>830122566</td><td>COLOMBIA TELECOMUNICACIONES S.A. ESP              </td><td>2</td><td>Data Card       </td><td>2</td><td>3G</td><td>   5279</td><td>0</td></tr>\n",
       "\t<tr><td>2019</td><td>4</td><td>3</td><td>1</td><td>Personas</td><td>830122566</td><td>COLOMBIA TELECOMUNICACIONES S.A. ESP              </td><td>2</td><td>Data Card       </td><td>1</td><td>2G</td><td>    184</td><td>0</td></tr>\n",
       "\t<tr><td>2019</td><td>4</td><td>3</td><td>2</td><td>Empresas</td><td>830122566</td><td>COLOMBIA TELECOMUNICACIONES S.A. ESP              </td><td>2</td><td>Data Card       </td><td>1</td><td>2G</td><td> 172408</td><td>0</td></tr>\n",
       "\t<tr><td>2019</td><td>4</td><td>3</td><td>2</td><td>Empresas</td><td>830122566</td><td>COLOMBIA TELECOMUNICACIONES S.A. ESP              </td><td>1</td><td>TelÃ©fono mÃ³vil</td><td>3</td><td>4G</td><td> 534603</td><td>0</td></tr>\n",
       "\t<tr><td>2019</td><td>4</td><td>3</td><td>2</td><td>Empresas</td><td>830122566</td><td>COLOMBIA TELECOMUNICACIONES S.A. ESP              </td><td>2</td><td>Data Card       </td><td>3</td><td>4G</td><td>  20953</td><td>0</td></tr>\n",
       "\t<tr><td>2019</td><td>4</td><td>3</td><td>1</td><td>Personas</td><td>830122566</td><td>COLOMBIA TELECOMUNICACIONES S.A. ESP              </td><td>1</td><td>TelÃ©fono mÃ³vil</td><td>3</td><td>4G</td><td>1999321</td><td>0</td></tr>\n",
       "\t<tr><td>2019</td><td>4</td><td>3</td><td>2</td><td>Empresas</td><td>830122566</td><td>COLOMBIA TELECOMUNICACIONES S.A. ESP              </td><td>1</td><td>TelÃ©fono mÃ³vil</td><td>2</td><td>3G</td><td> 285952</td><td>0</td></tr>\n",
       "\t<tr><td>2019</td><td>4</td><td>3</td><td>1</td><td>Personas</td><td>899999115</td><td>EMPRESA DE TELECOMUNICACIONES DE BOGOTÃ S.A. ESP.</td><td>1</td><td>TelÃ©fono mÃ³vil</td><td>1</td><td>2G</td><td>     99</td><td>0</td></tr>\n",
       "\t<tr><td>2019</td><td>4</td><td>3</td><td>2</td><td>Empresas</td><td>899999115</td><td>EMPRESA DE TELECOMUNICACIONES DE BOGOTÃ S.A. ESP.</td><td>1</td><td>TelÃ©fono mÃ³vil</td><td>2</td><td>3G</td><td>    682</td><td>0</td></tr>\n",
       "\t<tr><td>2019</td><td>4</td><td>3</td><td>1</td><td>Personas</td><td>899999115</td><td>EMPRESA DE TELECOMUNICACIONES DE BOGOTÃ S.A. ESP.</td><td>1</td><td>TelÃ©fono mÃ³vil</td><td>2</td><td>3G</td><td>   6359</td><td>0</td></tr>\n",
       "\t<tr><td>2019</td><td>4</td><td>3</td><td>2</td><td>Empresas</td><td>899999115</td><td>EMPRESA DE TELECOMUNICACIONES DE BOGOTÃ S.A. ESP.</td><td>1</td><td>TelÃ©fono mÃ³vil</td><td>1</td><td>2G</td><td>      7</td><td>0</td></tr>\n",
       "\t<tr><td>2019</td><td>4</td><td>3</td><td>2</td><td>Empresas</td><td>899999115</td><td>EMPRESA DE TELECOMUNICACIONES DE BOGOTÃ S.A. ESP.</td><td>1</td><td>TelÃ©fono mÃ³vil</td><td>3</td><td>4G</td><td>   6586</td><td>0</td></tr>\n",
       "\t<tr><td>2019</td><td>4</td><td>3</td><td>1</td><td>Personas</td><td>899999115</td><td>EMPRESA DE TELECOMUNICACIONES DE BOGOTÃ S.A. ESP.</td><td>1</td><td>TelÃ©fono mÃ³vil</td><td>3</td><td>4G</td><td> 108539</td><td>0</td></tr>\n",
       "\t<tr><td>2019</td><td>4</td><td>3</td><td>1</td><td>Personas</td><td>900420122</td><td>VIRGIN MOBILE COLOMBIA S.A.S.                     </td><td>1</td><td>TelÃ©fono mÃ³vil</td><td>2</td><td>3G</td><td>      0</td><td>0</td></tr>\n",
       "\t<tr><td>2019</td><td>4</td><td>3</td><td>1</td><td>Personas</td><td>900420122</td><td>VIRGIN MOBILE COLOMBIA S.A.S.                     </td><td>1</td><td>TelÃ©fono mÃ³vil</td><td>3</td><td>4G</td><td>      0</td><td>0</td></tr>\n",
       "</tbody>\n",
       "</table>\n"
      ],
      "text/latex": [
       "A data.frame: 4409 × 13\n",
       "\\begin{tabular}{lllllllllllll}\n",
       " ANNO & TRIMESTRE & MES\\_DEL\\_TRIMESTRE & ID\\_SEGMENTO & DESC\\_SEGMENTO & ID\\_EMPRESA & DESC\\_EMPRESA & ID\\_TERMINAL & DESC\\_TERMINAL & ID\\_TECNOLOGIA & DESC\\_TECNOLOGIA & CANTIDAD\\_SUSCRIPTORES & QUANTITY\\\\\n",
       " <int> & <dbl> & <dbl> & <int> & <fct> & <int> & <fct> & <int> & <fct> & <int> & <fct> & <dbl> & <dbl>\\\\\n",
       "\\hline\n",
       "\t 2012 & 1 & 1 & 1 & Personas & 830122566 & COLOMBIA TELECOMUNICACIONES S.A. ESP & 1 & TelÃ©fono MÃ³vil & 1 & 2G &  50590 & 0\\\\\n",
       "\t 2012 & 1 & 1 & 1 & Personas & 830122566 & COLOMBIA TELECOMUNICACIONES S.A. ESP & 1 & TelÃ©fono MÃ³vil & 2 & 3G & 469844 & 0\\\\\n",
       "\t 2012 & 1 & 1 & 1 & Personas & 830122566 & COLOMBIA TELECOMUNICACIONES S.A. ESP & 1 & TelÃ©fono MÃ³vil & 3 & 4G &      0 & 0\\\\\n",
       "\t 2012 & 1 & 1 & 1 & Personas & 830122566 & COLOMBIA TELECOMUNICACIONES S.A. ESP & 2 & Data Card        & 1 & 2G &   2024 & 0\\\\\n",
       "\t 2012 & 1 & 1 & 1 & Personas & 830122566 & COLOMBIA TELECOMUNICACIONES S.A. ESP & 2 & Data Card        & 2 & 3G &  25295 & 0\\\\\n",
       "\t 2012 & 1 & 1 & 1 & Personas & 830122566 & COLOMBIA TELECOMUNICACIONES S.A. ESP & 2 & Data Card        & 3 & 4G &      0 & 0\\\\\n",
       "\t 2012 & 1 & 1 & 2 & Empresas & 830122566 & COLOMBIA TELECOMUNICACIONES S.A. ESP & 1 & TelÃ©fono MÃ³vil & 1 & 2G &  22533 & 0\\\\\n",
       "\t 2012 & 1 & 1 & 2 & Empresas & 830122566 & COLOMBIA TELECOMUNICACIONES S.A. ESP & 1 & TelÃ©fono MÃ³vil & 2 & 3G &  45531 & 0\\\\\n",
       "\t 2012 & 1 & 1 & 2 & Empresas & 830122566 & COLOMBIA TELECOMUNICACIONES S.A. ESP & 1 & TelÃ©fono MÃ³vil & 3 & 4G &      0 & 0\\\\\n",
       "\t 2012 & 1 & 1 & 2 & Empresas & 830122566 & COLOMBIA TELECOMUNICACIONES S.A. ESP & 2 & Data Card        & 1 & 2G & 141651 & 0\\\\\n",
       "\t 2012 & 1 & 1 & 2 & Empresas & 830122566 & COLOMBIA TELECOMUNICACIONES S.A. ESP & 2 & Data Card        & 2 & 3G &  20236 & 0\\\\\n",
       "\t 2012 & 1 & 1 & 2 & Empresas & 830122566 & COLOMBIA TELECOMUNICACIONES S.A. ESP & 2 & Data Card        & 3 & 4G &      0 & 0\\\\\n",
       "\t 2012 & 1 & 1 & 1 & Personas & 800153993 & COMUNICACION CELULAR S A COMCEL S A  & 2 & TelÃ©fono MÃ³vil & 1 & 2G &  25037 & 0\\\\\n",
       "\t 2012 & 1 & 1 & 1 & Personas & 800153993 & COMUNICACION CELULAR S A COMCEL S A  & 2 & TelÃ©fono MÃ³vil & 2 & 3G & 612953 & 0\\\\\n",
       "\t 2012 & 1 & 1 & 1 & Personas & 800153993 & COMUNICACION CELULAR S A COMCEL S A  & 2 & TelÃ©fono MÃ³vil & 3 & 4G &      0 & 0\\\\\n",
       "\t 2012 & 1 & 1 & 1 & Personas & 800153993 & COMUNICACION CELULAR S A COMCEL S A  & 2 & Data card        & 1 & 2G &      1 & 0\\\\\n",
       "\t 2012 & 1 & 1 & 1 & Personas & 800153993 & COMUNICACION CELULAR S A COMCEL S A  & 2 & Data card        & 2 & 3G &    133 & 0\\\\\n",
       "\t 2012 & 1 & 1 & 1 & Personas & 800153993 & COMUNICACION CELULAR S A COMCEL S A  & 2 & Data card        & 3 & 4G &      0 & 0\\\\\n",
       "\t 2012 & 1 & 1 & 2 & Empresas & 800153993 & COMUNICACION CELULAR S A COMCEL S A  & 2 & TelÃ©fono MÃ³vil & 1 & 2G &  15921 & 0\\\\\n",
       "\t 2012 & 1 & 1 & 2 & Empresas & 800153993 & COMUNICACION CELULAR S A COMCEL S A  & 2 & TelÃ©fono MÃ³vil & 2 & 3G & 208322 & 0\\\\\n",
       "\t 2012 & 1 & 1 & 2 & Empresas & 800153993 & COMUNICACION CELULAR S A COMCEL S A  & 2 & TelÃ©fono MÃ³vil & 3 & 4G &      0 & 0\\\\\n",
       "\t 2012 & 1 & 1 & 2 & Empresas & 800153993 & COMUNICACION CELULAR S A COMCEL S A  & 2 & Data card        & 1 & 2G &      6 & 0\\\\\n",
       "\t 2012 & 1 & 1 & 2 & Empresas & 800153993 & COMUNICACION CELULAR S A COMCEL S A  & 2 & Data card        & 2 & 3G &    670 & 0\\\\\n",
       "\t 2012 & 1 & 1 & 2 & Empresas & 800153993 & COMUNICACION CELULAR S A COMCEL S A  & 2 & Data card        & 3 & 4G &      0 & 0\\\\\n",
       "\t 2012 & 1 & 2 & 1 & Personas & 830122566 & COLOMBIA TELECOMUNICACIONES S.A. ESP & 1 & TelÃ©fono MÃ³vil & 1 & 2G &  54330 & 0\\\\\n",
       "\t 2012 & 1 & 2 & 1 & Personas & 830122566 & COLOMBIA TELECOMUNICACIONES S.A. ESP & 1 & TelÃ©fono MÃ³vil & 2 & 3G & 514573 & 0\\\\\n",
       "\t 2012 & 1 & 2 & 1 & Personas & 830122566 & COLOMBIA TELECOMUNICACIONES S.A. ESP & 1 & TelÃ©fono MÃ³vil & 3 & 4G &      0 & 0\\\\\n",
       "\t 2012 & 1 & 2 & 1 & Personas & 830122566 & COLOMBIA TELECOMUNICACIONES S.A. ESP & 2 & Data Card        & 1 & 2G &   2211 & 0\\\\\n",
       "\t 2012 & 1 & 2 & 1 & Personas & 830122566 & COLOMBIA TELECOMUNICACIONES S.A. ESP & 2 & Data Card        & 2 & 3G &  27586 & 0\\\\\n",
       "\t 2012 & 1 & 2 & 1 & Personas & 830122566 & COLOMBIA TELECOMUNICACIONES S.A. ESP & 2 & Data Card        & 3 & 4G &      0 & 0\\\\\n",
       "\t ... & ... & ... & ... & ... & ... & ... & ... & ... & ... & ... & ... & ...\\\\\n",
       "\t 2019 & 4 & 3 & 2 & Empresas & 830114921 & COLOMBIA MOVIL S.A. E.S.P.                         & 2 & Data Card        & 2 & 3G &    4375 & 0\\\\\n",
       "\t 2019 & 4 & 3 & 1 & Personas & 830114921 & COLOMBIA MOVIL S.A. E.S.P.                         & 1 & TelÃ©fono mÃ³vil & 2 & 3G &  126129 & 0\\\\\n",
       "\t 2019 & 4 & 3 & 2 & Empresas & 830114921 & COLOMBIA MOVIL S.A. E.S.P.                         & 1 & TelÃ©fono mÃ³vil & 1 & 2G &   59889 & 0\\\\\n",
       "\t 2019 & 4 & 3 & 1 & Personas & 830114921 & COLOMBIA MOVIL S.A. E.S.P.                         & 2 & Data Card        & 2 & 3G &    3695 & 0\\\\\n",
       "\t 2019 & 4 & 3 & 1 & Personas & 830114921 & COLOMBIA MOVIL S.A. E.S.P.                         & 1 & TelÃ©fono mÃ³vil & 1 & 2G &   40665 & 0\\\\\n",
       "\t 2019 & 4 & 3 & 2 & Empresas & 830114921 & COLOMBIA MOVIL S.A. E.S.P.                         & 1 & TelÃ©fono mÃ³vil & 3 & 4G &    8682 & 0\\\\\n",
       "\t 2019 & 4 & 3 & 2 & Empresas & 830114921 & COLOMBIA MOVIL S.A. E.S.P.                         & 2 & Data Card        & 3 & 4G &    1727 & 0\\\\\n",
       "\t 2019 & 4 & 3 & 1 & Personas & 830114921 & COLOMBIA MOVIL S.A. E.S.P.                         & 1 & TelÃ©fono mÃ³vil & 3 & 4G & 1269381 & 0\\\\\n",
       "\t 2019 & 4 & 3 & 2 & Empresas & 830114921 & COLOMBIA MOVIL S.A. E.S.P.                         & 1 & TelÃ©fono mÃ³vil & 2 & 3G &    4500 & 0\\\\\n",
       "\t 2019 & 4 & 3 & 1 & Personas & 830114921 & COLOMBIA MOVIL S.A. E.S.P.                         & 2 & Data Card        & 3 & 4G &    1639 & 0\\\\\n",
       "\t 2019 & 4 & 3 & 1 & Personas & 830122566 & COLOMBIA TELECOMUNICACIONES S.A. ESP               & 1 & TelÃ©fono mÃ³vil & 1 & 2G &   27235 & 0\\\\\n",
       "\t 2019 & 4 & 3 & 1 & Personas & 830122566 & COLOMBIA TELECOMUNICACIONES S.A. ESP               & 2 & Data Card        & 3 & 4G &    4010 & 0\\\\\n",
       "\t 2019 & 4 & 3 & 2 & Empresas & 830122566 & COLOMBIA TELECOMUNICACIONES S.A. ESP               & 2 & Data Card        & 2 & 3G &  158773 & 0\\\\\n",
       "\t 2019 & 4 & 3 & 1 & Personas & 830122566 & COLOMBIA TELECOMUNICACIONES S.A. ESP               & 1 & TelÃ©fono mÃ³vil & 2 & 3G &  500675 & 0\\\\\n",
       "\t 2019 & 4 & 3 & 2 & Empresas & 830122566 & COLOMBIA TELECOMUNICACIONES S.A. ESP               & 1 & TelÃ©fono mÃ³vil & 1 & 2G &   72668 & 0\\\\\n",
       "\t 2019 & 4 & 3 & 1 & Personas & 830122566 & COLOMBIA TELECOMUNICACIONES S.A. ESP               & 2 & Data Card        & 2 & 3G &    5279 & 0\\\\\n",
       "\t 2019 & 4 & 3 & 1 & Personas & 830122566 & COLOMBIA TELECOMUNICACIONES S.A. ESP               & 2 & Data Card        & 1 & 2G &     184 & 0\\\\\n",
       "\t 2019 & 4 & 3 & 2 & Empresas & 830122566 & COLOMBIA TELECOMUNICACIONES S.A. ESP               & 2 & Data Card        & 1 & 2G &  172408 & 0\\\\\n",
       "\t 2019 & 4 & 3 & 2 & Empresas & 830122566 & COLOMBIA TELECOMUNICACIONES S.A. ESP               & 1 & TelÃ©fono mÃ³vil & 3 & 4G &  534603 & 0\\\\\n",
       "\t 2019 & 4 & 3 & 2 & Empresas & 830122566 & COLOMBIA TELECOMUNICACIONES S.A. ESP               & 2 & Data Card        & 3 & 4G &   20953 & 0\\\\\n",
       "\t 2019 & 4 & 3 & 1 & Personas & 830122566 & COLOMBIA TELECOMUNICACIONES S.A. ESP               & 1 & TelÃ©fono mÃ³vil & 3 & 4G & 1999321 & 0\\\\\n",
       "\t 2019 & 4 & 3 & 2 & Empresas & 830122566 & COLOMBIA TELECOMUNICACIONES S.A. ESP               & 1 & TelÃ©fono mÃ³vil & 2 & 3G &  285952 & 0\\\\\n",
       "\t 2019 & 4 & 3 & 1 & Personas & 899999115 & EMPRESA DE TELECOMUNICACIONES DE BOGOTÃ S.A. ESP. & 1 & TelÃ©fono mÃ³vil & 1 & 2G &      99 & 0\\\\\n",
       "\t 2019 & 4 & 3 & 2 & Empresas & 899999115 & EMPRESA DE TELECOMUNICACIONES DE BOGOTÃ S.A. ESP. & 1 & TelÃ©fono mÃ³vil & 2 & 3G &     682 & 0\\\\\n",
       "\t 2019 & 4 & 3 & 1 & Personas & 899999115 & EMPRESA DE TELECOMUNICACIONES DE BOGOTÃ S.A. ESP. & 1 & TelÃ©fono mÃ³vil & 2 & 3G &    6359 & 0\\\\\n",
       "\t 2019 & 4 & 3 & 2 & Empresas & 899999115 & EMPRESA DE TELECOMUNICACIONES DE BOGOTÃ S.A. ESP. & 1 & TelÃ©fono mÃ³vil & 1 & 2G &       7 & 0\\\\\n",
       "\t 2019 & 4 & 3 & 2 & Empresas & 899999115 & EMPRESA DE TELECOMUNICACIONES DE BOGOTÃ S.A. ESP. & 1 & TelÃ©fono mÃ³vil & 3 & 4G &    6586 & 0\\\\\n",
       "\t 2019 & 4 & 3 & 1 & Personas & 899999115 & EMPRESA DE TELECOMUNICACIONES DE BOGOTÃ S.A. ESP. & 1 & TelÃ©fono mÃ³vil & 3 & 4G &  108539 & 0\\\\\n",
       "\t 2019 & 4 & 3 & 1 & Personas & 900420122 & VIRGIN MOBILE COLOMBIA S.A.S.                      & 1 & TelÃ©fono mÃ³vil & 2 & 3G &       0 & 0\\\\\n",
       "\t 2019 & 4 & 3 & 1 & Personas & 900420122 & VIRGIN MOBILE COLOMBIA S.A.S.                      & 1 & TelÃ©fono mÃ³vil & 3 & 4G &       0 & 0\\\\\n",
       "\\end{tabular}\n"
      ],
      "text/markdown": [
       "\n",
       "A data.frame: 4409 × 13\n",
       "\n",
       "| ANNO &lt;int&gt; | TRIMESTRE &lt;dbl&gt; | MES_DEL_TRIMESTRE &lt;dbl&gt; | ID_SEGMENTO &lt;int&gt; | DESC_SEGMENTO &lt;fct&gt; | ID_EMPRESA &lt;int&gt; | DESC_EMPRESA &lt;fct&gt; | ID_TERMINAL &lt;int&gt; | DESC_TERMINAL &lt;fct&gt; | ID_TECNOLOGIA &lt;int&gt; | DESC_TECNOLOGIA &lt;fct&gt; | CANTIDAD_SUSCRIPTORES &lt;dbl&gt; | QUANTITY &lt;dbl&gt; |\n",
       "|---|---|---|---|---|---|---|---|---|---|---|---|---|\n",
       "| 2012 | 1 | 1 | 1 | Personas | 830122566 | COLOMBIA TELECOMUNICACIONES S.A. ESP | 1 | TelÃ©fono MÃ³vil | 1 | 2G |  50590 | 0 |\n",
       "| 2012 | 1 | 1 | 1 | Personas | 830122566 | COLOMBIA TELECOMUNICACIONES S.A. ESP | 1 | TelÃ©fono MÃ³vil | 2 | 3G | 469844 | 0 |\n",
       "| 2012 | 1 | 1 | 1 | Personas | 830122566 | COLOMBIA TELECOMUNICACIONES S.A. ESP | 1 | TelÃ©fono MÃ³vil | 3 | 4G |      0 | 0 |\n",
       "| 2012 | 1 | 1 | 1 | Personas | 830122566 | COLOMBIA TELECOMUNICACIONES S.A. ESP | 2 | Data Card        | 1 | 2G |   2024 | 0 |\n",
       "| 2012 | 1 | 1 | 1 | Personas | 830122566 | COLOMBIA TELECOMUNICACIONES S.A. ESP | 2 | Data Card        | 2 | 3G |  25295 | 0 |\n",
       "| 2012 | 1 | 1 | 1 | Personas | 830122566 | COLOMBIA TELECOMUNICACIONES S.A. ESP | 2 | Data Card        | 3 | 4G |      0 | 0 |\n",
       "| 2012 | 1 | 1 | 2 | Empresas | 830122566 | COLOMBIA TELECOMUNICACIONES S.A. ESP | 1 | TelÃ©fono MÃ³vil | 1 | 2G |  22533 | 0 |\n",
       "| 2012 | 1 | 1 | 2 | Empresas | 830122566 | COLOMBIA TELECOMUNICACIONES S.A. ESP | 1 | TelÃ©fono MÃ³vil | 2 | 3G |  45531 | 0 |\n",
       "| 2012 | 1 | 1 | 2 | Empresas | 830122566 | COLOMBIA TELECOMUNICACIONES S.A. ESP | 1 | TelÃ©fono MÃ³vil | 3 | 4G |      0 | 0 |\n",
       "| 2012 | 1 | 1 | 2 | Empresas | 830122566 | COLOMBIA TELECOMUNICACIONES S.A. ESP | 2 | Data Card        | 1 | 2G | 141651 | 0 |\n",
       "| 2012 | 1 | 1 | 2 | Empresas | 830122566 | COLOMBIA TELECOMUNICACIONES S.A. ESP | 2 | Data Card        | 2 | 3G |  20236 | 0 |\n",
       "| 2012 | 1 | 1 | 2 | Empresas | 830122566 | COLOMBIA TELECOMUNICACIONES S.A. ESP | 2 | Data Card        | 3 | 4G |      0 | 0 |\n",
       "| 2012 | 1 | 1 | 1 | Personas | 800153993 | COMUNICACION CELULAR S A COMCEL S A  | 2 | TelÃ©fono MÃ³vil | 1 | 2G |  25037 | 0 |\n",
       "| 2012 | 1 | 1 | 1 | Personas | 800153993 | COMUNICACION CELULAR S A COMCEL S A  | 2 | TelÃ©fono MÃ³vil | 2 | 3G | 612953 | 0 |\n",
       "| 2012 | 1 | 1 | 1 | Personas | 800153993 | COMUNICACION CELULAR S A COMCEL S A  | 2 | TelÃ©fono MÃ³vil | 3 | 4G |      0 | 0 |\n",
       "| 2012 | 1 | 1 | 1 | Personas | 800153993 | COMUNICACION CELULAR S A COMCEL S A  | 2 | Data card        | 1 | 2G |      1 | 0 |\n",
       "| 2012 | 1 | 1 | 1 | Personas | 800153993 | COMUNICACION CELULAR S A COMCEL S A  | 2 | Data card        | 2 | 3G |    133 | 0 |\n",
       "| 2012 | 1 | 1 | 1 | Personas | 800153993 | COMUNICACION CELULAR S A COMCEL S A  | 2 | Data card        | 3 | 4G |      0 | 0 |\n",
       "| 2012 | 1 | 1 | 2 | Empresas | 800153993 | COMUNICACION CELULAR S A COMCEL S A  | 2 | TelÃ©fono MÃ³vil | 1 | 2G |  15921 | 0 |\n",
       "| 2012 | 1 | 1 | 2 | Empresas | 800153993 | COMUNICACION CELULAR S A COMCEL S A  | 2 | TelÃ©fono MÃ³vil | 2 | 3G | 208322 | 0 |\n",
       "| 2012 | 1 | 1 | 2 | Empresas | 800153993 | COMUNICACION CELULAR S A COMCEL S A  | 2 | TelÃ©fono MÃ³vil | 3 | 4G |      0 | 0 |\n",
       "| 2012 | 1 | 1 | 2 | Empresas | 800153993 | COMUNICACION CELULAR S A COMCEL S A  | 2 | Data card        | 1 | 2G |      6 | 0 |\n",
       "| 2012 | 1 | 1 | 2 | Empresas | 800153993 | COMUNICACION CELULAR S A COMCEL S A  | 2 | Data card        | 2 | 3G |    670 | 0 |\n",
       "| 2012 | 1 | 1 | 2 | Empresas | 800153993 | COMUNICACION CELULAR S A COMCEL S A  | 2 | Data card        | 3 | 4G |      0 | 0 |\n",
       "| 2012 | 1 | 2 | 1 | Personas | 830122566 | COLOMBIA TELECOMUNICACIONES S.A. ESP | 1 | TelÃ©fono MÃ³vil | 1 | 2G |  54330 | 0 |\n",
       "| 2012 | 1 | 2 | 1 | Personas | 830122566 | COLOMBIA TELECOMUNICACIONES S.A. ESP | 1 | TelÃ©fono MÃ³vil | 2 | 3G | 514573 | 0 |\n",
       "| 2012 | 1 | 2 | 1 | Personas | 830122566 | COLOMBIA TELECOMUNICACIONES S.A. ESP | 1 | TelÃ©fono MÃ³vil | 3 | 4G |      0 | 0 |\n",
       "| 2012 | 1 | 2 | 1 | Personas | 830122566 | COLOMBIA TELECOMUNICACIONES S.A. ESP | 2 | Data Card        | 1 | 2G |   2211 | 0 |\n",
       "| 2012 | 1 | 2 | 1 | Personas | 830122566 | COLOMBIA TELECOMUNICACIONES S.A. ESP | 2 | Data Card        | 2 | 3G |  27586 | 0 |\n",
       "| 2012 | 1 | 2 | 1 | Personas | 830122566 | COLOMBIA TELECOMUNICACIONES S.A. ESP | 2 | Data Card        | 3 | 4G |      0 | 0 |\n",
       "| ... | ... | ... | ... | ... | ... | ... | ... | ... | ... | ... | ... | ... |\n",
       "| 2019 | 4 | 3 | 2 | Empresas | 830114921 | COLOMBIA MOVIL S.A. E.S.P.                         | 2 | Data Card        | 2 | 3G |    4375 | 0 |\n",
       "| 2019 | 4 | 3 | 1 | Personas | 830114921 | COLOMBIA MOVIL S.A. E.S.P.                         | 1 | TelÃ©fono mÃ³vil | 2 | 3G |  126129 | 0 |\n",
       "| 2019 | 4 | 3 | 2 | Empresas | 830114921 | COLOMBIA MOVIL S.A. E.S.P.                         | 1 | TelÃ©fono mÃ³vil | 1 | 2G |   59889 | 0 |\n",
       "| 2019 | 4 | 3 | 1 | Personas | 830114921 | COLOMBIA MOVIL S.A. E.S.P.                         | 2 | Data Card        | 2 | 3G |    3695 | 0 |\n",
       "| 2019 | 4 | 3 | 1 | Personas | 830114921 | COLOMBIA MOVIL S.A. E.S.P.                         | 1 | TelÃ©fono mÃ³vil | 1 | 2G |   40665 | 0 |\n",
       "| 2019 | 4 | 3 | 2 | Empresas | 830114921 | COLOMBIA MOVIL S.A. E.S.P.                         | 1 | TelÃ©fono mÃ³vil | 3 | 4G |    8682 | 0 |\n",
       "| 2019 | 4 | 3 | 2 | Empresas | 830114921 | COLOMBIA MOVIL S.A. E.S.P.                         | 2 | Data Card        | 3 | 4G |    1727 | 0 |\n",
       "| 2019 | 4 | 3 | 1 | Personas | 830114921 | COLOMBIA MOVIL S.A. E.S.P.                         | 1 | TelÃ©fono mÃ³vil | 3 | 4G | 1269381 | 0 |\n",
       "| 2019 | 4 | 3 | 2 | Empresas | 830114921 | COLOMBIA MOVIL S.A. E.S.P.                         | 1 | TelÃ©fono mÃ³vil | 2 | 3G |    4500 | 0 |\n",
       "| 2019 | 4 | 3 | 1 | Personas | 830114921 | COLOMBIA MOVIL S.A. E.S.P.                         | 2 | Data Card        | 3 | 4G |    1639 | 0 |\n",
       "| 2019 | 4 | 3 | 1 | Personas | 830122566 | COLOMBIA TELECOMUNICACIONES S.A. ESP               | 1 | TelÃ©fono mÃ³vil | 1 | 2G |   27235 | 0 |\n",
       "| 2019 | 4 | 3 | 1 | Personas | 830122566 | COLOMBIA TELECOMUNICACIONES S.A. ESP               | 2 | Data Card        | 3 | 4G |    4010 | 0 |\n",
       "| 2019 | 4 | 3 | 2 | Empresas | 830122566 | COLOMBIA TELECOMUNICACIONES S.A. ESP               | 2 | Data Card        | 2 | 3G |  158773 | 0 |\n",
       "| 2019 | 4 | 3 | 1 | Personas | 830122566 | COLOMBIA TELECOMUNICACIONES S.A. ESP               | 1 | TelÃ©fono mÃ³vil | 2 | 3G |  500675 | 0 |\n",
       "| 2019 | 4 | 3 | 2 | Empresas | 830122566 | COLOMBIA TELECOMUNICACIONES S.A. ESP               | 1 | TelÃ©fono mÃ³vil | 1 | 2G |   72668 | 0 |\n",
       "| 2019 | 4 | 3 | 1 | Personas | 830122566 | COLOMBIA TELECOMUNICACIONES S.A. ESP               | 2 | Data Card        | 2 | 3G |    5279 | 0 |\n",
       "| 2019 | 4 | 3 | 1 | Personas | 830122566 | COLOMBIA TELECOMUNICACIONES S.A. ESP               | 2 | Data Card        | 1 | 2G |     184 | 0 |\n",
       "| 2019 | 4 | 3 | 2 | Empresas | 830122566 | COLOMBIA TELECOMUNICACIONES S.A. ESP               | 2 | Data Card        | 1 | 2G |  172408 | 0 |\n",
       "| 2019 | 4 | 3 | 2 | Empresas | 830122566 | COLOMBIA TELECOMUNICACIONES S.A. ESP               | 1 | TelÃ©fono mÃ³vil | 3 | 4G |  534603 | 0 |\n",
       "| 2019 | 4 | 3 | 2 | Empresas | 830122566 | COLOMBIA TELECOMUNICACIONES S.A. ESP               | 2 | Data Card        | 3 | 4G |   20953 | 0 |\n",
       "| 2019 | 4 | 3 | 1 | Personas | 830122566 | COLOMBIA TELECOMUNICACIONES S.A. ESP               | 1 | TelÃ©fono mÃ³vil | 3 | 4G | 1999321 | 0 |\n",
       "| 2019 | 4 | 3 | 2 | Empresas | 830122566 | COLOMBIA TELECOMUNICACIONES S.A. ESP               | 1 | TelÃ©fono mÃ³vil | 2 | 3G |  285952 | 0 |\n",
       "| 2019 | 4 | 3 | 1 | Personas | 899999115 | EMPRESA DE TELECOMUNICACIONES DE BOGOTÃ S.A. ESP. | 1 | TelÃ©fono mÃ³vil | 1 | 2G |      99 | 0 |\n",
       "| 2019 | 4 | 3 | 2 | Empresas | 899999115 | EMPRESA DE TELECOMUNICACIONES DE BOGOTÃ S.A. ESP. | 1 | TelÃ©fono mÃ³vil | 2 | 3G |     682 | 0 |\n",
       "| 2019 | 4 | 3 | 1 | Personas | 899999115 | EMPRESA DE TELECOMUNICACIONES DE BOGOTÃ S.A. ESP. | 1 | TelÃ©fono mÃ³vil | 2 | 3G |    6359 | 0 |\n",
       "| 2019 | 4 | 3 | 2 | Empresas | 899999115 | EMPRESA DE TELECOMUNICACIONES DE BOGOTÃ S.A. ESP. | 1 | TelÃ©fono mÃ³vil | 1 | 2G |       7 | 0 |\n",
       "| 2019 | 4 | 3 | 2 | Empresas | 899999115 | EMPRESA DE TELECOMUNICACIONES DE BOGOTÃ S.A. ESP. | 1 | TelÃ©fono mÃ³vil | 3 | 4G |    6586 | 0 |\n",
       "| 2019 | 4 | 3 | 1 | Personas | 899999115 | EMPRESA DE TELECOMUNICACIONES DE BOGOTÃ S.A. ESP. | 1 | TelÃ©fono mÃ³vil | 3 | 4G |  108539 | 0 |\n",
       "| 2019 | 4 | 3 | 1 | Personas | 900420122 | VIRGIN MOBILE COLOMBIA S.A.S.                      | 1 | TelÃ©fono mÃ³vil | 2 | 3G |       0 | 0 |\n",
       "| 2019 | 4 | 3 | 1 | Personas | 900420122 | VIRGIN MOBILE COLOMBIA S.A.S.                      | 1 | TelÃ©fono mÃ³vil | 3 | 4G |       0 | 0 |\n",
       "\n"
      ],
      "text/plain": [
       "     ANNO TRIMESTRE MES_DEL_TRIMESTRE ID_SEGMENTO DESC_SEGMENTO ID_EMPRESA\n",
       "1    2012 1         1                 1           Personas      830122566 \n",
       "2    2012 1         1                 1           Personas      830122566 \n",
       "3    2012 1         1                 1           Personas      830122566 \n",
       "4    2012 1         1                 1           Personas      830122566 \n",
       "5    2012 1         1                 1           Personas      830122566 \n",
       "6    2012 1         1                 1           Personas      830122566 \n",
       "7    2012 1         1                 2           Empresas      830122566 \n",
       "8    2012 1         1                 2           Empresas      830122566 \n",
       "9    2012 1         1                 2           Empresas      830122566 \n",
       "10   2012 1         1                 2           Empresas      830122566 \n",
       "11   2012 1         1                 2           Empresas      830122566 \n",
       "12   2012 1         1                 2           Empresas      830122566 \n",
       "13   2012 1         1                 1           Personas      800153993 \n",
       "14   2012 1         1                 1           Personas      800153993 \n",
       "15   2012 1         1                 1           Personas      800153993 \n",
       "16   2012 1         1                 1           Personas      800153993 \n",
       "17   2012 1         1                 1           Personas      800153993 \n",
       "18   2012 1         1                 1           Personas      800153993 \n",
       "19   2012 1         1                 2           Empresas      800153993 \n",
       "20   2012 1         1                 2           Empresas      800153993 \n",
       "21   2012 1         1                 2           Empresas      800153993 \n",
       "22   2012 1         1                 2           Empresas      800153993 \n",
       "23   2012 1         1                 2           Empresas      800153993 \n",
       "24   2012 1         1                 2           Empresas      800153993 \n",
       "25   2012 1         2                 1           Personas      830122566 \n",
       "26   2012 1         2                 1           Personas      830122566 \n",
       "27   2012 1         2                 1           Personas      830122566 \n",
       "28   2012 1         2                 1           Personas      830122566 \n",
       "29   2012 1         2                 1           Personas      830122566 \n",
       "30   2012 1         2                 1           Personas      830122566 \n",
       "...  ...  ...       ...               ...         ...           ...       \n",
       "4380 2019 4         3                 2           Empresas      830114921 \n",
       "4381 2019 4         3                 1           Personas      830114921 \n",
       "4382 2019 4         3                 2           Empresas      830114921 \n",
       "4383 2019 4         3                 1           Personas      830114921 \n",
       "4384 2019 4         3                 1           Personas      830114921 \n",
       "4385 2019 4         3                 2           Empresas      830114921 \n",
       "4386 2019 4         3                 2           Empresas      830114921 \n",
       "4387 2019 4         3                 1           Personas      830114921 \n",
       "4388 2019 4         3                 2           Empresas      830114921 \n",
       "4389 2019 4         3                 1           Personas      830114921 \n",
       "4390 2019 4         3                 1           Personas      830122566 \n",
       "4391 2019 4         3                 1           Personas      830122566 \n",
       "4392 2019 4         3                 2           Empresas      830122566 \n",
       "4393 2019 4         3                 1           Personas      830122566 \n",
       "4394 2019 4         3                 2           Empresas      830122566 \n",
       "4395 2019 4         3                 1           Personas      830122566 \n",
       "4396 2019 4         3                 1           Personas      830122566 \n",
       "4397 2019 4         3                 2           Empresas      830122566 \n",
       "4398 2019 4         3                 2           Empresas      830122566 \n",
       "4399 2019 4         3                 2           Empresas      830122566 \n",
       "4400 2019 4         3                 1           Personas      830122566 \n",
       "4401 2019 4         3                 2           Empresas      830122566 \n",
       "4402 2019 4         3                 1           Personas      899999115 \n",
       "4403 2019 4         3                 2           Empresas      899999115 \n",
       "4404 2019 4         3                 1           Personas      899999115 \n",
       "4405 2019 4         3                 2           Empresas      899999115 \n",
       "4406 2019 4         3                 2           Empresas      899999115 \n",
       "4407 2019 4         3                 1           Personas      899999115 \n",
       "4408 2019 4         3                 1           Personas      900420122 \n",
       "4409 2019 4         3                 1           Personas      900420122 \n",
       "     DESC_EMPRESA                                       ID_TERMINAL\n",
       "1    COLOMBIA TELECOMUNICACIONES S.A. ESP               1          \n",
       "2    COLOMBIA TELECOMUNICACIONES S.A. ESP               1          \n",
       "3    COLOMBIA TELECOMUNICACIONES S.A. ESP               1          \n",
       "4    COLOMBIA TELECOMUNICACIONES S.A. ESP               2          \n",
       "5    COLOMBIA TELECOMUNICACIONES S.A. ESP               2          \n",
       "6    COLOMBIA TELECOMUNICACIONES S.A. ESP               2          \n",
       "7    COLOMBIA TELECOMUNICACIONES S.A. ESP               1          \n",
       "8    COLOMBIA TELECOMUNICACIONES S.A. ESP               1          \n",
       "9    COLOMBIA TELECOMUNICACIONES S.A. ESP               1          \n",
       "10   COLOMBIA TELECOMUNICACIONES S.A. ESP               2          \n",
       "11   COLOMBIA TELECOMUNICACIONES S.A. ESP               2          \n",
       "12   COLOMBIA TELECOMUNICACIONES S.A. ESP               2          \n",
       "13   COMUNICACION CELULAR S A COMCEL S A                2          \n",
       "14   COMUNICACION CELULAR S A COMCEL S A                2          \n",
       "15   COMUNICACION CELULAR S A COMCEL S A                2          \n",
       "16   COMUNICACION CELULAR S A COMCEL S A                2          \n",
       "17   COMUNICACION CELULAR S A COMCEL S A                2          \n",
       "18   COMUNICACION CELULAR S A COMCEL S A                2          \n",
       "19   COMUNICACION CELULAR S A COMCEL S A                2          \n",
       "20   COMUNICACION CELULAR S A COMCEL S A                2          \n",
       "21   COMUNICACION CELULAR S A COMCEL S A                2          \n",
       "22   COMUNICACION CELULAR S A COMCEL S A                2          \n",
       "23   COMUNICACION CELULAR S A COMCEL S A                2          \n",
       "24   COMUNICACION CELULAR S A COMCEL S A                2          \n",
       "25   COLOMBIA TELECOMUNICACIONES S.A. ESP               1          \n",
       "26   COLOMBIA TELECOMUNICACIONES S.A. ESP               1          \n",
       "27   COLOMBIA TELECOMUNICACIONES S.A. ESP               1          \n",
       "28   COLOMBIA TELECOMUNICACIONES S.A. ESP               2          \n",
       "29   COLOMBIA TELECOMUNICACIONES S.A. ESP               2          \n",
       "30   COLOMBIA TELECOMUNICACIONES S.A. ESP               2          \n",
       "...  ...                                                ...        \n",
       "4380 COLOMBIA MOVIL S.A. E.S.P.                         2          \n",
       "4381 COLOMBIA MOVIL S.A. E.S.P.                         1          \n",
       "4382 COLOMBIA MOVIL S.A. E.S.P.                         1          \n",
       "4383 COLOMBIA MOVIL S.A. E.S.P.                         2          \n",
       "4384 COLOMBIA MOVIL S.A. E.S.P.                         1          \n",
       "4385 COLOMBIA MOVIL S.A. E.S.P.                         1          \n",
       "4386 COLOMBIA MOVIL S.A. E.S.P.                         2          \n",
       "4387 COLOMBIA MOVIL S.A. E.S.P.                         1          \n",
       "4388 COLOMBIA MOVIL S.A. E.S.P.                         1          \n",
       "4389 COLOMBIA MOVIL S.A. E.S.P.                         2          \n",
       "4390 COLOMBIA TELECOMUNICACIONES S.A. ESP               1          \n",
       "4391 COLOMBIA TELECOMUNICACIONES S.A. ESP               2          \n",
       "4392 COLOMBIA TELECOMUNICACIONES S.A. ESP               2          \n",
       "4393 COLOMBIA TELECOMUNICACIONES S.A. ESP               1          \n",
       "4394 COLOMBIA TELECOMUNICACIONES S.A. ESP               1          \n",
       "4395 COLOMBIA TELECOMUNICACIONES S.A. ESP               2          \n",
       "4396 COLOMBIA TELECOMUNICACIONES S.A. ESP               2          \n",
       "4397 COLOMBIA TELECOMUNICACIONES S.A. ESP               2          \n",
       "4398 COLOMBIA TELECOMUNICACIONES S.A. ESP               1          \n",
       "4399 COLOMBIA TELECOMUNICACIONES S.A. ESP               2          \n",
       "4400 COLOMBIA TELECOMUNICACIONES S.A. ESP               1          \n",
       "4401 COLOMBIA TELECOMUNICACIONES S.A. ESP               1          \n",
       "4402 EMPRESA DE TELECOMUNICACIONES DE BOGOTÃ\\201 S.A. ESP. 1          \n",
       "4403 EMPRESA DE TELECOMUNICACIONES DE BOGOTÃ\\201 S.A. ESP. 1          \n",
       "4404 EMPRESA DE TELECOMUNICACIONES DE BOGOTÃ\\201 S.A. ESP. 1          \n",
       "4405 EMPRESA DE TELECOMUNICACIONES DE BOGOTÃ\\201 S.A. ESP. 1          \n",
       "4406 EMPRESA DE TELECOMUNICACIONES DE BOGOTÃ\\201 S.A. ESP. 1          \n",
       "4407 EMPRESA DE TELECOMUNICACIONES DE BOGOTÃ\\201 S.A. ESP. 1          \n",
       "4408 VIRGIN MOBILE COLOMBIA S.A.S.                      1          \n",
       "4409 VIRGIN MOBILE COLOMBIA S.A.S.                      1          \n",
       "     DESC_TERMINAL    ID_TECNOLOGIA DESC_TECNOLOGIA CANTIDAD_SUSCRIPTORES\n",
       "1    TelÃ©fono MÃ³vil 1             2G               50590               \n",
       "2    TelÃ©fono MÃ³vil 2             3G              469844               \n",
       "3    TelÃ©fono MÃ³vil 3             4G                   0               \n",
       "4    Data Card        1             2G                2024               \n",
       "5    Data Card        2             3G               25295               \n",
       "6    Data Card        3             4G                   0               \n",
       "7    TelÃ©fono MÃ³vil 1             2G               22533               \n",
       "8    TelÃ©fono MÃ³vil 2             3G               45531               \n",
       "9    TelÃ©fono MÃ³vil 3             4G                   0               \n",
       "10   Data Card        1             2G              141651               \n",
       "11   Data Card        2             3G               20236               \n",
       "12   Data Card        3             4G                   0               \n",
       "13   TelÃ©fono MÃ³vil 1             2G               25037               \n",
       "14   TelÃ©fono MÃ³vil 2             3G              612953               \n",
       "15   TelÃ©fono MÃ³vil 3             4G                   0               \n",
       "16   Data card        1             2G                   1               \n",
       "17   Data card        2             3G                 133               \n",
       "18   Data card        3             4G                   0               \n",
       "19   TelÃ©fono MÃ³vil 1             2G               15921               \n",
       "20   TelÃ©fono MÃ³vil 2             3G              208322               \n",
       "21   TelÃ©fono MÃ³vil 3             4G                   0               \n",
       "22   Data card        1             2G                   6               \n",
       "23   Data card        2             3G                 670               \n",
       "24   Data card        3             4G                   0               \n",
       "25   TelÃ©fono MÃ³vil 1             2G               54330               \n",
       "26   TelÃ©fono MÃ³vil 2             3G              514573               \n",
       "27   TelÃ©fono MÃ³vil 3             4G                   0               \n",
       "28   Data Card        1             2G                2211               \n",
       "29   Data Card        2             3G               27586               \n",
       "30   Data Card        3             4G                   0               \n",
       "...  ...              ...           ...             ...                  \n",
       "4380 Data Card        2             3G                 4375              \n",
       "4381 TelÃ©fono mÃ³vil 2             3G               126129              \n",
       "4382 TelÃ©fono mÃ³vil 1             2G                59889              \n",
       "4383 Data Card        2             3G                 3695              \n",
       "4384 TelÃ©fono mÃ³vil 1             2G                40665              \n",
       "4385 TelÃ©fono mÃ³vil 3             4G                 8682              \n",
       "4386 Data Card        3             4G                 1727              \n",
       "4387 TelÃ©fono mÃ³vil 3             4G              1269381              \n",
       "4388 TelÃ©fono mÃ³vil 2             3G                 4500              \n",
       "4389 Data Card        3             4G                 1639              \n",
       "4390 TelÃ©fono mÃ³vil 1             2G                27235              \n",
       "4391 Data Card        3             4G                 4010              \n",
       "4392 Data Card        2             3G               158773              \n",
       "4393 TelÃ©fono mÃ³vil 2             3G               500675              \n",
       "4394 TelÃ©fono mÃ³vil 1             2G                72668              \n",
       "4395 Data Card        2             3G                 5279              \n",
       "4396 Data Card        1             2G                  184              \n",
       "4397 Data Card        1             2G               172408              \n",
       "4398 TelÃ©fono mÃ³vil 3             4G               534603              \n",
       "4399 Data Card        3             4G                20953              \n",
       "4400 TelÃ©fono mÃ³vil 3             4G              1999321              \n",
       "4401 TelÃ©fono mÃ³vil 2             3G               285952              \n",
       "4402 TelÃ©fono mÃ³vil 1             2G                   99              \n",
       "4403 TelÃ©fono mÃ³vil 2             3G                  682              \n",
       "4404 TelÃ©fono mÃ³vil 2             3G                 6359              \n",
       "4405 TelÃ©fono mÃ³vil 1             2G                    7              \n",
       "4406 TelÃ©fono mÃ³vil 3             4G                 6586              \n",
       "4407 TelÃ©fono mÃ³vil 3             4G               108539              \n",
       "4408 TelÃ©fono mÃ³vil 2             3G                    0              \n",
       "4409 TelÃ©fono mÃ³vil 3             4G                    0              \n",
       "     QUANTITY\n",
       "1    0       \n",
       "2    0       \n",
       "3    0       \n",
       "4    0       \n",
       "5    0       \n",
       "6    0       \n",
       "7    0       \n",
       "8    0       \n",
       "9    0       \n",
       "10   0       \n",
       "11   0       \n",
       "12   0       \n",
       "13   0       \n",
       "14   0       \n",
       "15   0       \n",
       "16   0       \n",
       "17   0       \n",
       "18   0       \n",
       "19   0       \n",
       "20   0       \n",
       "21   0       \n",
       "22   0       \n",
       "23   0       \n",
       "24   0       \n",
       "25   0       \n",
       "26   0       \n",
       "27   0       \n",
       "28   0       \n",
       "29   0       \n",
       "30   0       \n",
       "...  ...     \n",
       "4380 0       \n",
       "4381 0       \n",
       "4382 0       \n",
       "4383 0       \n",
       "4384 0       \n",
       "4385 0       \n",
       "4386 0       \n",
       "4387 0       \n",
       "4388 0       \n",
       "4389 0       \n",
       "4390 0       \n",
       "4391 0       \n",
       "4392 0       \n",
       "4393 0       \n",
       "4394 0       \n",
       "4395 0       \n",
       "4396 0       \n",
       "4397 0       \n",
       "4398 0       \n",
       "4399 0       \n",
       "4400 0       \n",
       "4401 0       \n",
       "4402 0       \n",
       "4403 0       \n",
       "4404 0       \n",
       "4405 0       \n",
       "4406 0       \n",
       "4407 0       \n",
       "4408 0       \n",
       "4409 0       "
      ]
     },
     "metadata": {},
     "output_type": "display_data"
    }
   ],
   "source": [
    "# Datos - Preprocesamiento\n",
    "# https://www.datos.gov.co/api/views/7m3n-pxmk/rows.csv?accessType=DOWNLOAD\n",
    "df_subs_ether <- read.csv(\"https://www.datos.gov.co/api/views/7m3n-pxmk/rows.csv?accessType=DOWNLOAD\")\n",
    "\n",
    "is.nan.data.frame <- function(x)\n",
    "do.call(cbind, lapply(x, is.nan))\n",
    "\n",
    "# Set CANTIDAD_SUSCRIPTORES into numeric type\n",
    "df_subs_ether[, \"CANTIDAD_SUSCRIPTORES\"] <- as.numeric(as.character( df_subs_ether[, \"CANTIDAD_SUSCRIPTORES\"] ))\n",
    "\n",
    "df_subs_ether[, \"TRIMESTRE\"] <- as.numeric(as.character( df_subs_ether[, \"TRIMESTRE\"] ))\n",
    "df_subs_ether[, \"MES_DEL_TRIMESTRE\"] <- as.numeric(as.character( df_subs_ether[, \"MES_DEL_TRIMESTRE\"] ))\n",
    "\n",
    "# Na's values set to 0\n",
    "df_subs_ether$CANTIDAD_SUSCRIPTORES[is.na(df_subs_ether$CANTIDAD_SUSCRIPTORES)] <- 0\n",
    "\n",
    "# No hace efecto\n",
    "df_subs_ether[is.nan(df_subs_ether)] <- 0\n",
    "\n",
    "# Verifica los nulos\n",
    "df_subs_ether$CANTIDAD_SUSCRIPTORES[is.null(df_subs_ether$CANTIDAD_SUSCRIPTORES)] <- 0\n",
    "\n",
    "df_subs_ether[, \"CANTIDAD_SUSCRIPTORES\"] <- as.numeric(as.character( df_subs_ether[, \"CANTIDAD_SUSCRIPTORES\"] ))\n",
    "\n",
    "df_subs_ether$QUANTITY[TRUE] <- 0\n",
    "\n",
    "# Funciones\n",
    "trimestre <- function(tri)\n",
    "{\n",
    "    m1<-subset(df_subs_ether, df_subs_ether$TRIMESTRE==tri & DF_ALL$MES_DEL_TRIMESTRE==1)\n",
    "    m2<-subset(df_subs_ether, df_subs_ether$TRIMESTRE==tri & DF_ALL$MES_DEL_TRIMESTRE==2)\n",
    "    m3<-subset(df_subs_ether, df_subs_ether$TRIMESTRE==tri & DF_ALL$MES_DEL_TRIMESTRE==3)\n",
    "    mensual <- c(sum(m1$CANTIDAD_SUSCRIPTORES),sum(m2$CANTIDAD_SUSCRIPTORES),sum(m3$CANTIDAD_SUSCRIPTORES))\n",
    "    mensual\n",
    "}\n",
    "df_subs_ether"
   ]
  },
  {
   "cell_type": "markdown",
   "metadata": {},
   "source": [
    "# Punto 1\n",
    "Cual es la empresa con mas suscriptores en el año 2012?\n"
   ]
  },
  {
   "cell_type": "code",
   "execution_count": 17,
   "metadata": {},
   "outputs": [
    {
     "data": {
      "text/html": [
       "'Show head data'"
      ],
      "text/latex": [
       "'Show head data'"
      ],
      "text/markdown": [
       "'Show head data'"
      ],
      "text/plain": [
       "[1] \"Show head data\""
      ]
     },
     "metadata": {},
     "output_type": "display_data"
    },
    {
     "data": {
      "text/html": [
       "<table>\n",
       "<caption>A data.frame: 6 × 13</caption>\n",
       "<thead>\n",
       "\t<tr><th></th><th scope=col>ANNO</th><th scope=col>TRIMESTRE</th><th scope=col>MES_DEL_TRIMESTRE</th><th scope=col>ID_SEGMENTO</th><th scope=col>DESC_SEGMENTO</th><th scope=col>ID_EMPRESA</th><th scope=col>DESC_EMPRESA</th><th scope=col>ID_TERMINAL</th><th scope=col>DESC_TERMINAL</th><th scope=col>ID_TECNOLOGIA</th><th scope=col>DESC_TECNOLOGIA</th><th scope=col>CANTIDAD_SUSCRIPTORES</th><th scope=col>QUANTITY</th></tr>\n",
       "\t<tr><th></th><th scope=col>&lt;int&gt;</th><th scope=col>&lt;int&gt;</th><th scope=col>&lt;int&gt;</th><th scope=col>&lt;int&gt;</th><th scope=col>&lt;fct&gt;</th><th scope=col>&lt;int&gt;</th><th scope=col>&lt;fct&gt;</th><th scope=col>&lt;int&gt;</th><th scope=col>&lt;fct&gt;</th><th scope=col>&lt;int&gt;</th><th scope=col>&lt;fct&gt;</th><th scope=col>&lt;dbl&gt;</th><th scope=col>&lt;dbl&gt;</th></tr>\n",
       "</thead>\n",
       "<tbody>\n",
       "\t<tr><th scope=row>1</th><td>2012</td><td>1</td><td>1</td><td>1</td><td>Personas</td><td>830122566</td><td>COLOMBIA TELECOMUNICACIONES S.A. ESP</td><td>1</td><td>TelÃ©fono MÃ³vil</td><td>1</td><td>2G</td><td> 50590</td><td>0</td></tr>\n",
       "\t<tr><th scope=row>2</th><td>2012</td><td>1</td><td>1</td><td>1</td><td>Personas</td><td>830122566</td><td>COLOMBIA TELECOMUNICACIONES S.A. ESP</td><td>1</td><td>TelÃ©fono MÃ³vil</td><td>2</td><td>3G</td><td>469844</td><td>0</td></tr>\n",
       "\t<tr><th scope=row>3</th><td>2012</td><td>1</td><td>1</td><td>1</td><td>Personas</td><td>830122566</td><td>COLOMBIA TELECOMUNICACIONES S.A. ESP</td><td>1</td><td>TelÃ©fono MÃ³vil</td><td>3</td><td>4G</td><td>     0</td><td>0</td></tr>\n",
       "\t<tr><th scope=row>4</th><td>2012</td><td>1</td><td>1</td><td>1</td><td>Personas</td><td>830122566</td><td>COLOMBIA TELECOMUNICACIONES S.A. ESP</td><td>2</td><td>Data Card       </td><td>1</td><td>2G</td><td>  2024</td><td>0</td></tr>\n",
       "\t<tr><th scope=row>5</th><td>2012</td><td>1</td><td>1</td><td>1</td><td>Personas</td><td>830122566</td><td>COLOMBIA TELECOMUNICACIONES S.A. ESP</td><td>2</td><td>Data Card       </td><td>2</td><td>3G</td><td> 25295</td><td>0</td></tr>\n",
       "\t<tr><th scope=row>6</th><td>2012</td><td>1</td><td>1</td><td>1</td><td>Personas</td><td>830122566</td><td>COLOMBIA TELECOMUNICACIONES S.A. ESP</td><td>2</td><td>Data Card       </td><td>3</td><td>4G</td><td>     0</td><td>0</td></tr>\n",
       "</tbody>\n",
       "</table>\n"
      ],
      "text/latex": [
       "A data.frame: 6 × 13\n",
       "\\begin{tabular}{r|lllllllllllll}\n",
       "  & ANNO & TRIMESTRE & MES\\_DEL\\_TRIMESTRE & ID\\_SEGMENTO & DESC\\_SEGMENTO & ID\\_EMPRESA & DESC\\_EMPRESA & ID\\_TERMINAL & DESC\\_TERMINAL & ID\\_TECNOLOGIA & DESC\\_TECNOLOGIA & CANTIDAD\\_SUSCRIPTORES & QUANTITY\\\\\n",
       "  & <int> & <int> & <int> & <int> & <fct> & <int> & <fct> & <int> & <fct> & <int> & <fct> & <dbl> & <dbl>\\\\\n",
       "\\hline\n",
       "\t1 & 2012 & 1 & 1 & 1 & Personas & 830122566 & COLOMBIA TELECOMUNICACIONES S.A. ESP & 1 & TelÃ©fono MÃ³vil & 1 & 2G &  50590 & 0\\\\\n",
       "\t2 & 2012 & 1 & 1 & 1 & Personas & 830122566 & COLOMBIA TELECOMUNICACIONES S.A. ESP & 1 & TelÃ©fono MÃ³vil & 2 & 3G & 469844 & 0\\\\\n",
       "\t3 & 2012 & 1 & 1 & 1 & Personas & 830122566 & COLOMBIA TELECOMUNICACIONES S.A. ESP & 1 & TelÃ©fono MÃ³vil & 3 & 4G &      0 & 0\\\\\n",
       "\t4 & 2012 & 1 & 1 & 1 & Personas & 830122566 & COLOMBIA TELECOMUNICACIONES S.A. ESP & 2 & Data Card        & 1 & 2G &   2024 & 0\\\\\n",
       "\t5 & 2012 & 1 & 1 & 1 & Personas & 830122566 & COLOMBIA TELECOMUNICACIONES S.A. ESP & 2 & Data Card        & 2 & 3G &  25295 & 0\\\\\n",
       "\t6 & 2012 & 1 & 1 & 1 & Personas & 830122566 & COLOMBIA TELECOMUNICACIONES S.A. ESP & 2 & Data Card        & 3 & 4G &      0 & 0\\\\\n",
       "\\end{tabular}\n"
      ],
      "text/markdown": [
       "\n",
       "A data.frame: 6 × 13\n",
       "\n",
       "| <!--/--> | ANNO &lt;int&gt; | TRIMESTRE &lt;int&gt; | MES_DEL_TRIMESTRE &lt;int&gt; | ID_SEGMENTO &lt;int&gt; | DESC_SEGMENTO &lt;fct&gt; | ID_EMPRESA &lt;int&gt; | DESC_EMPRESA &lt;fct&gt; | ID_TERMINAL &lt;int&gt; | DESC_TERMINAL &lt;fct&gt; | ID_TECNOLOGIA &lt;int&gt; | DESC_TECNOLOGIA &lt;fct&gt; | CANTIDAD_SUSCRIPTORES &lt;dbl&gt; | QUANTITY &lt;dbl&gt; |\n",
       "|---|---|---|---|---|---|---|---|---|---|---|---|---|---|\n",
       "| 1 | 2012 | 1 | 1 | 1 | Personas | 830122566 | COLOMBIA TELECOMUNICACIONES S.A. ESP | 1 | TelÃ©fono MÃ³vil | 1 | 2G |  50590 | 0 |\n",
       "| 2 | 2012 | 1 | 1 | 1 | Personas | 830122566 | COLOMBIA TELECOMUNICACIONES S.A. ESP | 1 | TelÃ©fono MÃ³vil | 2 | 3G | 469844 | 0 |\n",
       "| 3 | 2012 | 1 | 1 | 1 | Personas | 830122566 | COLOMBIA TELECOMUNICACIONES S.A. ESP | 1 | TelÃ©fono MÃ³vil | 3 | 4G |      0 | 0 |\n",
       "| 4 | 2012 | 1 | 1 | 1 | Personas | 830122566 | COLOMBIA TELECOMUNICACIONES S.A. ESP | 2 | Data Card        | 1 | 2G |   2024 | 0 |\n",
       "| 5 | 2012 | 1 | 1 | 1 | Personas | 830122566 | COLOMBIA TELECOMUNICACIONES S.A. ESP | 2 | Data Card        | 2 | 3G |  25295 | 0 |\n",
       "| 6 | 2012 | 1 | 1 | 1 | Personas | 830122566 | COLOMBIA TELECOMUNICACIONES S.A. ESP | 2 | Data Card        | 3 | 4G |      0 | 0 |\n",
       "\n"
      ],
      "text/plain": [
       "  ANNO TRIMESTRE MES_DEL_TRIMESTRE ID_SEGMENTO DESC_SEGMENTO ID_EMPRESA\n",
       "1 2012 1         1                 1           Personas      830122566 \n",
       "2 2012 1         1                 1           Personas      830122566 \n",
       "3 2012 1         1                 1           Personas      830122566 \n",
       "4 2012 1         1                 1           Personas      830122566 \n",
       "5 2012 1         1                 1           Personas      830122566 \n",
       "6 2012 1         1                 1           Personas      830122566 \n",
       "  DESC_EMPRESA                         ID_TERMINAL DESC_TERMINAL   \n",
       "1 COLOMBIA TELECOMUNICACIONES S.A. ESP 1           TelÃ©fono MÃ³vil\n",
       "2 COLOMBIA TELECOMUNICACIONES S.A. ESP 1           TelÃ©fono MÃ³vil\n",
       "3 COLOMBIA TELECOMUNICACIONES S.A. ESP 1           TelÃ©fono MÃ³vil\n",
       "4 COLOMBIA TELECOMUNICACIONES S.A. ESP 2           Data Card       \n",
       "5 COLOMBIA TELECOMUNICACIONES S.A. ESP 2           Data Card       \n",
       "6 COLOMBIA TELECOMUNICACIONES S.A. ESP 2           Data Card       \n",
       "  ID_TECNOLOGIA DESC_TECNOLOGIA CANTIDAD_SUSCRIPTORES QUANTITY\n",
       "1 1             2G               50590                0       \n",
       "2 2             3G              469844                0       \n",
       "3 3             4G                   0                0       \n",
       "4 1             2G                2024                0       \n",
       "5 2             3G               25295                0       \n",
       "6 3             4G                   0                0       "
      ]
     },
     "metadata": {},
     "output_type": "display_data"
    },
    {
     "data": {
      "text/html": [
       "'Filter data to only 2012'"
      ],
      "text/latex": [
       "'Filter data to only 2012'"
      ],
      "text/markdown": [
       "'Filter data to only 2012'"
      ],
      "text/plain": [
       "[1] \"Filter data to only 2012\""
      ]
     },
     "metadata": {},
     "output_type": "display_data"
    },
    {
     "data": {
      "text/html": [
       "<table>\n",
       "<caption>A data.frame: 6 × 13</caption>\n",
       "<thead>\n",
       "\t<tr><th></th><th scope=col>ANNO</th><th scope=col>TRIMESTRE</th><th scope=col>MES_DEL_TRIMESTRE</th><th scope=col>ID_SEGMENTO</th><th scope=col>DESC_SEGMENTO</th><th scope=col>ID_EMPRESA</th><th scope=col>DESC_EMPRESA</th><th scope=col>ID_TERMINAL</th><th scope=col>DESC_TERMINAL</th><th scope=col>ID_TECNOLOGIA</th><th scope=col>DESC_TECNOLOGIA</th><th scope=col>CANTIDAD_SUSCRIPTORES</th><th scope=col>QUANTITY</th></tr>\n",
       "\t<tr><th></th><th scope=col>&lt;int&gt;</th><th scope=col>&lt;int&gt;</th><th scope=col>&lt;int&gt;</th><th scope=col>&lt;int&gt;</th><th scope=col>&lt;fct&gt;</th><th scope=col>&lt;int&gt;</th><th scope=col>&lt;fct&gt;</th><th scope=col>&lt;int&gt;</th><th scope=col>&lt;fct&gt;</th><th scope=col>&lt;int&gt;</th><th scope=col>&lt;fct&gt;</th><th scope=col>&lt;dbl&gt;</th><th scope=col>&lt;dbl&gt;</th></tr>\n",
       "</thead>\n",
       "<tbody>\n",
       "\t<tr><th scope=row>61</th><td>2012</td><td>1</td><td>3</td><td>1</td><td>Personas</td><td>830114921</td><td>COLOMBIA MOVIL S.A. E.S.P.</td><td>1</td><td>TelÃ©fono MÃ³vil</td><td>1</td><td>2G</td><td> 80088</td><td>0</td></tr>\n",
       "\t<tr><th scope=row>62</th><td>2012</td><td>1</td><td>3</td><td>1</td><td>Personas</td><td>830114921</td><td>COLOMBIA MOVIL S.A. E.S.P.</td><td>1</td><td>TelÃ©fono MÃ³vil</td><td>2</td><td>3G</td><td>207808</td><td>0</td></tr>\n",
       "\t<tr><th scope=row>63</th><td>2012</td><td>1</td><td>3</td><td>1</td><td>Personas</td><td>830114921</td><td>COLOMBIA MOVIL S.A. E.S.P.</td><td>1</td><td>TelÃ©fono MÃ³vil</td><td>3</td><td>4G</td><td>     0</td><td>0</td></tr>\n",
       "\t<tr><th scope=row>64</th><td>2012</td><td>1</td><td>3</td><td>1</td><td>Personas</td><td>830114921</td><td>COLOMBIA MOVIL S.A. E.S.P.</td><td>2</td><td>Data Card       </td><td>1</td><td>2G</td><td>     0</td><td>0</td></tr>\n",
       "\t<tr><th scope=row>65</th><td>2012</td><td>1</td><td>3</td><td>1</td><td>Personas</td><td>830114921</td><td>COLOMBIA MOVIL S.A. E.S.P.</td><td>2</td><td>Data Card       </td><td>2</td><td>3G</td><td>225453</td><td>0</td></tr>\n",
       "\t<tr><th scope=row>66</th><td>2012</td><td>1</td><td>3</td><td>1</td><td>Personas</td><td>830114921</td><td>COLOMBIA MOVIL S.A. E.S.P.</td><td>2</td><td>Data Card       </td><td>3</td><td>4G</td><td>     0</td><td>0</td></tr>\n",
       "</tbody>\n",
       "</table>\n"
      ],
      "text/latex": [
       "A data.frame: 6 × 13\n",
       "\\begin{tabular}{r|lllllllllllll}\n",
       "  & ANNO & TRIMESTRE & MES\\_DEL\\_TRIMESTRE & ID\\_SEGMENTO & DESC\\_SEGMENTO & ID\\_EMPRESA & DESC\\_EMPRESA & ID\\_TERMINAL & DESC\\_TERMINAL & ID\\_TECNOLOGIA & DESC\\_TECNOLOGIA & CANTIDAD\\_SUSCRIPTORES & QUANTITY\\\\\n",
       "  & <int> & <int> & <int> & <int> & <fct> & <int> & <fct> & <int> & <fct> & <int> & <fct> & <dbl> & <dbl>\\\\\n",
       "\\hline\n",
       "\t61 & 2012 & 1 & 3 & 1 & Personas & 830114921 & COLOMBIA MOVIL S.A. E.S.P. & 1 & TelÃ©fono MÃ³vil & 1 & 2G &  80088 & 0\\\\\n",
       "\t62 & 2012 & 1 & 3 & 1 & Personas & 830114921 & COLOMBIA MOVIL S.A. E.S.P. & 1 & TelÃ©fono MÃ³vil & 2 & 3G & 207808 & 0\\\\\n",
       "\t63 & 2012 & 1 & 3 & 1 & Personas & 830114921 & COLOMBIA MOVIL S.A. E.S.P. & 1 & TelÃ©fono MÃ³vil & 3 & 4G &      0 & 0\\\\\n",
       "\t64 & 2012 & 1 & 3 & 1 & Personas & 830114921 & COLOMBIA MOVIL S.A. E.S.P. & 2 & Data Card        & 1 & 2G &      0 & 0\\\\\n",
       "\t65 & 2012 & 1 & 3 & 1 & Personas & 830114921 & COLOMBIA MOVIL S.A. E.S.P. & 2 & Data Card        & 2 & 3G & 225453 & 0\\\\\n",
       "\t66 & 2012 & 1 & 3 & 1 & Personas & 830114921 & COLOMBIA MOVIL S.A. E.S.P. & 2 & Data Card        & 3 & 4G &      0 & 0\\\\\n",
       "\\end{tabular}\n"
      ],
      "text/markdown": [
       "\n",
       "A data.frame: 6 × 13\n",
       "\n",
       "| <!--/--> | ANNO &lt;int&gt; | TRIMESTRE &lt;int&gt; | MES_DEL_TRIMESTRE &lt;int&gt; | ID_SEGMENTO &lt;int&gt; | DESC_SEGMENTO &lt;fct&gt; | ID_EMPRESA &lt;int&gt; | DESC_EMPRESA &lt;fct&gt; | ID_TERMINAL &lt;int&gt; | DESC_TERMINAL &lt;fct&gt; | ID_TECNOLOGIA &lt;int&gt; | DESC_TECNOLOGIA &lt;fct&gt; | CANTIDAD_SUSCRIPTORES &lt;dbl&gt; | QUANTITY &lt;dbl&gt; |\n",
       "|---|---|---|---|---|---|---|---|---|---|---|---|---|---|\n",
       "| 61 | 2012 | 1 | 3 | 1 | Personas | 830114921 | COLOMBIA MOVIL S.A. E.S.P. | 1 | TelÃ©fono MÃ³vil | 1 | 2G |  80088 | 0 |\n",
       "| 62 | 2012 | 1 | 3 | 1 | Personas | 830114921 | COLOMBIA MOVIL S.A. E.S.P. | 1 | TelÃ©fono MÃ³vil | 2 | 3G | 207808 | 0 |\n",
       "| 63 | 2012 | 1 | 3 | 1 | Personas | 830114921 | COLOMBIA MOVIL S.A. E.S.P. | 1 | TelÃ©fono MÃ³vil | 3 | 4G |      0 | 0 |\n",
       "| 64 | 2012 | 1 | 3 | 1 | Personas | 830114921 | COLOMBIA MOVIL S.A. E.S.P. | 2 | Data Card        | 1 | 2G |      0 | 0 |\n",
       "| 65 | 2012 | 1 | 3 | 1 | Personas | 830114921 | COLOMBIA MOVIL S.A. E.S.P. | 2 | Data Card        | 2 | 3G | 225453 | 0 |\n",
       "| 66 | 2012 | 1 | 3 | 1 | Personas | 830114921 | COLOMBIA MOVIL S.A. E.S.P. | 2 | Data Card        | 3 | 4G |      0 | 0 |\n",
       "\n"
      ],
      "text/plain": [
       "   ANNO TRIMESTRE MES_DEL_TRIMESTRE ID_SEGMENTO DESC_SEGMENTO ID_EMPRESA\n",
       "61 2012 1         3                 1           Personas      830114921 \n",
       "62 2012 1         3                 1           Personas      830114921 \n",
       "63 2012 1         3                 1           Personas      830114921 \n",
       "64 2012 1         3                 1           Personas      830114921 \n",
       "65 2012 1         3                 1           Personas      830114921 \n",
       "66 2012 1         3                 1           Personas      830114921 \n",
       "   DESC_EMPRESA               ID_TERMINAL DESC_TERMINAL    ID_TECNOLOGIA\n",
       "61 COLOMBIA MOVIL S.A. E.S.P. 1           TelÃ©fono MÃ³vil 1            \n",
       "62 COLOMBIA MOVIL S.A. E.S.P. 1           TelÃ©fono MÃ³vil 2            \n",
       "63 COLOMBIA MOVIL S.A. E.S.P. 1           TelÃ©fono MÃ³vil 3            \n",
       "64 COLOMBIA MOVIL S.A. E.S.P. 2           Data Card        1            \n",
       "65 COLOMBIA MOVIL S.A. E.S.P. 2           Data Card        2            \n",
       "66 COLOMBIA MOVIL S.A. E.S.P. 2           Data Card        3            \n",
       "   DESC_TECNOLOGIA CANTIDAD_SUSCRIPTORES QUANTITY\n",
       "61 2G               80088                0       \n",
       "62 3G              207808                0       \n",
       "63 4G                   0                0       \n",
       "64 2G                   0                0       \n",
       "65 3G              225453                0       \n",
       "66 4G                   0                0       "
      ]
     },
     "metadata": {},
     "output_type": "display_data"
    },
    {
     "data": {
      "text/html": [
       "'Group by ID_EMPRESA, DESC_EMPRESA and month'"
      ],
      "text/latex": [
       "'Group by ID\\_EMPRESA, DESC\\_EMPRESA and month'"
      ],
      "text/markdown": [
       "'Group by ID_EMPRESA, DESC_EMPRESA and month'"
      ],
      "text/plain": [
       "[1] \"Group by ID_EMPRESA, DESC_EMPRESA and month\""
      ]
     },
     "metadata": {},
     "output_type": "display_data"
    },
    {
     "data": {
      "text/html": [
       "<table>\n",
       "<caption>A grouped_df: 38 × 6</caption>\n",
       "<thead>\n",
       "\t<tr><th scope=col>ID_EMPRESA</th><th scope=col>DESC_EMPRESA</th><th scope=col>TRIMESTRE</th><th scope=col>MES_DEL_TRIMESTRE</th><th scope=col>QUANTITY</th><th scope=col>CANTIDAD_SUSCRIPTORES</th></tr>\n",
       "\t<tr><th scope=col>&lt;int&gt;</th><th scope=col>&lt;fct&gt;</th><th scope=col>&lt;int&gt;</th><th scope=col>&lt;int&gt;</th><th scope=col>&lt;dbl&gt;</th><th scope=col>&lt;dbl&gt;</th></tr>\n",
       "</thead>\n",
       "<tbody>\n",
       "\t<tr><td>800153993</td><td>COMUNICACION CELULAR S A COMCEL S A               </td><td>4</td><td>3</td><td>1</td><td>1409443</td></tr>\n",
       "\t<tr><td>800153993</td><td>COMUNICACION CELULAR S A COMCEL S A               </td><td>4</td><td>2</td><td>1</td><td>1308455</td></tr>\n",
       "\t<tr><td>800153993</td><td>COMUNICACION CELULAR S A COMCEL S A               </td><td>4</td><td>1</td><td>1</td><td>1256104</td></tr>\n",
       "\t<tr><td>800153993</td><td>COMUNICACION CELULAR S A COMCEL S A               </td><td>3</td><td>3</td><td>1</td><td>1201771</td></tr>\n",
       "\t<tr><td>830122566</td><td>COLOMBIA TELECOMUNICACIONES S.A. ESP              </td><td>4</td><td>3</td><td>1</td><td>1168196</td></tr>\n",
       "\t<tr><td>830122566</td><td>COLOMBIA TELECOMUNICACIONES S.A. ESP              </td><td>4</td><td>2</td><td>1</td><td>1155152</td></tr>\n",
       "\t<tr><td>800153993</td><td>COMUNICACION CELULAR S A COMCEL S A               </td><td>3</td><td>2</td><td>1</td><td>1148456</td></tr>\n",
       "\t<tr><td>830122566</td><td>COLOMBIA TELECOMUNICACIONES S.A. ESP              </td><td>4</td><td>1</td><td>1</td><td>1139273</td></tr>\n",
       "\t<tr><td>830122566</td><td>COLOMBIA TELECOMUNICACIONES S.A. ESP              </td><td>3</td><td>3</td><td>1</td><td>1120197</td></tr>\n",
       "\t<tr><td>830122566</td><td>COLOMBIA TELECOMUNICACIONES S.A. ESP              </td><td>3</td><td>2</td><td>1</td><td>1097500</td></tr>\n",
       "\t<tr><td>800153993</td><td>COMUNICACION CELULAR S A COMCEL S A               </td><td>3</td><td>1</td><td>1</td><td>1086754</td></tr>\n",
       "\t<tr><td>830122566</td><td>COLOMBIA TELECOMUNICACIONES S.A. ESP              </td><td>3</td><td>1</td><td>1</td><td>1070668</td></tr>\n",
       "\t<tr><td>830122566</td><td>COLOMBIA TELECOMUNICACIONES S.A. ESP              </td><td>2</td><td>3</td><td>1</td><td>1039096</td></tr>\n",
       "\t<tr><td>800153993</td><td>COMUNICACION CELULAR S A COMCEL S A               </td><td>2</td><td>3</td><td>1</td><td>1034836</td></tr>\n",
       "\t<tr><td>830122566</td><td>COLOMBIA TELECOMUNICACIONES S.A. ESP              </td><td>2</td><td>2</td><td>1</td><td>1002051</td></tr>\n",
       "\t<tr><td>800153993</td><td>COMUNICACION CELULAR S A COMCEL S A               </td><td>2</td><td>2</td><td>1</td><td> 987447</td></tr>\n",
       "\t<tr><td>830122566</td><td>COLOMBIA TELECOMUNICACIONES S.A. ESP              </td><td>2</td><td>1</td><td>1</td><td> 958636</td></tr>\n",
       "\t<tr><td>800153993</td><td>COMUNICACION CELULAR S A COMCEL S A               </td><td>2</td><td>1</td><td>1</td><td> 944425</td></tr>\n",
       "\t<tr><td>800153993</td><td>COMUNICACION CELULAR S A COMCEL S A               </td><td>1</td><td>3</td><td>1</td><td> 923904</td></tr>\n",
       "\t<tr><td>830122566</td><td>COLOMBIA TELECOMUNICACIONES S.A. ESP              </td><td>1</td><td>3</td><td>1</td><td> 907749</td></tr>\n",
       "\t<tr><td>800153993</td><td>COMUNICACION CELULAR S A COMCEL S A               </td><td>1</td><td>2</td><td>1</td><td> 887936</td></tr>\n",
       "\t<tr><td>800153993</td><td>COMUNICACION CELULAR S A COMCEL S A               </td><td>1</td><td>1</td><td>1</td><td> 863043</td></tr>\n",
       "\t<tr><td>830122566</td><td>COLOMBIA TELECOMUNICACIONES S.A. ESP              </td><td>1</td><td>2</td><td>1</td><td> 848016</td></tr>\n",
       "\t<tr><td>830122566</td><td>COLOMBIA TELECOMUNICACIONES S.A. ESP              </td><td>1</td><td>1</td><td>1</td><td> 777704</td></tr>\n",
       "\t<tr><td>830114921</td><td>COLOMBIA MOVIL S.A. E.S.P.                        </td><td>4</td><td>3</td><td>1</td><td> 630366</td></tr>\n",
       "\t<tr><td>830114921</td><td>COLOMBIA MOVIL S.A. E.S.P.                        </td><td>4</td><td>1</td><td>1</td><td> 621403</td></tr>\n",
       "\t<tr><td>830114921</td><td>COLOMBIA MOVIL S.A. E.S.P.                        </td><td>3</td><td>3</td><td>1</td><td> 617594</td></tr>\n",
       "\t<tr><td>830114921</td><td>COLOMBIA MOVIL S.A. E.S.P.                        </td><td>4</td><td>2</td><td>1</td><td> 616724</td></tr>\n",
       "\t<tr><td>830114921</td><td>COLOMBIA MOVIL S.A. E.S.P.                        </td><td>3</td><td>2</td><td>1</td><td> 607581</td></tr>\n",
       "\t<tr><td>830114921</td><td>COLOMBIA MOVIL S.A. E.S.P.                        </td><td>3</td><td>1</td><td>1</td><td> 594383</td></tr>\n",
       "\t<tr><td>830114921</td><td>COLOMBIA MOVIL S.A. E.S.P.                        </td><td>2</td><td>3</td><td>1</td><td> 583082</td></tr>\n",
       "\t<tr><td>830114921</td><td>COLOMBIA MOVIL S.A. E.S.P.                        </td><td>2</td><td>2</td><td>1</td><td> 555601</td></tr>\n",
       "\t<tr><td>830114921</td><td>COLOMBIA MOVIL S.A. E.S.P.                        </td><td>2</td><td>1</td><td>1</td><td> 542320</td></tr>\n",
       "\t<tr><td>830114921</td><td>COLOMBIA MOVIL S.A. E.S.P.                        </td><td>1</td><td>3</td><td>1</td><td> 529485</td></tr>\n",
       "\t<tr><td>899999115</td><td>EMPRESA DE TELECOMUNICACIONES DE BOGOTÃ S.A. ESP.</td><td>2</td><td>3</td><td>1</td><td>  46886</td></tr>\n",
       "\t<tr><td>899999115</td><td>EMPRESA DE TELECOMUNICACIONES DE BOGOTÃ S.A. ESP.</td><td>3</td><td>3</td><td>1</td><td>  46510</td></tr>\n",
       "\t<tr><td>899999115</td><td>EMPRESA DE TELECOMUNICACIONES DE BOGOTÃ S.A. ESP.</td><td>4</td><td>3</td><td>1</td><td>  41312</td></tr>\n",
       "\t<tr><td>899999115</td><td>EMPRESA DE TELECOMUNICACIONES DE BOGOTÃ S.A. ESP.</td><td>1</td><td>3</td><td>1</td><td>  39647</td></tr>\n",
       "</tbody>\n",
       "</table>\n"
      ],
      "text/latex": [
       "A grouped\\_df: 38 × 6\n",
       "\\begin{tabular}{llllll}\n",
       " ID\\_EMPRESA & DESC\\_EMPRESA & TRIMESTRE & MES\\_DEL\\_TRIMESTRE & QUANTITY & CANTIDAD\\_SUSCRIPTORES\\\\\n",
       " <int> & <fct> & <int> & <int> & <dbl> & <dbl>\\\\\n",
       "\\hline\n",
       "\t 800153993 & COMUNICACION CELULAR S A COMCEL S A                & 4 & 3 & 1 & 1409443\\\\\n",
       "\t 800153993 & COMUNICACION CELULAR S A COMCEL S A                & 4 & 2 & 1 & 1308455\\\\\n",
       "\t 800153993 & COMUNICACION CELULAR S A COMCEL S A                & 4 & 1 & 1 & 1256104\\\\\n",
       "\t 800153993 & COMUNICACION CELULAR S A COMCEL S A                & 3 & 3 & 1 & 1201771\\\\\n",
       "\t 830122566 & COLOMBIA TELECOMUNICACIONES S.A. ESP               & 4 & 3 & 1 & 1168196\\\\\n",
       "\t 830122566 & COLOMBIA TELECOMUNICACIONES S.A. ESP               & 4 & 2 & 1 & 1155152\\\\\n",
       "\t 800153993 & COMUNICACION CELULAR S A COMCEL S A                & 3 & 2 & 1 & 1148456\\\\\n",
       "\t 830122566 & COLOMBIA TELECOMUNICACIONES S.A. ESP               & 4 & 1 & 1 & 1139273\\\\\n",
       "\t 830122566 & COLOMBIA TELECOMUNICACIONES S.A. ESP               & 3 & 3 & 1 & 1120197\\\\\n",
       "\t 830122566 & COLOMBIA TELECOMUNICACIONES S.A. ESP               & 3 & 2 & 1 & 1097500\\\\\n",
       "\t 800153993 & COMUNICACION CELULAR S A COMCEL S A                & 3 & 1 & 1 & 1086754\\\\\n",
       "\t 830122566 & COLOMBIA TELECOMUNICACIONES S.A. ESP               & 3 & 1 & 1 & 1070668\\\\\n",
       "\t 830122566 & COLOMBIA TELECOMUNICACIONES S.A. ESP               & 2 & 3 & 1 & 1039096\\\\\n",
       "\t 800153993 & COMUNICACION CELULAR S A COMCEL S A                & 2 & 3 & 1 & 1034836\\\\\n",
       "\t 830122566 & COLOMBIA TELECOMUNICACIONES S.A. ESP               & 2 & 2 & 1 & 1002051\\\\\n",
       "\t 800153993 & COMUNICACION CELULAR S A COMCEL S A                & 2 & 2 & 1 &  987447\\\\\n",
       "\t 830122566 & COLOMBIA TELECOMUNICACIONES S.A. ESP               & 2 & 1 & 1 &  958636\\\\\n",
       "\t 800153993 & COMUNICACION CELULAR S A COMCEL S A                & 2 & 1 & 1 &  944425\\\\\n",
       "\t 800153993 & COMUNICACION CELULAR S A COMCEL S A                & 1 & 3 & 1 &  923904\\\\\n",
       "\t 830122566 & COLOMBIA TELECOMUNICACIONES S.A. ESP               & 1 & 3 & 1 &  907749\\\\\n",
       "\t 800153993 & COMUNICACION CELULAR S A COMCEL S A                & 1 & 2 & 1 &  887936\\\\\n",
       "\t 800153993 & COMUNICACION CELULAR S A COMCEL S A                & 1 & 1 & 1 &  863043\\\\\n",
       "\t 830122566 & COLOMBIA TELECOMUNICACIONES S.A. ESP               & 1 & 2 & 1 &  848016\\\\\n",
       "\t 830122566 & COLOMBIA TELECOMUNICACIONES S.A. ESP               & 1 & 1 & 1 &  777704\\\\\n",
       "\t 830114921 & COLOMBIA MOVIL S.A. E.S.P.                         & 4 & 3 & 1 &  630366\\\\\n",
       "\t 830114921 & COLOMBIA MOVIL S.A. E.S.P.                         & 4 & 1 & 1 &  621403\\\\\n",
       "\t 830114921 & COLOMBIA MOVIL S.A. E.S.P.                         & 3 & 3 & 1 &  617594\\\\\n",
       "\t 830114921 & COLOMBIA MOVIL S.A. E.S.P.                         & 4 & 2 & 1 &  616724\\\\\n",
       "\t 830114921 & COLOMBIA MOVIL S.A. E.S.P.                         & 3 & 2 & 1 &  607581\\\\\n",
       "\t 830114921 & COLOMBIA MOVIL S.A. E.S.P.                         & 3 & 1 & 1 &  594383\\\\\n",
       "\t 830114921 & COLOMBIA MOVIL S.A. E.S.P.                         & 2 & 3 & 1 &  583082\\\\\n",
       "\t 830114921 & COLOMBIA MOVIL S.A. E.S.P.                         & 2 & 2 & 1 &  555601\\\\\n",
       "\t 830114921 & COLOMBIA MOVIL S.A. E.S.P.                         & 2 & 1 & 1 &  542320\\\\\n",
       "\t 830114921 & COLOMBIA MOVIL S.A. E.S.P.                         & 1 & 3 & 1 &  529485\\\\\n",
       "\t 899999115 & EMPRESA DE TELECOMUNICACIONES DE BOGOTÃ S.A. ESP. & 2 & 3 & 1 &   46886\\\\\n",
       "\t 899999115 & EMPRESA DE TELECOMUNICACIONES DE BOGOTÃ S.A. ESP. & 3 & 3 & 1 &   46510\\\\\n",
       "\t 899999115 & EMPRESA DE TELECOMUNICACIONES DE BOGOTÃ S.A. ESP. & 4 & 3 & 1 &   41312\\\\\n",
       "\t 899999115 & EMPRESA DE TELECOMUNICACIONES DE BOGOTÃ S.A. ESP. & 1 & 3 & 1 &   39647\\\\\n",
       "\\end{tabular}\n"
      ],
      "text/markdown": [
       "\n",
       "A grouped_df: 38 × 6\n",
       "\n",
       "| ID_EMPRESA &lt;int&gt; | DESC_EMPRESA &lt;fct&gt; | TRIMESTRE &lt;int&gt; | MES_DEL_TRIMESTRE &lt;int&gt; | QUANTITY &lt;dbl&gt; | CANTIDAD_SUSCRIPTORES &lt;dbl&gt; |\n",
       "|---|---|---|---|---|---|\n",
       "| 800153993 | COMUNICACION CELULAR S A COMCEL S A                | 4 | 3 | 1 | 1409443 |\n",
       "| 800153993 | COMUNICACION CELULAR S A COMCEL S A                | 4 | 2 | 1 | 1308455 |\n",
       "| 800153993 | COMUNICACION CELULAR S A COMCEL S A                | 4 | 1 | 1 | 1256104 |\n",
       "| 800153993 | COMUNICACION CELULAR S A COMCEL S A                | 3 | 3 | 1 | 1201771 |\n",
       "| 830122566 | COLOMBIA TELECOMUNICACIONES S.A. ESP               | 4 | 3 | 1 | 1168196 |\n",
       "| 830122566 | COLOMBIA TELECOMUNICACIONES S.A. ESP               | 4 | 2 | 1 | 1155152 |\n",
       "| 800153993 | COMUNICACION CELULAR S A COMCEL S A                | 3 | 2 | 1 | 1148456 |\n",
       "| 830122566 | COLOMBIA TELECOMUNICACIONES S.A. ESP               | 4 | 1 | 1 | 1139273 |\n",
       "| 830122566 | COLOMBIA TELECOMUNICACIONES S.A. ESP               | 3 | 3 | 1 | 1120197 |\n",
       "| 830122566 | COLOMBIA TELECOMUNICACIONES S.A. ESP               | 3 | 2 | 1 | 1097500 |\n",
       "| 800153993 | COMUNICACION CELULAR S A COMCEL S A                | 3 | 1 | 1 | 1086754 |\n",
       "| 830122566 | COLOMBIA TELECOMUNICACIONES S.A. ESP               | 3 | 1 | 1 | 1070668 |\n",
       "| 830122566 | COLOMBIA TELECOMUNICACIONES S.A. ESP               | 2 | 3 | 1 | 1039096 |\n",
       "| 800153993 | COMUNICACION CELULAR S A COMCEL S A                | 2 | 3 | 1 | 1034836 |\n",
       "| 830122566 | COLOMBIA TELECOMUNICACIONES S.A. ESP               | 2 | 2 | 1 | 1002051 |\n",
       "| 800153993 | COMUNICACION CELULAR S A COMCEL S A                | 2 | 2 | 1 |  987447 |\n",
       "| 830122566 | COLOMBIA TELECOMUNICACIONES S.A. ESP               | 2 | 1 | 1 |  958636 |\n",
       "| 800153993 | COMUNICACION CELULAR S A COMCEL S A                | 2 | 1 | 1 |  944425 |\n",
       "| 800153993 | COMUNICACION CELULAR S A COMCEL S A                | 1 | 3 | 1 |  923904 |\n",
       "| 830122566 | COLOMBIA TELECOMUNICACIONES S.A. ESP               | 1 | 3 | 1 |  907749 |\n",
       "| 800153993 | COMUNICACION CELULAR S A COMCEL S A                | 1 | 2 | 1 |  887936 |\n",
       "| 800153993 | COMUNICACION CELULAR S A COMCEL S A                | 1 | 1 | 1 |  863043 |\n",
       "| 830122566 | COLOMBIA TELECOMUNICACIONES S.A. ESP               | 1 | 2 | 1 |  848016 |\n",
       "| 830122566 | COLOMBIA TELECOMUNICACIONES S.A. ESP               | 1 | 1 | 1 |  777704 |\n",
       "| 830114921 | COLOMBIA MOVIL S.A. E.S.P.                         | 4 | 3 | 1 |  630366 |\n",
       "| 830114921 | COLOMBIA MOVIL S.A. E.S.P.                         | 4 | 1 | 1 |  621403 |\n",
       "| 830114921 | COLOMBIA MOVIL S.A. E.S.P.                         | 3 | 3 | 1 |  617594 |\n",
       "| 830114921 | COLOMBIA MOVIL S.A. E.S.P.                         | 4 | 2 | 1 |  616724 |\n",
       "| 830114921 | COLOMBIA MOVIL S.A. E.S.P.                         | 3 | 2 | 1 |  607581 |\n",
       "| 830114921 | COLOMBIA MOVIL S.A. E.S.P.                         | 3 | 1 | 1 |  594383 |\n",
       "| 830114921 | COLOMBIA MOVIL S.A. E.S.P.                         | 2 | 3 | 1 |  583082 |\n",
       "| 830114921 | COLOMBIA MOVIL S.A. E.S.P.                         | 2 | 2 | 1 |  555601 |\n",
       "| 830114921 | COLOMBIA MOVIL S.A. E.S.P.                         | 2 | 1 | 1 |  542320 |\n",
       "| 830114921 | COLOMBIA MOVIL S.A. E.S.P.                         | 1 | 3 | 1 |  529485 |\n",
       "| 899999115 | EMPRESA DE TELECOMUNICACIONES DE BOGOTÃ S.A. ESP. | 2 | 3 | 1 |   46886 |\n",
       "| 899999115 | EMPRESA DE TELECOMUNICACIONES DE BOGOTÃ S.A. ESP. | 3 | 3 | 1 |   46510 |\n",
       "| 899999115 | EMPRESA DE TELECOMUNICACIONES DE BOGOTÃ S.A. ESP. | 4 | 3 | 1 |   41312 |\n",
       "| 899999115 | EMPRESA DE TELECOMUNICACIONES DE BOGOTÃ S.A. ESP. | 1 | 3 | 1 |   39647 |\n",
       "\n"
      ],
      "text/plain": [
       "   ID_EMPRESA DESC_EMPRESA                                       TRIMESTRE\n",
       "1  800153993  COMUNICACION CELULAR S A COMCEL S A                4        \n",
       "2  800153993  COMUNICACION CELULAR S A COMCEL S A                4        \n",
       "3  800153993  COMUNICACION CELULAR S A COMCEL S A                4        \n",
       "4  800153993  COMUNICACION CELULAR S A COMCEL S A                3        \n",
       "5  830122566  COLOMBIA TELECOMUNICACIONES S.A. ESP               4        \n",
       "6  830122566  COLOMBIA TELECOMUNICACIONES S.A. ESP               4        \n",
       "7  800153993  COMUNICACION CELULAR S A COMCEL S A                3        \n",
       "8  830122566  COLOMBIA TELECOMUNICACIONES S.A. ESP               4        \n",
       "9  830122566  COLOMBIA TELECOMUNICACIONES S.A. ESP               3        \n",
       "10 830122566  COLOMBIA TELECOMUNICACIONES S.A. ESP               3        \n",
       "11 800153993  COMUNICACION CELULAR S A COMCEL S A                3        \n",
       "12 830122566  COLOMBIA TELECOMUNICACIONES S.A. ESP               3        \n",
       "13 830122566  COLOMBIA TELECOMUNICACIONES S.A. ESP               2        \n",
       "14 800153993  COMUNICACION CELULAR S A COMCEL S A                2        \n",
       "15 830122566  COLOMBIA TELECOMUNICACIONES S.A. ESP               2        \n",
       "16 800153993  COMUNICACION CELULAR S A COMCEL S A                2        \n",
       "17 830122566  COLOMBIA TELECOMUNICACIONES S.A. ESP               2        \n",
       "18 800153993  COMUNICACION CELULAR S A COMCEL S A                2        \n",
       "19 800153993  COMUNICACION CELULAR S A COMCEL S A                1        \n",
       "20 830122566  COLOMBIA TELECOMUNICACIONES S.A. ESP               1        \n",
       "21 800153993  COMUNICACION CELULAR S A COMCEL S A                1        \n",
       "22 800153993  COMUNICACION CELULAR S A COMCEL S A                1        \n",
       "23 830122566  COLOMBIA TELECOMUNICACIONES S.A. ESP               1        \n",
       "24 830122566  COLOMBIA TELECOMUNICACIONES S.A. ESP               1        \n",
       "25 830114921  COLOMBIA MOVIL S.A. E.S.P.                         4        \n",
       "26 830114921  COLOMBIA MOVIL S.A. E.S.P.                         4        \n",
       "27 830114921  COLOMBIA MOVIL S.A. E.S.P.                         3        \n",
       "28 830114921  COLOMBIA MOVIL S.A. E.S.P.                         4        \n",
       "29 830114921  COLOMBIA MOVIL S.A. E.S.P.                         3        \n",
       "30 830114921  COLOMBIA MOVIL S.A. E.S.P.                         3        \n",
       "31 830114921  COLOMBIA MOVIL S.A. E.S.P.                         2        \n",
       "32 830114921  COLOMBIA MOVIL S.A. E.S.P.                         2        \n",
       "33 830114921  COLOMBIA MOVIL S.A. E.S.P.                         2        \n",
       "34 830114921  COLOMBIA MOVIL S.A. E.S.P.                         1        \n",
       "35 899999115  EMPRESA DE TELECOMUNICACIONES DE BOGOTÃ\\201 S.A. ESP. 2        \n",
       "36 899999115  EMPRESA DE TELECOMUNICACIONES DE BOGOTÃ\\201 S.A. ESP. 3        \n",
       "37 899999115  EMPRESA DE TELECOMUNICACIONES DE BOGOTÃ\\201 S.A. ESP. 4        \n",
       "38 899999115  EMPRESA DE TELECOMUNICACIONES DE BOGOTÃ\\201 S.A. ESP. 1        \n",
       "   MES_DEL_TRIMESTRE QUANTITY CANTIDAD_SUSCRIPTORES\n",
       "1  3                 1        1409443              \n",
       "2  2                 1        1308455              \n",
       "3  1                 1        1256104              \n",
       "4  3                 1        1201771              \n",
       "5  3                 1        1168196              \n",
       "6  2                 1        1155152              \n",
       "7  2                 1        1148456              \n",
       "8  1                 1        1139273              \n",
       "9  3                 1        1120197              \n",
       "10 2                 1        1097500              \n",
       "11 1                 1        1086754              \n",
       "12 1                 1        1070668              \n",
       "13 3                 1        1039096              \n",
       "14 3                 1        1034836              \n",
       "15 2                 1        1002051              \n",
       "16 2                 1         987447              \n",
       "17 1                 1         958636              \n",
       "18 1                 1         944425              \n",
       "19 3                 1         923904              \n",
       "20 3                 1         907749              \n",
       "21 2                 1         887936              \n",
       "22 1                 1         863043              \n",
       "23 2                 1         848016              \n",
       "24 1                 1         777704              \n",
       "25 3                 1         630366              \n",
       "26 1                 1         621403              \n",
       "27 3                 1         617594              \n",
       "28 2                 1         616724              \n",
       "29 2                 1         607581              \n",
       "30 1                 1         594383              \n",
       "31 3                 1         583082              \n",
       "32 2                 1         555601              \n",
       "33 1                 1         542320              \n",
       "34 3                 1         529485              \n",
       "35 3                 1          46886              \n",
       "36 3                 1          46510              \n",
       "37 3                 1          41312              \n",
       "38 3                 1          39647              "
      ]
     },
     "metadata": {},
     "output_type": "display_data"
    },
    {
     "data": {
      "text/html": [
       "'Group by ID_EMPRESA and DESC_EMPRESA'"
      ],
      "text/latex": [
       "'Group by ID\\_EMPRESA and DESC\\_EMPRESA'"
      ],
      "text/markdown": [
       "'Group by ID_EMPRESA and DESC_EMPRESA'"
      ],
      "text/plain": [
       "[1] \"Group by ID_EMPRESA and DESC_EMPRESA\""
      ]
     },
     "metadata": {},
     "output_type": "display_data"
    },
    {
     "data": {
      "text/html": [
       "<table>\n",
       "<caption>A grouped_df: 4 × 3</caption>\n",
       "<thead>\n",
       "\t<tr><th scope=col>ID_EMPRESA</th><th scope=col>DESC_EMPRESA</th><th scope=col>CANTIDAD_SUSCRIPTORES</th></tr>\n",
       "\t<tr><th scope=col>&lt;int&gt;</th><th scope=col>&lt;fct&gt;</th><th scope=col>&lt;dbl&gt;</th></tr>\n",
       "</thead>\n",
       "<tbody>\n",
       "\t<tr><td>800153993</td><td>COMUNICACION CELULAR S A COMCEL S A               </td><td>1087714.50</td></tr>\n",
       "\t<tr><td>830122566</td><td>COLOMBIA TELECOMUNICACIONES S.A. ESP              </td><td>1023686.50</td></tr>\n",
       "\t<tr><td>830114921</td><td>COLOMBIA MOVIL S.A. E.S.P.                        </td><td> 589853.90</td></tr>\n",
       "\t<tr><td>899999115</td><td>EMPRESA DE TELECOMUNICACIONES DE BOGOTÃ S.A. ESP.</td><td>  43588.75</td></tr>\n",
       "</tbody>\n",
       "</table>\n"
      ],
      "text/latex": [
       "A grouped\\_df: 4 × 3\n",
       "\\begin{tabular}{lll}\n",
       " ID\\_EMPRESA & DESC\\_EMPRESA & CANTIDAD\\_SUSCRIPTORES\\\\\n",
       " <int> & <fct> & <dbl>\\\\\n",
       "\\hline\n",
       "\t 800153993 & COMUNICACION CELULAR S A COMCEL S A                & 1087714.50\\\\\n",
       "\t 830122566 & COLOMBIA TELECOMUNICACIONES S.A. ESP               & 1023686.50\\\\\n",
       "\t 830114921 & COLOMBIA MOVIL S.A. E.S.P.                         &  589853.90\\\\\n",
       "\t 899999115 & EMPRESA DE TELECOMUNICACIONES DE BOGOTÃ S.A. ESP. &   43588.75\\\\\n",
       "\\end{tabular}\n"
      ],
      "text/markdown": [
       "\n",
       "A grouped_df: 4 × 3\n",
       "\n",
       "| ID_EMPRESA &lt;int&gt; | DESC_EMPRESA &lt;fct&gt; | CANTIDAD_SUSCRIPTORES &lt;dbl&gt; |\n",
       "|---|---|---|\n",
       "| 800153993 | COMUNICACION CELULAR S A COMCEL S A                | 1087714.50 |\n",
       "| 830122566 | COLOMBIA TELECOMUNICACIONES S.A. ESP               | 1023686.50 |\n",
       "| 830114921 | COLOMBIA MOVIL S.A. E.S.P.                         |  589853.90 |\n",
       "| 899999115 | EMPRESA DE TELECOMUNICACIONES DE BOGOTÃ S.A. ESP. |   43588.75 |\n",
       "\n"
      ],
      "text/plain": [
       "  ID_EMPRESA DESC_EMPRESA                                      \n",
       "1 800153993  COMUNICACION CELULAR S A COMCEL S A               \n",
       "2 830122566  COLOMBIA TELECOMUNICACIONES S.A. ESP              \n",
       "3 830114921  COLOMBIA MOVIL S.A. E.S.P.                        \n",
       "4 899999115  EMPRESA DE TELECOMUNICACIONES DE BOGOTÃ\\201 S.A. ESP.\n",
       "  CANTIDAD_SUSCRIPTORES\n",
       "1 1087714.50           \n",
       "2 1023686.50           \n",
       "3  589853.90           \n",
       "4   43588.75           "
      ]
     },
     "metadata": {},
     "output_type": "display_data"
    }
   ],
   "source": [
    "sprintf(\"Show head data\")\n",
    "head(df_subs_ether)\n",
    "\n",
    "sprintf(\"Filter data to only 2012\")\n",
    "df_subs_ether_2012<-subset(df_subs_ether, df_subs_ether$ANNO==2012)\n",
    "df_subs_ether_2012 <- df_subs_ether_2012[with(df_subs_ether_2012,order(DESC_EMPRESA)),]\n",
    "head(df_subs_ether_2012)\n",
    "\n",
    "\n",
    "\n",
    "\n",
    "library(dplyr)\n",
    "\n",
    "sprintf(\"Group by ID_EMPRESA, DESC_EMPRESA and month\")\n",
    "df_subs_ether_2012_grby_enterp_month <- df_subs_ether_2012 %>% group_by(ID_EMPRESA, DESC_EMPRESA, TRIMESTRE, MES_DEL_TRIMESTRE, QUANTITY) %>% summarise(CANTIDAD_SUSCRIPTORES = sum(CANTIDAD_SUSCRIPTORES))\n",
    "df_subs_ether_2012_grby_enterp_month <- df_subs_ether_2012_grby_enterp_month[with(df_subs_ether_2012_grby_enterp_month,order(-CANTIDAD_SUSCRIPTORES)),]\n",
    "\n",
    "# Set quantity for divide on next group by\n",
    "df_subs_ether_2012_grby_enterp_month$QUANTITY[TRUE] <- 1\n",
    "df_subs_ether_2012_grby_enterp_month\n",
    "\n",
    "\n",
    "sprintf(\"Group by ID_EMPRESA and DESC_EMPRESA\")\n",
    "df_subs_ether_2012_grby_enterp <- df_subs_ether_2012_grby_enterp_month %>% group_by(ID_EMPRESA, DESC_EMPRESA) %>% summarise(CANTIDAD_SUSCRIPTORES = sum(CANTIDAD_SUSCRIPTORES)/sum(QUANTITY))\n",
    "df_subs_ether_2012_grby_enterp <- df_subs_ether_2012_grby_enterp[with(df_subs_ether_2012_grby_enterp,order(-CANTIDAD_SUSCRIPTORES)),]\n",
    "df_subs_ether_2012_grby_enterp\n"
   ]
  },
  {
   "cell_type": "markdown",
   "metadata": {},
   "source": [
    "# Respuesta Punto 1\n",
    "El calculo que se realizó para este analisis fue agregar una columna llamada \"quantity\" donde es 1 si presenta algún suscriptor para esa tecnologia y empresa ya que registra siempre todas pero en algunos casos es un valor vacio (que se convirtio a 0) para asi luego usarlo en el conteo del agrupamiento y dividir respecto a la cantidad de veces ya muchas de las veces que una empresa ofrece varios servicios la misma persona suele adquirir varios de estos serviciso ya que estos hacen \"promociones\" llamativas done la mayoria de usuarios o personas lo toman\n",
    "\n",
    "\n",
    "De acuerdo al resultado de la tabla con el group by muestra que la empresa con mas suscripores es **COMUNICACION CELULAR S A COMCEL S A** para el año 2012"
   ]
  },
  {
   "cell_type": "markdown",
   "metadata": {},
   "source": [
    "# Punto 2\n",
    "Cual es la empresa con menos suscriptores 2012?"
   ]
  },
  {
   "cell_type": "code",
   "execution_count": 18,
   "metadata": {},
   "outputs": [
    {
     "data": {
      "text/html": [
       "'Show head data'"
      ],
      "text/latex": [
       "'Show head data'"
      ],
      "text/markdown": [
       "'Show head data'"
      ],
      "text/plain": [
       "[1] \"Show head data\""
      ]
     },
     "metadata": {},
     "output_type": "display_data"
    },
    {
     "data": {
      "text/html": [
       "<table>\n",
       "<caption>A data.frame: 6 × 13</caption>\n",
       "<thead>\n",
       "\t<tr><th></th><th scope=col>ANNO</th><th scope=col>TRIMESTRE</th><th scope=col>MES_DEL_TRIMESTRE</th><th scope=col>ID_SEGMENTO</th><th scope=col>DESC_SEGMENTO</th><th scope=col>ID_EMPRESA</th><th scope=col>DESC_EMPRESA</th><th scope=col>ID_TERMINAL</th><th scope=col>DESC_TERMINAL</th><th scope=col>ID_TECNOLOGIA</th><th scope=col>DESC_TECNOLOGIA</th><th scope=col>CANTIDAD_SUSCRIPTORES</th><th scope=col>QUANTITY</th></tr>\n",
       "\t<tr><th></th><th scope=col>&lt;int&gt;</th><th scope=col>&lt;int&gt;</th><th scope=col>&lt;int&gt;</th><th scope=col>&lt;int&gt;</th><th scope=col>&lt;fct&gt;</th><th scope=col>&lt;int&gt;</th><th scope=col>&lt;fct&gt;</th><th scope=col>&lt;int&gt;</th><th scope=col>&lt;fct&gt;</th><th scope=col>&lt;int&gt;</th><th scope=col>&lt;fct&gt;</th><th scope=col>&lt;dbl&gt;</th><th scope=col>&lt;dbl&gt;</th></tr>\n",
       "</thead>\n",
       "<tbody>\n",
       "\t<tr><th scope=row>1</th><td>2012</td><td>1</td><td>1</td><td>1</td><td>Personas</td><td>830122566</td><td>COLOMBIA TELECOMUNICACIONES S.A. ESP</td><td>1</td><td>TelÃ©fono MÃ³vil</td><td>1</td><td>2G</td><td> 50590</td><td>0</td></tr>\n",
       "\t<tr><th scope=row>2</th><td>2012</td><td>1</td><td>1</td><td>1</td><td>Personas</td><td>830122566</td><td>COLOMBIA TELECOMUNICACIONES S.A. ESP</td><td>1</td><td>TelÃ©fono MÃ³vil</td><td>2</td><td>3G</td><td>469844</td><td>0</td></tr>\n",
       "\t<tr><th scope=row>3</th><td>2012</td><td>1</td><td>1</td><td>1</td><td>Personas</td><td>830122566</td><td>COLOMBIA TELECOMUNICACIONES S.A. ESP</td><td>1</td><td>TelÃ©fono MÃ³vil</td><td>3</td><td>4G</td><td>     0</td><td>0</td></tr>\n",
       "\t<tr><th scope=row>4</th><td>2012</td><td>1</td><td>1</td><td>1</td><td>Personas</td><td>830122566</td><td>COLOMBIA TELECOMUNICACIONES S.A. ESP</td><td>2</td><td>Data Card       </td><td>1</td><td>2G</td><td>  2024</td><td>0</td></tr>\n",
       "\t<tr><th scope=row>5</th><td>2012</td><td>1</td><td>1</td><td>1</td><td>Personas</td><td>830122566</td><td>COLOMBIA TELECOMUNICACIONES S.A. ESP</td><td>2</td><td>Data Card       </td><td>2</td><td>3G</td><td> 25295</td><td>0</td></tr>\n",
       "\t<tr><th scope=row>6</th><td>2012</td><td>1</td><td>1</td><td>1</td><td>Personas</td><td>830122566</td><td>COLOMBIA TELECOMUNICACIONES S.A. ESP</td><td>2</td><td>Data Card       </td><td>3</td><td>4G</td><td>     0</td><td>0</td></tr>\n",
       "</tbody>\n",
       "</table>\n"
      ],
      "text/latex": [
       "A data.frame: 6 × 13\n",
       "\\begin{tabular}{r|lllllllllllll}\n",
       "  & ANNO & TRIMESTRE & MES\\_DEL\\_TRIMESTRE & ID\\_SEGMENTO & DESC\\_SEGMENTO & ID\\_EMPRESA & DESC\\_EMPRESA & ID\\_TERMINAL & DESC\\_TERMINAL & ID\\_TECNOLOGIA & DESC\\_TECNOLOGIA & CANTIDAD\\_SUSCRIPTORES & QUANTITY\\\\\n",
       "  & <int> & <int> & <int> & <int> & <fct> & <int> & <fct> & <int> & <fct> & <int> & <fct> & <dbl> & <dbl>\\\\\n",
       "\\hline\n",
       "\t1 & 2012 & 1 & 1 & 1 & Personas & 830122566 & COLOMBIA TELECOMUNICACIONES S.A. ESP & 1 & TelÃ©fono MÃ³vil & 1 & 2G &  50590 & 0\\\\\n",
       "\t2 & 2012 & 1 & 1 & 1 & Personas & 830122566 & COLOMBIA TELECOMUNICACIONES S.A. ESP & 1 & TelÃ©fono MÃ³vil & 2 & 3G & 469844 & 0\\\\\n",
       "\t3 & 2012 & 1 & 1 & 1 & Personas & 830122566 & COLOMBIA TELECOMUNICACIONES S.A. ESP & 1 & TelÃ©fono MÃ³vil & 3 & 4G &      0 & 0\\\\\n",
       "\t4 & 2012 & 1 & 1 & 1 & Personas & 830122566 & COLOMBIA TELECOMUNICACIONES S.A. ESP & 2 & Data Card        & 1 & 2G &   2024 & 0\\\\\n",
       "\t5 & 2012 & 1 & 1 & 1 & Personas & 830122566 & COLOMBIA TELECOMUNICACIONES S.A. ESP & 2 & Data Card        & 2 & 3G &  25295 & 0\\\\\n",
       "\t6 & 2012 & 1 & 1 & 1 & Personas & 830122566 & COLOMBIA TELECOMUNICACIONES S.A. ESP & 2 & Data Card        & 3 & 4G &      0 & 0\\\\\n",
       "\\end{tabular}\n"
      ],
      "text/markdown": [
       "\n",
       "A data.frame: 6 × 13\n",
       "\n",
       "| <!--/--> | ANNO &lt;int&gt; | TRIMESTRE &lt;int&gt; | MES_DEL_TRIMESTRE &lt;int&gt; | ID_SEGMENTO &lt;int&gt; | DESC_SEGMENTO &lt;fct&gt; | ID_EMPRESA &lt;int&gt; | DESC_EMPRESA &lt;fct&gt; | ID_TERMINAL &lt;int&gt; | DESC_TERMINAL &lt;fct&gt; | ID_TECNOLOGIA &lt;int&gt; | DESC_TECNOLOGIA &lt;fct&gt; | CANTIDAD_SUSCRIPTORES &lt;dbl&gt; | QUANTITY &lt;dbl&gt; |\n",
       "|---|---|---|---|---|---|---|---|---|---|---|---|---|---|\n",
       "| 1 | 2012 | 1 | 1 | 1 | Personas | 830122566 | COLOMBIA TELECOMUNICACIONES S.A. ESP | 1 | TelÃ©fono MÃ³vil | 1 | 2G |  50590 | 0 |\n",
       "| 2 | 2012 | 1 | 1 | 1 | Personas | 830122566 | COLOMBIA TELECOMUNICACIONES S.A. ESP | 1 | TelÃ©fono MÃ³vil | 2 | 3G | 469844 | 0 |\n",
       "| 3 | 2012 | 1 | 1 | 1 | Personas | 830122566 | COLOMBIA TELECOMUNICACIONES S.A. ESP | 1 | TelÃ©fono MÃ³vil | 3 | 4G |      0 | 0 |\n",
       "| 4 | 2012 | 1 | 1 | 1 | Personas | 830122566 | COLOMBIA TELECOMUNICACIONES S.A. ESP | 2 | Data Card        | 1 | 2G |   2024 | 0 |\n",
       "| 5 | 2012 | 1 | 1 | 1 | Personas | 830122566 | COLOMBIA TELECOMUNICACIONES S.A. ESP | 2 | Data Card        | 2 | 3G |  25295 | 0 |\n",
       "| 6 | 2012 | 1 | 1 | 1 | Personas | 830122566 | COLOMBIA TELECOMUNICACIONES S.A. ESP | 2 | Data Card        | 3 | 4G |      0 | 0 |\n",
       "\n"
      ],
      "text/plain": [
       "  ANNO TRIMESTRE MES_DEL_TRIMESTRE ID_SEGMENTO DESC_SEGMENTO ID_EMPRESA\n",
       "1 2012 1         1                 1           Personas      830122566 \n",
       "2 2012 1         1                 1           Personas      830122566 \n",
       "3 2012 1         1                 1           Personas      830122566 \n",
       "4 2012 1         1                 1           Personas      830122566 \n",
       "5 2012 1         1                 1           Personas      830122566 \n",
       "6 2012 1         1                 1           Personas      830122566 \n",
       "  DESC_EMPRESA                         ID_TERMINAL DESC_TERMINAL   \n",
       "1 COLOMBIA TELECOMUNICACIONES S.A. ESP 1           TelÃ©fono MÃ³vil\n",
       "2 COLOMBIA TELECOMUNICACIONES S.A. ESP 1           TelÃ©fono MÃ³vil\n",
       "3 COLOMBIA TELECOMUNICACIONES S.A. ESP 1           TelÃ©fono MÃ³vil\n",
       "4 COLOMBIA TELECOMUNICACIONES S.A. ESP 2           Data Card       \n",
       "5 COLOMBIA TELECOMUNICACIONES S.A. ESP 2           Data Card       \n",
       "6 COLOMBIA TELECOMUNICACIONES S.A. ESP 2           Data Card       \n",
       "  ID_TECNOLOGIA DESC_TECNOLOGIA CANTIDAD_SUSCRIPTORES QUANTITY\n",
       "1 1             2G               50590                0       \n",
       "2 2             3G              469844                0       \n",
       "3 3             4G                   0                0       \n",
       "4 1             2G                2024                0       \n",
       "5 2             3G               25295                0       \n",
       "6 3             4G                   0                0       "
      ]
     },
     "metadata": {},
     "output_type": "display_data"
    },
    {
     "data": {
      "text/html": [
       "'Filter data to only 2012'"
      ],
      "text/latex": [
       "'Filter data to only 2012'"
      ],
      "text/markdown": [
       "'Filter data to only 2012'"
      ],
      "text/plain": [
       "[1] \"Filter data to only 2012\""
      ]
     },
     "metadata": {},
     "output_type": "display_data"
    },
    {
     "data": {
      "text/html": [
       "<table>\n",
       "<caption>A data.frame: 6 × 13</caption>\n",
       "<thead>\n",
       "\t<tr><th></th><th scope=col>ANNO</th><th scope=col>TRIMESTRE</th><th scope=col>MES_DEL_TRIMESTRE</th><th scope=col>ID_SEGMENTO</th><th scope=col>DESC_SEGMENTO</th><th scope=col>ID_EMPRESA</th><th scope=col>DESC_EMPRESA</th><th scope=col>ID_TERMINAL</th><th scope=col>DESC_TERMINAL</th><th scope=col>ID_TECNOLOGIA</th><th scope=col>DESC_TECNOLOGIA</th><th scope=col>CANTIDAD_SUSCRIPTORES</th><th scope=col>QUANTITY</th></tr>\n",
       "\t<tr><th></th><th scope=col>&lt;int&gt;</th><th scope=col>&lt;int&gt;</th><th scope=col>&lt;int&gt;</th><th scope=col>&lt;int&gt;</th><th scope=col>&lt;fct&gt;</th><th scope=col>&lt;int&gt;</th><th scope=col>&lt;fct&gt;</th><th scope=col>&lt;int&gt;</th><th scope=col>&lt;fct&gt;</th><th scope=col>&lt;int&gt;</th><th scope=col>&lt;fct&gt;</th><th scope=col>&lt;dbl&gt;</th><th scope=col>&lt;dbl&gt;</th></tr>\n",
       "</thead>\n",
       "<tbody>\n",
       "\t<tr><th scope=row>61</th><td>2012</td><td>1</td><td>3</td><td>1</td><td>Personas</td><td>830114921</td><td>COLOMBIA MOVIL S.A. E.S.P.</td><td>1</td><td>TelÃ©fono MÃ³vil</td><td>1</td><td>2G</td><td> 80088</td><td>0</td></tr>\n",
       "\t<tr><th scope=row>62</th><td>2012</td><td>1</td><td>3</td><td>1</td><td>Personas</td><td>830114921</td><td>COLOMBIA MOVIL S.A. E.S.P.</td><td>1</td><td>TelÃ©fono MÃ³vil</td><td>2</td><td>3G</td><td>207808</td><td>0</td></tr>\n",
       "\t<tr><th scope=row>63</th><td>2012</td><td>1</td><td>3</td><td>1</td><td>Personas</td><td>830114921</td><td>COLOMBIA MOVIL S.A. E.S.P.</td><td>1</td><td>TelÃ©fono MÃ³vil</td><td>3</td><td>4G</td><td>     0</td><td>0</td></tr>\n",
       "\t<tr><th scope=row>64</th><td>2012</td><td>1</td><td>3</td><td>1</td><td>Personas</td><td>830114921</td><td>COLOMBIA MOVIL S.A. E.S.P.</td><td>2</td><td>Data Card       </td><td>1</td><td>2G</td><td>     0</td><td>0</td></tr>\n",
       "\t<tr><th scope=row>65</th><td>2012</td><td>1</td><td>3</td><td>1</td><td>Personas</td><td>830114921</td><td>COLOMBIA MOVIL S.A. E.S.P.</td><td>2</td><td>Data Card       </td><td>2</td><td>3G</td><td>225453</td><td>0</td></tr>\n",
       "\t<tr><th scope=row>66</th><td>2012</td><td>1</td><td>3</td><td>1</td><td>Personas</td><td>830114921</td><td>COLOMBIA MOVIL S.A. E.S.P.</td><td>2</td><td>Data Card       </td><td>3</td><td>4G</td><td>     0</td><td>0</td></tr>\n",
       "</tbody>\n",
       "</table>\n"
      ],
      "text/latex": [
       "A data.frame: 6 × 13\n",
       "\\begin{tabular}{r|lllllllllllll}\n",
       "  & ANNO & TRIMESTRE & MES\\_DEL\\_TRIMESTRE & ID\\_SEGMENTO & DESC\\_SEGMENTO & ID\\_EMPRESA & DESC\\_EMPRESA & ID\\_TERMINAL & DESC\\_TERMINAL & ID\\_TECNOLOGIA & DESC\\_TECNOLOGIA & CANTIDAD\\_SUSCRIPTORES & QUANTITY\\\\\n",
       "  & <int> & <int> & <int> & <int> & <fct> & <int> & <fct> & <int> & <fct> & <int> & <fct> & <dbl> & <dbl>\\\\\n",
       "\\hline\n",
       "\t61 & 2012 & 1 & 3 & 1 & Personas & 830114921 & COLOMBIA MOVIL S.A. E.S.P. & 1 & TelÃ©fono MÃ³vil & 1 & 2G &  80088 & 0\\\\\n",
       "\t62 & 2012 & 1 & 3 & 1 & Personas & 830114921 & COLOMBIA MOVIL S.A. E.S.P. & 1 & TelÃ©fono MÃ³vil & 2 & 3G & 207808 & 0\\\\\n",
       "\t63 & 2012 & 1 & 3 & 1 & Personas & 830114921 & COLOMBIA MOVIL S.A. E.S.P. & 1 & TelÃ©fono MÃ³vil & 3 & 4G &      0 & 0\\\\\n",
       "\t64 & 2012 & 1 & 3 & 1 & Personas & 830114921 & COLOMBIA MOVIL S.A. E.S.P. & 2 & Data Card        & 1 & 2G &      0 & 0\\\\\n",
       "\t65 & 2012 & 1 & 3 & 1 & Personas & 830114921 & COLOMBIA MOVIL S.A. E.S.P. & 2 & Data Card        & 2 & 3G & 225453 & 0\\\\\n",
       "\t66 & 2012 & 1 & 3 & 1 & Personas & 830114921 & COLOMBIA MOVIL S.A. E.S.P. & 2 & Data Card        & 3 & 4G &      0 & 0\\\\\n",
       "\\end{tabular}\n"
      ],
      "text/markdown": [
       "\n",
       "A data.frame: 6 × 13\n",
       "\n",
       "| <!--/--> | ANNO &lt;int&gt; | TRIMESTRE &lt;int&gt; | MES_DEL_TRIMESTRE &lt;int&gt; | ID_SEGMENTO &lt;int&gt; | DESC_SEGMENTO &lt;fct&gt; | ID_EMPRESA &lt;int&gt; | DESC_EMPRESA &lt;fct&gt; | ID_TERMINAL &lt;int&gt; | DESC_TERMINAL &lt;fct&gt; | ID_TECNOLOGIA &lt;int&gt; | DESC_TECNOLOGIA &lt;fct&gt; | CANTIDAD_SUSCRIPTORES &lt;dbl&gt; | QUANTITY &lt;dbl&gt; |\n",
       "|---|---|---|---|---|---|---|---|---|---|---|---|---|---|\n",
       "| 61 | 2012 | 1 | 3 | 1 | Personas | 830114921 | COLOMBIA MOVIL S.A. E.S.P. | 1 | TelÃ©fono MÃ³vil | 1 | 2G |  80088 | 0 |\n",
       "| 62 | 2012 | 1 | 3 | 1 | Personas | 830114921 | COLOMBIA MOVIL S.A. E.S.P. | 1 | TelÃ©fono MÃ³vil | 2 | 3G | 207808 | 0 |\n",
       "| 63 | 2012 | 1 | 3 | 1 | Personas | 830114921 | COLOMBIA MOVIL S.A. E.S.P. | 1 | TelÃ©fono MÃ³vil | 3 | 4G |      0 | 0 |\n",
       "| 64 | 2012 | 1 | 3 | 1 | Personas | 830114921 | COLOMBIA MOVIL S.A. E.S.P. | 2 | Data Card        | 1 | 2G |      0 | 0 |\n",
       "| 65 | 2012 | 1 | 3 | 1 | Personas | 830114921 | COLOMBIA MOVIL S.A. E.S.P. | 2 | Data Card        | 2 | 3G | 225453 | 0 |\n",
       "| 66 | 2012 | 1 | 3 | 1 | Personas | 830114921 | COLOMBIA MOVIL S.A. E.S.P. | 2 | Data Card        | 3 | 4G |      0 | 0 |\n",
       "\n"
      ],
      "text/plain": [
       "   ANNO TRIMESTRE MES_DEL_TRIMESTRE ID_SEGMENTO DESC_SEGMENTO ID_EMPRESA\n",
       "61 2012 1         3                 1           Personas      830114921 \n",
       "62 2012 1         3                 1           Personas      830114921 \n",
       "63 2012 1         3                 1           Personas      830114921 \n",
       "64 2012 1         3                 1           Personas      830114921 \n",
       "65 2012 1         3                 1           Personas      830114921 \n",
       "66 2012 1         3                 1           Personas      830114921 \n",
       "   DESC_EMPRESA               ID_TERMINAL DESC_TERMINAL    ID_TECNOLOGIA\n",
       "61 COLOMBIA MOVIL S.A. E.S.P. 1           TelÃ©fono MÃ³vil 1            \n",
       "62 COLOMBIA MOVIL S.A. E.S.P. 1           TelÃ©fono MÃ³vil 2            \n",
       "63 COLOMBIA MOVIL S.A. E.S.P. 1           TelÃ©fono MÃ³vil 3            \n",
       "64 COLOMBIA MOVIL S.A. E.S.P. 2           Data Card        1            \n",
       "65 COLOMBIA MOVIL S.A. E.S.P. 2           Data Card        2            \n",
       "66 COLOMBIA MOVIL S.A. E.S.P. 2           Data Card        3            \n",
       "   DESC_TECNOLOGIA CANTIDAD_SUSCRIPTORES QUANTITY\n",
       "61 2G               80088                0       \n",
       "62 3G              207808                0       \n",
       "63 4G                   0                0       \n",
       "64 2G                   0                0       \n",
       "65 3G              225453                0       \n",
       "66 4G                   0                0       "
      ]
     },
     "metadata": {},
     "output_type": "display_data"
    },
    {
     "data": {
      "text/html": [
       "'Group by ID_EMPRESA, DESC_EMPRESA and month'"
      ],
      "text/latex": [
       "'Group by ID\\_EMPRESA, DESC\\_EMPRESA and month'"
      ],
      "text/markdown": [
       "'Group by ID_EMPRESA, DESC_EMPRESA and month'"
      ],
      "text/plain": [
       "[1] \"Group by ID_EMPRESA, DESC_EMPRESA and month\""
      ]
     },
     "metadata": {},
     "output_type": "display_data"
    },
    {
     "data": {
      "text/html": [
       "<table>\n",
       "<caption>A grouped_df: 10 × 5</caption>\n",
       "<thead>\n",
       "\t<tr><th scope=col>ID_EMPRESA</th><th scope=col>DESC_EMPRESA</th><th scope=col>MES_DEL_TRIMESTRE</th><th scope=col>QUANTITY</th><th scope=col>CANTIDAD_SUSCRIPTORES</th></tr>\n",
       "\t<tr><th scope=col>&lt;int&gt;</th><th scope=col>&lt;fct&gt;</th><th scope=col>&lt;int&gt;</th><th scope=col>&lt;dbl&gt;</th><th scope=col>&lt;dbl&gt;</th></tr>\n",
       "</thead>\n",
       "<tbody>\n",
       "\t<tr><td>800153993</td><td>COMUNICACION CELULAR S A COMCEL S A               </td><td>3</td><td>1</td><td>4569954</td></tr>\n",
       "\t<tr><td>800153993</td><td>COMUNICACION CELULAR S A COMCEL S A               </td><td>2</td><td>1</td><td>4332294</td></tr>\n",
       "\t<tr><td>830122566</td><td>COLOMBIA TELECOMUNICACIONES S.A. ESP              </td><td>3</td><td>1</td><td>4235238</td></tr>\n",
       "\t<tr><td>800153993</td><td>COMUNICACION CELULAR S A COMCEL S A               </td><td>1</td><td>1</td><td>4150326</td></tr>\n",
       "\t<tr><td>830122566</td><td>COLOMBIA TELECOMUNICACIONES S.A. ESP              </td><td>2</td><td>1</td><td>4102719</td></tr>\n",
       "\t<tr><td>830122566</td><td>COLOMBIA TELECOMUNICACIONES S.A. ESP              </td><td>1</td><td>1</td><td>3946281</td></tr>\n",
       "\t<tr><td>830114921</td><td>COLOMBIA MOVIL S.A. E.S.P.                        </td><td>3</td><td>1</td><td>2360527</td></tr>\n",
       "\t<tr><td>830114921</td><td>COLOMBIA MOVIL S.A. E.S.P.                        </td><td>2</td><td>1</td><td>1779906</td></tr>\n",
       "\t<tr><td>830114921</td><td>COLOMBIA MOVIL S.A. E.S.P.                        </td><td>1</td><td>1</td><td>1758106</td></tr>\n",
       "\t<tr><td>899999115</td><td>EMPRESA DE TELECOMUNICACIONES DE BOGOTÃ S.A. ESP.</td><td>3</td><td>1</td><td> 174355</td></tr>\n",
       "</tbody>\n",
       "</table>\n"
      ],
      "text/latex": [
       "A grouped\\_df: 10 × 5\n",
       "\\begin{tabular}{lllll}\n",
       " ID\\_EMPRESA & DESC\\_EMPRESA & MES\\_DEL\\_TRIMESTRE & QUANTITY & CANTIDAD\\_SUSCRIPTORES\\\\\n",
       " <int> & <fct> & <int> & <dbl> & <dbl>\\\\\n",
       "\\hline\n",
       "\t 800153993 & COMUNICACION CELULAR S A COMCEL S A                & 3 & 1 & 4569954\\\\\n",
       "\t 800153993 & COMUNICACION CELULAR S A COMCEL S A                & 2 & 1 & 4332294\\\\\n",
       "\t 830122566 & COLOMBIA TELECOMUNICACIONES S.A. ESP               & 3 & 1 & 4235238\\\\\n",
       "\t 800153993 & COMUNICACION CELULAR S A COMCEL S A                & 1 & 1 & 4150326\\\\\n",
       "\t 830122566 & COLOMBIA TELECOMUNICACIONES S.A. ESP               & 2 & 1 & 4102719\\\\\n",
       "\t 830122566 & COLOMBIA TELECOMUNICACIONES S.A. ESP               & 1 & 1 & 3946281\\\\\n",
       "\t 830114921 & COLOMBIA MOVIL S.A. E.S.P.                         & 3 & 1 & 2360527\\\\\n",
       "\t 830114921 & COLOMBIA MOVIL S.A. E.S.P.                         & 2 & 1 & 1779906\\\\\n",
       "\t 830114921 & COLOMBIA MOVIL S.A. E.S.P.                         & 1 & 1 & 1758106\\\\\n",
       "\t 899999115 & EMPRESA DE TELECOMUNICACIONES DE BOGOTÃ S.A. ESP. & 3 & 1 &  174355\\\\\n",
       "\\end{tabular}\n"
      ],
      "text/markdown": [
       "\n",
       "A grouped_df: 10 × 5\n",
       "\n",
       "| ID_EMPRESA &lt;int&gt; | DESC_EMPRESA &lt;fct&gt; | MES_DEL_TRIMESTRE &lt;int&gt; | QUANTITY &lt;dbl&gt; | CANTIDAD_SUSCRIPTORES &lt;dbl&gt; |\n",
       "|---|---|---|---|---|\n",
       "| 800153993 | COMUNICACION CELULAR S A COMCEL S A                | 3 | 1 | 4569954 |\n",
       "| 800153993 | COMUNICACION CELULAR S A COMCEL S A                | 2 | 1 | 4332294 |\n",
       "| 830122566 | COLOMBIA TELECOMUNICACIONES S.A. ESP               | 3 | 1 | 4235238 |\n",
       "| 800153993 | COMUNICACION CELULAR S A COMCEL S A                | 1 | 1 | 4150326 |\n",
       "| 830122566 | COLOMBIA TELECOMUNICACIONES S.A. ESP               | 2 | 1 | 4102719 |\n",
       "| 830122566 | COLOMBIA TELECOMUNICACIONES S.A. ESP               | 1 | 1 | 3946281 |\n",
       "| 830114921 | COLOMBIA MOVIL S.A. E.S.P.                         | 3 | 1 | 2360527 |\n",
       "| 830114921 | COLOMBIA MOVIL S.A. E.S.P.                         | 2 | 1 | 1779906 |\n",
       "| 830114921 | COLOMBIA MOVIL S.A. E.S.P.                         | 1 | 1 | 1758106 |\n",
       "| 899999115 | EMPRESA DE TELECOMUNICACIONES DE BOGOTÃ S.A. ESP. | 3 | 1 |  174355 |\n",
       "\n"
      ],
      "text/plain": [
       "   ID_EMPRESA DESC_EMPRESA                                      \n",
       "1  800153993  COMUNICACION CELULAR S A COMCEL S A               \n",
       "2  800153993  COMUNICACION CELULAR S A COMCEL S A               \n",
       "3  830122566  COLOMBIA TELECOMUNICACIONES S.A. ESP              \n",
       "4  800153993  COMUNICACION CELULAR S A COMCEL S A               \n",
       "5  830122566  COLOMBIA TELECOMUNICACIONES S.A. ESP              \n",
       "6  830122566  COLOMBIA TELECOMUNICACIONES S.A. ESP              \n",
       "7  830114921  COLOMBIA MOVIL S.A. E.S.P.                        \n",
       "8  830114921  COLOMBIA MOVIL S.A. E.S.P.                        \n",
       "9  830114921  COLOMBIA MOVIL S.A. E.S.P.                        \n",
       "10 899999115  EMPRESA DE TELECOMUNICACIONES DE BOGOTÃ\\201 S.A. ESP.\n",
       "   MES_DEL_TRIMESTRE QUANTITY CANTIDAD_SUSCRIPTORES\n",
       "1  3                 1        4569954              \n",
       "2  2                 1        4332294              \n",
       "3  3                 1        4235238              \n",
       "4  1                 1        4150326              \n",
       "5  2                 1        4102719              \n",
       "6  1                 1        3946281              \n",
       "7  3                 1        2360527              \n",
       "8  2                 1        1779906              \n",
       "9  1                 1        1758106              \n",
       "10 3                 1         174355              "
      ]
     },
     "metadata": {},
     "output_type": "display_data"
    },
    {
     "data": {
      "text/html": [
       "'Group by ID_EMPRESA and DESC_EMPRESA'"
      ],
      "text/latex": [
       "'Group by ID\\_EMPRESA and DESC\\_EMPRESA'"
      ],
      "text/markdown": [
       "'Group by ID_EMPRESA and DESC_EMPRESA'"
      ],
      "text/plain": [
       "[1] \"Group by ID_EMPRESA and DESC_EMPRESA\""
      ]
     },
     "metadata": {},
     "output_type": "display_data"
    },
    {
     "data": {
      "text/html": [
       "<table>\n",
       "<caption>A grouped_df: 4 × 3</caption>\n",
       "<thead>\n",
       "\t<tr><th scope=col>ID_EMPRESA</th><th scope=col>DESC_EMPRESA</th><th scope=col>CANTIDAD_SUSCRIPTORES</th></tr>\n",
       "\t<tr><th scope=col>&lt;int&gt;</th><th scope=col>&lt;fct&gt;</th><th scope=col>&lt;dbl&gt;</th></tr>\n",
       "</thead>\n",
       "<tbody>\n",
       "\t<tr><td>899999115</td><td>EMPRESA DE TELECOMUNICACIONES DE BOGOTÃ S.A. ESP.</td><td> 174355</td></tr>\n",
       "\t<tr><td>830114921</td><td>COLOMBIA MOVIL S.A. E.S.P.                        </td><td>1966180</td></tr>\n",
       "\t<tr><td>830122566</td><td>COLOMBIA TELECOMUNICACIONES S.A. ESP              </td><td>4094746</td></tr>\n",
       "\t<tr><td>800153993</td><td>COMUNICACION CELULAR S A COMCEL S A               </td><td>4350858</td></tr>\n",
       "</tbody>\n",
       "</table>\n"
      ],
      "text/latex": [
       "A grouped\\_df: 4 × 3\n",
       "\\begin{tabular}{lll}\n",
       " ID\\_EMPRESA & DESC\\_EMPRESA & CANTIDAD\\_SUSCRIPTORES\\\\\n",
       " <int> & <fct> & <dbl>\\\\\n",
       "\\hline\n",
       "\t 899999115 & EMPRESA DE TELECOMUNICACIONES DE BOGOTÃ S.A. ESP. &  174355\\\\\n",
       "\t 830114921 & COLOMBIA MOVIL S.A. E.S.P.                         & 1966180\\\\\n",
       "\t 830122566 & COLOMBIA TELECOMUNICACIONES S.A. ESP               & 4094746\\\\\n",
       "\t 800153993 & COMUNICACION CELULAR S A COMCEL S A                & 4350858\\\\\n",
       "\\end{tabular}\n"
      ],
      "text/markdown": [
       "\n",
       "A grouped_df: 4 × 3\n",
       "\n",
       "| ID_EMPRESA &lt;int&gt; | DESC_EMPRESA &lt;fct&gt; | CANTIDAD_SUSCRIPTORES &lt;dbl&gt; |\n",
       "|---|---|---|\n",
       "| 899999115 | EMPRESA DE TELECOMUNICACIONES DE BOGOTÃ S.A. ESP. |  174355 |\n",
       "| 830114921 | COLOMBIA MOVIL S.A. E.S.P.                         | 1966180 |\n",
       "| 830122566 | COLOMBIA TELECOMUNICACIONES S.A. ESP               | 4094746 |\n",
       "| 800153993 | COMUNICACION CELULAR S A COMCEL S A                | 4350858 |\n",
       "\n"
      ],
      "text/plain": [
       "  ID_EMPRESA DESC_EMPRESA                                      \n",
       "1 899999115  EMPRESA DE TELECOMUNICACIONES DE BOGOTÃ\\201 S.A. ESP.\n",
       "2 830114921  COLOMBIA MOVIL S.A. E.S.P.                        \n",
       "3 830122566  COLOMBIA TELECOMUNICACIONES S.A. ESP              \n",
       "4 800153993  COMUNICACION CELULAR S A COMCEL S A               \n",
       "  CANTIDAD_SUSCRIPTORES\n",
       "1  174355              \n",
       "2 1966180              \n",
       "3 4094746              \n",
       "4 4350858              "
      ]
     },
     "metadata": {},
     "output_type": "display_data"
    }
   ],
   "source": [
    "sprintf(\"Show head data\")\n",
    "head(df_subs_ether)\n",
    "\n",
    "sprintf(\"Filter data to only 2012\")\n",
    "df_subs_ether_2012<-subset(df_subs_ether, df_subs_ether$ANNO==2012)\n",
    "df_subs_ether_2012 <- df_subs_ether_2012[with(df_subs_ether_2012,order(DESC_EMPRESA)),]\n",
    "head(df_subs_ether_2012)\n",
    "\n",
    "\n",
    "library(dplyr)\n",
    "sprintf(\"Group by ID_EMPRESA, DESC_EMPRESA and month\")\n",
    "df_subs_ether_2012_grby_enterp_month <- df_subs_ether_2012 %>% group_by(ID_EMPRESA, DESC_EMPRESA, MES_DEL_TRIMESTRE, QUANTITY) %>% summarise(CANTIDAD_SUSCRIPTORES = sum(CANTIDAD_SUSCRIPTORES))\n",
    "df_subs_ether_2012_grby_enterp_month <- df_subs_ether_2012_grby_enterp_month[with(df_subs_ether_2012_grby_enterp_month,order(-CANTIDAD_SUSCRIPTORES)),]\n",
    "\n",
    "# Set quantity for divide on next group by\n",
    "df_subs_ether_2012_grby_enterp_month$QUANTITY <- 1\n",
    "df_subs_ether_2012_grby_enterp_month\n",
    "\n",
    "\n",
    "\n",
    "sprintf(\"Group by ID_EMPRESA and DESC_EMPRESA\")\n",
    "df_subs_ether_2012_grby_enterp <- df_subs_ether_2012_grby_enterp_month %>% group_by(ID_EMPRESA, DESC_EMPRESA) %>% summarise(CANTIDAD_SUSCRIPTORES = sum(CANTIDAD_SUSCRIPTORES)/sum(QUANTITY))\n",
    "df_subs_ether_2012_grby_enterp <- df_subs_ether_2012_grby_enterp[with(df_subs_ether_2012_grby_enterp,order(CANTIDAD_SUSCRIPTORES)),]\n",
    "df_subs_ether_2012_grby_enterp\n"
   ]
  },
  {
   "cell_type": "markdown",
   "metadata": {},
   "source": [
    "# Respuesta punto 2\n",
    "La estrategia aplicada en el punto 1 tambien fue aplicada a cada, de hecho de la misma tabla que se obtiene tras el group by se logra obtener la conclusión de que la **EMPRESA DE TELECOMUNICACIONES DE BOGOTÁ S.A. ESP.**"
   ]
  },
  {
   "cell_type": "markdown",
   "metadata": {},
   "source": [
    "# Punto 3\n",
    "Repetir el ejercicio anterior para 2019"
   ]
  },
  {
   "cell_type": "code",
   "execution_count": 21,
   "metadata": {},
   "outputs": [
    {
     "data": {
      "text/html": [
       "'Show head data'"
      ],
      "text/latex": [
       "'Show head data'"
      ],
      "text/markdown": [
       "'Show head data'"
      ],
      "text/plain": [
       "[1] \"Show head data\""
      ]
     },
     "metadata": {},
     "output_type": "display_data"
    },
    {
     "data": {
      "text/html": [
       "<table>\n",
       "<caption>A data.frame: 6 × 13</caption>\n",
       "<thead>\n",
       "\t<tr><th></th><th scope=col>ANNO</th><th scope=col>TRIMESTRE</th><th scope=col>MES_DEL_TRIMESTRE</th><th scope=col>ID_SEGMENTO</th><th scope=col>DESC_SEGMENTO</th><th scope=col>ID_EMPRESA</th><th scope=col>DESC_EMPRESA</th><th scope=col>ID_TERMINAL</th><th scope=col>DESC_TERMINAL</th><th scope=col>ID_TECNOLOGIA</th><th scope=col>DESC_TECNOLOGIA</th><th scope=col>CANTIDAD_SUSCRIPTORES</th><th scope=col>QUANTITY</th></tr>\n",
       "\t<tr><th></th><th scope=col>&lt;int&gt;</th><th scope=col>&lt;int&gt;</th><th scope=col>&lt;int&gt;</th><th scope=col>&lt;int&gt;</th><th scope=col>&lt;fct&gt;</th><th scope=col>&lt;int&gt;</th><th scope=col>&lt;fct&gt;</th><th scope=col>&lt;int&gt;</th><th scope=col>&lt;fct&gt;</th><th scope=col>&lt;int&gt;</th><th scope=col>&lt;fct&gt;</th><th scope=col>&lt;dbl&gt;</th><th scope=col>&lt;dbl&gt;</th></tr>\n",
       "</thead>\n",
       "<tbody>\n",
       "\t<tr><th scope=row>1</th><td>2012</td><td>1</td><td>1</td><td>1</td><td>Personas</td><td>830122566</td><td>COLOMBIA TELECOMUNICACIONES S.A. ESP</td><td>1</td><td>TelÃ©fono MÃ³vil</td><td>1</td><td>2G</td><td> 50590</td><td>0</td></tr>\n",
       "\t<tr><th scope=row>2</th><td>2012</td><td>1</td><td>1</td><td>1</td><td>Personas</td><td>830122566</td><td>COLOMBIA TELECOMUNICACIONES S.A. ESP</td><td>1</td><td>TelÃ©fono MÃ³vil</td><td>2</td><td>3G</td><td>469844</td><td>0</td></tr>\n",
       "\t<tr><th scope=row>3</th><td>2012</td><td>1</td><td>1</td><td>1</td><td>Personas</td><td>830122566</td><td>COLOMBIA TELECOMUNICACIONES S.A. ESP</td><td>1</td><td>TelÃ©fono MÃ³vil</td><td>3</td><td>4G</td><td>     0</td><td>0</td></tr>\n",
       "\t<tr><th scope=row>4</th><td>2012</td><td>1</td><td>1</td><td>1</td><td>Personas</td><td>830122566</td><td>COLOMBIA TELECOMUNICACIONES S.A. ESP</td><td>2</td><td>Data Card       </td><td>1</td><td>2G</td><td>  2024</td><td>0</td></tr>\n",
       "\t<tr><th scope=row>5</th><td>2012</td><td>1</td><td>1</td><td>1</td><td>Personas</td><td>830122566</td><td>COLOMBIA TELECOMUNICACIONES S.A. ESP</td><td>2</td><td>Data Card       </td><td>2</td><td>3G</td><td> 25295</td><td>0</td></tr>\n",
       "\t<tr><th scope=row>6</th><td>2012</td><td>1</td><td>1</td><td>1</td><td>Personas</td><td>830122566</td><td>COLOMBIA TELECOMUNICACIONES S.A. ESP</td><td>2</td><td>Data Card       </td><td>3</td><td>4G</td><td>     0</td><td>0</td></tr>\n",
       "</tbody>\n",
       "</table>\n"
      ],
      "text/latex": [
       "A data.frame: 6 × 13\n",
       "\\begin{tabular}{r|lllllllllllll}\n",
       "  & ANNO & TRIMESTRE & MES\\_DEL\\_TRIMESTRE & ID\\_SEGMENTO & DESC\\_SEGMENTO & ID\\_EMPRESA & DESC\\_EMPRESA & ID\\_TERMINAL & DESC\\_TERMINAL & ID\\_TECNOLOGIA & DESC\\_TECNOLOGIA & CANTIDAD\\_SUSCRIPTORES & QUANTITY\\\\\n",
       "  & <int> & <int> & <int> & <int> & <fct> & <int> & <fct> & <int> & <fct> & <int> & <fct> & <dbl> & <dbl>\\\\\n",
       "\\hline\n",
       "\t1 & 2012 & 1 & 1 & 1 & Personas & 830122566 & COLOMBIA TELECOMUNICACIONES S.A. ESP & 1 & TelÃ©fono MÃ³vil & 1 & 2G &  50590 & 0\\\\\n",
       "\t2 & 2012 & 1 & 1 & 1 & Personas & 830122566 & COLOMBIA TELECOMUNICACIONES S.A. ESP & 1 & TelÃ©fono MÃ³vil & 2 & 3G & 469844 & 0\\\\\n",
       "\t3 & 2012 & 1 & 1 & 1 & Personas & 830122566 & COLOMBIA TELECOMUNICACIONES S.A. ESP & 1 & TelÃ©fono MÃ³vil & 3 & 4G &      0 & 0\\\\\n",
       "\t4 & 2012 & 1 & 1 & 1 & Personas & 830122566 & COLOMBIA TELECOMUNICACIONES S.A. ESP & 2 & Data Card        & 1 & 2G &   2024 & 0\\\\\n",
       "\t5 & 2012 & 1 & 1 & 1 & Personas & 830122566 & COLOMBIA TELECOMUNICACIONES S.A. ESP & 2 & Data Card        & 2 & 3G &  25295 & 0\\\\\n",
       "\t6 & 2012 & 1 & 1 & 1 & Personas & 830122566 & COLOMBIA TELECOMUNICACIONES S.A. ESP & 2 & Data Card        & 3 & 4G &      0 & 0\\\\\n",
       "\\end{tabular}\n"
      ],
      "text/markdown": [
       "\n",
       "A data.frame: 6 × 13\n",
       "\n",
       "| <!--/--> | ANNO &lt;int&gt; | TRIMESTRE &lt;int&gt; | MES_DEL_TRIMESTRE &lt;int&gt; | ID_SEGMENTO &lt;int&gt; | DESC_SEGMENTO &lt;fct&gt; | ID_EMPRESA &lt;int&gt; | DESC_EMPRESA &lt;fct&gt; | ID_TERMINAL &lt;int&gt; | DESC_TERMINAL &lt;fct&gt; | ID_TECNOLOGIA &lt;int&gt; | DESC_TECNOLOGIA &lt;fct&gt; | CANTIDAD_SUSCRIPTORES &lt;dbl&gt; | QUANTITY &lt;dbl&gt; |\n",
       "|---|---|---|---|---|---|---|---|---|---|---|---|---|---|\n",
       "| 1 | 2012 | 1 | 1 | 1 | Personas | 830122566 | COLOMBIA TELECOMUNICACIONES S.A. ESP | 1 | TelÃ©fono MÃ³vil | 1 | 2G |  50590 | 0 |\n",
       "| 2 | 2012 | 1 | 1 | 1 | Personas | 830122566 | COLOMBIA TELECOMUNICACIONES S.A. ESP | 1 | TelÃ©fono MÃ³vil | 2 | 3G | 469844 | 0 |\n",
       "| 3 | 2012 | 1 | 1 | 1 | Personas | 830122566 | COLOMBIA TELECOMUNICACIONES S.A. ESP | 1 | TelÃ©fono MÃ³vil | 3 | 4G |      0 | 0 |\n",
       "| 4 | 2012 | 1 | 1 | 1 | Personas | 830122566 | COLOMBIA TELECOMUNICACIONES S.A. ESP | 2 | Data Card        | 1 | 2G |   2024 | 0 |\n",
       "| 5 | 2012 | 1 | 1 | 1 | Personas | 830122566 | COLOMBIA TELECOMUNICACIONES S.A. ESP | 2 | Data Card        | 2 | 3G |  25295 | 0 |\n",
       "| 6 | 2012 | 1 | 1 | 1 | Personas | 830122566 | COLOMBIA TELECOMUNICACIONES S.A. ESP | 2 | Data Card        | 3 | 4G |      0 | 0 |\n",
       "\n"
      ],
      "text/plain": [
       "  ANNO TRIMESTRE MES_DEL_TRIMESTRE ID_SEGMENTO DESC_SEGMENTO ID_EMPRESA\n",
       "1 2012 1         1                 1           Personas      830122566 \n",
       "2 2012 1         1                 1           Personas      830122566 \n",
       "3 2012 1         1                 1           Personas      830122566 \n",
       "4 2012 1         1                 1           Personas      830122566 \n",
       "5 2012 1         1                 1           Personas      830122566 \n",
       "6 2012 1         1                 1           Personas      830122566 \n",
       "  DESC_EMPRESA                         ID_TERMINAL DESC_TERMINAL   \n",
       "1 COLOMBIA TELECOMUNICACIONES S.A. ESP 1           TelÃ©fono MÃ³vil\n",
       "2 COLOMBIA TELECOMUNICACIONES S.A. ESP 1           TelÃ©fono MÃ³vil\n",
       "3 COLOMBIA TELECOMUNICACIONES S.A. ESP 1           TelÃ©fono MÃ³vil\n",
       "4 COLOMBIA TELECOMUNICACIONES S.A. ESP 2           Data Card       \n",
       "5 COLOMBIA TELECOMUNICACIONES S.A. ESP 2           Data Card       \n",
       "6 COLOMBIA TELECOMUNICACIONES S.A. ESP 2           Data Card       \n",
       "  ID_TECNOLOGIA DESC_TECNOLOGIA CANTIDAD_SUSCRIPTORES QUANTITY\n",
       "1 1             2G               50590                0       \n",
       "2 2             3G              469844                0       \n",
       "3 3             4G                   0                0       \n",
       "4 1             2G                2024                0       \n",
       "5 2             3G               25295                0       \n",
       "6 3             4G                   0                0       "
      ]
     },
     "metadata": {},
     "output_type": "display_data"
    },
    {
     "data": {
      "text/html": [
       "'Filter data to only 2019'"
      ],
      "text/latex": [
       "'Filter data to only 2019'"
      ],
      "text/markdown": [
       "'Filter data to only 2019'"
      ],
      "text/plain": [
       "[1] \"Filter data to only 2019\""
      ]
     },
     "metadata": {},
     "output_type": "display_data"
    },
    {
     "data": {
      "text/html": [
       "<table>\n",
       "<caption>A data.frame: 6 × 13</caption>\n",
       "<thead>\n",
       "\t<tr><th></th><th scope=col>ANNO</th><th scope=col>TRIMESTRE</th><th scope=col>MES_DEL_TRIMESTRE</th><th scope=col>ID_SEGMENTO</th><th scope=col>DESC_SEGMENTO</th><th scope=col>ID_EMPRESA</th><th scope=col>DESC_EMPRESA</th><th scope=col>ID_TERMINAL</th><th scope=col>DESC_TERMINAL</th><th scope=col>ID_TECNOLOGIA</th><th scope=col>DESC_TECNOLOGIA</th><th scope=col>CANTIDAD_SUSCRIPTORES</th><th scope=col>QUANTITY</th></tr>\n",
       "\t<tr><th></th><th scope=col>&lt;int&gt;</th><th scope=col>&lt;int&gt;</th><th scope=col>&lt;int&gt;</th><th scope=col>&lt;int&gt;</th><th scope=col>&lt;fct&gt;</th><th scope=col>&lt;int&gt;</th><th scope=col>&lt;fct&gt;</th><th scope=col>&lt;int&gt;</th><th scope=col>&lt;fct&gt;</th><th scope=col>&lt;int&gt;</th><th scope=col>&lt;fct&gt;</th><th scope=col>&lt;dbl&gt;</th><th scope=col>&lt;dbl&gt;</th></tr>\n",
       "</thead>\n",
       "<tbody>\n",
       "\t<tr><th scope=row>3872</th><td>2019</td><td>1</td><td>1</td><td>1</td><td>Personas</td><td>830016046</td><td>AVANTEL S.A.S.</td><td>1</td><td>TelÃ©fono mÃ³vil</td><td>3</td><td>4G</td><td>413404</td><td>0</td></tr>\n",
       "\t<tr><th scope=row>3873</th><td>2019</td><td>1</td><td>1</td><td>1</td><td>Personas</td><td>830016046</td><td>AVANTEL S.A.S.</td><td>2</td><td>Data Card       </td><td>3</td><td>4G</td><td>   797</td><td>0</td></tr>\n",
       "\t<tr><th scope=row>3880</th><td>2019</td><td>1</td><td>1</td><td>2</td><td>Empresas</td><td>830016046</td><td>AVANTEL S.A.S.</td><td>1</td><td>TelÃ©fono mÃ³vil</td><td>3</td><td>4G</td><td> 75113</td><td>0</td></tr>\n",
       "\t<tr><th scope=row>3881</th><td>2019</td><td>1</td><td>1</td><td>2</td><td>Empresas</td><td>830016046</td><td>AVANTEL S.A.S.</td><td>2</td><td>Data Card       </td><td>3</td><td>4G</td><td> 45681</td><td>0</td></tr>\n",
       "\t<tr><th scope=row>3918</th><td>2019</td><td>1</td><td>2</td><td>1</td><td>Personas</td><td>830016046</td><td>AVANTEL S.A.S.</td><td>1</td><td>TelÃ©fono mÃ³vil</td><td>3</td><td>4G</td><td>422398</td><td>0</td></tr>\n",
       "\t<tr><th scope=row>3919</th><td>2019</td><td>1</td><td>2</td><td>1</td><td>Personas</td><td>830016046</td><td>AVANTEL S.A.S.</td><td>2</td><td>Data Card       </td><td>3</td><td>4G</td><td>   771</td><td>0</td></tr>\n",
       "</tbody>\n",
       "</table>\n"
      ],
      "text/latex": [
       "A data.frame: 6 × 13\n",
       "\\begin{tabular}{r|lllllllllllll}\n",
       "  & ANNO & TRIMESTRE & MES\\_DEL\\_TRIMESTRE & ID\\_SEGMENTO & DESC\\_SEGMENTO & ID\\_EMPRESA & DESC\\_EMPRESA & ID\\_TERMINAL & DESC\\_TERMINAL & ID\\_TECNOLOGIA & DESC\\_TECNOLOGIA & CANTIDAD\\_SUSCRIPTORES & QUANTITY\\\\\n",
       "  & <int> & <int> & <int> & <int> & <fct> & <int> & <fct> & <int> & <fct> & <int> & <fct> & <dbl> & <dbl>\\\\\n",
       "\\hline\n",
       "\t3872 & 2019 & 1 & 1 & 1 & Personas & 830016046 & AVANTEL S.A.S. & 1 & TelÃ©fono mÃ³vil & 3 & 4G & 413404 & 0\\\\\n",
       "\t3873 & 2019 & 1 & 1 & 1 & Personas & 830016046 & AVANTEL S.A.S. & 2 & Data Card        & 3 & 4G &    797 & 0\\\\\n",
       "\t3880 & 2019 & 1 & 1 & 2 & Empresas & 830016046 & AVANTEL S.A.S. & 1 & TelÃ©fono mÃ³vil & 3 & 4G &  75113 & 0\\\\\n",
       "\t3881 & 2019 & 1 & 1 & 2 & Empresas & 830016046 & AVANTEL S.A.S. & 2 & Data Card        & 3 & 4G &  45681 & 0\\\\\n",
       "\t3918 & 2019 & 1 & 2 & 1 & Personas & 830016046 & AVANTEL S.A.S. & 1 & TelÃ©fono mÃ³vil & 3 & 4G & 422398 & 0\\\\\n",
       "\t3919 & 2019 & 1 & 2 & 1 & Personas & 830016046 & AVANTEL S.A.S. & 2 & Data Card        & 3 & 4G &    771 & 0\\\\\n",
       "\\end{tabular}\n"
      ],
      "text/markdown": [
       "\n",
       "A data.frame: 6 × 13\n",
       "\n",
       "| <!--/--> | ANNO &lt;int&gt; | TRIMESTRE &lt;int&gt; | MES_DEL_TRIMESTRE &lt;int&gt; | ID_SEGMENTO &lt;int&gt; | DESC_SEGMENTO &lt;fct&gt; | ID_EMPRESA &lt;int&gt; | DESC_EMPRESA &lt;fct&gt; | ID_TERMINAL &lt;int&gt; | DESC_TERMINAL &lt;fct&gt; | ID_TECNOLOGIA &lt;int&gt; | DESC_TECNOLOGIA &lt;fct&gt; | CANTIDAD_SUSCRIPTORES &lt;dbl&gt; | QUANTITY &lt;dbl&gt; |\n",
       "|---|---|---|---|---|---|---|---|---|---|---|---|---|---|\n",
       "| 3872 | 2019 | 1 | 1 | 1 | Personas | 830016046 | AVANTEL S.A.S. | 1 | TelÃ©fono mÃ³vil | 3 | 4G | 413404 | 0 |\n",
       "| 3873 | 2019 | 1 | 1 | 1 | Personas | 830016046 | AVANTEL S.A.S. | 2 | Data Card        | 3 | 4G |    797 | 0 |\n",
       "| 3880 | 2019 | 1 | 1 | 2 | Empresas | 830016046 | AVANTEL S.A.S. | 1 | TelÃ©fono mÃ³vil | 3 | 4G |  75113 | 0 |\n",
       "| 3881 | 2019 | 1 | 1 | 2 | Empresas | 830016046 | AVANTEL S.A.S. | 2 | Data Card        | 3 | 4G |  45681 | 0 |\n",
       "| 3918 | 2019 | 1 | 2 | 1 | Personas | 830016046 | AVANTEL S.A.S. | 1 | TelÃ©fono mÃ³vil | 3 | 4G | 422398 | 0 |\n",
       "| 3919 | 2019 | 1 | 2 | 1 | Personas | 830016046 | AVANTEL S.A.S. | 2 | Data Card        | 3 | 4G |    771 | 0 |\n",
       "\n"
      ],
      "text/plain": [
       "     ANNO TRIMESTRE MES_DEL_TRIMESTRE ID_SEGMENTO DESC_SEGMENTO ID_EMPRESA\n",
       "3872 2019 1         1                 1           Personas      830016046 \n",
       "3873 2019 1         1                 1           Personas      830016046 \n",
       "3880 2019 1         1                 2           Empresas      830016046 \n",
       "3881 2019 1         1                 2           Empresas      830016046 \n",
       "3918 2019 1         2                 1           Personas      830016046 \n",
       "3919 2019 1         2                 1           Personas      830016046 \n",
       "     DESC_EMPRESA   ID_TERMINAL DESC_TERMINAL    ID_TECNOLOGIA DESC_TECNOLOGIA\n",
       "3872 AVANTEL S.A.S. 1           TelÃ©fono mÃ³vil 3             4G             \n",
       "3873 AVANTEL S.A.S. 2           Data Card        3             4G             \n",
       "3880 AVANTEL S.A.S. 1           TelÃ©fono mÃ³vil 3             4G             \n",
       "3881 AVANTEL S.A.S. 2           Data Card        3             4G             \n",
       "3918 AVANTEL S.A.S. 1           TelÃ©fono mÃ³vil 3             4G             \n",
       "3919 AVANTEL S.A.S. 2           Data Card        3             4G             \n",
       "     CANTIDAD_SUSCRIPTORES QUANTITY\n",
       "3872 413404                0       \n",
       "3873    797                0       \n",
       "3880  75113                0       \n",
       "3881  45681                0       \n",
       "3918 422398                0       \n",
       "3919    771                0       "
      ]
     },
     "metadata": {},
     "output_type": "display_data"
    },
    {
     "data": {
      "text/html": [
       "'Group by ID_EMPRESA, DESC_EMPRESA and month'"
      ],
      "text/latex": [
       "'Group by ID\\_EMPRESA, DESC\\_EMPRESA and month'"
      ],
      "text/markdown": [
       "'Group by ID_EMPRESA, DESC_EMPRESA and month'"
      ],
      "text/plain": [
       "[1] \"Group by ID_EMPRESA, DESC_EMPRESA and month\""
      ]
     },
     "metadata": {},
     "output_type": "display_data"
    },
    {
     "data": {
      "text/html": [
       "<table>\n",
       "<caption>A grouped_df: 78 × 6</caption>\n",
       "<thead>\n",
       "\t<tr><th scope=col>ID_EMPRESA</th><th scope=col>DESC_EMPRESA</th><th scope=col>TRIMESTRE</th><th scope=col>MES_DEL_TRIMESTRE</th><th scope=col>QUANTITY</th><th scope=col>CANTIDAD_SUSCRIPTORES</th></tr>\n",
       "\t<tr><th scope=col>&lt;int&gt;</th><th scope=col>&lt;fct&gt;</th><th scope=col>&lt;int&gt;</th><th scope=col>&lt;int&gt;</th><th scope=col>&lt;dbl&gt;</th><th scope=col>&lt;dbl&gt;</th></tr>\n",
       "</thead>\n",
       "<tbody>\n",
       "\t<tr><td>800153993</td><td>COMUNICACION CELULAR S A COMCEL S A </td><td>4</td><td>3</td><td>1</td><td>6668308</td></tr>\n",
       "\t<tr><td>800153993</td><td>COMUNICACION CELULAR S A COMCEL S A </td><td>4</td><td>2</td><td>1</td><td>6619220</td></tr>\n",
       "\t<tr><td>800153993</td><td>COMUNICACION CELULAR S A COMCEL S A </td><td>4</td><td>1</td><td>1</td><td>6597810</td></tr>\n",
       "\t<tr><td>800153993</td><td>COMUNICACION CELULAR S A COMCEL S A </td><td>3</td><td>3</td><td>1</td><td>6540697</td></tr>\n",
       "\t<tr><td>800153993</td><td>COMUNICACION CELULAR S A COMCEL S A </td><td>3</td><td>2</td><td>1</td><td>6479372</td></tr>\n",
       "\t<tr><td>800153993</td><td>COMUNICACION CELULAR S A COMCEL S A </td><td>3</td><td>1</td><td>1</td><td>6421786</td></tr>\n",
       "\t<tr><td>800153993</td><td>COMUNICACION CELULAR S A COMCEL S A </td><td>2</td><td>3</td><td>1</td><td>6345913</td></tr>\n",
       "\t<tr><td>800153993</td><td>COMUNICACION CELULAR S A COMCEL S A </td><td>2</td><td>2</td><td>1</td><td>6307990</td></tr>\n",
       "\t<tr><td>800153993</td><td>COMUNICACION CELULAR S A COMCEL S A </td><td>2</td><td>1</td><td>1</td><td>6225618</td></tr>\n",
       "\t<tr><td>800153993</td><td>COMUNICACION CELULAR S A COMCEL S A </td><td>1</td><td>3</td><td>1</td><td>6192296</td></tr>\n",
       "\t<tr><td>800153993</td><td>COMUNICACION CELULAR S A COMCEL S A </td><td>1</td><td>2</td><td>1</td><td>6135682</td></tr>\n",
       "\t<tr><td>800153993</td><td>COMUNICACION CELULAR S A COMCEL S A </td><td>1</td><td>1</td><td>1</td><td>6123654</td></tr>\n",
       "\t<tr><td>830122566</td><td>COLOMBIA TELECOMUNICACIONES S.A. ESP</td><td>4</td><td>3</td><td>1</td><td>3782061</td></tr>\n",
       "\t<tr><td>830122566</td><td>COLOMBIA TELECOMUNICACIONES S.A. ESP</td><td>4</td><td>2</td><td>1</td><td>3760808</td></tr>\n",
       "\t<tr><td>830122566</td><td>COLOMBIA TELECOMUNICACIONES S.A. ESP</td><td>4</td><td>1</td><td>1</td><td>3733199</td></tr>\n",
       "\t<tr><td>830122566</td><td>COLOMBIA TELECOMUNICACIONES S.A. ESP</td><td>3</td><td>3</td><td>1</td><td>3708528</td></tr>\n",
       "\t<tr><td>830122566</td><td>COLOMBIA TELECOMUNICACIONES S.A. ESP</td><td>3</td><td>2</td><td>1</td><td>3686665</td></tr>\n",
       "\t<tr><td>830122566</td><td>COLOMBIA TELECOMUNICACIONES S.A. ESP</td><td>3</td><td>1</td><td>1</td><td>3672046</td></tr>\n",
       "\t<tr><td>830122566</td><td>COLOMBIA TELECOMUNICACIONES S.A. ESP</td><td>2</td><td>3</td><td>1</td><td>3656119</td></tr>\n",
       "\t<tr><td>830122566</td><td>COLOMBIA TELECOMUNICACIONES S.A. ESP</td><td>2</td><td>2</td><td>1</td><td>3635758</td></tr>\n",
       "\t<tr><td>830122566</td><td>COLOMBIA TELECOMUNICACIONES S.A. ESP</td><td>2</td><td>1</td><td>1</td><td>3604385</td></tr>\n",
       "\t<tr><td>830122566</td><td>COLOMBIA TELECOMUNICACIONES S.A. ESP</td><td>1</td><td>3</td><td>1</td><td>3576455</td></tr>\n",
       "\t<tr><td>830122566</td><td>COLOMBIA TELECOMUNICACIONES S.A. ESP</td><td>1</td><td>2</td><td>1</td><td>3561306</td></tr>\n",
       "\t<tr><td>830122566</td><td>COLOMBIA TELECOMUNICACIONES S.A. ESP</td><td>1</td><td>1</td><td>1</td><td>3556510</td></tr>\n",
       "\t<tr><td>830114921</td><td>COLOMBIA MOVIL S.A. E.S.P.          </td><td>4</td><td>3</td><td>1</td><td>1520682</td></tr>\n",
       "\t<tr><td>830114921</td><td>COLOMBIA MOVIL S.A. E.S.P.          </td><td>4</td><td>2</td><td>1</td><td>1489453</td></tr>\n",
       "\t<tr><td>830114921</td><td>COLOMBIA MOVIL S.A. E.S.P.          </td><td>4</td><td>1</td><td>1</td><td>1473866</td></tr>\n",
       "\t<tr><td>830114921</td><td>COLOMBIA MOVIL S.A. E.S.P.          </td><td>3</td><td>3</td><td>1</td><td>1456067</td></tr>\n",
       "\t<tr><td>830114921</td><td>COLOMBIA MOVIL S.A. E.S.P.          </td><td>3</td><td>2</td><td>1</td><td>1454749</td></tr>\n",
       "\t<tr><td>830114921</td><td>COLOMBIA MOVIL S.A. E.S.P.          </td><td>3</td><td>1</td><td>1</td><td>1445463</td></tr>\n",
       "\t<tr><td>...</td><td>...</td><td>...</td><td>...</td><td>...</td><td>...</td></tr>\n",
       "\t<tr><td>899999115</td><td>EMPRESA DE TELECOMUNICACIONES DE BOGOTÃ S.A. ESP.</td><td>1</td><td>3</td><td>1</td><td>176983</td></tr>\n",
       "\t<tr><td>899999115</td><td>EMPRESA DE TELECOMUNICACIONES DE BOGOTÃ S.A. ESP.</td><td>2</td><td>2</td><td>1</td><td>176145</td></tr>\n",
       "\t<tr><td>899999115</td><td>EMPRESA DE TELECOMUNICACIONES DE BOGOTÃ S.A. ESP.</td><td>2</td><td>3</td><td>1</td><td>174705</td></tr>\n",
       "\t<tr><td>899999115</td><td>EMPRESA DE TELECOMUNICACIONES DE BOGOTÃ S.A. ESP.</td><td>1</td><td>2</td><td>1</td><td>174458</td></tr>\n",
       "\t<tr><td>899999115</td><td>EMPRESA DE TELECOMUNICACIONES DE BOGOTÃ S.A. ESP.</td><td>2</td><td>1</td><td>1</td><td>165365</td></tr>\n",
       "\t<tr><td>899999115</td><td>EMPRESA DE TELECOMUNICACIONES DE BOGOTÃ S.A. ESP.</td><td>3</td><td>1</td><td>1</td><td>162654</td></tr>\n",
       "\t<tr><td>899999115</td><td>EMPRESA DE TELECOMUNICACIONES DE BOGOTÃ S.A. ESP.</td><td>3</td><td>2</td><td>1</td><td>162510</td></tr>\n",
       "\t<tr><td>899999115</td><td>EMPRESA DE TELECOMUNICACIONES DE BOGOTÃ S.A. ESP.</td><td>1</td><td>1</td><td>1</td><td>155690</td></tr>\n",
       "\t<tr><td>899999115</td><td>EMPRESA DE TELECOMUNICACIONES DE BOGOTÃ S.A. ESP.</td><td>3</td><td>3</td><td>1</td><td>149291</td></tr>\n",
       "\t<tr><td>899999115</td><td>EMPRESA DE TELECOMUNICACIONES DE BOGOTÃ S.A. ESP.</td><td>4</td><td>2</td><td>1</td><td>138568</td></tr>\n",
       "\t<tr><td>899999115</td><td>EMPRESA DE TELECOMUNICACIONES DE BOGOTÃ S.A. ESP.</td><td>4</td><td>1</td><td>1</td><td>135007</td></tr>\n",
       "\t<tr><td>899999115</td><td>EMPRESA DE TELECOMUNICACIONES DE BOGOTÃ S.A. ESP.</td><td>4</td><td>3</td><td>1</td><td>122272</td></tr>\n",
       "\t<tr><td>900420122</td><td>VIRGIN MOBILE COLOMBIA S.A.S.                     </td><td>1</td><td>1</td><td>1</td><td>     0</td></tr>\n",
       "\t<tr><td>900420122</td><td>VIRGIN MOBILE COLOMBIA S.A.S.                     </td><td>1</td><td>2</td><td>1</td><td>     0</td></tr>\n",
       "\t<tr><td>900420122</td><td>VIRGIN MOBILE COLOMBIA S.A.S.                     </td><td>1</td><td>3</td><td>1</td><td>     0</td></tr>\n",
       "\t<tr><td>900420122</td><td>VIRGIN MOBILE COLOMBIA S.A.S.                     </td><td>2</td><td>1</td><td>1</td><td>     0</td></tr>\n",
       "\t<tr><td>900420122</td><td>VIRGIN MOBILE COLOMBIA S.A.S.                     </td><td>2</td><td>2</td><td>1</td><td>     0</td></tr>\n",
       "\t<tr><td>900420122</td><td>VIRGIN MOBILE COLOMBIA S.A.S.                     </td><td>2</td><td>3</td><td>1</td><td>     0</td></tr>\n",
       "\t<tr><td>900420122</td><td>VIRGIN MOBILE COLOMBIA S.A.S.                     </td><td>3</td><td>1</td><td>1</td><td>     0</td></tr>\n",
       "\t<tr><td>900420122</td><td>VIRGIN MOBILE COLOMBIA S.A.S.                     </td><td>3</td><td>2</td><td>1</td><td>     0</td></tr>\n",
       "\t<tr><td>900420122</td><td>VIRGIN MOBILE COLOMBIA S.A.S.                     </td><td>3</td><td>3</td><td>1</td><td>     0</td></tr>\n",
       "\t<tr><td>900420122</td><td>VIRGIN MOBILE COLOMBIA S.A.S.                     </td><td>4</td><td>1</td><td>1</td><td>     0</td></tr>\n",
       "\t<tr><td>900420122</td><td>VIRGIN MOBILE COLOMBIA S.A.S.                     </td><td>4</td><td>2</td><td>1</td><td>     0</td></tr>\n",
       "\t<tr><td>900420122</td><td>VIRGIN MOBILE COLOMBIA S.A.S.                     </td><td>4</td><td>3</td><td>1</td><td>     0</td></tr>\n",
       "\t<tr><td>901193332</td><td>NESH MOVIL S A S                                  </td><td>2</td><td>1</td><td>1</td><td>     0</td></tr>\n",
       "\t<tr><td>901193332</td><td>NESH MOVIL S A S                                  </td><td>2</td><td>2</td><td>1</td><td>     0</td></tr>\n",
       "\t<tr><td>901193332</td><td>NESH MOVIL S A S                                  </td><td>2</td><td>3</td><td>1</td><td>     0</td></tr>\n",
       "\t<tr><td>901193332</td><td>NESH MOVIL S A S                                  </td><td>3</td><td>1</td><td>1</td><td>     0</td></tr>\n",
       "\t<tr><td>901193332</td><td>NESH MOVIL S A S                                  </td><td>3</td><td>2</td><td>1</td><td>     0</td></tr>\n",
       "\t<tr><td>901193332</td><td>NESH MOVIL S A S                                  </td><td>3</td><td>3</td><td>1</td><td>     0</td></tr>\n",
       "</tbody>\n",
       "</table>\n"
      ],
      "text/latex": [
       "A grouped\\_df: 78 × 6\n",
       "\\begin{tabular}{llllll}\n",
       " ID\\_EMPRESA & DESC\\_EMPRESA & TRIMESTRE & MES\\_DEL\\_TRIMESTRE & QUANTITY & CANTIDAD\\_SUSCRIPTORES\\\\\n",
       " <int> & <fct> & <int> & <int> & <dbl> & <dbl>\\\\\n",
       "\\hline\n",
       "\t 800153993 & COMUNICACION CELULAR S A COMCEL S A  & 4 & 3 & 1 & 6668308\\\\\n",
       "\t 800153993 & COMUNICACION CELULAR S A COMCEL S A  & 4 & 2 & 1 & 6619220\\\\\n",
       "\t 800153993 & COMUNICACION CELULAR S A COMCEL S A  & 4 & 1 & 1 & 6597810\\\\\n",
       "\t 800153993 & COMUNICACION CELULAR S A COMCEL S A  & 3 & 3 & 1 & 6540697\\\\\n",
       "\t 800153993 & COMUNICACION CELULAR S A COMCEL S A  & 3 & 2 & 1 & 6479372\\\\\n",
       "\t 800153993 & COMUNICACION CELULAR S A COMCEL S A  & 3 & 1 & 1 & 6421786\\\\\n",
       "\t 800153993 & COMUNICACION CELULAR S A COMCEL S A  & 2 & 3 & 1 & 6345913\\\\\n",
       "\t 800153993 & COMUNICACION CELULAR S A COMCEL S A  & 2 & 2 & 1 & 6307990\\\\\n",
       "\t 800153993 & COMUNICACION CELULAR S A COMCEL S A  & 2 & 1 & 1 & 6225618\\\\\n",
       "\t 800153993 & COMUNICACION CELULAR S A COMCEL S A  & 1 & 3 & 1 & 6192296\\\\\n",
       "\t 800153993 & COMUNICACION CELULAR S A COMCEL S A  & 1 & 2 & 1 & 6135682\\\\\n",
       "\t 800153993 & COMUNICACION CELULAR S A COMCEL S A  & 1 & 1 & 1 & 6123654\\\\\n",
       "\t 830122566 & COLOMBIA TELECOMUNICACIONES S.A. ESP & 4 & 3 & 1 & 3782061\\\\\n",
       "\t 830122566 & COLOMBIA TELECOMUNICACIONES S.A. ESP & 4 & 2 & 1 & 3760808\\\\\n",
       "\t 830122566 & COLOMBIA TELECOMUNICACIONES S.A. ESP & 4 & 1 & 1 & 3733199\\\\\n",
       "\t 830122566 & COLOMBIA TELECOMUNICACIONES S.A. ESP & 3 & 3 & 1 & 3708528\\\\\n",
       "\t 830122566 & COLOMBIA TELECOMUNICACIONES S.A. ESP & 3 & 2 & 1 & 3686665\\\\\n",
       "\t 830122566 & COLOMBIA TELECOMUNICACIONES S.A. ESP & 3 & 1 & 1 & 3672046\\\\\n",
       "\t 830122566 & COLOMBIA TELECOMUNICACIONES S.A. ESP & 2 & 3 & 1 & 3656119\\\\\n",
       "\t 830122566 & COLOMBIA TELECOMUNICACIONES S.A. ESP & 2 & 2 & 1 & 3635758\\\\\n",
       "\t 830122566 & COLOMBIA TELECOMUNICACIONES S.A. ESP & 2 & 1 & 1 & 3604385\\\\\n",
       "\t 830122566 & COLOMBIA TELECOMUNICACIONES S.A. ESP & 1 & 3 & 1 & 3576455\\\\\n",
       "\t 830122566 & COLOMBIA TELECOMUNICACIONES S.A. ESP & 1 & 2 & 1 & 3561306\\\\\n",
       "\t 830122566 & COLOMBIA TELECOMUNICACIONES S.A. ESP & 1 & 1 & 1 & 3556510\\\\\n",
       "\t 830114921 & COLOMBIA MOVIL S.A. E.S.P.           & 4 & 3 & 1 & 1520682\\\\\n",
       "\t 830114921 & COLOMBIA MOVIL S.A. E.S.P.           & 4 & 2 & 1 & 1489453\\\\\n",
       "\t 830114921 & COLOMBIA MOVIL S.A. E.S.P.           & 4 & 1 & 1 & 1473866\\\\\n",
       "\t 830114921 & COLOMBIA MOVIL S.A. E.S.P.           & 3 & 3 & 1 & 1456067\\\\\n",
       "\t 830114921 & COLOMBIA MOVIL S.A. E.S.P.           & 3 & 2 & 1 & 1454749\\\\\n",
       "\t 830114921 & COLOMBIA MOVIL S.A. E.S.P.           & 3 & 1 & 1 & 1445463\\\\\n",
       "\t ... & ... & ... & ... & ... & ...\\\\\n",
       "\t 899999115 & EMPRESA DE TELECOMUNICACIONES DE BOGOTÃ S.A. ESP. & 1 & 3 & 1 & 176983\\\\\n",
       "\t 899999115 & EMPRESA DE TELECOMUNICACIONES DE BOGOTÃ S.A. ESP. & 2 & 2 & 1 & 176145\\\\\n",
       "\t 899999115 & EMPRESA DE TELECOMUNICACIONES DE BOGOTÃ S.A. ESP. & 2 & 3 & 1 & 174705\\\\\n",
       "\t 899999115 & EMPRESA DE TELECOMUNICACIONES DE BOGOTÃ S.A. ESP. & 1 & 2 & 1 & 174458\\\\\n",
       "\t 899999115 & EMPRESA DE TELECOMUNICACIONES DE BOGOTÃ S.A. ESP. & 2 & 1 & 1 & 165365\\\\\n",
       "\t 899999115 & EMPRESA DE TELECOMUNICACIONES DE BOGOTÃ S.A. ESP. & 3 & 1 & 1 & 162654\\\\\n",
       "\t 899999115 & EMPRESA DE TELECOMUNICACIONES DE BOGOTÃ S.A. ESP. & 3 & 2 & 1 & 162510\\\\\n",
       "\t 899999115 & EMPRESA DE TELECOMUNICACIONES DE BOGOTÃ S.A. ESP. & 1 & 1 & 1 & 155690\\\\\n",
       "\t 899999115 & EMPRESA DE TELECOMUNICACIONES DE BOGOTÃ S.A. ESP. & 3 & 3 & 1 & 149291\\\\\n",
       "\t 899999115 & EMPRESA DE TELECOMUNICACIONES DE BOGOTÃ S.A. ESP. & 4 & 2 & 1 & 138568\\\\\n",
       "\t 899999115 & EMPRESA DE TELECOMUNICACIONES DE BOGOTÃ S.A. ESP. & 4 & 1 & 1 & 135007\\\\\n",
       "\t 899999115 & EMPRESA DE TELECOMUNICACIONES DE BOGOTÃ S.A. ESP. & 4 & 3 & 1 & 122272\\\\\n",
       "\t 900420122 & VIRGIN MOBILE COLOMBIA S.A.S.                      & 1 & 1 & 1 &      0\\\\\n",
       "\t 900420122 & VIRGIN MOBILE COLOMBIA S.A.S.                      & 1 & 2 & 1 &      0\\\\\n",
       "\t 900420122 & VIRGIN MOBILE COLOMBIA S.A.S.                      & 1 & 3 & 1 &      0\\\\\n",
       "\t 900420122 & VIRGIN MOBILE COLOMBIA S.A.S.                      & 2 & 1 & 1 &      0\\\\\n",
       "\t 900420122 & VIRGIN MOBILE COLOMBIA S.A.S.                      & 2 & 2 & 1 &      0\\\\\n",
       "\t 900420122 & VIRGIN MOBILE COLOMBIA S.A.S.                      & 2 & 3 & 1 &      0\\\\\n",
       "\t 900420122 & VIRGIN MOBILE COLOMBIA S.A.S.                      & 3 & 1 & 1 &      0\\\\\n",
       "\t 900420122 & VIRGIN MOBILE COLOMBIA S.A.S.                      & 3 & 2 & 1 &      0\\\\\n",
       "\t 900420122 & VIRGIN MOBILE COLOMBIA S.A.S.                      & 3 & 3 & 1 &      0\\\\\n",
       "\t 900420122 & VIRGIN MOBILE COLOMBIA S.A.S.                      & 4 & 1 & 1 &      0\\\\\n",
       "\t 900420122 & VIRGIN MOBILE COLOMBIA S.A.S.                      & 4 & 2 & 1 &      0\\\\\n",
       "\t 900420122 & VIRGIN MOBILE COLOMBIA S.A.S.                      & 4 & 3 & 1 &      0\\\\\n",
       "\t 901193332 & NESH MOVIL S A S                                   & 2 & 1 & 1 &      0\\\\\n",
       "\t 901193332 & NESH MOVIL S A S                                   & 2 & 2 & 1 &      0\\\\\n",
       "\t 901193332 & NESH MOVIL S A S                                   & 2 & 3 & 1 &      0\\\\\n",
       "\t 901193332 & NESH MOVIL S A S                                   & 3 & 1 & 1 &      0\\\\\n",
       "\t 901193332 & NESH MOVIL S A S                                   & 3 & 2 & 1 &      0\\\\\n",
       "\t 901193332 & NESH MOVIL S A S                                   & 3 & 3 & 1 &      0\\\\\n",
       "\\end{tabular}\n"
      ],
      "text/markdown": [
       "\n",
       "A grouped_df: 78 × 6\n",
       "\n",
       "| ID_EMPRESA &lt;int&gt; | DESC_EMPRESA &lt;fct&gt; | TRIMESTRE &lt;int&gt; | MES_DEL_TRIMESTRE &lt;int&gt; | QUANTITY &lt;dbl&gt; | CANTIDAD_SUSCRIPTORES &lt;dbl&gt; |\n",
       "|---|---|---|---|---|---|\n",
       "| 800153993 | COMUNICACION CELULAR S A COMCEL S A  | 4 | 3 | 1 | 6668308 |\n",
       "| 800153993 | COMUNICACION CELULAR S A COMCEL S A  | 4 | 2 | 1 | 6619220 |\n",
       "| 800153993 | COMUNICACION CELULAR S A COMCEL S A  | 4 | 1 | 1 | 6597810 |\n",
       "| 800153993 | COMUNICACION CELULAR S A COMCEL S A  | 3 | 3 | 1 | 6540697 |\n",
       "| 800153993 | COMUNICACION CELULAR S A COMCEL S A  | 3 | 2 | 1 | 6479372 |\n",
       "| 800153993 | COMUNICACION CELULAR S A COMCEL S A  | 3 | 1 | 1 | 6421786 |\n",
       "| 800153993 | COMUNICACION CELULAR S A COMCEL S A  | 2 | 3 | 1 | 6345913 |\n",
       "| 800153993 | COMUNICACION CELULAR S A COMCEL S A  | 2 | 2 | 1 | 6307990 |\n",
       "| 800153993 | COMUNICACION CELULAR S A COMCEL S A  | 2 | 1 | 1 | 6225618 |\n",
       "| 800153993 | COMUNICACION CELULAR S A COMCEL S A  | 1 | 3 | 1 | 6192296 |\n",
       "| 800153993 | COMUNICACION CELULAR S A COMCEL S A  | 1 | 2 | 1 | 6135682 |\n",
       "| 800153993 | COMUNICACION CELULAR S A COMCEL S A  | 1 | 1 | 1 | 6123654 |\n",
       "| 830122566 | COLOMBIA TELECOMUNICACIONES S.A. ESP | 4 | 3 | 1 | 3782061 |\n",
       "| 830122566 | COLOMBIA TELECOMUNICACIONES S.A. ESP | 4 | 2 | 1 | 3760808 |\n",
       "| 830122566 | COLOMBIA TELECOMUNICACIONES S.A. ESP | 4 | 1 | 1 | 3733199 |\n",
       "| 830122566 | COLOMBIA TELECOMUNICACIONES S.A. ESP | 3 | 3 | 1 | 3708528 |\n",
       "| 830122566 | COLOMBIA TELECOMUNICACIONES S.A. ESP | 3 | 2 | 1 | 3686665 |\n",
       "| 830122566 | COLOMBIA TELECOMUNICACIONES S.A. ESP | 3 | 1 | 1 | 3672046 |\n",
       "| 830122566 | COLOMBIA TELECOMUNICACIONES S.A. ESP | 2 | 3 | 1 | 3656119 |\n",
       "| 830122566 | COLOMBIA TELECOMUNICACIONES S.A. ESP | 2 | 2 | 1 | 3635758 |\n",
       "| 830122566 | COLOMBIA TELECOMUNICACIONES S.A. ESP | 2 | 1 | 1 | 3604385 |\n",
       "| 830122566 | COLOMBIA TELECOMUNICACIONES S.A. ESP | 1 | 3 | 1 | 3576455 |\n",
       "| 830122566 | COLOMBIA TELECOMUNICACIONES S.A. ESP | 1 | 2 | 1 | 3561306 |\n",
       "| 830122566 | COLOMBIA TELECOMUNICACIONES S.A. ESP | 1 | 1 | 1 | 3556510 |\n",
       "| 830114921 | COLOMBIA MOVIL S.A. E.S.P.           | 4 | 3 | 1 | 1520682 |\n",
       "| 830114921 | COLOMBIA MOVIL S.A. E.S.P.           | 4 | 2 | 1 | 1489453 |\n",
       "| 830114921 | COLOMBIA MOVIL S.A. E.S.P.           | 4 | 1 | 1 | 1473866 |\n",
       "| 830114921 | COLOMBIA MOVIL S.A. E.S.P.           | 3 | 3 | 1 | 1456067 |\n",
       "| 830114921 | COLOMBIA MOVIL S.A. E.S.P.           | 3 | 2 | 1 | 1454749 |\n",
       "| 830114921 | COLOMBIA MOVIL S.A. E.S.P.           | 3 | 1 | 1 | 1445463 |\n",
       "| ... | ... | ... | ... | ... | ... |\n",
       "| 899999115 | EMPRESA DE TELECOMUNICACIONES DE BOGOTÃ S.A. ESP. | 1 | 3 | 1 | 176983 |\n",
       "| 899999115 | EMPRESA DE TELECOMUNICACIONES DE BOGOTÃ S.A. ESP. | 2 | 2 | 1 | 176145 |\n",
       "| 899999115 | EMPRESA DE TELECOMUNICACIONES DE BOGOTÃ S.A. ESP. | 2 | 3 | 1 | 174705 |\n",
       "| 899999115 | EMPRESA DE TELECOMUNICACIONES DE BOGOTÃ S.A. ESP. | 1 | 2 | 1 | 174458 |\n",
       "| 899999115 | EMPRESA DE TELECOMUNICACIONES DE BOGOTÃ S.A. ESP. | 2 | 1 | 1 | 165365 |\n",
       "| 899999115 | EMPRESA DE TELECOMUNICACIONES DE BOGOTÃ S.A. ESP. | 3 | 1 | 1 | 162654 |\n",
       "| 899999115 | EMPRESA DE TELECOMUNICACIONES DE BOGOTÃ S.A. ESP. | 3 | 2 | 1 | 162510 |\n",
       "| 899999115 | EMPRESA DE TELECOMUNICACIONES DE BOGOTÃ S.A. ESP. | 1 | 1 | 1 | 155690 |\n",
       "| 899999115 | EMPRESA DE TELECOMUNICACIONES DE BOGOTÃ S.A. ESP. | 3 | 3 | 1 | 149291 |\n",
       "| 899999115 | EMPRESA DE TELECOMUNICACIONES DE BOGOTÃ S.A. ESP. | 4 | 2 | 1 | 138568 |\n",
       "| 899999115 | EMPRESA DE TELECOMUNICACIONES DE BOGOTÃ S.A. ESP. | 4 | 1 | 1 | 135007 |\n",
       "| 899999115 | EMPRESA DE TELECOMUNICACIONES DE BOGOTÃ S.A. ESP. | 4 | 3 | 1 | 122272 |\n",
       "| 900420122 | VIRGIN MOBILE COLOMBIA S.A.S.                      | 1 | 1 | 1 |      0 |\n",
       "| 900420122 | VIRGIN MOBILE COLOMBIA S.A.S.                      | 1 | 2 | 1 |      0 |\n",
       "| 900420122 | VIRGIN MOBILE COLOMBIA S.A.S.                      | 1 | 3 | 1 |      0 |\n",
       "| 900420122 | VIRGIN MOBILE COLOMBIA S.A.S.                      | 2 | 1 | 1 |      0 |\n",
       "| 900420122 | VIRGIN MOBILE COLOMBIA S.A.S.                      | 2 | 2 | 1 |      0 |\n",
       "| 900420122 | VIRGIN MOBILE COLOMBIA S.A.S.                      | 2 | 3 | 1 |      0 |\n",
       "| 900420122 | VIRGIN MOBILE COLOMBIA S.A.S.                      | 3 | 1 | 1 |      0 |\n",
       "| 900420122 | VIRGIN MOBILE COLOMBIA S.A.S.                      | 3 | 2 | 1 |      0 |\n",
       "| 900420122 | VIRGIN MOBILE COLOMBIA S.A.S.                      | 3 | 3 | 1 |      0 |\n",
       "| 900420122 | VIRGIN MOBILE COLOMBIA S.A.S.                      | 4 | 1 | 1 |      0 |\n",
       "| 900420122 | VIRGIN MOBILE COLOMBIA S.A.S.                      | 4 | 2 | 1 |      0 |\n",
       "| 900420122 | VIRGIN MOBILE COLOMBIA S.A.S.                      | 4 | 3 | 1 |      0 |\n",
       "| 901193332 | NESH MOVIL S A S                                   | 2 | 1 | 1 |      0 |\n",
       "| 901193332 | NESH MOVIL S A S                                   | 2 | 2 | 1 |      0 |\n",
       "| 901193332 | NESH MOVIL S A S                                   | 2 | 3 | 1 |      0 |\n",
       "| 901193332 | NESH MOVIL S A S                                   | 3 | 1 | 1 |      0 |\n",
       "| 901193332 | NESH MOVIL S A S                                   | 3 | 2 | 1 |      0 |\n",
       "| 901193332 | NESH MOVIL S A S                                   | 3 | 3 | 1 |      0 |\n",
       "\n"
      ],
      "text/plain": [
       "    ID_EMPRESA DESC_EMPRESA                                       TRIMESTRE\n",
       "1   800153993  COMUNICACION CELULAR S A COMCEL S A                4        \n",
       "2   800153993  COMUNICACION CELULAR S A COMCEL S A                4        \n",
       "3   800153993  COMUNICACION CELULAR S A COMCEL S A                4        \n",
       "4   800153993  COMUNICACION CELULAR S A COMCEL S A                3        \n",
       "5   800153993  COMUNICACION CELULAR S A COMCEL S A                3        \n",
       "6   800153993  COMUNICACION CELULAR S A COMCEL S A                3        \n",
       "7   800153993  COMUNICACION CELULAR S A COMCEL S A                2        \n",
       "8   800153993  COMUNICACION CELULAR S A COMCEL S A                2        \n",
       "9   800153993  COMUNICACION CELULAR S A COMCEL S A                2        \n",
       "10  800153993  COMUNICACION CELULAR S A COMCEL S A                1        \n",
       "11  800153993  COMUNICACION CELULAR S A COMCEL S A                1        \n",
       "12  800153993  COMUNICACION CELULAR S A COMCEL S A                1        \n",
       "13  830122566  COLOMBIA TELECOMUNICACIONES S.A. ESP               4        \n",
       "14  830122566  COLOMBIA TELECOMUNICACIONES S.A. ESP               4        \n",
       "15  830122566  COLOMBIA TELECOMUNICACIONES S.A. ESP               4        \n",
       "16  830122566  COLOMBIA TELECOMUNICACIONES S.A. ESP               3        \n",
       "17  830122566  COLOMBIA TELECOMUNICACIONES S.A. ESP               3        \n",
       "18  830122566  COLOMBIA TELECOMUNICACIONES S.A. ESP               3        \n",
       "19  830122566  COLOMBIA TELECOMUNICACIONES S.A. ESP               2        \n",
       "20  830122566  COLOMBIA TELECOMUNICACIONES S.A. ESP               2        \n",
       "21  830122566  COLOMBIA TELECOMUNICACIONES S.A. ESP               2        \n",
       "22  830122566  COLOMBIA TELECOMUNICACIONES S.A. ESP               1        \n",
       "23  830122566  COLOMBIA TELECOMUNICACIONES S.A. ESP               1        \n",
       "24  830122566  COLOMBIA TELECOMUNICACIONES S.A. ESP               1        \n",
       "25  830114921  COLOMBIA MOVIL S.A. E.S.P.                         4        \n",
       "26  830114921  COLOMBIA MOVIL S.A. E.S.P.                         4        \n",
       "27  830114921  COLOMBIA MOVIL S.A. E.S.P.                         4        \n",
       "28  830114921  COLOMBIA MOVIL S.A. E.S.P.                         3        \n",
       "29  830114921  COLOMBIA MOVIL S.A. E.S.P.                         3        \n",
       "30  830114921  COLOMBIA MOVIL S.A. E.S.P.                         3        \n",
       "... ...        ...                                                ...      \n",
       "49  899999115  EMPRESA DE TELECOMUNICACIONES DE BOGOTÃ\\201 S.A. ESP. 1        \n",
       "50  899999115  EMPRESA DE TELECOMUNICACIONES DE BOGOTÃ\\201 S.A. ESP. 2        \n",
       "51  899999115  EMPRESA DE TELECOMUNICACIONES DE BOGOTÃ\\201 S.A. ESP. 2        \n",
       "52  899999115  EMPRESA DE TELECOMUNICACIONES DE BOGOTÃ\\201 S.A. ESP. 1        \n",
       "53  899999115  EMPRESA DE TELECOMUNICACIONES DE BOGOTÃ\\201 S.A. ESP. 2        \n",
       "54  899999115  EMPRESA DE TELECOMUNICACIONES DE BOGOTÃ\\201 S.A. ESP. 3        \n",
       "55  899999115  EMPRESA DE TELECOMUNICACIONES DE BOGOTÃ\\201 S.A. ESP. 3        \n",
       "56  899999115  EMPRESA DE TELECOMUNICACIONES DE BOGOTÃ\\201 S.A. ESP. 1        \n",
       "57  899999115  EMPRESA DE TELECOMUNICACIONES DE BOGOTÃ\\201 S.A. ESP. 3        \n",
       "58  899999115  EMPRESA DE TELECOMUNICACIONES DE BOGOTÃ\\201 S.A. ESP. 4        \n",
       "59  899999115  EMPRESA DE TELECOMUNICACIONES DE BOGOTÃ\\201 S.A. ESP. 4        \n",
       "60  899999115  EMPRESA DE TELECOMUNICACIONES DE BOGOTÃ\\201 S.A. ESP. 4        \n",
       "61  900420122  VIRGIN MOBILE COLOMBIA S.A.S.                      1        \n",
       "62  900420122  VIRGIN MOBILE COLOMBIA S.A.S.                      1        \n",
       "63  900420122  VIRGIN MOBILE COLOMBIA S.A.S.                      1        \n",
       "64  900420122  VIRGIN MOBILE COLOMBIA S.A.S.                      2        \n",
       "65  900420122  VIRGIN MOBILE COLOMBIA S.A.S.                      2        \n",
       "66  900420122  VIRGIN MOBILE COLOMBIA S.A.S.                      2        \n",
       "67  900420122  VIRGIN MOBILE COLOMBIA S.A.S.                      3        \n",
       "68  900420122  VIRGIN MOBILE COLOMBIA S.A.S.                      3        \n",
       "69  900420122  VIRGIN MOBILE COLOMBIA S.A.S.                      3        \n",
       "70  900420122  VIRGIN MOBILE COLOMBIA S.A.S.                      4        \n",
       "71  900420122  VIRGIN MOBILE COLOMBIA S.A.S.                      4        \n",
       "72  900420122  VIRGIN MOBILE COLOMBIA S.A.S.                      4        \n",
       "73  901193332  NESH MOVIL S A S                                   2        \n",
       "74  901193332  NESH MOVIL S A S                                   2        \n",
       "75  901193332  NESH MOVIL S A S                                   2        \n",
       "76  901193332  NESH MOVIL S A S                                   3        \n",
       "77  901193332  NESH MOVIL S A S                                   3        \n",
       "78  901193332  NESH MOVIL S A S                                   3        \n",
       "    MES_DEL_TRIMESTRE QUANTITY CANTIDAD_SUSCRIPTORES\n",
       "1   3                 1        6668308              \n",
       "2   2                 1        6619220              \n",
       "3   1                 1        6597810              \n",
       "4   3                 1        6540697              \n",
       "5   2                 1        6479372              \n",
       "6   1                 1        6421786              \n",
       "7   3                 1        6345913              \n",
       "8   2                 1        6307990              \n",
       "9   1                 1        6225618              \n",
       "10  3                 1        6192296              \n",
       "11  2                 1        6135682              \n",
       "12  1                 1        6123654              \n",
       "13  3                 1        3782061              \n",
       "14  2                 1        3760808              \n",
       "15  1                 1        3733199              \n",
       "16  3                 1        3708528              \n",
       "17  2                 1        3686665              \n",
       "18  1                 1        3672046              \n",
       "19  3                 1        3656119              \n",
       "20  2                 1        3635758              \n",
       "21  1                 1        3604385              \n",
       "22  3                 1        3576455              \n",
       "23  2                 1        3561306              \n",
       "24  1                 1        3556510              \n",
       "25  3                 1        1520682              \n",
       "26  2                 1        1489453              \n",
       "27  1                 1        1473866              \n",
       "28  3                 1        1456067              \n",
       "29  2                 1        1454749              \n",
       "30  1                 1        1445463              \n",
       "... ...               ...      ...                  \n",
       "49  3                 1        176983               \n",
       "50  2                 1        176145               \n",
       "51  3                 1        174705               \n",
       "52  2                 1        174458               \n",
       "53  1                 1        165365               \n",
       "54  1                 1        162654               \n",
       "55  2                 1        162510               \n",
       "56  1                 1        155690               \n",
       "57  3                 1        149291               \n",
       "58  2                 1        138568               \n",
       "59  1                 1        135007               \n",
       "60  3                 1        122272               \n",
       "61  1                 1             0               \n",
       "62  2                 1             0               \n",
       "63  3                 1             0               \n",
       "64  1                 1             0               \n",
       "65  2                 1             0               \n",
       "66  3                 1             0               \n",
       "67  1                 1             0               \n",
       "68  2                 1             0               \n",
       "69  3                 1             0               \n",
       "70  1                 1             0               \n",
       "71  2                 1             0               \n",
       "72  3                 1             0               \n",
       "73  1                 1             0               \n",
       "74  2                 1             0               \n",
       "75  3                 1             0               \n",
       "76  1                 1             0               \n",
       "77  2                 1             0               \n",
       "78  3                 1             0               "
      ]
     },
     "metadata": {},
     "output_type": "display_data"
    },
    {
     "data": {
      "text/html": [
       "'Group by ID_EMPRESA and DESC_EMPRESA'"
      ],
      "text/latex": [
       "'Group by ID\\_EMPRESA and DESC\\_EMPRESA'"
      ],
      "text/markdown": [
       "'Group by ID_EMPRESA and DESC_EMPRESA'"
      ],
      "text/plain": [
       "[1] \"Group by ID_EMPRESA and DESC_EMPRESA\""
      ]
     },
     "metadata": {},
     "output_type": "display_data"
    },
    {
     "data": {
      "text/html": [
       "'Show sort ascending in CANTIDAD_SUSCRIPTORES'"
      ],
      "text/latex": [
       "'Show sort ascending in CANTIDAD\\_SUSCRIPTORES'"
      ],
      "text/markdown": [
       "'Show sort ascending in CANTIDAD_SUSCRIPTORES'"
      ],
      "text/plain": [
       "[1] \"Show sort ascending in CANTIDAD_SUSCRIPTORES\""
      ]
     },
     "metadata": {},
     "output_type": "display_data"
    },
    {
     "data": {
      "text/html": [
       "<table>\n",
       "<caption>A grouped_df: 7 × 3</caption>\n",
       "<thead>\n",
       "\t<tr><th scope=col>ID_EMPRESA</th><th scope=col>DESC_EMPRESA</th><th scope=col>CANTIDAD_SUSCRIPTORES</th></tr>\n",
       "\t<tr><th scope=col>&lt;int&gt;</th><th scope=col>&lt;fct&gt;</th><th scope=col>&lt;dbl&gt;</th></tr>\n",
       "</thead>\n",
       "<tbody>\n",
       "\t<tr><td>800153993</td><td>COMUNICACION CELULAR S A COMCEL S A               </td><td>6388195.5</td></tr>\n",
       "\t<tr><td>830122566</td><td>COLOMBIA TELECOMUNICACIONES S.A. ESP              </td><td>3661153.3</td></tr>\n",
       "\t<tr><td>830114921</td><td>COLOMBIA MOVIL S.A. E.S.P.                        </td><td>1435672.6</td></tr>\n",
       "\t<tr><td>830016046</td><td>AVANTEL S.A.S.                                    </td><td> 546536.6</td></tr>\n",
       "\t<tr><td>899999115</td><td>EMPRESA DE TELECOMUNICACIONES DE BOGOTÃ S.A. ESP.</td><td> 157804.0</td></tr>\n",
       "\t<tr><td>900420122</td><td>VIRGIN MOBILE COLOMBIA S.A.S.                     </td><td>      0.0</td></tr>\n",
       "\t<tr><td>901193332</td><td>NESH MOVIL S A S                                  </td><td>      0.0</td></tr>\n",
       "</tbody>\n",
       "</table>\n"
      ],
      "text/latex": [
       "A grouped\\_df: 7 × 3\n",
       "\\begin{tabular}{lll}\n",
       " ID\\_EMPRESA & DESC\\_EMPRESA & CANTIDAD\\_SUSCRIPTORES\\\\\n",
       " <int> & <fct> & <dbl>\\\\\n",
       "\\hline\n",
       "\t 800153993 & COMUNICACION CELULAR S A COMCEL S A                & 6388195.5\\\\\n",
       "\t 830122566 & COLOMBIA TELECOMUNICACIONES S.A. ESP               & 3661153.3\\\\\n",
       "\t 830114921 & COLOMBIA MOVIL S.A. E.S.P.                         & 1435672.6\\\\\n",
       "\t 830016046 & AVANTEL S.A.S.                                     &  546536.6\\\\\n",
       "\t 899999115 & EMPRESA DE TELECOMUNICACIONES DE BOGOTÃ S.A. ESP. &  157804.0\\\\\n",
       "\t 900420122 & VIRGIN MOBILE COLOMBIA S.A.S.                      &       0.0\\\\\n",
       "\t 901193332 & NESH MOVIL S A S                                   &       0.0\\\\\n",
       "\\end{tabular}\n"
      ],
      "text/markdown": [
       "\n",
       "A grouped_df: 7 × 3\n",
       "\n",
       "| ID_EMPRESA &lt;int&gt; | DESC_EMPRESA &lt;fct&gt; | CANTIDAD_SUSCRIPTORES &lt;dbl&gt; |\n",
       "|---|---|---|\n",
       "| 800153993 | COMUNICACION CELULAR S A COMCEL S A                | 6388195.5 |\n",
       "| 830122566 | COLOMBIA TELECOMUNICACIONES S.A. ESP               | 3661153.3 |\n",
       "| 830114921 | COLOMBIA MOVIL S.A. E.S.P.                         | 1435672.6 |\n",
       "| 830016046 | AVANTEL S.A.S.                                     |  546536.6 |\n",
       "| 899999115 | EMPRESA DE TELECOMUNICACIONES DE BOGOTÃ S.A. ESP. |  157804.0 |\n",
       "| 900420122 | VIRGIN MOBILE COLOMBIA S.A.S.                      |       0.0 |\n",
       "| 901193332 | NESH MOVIL S A S                                   |       0.0 |\n",
       "\n"
      ],
      "text/plain": [
       "  ID_EMPRESA DESC_EMPRESA                                      \n",
       "1 800153993  COMUNICACION CELULAR S A COMCEL S A               \n",
       "2 830122566  COLOMBIA TELECOMUNICACIONES S.A. ESP              \n",
       "3 830114921  COLOMBIA MOVIL S.A. E.S.P.                        \n",
       "4 830016046  AVANTEL S.A.S.                                    \n",
       "5 899999115  EMPRESA DE TELECOMUNICACIONES DE BOGOTÃ\\201 S.A. ESP.\n",
       "6 900420122  VIRGIN MOBILE COLOMBIA S.A.S.                     \n",
       "7 901193332  NESH MOVIL S A S                                  \n",
       "  CANTIDAD_SUSCRIPTORES\n",
       "1 6388195.5            \n",
       "2 3661153.3            \n",
       "3 1435672.6            \n",
       "4  546536.6            \n",
       "5  157804.0            \n",
       "6       0.0            \n",
       "7       0.0            "
      ]
     },
     "metadata": {},
     "output_type": "display_data"
    },
    {
     "data": {
      "text/html": [
       "'Show sort desending in CANTIDAD_SUSCRIPTORES'"
      ],
      "text/latex": [
       "'Show sort desending in CANTIDAD\\_SUSCRIPTORES'"
      ],
      "text/markdown": [
       "'Show sort desending in CANTIDAD_SUSCRIPTORES'"
      ],
      "text/plain": [
       "[1] \"Show sort desending in CANTIDAD_SUSCRIPTORES\""
      ]
     },
     "metadata": {},
     "output_type": "display_data"
    },
    {
     "data": {
      "text/html": [
       "<table>\n",
       "<caption>A grouped_df: 7 × 3</caption>\n",
       "<thead>\n",
       "\t<tr><th scope=col>ID_EMPRESA</th><th scope=col>DESC_EMPRESA</th><th scope=col>CANTIDAD_SUSCRIPTORES</th></tr>\n",
       "\t<tr><th scope=col>&lt;int&gt;</th><th scope=col>&lt;fct&gt;</th><th scope=col>&lt;dbl&gt;</th></tr>\n",
       "</thead>\n",
       "<tbody>\n",
       "\t<tr><td>900420122</td><td>VIRGIN MOBILE COLOMBIA S.A.S.                     </td><td>      0.0</td></tr>\n",
       "\t<tr><td>901193332</td><td>NESH MOVIL S A S                                  </td><td>      0.0</td></tr>\n",
       "\t<tr><td>899999115</td><td>EMPRESA DE TELECOMUNICACIONES DE BOGOTÃ S.A. ESP.</td><td> 157804.0</td></tr>\n",
       "\t<tr><td>830016046</td><td>AVANTEL S.A.S.                                    </td><td> 546536.6</td></tr>\n",
       "\t<tr><td>830114921</td><td>COLOMBIA MOVIL S.A. E.S.P.                        </td><td>1435672.6</td></tr>\n",
       "\t<tr><td>830122566</td><td>COLOMBIA TELECOMUNICACIONES S.A. ESP              </td><td>3661153.3</td></tr>\n",
       "\t<tr><td>800153993</td><td>COMUNICACION CELULAR S A COMCEL S A               </td><td>6388195.5</td></tr>\n",
       "</tbody>\n",
       "</table>\n"
      ],
      "text/latex": [
       "A grouped\\_df: 7 × 3\n",
       "\\begin{tabular}{lll}\n",
       " ID\\_EMPRESA & DESC\\_EMPRESA & CANTIDAD\\_SUSCRIPTORES\\\\\n",
       " <int> & <fct> & <dbl>\\\\\n",
       "\\hline\n",
       "\t 900420122 & VIRGIN MOBILE COLOMBIA S.A.S.                      &       0.0\\\\\n",
       "\t 901193332 & NESH MOVIL S A S                                   &       0.0\\\\\n",
       "\t 899999115 & EMPRESA DE TELECOMUNICACIONES DE BOGOTÃ S.A. ESP. &  157804.0\\\\\n",
       "\t 830016046 & AVANTEL S.A.S.                                     &  546536.6\\\\\n",
       "\t 830114921 & COLOMBIA MOVIL S.A. E.S.P.                         & 1435672.6\\\\\n",
       "\t 830122566 & COLOMBIA TELECOMUNICACIONES S.A. ESP               & 3661153.3\\\\\n",
       "\t 800153993 & COMUNICACION CELULAR S A COMCEL S A                & 6388195.5\\\\\n",
       "\\end{tabular}\n"
      ],
      "text/markdown": [
       "\n",
       "A grouped_df: 7 × 3\n",
       "\n",
       "| ID_EMPRESA &lt;int&gt; | DESC_EMPRESA &lt;fct&gt; | CANTIDAD_SUSCRIPTORES &lt;dbl&gt; |\n",
       "|---|---|---|\n",
       "| 900420122 | VIRGIN MOBILE COLOMBIA S.A.S.                      |       0.0 |\n",
       "| 901193332 | NESH MOVIL S A S                                   |       0.0 |\n",
       "| 899999115 | EMPRESA DE TELECOMUNICACIONES DE BOGOTÃ S.A. ESP. |  157804.0 |\n",
       "| 830016046 | AVANTEL S.A.S.                                     |  546536.6 |\n",
       "| 830114921 | COLOMBIA MOVIL S.A. E.S.P.                         | 1435672.6 |\n",
       "| 830122566 | COLOMBIA TELECOMUNICACIONES S.A. ESP               | 3661153.3 |\n",
       "| 800153993 | COMUNICACION CELULAR S A COMCEL S A                | 6388195.5 |\n",
       "\n"
      ],
      "text/plain": [
       "  ID_EMPRESA DESC_EMPRESA                                      \n",
       "1 900420122  VIRGIN MOBILE COLOMBIA S.A.S.                     \n",
       "2 901193332  NESH MOVIL S A S                                  \n",
       "3 899999115  EMPRESA DE TELECOMUNICACIONES DE BOGOTÃ\\201 S.A. ESP.\n",
       "4 830016046  AVANTEL S.A.S.                                    \n",
       "5 830114921  COLOMBIA MOVIL S.A. E.S.P.                        \n",
       "6 830122566  COLOMBIA TELECOMUNICACIONES S.A. ESP              \n",
       "7 800153993  COMUNICACION CELULAR S A COMCEL S A               \n",
       "  CANTIDAD_SUSCRIPTORES\n",
       "1       0.0            \n",
       "2       0.0            \n",
       "3  157804.0            \n",
       "4  546536.6            \n",
       "5 1435672.6            \n",
       "6 3661153.3            \n",
       "7 6388195.5            "
      ]
     },
     "metadata": {},
     "output_type": "display_data"
    }
   ],
   "source": [
    "sprintf(\"Show head data\")\n",
    "head(df_subs_ether)\n",
    "\n",
    "sprintf(\"Filter data to only 2019\")\n",
    "df_subs_ether_2019<-subset(df_subs_ether, df_subs_ether$ANNO==2019)\n",
    "df_subs_ether_2019 <- df_subs_ether_2019[with(df_subs_ether_2019,order(DESC_EMPRESA)),]\n",
    "head(df_subs_ether_2019)\n",
    "\n",
    "library(dplyr)\n",
    "\n",
    "sprintf(\"Group by ID_EMPRESA, DESC_EMPRESA and month\")\n",
    "df_subs_ether_2019_grby_enterp_month <- df_subs_ether_2019 %>% group_by(ID_EMPRESA, DESC_EMPRESA, TRIMESTRE, MES_DEL_TRIMESTRE, QUANTITY) %>% summarise(CANTIDAD_SUSCRIPTORES = sum(CANTIDAD_SUSCRIPTORES))\n",
    "df_subs_ether_2019_grby_enterp_month <- df_subs_ether_2019_grby_enterp_month[with(df_subs_ether_2019_grby_enterp_month,order(-CANTIDAD_SUSCRIPTORES)),]\n",
    "\n",
    "# Set quantity for divide on next group by\n",
    "df_subs_ether_2019_grby_enterp_month$QUANTITY <- 1\n",
    "df_subs_ether_2019_grby_enterp_month\n",
    "\n",
    "\n",
    "sprintf(\"Group by ID_EMPRESA and DESC_EMPRESA\")\n",
    "df_subs_ether_2019_grby_enterp <- df_subs_ether_2019_grby_enterp_month %>% group_by(ID_EMPRESA, DESC_EMPRESA) %>% summarise(CANTIDAD_SUSCRIPTORES = sum(CANTIDAD_SUSCRIPTORES)/sum(QUANTITY))\n",
    "df_subs_ether_2019_grby_enterp_ascen <- df_subs_ether_2019_grby_enterp[with(df_subs_ether_2019_grby_enterp,order(-CANTIDAD_SUSCRIPTORES)),]\n",
    "\n",
    "sprintf(\"Show sort ascending in CANTIDAD_SUSCRIPTORES\")\n",
    "df_subs_ether_2019_grby_enterp_ascen\n",
    "\n",
    "df_subs_ether_2019_grby_enterp_descen <- df_subs_ether_2019_grby_enterp[with(df_subs_ether_2019_grby_enterp,order(CANTIDAD_SUSCRIPTORES)),]\n",
    "\n",
    "sprintf(\"Show sort desending in CANTIDAD_SUSCRIPTORES\")\n",
    "df_subs_ether_2019_grby_enterp_descen\n"
   ]
  },
  {
   "cell_type": "markdown",
   "metadata": {},
   "source": [
    "# Respuesta punto 3\n",
    "Se ha realizado la misma estrategia aplicada en los puntos 1 y 2 solo que filtrando para datos del año 2019, algo curioso es que para Virgin mobile y nesh no tienen información acerca de sus subscritores para el 2019 saliendo un NaN (no numerico).\n",
    "\n",
    "La empresa con mas suscriptores para el 2019 es **COMUNICACION CELULAR S A COMCEL S A** y la empresa con menos **AVANTEL S.A.S.**"
   ]
  },
  {
   "cell_type": "markdown",
   "metadata": {},
   "source": [
    "# Punto 4\n",
    "Seleccione una empresa y genere modelo descriptivo para el año 2019 sobre el atributo de cantidad\n",
    "de suscriptores"
   ]
  },
  {
   "cell_type": "code",
   "execution_count": 39,
   "metadata": {},
   "outputs": [
    {
     "data": {
      "text/html": [
       "'Show head data'"
      ],
      "text/latex": [
       "'Show head data'"
      ],
      "text/markdown": [
       "'Show head data'"
      ],
      "text/plain": [
       "[1] \"Show head data\""
      ]
     },
     "metadata": {},
     "output_type": "display_data"
    },
    {
     "data": {
      "text/html": [
       "<table>\n",
       "<caption>A data.frame: 6 × 13</caption>\n",
       "<thead>\n",
       "\t<tr><th></th><th scope=col>ANNO</th><th scope=col>TRIMESTRE</th><th scope=col>MES_DEL_TRIMESTRE</th><th scope=col>ID_SEGMENTO</th><th scope=col>DESC_SEGMENTO</th><th scope=col>ID_EMPRESA</th><th scope=col>DESC_EMPRESA</th><th scope=col>ID_TERMINAL</th><th scope=col>DESC_TERMINAL</th><th scope=col>ID_TECNOLOGIA</th><th scope=col>DESC_TECNOLOGIA</th><th scope=col>CANTIDAD_SUSCRIPTORES</th><th scope=col>QUANTITY</th></tr>\n",
       "\t<tr><th></th><th scope=col>&lt;int&gt;</th><th scope=col>&lt;dbl&gt;</th><th scope=col>&lt;dbl&gt;</th><th scope=col>&lt;int&gt;</th><th scope=col>&lt;fct&gt;</th><th scope=col>&lt;int&gt;</th><th scope=col>&lt;fct&gt;</th><th scope=col>&lt;int&gt;</th><th scope=col>&lt;fct&gt;</th><th scope=col>&lt;int&gt;</th><th scope=col>&lt;fct&gt;</th><th scope=col>&lt;dbl&gt;</th><th scope=col>&lt;dbl&gt;</th></tr>\n",
       "</thead>\n",
       "<tbody>\n",
       "\t<tr><th scope=row>1</th><td>2012</td><td>1</td><td>1</td><td>1</td><td>Personas</td><td>830122566</td><td>COLOMBIA TELECOMUNICACIONES S.A. ESP</td><td>1</td><td>TelÃ©fono MÃ³vil</td><td>1</td><td>2G</td><td> 50590</td><td>0</td></tr>\n",
       "\t<tr><th scope=row>2</th><td>2012</td><td>1</td><td>1</td><td>1</td><td>Personas</td><td>830122566</td><td>COLOMBIA TELECOMUNICACIONES S.A. ESP</td><td>1</td><td>TelÃ©fono MÃ³vil</td><td>2</td><td>3G</td><td>469844</td><td>0</td></tr>\n",
       "\t<tr><th scope=row>3</th><td>2012</td><td>1</td><td>1</td><td>1</td><td>Personas</td><td>830122566</td><td>COLOMBIA TELECOMUNICACIONES S.A. ESP</td><td>1</td><td>TelÃ©fono MÃ³vil</td><td>3</td><td>4G</td><td>     0</td><td>0</td></tr>\n",
       "\t<tr><th scope=row>4</th><td>2012</td><td>1</td><td>1</td><td>1</td><td>Personas</td><td>830122566</td><td>COLOMBIA TELECOMUNICACIONES S.A. ESP</td><td>2</td><td>Data Card       </td><td>1</td><td>2G</td><td>  2024</td><td>0</td></tr>\n",
       "\t<tr><th scope=row>5</th><td>2012</td><td>1</td><td>1</td><td>1</td><td>Personas</td><td>830122566</td><td>COLOMBIA TELECOMUNICACIONES S.A. ESP</td><td>2</td><td>Data Card       </td><td>2</td><td>3G</td><td> 25295</td><td>0</td></tr>\n",
       "\t<tr><th scope=row>6</th><td>2012</td><td>1</td><td>1</td><td>1</td><td>Personas</td><td>830122566</td><td>COLOMBIA TELECOMUNICACIONES S.A. ESP</td><td>2</td><td>Data Card       </td><td>3</td><td>4G</td><td>     0</td><td>0</td></tr>\n",
       "</tbody>\n",
       "</table>\n"
      ],
      "text/latex": [
       "A data.frame: 6 × 13\n",
       "\\begin{tabular}{r|lllllllllllll}\n",
       "  & ANNO & TRIMESTRE & MES\\_DEL\\_TRIMESTRE & ID\\_SEGMENTO & DESC\\_SEGMENTO & ID\\_EMPRESA & DESC\\_EMPRESA & ID\\_TERMINAL & DESC\\_TERMINAL & ID\\_TECNOLOGIA & DESC\\_TECNOLOGIA & CANTIDAD\\_SUSCRIPTORES & QUANTITY\\\\\n",
       "  & <int> & <dbl> & <dbl> & <int> & <fct> & <int> & <fct> & <int> & <fct> & <int> & <fct> & <dbl> & <dbl>\\\\\n",
       "\\hline\n",
       "\t1 & 2012 & 1 & 1 & 1 & Personas & 830122566 & COLOMBIA TELECOMUNICACIONES S.A. ESP & 1 & TelÃ©fono MÃ³vil & 1 & 2G &  50590 & 0\\\\\n",
       "\t2 & 2012 & 1 & 1 & 1 & Personas & 830122566 & COLOMBIA TELECOMUNICACIONES S.A. ESP & 1 & TelÃ©fono MÃ³vil & 2 & 3G & 469844 & 0\\\\\n",
       "\t3 & 2012 & 1 & 1 & 1 & Personas & 830122566 & COLOMBIA TELECOMUNICACIONES S.A. ESP & 1 & TelÃ©fono MÃ³vil & 3 & 4G &      0 & 0\\\\\n",
       "\t4 & 2012 & 1 & 1 & 1 & Personas & 830122566 & COLOMBIA TELECOMUNICACIONES S.A. ESP & 2 & Data Card        & 1 & 2G &   2024 & 0\\\\\n",
       "\t5 & 2012 & 1 & 1 & 1 & Personas & 830122566 & COLOMBIA TELECOMUNICACIONES S.A. ESP & 2 & Data Card        & 2 & 3G &  25295 & 0\\\\\n",
       "\t6 & 2012 & 1 & 1 & 1 & Personas & 830122566 & COLOMBIA TELECOMUNICACIONES S.A. ESP & 2 & Data Card        & 3 & 4G &      0 & 0\\\\\n",
       "\\end{tabular}\n"
      ],
      "text/markdown": [
       "\n",
       "A data.frame: 6 × 13\n",
       "\n",
       "| <!--/--> | ANNO &lt;int&gt; | TRIMESTRE &lt;dbl&gt; | MES_DEL_TRIMESTRE &lt;dbl&gt; | ID_SEGMENTO &lt;int&gt; | DESC_SEGMENTO &lt;fct&gt; | ID_EMPRESA &lt;int&gt; | DESC_EMPRESA &lt;fct&gt; | ID_TERMINAL &lt;int&gt; | DESC_TERMINAL &lt;fct&gt; | ID_TECNOLOGIA &lt;int&gt; | DESC_TECNOLOGIA &lt;fct&gt; | CANTIDAD_SUSCRIPTORES &lt;dbl&gt; | QUANTITY &lt;dbl&gt; |\n",
       "|---|---|---|---|---|---|---|---|---|---|---|---|---|---|\n",
       "| 1 | 2012 | 1 | 1 | 1 | Personas | 830122566 | COLOMBIA TELECOMUNICACIONES S.A. ESP | 1 | TelÃ©fono MÃ³vil | 1 | 2G |  50590 | 0 |\n",
       "| 2 | 2012 | 1 | 1 | 1 | Personas | 830122566 | COLOMBIA TELECOMUNICACIONES S.A. ESP | 1 | TelÃ©fono MÃ³vil | 2 | 3G | 469844 | 0 |\n",
       "| 3 | 2012 | 1 | 1 | 1 | Personas | 830122566 | COLOMBIA TELECOMUNICACIONES S.A. ESP | 1 | TelÃ©fono MÃ³vil | 3 | 4G |      0 | 0 |\n",
       "| 4 | 2012 | 1 | 1 | 1 | Personas | 830122566 | COLOMBIA TELECOMUNICACIONES S.A. ESP | 2 | Data Card        | 1 | 2G |   2024 | 0 |\n",
       "| 5 | 2012 | 1 | 1 | 1 | Personas | 830122566 | COLOMBIA TELECOMUNICACIONES S.A. ESP | 2 | Data Card        | 2 | 3G |  25295 | 0 |\n",
       "| 6 | 2012 | 1 | 1 | 1 | Personas | 830122566 | COLOMBIA TELECOMUNICACIONES S.A. ESP | 2 | Data Card        | 3 | 4G |      0 | 0 |\n",
       "\n"
      ],
      "text/plain": [
       "  ANNO TRIMESTRE MES_DEL_TRIMESTRE ID_SEGMENTO DESC_SEGMENTO ID_EMPRESA\n",
       "1 2012 1         1                 1           Personas      830122566 \n",
       "2 2012 1         1                 1           Personas      830122566 \n",
       "3 2012 1         1                 1           Personas      830122566 \n",
       "4 2012 1         1                 1           Personas      830122566 \n",
       "5 2012 1         1                 1           Personas      830122566 \n",
       "6 2012 1         1                 1           Personas      830122566 \n",
       "  DESC_EMPRESA                         ID_TERMINAL DESC_TERMINAL   \n",
       "1 COLOMBIA TELECOMUNICACIONES S.A. ESP 1           TelÃ©fono MÃ³vil\n",
       "2 COLOMBIA TELECOMUNICACIONES S.A. ESP 1           TelÃ©fono MÃ³vil\n",
       "3 COLOMBIA TELECOMUNICACIONES S.A. ESP 1           TelÃ©fono MÃ³vil\n",
       "4 COLOMBIA TELECOMUNICACIONES S.A. ESP 2           Data Card       \n",
       "5 COLOMBIA TELECOMUNICACIONES S.A. ESP 2           Data Card       \n",
       "6 COLOMBIA TELECOMUNICACIONES S.A. ESP 2           Data Card       \n",
       "  ID_TECNOLOGIA DESC_TECNOLOGIA CANTIDAD_SUSCRIPTORES QUANTITY\n",
       "1 1             2G               50590                0       \n",
       "2 2             3G              469844                0       \n",
       "3 3             4G                   0                0       \n",
       "4 1             2G                2024                0       \n",
       "5 2             3G               25295                0       \n",
       "6 3             4G                   0                0       "
      ]
     },
     "metadata": {},
     "output_type": "display_data"
    },
    {
     "data": {
      "text/html": [
       "'Filter data to only 2019'"
      ],
      "text/latex": [
       "'Filter data to only 2019'"
      ],
      "text/markdown": [
       "'Filter data to only 2019'"
      ],
      "text/plain": [
       "[1] \"Filter data to only 2019\""
      ]
     },
     "metadata": {},
     "output_type": "display_data"
    },
    {
     "data": {
      "text/html": [
       "'Filter data to ID_EMPRESA 800153993'"
      ],
      "text/latex": [
       "'Filter data to ID\\_EMPRESA 800153993'"
      ],
      "text/markdown": [
       "'Filter data to ID_EMPRESA 800153993'"
      ],
      "text/plain": [
       "[1] \"Filter data to ID_EMPRESA 800153993\""
      ]
     },
     "metadata": {},
     "output_type": "display_data"
    },
    {
     "data": {
      "text/html": [
       "'Calculate percentaje of subscriptors by tecnology'"
      ],
      "text/latex": [
       "'Calculate percentaje of subscriptors by tecnology'"
      ],
      "text/markdown": [
       "'Calculate percentaje of subscriptors by tecnology'"
      ],
      "text/plain": [
       "[1] \"Calculate percentaje of subscriptors by tecnology\""
      ]
     },
     "metadata": {},
     "output_type": "display_data"
    },
    {
     "data": {
      "text/html": [
       "'Percentage of subscriptors by tecnology for comcel'"
      ],
      "text/latex": [
       "'Percentage of subscriptors by tecnology for comcel'"
      ],
      "text/markdown": [
       "'Percentage of subscriptors by tecnology for comcel'"
      ],
      "text/plain": [
       "[1] \"Percentage of subscriptors by tecnology for comcel\""
      ]
     },
     "metadata": {},
     "output_type": "display_data"
    },
    {
     "data": {
      "text/html": [
       "<table>\n",
       "<caption>A tibble: 3 × 2</caption>\n",
       "<thead>\n",
       "\t<tr><th scope=col>DESC_TECNOLOGIA</th><th scope=col>CANTIDAD_SUSCRIPTORES</th></tr>\n",
       "\t<tr><th scope=col>&lt;fct&gt;</th><th scope=col>&lt;dbl&gt;</th></tr>\n",
       "</thead>\n",
       "<tbody>\n",
       "\t<tr><td>2G</td><td>  78892.06</td></tr>\n",
       "\t<tr><td>3G</td><td> 273751.19</td></tr>\n",
       "\t<tr><td>4G</td><td>1244405.62</td></tr>\n",
       "</tbody>\n",
       "</table>\n"
      ],
      "text/latex": [
       "A tibble: 3 × 2\n",
       "\\begin{tabular}{ll}\n",
       " DESC\\_TECNOLOGIA & CANTIDAD\\_SUSCRIPTORES\\\\\n",
       " <fct> & <dbl>\\\\\n",
       "\\hline\n",
       "\t 2G &   78892.06\\\\\n",
       "\t 3G &  273751.19\\\\\n",
       "\t 4G & 1244405.62\\\\\n",
       "\\end{tabular}\n"
      ],
      "text/markdown": [
       "\n",
       "A tibble: 3 × 2\n",
       "\n",
       "| DESC_TECNOLOGIA &lt;fct&gt; | CANTIDAD_SUSCRIPTORES &lt;dbl&gt; |\n",
       "|---|---|\n",
       "| 2G |   78892.06 |\n",
       "| 3G |  273751.19 |\n",
       "| 4G | 1244405.62 |\n",
       "\n"
      ],
      "text/plain": [
       "  DESC_TECNOLOGIA CANTIDAD_SUSCRIPTORES\n",
       "1 2G                78892.06           \n",
       "2 3G               273751.19           \n",
       "3 4G              1244405.62           "
      ]
     },
     "metadata": {},
     "output_type": "display_data"
    },
    {
     "data": {
      "text/html": [
       "'Calculate percentaje of subscriptors by trimester'"
      ],
      "text/latex": [
       "'Calculate percentaje of subscriptors by trimester'"
      ],
      "text/markdown": [
       "'Calculate percentaje of subscriptors by trimester'"
      ],
      "text/plain": [
       "[1] \"Calculate percentaje of subscriptors by trimester\""
      ]
     },
     "metadata": {},
     "output_type": "display_data"
    },
    {
     "data": {
      "text/html": [
       "'Percentaje of subscriptors by trimester'"
      ],
      "text/latex": [
       "'Percentaje of subscriptors by trimester'"
      ],
      "text/markdown": [
       "'Percentaje of subscriptors by trimester'"
      ],
      "text/plain": [
       "[1] \"Percentaje of subscriptors by trimester\""
      ]
     },
     "metadata": {},
     "output_type": "display_data"
    },
    {
     "data": {
      "text/html": [
       "<table>\n",
       "<caption>A grouped_df: 12 × 3</caption>\n",
       "<thead>\n",
       "\t<tr><th scope=col>TRIMESTRE</th><th scope=col>MES_DEL_TRIMESTRE</th><th scope=col>CANTIDAD_SUSCRIPTORES</th></tr>\n",
       "\t<tr><th scope=col>&lt;dbl&gt;</th><th scope=col>&lt;dbl&gt;</th><th scope=col>&lt;dbl&gt;</th></tr>\n",
       "</thead>\n",
       "<tbody>\n",
       "\t<tr><td>1</td><td>1</td><td>0.07988242</td></tr>\n",
       "\t<tr><td>1</td><td>2</td><td>0.08003932</td></tr>\n",
       "\t<tr><td>1</td><td>3</td><td>0.08077785</td></tr>\n",
       "\t<tr><td>2</td><td>1</td><td>0.08121253</td></tr>\n",
       "\t<tr><td>2</td><td>2</td><td>0.08228706</td></tr>\n",
       "\t<tr><td>2</td><td>3</td><td>0.08278176</td></tr>\n",
       "\t<tr><td>3</td><td>1</td><td>0.08377152</td></tr>\n",
       "\t<tr><td>3</td><td>2</td><td>0.08452272</td></tr>\n",
       "\t<tr><td>3</td><td>3</td><td>0.08532270</td></tr>\n",
       "\t<tr><td>4</td><td>1</td><td>0.08606773</td></tr>\n",
       "\t<tr><td>4</td><td>2</td><td>0.08634702</td></tr>\n",
       "\t<tr><td>4</td><td>3</td><td>0.08698737</td></tr>\n",
       "</tbody>\n",
       "</table>\n"
      ],
      "text/latex": [
       "A grouped\\_df: 12 × 3\n",
       "\\begin{tabular}{lll}\n",
       " TRIMESTRE & MES\\_DEL\\_TRIMESTRE & CANTIDAD\\_SUSCRIPTORES\\\\\n",
       " <dbl> & <dbl> & <dbl>\\\\\n",
       "\\hline\n",
       "\t 1 & 1 & 0.07988242\\\\\n",
       "\t 1 & 2 & 0.08003932\\\\\n",
       "\t 1 & 3 & 0.08077785\\\\\n",
       "\t 2 & 1 & 0.08121253\\\\\n",
       "\t 2 & 2 & 0.08228706\\\\\n",
       "\t 2 & 3 & 0.08278176\\\\\n",
       "\t 3 & 1 & 0.08377152\\\\\n",
       "\t 3 & 2 & 0.08452272\\\\\n",
       "\t 3 & 3 & 0.08532270\\\\\n",
       "\t 4 & 1 & 0.08606773\\\\\n",
       "\t 4 & 2 & 0.08634702\\\\\n",
       "\t 4 & 3 & 0.08698737\\\\\n",
       "\\end{tabular}\n"
      ],
      "text/markdown": [
       "\n",
       "A grouped_df: 12 × 3\n",
       "\n",
       "| TRIMESTRE &lt;dbl&gt; | MES_DEL_TRIMESTRE &lt;dbl&gt; | CANTIDAD_SUSCRIPTORES &lt;dbl&gt; |\n",
       "|---|---|---|\n",
       "| 1 | 1 | 0.07988242 |\n",
       "| 1 | 2 | 0.08003932 |\n",
       "| 1 | 3 | 0.08077785 |\n",
       "| 2 | 1 | 0.08121253 |\n",
       "| 2 | 2 | 0.08228706 |\n",
       "| 2 | 3 | 0.08278176 |\n",
       "| 3 | 1 | 0.08377152 |\n",
       "| 3 | 2 | 0.08452272 |\n",
       "| 3 | 3 | 0.08532270 |\n",
       "| 4 | 1 | 0.08606773 |\n",
       "| 4 | 2 | 0.08634702 |\n",
       "| 4 | 3 | 0.08698737 |\n",
       "\n"
      ],
      "text/plain": [
       "   TRIMESTRE MES_DEL_TRIMESTRE CANTIDAD_SUSCRIPTORES\n",
       "1  1         1                 0.07988242           \n",
       "2  1         2                 0.08003932           \n",
       "3  1         3                 0.08077785           \n",
       "4  2         1                 0.08121253           \n",
       "5  2         2                 0.08228706           \n",
       "6  2         3                 0.08278176           \n",
       "7  3         1                 0.08377152           \n",
       "8  3         2                 0.08452272           \n",
       "9  3         3                 0.08532270           \n",
       "10 4         1                 0.08606773           \n",
       "11 4         2                 0.08634702           \n",
       "12 4         3                 0.08698737           "
      ]
     },
     "metadata": {},
     "output_type": "display_data"
    },
    {
     "data": {
      "text/html": [
       "'Calculate percentaje of subscriptors by terminal for comcel'"
      ],
      "text/latex": [
       "'Calculate percentaje of subscriptors by terminal for comcel'"
      ],
      "text/markdown": [
       "'Calculate percentaje of subscriptors by terminal for comcel'"
      ],
      "text/plain": [
       "[1] \"Calculate percentaje of subscriptors by terminal for comcel\""
      ]
     },
     "metadata": {},
     "output_type": "display_data"
    },
    {
     "data": {
      "text/html": [
       "'Subscriptors on age 2019 for comcel by tec'"
      ],
      "text/latex": [
       "'Subscriptors on age 2019 for comcel by tec'"
      ],
      "text/markdown": [
       "'Subscriptors on age 2019 for comcel by tec'"
      ],
      "text/plain": [
       "[1] \"Subscriptors on age 2019 for comcel by tec\""
      ]
     },
     "metadata": {},
     "output_type": "display_data"
    },
    {
     "data": {
      "text/html": [
       "3194097.75"
      ],
      "text/latex": [
       "3194097.75"
      ],
      "text/markdown": [
       "3194097.75"
      ],
      "text/plain": [
       "[1] 3194098"
      ]
     },
     "metadata": {},
     "output_type": "display_data"
    },
    {
     "data": {
      "text/html": [
       "'Percentage of subscriptors by terminal for comcel'"
      ],
      "text/latex": [
       "'Percentage of subscriptors by terminal for comcel'"
      ],
      "text/markdown": [
       "'Percentage of subscriptors by terminal for comcel'"
      ],
      "text/plain": [
       "[1] \"Percentage of subscriptors by terminal for comcel\""
      ]
     },
     "metadata": {},
     "output_type": "display_data"
    },
    {
     "data": {
      "text/html": [
       "<table>\n",
       "<caption>A grouped_df: 6 × 3</caption>\n",
       "<thead>\n",
       "\t<tr><th scope=col>DESC_TECNOLOGIA</th><th scope=col>DESC_TERMINAL</th><th scope=col>CANTIDAD_SUSCRIPTORES</th></tr>\n",
       "\t<tr><th scope=col>&lt;fct&gt;</th><th scope=col>&lt;fct&gt;</th><th scope=col>&lt;dbl&gt;</th></tr>\n",
       "</thead>\n",
       "<tbody>\n",
       "\t<tr><td>2G</td><td>Data Card       </td><td>0.023265112</td></tr>\n",
       "\t<tr><td>2G</td><td>TelÃ©fono mÃ³vil</td><td>0.026133541</td></tr>\n",
       "\t<tr><td>3G</td><td>Data Card       </td><td>0.011976765</td></tr>\n",
       "\t<tr><td>3G</td><td>TelÃ©fono mÃ³vil</td><td>0.159433886</td></tr>\n",
       "\t<tr><td>4G</td><td>Data Card       </td><td>0.002687235</td></tr>\n",
       "\t<tr><td>4G</td><td>TelÃ©fono mÃ³vil</td><td>0.776503461</td></tr>\n",
       "</tbody>\n",
       "</table>\n"
      ],
      "text/latex": [
       "A grouped\\_df: 6 × 3\n",
       "\\begin{tabular}{lll}\n",
       " DESC\\_TECNOLOGIA & DESC\\_TERMINAL & CANTIDAD\\_SUSCRIPTORES\\\\\n",
       " <fct> & <fct> & <dbl>\\\\\n",
       "\\hline\n",
       "\t 2G & Data Card        & 0.023265112\\\\\n",
       "\t 2G & TelÃ©fono mÃ³vil & 0.026133541\\\\\n",
       "\t 3G & Data Card        & 0.011976765\\\\\n",
       "\t 3G & TelÃ©fono mÃ³vil & 0.159433886\\\\\n",
       "\t 4G & Data Card        & 0.002687235\\\\\n",
       "\t 4G & TelÃ©fono mÃ³vil & 0.776503461\\\\\n",
       "\\end{tabular}\n"
      ],
      "text/markdown": [
       "\n",
       "A grouped_df: 6 × 3\n",
       "\n",
       "| DESC_TECNOLOGIA &lt;fct&gt; | DESC_TERMINAL &lt;fct&gt; | CANTIDAD_SUSCRIPTORES &lt;dbl&gt; |\n",
       "|---|---|---|\n",
       "| 2G | Data Card        | 0.023265112 |\n",
       "| 2G | TelÃ©fono mÃ³vil | 0.026133541 |\n",
       "| 3G | Data Card        | 0.011976765 |\n",
       "| 3G | TelÃ©fono mÃ³vil | 0.159433886 |\n",
       "| 4G | Data Card        | 0.002687235 |\n",
       "| 4G | TelÃ©fono mÃ³vil | 0.776503461 |\n",
       "\n"
      ],
      "text/plain": [
       "  DESC_TECNOLOGIA DESC_TERMINAL    CANTIDAD_SUSCRIPTORES\n",
       "1 2G              Data Card        0.023265112          \n",
       "2 2G              TelÃ©fono mÃ³vil 0.026133541          \n",
       "3 3G              Data Card        0.011976765          \n",
       "4 3G              TelÃ©fono mÃ³vil 0.159433886          \n",
       "5 4G              Data Card        0.002687235          \n",
       "6 4G              TelÃ©fono mÃ³vil 0.776503461          "
      ]
     },
     "metadata": {},
     "output_type": "display_data"
    },
    {
     "data": {
      "text/html": [
       "'Calculate percentaje of subscriptors by segment for comcel'"
      ],
      "text/latex": [
       "'Calculate percentaje of subscriptors by segment for comcel'"
      ],
      "text/markdown": [
       "'Calculate percentaje of subscriptors by segment for comcel'"
      ],
      "text/plain": [
       "[1] \"Calculate percentaje of subscriptors by segment for comcel\""
      ]
     },
     "metadata": {},
     "output_type": "display_data"
    },
    {
     "data": {
      "text/html": [
       "'Subscriptors on age 2019 for comcel by segment'"
      ],
      "text/latex": [
       "'Subscriptors on age 2019 for comcel by segment'"
      ],
      "text/markdown": [
       "'Subscriptors on age 2019 for comcel by segment'"
      ],
      "text/plain": [
       "[1] \"Subscriptors on age 2019 for comcel by segment\""
      ]
     },
     "metadata": {},
     "output_type": "display_data"
    },
    {
     "data": {
      "text/html": [
       "1064699.25"
      ],
      "text/latex": [
       "1064699.25"
      ],
      "text/markdown": [
       "1064699.25"
      ],
      "text/plain": [
       "[1] 1064699"
      ]
     },
     "metadata": {},
     "output_type": "display_data"
    },
    {
     "data": {
      "text/html": [
       "'Percentage of subscriptors by terminal for comcel'"
      ],
      "text/latex": [
       "'Percentage of subscriptors by terminal for comcel'"
      ],
      "text/markdown": [
       "'Percentage of subscriptors by terminal for comcel'"
      ],
      "text/plain": [
       "[1] \"Percentage of subscriptors by terminal for comcel\""
      ]
     },
     "metadata": {},
     "output_type": "display_data"
    },
    {
     "data": {
      "text/html": [
       "<table>\n",
       "<caption>A tibble: 2 × 2</caption>\n",
       "<thead>\n",
       "\t<tr><th scope=col>DESC_SEGMENTO</th><th scope=col>CANTIDAD_SUSCRIPTORES</th></tr>\n",
       "\t<tr><th scope=col>&lt;fct&gt;</th><th scope=col>&lt;dbl&gt;</th></tr>\n",
       "</thead>\n",
       "<tbody>\n",
       "\t<tr><td>Empresas</td><td>0.1612705</td></tr>\n",
       "\t<tr><td>Personas</td><td>0.8387295</td></tr>\n",
       "</tbody>\n",
       "</table>\n"
      ],
      "text/latex": [
       "A tibble: 2 × 2\n",
       "\\begin{tabular}{ll}\n",
       " DESC\\_SEGMENTO & CANTIDAD\\_SUSCRIPTORES\\\\\n",
       " <fct> & <dbl>\\\\\n",
       "\\hline\n",
       "\t Empresas & 0.1612705\\\\\n",
       "\t Personas & 0.8387295\\\\\n",
       "\\end{tabular}\n"
      ],
      "text/markdown": [
       "\n",
       "A tibble: 2 × 2\n",
       "\n",
       "| DESC_SEGMENTO &lt;fct&gt; | CANTIDAD_SUSCRIPTORES &lt;dbl&gt; |\n",
       "|---|---|\n",
       "| Empresas | 0.1612705 |\n",
       "| Personas | 0.8387295 |\n",
       "\n"
      ],
      "text/plain": [
       "  DESC_SEGMENTO CANTIDAD_SUSCRIPTORES\n",
       "1 Empresas      0.1612705            \n",
       "2 Personas      0.8387295            "
      ]
     },
     "metadata": {},
     "output_type": "display_data"
    },
    {
     "data": {
      "text/html": [
       "'##### Data for descriptive analisis #####'"
      ],
      "text/latex": [
       "'\\#\\#\\#\\#\\# Data for descriptive analisis \\#\\#\\#\\#\\#'"
      ],
      "text/markdown": [
       "'##### Data for descriptive analisis #####'"
      ],
      "text/plain": [
       "[1] \"##### Data for descriptive analisis #####\""
      ]
     },
     "metadata": {},
     "output_type": "display_data"
    },
    {
     "name": "stderr",
     "output_type": "stream",
     "text": [
      "Warning message:\n",
      "\"Unknown or uninitialised column: 'MONTH_NUM'.\"\n"
     ]
    },
    {
     "data": {
      "text/html": [
       "<table>\n",
       "<caption>A grouped_df: 12 × 5</caption>\n",
       "<thead>\n",
       "\t<tr><th scope=col>TRIMESTRE</th><th scope=col>MES_DEL_TRIMESTRE</th><th scope=col>CANTIDAD_SUSCRIPTORES</th><th scope=col>QUANTITY</th><th scope=col>MONTH_NUM</th></tr>\n",
       "\t<tr><th scope=col>&lt;dbl&gt;</th><th scope=col>&lt;dbl&gt;</th><th scope=col>&lt;dbl&gt;</th><th scope=col>&lt;dbl&gt;</th><th scope=col>&lt;dbl&gt;</th></tr>\n",
       "</thead>\n",
       "<tbody>\n",
       "\t<tr><td>1</td><td>1</td><td>510304.5</td><td>1</td><td> 1</td></tr>\n",
       "\t<tr><td>1</td><td>2</td><td>511306.8</td><td>1</td><td> 2</td></tr>\n",
       "\t<tr><td>1</td><td>3</td><td>516024.7</td><td>1</td><td> 3</td></tr>\n",
       "\t<tr><td>2</td><td>1</td><td>518801.5</td><td>1</td><td> 4</td></tr>\n",
       "\t<tr><td>2</td><td>2</td><td>525665.8</td><td>1</td><td> 5</td></tr>\n",
       "\t<tr><td>2</td><td>3</td><td>528826.1</td><td>1</td><td> 6</td></tr>\n",
       "\t<tr><td>3</td><td>1</td><td>535148.8</td><td>1</td><td> 7</td></tr>\n",
       "\t<tr><td>3</td><td>2</td><td>539947.7</td><td>1</td><td> 8</td></tr>\n",
       "\t<tr><td>3</td><td>3</td><td>545058.1</td><td>1</td><td> 9</td></tr>\n",
       "\t<tr><td>4</td><td>1</td><td>549817.5</td><td>1</td><td>10</td></tr>\n",
       "\t<tr><td>4</td><td>2</td><td>551601.7</td><td>1</td><td>11</td></tr>\n",
       "\t<tr><td>4</td><td>3</td><td>555692.3</td><td>1</td><td>12</td></tr>\n",
       "</tbody>\n",
       "</table>\n"
      ],
      "text/latex": [
       "A grouped\\_df: 12 × 5\n",
       "\\begin{tabular}{lllll}\n",
       " TRIMESTRE & MES\\_DEL\\_TRIMESTRE & CANTIDAD\\_SUSCRIPTORES & QUANTITY & MONTH\\_NUM\\\\\n",
       " <dbl> & <dbl> & <dbl> & <dbl> & <dbl>\\\\\n",
       "\\hline\n",
       "\t 1 & 1 & 510304.5 & 1 &  1\\\\\n",
       "\t 1 & 2 & 511306.8 & 1 &  2\\\\\n",
       "\t 1 & 3 & 516024.7 & 1 &  3\\\\\n",
       "\t 2 & 1 & 518801.5 & 1 &  4\\\\\n",
       "\t 2 & 2 & 525665.8 & 1 &  5\\\\\n",
       "\t 2 & 3 & 528826.1 & 1 &  6\\\\\n",
       "\t 3 & 1 & 535148.8 & 1 &  7\\\\\n",
       "\t 3 & 2 & 539947.7 & 1 &  8\\\\\n",
       "\t 3 & 3 & 545058.1 & 1 &  9\\\\\n",
       "\t 4 & 1 & 549817.5 & 1 & 10\\\\\n",
       "\t 4 & 2 & 551601.7 & 1 & 11\\\\\n",
       "\t 4 & 3 & 555692.3 & 1 & 12\\\\\n",
       "\\end{tabular}\n"
      ],
      "text/markdown": [
       "\n",
       "A grouped_df: 12 × 5\n",
       "\n",
       "| TRIMESTRE &lt;dbl&gt; | MES_DEL_TRIMESTRE &lt;dbl&gt; | CANTIDAD_SUSCRIPTORES &lt;dbl&gt; | QUANTITY &lt;dbl&gt; | MONTH_NUM &lt;dbl&gt; |\n",
       "|---|---|---|---|---|\n",
       "| 1 | 1 | 510304.5 | 1 |  1 |\n",
       "| 1 | 2 | 511306.8 | 1 |  2 |\n",
       "| 1 | 3 | 516024.7 | 1 |  3 |\n",
       "| 2 | 1 | 518801.5 | 1 |  4 |\n",
       "| 2 | 2 | 525665.8 | 1 |  5 |\n",
       "| 2 | 3 | 528826.1 | 1 |  6 |\n",
       "| 3 | 1 | 535148.8 | 1 |  7 |\n",
       "| 3 | 2 | 539947.7 | 1 |  8 |\n",
       "| 3 | 3 | 545058.1 | 1 |  9 |\n",
       "| 4 | 1 | 549817.5 | 1 | 10 |\n",
       "| 4 | 2 | 551601.7 | 1 | 11 |\n",
       "| 4 | 3 | 555692.3 | 1 | 12 |\n",
       "\n"
      ],
      "text/plain": [
       "   TRIMESTRE MES_DEL_TRIMESTRE CANTIDAD_SUSCRIPTORES QUANTITY MONTH_NUM\n",
       "1  1         1                 510304.5              1         1       \n",
       "2  1         2                 511306.8              1         2       \n",
       "3  1         3                 516024.7              1         3       \n",
       "4  2         1                 518801.5              1         4       \n",
       "5  2         2                 525665.8              1         5       \n",
       "6  2         3                 528826.1              1         6       \n",
       "7  3         1                 535148.8              1         7       \n",
       "8  3         2                 539947.7              1         8       \n",
       "9  3         3                 545058.1              1         9       \n",
       "10 4         1                 549817.5              1        10       \n",
       "11 4         2                 551601.7              1        11       \n",
       "12 4         3                 555692.3              1        12       "
      ]
     },
     "metadata": {},
     "output_type": "display_data"
    },
    {
     "data": {
      "text/html": [
       "'Subscriptors on age 2019 for comcel by month (mean)'"
      ],
      "text/latex": [
       "'Subscriptors on age 2019 for comcel by month (mean)'"
      ],
      "text/markdown": [
       "'Subscriptors on age 2019 for comcel by month (mean)'"
      ],
      "text/plain": [
       "[1] \"Subscriptors on age 2019 for comcel by month (mean)\""
      ]
     },
     "metadata": {},
     "output_type": "display_data"
    },
    {
     "data": {
      "text/html": [
       "532349.625"
      ],
      "text/latex": [
       "532349.625"
      ],
      "text/markdown": [
       "532349.625"
      ],
      "text/plain": [
       "[1] 532349.6"
      ]
     },
     "metadata": {},
     "output_type": "display_data"
    },
    {
     "data": {
      "text/html": [
       "'Number of months'"
      ],
      "text/latex": [
       "'Number of months'"
      ],
      "text/markdown": [
       "'Number of months'"
      ],
      "text/plain": [
       "[1] \"Number of months\""
      ]
     },
     "metadata": {},
     "output_type": "display_data"
    },
    {
     "data": {
      "text/html": [
       "12"
      ],
      "text/latex": [
       "12"
      ],
      "text/markdown": [
       "12"
      ],
      "text/plain": [
       "[1] 12"
      ]
     },
     "metadata": {},
     "output_type": "display_data"
    },
    {
     "data": {
      "text/html": [
       "'Standar desviation'"
      ],
      "text/latex": [
       "'Standar desviation'"
      ],
      "text/markdown": [
       "'Standar desviation'"
      ],
      "text/plain": [
       "[1] \"Standar desviation\""
      ]
     },
     "metadata": {},
     "output_type": "display_data"
    },
    {
     "data": {
      "text/html": [
       "16191.0511345868"
      ],
      "text/latex": [
       "16191.0511345868"
      ],
      "text/markdown": [
       "16191.0511345868"
      ],
      "text/plain": [
       "[1] 16191.05"
      ]
     },
     "metadata": {},
     "output_type": "display_data"
    },
    {
     "data": {
      "text/html": [
       "'Plot month vs month_data'"
      ],
      "text/latex": [
       "'Plot month vs month\\_data'"
      ],
      "text/markdown": [
       "'Plot month vs month_data'"
      ],
      "text/plain": [
       "[1] \"Plot month vs month_data\""
      ]
     },
     "metadata": {},
     "output_type": "display_data"
    },
    {
     "data": {
      "image/png": "[encoded data removed]",
      "text/plain": [
       "plot without title"
      ]
     },
     "metadata": {
      "image/png": {
       "height": 420,
       "width": 420
      },
      "text/plain": {
       "height": 420,
       "width": 420
      }
     },
     "output_type": "display_data"
    }
   ],
   "source": [
    "sprintf(\"Show head data\")\n",
    "head(df_subs_ether)\n",
    "# COMUNICACION CELULAR S A COMCEL S A\n",
    "sprintf(\"Filter data to only 2019\")\n",
    "df_subs_ether_2019 <- subset(df_subs_ether, df_subs_ether$ANNO==2019)\n",
    "\n",
    "sprintf(\"Filter data to ID_EMPRESA 800153993\")\n",
    "df_subs_ether_2019_comcel <- subset(df_subs_ether_2019, df_subs_ether_2019$ID_EMPRESA==800153993)\n",
    "#df_subs_ether_2019_comcel <- df_subs_ether_2019_comcel[with(df_subs_ether_2019_comcel,order(DESC_EMPRESA)),]\n",
    "# , head(df_subs_ether_2019_comcel)\n",
    "\n",
    "library(dplyr)\n",
    "\n",
    "sprintf(\"Calculate percentaje of subscriptors by tecnology\")\n",
    "df_subs_ether_2019_comcel_tec_month <- df_subs_ether_2019_comcel %>% group_by(DESC_TECNOLOGIA, DESC_TERMINAL, TRIMESTRE, MES_DEL_TRIMESTRE, DESC_SEGMENTO) %>% summarise(CANTIDAD_SUSCRIPTORES = sum(CANTIDAD_SUSCRIPTORES))\n",
    "# head(df_subs_ether_2019_comcel_tec_month)\n",
    "\n",
    "# Set quantity for divide on next group by\n",
    "df_subs_ether_2019_comcel_tec_month$QUANTITY <- 1\n",
    "\n",
    "df_subs_ether_2019_comcel_tec_grouped <- df_subs_ether_2019_comcel_tec_month %>% group_by(DESC_TECNOLOGIA) %>% summarise(CANTIDAD_SUSCRIPTORES = sum(CANTIDAD_SUSCRIPTORES)/sum(QUANTITY))\n",
    "# df_subs_ether_2019_comcel_tec_grouped\n",
    "\n",
    "df_subs_ether_2019_comcel_tec_per<-df_subs_ether_2019_comcel_tec_grouped\n",
    "\n",
    "total_sub_trim_per <- sum(df_subs_ether_2019_comcel_trim_per$CANTIDAD_SUSCRIPTORES)\n",
    "\n",
    "df_subs_ether_2019_comcel_tec_per$CANTIDAD_SUSCRIPTORES <- df_subs_ether_2019_comcel_tec_per$CANTIDAD_SUSCRIPTORES/total_sub_trim_per \n",
    "\n",
    "sprintf(\"Percentage of subscriptors by tecnology for comcel\")\n",
    "df_subs_ether_2019_comcel_tec_per\n",
    "\n",
    "sprintf(\"Calculate percentaje of subscriptors by trimester\")\n",
    "\n",
    "df_subs_ether_2019_comcel_trim_per <- df_subs_ether_2019_comcel_tec_month %>% group_by(TRIMESTRE, MES_DEL_TRIMESTRE) %>% summarise(CANTIDAD_SUSCRIPTORES = sum(CANTIDAD_SUSCRIPTORES)/sum(QUANTITY))\n",
    "\n",
    "total_sub_trim_per <- sum(df_subs_ether_2019_comcel_trim_per$CANTIDAD_SUSCRIPTORES)\n",
    "\n",
    "df_subs_ether_2019_comcel_trim_per$CANTIDAD_SUSCRIPTORES <- df_subs_ether_2019_comcel_trim_per$CANTIDAD_SUSCRIPTORES/total_sub_trim_per\n",
    "\n",
    "sprintf(\"Percentaje of subscriptors by trimester\")\n",
    "df_subs_ether_2019_comcel_trim_per\n",
    "\n",
    "sprintf(\"Calculate percentaje of subscriptors by terminal for comcel\")\n",
    "df_subs_ether_2019_comcel_tec_term_grouped <- df_subs_ether_2019_comcel_tec_month %>% group_by(DESC_TECNOLOGIA, DESC_TERMINAL) %>% summarise(CANTIDAD_SUSCRIPTORES = sum(CANTIDAD_SUSCRIPTORES)/sum(QUANTITY))\n",
    "\n",
    "total_sub_term <- sum(df_subs_ether_2019_comcel_tec_term_grouped$CANTIDAD_SUSCRIPTORES)\n",
    "\n",
    "sprintf(\"Subscriptors on age 2019 for comcel by tec\")\n",
    "total_sub_term\n",
    "\n",
    "df_subs_ether_2019_comcel_term_per<-df_subs_ether_2019_comcel_tec_term_grouped\n",
    "\n",
    "df_subs_ether_2019_comcel_term_per$CANTIDAD_SUSCRIPTORES <- df_subs_ether_2019_comcel_term_per$CANTIDAD_SUSCRIPTORES/total_sub_term\n",
    "\n",
    "sprintf(\"Percentage of subscriptors by terminal for comcel\")\n",
    "df_subs_ether_2019_comcel_term_per\n",
    "\n",
    "####\n",
    "sprintf(\"Calculate percentaje of subscriptors by segment for comcel\")\n",
    "df_subs_ether_2019_comcel_segment_grouped <- df_subs_ether_2019_comcel_tec_month %>% group_by(DESC_SEGMENTO) %>% summarise(CANTIDAD_SUSCRIPTORES = sum(CANTIDAD_SUSCRIPTORES)/sum(QUANTITY))\n",
    "\n",
    "total_sub_segment <- sum(df_subs_ether_2019_comcel_segment_grouped$CANTIDAD_SUSCRIPTORES)\n",
    "\n",
    "sprintf(\"Subscriptors on age 2019 for comcel by segment\")\n",
    "total_sub_segment\n",
    "\n",
    "df_subs_ether_2019_comcel_segment_per<-df_subs_ether_2019_comcel_segment_grouped\n",
    "\n",
    "df_subs_ether_2019_comcel_segment_per$CANTIDAD_SUSCRIPTORES <- df_subs_ether_2019_comcel_segment_per$CANTIDAD_SUSCRIPTORES/total_sub_segment\n",
    "\n",
    "sprintf(\"Percentage of subscriptors by terminal for comcel\")\n",
    "df_subs_ether_2019_comcel_segment_per\n",
    "\n",
    "\n",
    "##############################\n",
    "\n",
    "## Caja de bigotes\n",
    "# media, moda, caja de bigotes, histogram frequency\n",
    "sprintf(\"##### Data for descriptive analisis #####\")\n",
    "df_subs_ether_2019_comcel_months <- df_subs_ether_2019_comcel_tec_month %>% group_by(TRIMESTRE, MES_DEL_TRIMESTRE) %>% summarise(CANTIDAD_SUSCRIPTORES = sum(CANTIDAD_SUSCRIPTORES)/sum(QUANTITY))\n",
    "\n",
    "df_subs_ether_2019_comcel_months$QUANTITY <- 1\n",
    "\n",
    "# TRIMESTRE, MES_DEL_TRIMESTRE\n",
    "df_subs_ether_2019_comcel_months$MONTH_NUM[df_subs_ether_2019_comcel_months$TRIMESTRE==1 & df_subs_ether_2019_comcel_months$MES_DEL_TRIMESTRE==1] <- 1\n",
    "df_subs_ether_2019_comcel_months$MONTH_NUM[df_subs_ether_2019_comcel_months$TRIMESTRE==1 & df_subs_ether_2019_comcel_months$MES_DEL_TRIMESTRE==2] <- 2\n",
    "df_subs_ether_2019_comcel_months$MONTH_NUM[df_subs_ether_2019_comcel_months$TRIMESTRE==1 & df_subs_ether_2019_comcel_months$MES_DEL_TRIMESTRE==3] <- 3\n",
    "df_subs_ether_2019_comcel_months$MONTH_NUM[df_subs_ether_2019_comcel_months$TRIMESTRE==2 & df_subs_ether_2019_comcel_months$MES_DEL_TRIMESTRE==1] <- 4\n",
    "df_subs_ether_2019_comcel_months$MONTH_NUM[df_subs_ether_2019_comcel_months$TRIMESTRE==2 & df_subs_ether_2019_comcel_months$MES_DEL_TRIMESTRE==2] <- 5\n",
    "df_subs_ether_2019_comcel_months$MONTH_NUM[df_subs_ether_2019_comcel_months$TRIMESTRE==2 & df_subs_ether_2019_comcel_months$MES_DEL_TRIMESTRE==3] <- 6\n",
    "df_subs_ether_2019_comcel_months$MONTH_NUM[df_subs_ether_2019_comcel_months$TRIMESTRE==3 & df_subs_ether_2019_comcel_months$MES_DEL_TRIMESTRE==1] <- 7\n",
    "df_subs_ether_2019_comcel_months$MONTH_NUM[df_subs_ether_2019_comcel_months$TRIMESTRE==3 & df_subs_ether_2019_comcel_months$MES_DEL_TRIMESTRE==2] <- 8\n",
    "df_subs_ether_2019_comcel_months$MONTH_NUM[df_subs_ether_2019_comcel_months$TRIMESTRE==3 & df_subs_ether_2019_comcel_months$MES_DEL_TRIMESTRE==3] <- 9\n",
    "df_subs_ether_2019_comcel_months$MONTH_NUM[df_subs_ether_2019_comcel_months$TRIMESTRE==4 & df_subs_ether_2019_comcel_months$MES_DEL_TRIMESTRE==1] <- 10\n",
    "df_subs_ether_2019_comcel_months$MONTH_NUM[df_subs_ether_2019_comcel_months$TRIMESTRE==4 & df_subs_ether_2019_comcel_months$MES_DEL_TRIMESTRE==2] <- 11\n",
    "df_subs_ether_2019_comcel_months$MONTH_NUM[df_subs_ether_2019_comcel_months$TRIMESTRE==4 & df_subs_ether_2019_comcel_months$MES_DEL_TRIMESTRE==3] <- 12\n",
    "\n",
    "df_subs_ether_2019_comcel_months\n",
    "\n",
    "sprintf(\"Subscriptors on age 2019 for comcel by month (mean)\")\n",
    "mean_subs <- mean(df_subs_ether_2019_comcel_months$CANTIDAD_SUSCRIPTORES)\n",
    "mean_subs\n",
    "\n",
    "sprintf(\"Number of months\")\n",
    "number_of_months <- sum(df_subs_ether_2019_comcel_months$QUANTITY)\n",
    "number_of_months\n",
    "\n",
    "sprintf(\"Standar desviation\")\n",
    "sd_subs <- sd(df_subs_ether_2019_comcel_months$CANTIDAD_SUSCRIPTORES)\n",
    "sd_subs\n",
    "\n",
    "# Array of months\n",
    "months <- as.array(df_subs_ether_2019_comcel_months$MONTH_NUM)\n",
    "\n",
    "month_data <- as.array(df_subs_ether_2019_comcel_months$CANTIDAD_SUSCRIPTORES)\n",
    "\n",
    "# Grap with \"bigotes\" Box\n",
    "sprintf(\"Plot month vs month_data\")\n",
    "plot(months,month_data)\n",
    "## \n",
    "\n",
    "\n",
    "\n",
    "# Contingency table\n",
    "# tab_subs_tec<-table(df_subs_ether_comcel_tec$CANTIDAD_SUSCRIPTORES, df_subs_ether_comcel_tec$DESC_TECNOLOGIA)\n",
    "# tab_subs_tec\n",
    "\n",
    "\n",
    "\n",
    "\n"
   ]
  },
  {
   "cell_type": "markdown",
   "metadata": {},
   "source": [
    "# Respuestas punto 4\n",
    "En el modelo descriptivo se contempla varios aspectos tales como:\n",
    "\n",
    "* La tecnologia en la que mas se suscriben para comcel para el 2019 es **4G**, \n",
    "* Para cada trimestre del año 2019 en comcel se mantiene **la misma \"proporción\"**\n",
    "* La terminal que mas utilizan para la suscripción en todo el año 2019 es la **terminal movil**\n",
    "* La mayoria de suscriptores son **Personas**"
   ]
  },
  {
   "cell_type": "markdown",
   "metadata": {},
   "source": [
    "# Punto 5\n",
    "Seleccione un tipo de tecnologia (2,3,4 G) y segmento (empresa/personal) para el año 2019:\n",
    "\n",
    "a) ¿Cual es el promedio de suscriptores?  \n",
    "b) ¿Cual es la desviacion estandar de suscriptores?  \n",
    "c) ¿Cual es el tamaño de la muestra?  \n",
    "d) ¿Coincide con sus valores del modelo descriptivo?  \n",
    "\n",
    "La muestra es cuantas observaciones esta haciendo, si se va hacer el analisis sobre trimestre el número de observaciones es los meses que conforma el trimestre (seria 3).\n",
    "\n",
    "Prueba t\n",
    "miu = (mes1+mes2+mes3)/n"
   ]
  },
  {
   "cell_type": "code",
   "execution_count": 48,
   "metadata": {},
   "outputs": [
    {
     "data": {
      "text/html": [
       "'Show head data'"
      ],
      "text/latex": [
       "'Show head data'"
      ],
      "text/markdown": [
       "'Show head data'"
      ],
      "text/plain": [
       "[1] \"Show head data\""
      ]
     },
     "metadata": {},
     "output_type": "display_data"
    },
    {
     "data": {
      "text/html": [
       "<table>\n",
       "<caption>A data.frame: 6 × 13</caption>\n",
       "<thead>\n",
       "\t<tr><th></th><th scope=col>ANNO</th><th scope=col>TRIMESTRE</th><th scope=col>MES_DEL_TRIMESTRE</th><th scope=col>ID_SEGMENTO</th><th scope=col>DESC_SEGMENTO</th><th scope=col>ID_EMPRESA</th><th scope=col>DESC_EMPRESA</th><th scope=col>ID_TERMINAL</th><th scope=col>DESC_TERMINAL</th><th scope=col>ID_TECNOLOGIA</th><th scope=col>DESC_TECNOLOGIA</th><th scope=col>CANTIDAD_SUSCRIPTORES</th><th scope=col>QUANTITY</th></tr>\n",
       "\t<tr><th></th><th scope=col>&lt;int&gt;</th><th scope=col>&lt;dbl&gt;</th><th scope=col>&lt;dbl&gt;</th><th scope=col>&lt;int&gt;</th><th scope=col>&lt;fct&gt;</th><th scope=col>&lt;int&gt;</th><th scope=col>&lt;fct&gt;</th><th scope=col>&lt;int&gt;</th><th scope=col>&lt;fct&gt;</th><th scope=col>&lt;int&gt;</th><th scope=col>&lt;fct&gt;</th><th scope=col>&lt;dbl&gt;</th><th scope=col>&lt;dbl&gt;</th></tr>\n",
       "</thead>\n",
       "<tbody>\n",
       "\t<tr><th scope=row>1</th><td>2012</td><td>1</td><td>1</td><td>1</td><td>Personas</td><td>830122566</td><td>COLOMBIA TELECOMUNICACIONES S.A. ESP</td><td>1</td><td>TelÃ©fono MÃ³vil</td><td>1</td><td>2G</td><td> 50590</td><td>0</td></tr>\n",
       "\t<tr><th scope=row>2</th><td>2012</td><td>1</td><td>1</td><td>1</td><td>Personas</td><td>830122566</td><td>COLOMBIA TELECOMUNICACIONES S.A. ESP</td><td>1</td><td>TelÃ©fono MÃ³vil</td><td>2</td><td>3G</td><td>469844</td><td>0</td></tr>\n",
       "\t<tr><th scope=row>3</th><td>2012</td><td>1</td><td>1</td><td>1</td><td>Personas</td><td>830122566</td><td>COLOMBIA TELECOMUNICACIONES S.A. ESP</td><td>1</td><td>TelÃ©fono MÃ³vil</td><td>3</td><td>4G</td><td>     0</td><td>0</td></tr>\n",
       "\t<tr><th scope=row>4</th><td>2012</td><td>1</td><td>1</td><td>1</td><td>Personas</td><td>830122566</td><td>COLOMBIA TELECOMUNICACIONES S.A. ESP</td><td>2</td><td>Data Card       </td><td>1</td><td>2G</td><td>  2024</td><td>0</td></tr>\n",
       "\t<tr><th scope=row>5</th><td>2012</td><td>1</td><td>1</td><td>1</td><td>Personas</td><td>830122566</td><td>COLOMBIA TELECOMUNICACIONES S.A. ESP</td><td>2</td><td>Data Card       </td><td>2</td><td>3G</td><td> 25295</td><td>0</td></tr>\n",
       "\t<tr><th scope=row>6</th><td>2012</td><td>1</td><td>1</td><td>1</td><td>Personas</td><td>830122566</td><td>COLOMBIA TELECOMUNICACIONES S.A. ESP</td><td>2</td><td>Data Card       </td><td>3</td><td>4G</td><td>     0</td><td>0</td></tr>\n",
       "</tbody>\n",
       "</table>\n"
      ],
      "text/latex": [
       "A data.frame: 6 × 13\n",
       "\\begin{tabular}{r|lllllllllllll}\n",
       "  & ANNO & TRIMESTRE & MES\\_DEL\\_TRIMESTRE & ID\\_SEGMENTO & DESC\\_SEGMENTO & ID\\_EMPRESA & DESC\\_EMPRESA & ID\\_TERMINAL & DESC\\_TERMINAL & ID\\_TECNOLOGIA & DESC\\_TECNOLOGIA & CANTIDAD\\_SUSCRIPTORES & QUANTITY\\\\\n",
       "  & <int> & <dbl> & <dbl> & <int> & <fct> & <int> & <fct> & <int> & <fct> & <int> & <fct> & <dbl> & <dbl>\\\\\n",
       "\\hline\n",
       "\t1 & 2012 & 1 & 1 & 1 & Personas & 830122566 & COLOMBIA TELECOMUNICACIONES S.A. ESP & 1 & TelÃ©fono MÃ³vil & 1 & 2G &  50590 & 0\\\\\n",
       "\t2 & 2012 & 1 & 1 & 1 & Personas & 830122566 & COLOMBIA TELECOMUNICACIONES S.A. ESP & 1 & TelÃ©fono MÃ³vil & 2 & 3G & 469844 & 0\\\\\n",
       "\t3 & 2012 & 1 & 1 & 1 & Personas & 830122566 & COLOMBIA TELECOMUNICACIONES S.A. ESP & 1 & TelÃ©fono MÃ³vil & 3 & 4G &      0 & 0\\\\\n",
       "\t4 & 2012 & 1 & 1 & 1 & Personas & 830122566 & COLOMBIA TELECOMUNICACIONES S.A. ESP & 2 & Data Card        & 1 & 2G &   2024 & 0\\\\\n",
       "\t5 & 2012 & 1 & 1 & 1 & Personas & 830122566 & COLOMBIA TELECOMUNICACIONES S.A. ESP & 2 & Data Card        & 2 & 3G &  25295 & 0\\\\\n",
       "\t6 & 2012 & 1 & 1 & 1 & Personas & 830122566 & COLOMBIA TELECOMUNICACIONES S.A. ESP & 2 & Data Card        & 3 & 4G &      0 & 0\\\\\n",
       "\\end{tabular}\n"
      ],
      "text/markdown": [
       "\n",
       "A data.frame: 6 × 13\n",
       "\n",
       "| <!--/--> | ANNO &lt;int&gt; | TRIMESTRE &lt;dbl&gt; | MES_DEL_TRIMESTRE &lt;dbl&gt; | ID_SEGMENTO &lt;int&gt; | DESC_SEGMENTO &lt;fct&gt; | ID_EMPRESA &lt;int&gt; | DESC_EMPRESA &lt;fct&gt; | ID_TERMINAL &lt;int&gt; | DESC_TERMINAL &lt;fct&gt; | ID_TECNOLOGIA &lt;int&gt; | DESC_TECNOLOGIA &lt;fct&gt; | CANTIDAD_SUSCRIPTORES &lt;dbl&gt; | QUANTITY &lt;dbl&gt; |\n",
       "|---|---|---|---|---|---|---|---|---|---|---|---|---|---|\n",
       "| 1 | 2012 | 1 | 1 | 1 | Personas | 830122566 | COLOMBIA TELECOMUNICACIONES S.A. ESP | 1 | TelÃ©fono MÃ³vil | 1 | 2G |  50590 | 0 |\n",
       "| 2 | 2012 | 1 | 1 | 1 | Personas | 830122566 | COLOMBIA TELECOMUNICACIONES S.A. ESP | 1 | TelÃ©fono MÃ³vil | 2 | 3G | 469844 | 0 |\n",
       "| 3 | 2012 | 1 | 1 | 1 | Personas | 830122566 | COLOMBIA TELECOMUNICACIONES S.A. ESP | 1 | TelÃ©fono MÃ³vil | 3 | 4G |      0 | 0 |\n",
       "| 4 | 2012 | 1 | 1 | 1 | Personas | 830122566 | COLOMBIA TELECOMUNICACIONES S.A. ESP | 2 | Data Card        | 1 | 2G |   2024 | 0 |\n",
       "| 5 | 2012 | 1 | 1 | 1 | Personas | 830122566 | COLOMBIA TELECOMUNICACIONES S.A. ESP | 2 | Data Card        | 2 | 3G |  25295 | 0 |\n",
       "| 6 | 2012 | 1 | 1 | 1 | Personas | 830122566 | COLOMBIA TELECOMUNICACIONES S.A. ESP | 2 | Data Card        | 3 | 4G |      0 | 0 |\n",
       "\n"
      ],
      "text/plain": [
       "  ANNO TRIMESTRE MES_DEL_TRIMESTRE ID_SEGMENTO DESC_SEGMENTO ID_EMPRESA\n",
       "1 2012 1         1                 1           Personas      830122566 \n",
       "2 2012 1         1                 1           Personas      830122566 \n",
       "3 2012 1         1                 1           Personas      830122566 \n",
       "4 2012 1         1                 1           Personas      830122566 \n",
       "5 2012 1         1                 1           Personas      830122566 \n",
       "6 2012 1         1                 1           Personas      830122566 \n",
       "  DESC_EMPRESA                         ID_TERMINAL DESC_TERMINAL   \n",
       "1 COLOMBIA TELECOMUNICACIONES S.A. ESP 1           TelÃ©fono MÃ³vil\n",
       "2 COLOMBIA TELECOMUNICACIONES S.A. ESP 1           TelÃ©fono MÃ³vil\n",
       "3 COLOMBIA TELECOMUNICACIONES S.A. ESP 1           TelÃ©fono MÃ³vil\n",
       "4 COLOMBIA TELECOMUNICACIONES S.A. ESP 2           Data Card       \n",
       "5 COLOMBIA TELECOMUNICACIONES S.A. ESP 2           Data Card       \n",
       "6 COLOMBIA TELECOMUNICACIONES S.A. ESP 2           Data Card       \n",
       "  ID_TECNOLOGIA DESC_TECNOLOGIA CANTIDAD_SUSCRIPTORES QUANTITY\n",
       "1 1             2G               50590                0       \n",
       "2 2             3G              469844                0       \n",
       "3 3             4G                   0                0       \n",
       "4 1             2G                2024                0       \n",
       "5 2             3G               25295                0       \n",
       "6 3             4G                   0                0       "
      ]
     },
     "metadata": {},
     "output_type": "display_data"
    },
    {
     "data": {
      "text/html": [
       "'Filter data to only 2019'"
      ],
      "text/latex": [
       "'Filter data to only 2019'"
      ],
      "text/markdown": [
       "'Filter data to only 2019'"
      ],
      "text/plain": [
       "[1] \"Filter data to only 2019\""
      ]
     },
     "metadata": {},
     "output_type": "display_data"
    },
    {
     "data": {
      "text/html": [
       "'Filter data to ID_EMPRESA 800153993'"
      ],
      "text/latex": [
       "'Filter data to ID\\_EMPRESA 800153993'"
      ],
      "text/markdown": [
       "'Filter data to ID_EMPRESA 800153993'"
      ],
      "text/plain": [
       "[1] \"Filter data to ID_EMPRESA 800153993\""
      ]
     },
     "metadata": {},
     "output_type": "display_data"
    },
    {
     "data": {
      "text/html": [
       "'Filter data to tecnology 4g'"
      ],
      "text/latex": [
       "'Filter data to tecnology 4g'"
      ],
      "text/markdown": [
       "'Filter data to tecnology 4g'"
      ],
      "text/plain": [
       "[1] \"Filter data to tecnology 4g\""
      ]
     },
     "metadata": {},
     "output_type": "display_data"
    },
    {
     "data": {
      "text/html": [
       "'Filter data to Segment Personas'"
      ],
      "text/latex": [
       "'Filter data to Segment Personas'"
      ],
      "text/markdown": [
       "'Filter data to Segment Personas'"
      ],
      "text/plain": [
       "[1] \"Filter data to Segment Personas\""
      ]
     },
     "metadata": {},
     "output_type": "display_data"
    },
    {
     "name": "stderr",
     "output_type": "stream",
     "text": [
      "Warning message:\n",
      "\"Unknown or uninitialised column: 'MONTH_NUM'.\"\n",
      "Warning message:\n",
      "\"Unknown or uninitialised column: 'QUANTITY'.\"\n"
     ]
    },
    {
     "data": {
      "text/html": [
       "'##### Month Data #####'"
      ],
      "text/latex": [
       "'\\#\\#\\#\\#\\# Month Data \\#\\#\\#\\#\\#'"
      ],
      "text/markdown": [
       "'##### Month Data #####'"
      ],
      "text/plain": [
       "[1] \"##### Month Data #####\""
      ]
     },
     "metadata": {},
     "output_type": "display_data"
    },
    {
     "data": {
      "text/html": [
       "<table>\n",
       "<caption>A grouped_df: 12 × 5</caption>\n",
       "<thead>\n",
       "\t<tr><th scope=col>TRIMESTRE</th><th scope=col>MES_DEL_TRIMESTRE</th><th scope=col>CANTIDAD_SUSCRIPTORES</th><th scope=col>MONTH_NUM</th><th scope=col>QUANTITY</th></tr>\n",
       "\t<tr><th scope=col>&lt;dbl&gt;</th><th scope=col>&lt;dbl&gt;</th><th scope=col>&lt;dbl&gt;</th><th scope=col>&lt;dbl&gt;</th><th scope=col>&lt;dbl&gt;</th></tr>\n",
       "</thead>\n",
       "<tbody>\n",
       "\t<tr><td>1</td><td>1</td><td>1664013</td><td> 1</td><td>1</td></tr>\n",
       "\t<tr><td>1</td><td>2</td><td>1667274</td><td> 2</td><td>1</td></tr>\n",
       "\t<tr><td>1</td><td>3</td><td>1701494</td><td> 3</td><td>1</td></tr>\n",
       "\t<tr><td>2</td><td>1</td><td>1726445</td><td> 4</td><td>1</td></tr>\n",
       "\t<tr><td>2</td><td>2</td><td>1762622</td><td> 5</td><td>1</td></tr>\n",
       "\t<tr><td>2</td><td>3</td><td>1798909</td><td> 6</td><td>1</td></tr>\n",
       "\t<tr><td>3</td><td>1</td><td>1834868</td><td> 7</td><td>1</td></tr>\n",
       "\t<tr><td>3</td><td>2</td><td>1866683</td><td> 8</td><td>1</td></tr>\n",
       "\t<tr><td>3</td><td>3</td><td>1896906</td><td> 9</td><td>1</td></tr>\n",
       "\t<tr><td>4</td><td>1</td><td>1931836</td><td>10</td><td>1</td></tr>\n",
       "\t<tr><td>4</td><td>2</td><td>1937435</td><td>11</td><td>1</td></tr>\n",
       "\t<tr><td>4</td><td>3</td><td>2000132</td><td>12</td><td>1</td></tr>\n",
       "</tbody>\n",
       "</table>\n"
      ],
      "text/latex": [
       "A grouped\\_df: 12 × 5\n",
       "\\begin{tabular}{lllll}\n",
       " TRIMESTRE & MES\\_DEL\\_TRIMESTRE & CANTIDAD\\_SUSCRIPTORES & MONTH\\_NUM & QUANTITY\\\\\n",
       " <dbl> & <dbl> & <dbl> & <dbl> & <dbl>\\\\\n",
       "\\hline\n",
       "\t 1 & 1 & 1664013 &  1 & 1\\\\\n",
       "\t 1 & 2 & 1667274 &  2 & 1\\\\\n",
       "\t 1 & 3 & 1701494 &  3 & 1\\\\\n",
       "\t 2 & 1 & 1726445 &  4 & 1\\\\\n",
       "\t 2 & 2 & 1762622 &  5 & 1\\\\\n",
       "\t 2 & 3 & 1798909 &  6 & 1\\\\\n",
       "\t 3 & 1 & 1834868 &  7 & 1\\\\\n",
       "\t 3 & 2 & 1866683 &  8 & 1\\\\\n",
       "\t 3 & 3 & 1896906 &  9 & 1\\\\\n",
       "\t 4 & 1 & 1931836 & 10 & 1\\\\\n",
       "\t 4 & 2 & 1937435 & 11 & 1\\\\\n",
       "\t 4 & 3 & 2000132 & 12 & 1\\\\\n",
       "\\end{tabular}\n"
      ],
      "text/markdown": [
       "\n",
       "A grouped_df: 12 × 5\n",
       "\n",
       "| TRIMESTRE &lt;dbl&gt; | MES_DEL_TRIMESTRE &lt;dbl&gt; | CANTIDAD_SUSCRIPTORES &lt;dbl&gt; | MONTH_NUM &lt;dbl&gt; | QUANTITY &lt;dbl&gt; |\n",
       "|---|---|---|---|---|\n",
       "| 1 | 1 | 1664013 |  1 | 1 |\n",
       "| 1 | 2 | 1667274 |  2 | 1 |\n",
       "| 1 | 3 | 1701494 |  3 | 1 |\n",
       "| 2 | 1 | 1726445 |  4 | 1 |\n",
       "| 2 | 2 | 1762622 |  5 | 1 |\n",
       "| 2 | 3 | 1798909 |  6 | 1 |\n",
       "| 3 | 1 | 1834868 |  7 | 1 |\n",
       "| 3 | 2 | 1866683 |  8 | 1 |\n",
       "| 3 | 3 | 1896906 |  9 | 1 |\n",
       "| 4 | 1 | 1931836 | 10 | 1 |\n",
       "| 4 | 2 | 1937435 | 11 | 1 |\n",
       "| 4 | 3 | 2000132 | 12 | 1 |\n",
       "\n"
      ],
      "text/plain": [
       "   TRIMESTRE MES_DEL_TRIMESTRE CANTIDAD_SUSCRIPTORES MONTH_NUM QUANTITY\n",
       "1  1         1                 1664013                1        1       \n",
       "2  1         2                 1667274                2        1       \n",
       "3  1         3                 1701494                3        1       \n",
       "4  2         1                 1726445                4        1       \n",
       "5  2         2                 1762622                5        1       \n",
       "6  2         3                 1798909                6        1       \n",
       "7  3         1                 1834868                7        1       \n",
       "8  3         2                 1866683                8        1       \n",
       "9  3         3                 1896906                9        1       \n",
       "10 4         1                 1931836               10        1       \n",
       "11 4         2                 1937435               11        1       \n",
       "12 4         3                 2000132               12        1       "
      ]
     },
     "metadata": {},
     "output_type": "display_data"
    },
    {
     "data": {
      "text/html": [
       "'##### quantity of months #####'"
      ],
      "text/latex": [
       "'\\#\\#\\#\\#\\# quantity of months \\#\\#\\#\\#\\#'"
      ],
      "text/markdown": [
       "'##### quantity of months #####'"
      ],
      "text/plain": [
       "[1] \"##### quantity of months #####\""
      ]
     },
     "metadata": {},
     "output_type": "display_data"
    },
    {
     "data": {
      "text/html": [
       "12"
      ],
      "text/latex": [
       "12"
      ],
      "text/markdown": [
       "12"
      ],
      "text/plain": [
       "[1] 12"
      ]
     },
     "metadata": {},
     "output_type": "display_data"
    },
    {
     "data": {
      "text/html": [
       "'##### Prom subscriptors #####'"
      ],
      "text/latex": [
       "'\\#\\#\\#\\#\\# Prom subscriptors \\#\\#\\#\\#\\#'"
      ],
      "text/markdown": [
       "'##### Prom subscriptors #####'"
      ],
      "text/plain": [
       "[1] \"##### Prom subscriptors #####\""
      ]
     },
     "metadata": {},
     "output_type": "display_data"
    },
    {
     "data": {
      "text/html": [
       "1815717.875"
      ],
      "text/latex": [
       "1815717.875"
      ],
      "text/markdown": [
       "1815717.875"
      ],
      "text/plain": [
       "[1] 1815718"
      ]
     },
     "metadata": {},
     "output_type": "display_data"
    },
    {
     "data": {
      "text/html": [
       "'##### Mean subscriptors #####'"
      ],
      "text/latex": [
       "'\\#\\#\\#\\#\\# Mean subscriptors \\#\\#\\#\\#\\#'"
      ],
      "text/markdown": [
       "'##### Mean subscriptors #####'"
      ],
      "text/plain": [
       "[1] \"##### Mean subscriptors #####\""
      ]
     },
     "metadata": {},
     "output_type": "display_data"
    },
    {
     "data": {
      "text/html": [
       "1815717.875"
      ],
      "text/latex": [
       "1815717.875"
      ],
      "text/markdown": [
       "1815717.875"
      ],
      "text/plain": [
       "[1] 1815718"
      ]
     },
     "metadata": {},
     "output_type": "display_data"
    },
    {
     "data": {
      "text/html": [
       "'##### Standar Deviation #####'"
      ],
      "text/latex": [
       "'\\#\\#\\#\\#\\# Standar Deviation \\#\\#\\#\\#\\#'"
      ],
      "text/markdown": [
       "'##### Standar Deviation #####'"
      ],
      "text/plain": [
       "[1] \"##### Standar Deviation #####\""
      ]
     },
     "metadata": {},
     "output_type": "display_data"
    },
    {
     "data": {
      "text/html": [
       "113229.914849093"
      ],
      "text/latex": [
       "113229.914849093"
      ],
      "text/markdown": [
       "113229.914849093"
      ],
      "text/plain": [
       "[1] 113229.9"
      ]
     },
     "metadata": {},
     "output_type": "display_data"
    },
    {
     "data": {
      "text/html": [
       "'##### sample size #####'"
      ],
      "text/latex": [
       "'\\#\\#\\#\\#\\# sample size \\#\\#\\#\\#\\#'"
      ],
      "text/markdown": [
       "'##### sample size #####'"
      ],
      "text/plain": [
       "[1] \"##### sample size #####\""
      ]
     },
     "metadata": {},
     "output_type": "display_data"
    },
    {
     "data": {
      "text/html": [
       "12"
      ],
      "text/latex": [
       "12"
      ],
      "text/markdown": [
       "12"
      ],
      "text/plain": [
       "[1] 12"
      ]
     },
     "metadata": {},
     "output_type": "display_data"
    }
   ],
   "source": [
    "sprintf(\"Show head data\")\n",
    "head(df_subs_ether)\n",
    "# COMUNICACION CELULAR S A COMCEL S A\n",
    "sprintf(\"Filter data to only 2019\")\n",
    "df_subs_ether_2019 <- subset(df_subs_ether, df_subs_ether$ANNO==2018)\n",
    "\n",
    "sprintf(\"Filter data to ID_EMPRESA 800153993\")\n",
    "df_subs_ether_2019_comcel <- subset(df_subs_ether_2019, df_subs_ether_2019$ID_EMPRESA==800153993)\n",
    "\n",
    "sprintf(\"Filter data to tecnology 4g\")\n",
    "df_subs_ether_2019_comcel_4g <- subset(df_subs_ether_2019_comcel, df_subs_ether_2019_comcel$DESC_TECNOLOGIA==\"4G\")\n",
    "\n",
    "sprintf(\"Filter data to Segment Personas\")\n",
    "df_subs_ether_2019_comcel_4g_seg <- subset(df_subs_ether_2019_comcel_4g, df_subs_ether_2019_comcel_4g$DESC_SEGMENTO==\"Personas\")\n",
    "\n",
    "df_subs_ether_2019_comcel_4g_seg$QUANTITY[df_subs_ether_2019_comcel_4g_seg$CANTIDAD_SUSCRIPTORES!=0] <- 1\n",
    "\n",
    "\n",
    "library(dplyr)\n",
    "\n",
    "df_subs_ether_2019_comcel_4g_seg_months <- df_subs_ether_2019_comcel_4g_seg %>% group_by(TRIMESTRE, MES_DEL_TRIMESTRE) %>% summarise(CANTIDAD_SUSCRIPTORES = sum(CANTIDAD_SUSCRIPTORES)/sum(QUANTITY))\n",
    "\n",
    "# TRIMESTRE, MES_DEL_TRIMESTRE\n",
    "\n",
    "\n",
    "\n",
    "\n",
    "df_subs_ether_2019_comcel_4g_seg_months$MONTH_NUM[df_subs_ether_2019_comcel_4g_seg_months$TRIMESTRE==1 & df_subs_ether_2019_comcel_4g_seg_months$MES_DEL_TRIMESTRE==1] <- 1\n",
    "df_subs_ether_2019_comcel_4g_seg_months$MONTH_NUM[df_subs_ether_2019_comcel_4g_seg_months$TRIMESTRE==1 & df_subs_ether_2019_comcel_4g_seg_months$MES_DEL_TRIMESTRE==2] <- 2\n",
    "df_subs_ether_2019_comcel_4g_seg_months$MONTH_NUM[df_subs_ether_2019_comcel_4g_seg_months$TRIMESTRE==1 & df_subs_ether_2019_comcel_4g_seg_months$MES_DEL_TRIMESTRE==3] <- 3\n",
    "df_subs_ether_2019_comcel_4g_seg_months$MONTH_NUM[df_subs_ether_2019_comcel_4g_seg_months$TRIMESTRE==2 & df_subs_ether_2019_comcel_4g_seg_months$MES_DEL_TRIMESTRE==1] <- 4\n",
    "df_subs_ether_2019_comcel_4g_seg_months$MONTH_NUM[df_subs_ether_2019_comcel_4g_seg_months$TRIMESTRE==2 & df_subs_ether_2019_comcel_4g_seg_months$MES_DEL_TRIMESTRE==2] <- 5\n",
    "df_subs_ether_2019_comcel_4g_seg_months$MONTH_NUM[df_subs_ether_2019_comcel_4g_seg_months$TRIMESTRE==2 & df_subs_ether_2019_comcel_4g_seg_months$MES_DEL_TRIMESTRE==3] <- 6\n",
    "df_subs_ether_2019_comcel_4g_seg_months$MONTH_NUM[df_subs_ether_2019_comcel_4g_seg_months$TRIMESTRE==3 & df_subs_ether_2019_comcel_4g_seg_months$MES_DEL_TRIMESTRE==1] <- 7\n",
    "df_subs_ether_2019_comcel_4g_seg_months$MONTH_NUM[df_subs_ether_2019_comcel_4g_seg_months$TRIMESTRE==3 & df_subs_ether_2019_comcel_4g_seg_months$MES_DEL_TRIMESTRE==2] <- 8\n",
    "df_subs_ether_2019_comcel_4g_seg_months$MONTH_NUM[df_subs_ether_2019_comcel_4g_seg_months$TRIMESTRE==3 & df_subs_ether_2019_comcel_4g_seg_months$MES_DEL_TRIMESTRE==3] <- 9\n",
    "df_subs_ether_2019_comcel_4g_seg_months$MONTH_NUM[df_subs_ether_2019_comcel_4g_seg_months$TRIMESTRE==4 & df_subs_ether_2019_comcel_4g_seg_months$MES_DEL_TRIMESTRE==1] <- 10\n",
    "df_subs_ether_2019_comcel_4g_seg_months$MONTH_NUM[df_subs_ether_2019_comcel_4g_seg_months$TRIMESTRE==4 & df_subs_ether_2019_comcel_4g_seg_months$MES_DEL_TRIMESTRE==2] <- 11\n",
    "df_subs_ether_2019_comcel_4g_seg_months$MONTH_NUM[df_subs_ether_2019_comcel_4g_seg_months$TRIMESTRE==4 & df_subs_ether_2019_comcel_4g_seg_months$MES_DEL_TRIMESTRE==3] <- 12\n",
    "\n",
    "df_subs_ether_2019_comcel_4g_seg_months$QUANTITY[df_subs_ether_2019_comcel_4g_seg_months$CANTIDAD_SUSCRIPTORES!=0] <- 1\n",
    "\n",
    "sprintf(\"##### Month Data #####\")\n",
    "df_subs_ether_2019_comcel_4g_seg_months\n",
    "\n",
    "sprintf(\"##### quantity of months #####\")\n",
    "months_quantity <- sum(df_subs_ether_2019_comcel_4g_seg_months$QUANTITY)\n",
    "months_quantity\n",
    "\n",
    "sprintf(\"##### Prom subscriptors #####\")\n",
    "prom_subs <- sum(df_subs_ether_2019_comcel_4g_seg_months$CANTIDAD_SUSCRIPTORES)/sum(df_subs_ether_2019_comcel_4g_seg_months$QUANTITY)\n",
    "prom_subs\n",
    "\n",
    "sprintf(\"##### Mean subscriptors #####\")\n",
    "mean_subs <- sum(df_subs_ether_2019_comcel_4g_seg_months$CANTIDAD_SUSCRIPTORES)/sum(df_subs_ether_2019_comcel_4g_seg_months$QUANTITY)\n",
    "mean_subs\n",
    "\n",
    "\n",
    "sprintf(\"##### Standar Deviation #####\")\n",
    "sd_subs <- sd(df_subs_ether_2019_comcel_4g_seg_months$CANTIDAD_SUSCRIPTORES)\n",
    "sd_subs\n",
    "\n",
    "sprintf(\"##### sample size #####\")\n",
    "sample_size <- sum(df_subs_ether_2019_comcel_4g_seg_months$QUANTITY)\n",
    "sample_size\n",
    "\n",
    "\n",
    "##### continue here\n"
   ]
  },
  {
   "cell_type": "markdown",
   "metadata": {},
   "source": [
    "# Respuestas punto 5\n",
    "a) ¿Cual es el promedio de suscriptores?  \n",
    "1815717,875  \n",
    "b) ¿Cual es la desviacion estandar de suscriptores?  \n",
    "113229,914849093\n",
    "c) ¿Cual es el tamaño de la muestra?  \n",
    "12  \n",
    "d) ¿Coincide con sus valores del modelo descriptivo?  \n",
    "De acuerdo al modelo descriptivo se decia que para cada trimestre se tenia una proporción similar durante todo el año con una breve variación, en este caso el promedio es 1815717,875 y la desviación es 113229,914849093 correspnde a un 6,23% es una desviación relativamente \"baja\" indicando que a medida que pasa cada mes la diferencia es bastante baja, es decir uqe tiende a mantenr su valor"
   ]
  },
  {
   "cell_type": "markdown",
   "metadata": {},
   "source": [
    "# Punto 6\n",
    "De lo seleccionado del punto 5 Niegue o refute que el numero de suscriptores del segundo trimestre no ha cambiado respecto al promedio anual del año 2019."
   ]
  },
  {
   "cell_type": "code",
   "execution_count": 6,
   "metadata": {},
   "outputs": [
    {
     "data": {
      "text/html": [
       "'Show head data'"
      ],
      "text/latex": [
       "'Show head data'"
      ],
      "text/markdown": [
       "'Show head data'"
      ],
      "text/plain": [
       "[1] \"Show head data\""
      ]
     },
     "metadata": {},
     "output_type": "display_data"
    },
    {
     "data": {
      "text/html": [
       "<table>\n",
       "<caption>A data.frame: 6 × 13</caption>\n",
       "<thead>\n",
       "\t<tr><th></th><th scope=col>ANNO</th><th scope=col>TRIMESTRE</th><th scope=col>MES_DEL_TRIMESTRE</th><th scope=col>ID_SEGMENTO</th><th scope=col>DESC_SEGMENTO</th><th scope=col>ID_EMPRESA</th><th scope=col>DESC_EMPRESA</th><th scope=col>ID_TERMINAL</th><th scope=col>DESC_TERMINAL</th><th scope=col>ID_TECNOLOGIA</th><th scope=col>DESC_TECNOLOGIA</th><th scope=col>CANTIDAD_SUSCRIPTORES</th><th scope=col>QUANTITY</th></tr>\n",
       "\t<tr><th></th><th scope=col>&lt;int&gt;</th><th scope=col>&lt;dbl&gt;</th><th scope=col>&lt;dbl&gt;</th><th scope=col>&lt;int&gt;</th><th scope=col>&lt;fct&gt;</th><th scope=col>&lt;int&gt;</th><th scope=col>&lt;fct&gt;</th><th scope=col>&lt;int&gt;</th><th scope=col>&lt;fct&gt;</th><th scope=col>&lt;int&gt;</th><th scope=col>&lt;fct&gt;</th><th scope=col>&lt;dbl&gt;</th><th scope=col>&lt;dbl&gt;</th></tr>\n",
       "</thead>\n",
       "<tbody>\n",
       "\t<tr><th scope=row>1</th><td>2012</td><td>1</td><td>1</td><td>1</td><td>Personas</td><td>830122566</td><td>COLOMBIA TELECOMUNICACIONES S.A. ESP</td><td>1</td><td>TelÃ©fono MÃ³vil</td><td>1</td><td>2G</td><td> 50590</td><td>0</td></tr>\n",
       "\t<tr><th scope=row>2</th><td>2012</td><td>1</td><td>1</td><td>1</td><td>Personas</td><td>830122566</td><td>COLOMBIA TELECOMUNICACIONES S.A. ESP</td><td>1</td><td>TelÃ©fono MÃ³vil</td><td>2</td><td>3G</td><td>469844</td><td>0</td></tr>\n",
       "\t<tr><th scope=row>3</th><td>2012</td><td>1</td><td>1</td><td>1</td><td>Personas</td><td>830122566</td><td>COLOMBIA TELECOMUNICACIONES S.A. ESP</td><td>1</td><td>TelÃ©fono MÃ³vil</td><td>3</td><td>4G</td><td>     0</td><td>0</td></tr>\n",
       "\t<tr><th scope=row>4</th><td>2012</td><td>1</td><td>1</td><td>1</td><td>Personas</td><td>830122566</td><td>COLOMBIA TELECOMUNICACIONES S.A. ESP</td><td>2</td><td>Data Card       </td><td>1</td><td>2G</td><td>  2024</td><td>0</td></tr>\n",
       "\t<tr><th scope=row>5</th><td>2012</td><td>1</td><td>1</td><td>1</td><td>Personas</td><td>830122566</td><td>COLOMBIA TELECOMUNICACIONES S.A. ESP</td><td>2</td><td>Data Card       </td><td>2</td><td>3G</td><td> 25295</td><td>0</td></tr>\n",
       "\t<tr><th scope=row>6</th><td>2012</td><td>1</td><td>1</td><td>1</td><td>Personas</td><td>830122566</td><td>COLOMBIA TELECOMUNICACIONES S.A. ESP</td><td>2</td><td>Data Card       </td><td>3</td><td>4G</td><td>     0</td><td>0</td></tr>\n",
       "</tbody>\n",
       "</table>\n"
      ],
      "text/latex": [
       "A data.frame: 6 × 13\n",
       "\\begin{tabular}{r|lllllllllllll}\n",
       "  & ANNO & TRIMESTRE & MES\\_DEL\\_TRIMESTRE & ID\\_SEGMENTO & DESC\\_SEGMENTO & ID\\_EMPRESA & DESC\\_EMPRESA & ID\\_TERMINAL & DESC\\_TERMINAL & ID\\_TECNOLOGIA & DESC\\_TECNOLOGIA & CANTIDAD\\_SUSCRIPTORES & QUANTITY\\\\\n",
       "  & <int> & <dbl> & <dbl> & <int> & <fct> & <int> & <fct> & <int> & <fct> & <int> & <fct> & <dbl> & <dbl>\\\\\n",
       "\\hline\n",
       "\t1 & 2012 & 1 & 1 & 1 & Personas & 830122566 & COLOMBIA TELECOMUNICACIONES S.A. ESP & 1 & TelÃ©fono MÃ³vil & 1 & 2G &  50590 & 0\\\\\n",
       "\t2 & 2012 & 1 & 1 & 1 & Personas & 830122566 & COLOMBIA TELECOMUNICACIONES S.A. ESP & 1 & TelÃ©fono MÃ³vil & 2 & 3G & 469844 & 0\\\\\n",
       "\t3 & 2012 & 1 & 1 & 1 & Personas & 830122566 & COLOMBIA TELECOMUNICACIONES S.A. ESP & 1 & TelÃ©fono MÃ³vil & 3 & 4G &      0 & 0\\\\\n",
       "\t4 & 2012 & 1 & 1 & 1 & Personas & 830122566 & COLOMBIA TELECOMUNICACIONES S.A. ESP & 2 & Data Card        & 1 & 2G &   2024 & 0\\\\\n",
       "\t5 & 2012 & 1 & 1 & 1 & Personas & 830122566 & COLOMBIA TELECOMUNICACIONES S.A. ESP & 2 & Data Card        & 2 & 3G &  25295 & 0\\\\\n",
       "\t6 & 2012 & 1 & 1 & 1 & Personas & 830122566 & COLOMBIA TELECOMUNICACIONES S.A. ESP & 2 & Data Card        & 3 & 4G &      0 & 0\\\\\n",
       "\\end{tabular}\n"
      ],
      "text/markdown": [
       "\n",
       "A data.frame: 6 × 13\n",
       "\n",
       "| <!--/--> | ANNO &lt;int&gt; | TRIMESTRE &lt;dbl&gt; | MES_DEL_TRIMESTRE &lt;dbl&gt; | ID_SEGMENTO &lt;int&gt; | DESC_SEGMENTO &lt;fct&gt; | ID_EMPRESA &lt;int&gt; | DESC_EMPRESA &lt;fct&gt; | ID_TERMINAL &lt;int&gt; | DESC_TERMINAL &lt;fct&gt; | ID_TECNOLOGIA &lt;int&gt; | DESC_TECNOLOGIA &lt;fct&gt; | CANTIDAD_SUSCRIPTORES &lt;dbl&gt; | QUANTITY &lt;dbl&gt; |\n",
       "|---|---|---|---|---|---|---|---|---|---|---|---|---|---|\n",
       "| 1 | 2012 | 1 | 1 | 1 | Personas | 830122566 | COLOMBIA TELECOMUNICACIONES S.A. ESP | 1 | TelÃ©fono MÃ³vil | 1 | 2G |  50590 | 0 |\n",
       "| 2 | 2012 | 1 | 1 | 1 | Personas | 830122566 | COLOMBIA TELECOMUNICACIONES S.A. ESP | 1 | TelÃ©fono MÃ³vil | 2 | 3G | 469844 | 0 |\n",
       "| 3 | 2012 | 1 | 1 | 1 | Personas | 830122566 | COLOMBIA TELECOMUNICACIONES S.A. ESP | 1 | TelÃ©fono MÃ³vil | 3 | 4G |      0 | 0 |\n",
       "| 4 | 2012 | 1 | 1 | 1 | Personas | 830122566 | COLOMBIA TELECOMUNICACIONES S.A. ESP | 2 | Data Card        | 1 | 2G |   2024 | 0 |\n",
       "| 5 | 2012 | 1 | 1 | 1 | Personas | 830122566 | COLOMBIA TELECOMUNICACIONES S.A. ESP | 2 | Data Card        | 2 | 3G |  25295 | 0 |\n",
       "| 6 | 2012 | 1 | 1 | 1 | Personas | 830122566 | COLOMBIA TELECOMUNICACIONES S.A. ESP | 2 | Data Card        | 3 | 4G |      0 | 0 |\n",
       "\n"
      ],
      "text/plain": [
       "  ANNO TRIMESTRE MES_DEL_TRIMESTRE ID_SEGMENTO DESC_SEGMENTO ID_EMPRESA\n",
       "1 2012 1         1                 1           Personas      830122566 \n",
       "2 2012 1         1                 1           Personas      830122566 \n",
       "3 2012 1         1                 1           Personas      830122566 \n",
       "4 2012 1         1                 1           Personas      830122566 \n",
       "5 2012 1         1                 1           Personas      830122566 \n",
       "6 2012 1         1                 1           Personas      830122566 \n",
       "  DESC_EMPRESA                         ID_TERMINAL DESC_TERMINAL   \n",
       "1 COLOMBIA TELECOMUNICACIONES S.A. ESP 1           TelÃ©fono MÃ³vil\n",
       "2 COLOMBIA TELECOMUNICACIONES S.A. ESP 1           TelÃ©fono MÃ³vil\n",
       "3 COLOMBIA TELECOMUNICACIONES S.A. ESP 1           TelÃ©fono MÃ³vil\n",
       "4 COLOMBIA TELECOMUNICACIONES S.A. ESP 2           Data Card       \n",
       "5 COLOMBIA TELECOMUNICACIONES S.A. ESP 2           Data Card       \n",
       "6 COLOMBIA TELECOMUNICACIONES S.A. ESP 2           Data Card       \n",
       "  ID_TECNOLOGIA DESC_TECNOLOGIA CANTIDAD_SUSCRIPTORES QUANTITY\n",
       "1 1             2G               50590                0       \n",
       "2 2             3G              469844                0       \n",
       "3 3             4G                   0                0       \n",
       "4 1             2G                2024                0       \n",
       "5 2             3G               25295                0       \n",
       "6 3             4G                   0                0       "
      ]
     },
     "metadata": {},
     "output_type": "display_data"
    },
    {
     "data": {
      "text/html": [
       "'Filter data to only 2019'"
      ],
      "text/latex": [
       "'Filter data to only 2019'"
      ],
      "text/markdown": [
       "'Filter data to only 2019'"
      ],
      "text/plain": [
       "[1] \"Filter data to only 2019\""
      ]
     },
     "metadata": {},
     "output_type": "display_data"
    },
    {
     "data": {
      "text/html": [
       "'Filter data to ID_EMPRESA 800153993'"
      ],
      "text/latex": [
       "'Filter data to ID\\_EMPRESA 800153993'"
      ],
      "text/markdown": [
       "'Filter data to ID_EMPRESA 800153993'"
      ],
      "text/plain": [
       "[1] \"Filter data to ID_EMPRESA 800153993\""
      ]
     },
     "metadata": {},
     "output_type": "display_data"
    },
    {
     "data": {
      "text/html": [
       "'Filter data to tecnology 4g'"
      ],
      "text/latex": [
       "'Filter data to tecnology 4g'"
      ],
      "text/markdown": [
       "'Filter data to tecnology 4g'"
      ],
      "text/plain": [
       "[1] \"Filter data to tecnology 4g\""
      ]
     },
     "metadata": {},
     "output_type": "display_data"
    },
    {
     "data": {
      "text/html": [
       "'Filter data to Segment Personas'"
      ],
      "text/latex": [
       "'Filter data to Segment Personas'"
      ],
      "text/markdown": [
       "'Filter data to Segment Personas'"
      ],
      "text/plain": [
       "[1] \"Filter data to Segment Personas\""
      ]
     },
     "metadata": {},
     "output_type": "display_data"
    },
    {
     "data": {
      "text/html": [
       "'Filter data to Trimester 2'"
      ],
      "text/latex": [
       "'Filter data to Trimester 2'"
      ],
      "text/markdown": [
       "'Filter data to Trimester 2'"
      ],
      "text/plain": [
       "[1] \"Filter data to Trimester 2\""
      ]
     },
     "metadata": {},
     "output_type": "display_data"
    },
    {
     "name": "stderr",
     "output_type": "stream",
     "text": [
      "Warning message:\n",
      "\"Unknown or uninitialised column: 'MONTH_NUM'.\"\n",
      "Warning message:\n",
      "\"Unknown or uninitialised column: 'QUANTITY'.\"\n"
     ]
    },
    {
     "data": {
      "text/html": [
       "'Data structure'"
      ],
      "text/latex": [
       "'Data structure'"
      ],
      "text/markdown": [
       "'Data structure'"
      ],
      "text/plain": [
       "[1] \"Data structure\""
      ]
     },
     "metadata": {},
     "output_type": "display_data"
    },
    {
     "data": {
      "text/html": [
       "<table>\n",
       "<caption>A grouped_df: 12 × 5</caption>\n",
       "<thead>\n",
       "\t<tr><th scope=col>TRIMESTRE</th><th scope=col>MES_DEL_TRIMESTRE</th><th scope=col>CANTIDAD_SUSCRIPTORES</th><th scope=col>MONTH_NUM</th><th scope=col>QUANTITY</th></tr>\n",
       "\t<tr><th scope=col>&lt;dbl&gt;</th><th scope=col>&lt;dbl&gt;</th><th scope=col>&lt;dbl&gt;</th><th scope=col>&lt;dbl&gt;</th><th scope=col>&lt;dbl&gt;</th></tr>\n",
       "</thead>\n",
       "<tbody>\n",
       "\t<tr><td>1</td><td>1</td><td>2028363</td><td> 1</td><td>1</td></tr>\n",
       "\t<tr><td>1</td><td>2</td><td>2041669</td><td> 2</td><td>1</td></tr>\n",
       "\t<tr><td>1</td><td>3</td><td>2084603</td><td> 3</td><td>1</td></tr>\n",
       "\t<tr><td>2</td><td>1</td><td>2123163</td><td> 4</td><td>1</td></tr>\n",
       "\t<tr><td>2</td><td>2</td><td>2171683</td><td> 5</td><td>1</td></tr>\n",
       "\t<tr><td>2</td><td>3</td><td>2202962</td><td> 6</td><td>1</td></tr>\n",
       "\t<tr><td>3</td><td>1</td><td>2243106</td><td> 7</td><td>1</td></tr>\n",
       "\t<tr><td>3</td><td>2</td><td>2281556</td><td> 8</td><td>1</td></tr>\n",
       "\t<tr><td>3</td><td>3</td><td>2318023</td><td> 9</td><td>1</td></tr>\n",
       "\t<tr><td>4</td><td>1</td><td>2349500</td><td>10</td><td>1</td></tr>\n",
       "\t<tr><td>4</td><td>2</td><td>2368110</td><td>11</td><td>1</td></tr>\n",
       "\t<tr><td>4</td><td>3</td><td>2417550</td><td>12</td><td>1</td></tr>\n",
       "</tbody>\n",
       "</table>\n"
      ],
      "text/latex": [
       "A grouped\\_df: 12 × 5\n",
       "\\begin{tabular}{lllll}\n",
       " TRIMESTRE & MES\\_DEL\\_TRIMESTRE & CANTIDAD\\_SUSCRIPTORES & MONTH\\_NUM & QUANTITY\\\\\n",
       " <dbl> & <dbl> & <dbl> & <dbl> & <dbl>\\\\\n",
       "\\hline\n",
       "\t 1 & 1 & 2028363 &  1 & 1\\\\\n",
       "\t 1 & 2 & 2041669 &  2 & 1\\\\\n",
       "\t 1 & 3 & 2084603 &  3 & 1\\\\\n",
       "\t 2 & 1 & 2123163 &  4 & 1\\\\\n",
       "\t 2 & 2 & 2171683 &  5 & 1\\\\\n",
       "\t 2 & 3 & 2202962 &  6 & 1\\\\\n",
       "\t 3 & 1 & 2243106 &  7 & 1\\\\\n",
       "\t 3 & 2 & 2281556 &  8 & 1\\\\\n",
       "\t 3 & 3 & 2318023 &  9 & 1\\\\\n",
       "\t 4 & 1 & 2349500 & 10 & 1\\\\\n",
       "\t 4 & 2 & 2368110 & 11 & 1\\\\\n",
       "\t 4 & 3 & 2417550 & 12 & 1\\\\\n",
       "\\end{tabular}\n"
      ],
      "text/markdown": [
       "\n",
       "A grouped_df: 12 × 5\n",
       "\n",
       "| TRIMESTRE &lt;dbl&gt; | MES_DEL_TRIMESTRE &lt;dbl&gt; | CANTIDAD_SUSCRIPTORES &lt;dbl&gt; | MONTH_NUM &lt;dbl&gt; | QUANTITY &lt;dbl&gt; |\n",
       "|---|---|---|---|---|\n",
       "| 1 | 1 | 2028363 |  1 | 1 |\n",
       "| 1 | 2 | 2041669 |  2 | 1 |\n",
       "| 1 | 3 | 2084603 |  3 | 1 |\n",
       "| 2 | 1 | 2123163 |  4 | 1 |\n",
       "| 2 | 2 | 2171683 |  5 | 1 |\n",
       "| 2 | 3 | 2202962 |  6 | 1 |\n",
       "| 3 | 1 | 2243106 |  7 | 1 |\n",
       "| 3 | 2 | 2281556 |  8 | 1 |\n",
       "| 3 | 3 | 2318023 |  9 | 1 |\n",
       "| 4 | 1 | 2349500 | 10 | 1 |\n",
       "| 4 | 2 | 2368110 | 11 | 1 |\n",
       "| 4 | 3 | 2417550 | 12 | 1 |\n",
       "\n"
      ],
      "text/plain": [
       "   TRIMESTRE MES_DEL_TRIMESTRE CANTIDAD_SUSCRIPTORES MONTH_NUM QUANTITY\n",
       "1  1         1                 2028363                1        1       \n",
       "2  1         2                 2041669                2        1       \n",
       "3  1         3                 2084603                3        1       \n",
       "4  2         1                 2123163                4        1       \n",
       "5  2         2                 2171683                5        1       \n",
       "6  2         3                 2202962                6        1       \n",
       "7  3         1                 2243106                7        1       \n",
       "8  3         2                 2281556                8        1       \n",
       "9  3         3                 2318023                9        1       \n",
       "10 4         1                 2349500               10        1       \n",
       "11 4         2                 2368110               11        1       \n",
       "12 4         3                 2417550               12        1       "
      ]
     },
     "metadata": {},
     "output_type": "display_data"
    },
    {
     "data": {
      "text/html": [
       "'##### Prom subscriptors #####'"
      ],
      "text/latex": [
       "'\\#\\#\\#\\#\\# Prom subscriptors \\#\\#\\#\\#\\#'"
      ],
      "text/markdown": [
       "'##### Prom subscriptors #####'"
      ],
      "text/plain": [
       "[1] \"##### Prom subscriptors #####\""
      ]
     },
     "metadata": {},
     "output_type": "display_data"
    },
    {
     "data": {
      "text/html": [
       "2219190.54166667"
      ],
      "text/latex": [
       "2219190.54166667"
      ],
      "text/markdown": [
       "2219190.54166667"
      ],
      "text/plain": [
       "[1] 2219191"
      ]
     },
     "metadata": {},
     "output_type": "display_data"
    },
    {
     "data": {
      "text/html": [
       "'##### Standar Deviation #####'"
      ],
      "text/latex": [
       "'\\#\\#\\#\\#\\# Standar Deviation \\#\\#\\#\\#\\#'"
      ],
      "text/markdown": [
       "'##### Standar Deviation #####'"
      ],
      "text/plain": [
       "[1] \"##### Standar Deviation #####\""
      ]
     },
     "metadata": {},
     "output_type": "display_data"
    },
    {
     "data": {
      "text/html": [
       "131604.66217848"
      ],
      "text/latex": [
       "131604.66217848"
      ],
      "text/markdown": [
       "131604.66217848"
      ],
      "text/plain": [
       "[1] 131604.7"
      ]
     },
     "metadata": {},
     "output_type": "display_data"
    },
    {
     "data": {
      "text/html": [
       "'##### sample size #####'"
      ],
      "text/latex": [
       "'\\#\\#\\#\\#\\# sample size \\#\\#\\#\\#\\#'"
      ],
      "text/markdown": [
       "'##### sample size #####'"
      ],
      "text/plain": [
       "[1] \"##### sample size #####\""
      ]
     },
     "metadata": {},
     "output_type": "display_data"
    },
    {
     "data": {
      "text/html": [
       "12"
      ],
      "text/latex": [
       "12"
      ],
      "text/markdown": [
       "12"
      ],
      "text/plain": [
       "[1] 12"
      ]
     },
     "metadata": {},
     "output_type": "display_data"
    },
    {
     "data": {
      "text/html": [
       "'##### Mean #####'"
      ],
      "text/latex": [
       "'\\#\\#\\#\\#\\# Mean \\#\\#\\#\\#\\#'"
      ],
      "text/markdown": [
       "'##### Mean #####'"
      ],
      "text/plain": [
       "[1] \"##### Mean #####\""
      ]
     },
     "metadata": {},
     "output_type": "display_data"
    },
    {
     "data": {
      "text/html": [
       "2219190.54166667"
      ],
      "text/latex": [
       "2219190.54166667"
      ],
      "text/markdown": [
       "2219190.54166667"
      ],
      "text/plain": [
       "[1] 2219191"
      ]
     },
     "metadata": {},
     "output_type": "display_data"
    },
    {
     "data": {
      "text/html": [
       "'##### Prom Trim 2 #####'"
      ],
      "text/latex": [
       "'\\#\\#\\#\\#\\# Prom Trim 2 \\#\\#\\#\\#\\#'"
      ],
      "text/markdown": [
       "'##### Prom Trim 2 #####'"
      ],
      "text/plain": [
       "[1] \"##### Prom Trim 2 #####\""
      ]
     },
     "metadata": {},
     "output_type": "display_data"
    },
    {
     "data": {
      "text/html": [
       "2165935.83333333"
      ],
      "text/latex": [
       "2165935.83333333"
      ],
      "text/markdown": [
       "2165935.83333333"
      ],
      "text/plain": [
       "[1] 2165936"
      ]
     },
     "metadata": {},
     "output_type": "display_data"
    },
    {
     "data": {
      "text/html": [
       "'##### Hipotesis #####'"
      ],
      "text/latex": [
       "'\\#\\#\\#\\#\\# Hipotesis \\#\\#\\#\\#\\#'"
      ],
      "text/markdown": [
       "'##### Hipotesis #####'"
      ],
      "text/plain": [
       "[1] \"##### Hipotesis #####\""
      ]
     },
     "metadata": {},
     "output_type": "display_data"
    },
    {
     "data": {
      "text/html": [
       "'Para Hipotesis alternativa (Ha) se cumple si es t_0.05 &gt; z &gt; -t_0.5, hipotesis Nua si se esta fuera del rango'"
      ],
      "text/latex": [
       "'Para Hipotesis alternativa (Ha) se cumple si es t\\_0.05 > z > -t\\_0.5, hipotesis Nua si se esta fuera del rango'"
      ],
      "text/markdown": [
       "'Para Hipotesis alternativa (Ha) se cumple si es t_0.05 &gt; z &gt; -t_0.5, hipotesis Nua si se esta fuera del rango'"
      ],
      "text/plain": [
       "[1] \"Para Hipotesis alternativa (Ha) se cumple si es t_0.05 > z > -t_0.5, hipotesis Nua si se esta fuera del rango\""
      ]
     },
     "metadata": {},
     "output_type": "display_data"
    },
    {
     "data": {
      "text/html": [
       "'Valor de t_0.025'"
      ],
      "text/latex": [
       "'Valor de t\\_0.025'"
      ],
      "text/markdown": [
       "'Valor de t_0.025'"
      ],
      "text/plain": [
       "[1] \"Valor de t_0.025\""
      ]
     },
     "metadata": {},
     "output_type": "display_data"
    },
    {
     "data": {
      "text/html": [
       "-2.17881282966723"
      ],
      "text/latex": [
       "-2.17881282966723"
      ],
      "text/markdown": [
       "-2.17881282966723"
      ],
      "text/plain": [
       "[1] -2.178813"
      ]
     },
     "metadata": {},
     "output_type": "display_data"
    },
    {
     "data": {
      "text/html": [
       "'Valor de t_0.975'"
      ],
      "text/latex": [
       "'Valor de t\\_0.975'"
      ],
      "text/markdown": [
       "'Valor de t_0.975'"
      ],
      "text/plain": [
       "[1] \"Valor de t_0.975\""
      ]
     },
     "metadata": {},
     "output_type": "display_data"
    },
    {
     "data": {
      "text/html": [
       "2.17881282966723"
      ],
      "text/latex": [
       "2.17881282966723"
      ],
      "text/markdown": [
       "2.17881282966723"
      ],
      "text/plain": [
       "[1] 2.178813"
      ]
     },
     "metadata": {},
     "output_type": "display_data"
    },
    {
     "data": {
      "text/html": [
       "'Valor de la hipotesis'"
      ],
      "text/latex": [
       "'Valor de la hipotesis'"
      ],
      "text/markdown": [
       "'Valor de la hipotesis'"
      ],
      "text/plain": [
       "[1] \"Valor de la hipotesis\""
      ]
     },
     "metadata": {},
     "output_type": "display_data"
    },
    {
     "data": {
      "text/html": [
       "1.40177192887742"
      ],
      "text/latex": [
       "1.40177192887742"
      ],
      "text/markdown": [
       "1.40177192887742"
      ],
      "text/plain": [
       "[1] 1.401772"
      ]
     },
     "metadata": {},
     "output_type": "display_data"
    },
    {
     "data": {
      "text/html": [
       "'El valor resultante está dentro del rango de la hipotesis por ende se acepta la hipotesis Nula (Ho) indicando que si ha cambiado el promedio del trimestre 2 con respecto al del promedio anual'"
      ],
      "text/latex": [
       "'El valor resultante está dentro del rango de la hipotesis por ende se acepta la hipotesis Nula (Ho) indicando que si ha cambiado el promedio del trimestre 2 con respecto al del promedio anual'"
      ],
      "text/markdown": [
       "'El valor resultante está dentro del rango de la hipotesis por ende se acepta la hipotesis Nula (Ho) indicando que si ha cambiado el promedio del trimestre 2 con respecto al del promedio anual'"
      ],
      "text/plain": [
       "[1] \"El valor resultante está dentro del rango de la hipotesis por ende se acepta la hipotesis Nula (Ho) indicando que si ha cambiado el promedio del trimestre 2 con respecto al del promedio anual\""
      ]
     },
     "metadata": {},
     "output_type": "display_data"
    }
   ],
   "source": [
    "sprintf(\"Show head data\")\n",
    "head(df_subs_ether)\n",
    "# COMUNICACION CELULAR S A COMCEL S A\n",
    "sprintf(\"Filter data to only 2019\")\n",
    "df_subs_ether_2019 <- subset(df_subs_ether, df_subs_ether$ANNO==2019)\n",
    "\n",
    "sprintf(\"Filter data to ID_EMPRESA 800153993\")\n",
    "df_subs_ether_2019_comcel <- subset(df_subs_ether_2019, df_subs_ether_2019$ID_EMPRESA==800153993)\n",
    "\n",
    "sprintf(\"Filter data to tecnology 4g\")\n",
    "df_subs_ether_2019_comcel_4g <- subset(df_subs_ether_2019_comcel, df_subs_ether_2019_comcel$DESC_TECNOLOGIA==\"4G\")\n",
    "\n",
    "sprintf(\"Filter data to Segment Personas\")\n",
    "df_subs_ether_2019_comcel_4g_seg <- subset(df_subs_ether_2019_comcel_4g, df_subs_ether_2019_comcel_4g$DESC_SEGMENTO==\"Personas\")\n",
    "\n",
    "df_subs_ether_2019_comcel_4g_seg$QUANTITY[df_subs_ether_2019_comcel_4g_seg$CANTIDAD_SUSCRIPTORES!=0] <- 1\n",
    "\n",
    "sprintf(\"Filter data to Trimester 2\")\n",
    "df_subs_ether_2019_comcel_4g_seg_trim2 <- subset(df_subs_ether_2019_comcel_4g_seg, df_subs_ether_2019_comcel_4g_seg$TRIMESTRE==2)\n",
    "\n",
    "df_subs_ether_2019_comcel_4g_seg_trim2$QUANTITY[df_subs_ether_2019_comcel_4g_seg_trim2$CANTIDAD_SUSCRIPTORES!=0] <- 1\n",
    "\n",
    "library(dplyr)\n",
    "\n",
    "df_subs_ether_2019_comcel_4g_seg_months <- df_subs_ether_2019_comcel_4g_seg %>% group_by(TRIMESTRE, MES_DEL_TRIMESTRE) %>% summarise(CANTIDAD_SUSCRIPTORES = sum(CANTIDAD_SUSCRIPTORES)/sum(QUANTITY))\n",
    "\n",
    "# TRIMESTRE, MES_DEL_TRIMESTRE\n",
    "\n",
    "\n",
    "\n",
    "\n",
    "df_subs_ether_2019_comcel_4g_seg_months$MONTH_NUM[df_subs_ether_2019_comcel_4g_seg_months$TRIMESTRE==1 & df_subs_ether_2019_comcel_4g_seg_months$MES_DEL_TRIMESTRE==1] <- 1\n",
    "df_subs_ether_2019_comcel_4g_seg_months$MONTH_NUM[df_subs_ether_2019_comcel_4g_seg_months$TRIMESTRE==1 & df_subs_ether_2019_comcel_4g_seg_months$MES_DEL_TRIMESTRE==2] <- 2\n",
    "df_subs_ether_2019_comcel_4g_seg_months$MONTH_NUM[df_subs_ether_2019_comcel_4g_seg_months$TRIMESTRE==1 & df_subs_ether_2019_comcel_4g_seg_months$MES_DEL_TRIMESTRE==3] <- 3\n",
    "df_subs_ether_2019_comcel_4g_seg_months$MONTH_NUM[df_subs_ether_2019_comcel_4g_seg_months$TRIMESTRE==2 & df_subs_ether_2019_comcel_4g_seg_months$MES_DEL_TRIMESTRE==1] <- 4\n",
    "df_subs_ether_2019_comcel_4g_seg_months$MONTH_NUM[df_subs_ether_2019_comcel_4g_seg_months$TRIMESTRE==2 & df_subs_ether_2019_comcel_4g_seg_months$MES_DEL_TRIMESTRE==2] <- 5\n",
    "df_subs_ether_2019_comcel_4g_seg_months$MONTH_NUM[df_subs_ether_2019_comcel_4g_seg_months$TRIMESTRE==2 & df_subs_ether_2019_comcel_4g_seg_months$MES_DEL_TRIMESTRE==3] <- 6\n",
    "df_subs_ether_2019_comcel_4g_seg_months$MONTH_NUM[df_subs_ether_2019_comcel_4g_seg_months$TRIMESTRE==3 & df_subs_ether_2019_comcel_4g_seg_months$MES_DEL_TRIMESTRE==1] <- 7\n",
    "df_subs_ether_2019_comcel_4g_seg_months$MONTH_NUM[df_subs_ether_2019_comcel_4g_seg_months$TRIMESTRE==3 & df_subs_ether_2019_comcel_4g_seg_months$MES_DEL_TRIMESTRE==2] <- 8\n",
    "df_subs_ether_2019_comcel_4g_seg_months$MONTH_NUM[df_subs_ether_2019_comcel_4g_seg_months$TRIMESTRE==3 & df_subs_ether_2019_comcel_4g_seg_months$MES_DEL_TRIMESTRE==3] <- 9\n",
    "df_subs_ether_2019_comcel_4g_seg_months$MONTH_NUM[df_subs_ether_2019_comcel_4g_seg_months$TRIMESTRE==4 & df_subs_ether_2019_comcel_4g_seg_months$MES_DEL_TRIMESTRE==1] <- 10\n",
    "df_subs_ether_2019_comcel_4g_seg_months$MONTH_NUM[df_subs_ether_2019_comcel_4g_seg_months$TRIMESTRE==4 & df_subs_ether_2019_comcel_4g_seg_months$MES_DEL_TRIMESTRE==2] <- 11\n",
    "df_subs_ether_2019_comcel_4g_seg_months$MONTH_NUM[df_subs_ether_2019_comcel_4g_seg_months$TRIMESTRE==4 & df_subs_ether_2019_comcel_4g_seg_months$MES_DEL_TRIMESTRE==3] <- 12\n",
    "\n",
    "df_subs_ether_2019_comcel_4g_seg_months$QUANTITY[df_subs_ether_2019_comcel_4g_seg_months$CANTIDAD_SUSCRIPTORES!=0] <- 1\n",
    "\n",
    "sprintf(\"Data structure\")\n",
    "df_subs_ether_2019_comcel_4g_seg_months\n",
    "\n",
    "sprintf(\"##### Prom subscriptors #####\")\n",
    "prom_subs <- sum(df_subs_ether_2019_comcel_4g_seg_months$CANTIDAD_SUSCRIPTORES)/sum(df_subs_ether_2019_comcel_4g_seg_months$QUANTITY)\n",
    "prom_subs\n",
    "\n",
    "sprintf(\"##### Standar Deviation #####\")\n",
    "\n",
    "sd_subs <- sd(df_subs_ether_2019_comcel_4g_seg_months$CANTIDAD_SUSCRIPTORES)\n",
    "sd_subs\n",
    "\n",
    "sprintf(\"##### sample size #####\")\n",
    "sample_size <- sum(df_subs_ether_2019_comcel_4g_seg_months$QUANTITY)\n",
    "sample_size\n",
    "\n",
    "sprintf(\"##### Mean #####\")\n",
    "mean_subs <- mean(df_subs_ether_2019_comcel_4g_seg_months$CANTIDAD_SUSCRIPTORES)\n",
    "mean_subs\n",
    "\n",
    "sprintf(\"##### Prom Trim 2 #####\")\n",
    "trim2_subs <- sum(df_subs_ether_2019_comcel_4g_seg_trim2$CANTIDAD_SUSCRIPTORES)/sum(df_subs_ether_2019_comcel_4g_seg_trim2$QUANTITY)\n",
    "\n",
    "# trim2_subs <- trim2_subs$CANTIDAD_SUSCRIPTORES\n",
    "\n",
    "trim2_subs\n",
    "\n",
    "sprintf(\"##### Hipotesis #####\")\n",
    "# valor t en 0.05 y 59 grados de libertad\n",
    "# t=\\frac{x-\\mu}{s/\\sqrt{n}}\n",
    "# x=trim_2\n",
    "# mu=mean\n",
    "\n",
    "# El valor promedio de subscriptores para el trimestre 2 NO ha cambiado respecto al promedio anual\n",
    "# Ho prom_trim2 != prom_anual #\n",
    "\n",
    "# Si se rechaza Ho se dice que son iguales prom_trim2 y prom_anual. \n",
    "# Si NO se rechaza Ho son diferentes\n",
    "\n",
    "# Ha prom_trim2 == prom_anual\n",
    "# 95%\n",
    "# t_0.025 > z > t_0.975 # Condición para rechazar Ho\n",
    "sprintf(\"Para Hipotesis alternativa (Ha) se cumple si es t_0.05 > z > t_0.975, hipotesis Nua si se esta fuera del rango\")\n",
    "\n",
    "sprintf(\"Valor de t_0.025\")\n",
    "qt(0.025, df=12, lower.tail=TRUE) # Izquierda\n",
    "\n",
    "sprintf(\"Valor de t_0.975\")\n",
    "qt(0.025, df=12, lower.tail=FALSE) # Derecha\n",
    "\n",
    "\n",
    "sprintf(\"Valor de la hipotesis\")\n",
    "num <- - trim2_subs + mean_subs\n",
    "den <- sd_subs / sqrt(sample_size)\n",
    "\n",
    "ta <- num/den;ta\n",
    "\n",
    "sprintf(\"El valor resultante está dentro del rango de la hipotesis por ende se acepta la hipotesis Nula (Ho) indicando que si ha cambiado el promedio del trimestre 2 con respecto al del promedio anual\")"
   ]
  }
 ],
 "metadata": {
  "celltoolbar": "Raw Cell Format",
  "kernelspec": {
   "display_name": "R",
   "language": "R",
   "name": "ir"
  },
  "language_info": {
   "codemirror_mode": "r",
   "file_extension": ".r",
   "mimetype": "text/x-r-source",
   "name": "R",
   "pygments_lexer": "r",
   "version": "3.6.3"
  }
 },
 "nbformat": 4,
 "nbformat_minor": 4
}
