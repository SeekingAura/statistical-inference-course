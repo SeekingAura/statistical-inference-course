{
 "cells": [
  {
   "cell_type": "markdown",
   "metadata": {},
   "source": [
    "# Distribución de probabilidad acumulada\n",
    "Es la probabilidad de obtener un valor mas bajo o igual a un valor limite. Nos pemrite cuantificar una variable aleatoria\n",
    "\n",
    "\n",
    "\n",
    "## Ejemplo\n",
    "\n",
    "$P(x=2\\ o\\ x=3)$\n",
    "\n",
    "## Codigo\n",
    "A continuación se describe una forma sencilla de graficar un histograma de distribución acumulada"
   ]
  },
  {
   "cell_type": "code",
   "execution_count": 1,
   "metadata": {},
   "outputs": [
    {
     "data": {
      "image/png": "[encoded data removed]",
      "text/plain": [
       "plot without title"
      ]
     },
     "metadata": {
      "image/png": {
       "height": 420,
       "width": 420
      },
      "text/plain": {
       "height": 420,
       "width": 420
      }
     },
     "output_type": "display_data"
    }
   ],
   "source": [
    "x <- c(1,2,3,4)\n",
    "y<-c(0.1, 0.3, 0.4, 0.2)\n",
    "plot(x,y,type=\"h\", col=\"dark blue\")"
   ]
  },
  {
   "cell_type": "markdown",
   "metadata": {},
   "source": [
    "## Utilidad\n",
    "Manera facil de calcular los valores d eprobabilidad que son menores o iguales a un valor dado.\n",
    "\n",
    "La distribución de probbilidad cumple dos funciones\n",
    "* Dado un valor x encontrar un $P(x<=X)$\n",
    "* Dada una probabilidad $P(x<=X)$ encontrar un valor x\n",
    "\n",
    "# Función de probabilidad uniforme\n",
    "La función de probabilidad uniforme discreta se expresa como:\n",
    "$f(x)=\\frac{1}{n}$\n",
    "\n",
    "Donde n es el número total de posibles valores diferentes.\n",
    "\n",
    "## Ejemplo\n",
    "|x|f(x)|$\\sum x$\n",
    "|-|-|-|\n",
    "|20|0.20|0.20|\n",
    "|25|0.15|0.35|\n",
    "|30|0.25|0.6|\n",
    "|35|0.4|1.0|\n",
    "\n",
    "* ¿Cual es la probabilidad de x=30?\n",
    "$P(x=30)=60$\n",
    "* Probabilidad de x <=20?\n",
    "0.35\n",
    "* Cual es la probabilidad  x>30?\n",
    "0.5\n",
    "\n",
    "## Ejercicio\n",
    "|Número de home Runs (x)|Ocurrencias|\n",
    "|-|-|\n",
    "|0|63|\n",
    "|1|51|\n",
    "|2|36|\n",
    "|3|9|\n",
    "|4|3|\n",
    "|5|0|\n",
    "\n",
    "1. ¿Encuentre la columna de probabilidad para cada home run? -> Probabildiad de cada home run\n",
    "2. Cual es la probabilidad que este equipo haga al menos tres home runs en un juego? -> Probabilidad de al menos 3 home run\n",
    "3. Construya un histograma de distribución de probabilidad de home run\n"
   ]
  },
  {
   "cell_type": "code",
   "execution_count": 14,
   "metadata": {},
   "outputs": [
    {
     "data": {
      "text/html": [
       "<table>\n",
       "<caption>A data.frame: 6 × 3</caption>\n",
       "<thead>\n",
       "\t<tr><th scope=col>num_homeruns</th><th scope=col>ocurrencies</th><th scope=col>ocurrencies_perc</th></tr>\n",
       "\t<tr><th scope=col>&lt;dbl&gt;</th><th scope=col>&lt;dbl&gt;</th><th scope=col>&lt;dbl&gt;</th></tr>\n",
       "</thead>\n",
       "<tbody>\n",
       "\t<tr><td>0</td><td>63</td><td>0.38888889</td></tr>\n",
       "\t<tr><td>1</td><td>51</td><td>0.31481481</td></tr>\n",
       "\t<tr><td>2</td><td>36</td><td>0.22222222</td></tr>\n",
       "\t<tr><td>3</td><td> 9</td><td>0.05555556</td></tr>\n",
       "\t<tr><td>4</td><td> 3</td><td>0.01851852</td></tr>\n",
       "\t<tr><td>5</td><td> 0</td><td>0.00000000</td></tr>\n",
       "</tbody>\n",
       "</table>\n"
      ],
      "text/latex": [
       "A data.frame: 6 × 3\n",
       "\\begin{tabular}{lll}\n",
       " num\\_homeruns & ocurrencies & ocurrencies\\_perc\\\\\n",
       " <dbl> & <dbl> & <dbl>\\\\\n",
       "\\hline\n",
       "\t 0 & 63 & 0.38888889\\\\\n",
       "\t 1 & 51 & 0.31481481\\\\\n",
       "\t 2 & 36 & 0.22222222\\\\\n",
       "\t 3 &  9 & 0.05555556\\\\\n",
       "\t 4 &  3 & 0.01851852\\\\\n",
       "\t 5 &  0 & 0.00000000\\\\\n",
       "\\end{tabular}\n"
      ],
      "text/markdown": [
       "\n",
       "A data.frame: 6 × 3\n",
       "\n",
       "| num_homeruns &lt;dbl&gt; | ocurrencies &lt;dbl&gt; | ocurrencies_perc &lt;dbl&gt; |\n",
       "|---|---|---|\n",
       "| 0 | 63 | 0.38888889 |\n",
       "| 1 | 51 | 0.31481481 |\n",
       "| 2 | 36 | 0.22222222 |\n",
       "| 3 |  9 | 0.05555556 |\n",
       "| 4 |  3 | 0.01851852 |\n",
       "| 5 |  0 | 0.00000000 |\n",
       "\n"
      ],
      "text/plain": [
       "  num_homeruns ocurrencies ocurrencies_perc\n",
       "1 0            63          0.38888889      \n",
       "2 1            51          0.31481481      \n",
       "3 2            36          0.22222222      \n",
       "4 3             9          0.05555556      \n",
       "5 4             3          0.01851852      \n",
       "6 5             0          0.00000000      "
      ]
     },
     "metadata": {},
     "output_type": "display_data"
    },
    {
     "data": {
      "image/png": "[encoded data removed]",
      "text/plain": [
       "plot without title"
      ]
     },
     "metadata": {
      "image/png": {
       "height": 420,
       "width": 420
      },
      "text/plain": {
       "height": 420,
       "width": 420
      }
     },
     "output_type": "display_data"
    }
   ],
   "source": [
    "homeruns_df <- data.frame( \n",
    "  \"num_homeruns\" = c(0, 1, 2, 3, 4, 5), \n",
    "  \"ocurrencies\" = c(63, 51, 36, 9, 3, 0)\n",
    ")\n",
    "# Make a copy of df\n",
    "homeruns_ocurr_perc_df<-homeruns_df\n",
    "\n",
    "# Get probability to make a homerun (base percentage of total homeruns)\n",
    "homeruns_ocurr_perc_df$ocurrencies_perc<-homeruns_ocurr_perc_df$ocurrencies/sum(homeruns_ocurr_perc_df$ocurrencies)\n",
    "\n",
    "homeruns_ocurr_perc_df\n",
    "\n",
    "\n",
    "# Histogram\n",
    "plot(homeruns_ocurr_perc_df$num_homeruns, homeruns_ocurr_perc_df$ocurrencies_perc,type=\"h\", col=\"dark blue\")"
   ]
  },
  {
   "cell_type": "markdown",
   "metadata": {},
   "source": [
    "# Ejercicio\n",
    "Para el juventus entre la temporada 2018-2019 gener ela tabla de probabildiad acumulada para el número de goles\n",
    "\n",
    "Genere un histograma de distribución de probabilidad\n",
    "\n",
    "Extra: genere la misma tabla para la temproada 2019. existen disferencias?\n",
    "\n"
   ]
  },
  {
   "cell_type": "code",
   "execution_count": 35,
   "metadata": {},
   "outputs": [
    {
     "data": {
      "text/html": [
       "'Tabla de frecuencia de goles de local'"
      ],
      "text/latex": [
       "'Tabla de frecuencia de goles de local'"
      ],
      "text/markdown": [
       "'Tabla de frecuencia de goles de local'"
      ],
      "text/plain": [
       "[1] \"Tabla de frecuencia de goles de local\""
      ]
     },
     "metadata": {},
     "output_type": "display_data"
    },
    {
     "data": {
      "text/plain": [
       "\n",
       "1 2 3 4 \n",
       "6 7 5 1 "
      ]
     },
     "metadata": {},
     "output_type": "display_data"
    },
    {
     "data": {
      "text/html": [
       "'Probabilidades de hacer gol como local'"
      ],
      "text/latex": [
       "'Probabilidades de hacer gol como local'"
      ],
      "text/markdown": [
       "'Probabilidades de hacer gol como local'"
      ],
      "text/plain": [
       "[1] \"Probabilidades de hacer gol como local\""
      ]
     },
     "metadata": {},
     "output_type": "display_data"
    },
    {
     "data": {
      "text/plain": [
       "\n",
       "         1          2          3          4 \n",
       "0.31578947 0.36842105 0.26315789 0.05263158 "
      ]
     },
     "metadata": {},
     "output_type": "display_data"
    },
    {
     "data": {
      "text/html": [
       "'Probabilidad acumulada de hacer goles como local'"
      ],
      "text/latex": [
       "'Probabilidad acumulada de hacer goles como local'"
      ],
      "text/markdown": [
       "'Probabilidad acumulada de hacer goles como local'"
      ],
      "text/plain": [
       "[1] \"Probabilidad acumulada de hacer goles como local\""
      ]
     },
     "metadata": {},
     "output_type": "display_data"
    },
    {
     "data": {
      "text/html": [
       "<style>\n",
       ".dl-inline {width: auto; margin:0; padding: 0}\n",
       ".dl-inline>dt, .dl-inline>dd {float: none; width: auto; display: inline-block}\n",
       ".dl-inline>dt::after {content: \":\\0020\"; padding-right: .5ex}\n",
       ".dl-inline>dt:not(:first-of-type) {padding-left: .5ex}\n",
       "</style><dl class=dl-inline><dt>1</dt><dd>0.315789473684211</dd><dt>2</dt><dd>0.684210526315789</dd><dt>3</dt><dd>0.947368421052632</dd><dt>4</dt><dd>1</dd></dl>\n"
      ],
      "text/latex": [
       "\\begin{description*}\n",
       "\\item[1] 0.315789473684211\n",
       "\\item[2] 0.684210526315789\n",
       "\\item[3] 0.947368421052632\n",
       "\\item[4] 1\n",
       "\\end{description*}\n"
      ],
      "text/markdown": [
       "1\n",
       ":   0.3157894736842112\n",
       ":   0.6842105263157893\n",
       ":   0.9473684210526324\n",
       ":   1\n",
       "\n"
      ],
      "text/plain": [
       "        1         2         3         4 \n",
       "0.3157895 0.6842105 0.9473684 1.0000000 "
      ]
     },
     "metadata": {},
     "output_type": "display_data"
    },
    {
     "data": {
      "text/html": [
       "'Probabilidad de no hacer un gol'"
      ],
      "text/latex": [
       "'Probabilidad de no hacer un gol'"
      ],
      "text/markdown": [
       "'Probabilidad de no hacer un gol'"
      ],
      "text/plain": [
       "[1] \"Probabilidad de no hacer un gol\""
      ]
     },
     "metadata": {},
     "output_type": "display_data"
    },
    {
     "data": {
      "text/html": [
       "<strong>1:</strong> 0.684210526315789"
      ],
      "text/latex": [
       "\\textbf{1:} 0.684210526315789"
      ],
      "text/markdown": [
       "**1:** 0.684210526315789"
      ],
      "text/plain": [
       "        1 \n",
       "0.6842105 "
      ]
     },
     "metadata": {},
     "output_type": "display_data"
    },
    {
     "data": {
      "text/html": [
       "'Tabla de frecuencia de goles de local'"
      ],
      "text/latex": [
       "'Tabla de frecuencia de goles de local'"
      ],
      "text/markdown": [
       "'Tabla de frecuencia de goles de local'"
      ],
      "text/plain": [
       "[1] \"Tabla de frecuencia de goles de local\""
      ]
     },
     "metadata": {},
     "output_type": "display_data"
    },
    {
     "data": {
      "text/plain": [
       "\n",
       "1 2 3 4 \n",
       "1 8 2 2 "
      ]
     },
     "metadata": {},
     "output_type": "display_data"
    },
    {
     "data": {
      "text/html": [
       "'Probabilidades de hacer gol como local'"
      ],
      "text/latex": [
       "'Probabilidades de hacer gol como local'"
      ],
      "text/markdown": [
       "'Probabilidades de hacer gol como local'"
      ],
      "text/plain": [
       "[1] \"Probabilidades de hacer gol como local\""
      ]
     },
     "metadata": {},
     "output_type": "display_data"
    },
    {
     "data": {
      "text/plain": [
       "\n",
       "         1          2          3          4 \n",
       "0.07692308 0.61538462 0.15384615 0.15384615 "
      ]
     },
     "metadata": {},
     "output_type": "display_data"
    },
    {
     "data": {
      "text/html": [
       "'Probabilidad acumulada de hacer goles como local'"
      ],
      "text/latex": [
       "'Probabilidad acumulada de hacer goles como local'"
      ],
      "text/markdown": [
       "'Probabilidad acumulada de hacer goles como local'"
      ],
      "text/plain": [
       "[1] \"Probabilidad acumulada de hacer goles como local\""
      ]
     },
     "metadata": {},
     "output_type": "display_data"
    },
    {
     "data": {
      "text/html": [
       "<style>\n",
       ".dl-inline {width: auto; margin:0; padding: 0}\n",
       ".dl-inline>dt, .dl-inline>dd {float: none; width: auto; display: inline-block}\n",
       ".dl-inline>dt::after {content: \":\\0020\"; padding-right: .5ex}\n",
       ".dl-inline>dt:not(:first-of-type) {padding-left: .5ex}\n",
       "</style><dl class=dl-inline><dt>1</dt><dd>0.0769230769230769</dd><dt>2</dt><dd>0.692307692307692</dd><dt>3</dt><dd>0.846153846153846</dd><dt>4</dt><dd>1</dd></dl>\n"
      ],
      "text/latex": [
       "\\begin{description*}\n",
       "\\item[1] 0.0769230769230769\n",
       "\\item[2] 0.692307692307692\n",
       "\\item[3] 0.846153846153846\n",
       "\\item[4] 1\n",
       "\\end{description*}\n"
      ],
      "text/markdown": [
       "1\n",
       ":   0.07692307692307692\n",
       ":   0.6923076923076923\n",
       ":   0.8461538461538464\n",
       ":   1\n",
       "\n"
      ],
      "text/plain": [
       "         1          2          3          4 \n",
       "0.07692308 0.69230769 0.84615385 1.00000000 "
      ]
     },
     "metadata": {},
     "output_type": "display_data"
    },
    {
     "data": {
      "text/html": [
       "'Probabilidad de no hacer un gol'"
      ],
      "text/latex": [
       "'Probabilidad de no hacer un gol'"
      ],
      "text/markdown": [
       "'Probabilidad de no hacer un gol'"
      ],
      "text/plain": [
       "[1] \"Probabilidad de no hacer un gol\""
      ]
     },
     "metadata": {},
     "output_type": "display_data"
    },
    {
     "data": {
      "text/html": [
       "<strong>1:</strong> 0.923076923076923"
      ],
      "text/latex": [
       "\\textbf{1:} 0.923076923076923"
      ],
      "text/markdown": [
       "**1:** 0.923076923076923"
      ],
      "text/plain": [
       "        1 \n",
       "0.9230769 "
      ]
     },
     "metadata": {},
     "output_type": "display_data"
    },
    {
     "data": {
      "image/png": "[encoded data removed]",
      "text/plain": [
       "Plot with title \"Temporada 1819\""
      ]
     },
     "metadata": {
      "image/png": {
       "height": 420,
       "width": 420
      },
      "text/plain": {
       "height": 420,
       "width": 420
      }
     },
     "output_type": "display_data"
    },
    {
     "data": {
      "image/png": "[encoded data removed]",
      "text/plain": [
       "Plot with title \"Temporada 1920\""
      ]
     },
     "metadata": {
      "image/png": {
       "height": 420,
       "width": 420
      },
      "text/plain": {
       "height": 420,
       "width": 420
      }
     },
     "output_type": "display_data"
    }
   ],
   "source": [
    "league1819_df <- read.csv(\"https://www.football-data.co.uk/mmz4281/1819/I1.csv\")\n",
    "league1920_df <- read.csv(\"https://www.football-data.co.uk/mmz4281/1920/I1.csv\")\n",
    "\n",
    "# Create a new dataframe with only home team an dFTHG\n",
    "league1819_HomeTeam_FTHG_df<-league1819_df[,c(\"HomeTeam\", \"FTHG\")]\n",
    "\n",
    "# Filter for home team juventus\n",
    "juv1819_df<- subset(league1819_HomeTeam_FTHG_df, league1819_HomeTeam_FTHG_df$HomeTeam==\"Juventus\")\n",
    "\n",
    "#juv1819_FTHG_df\n",
    "\n",
    "#juv1819_FTHG_df % > % group_by(\"FTHG\") % > % summarise(mean_run = mean(HR))\n",
    "\n",
    "frecuency_tab <- table(juv1819_df$FTHG)\n",
    "\n",
    "sprintf(\"Tabla de frecuencia de goles de local\")\n",
    "frecuency_tab\n",
    "\n",
    "prob_FTHG<-frecuency_tab/sum(frecuency_tab)\n",
    "\n",
    "sprintf(\"Probabilidades de hacer gol como local\") \n",
    "prob_FTHG\n",
    "\n",
    "sprintf(\"Probabilidad acumulada de hacer goles como local\")\n",
    "cumsum(prob_FTHG)\n",
    "\n",
    "sprintf(\"Probabilidad de no hacer un gol\")\n",
    "1-prob_FTHG[1]\n",
    "\n",
    "# Histogram\n",
    "plot(row.names(frecuency_tab), prob_FTHG, type=\"h\", main=\"Temporada 1819\")\n",
    "\n",
    "##\n",
    "\n",
    "league1920_HomeTeam_FTHG_df<-league1920_df[,c(\"HomeTeam\", \"FTHG\")]\n",
    "\n",
    "# Filter for only home team juventus\n",
    "juv1920_FTHG_df<- subset(league1920_HomeTeam_FTHG_df, league1920_HomeTeam_FTHG_df$HomeTeam==\"Juventus\")\n",
    "\n",
    "\n",
    "frecuency_tab <- table(juv1920_FTHG_df$FTHG)\n",
    "\n",
    "sprintf(\"Tabla de frecuencia de goles de local\")\n",
    "frecuency_tab\n",
    "\n",
    "\n",
    "\n",
    "prob_FTHG<-frecuency_tab/sum(frecuency_tab)\n",
    "\n",
    "\n",
    "sprintf(\"Probabilidades de hacer gol como local\") \n",
    "prob_FTHG\n",
    "\n",
    "sprintf(\"Probabilidad acumulada de hacer goles como local\")\n",
    "cumsum(prob_FTHG)\n",
    "\n",
    "sprintf(\"Probabilidad de no hacer un gol\")\n",
    "1-prob_FTHG[1]\n",
    "\n",
    "# Histogram\n",
    "plot(row.names(frecuency_tab), prob_FTHG, type=\"h\", main=\"Temporada 1920\")\n",
    "\n",
    "#juv1819_homeT_FTHG_df$ProbGoal<-juv1819_homeT_FTHG_df$FTHG/sum(juv1819_homeT_FTHG_df$FTHG)\n",
    "\n",
    "\n",
    "\n"
   ]
  },
  {
   "cell_type": "markdown",
   "metadata": {},
   "source": [
    "# La Esperanza\n",
    "Es el valor de una estimado a razón de un valor de acuerdo a unas probabilidades, es como la media de las probabilidades, donde se define los valores\n",
    "\n",
    "## Ejemplo\n",
    "Suponga que en un viaje hacia el trabajo hay 3 semáforos cada espera adiciona 2 minutos de tiempo al viaje. Ademas has encotnrado la probabilidad que debes espera en los tres semaforos\n",
    "\n",
    "|Paradas|0|1|2|3|\n",
    "|-|-|-|-|-|\n",
    "|Espera min. (x) - Esperanza|0|2|4|6|\n",
    "|Probabilidad f(x)|0.3|0.4|0.2|0.1|\n",
    "\n",
    "¿Cual es el tiempo promedio esperado?\n",
    "$E(x)=(0*0.3)+(2*0.4)+(4*0.2)+(6*0.1)$\n",
    "\n",
    "$=0.0+0.8+0.8+0.6=2.2$\n",
    "\n",
    "Convertido en minutos es 2.12 minutos. Esto nunca ocurre, se puede esperar 0,2,4 o 6 minutos, el modelo determina o establece el tiempo que resultará la mayoria de veces, lo cual puede darse que tardará o 2 minutos o 4 minutos\n"
   ]
  },
  {
   "cell_type": "markdown",
   "metadata": {},
   "source": [
    "# Propiedades\n",
    "Considere que ocurre si una variable aleatoria x es ajustada\n",
    "\n",
    "## Ejemplo\n",
    "Del ejercicio anterior asuma que encontró una ruta más corta que permite ahorrar 1 minuto, pero al mismo tiempo el trafico es más pesado y el tiempo de espera se incrementa en 2 minutos y medio, es decir en 25% (sobre 2 minutos).\n",
    "\n",
    "El tiempo ahorrado correspondiente para $a=-1$, un minuto de ahorro y $b=1.25$\n",
    "\n",
    "$E(X)_{a+b}=-1+(1.25)(2.2)=1.75$\n",
    "\n",
    "En 1 minuto y 45 segundos. Siendo el tiempo de ahorro y considerar el factor de incrmeneto de trafico del 25% (1.25) (25% adicional de la esperanza anterior)\n",
    "\n",
    "## Otra propiedad\n",
    "Las esperanzas de dos variables aleatorias se pueden sumar o restar\n",
    "\n",
    "## Ejemplo\n",
    "Del ejemplo anterior, si media del tiempo empleado en los dias laboreales (lunes a viernes) es de 1.75 minutos, cual es el tiempo de espera total para esos dias?\n",
    "\n",
    "$E(X)_{lunes}+E(x)_{martes}+\\cdots =(1.75)*5=8.75$\n",
    "\n",
    "Es decir 8 minutos 45 segundos.\n",
    "\n",
    "# Varianza\n",
    "La medida de la variabilidado dispersión de una variable aleatoria es la **varianza** y se expresa como\n",
    "$Var(x)=\\sigma ^{2}=\\sum(x-\\mu)^{2}f(x)$\n",
    "\n",
    "## Suma de varianza\n",
    "La suma de las varianzas de dos variables aleatorias esta definida como:\n",
    "\n",
    "\n",
    "Si las variables aleatorias estan corrrelacioandas $cov\\neq 0$, si no están correlacionadas (disjuntas) $cov=0$\n",
    "\n",
    "\n",
    "## Ejemplo\n",
    "Para una empresa de venta de vihiculos se tiene el valor esperado del número de autos que se venden en un día\n",
    "\n",
    "|x|f(x)|xf(x)|\n",
    "|-|----|-----|\n",
    "|0|0.18|a|\n",
    "|1|0.39|a|\n",
    "|2|0.24|a|\n",
    "|3|0.14|a|\n",
    "|4|0.04|a|\n",
    "|5|0.01|a|\n",
    "\n",
    "Mediante la esperanza se obtienen rangos estimados ante lo que tiene los datos. Recordar que la esperanza le relaciona la probabilidad de un hecho futuro\n",
    "\n",
    "Recoerdando una estimación puntual es el valor directamente de esperanza, y el de parametros es dado un rango\n",
    "\n",
    "Hecho cumplido es estadistica, probabilidad es hipotesis.\n",
    "\n",
    "La desviación me dice la distiancia que tiene los datos de la media donde establece un rango"
   ]
  },
  {
   "cell_type": "code",
   "execution_count": 39,
   "metadata": {},
   "outputs": [
    {
     "data": {
      "text/html": [
       "'Datos'"
      ],
      "text/latex": [
       "'Datos'"
      ],
      "text/markdown": [
       "'Datos'"
      ],
      "text/plain": [
       "[1] \"Datos\""
      ]
     },
     "metadata": {},
     "output_type": "display_data"
    },
    {
     "data": {
      "text/html": [
       "<style>\n",
       ".list-inline {list-style: none; margin:0; padding: 0}\n",
       ".list-inline>li {display: inline-block}\n",
       ".list-inline>li:not(:last-child)::after {content: \"\\00b7\"; padding: 0 .5ex}\n",
       "</style>\n",
       "<ol class=list-inline><li>0</li><li>1</li><li>2</li><li>3</li><li>4</li><li>5</li></ol>\n"
      ],
      "text/latex": [
       "\\begin{enumerate*}\n",
       "\\item 0\n",
       "\\item 1\n",
       "\\item 2\n",
       "\\item 3\n",
       "\\item 4\n",
       "\\item 5\n",
       "\\end{enumerate*}\n"
      ],
      "text/markdown": [
       "1. 0\n",
       "2. 1\n",
       "3. 2\n",
       "4. 3\n",
       "5. 4\n",
       "6. 5\n",
       "\n",
       "\n"
      ],
      "text/plain": [
       "[1] 0 1 2 3 4 5"
      ]
     },
     "metadata": {},
     "output_type": "display_data"
    },
    {
     "data": {
      "text/html": [
       "<style>\n",
       ".list-inline {list-style: none; margin:0; padding: 0}\n",
       ".list-inline>li {display: inline-block}\n",
       ".list-inline>li:not(:last-child)::after {content: \"\\00b7\"; padding: 0 .5ex}\n",
       "</style>\n",
       "<ol class=list-inline><li>0.18</li><li>0.39</li><li>0.24</li><li>0.14</li><li>0.04</li><li>0.01</li></ol>\n"
      ],
      "text/latex": [
       "\\begin{enumerate*}\n",
       "\\item 0.18\n",
       "\\item 0.39\n",
       "\\item 0.24\n",
       "\\item 0.14\n",
       "\\item 0.04\n",
       "\\item 0.01\n",
       "\\end{enumerate*}\n"
      ],
      "text/markdown": [
       "1. 0.18\n",
       "2. 0.39\n",
       "3. 0.24\n",
       "4. 0.14\n",
       "5. 0.04\n",
       "6. 0.01\n",
       "\n",
       "\n"
      ],
      "text/plain": [
       "[1] 0.18 0.39 0.24 0.14 0.04 0.01"
      ]
     },
     "metadata": {},
     "output_type": "display_data"
    },
    {
     "data": {
      "text/html": [
       "'Valor de esperanza'"
      ],
      "text/latex": [
       "'Valor de esperanza'"
      ],
      "text/markdown": [
       "'Valor de esperanza'"
      ],
      "text/plain": [
       "[1] \"Valor de esperanza\""
      ]
     },
     "metadata": {},
     "output_type": "display_data"
    },
    {
     "data": {
      "text/html": [
       "1.5"
      ],
      "text/latex": [
       "1.5"
      ],
      "text/markdown": [
       "1.5"
      ],
      "text/plain": [
       "[1] 1.5"
      ]
     },
     "metadata": {},
     "output_type": "display_data"
    },
    {
     "data": {
      "text/html": [
       "'Valor de Varianza'"
      ],
      "text/latex": [
       "'Valor de Varianza'"
      ],
      "text/markdown": [
       "'Valor de Varianza'"
      ],
      "text/plain": [
       "[1] \"Valor de Varianza\""
      ]
     },
     "metadata": {},
     "output_type": "display_data"
    },
    {
     "data": {
      "text/html": [
       "0.0193466666666667"
      ],
      "text/latex": [
       "0.0193466666666667"
      ],
      "text/markdown": [
       "0.0193466666666667"
      ],
      "text/plain": [
       "[1] 0.01934667"
      ]
     },
     "metadata": {},
     "output_type": "display_data"
    },
    {
     "data": {
      "text/html": [
       "'Valor de Varianza sobre la varianza'"
      ],
      "text/latex": [
       "'Valor de Varianza sobre la varianza'"
      ],
      "text/markdown": [
       "'Valor de Varianza sobre la varianza'"
      ],
      "text/plain": [
       "[1] \"Valor de Varianza sobre la varianza\""
      ]
     },
     "metadata": {},
     "output_type": "display_data"
    },
    {
     "data": {
      "text/html": [
       "1.25"
      ],
      "text/latex": [
       "1.25"
      ],
      "text/markdown": [
       "1.25"
      ],
      "text/plain": [
       "[1] 1.25"
      ]
     },
     "metadata": {},
     "output_type": "display_data"
    }
   ],
   "source": [
    "x<-(0:5)\n",
    "y<- c(0.18, 0.39, 0.24, 0.14, 0.04, 0.01)\n",
    "sprintf(\"Datos\")\n",
    "# x are events and 'y' are sucessions\n",
    "x;y\n",
    "\n",
    "\n",
    "\n",
    "# Calculate Hope (esperanza)\n",
    "sprintf(\"Valor de esperanza\")\n",
    "weighted.mean(x,y)\n",
    "\n",
    "# Ger variance\n",
    "sprintf(\"Valor de Varianza\")\n",
    "var(y)\n",
    "\n",
    "library(Weighted.Desc.Stat)\n",
    "# Varianza sobre la esperanza\n",
    "sprintf(\"Valor de Varianza sobre la varianza\")\n",
    "w.var(x,y)"
   ]
  },
  {
   "cell_type": "markdown",
   "metadata": {},
   "source": [
    "# Ejercicio\n",
    "La siguiente tabla muestra la distribución de probabilidad de una variable aleatoria y:\n",
    "|y|f(y)|\n",
    "|-|-|\n",
    "|2|0.20|\n",
    "|4|0.30|\n",
    "|7|0.40|\n",
    "|8|0.10|\n",
    "Encontrar\n",
    "1. E(x)\n",
    "2. varianza y desviación estandar de probvabilidad"
   ]
  },
  {
   "cell_type": "code",
   "execution_count": 40,
   "metadata": {},
   "outputs": [
    {
     "data": {
      "text/html": [
       "'Valor de esperanza'"
      ],
      "text/latex": [
       "'Valor de esperanza'"
      ],
      "text/markdown": [
       "'Valor de esperanza'"
      ],
      "text/plain": [
       "[1] \"Valor de esperanza\""
      ]
     },
     "metadata": {},
     "output_type": "display_data"
    },
    {
     "data": {
      "text/html": [
       "5.2"
      ],
      "text/latex": [
       "5.2"
      ],
      "text/markdown": [
       "5.2"
      ],
      "text/plain": [
       "[1] 5.2"
      ]
     },
     "metadata": {},
     "output_type": "display_data"
    },
    {
     "data": {
      "text/html": [
       "'Varianza de probabilidad'"
      ],
      "text/latex": [
       "'Varianza de probabilidad'"
      ],
      "text/markdown": [
       "'Varianza de probabilidad'"
      ],
      "text/plain": [
       "[1] \"Varianza de probabilidad\""
      ]
     },
     "metadata": {},
     "output_type": "display_data"
    },
    {
     "data": {
      "text/html": [
       "4.56"
      ],
      "text/latex": [
       "4.56"
      ],
      "text/markdown": [
       "4.56"
      ],
      "text/plain": [
       "[1] 4.56"
      ]
     },
     "metadata": {},
     "output_type": "display_data"
    },
    {
     "data": {
      "text/html": [
       "'Desviación estandar de probabilidad'"
      ],
      "text/latex": [
       "'Desviación estandar de probabilidad'"
      ],
      "text/markdown": [
       "'Desviación estandar de probabilidad'"
      ],
      "text/plain": [
       "[1] \"Desviación estandar de probabilidad\""
      ]
     },
     "metadata": {},
     "output_type": "display_data"
    },
    {
     "data": {
      "text/html": [
       "2.13541565040626"
      ],
      "text/latex": [
       "2.13541565040626"
      ],
      "text/markdown": [
       "2.13541565040626"
      ],
      "text/plain": [
       "[1] 2.135416"
      ]
     },
     "metadata": {},
     "output_type": "display_data"
    }
   ],
   "source": [
    "y<-c(2, 4, 7, 8)\n",
    "f_y<- c(0.20, 0.30, 0.40, 0.10)\n",
    "\n",
    "\n",
    "sprintf(\"Valor de esperanza\")\n",
    "# Hope\n",
    "weighted.mean(y,f_y)\n",
    "\n",
    "library(Weighted.Desc.Stat)\n",
    "\n",
    "sprintf(\"Varianza de probabilidad\")\n",
    "# Variance\n",
    "w.var(y, f_y)\n",
    "\n",
    "sprintf(\"Desviación estandar de probabilidad\")\n",
    "# Standar desviation\n",
    "w.sd(y,f_y)\n"
   ]
  },
  {
   "cell_type": "markdown",
   "metadata": {},
   "source": [
    "# Media y varianza en variables continuas\n",
    "Para una variable aleatoria continua los posibles estan determinados por un intervalo, el área bajo la curba nos determina la probabilidad acumulada de ocurrencia de una variable\n",
    "\n",
    "Para una variable discreta aleatoria se cumple:\n",
    "\n",
    "* Cada intervalo tiene una probabilidad entre 0 y 1\n",
    "* El intervalo contiene todas las posibles probabilidades que pueden ocurrir asi que el area bajo la curva debe sumar 1\n",
    "\n",
    "Las variables continuas requeiren el uso de integrales (debido por el area bajo la curva), la esperanza de una variable aleatoria continua esta definida como la multiplciación de cada uno de los elementos por su probabilidad \n",
    "$\\mu _{x}=E(x)=\\int_{\\infty}^{}$\n",
    "\n",
    "y la varianza como"
   ]
  },
  {
   "cell_type": "markdown",
   "metadata": {},
   "source": [
    "# Proxima clase\n",
    "* Distribución normal\n",
    "* Distribución Z\n",
    "* ejemplos"
   ]
  }
 ],
 "metadata": {
  "kernelspec": {
   "display_name": "R",
   "language": "R",
   "name": "ir"
  },
  "language_info": {
   "codemirror_mode": "r",
   "file_extension": ".r",
   "mimetype": "text/x-r-source",
   "name": "R",
   "pygments_lexer": "r",
   "version": "3.6.3"
  }
 },
 "nbformat": 4,
 "nbformat_minor": 4
}
