{
 "cells": [
  {
   "cell_type": "markdown",
   "metadata": {},
   "source": [
    "# Distribución binomial\n",
    "# experimento binomial\n",
    "Se encuentra relacionada con el expeirmento binomial que posee tres propiedades\n",
    "* Experimentos con n ensayos\n",
    "* Cada ensayo con dos resultados posibles\n",
    "* La probabilidad de éxito p no cambia de un ensayo a otro, la probabilidad de fracaso (q=1-p) tampoco\n",
    "* Los ensayos son independientes\n",
    "\n",
    "\n",
    "\n",
    "La distribución binomia l se representa con una $X \\sim B(n,p)$\n",
    "\n",
    "p probabildiad de exito en cualquier ensallo\n",
    "\n",
    "## Coeficiente binomial\n",
    "Es llamado coeficiente binomial y nos indica el número de salida donde x es exitoso en n intentos\n",
    "\n",
    "$\\binom{n}{x}$\n",
    "\n",
    "\n",
    "## Ejemplo\n",
    "Un puente está 10% del dia abierto, el problema es que se requeire utilizar el puente 5 veces a la semana\n",
    "\n",
    "La probabilidad de éxio p=0.1 probabilidad de fracaso q=1-p = 1-0.1 =0.9 y n=5\n",
    "\n",
    "N es el número de eventos a realizar (5 veces a la semana se pasa por el puente)\n",
    "\n",
    "¿Es popsible hallar un modelo probabilistico que defina el comportmaiento de este puente?\n",
    "\n",
    "P(x=0) 0.59049 -> probabilidad de NO encontrarlo abierto\n",
    "\n",
    "Cual es la probabilidad de encontrar el puente abierto al menos una vez?\n",
    "\n",
    "$P(x<=1) = P(x=0) + P(x=1)$\n",
    "$P(x<=1)=0.59+0.238=0.918\\sim 0.92$\n",
    "\n",
    "## Propiedades\n",
    "Una distribución binomial con pocas probabilidad de éxito es sesgada a la derecha \n",
    "\n",
    "Cual es la probabildiad de encontrar el puente abierto al menos una vez\n",
    "\n",
    "P(x>=1) = P(x=1)+P(x=2)+P(x=3)+P(x=4)+P(x=5)\n",
    "\n",
    "P(x>=1) = 1- P(x=0)\n",
    "\n",
    "\n",
    "\n",
    "## Propiedades\n",
    "* Una distribución binomial con pocas probabilidades de éxito es sesgada\n",
    "\n",
    "\n",
    "## Ejercicio\n",
    "¿Cual es la probabildiad del Schalke 04 de ganar cuando juega e local?\n",
    "\n",
    "Para ello encontramos primero la probabilidad de victoria\n",
    "\n"
   ]
  },
  {
   "cell_type": "code",
   "execution_count": 15,
   "metadata": {},
   "outputs": [
    {
     "data": {
      "text/html": [
       "'head of data'"
      ],
      "text/latex": [
       "'head of data'"
      ],
      "text/markdown": [
       "'head of data'"
      ],
      "text/plain": [
       "[1] \"head of data\""
      ]
     },
     "metadata": {},
     "output_type": "display_data"
    },
    {
     "data": {
      "text/html": [
       "<table>\n",
       "<caption>A data.frame: 6 × 105</caption>\n",
       "<thead>\n",
       "\t<tr><th></th><th scope=col>Div</th><th scope=col>Date</th><th scope=col>Time</th><th scope=col>HomeTeam</th><th scope=col>AwayTeam</th><th scope=col>FTHG</th><th scope=col>FTAG</th><th scope=col>FTR</th><th scope=col>HTHG</th><th scope=col>HTAG</th><th scope=col>...</th><th scope=col>AvgC.2.5.1</th><th scope=col>AHCh</th><th scope=col>B365CAHH</th><th scope=col>B365CAHA</th><th scope=col>PCAHH</th><th scope=col>PCAHA</th><th scope=col>MaxCAHH</th><th scope=col>MaxCAHA</th><th scope=col>AvgCAHH</th><th scope=col>AvgCAHA</th></tr>\n",
       "\t<tr><th></th><th scope=col>&lt;fct&gt;</th><th scope=col>&lt;fct&gt;</th><th scope=col>&lt;fct&gt;</th><th scope=col>&lt;fct&gt;</th><th scope=col>&lt;fct&gt;</th><th scope=col>&lt;int&gt;</th><th scope=col>&lt;int&gt;</th><th scope=col>&lt;fct&gt;</th><th scope=col>&lt;int&gt;</th><th scope=col>&lt;int&gt;</th><th scope=col>...</th><th scope=col>&lt;dbl&gt;</th><th scope=col>&lt;dbl&gt;</th><th scope=col>&lt;dbl&gt;</th><th scope=col>&lt;dbl&gt;</th><th scope=col>&lt;dbl&gt;</th><th scope=col>&lt;dbl&gt;</th><th scope=col>&lt;dbl&gt;</th><th scope=col>&lt;dbl&gt;</th><th scope=col>&lt;dbl&gt;</th><th scope=col>&lt;dbl&gt;</th></tr>\n",
       "</thead>\n",
       "<tbody>\n",
       "\t<tr><th scope=row>1</th><td>SP1</td><td>16/08/2019</td><td>20:00</td><td>Ath Bilbao</td><td>Barcelona  </td><td>1</td><td>0</td><td>H</td><td>0</td><td>0</td><td>...</td><td>1.97</td><td> 0.75</td><td>1.93</td><td>2.00</td><td>1.91</td><td>2.01</td><td>2.02</td><td>2.03</td><td>1.91</td><td>1.98</td></tr>\n",
       "\t<tr><th scope=row>2</th><td>SP1</td><td>17/08/2019</td><td>16:00</td><td>Celta     </td><td>Real Madrid</td><td>1</td><td>3</td><td>A</td><td>0</td><td>1</td><td>...</td><td>2.63</td><td> 1.00</td><td>1.82</td><td>1.97</td><td>1.85</td><td>2.07</td><td>2.00</td><td>2.20</td><td>1.82</td><td>2.06</td></tr>\n",
       "\t<tr><th scope=row>3</th><td>SP1</td><td>17/08/2019</td><td>18:00</td><td>Valencia  </td><td>Sociedad   </td><td>1</td><td>1</td><td>D</td><td>0</td><td>0</td><td>...</td><td>1.82</td><td>-0.75</td><td>1.94</td><td>1.99</td><td>1.92</td><td>2.00</td><td>1.96</td><td>2.12</td><td>1.89</td><td>2.00</td></tr>\n",
       "\t<tr><th scope=row>4</th><td>SP1</td><td>17/08/2019</td><td>19:00</td><td>Mallorca  </td><td>Eibar      </td><td>2</td><td>1</td><td>H</td><td>1</td><td>0</td><td>...</td><td>1.66</td><td> 0.00</td><td>2.11</td><td>1.82</td><td>2.09</td><td>1.83</td><td>2.12</td><td>1.88</td><td>2.07</td><td>1.83</td></tr>\n",
       "\t<tr><th scope=row>5</th><td>SP1</td><td>17/08/2019</td><td>20:00</td><td>Leganes   </td><td>Osasuna    </td><td>0</td><td>1</td><td>A</td><td>0</td><td>0</td><td>...</td><td>1.46</td><td>-0.50</td><td>1.89</td><td>2.04</td><td>1.90</td><td>2.01</td><td>1.95</td><td>2.06</td><td>1.90</td><td>1.99</td></tr>\n",
       "\t<tr><th scope=row>6</th><td>SP1</td><td>17/08/2019</td><td>20:00</td><td>Villarreal</td><td>Granada    </td><td>4</td><td>4</td><td>D</td><td>1</td><td>1</td><td>...</td><td>1.92</td><td>-1.00</td><td>1.96</td><td>1.97</td><td>1.96</td><td>1.96</td><td>1.98</td><td>2.12</td><td>1.93</td><td>1.95</td></tr>\n",
       "</tbody>\n",
       "</table>\n"
      ],
      "text/latex": [
       "A data.frame: 6 × 105\n",
       "\\begin{tabular}{r|lllllllllllllllllllll}\n",
       "  & Div & Date & Time & HomeTeam & AwayTeam & FTHG & FTAG & FTR & HTHG & HTAG & ... & AvgC.2.5.1 & AHCh & B365CAHH & B365CAHA & PCAHH & PCAHA & MaxCAHH & MaxCAHA & AvgCAHH & AvgCAHA\\\\\n",
       "  & <fct> & <fct> & <fct> & <fct> & <fct> & <int> & <int> & <fct> & <int> & <int> & ... & <dbl> & <dbl> & <dbl> & <dbl> & <dbl> & <dbl> & <dbl> & <dbl> & <dbl> & <dbl>\\\\\n",
       "\\hline\n",
       "\t1 & SP1 & 16/08/2019 & 20:00 & Ath Bilbao & Barcelona   & 1 & 0 & H & 0 & 0 & ... & 1.97 &  0.75 & 1.93 & 2.00 & 1.91 & 2.01 & 2.02 & 2.03 & 1.91 & 1.98\\\\\n",
       "\t2 & SP1 & 17/08/2019 & 16:00 & Celta      & Real Madrid & 1 & 3 & A & 0 & 1 & ... & 2.63 &  1.00 & 1.82 & 1.97 & 1.85 & 2.07 & 2.00 & 2.20 & 1.82 & 2.06\\\\\n",
       "\t3 & SP1 & 17/08/2019 & 18:00 & Valencia   & Sociedad    & 1 & 1 & D & 0 & 0 & ... & 1.82 & -0.75 & 1.94 & 1.99 & 1.92 & 2.00 & 1.96 & 2.12 & 1.89 & 2.00\\\\\n",
       "\t4 & SP1 & 17/08/2019 & 19:00 & Mallorca   & Eibar       & 2 & 1 & H & 1 & 0 & ... & 1.66 &  0.00 & 2.11 & 1.82 & 2.09 & 1.83 & 2.12 & 1.88 & 2.07 & 1.83\\\\\n",
       "\t5 & SP1 & 17/08/2019 & 20:00 & Leganes    & Osasuna     & 0 & 1 & A & 0 & 0 & ... & 1.46 & -0.50 & 1.89 & 2.04 & 1.90 & 2.01 & 1.95 & 2.06 & 1.90 & 1.99\\\\\n",
       "\t6 & SP1 & 17/08/2019 & 20:00 & Villarreal & Granada     & 4 & 4 & D & 1 & 1 & ... & 1.92 & -1.00 & 1.96 & 1.97 & 1.96 & 1.96 & 1.98 & 2.12 & 1.93 & 1.95\\\\\n",
       "\\end{tabular}\n"
      ],
      "text/markdown": [
       "\n",
       "A data.frame: 6 × 105\n",
       "\n",
       "| <!--/--> | Div &lt;fct&gt; | Date &lt;fct&gt; | Time &lt;fct&gt; | HomeTeam &lt;fct&gt; | AwayTeam &lt;fct&gt; | FTHG &lt;int&gt; | FTAG &lt;int&gt; | FTR &lt;fct&gt; | HTHG &lt;int&gt; | HTAG &lt;int&gt; | ... ... | AvgC.2.5.1 &lt;dbl&gt; | AHCh &lt;dbl&gt; | B365CAHH &lt;dbl&gt; | B365CAHA &lt;dbl&gt; | PCAHH &lt;dbl&gt; | PCAHA &lt;dbl&gt; | MaxCAHH &lt;dbl&gt; | MaxCAHA &lt;dbl&gt; | AvgCAHH &lt;dbl&gt; | AvgCAHA &lt;dbl&gt; |\n",
       "|---|---|---|---|---|---|---|---|---|---|---|---|---|---|---|---|---|---|---|---|---|---|\n",
       "| 1 | SP1 | 16/08/2019 | 20:00 | Ath Bilbao | Barcelona   | 1 | 0 | H | 0 | 0 | ... | 1.97 |  0.75 | 1.93 | 2.00 | 1.91 | 2.01 | 2.02 | 2.03 | 1.91 | 1.98 |\n",
       "| 2 | SP1 | 17/08/2019 | 16:00 | Celta      | Real Madrid | 1 | 3 | A | 0 | 1 | ... | 2.63 |  1.00 | 1.82 | 1.97 | 1.85 | 2.07 | 2.00 | 2.20 | 1.82 | 2.06 |\n",
       "| 3 | SP1 | 17/08/2019 | 18:00 | Valencia   | Sociedad    | 1 | 1 | D | 0 | 0 | ... | 1.82 | -0.75 | 1.94 | 1.99 | 1.92 | 2.00 | 1.96 | 2.12 | 1.89 | 2.00 |\n",
       "| 4 | SP1 | 17/08/2019 | 19:00 | Mallorca   | Eibar       | 2 | 1 | H | 1 | 0 | ... | 1.66 |  0.00 | 2.11 | 1.82 | 2.09 | 1.83 | 2.12 | 1.88 | 2.07 | 1.83 |\n",
       "| 5 | SP1 | 17/08/2019 | 20:00 | Leganes    | Osasuna     | 0 | 1 | A | 0 | 0 | ... | 1.46 | -0.50 | 1.89 | 2.04 | 1.90 | 2.01 | 1.95 | 2.06 | 1.90 | 1.99 |\n",
       "| 6 | SP1 | 17/08/2019 | 20:00 | Villarreal | Granada     | 4 | 4 | D | 1 | 1 | ... | 1.92 | -1.00 | 1.96 | 1.97 | 1.96 | 1.96 | 1.98 | 2.12 | 1.93 | 1.95 |\n",
       "\n"
      ],
      "text/plain": [
       "  Div Date       Time  HomeTeam   AwayTeam    FTHG FTAG FTR HTHG HTAG ...\n",
       "1 SP1 16/08/2019 20:00 Ath Bilbao Barcelona   1    0    H   0    0    ...\n",
       "2 SP1 17/08/2019 16:00 Celta      Real Madrid 1    3    A   0    1    ...\n",
       "3 SP1 17/08/2019 18:00 Valencia   Sociedad    1    1    D   0    0    ...\n",
       "4 SP1 17/08/2019 19:00 Mallorca   Eibar       2    1    H   1    0    ...\n",
       "5 SP1 17/08/2019 20:00 Leganes    Osasuna     0    1    A   0    0    ...\n",
       "6 SP1 17/08/2019 20:00 Villarreal Granada     4    4    D   1    1    ...\n",
       "  AvgC.2.5.1 AHCh  B365CAHH B365CAHA PCAHH PCAHA MaxCAHH MaxCAHA AvgCAHH\n",
       "1 1.97        0.75 1.93     2.00     1.91  2.01  2.02    2.03    1.91   \n",
       "2 2.63        1.00 1.82     1.97     1.85  2.07  2.00    2.20    1.82   \n",
       "3 1.82       -0.75 1.94     1.99     1.92  2.00  1.96    2.12    1.89   \n",
       "4 1.66        0.00 2.11     1.82     2.09  1.83  2.12    1.88    2.07   \n",
       "5 1.46       -0.50 1.89     2.04     1.90  2.01  1.95    2.06    1.90   \n",
       "6 1.92       -1.00 1.96     1.97     1.96  1.96  1.98    2.12    1.93   \n",
       "  AvgCAHA\n",
       "1 1.98   \n",
       "2 2.06   \n",
       "3 2.00   \n",
       "4 1.83   \n",
       "5 1.99   \n",
       "6 1.95   "
      ]
     },
     "metadata": {},
     "output_type": "display_data"
    },
    {
     "data": {
      "text/html": [
       "'Print all existent teams '"
      ],
      "text/latex": [
       "'Print all existent teams '"
      ],
      "text/markdown": [
       "'Print all existent teams '"
      ],
      "text/plain": [
       "[1] \"Print all existent teams \""
      ]
     },
     "metadata": {},
     "output_type": "display_data"
    },
    {
     "data": {
      "text/html": [
       "<style>\n",
       ".list-inline {list-style: none; margin:0; padding: 0}\n",
       ".list-inline>li {display: inline-block}\n",
       ".list-inline>li:not(:last-child)::after {content: \"\\00b7\"; padding: 0 .5ex}\n",
       "</style>\n",
       "<ol class=list-inline><li>'Alaves'</li><li>'Ath Bilbao'</li><li>'Ath Madrid'</li><li>'Barcelona'</li><li>'Betis'</li><li>'Celta'</li><li>'Eibar'</li><li>'Espanol'</li><li>'Getafe'</li><li>'Granada'</li><li>'Leganes'</li><li>'Levante'</li><li>'Mallorca'</li><li>'Osasuna'</li><li>'Real Madrid'</li><li>'Sevilla'</li><li>'Sociedad'</li><li>'Valencia'</li><li>'Valladolid'</li><li>'Villarreal'</li></ol>\n"
      ],
      "text/latex": [
       "\\begin{enumerate*}\n",
       "\\item 'Alaves'\n",
       "\\item 'Ath Bilbao'\n",
       "\\item 'Ath Madrid'\n",
       "\\item 'Barcelona'\n",
       "\\item 'Betis'\n",
       "\\item 'Celta'\n",
       "\\item 'Eibar'\n",
       "\\item 'Espanol'\n",
       "\\item 'Getafe'\n",
       "\\item 'Granada'\n",
       "\\item 'Leganes'\n",
       "\\item 'Levante'\n",
       "\\item 'Mallorca'\n",
       "\\item 'Osasuna'\n",
       "\\item 'Real Madrid'\n",
       "\\item 'Sevilla'\n",
       "\\item 'Sociedad'\n",
       "\\item 'Valencia'\n",
       "\\item 'Valladolid'\n",
       "\\item 'Villarreal'\n",
       "\\end{enumerate*}\n"
      ],
      "text/markdown": [
       "1. 'Alaves'\n",
       "2. 'Ath Bilbao'\n",
       "3. 'Ath Madrid'\n",
       "4. 'Barcelona'\n",
       "5. 'Betis'\n",
       "6. 'Celta'\n",
       "7. 'Eibar'\n",
       "8. 'Espanol'\n",
       "9. 'Getafe'\n",
       "10. 'Granada'\n",
       "11. 'Leganes'\n",
       "12. 'Levante'\n",
       "13. 'Mallorca'\n",
       "14. 'Osasuna'\n",
       "15. 'Real Madrid'\n",
       "16. 'Sevilla'\n",
       "17. 'Sociedad'\n",
       "18. 'Valencia'\n",
       "19. 'Valladolid'\n",
       "20. 'Villarreal'\n",
       "\n",
       "\n"
      ],
      "text/plain": [
       " [1] \"Alaves\"      \"Ath Bilbao\"  \"Ath Madrid\"  \"Barcelona\"   \"Betis\"      \n",
       " [6] \"Celta\"       \"Eibar\"       \"Espanol\"     \"Getafe\"      \"Granada\"    \n",
       "[11] \"Leganes\"     \"Levante\"     \"Mallorca\"    \"Osasuna\"     \"Real Madrid\"\n",
       "[16] \"Sevilla\"     \"Sociedad\"    \"Valencia\"    \"Valladolid\"  \"Villarreal\" "
      ]
     },
     "metadata": {},
     "output_type": "display_data"
    },
    {
     "data": {
      "text/html": [
       "<table>\n",
       "<caption>A data.frame: 14 × 105</caption>\n",
       "<thead>\n",
       "\t<tr><th></th><th scope=col>Div</th><th scope=col>Date</th><th scope=col>Time</th><th scope=col>HomeTeam</th><th scope=col>AwayTeam</th><th scope=col>FTHG</th><th scope=col>FTAG</th><th scope=col>FTR</th><th scope=col>HTHG</th><th scope=col>HTAG</th><th scope=col>...</th><th scope=col>AvgC.2.5.1</th><th scope=col>AHCh</th><th scope=col>B365CAHH</th><th scope=col>B365CAHA</th><th scope=col>PCAHH</th><th scope=col>PCAHA</th><th scope=col>MaxCAHH</th><th scope=col>MaxCAHA</th><th scope=col>AvgCAHH</th><th scope=col>AvgCAHA</th></tr>\n",
       "\t<tr><th></th><th scope=col>&lt;fct&gt;</th><th scope=col>&lt;fct&gt;</th><th scope=col>&lt;fct&gt;</th><th scope=col>&lt;fct&gt;</th><th scope=col>&lt;fct&gt;</th><th scope=col>&lt;int&gt;</th><th scope=col>&lt;int&gt;</th><th scope=col>&lt;fct&gt;</th><th scope=col>&lt;int&gt;</th><th scope=col>&lt;int&gt;</th><th scope=col>...</th><th scope=col>&lt;dbl&gt;</th><th scope=col>&lt;dbl&gt;</th><th scope=col>&lt;dbl&gt;</th><th scope=col>&lt;dbl&gt;</th><th scope=col>&lt;dbl&gt;</th><th scope=col>&lt;dbl&gt;</th><th scope=col>&lt;dbl&gt;</th><th scope=col>&lt;dbl&gt;</th><th scope=col>&lt;dbl&gt;</th><th scope=col>&lt;dbl&gt;</th></tr>\n",
       "</thead>\n",
       "<tbody>\n",
       "\t<tr><th scope=row>4</th><td>SP1</td><td>17/08/2019</td><td>19:00</td><td>Mallorca</td><td>Eibar      </td><td>2</td><td>1</td><td>H</td><td>1</td><td>0</td><td>...</td><td>1.66</td><td> 0.00</td><td>2.11</td><td>1.82</td><td>2.09</td><td>1.83</td><td>2.12</td><td>1.88</td><td>2.07</td><td>1.83</td></tr>\n",
       "\t<tr><th scope=row>18</th><td>SP1</td><td>25/08/2019</td><td>16:00</td><td>Mallorca</td><td>Sociedad   </td><td>0</td><td>1</td><td>A</td><td>0</td><td>0</td><td>...</td><td>1.71</td><td> 0.25</td><td>1.81</td><td>2.13</td><td>1.81</td><td>2.11</td><td>1.84</td><td>2.14</td><td>1.81</td><td>2.08</td></tr>\n",
       "\t<tr><th scope=row>31</th><td>SP1</td><td>13/09/2019</td><td>20:00</td><td>Mallorca</td><td>Ath Bilbao </td><td>0</td><td>0</td><td>D</td><td>0</td><td>0</td><td>...</td><td>1.48</td><td> 0.25</td><td>1.97</td><td>1.96</td><td>1.96</td><td>1.96</td><td>2.05</td><td>1.99</td><td>1.93</td><td>1.95</td></tr>\n",
       "\t<tr><th scope=row>55</th><td>SP1</td><td>25/09/2019</td><td>18:00</td><td>Mallorca</td><td>Ath Madrid </td><td>0</td><td>2</td><td>A</td><td>0</td><td>1</td><td>...</td><td>1.71</td><td> 0.75</td><td>2.04</td><td>1.89</td><td>2.02</td><td>1.90</td><td>2.14</td><td>1.91</td><td>2.02</td><td>1.87</td></tr>\n",
       "\t<tr><th scope=row>76</th><td>SP1</td><td>06/10/2019</td><td>11:00</td><td>Mallorca</td><td>Espanol    </td><td>2</td><td>0</td><td>H</td><td>1</td><td>0</td><td>...</td><td>1.60</td><td>-0.25</td><td>2.10</td><td>1.70</td><td>2.18</td><td>1.76</td><td>2.19</td><td>1.81</td><td>2.14</td><td>1.76</td></tr>\n",
       "\t<tr><th scope=row>85</th><td>SP1</td><td>19/10/2019</td><td>20:00</td><td>Mallorca</td><td>Real Madrid</td><td>1</td><td>0</td><td>H</td><td>1</td><td>0</td><td>...</td><td>2.47</td><td> 1.00</td><td>2.03</td><td>1.90</td><td>2.03</td><td>1.88</td><td>2.05</td><td>1.94</td><td>2.00</td><td>1.88</td></tr>\n",
       "\t<tr><th scope=row>108</th><td>SP1</td><td>31/10/2019</td><td>18:00</td><td>Mallorca</td><td>Osasuna    </td><td>2</td><td>2</td><td>D</td><td>1</td><td>0</td><td>...</td><td>1.55</td><td>-0.25</td><td>2.15</td><td>1.67</td><td>2.18</td><td>1.76</td><td>2.25</td><td>1.80</td><td>2.15</td><td>1.75</td></tr>\n",
       "\t<tr><th scope=row>125</th><td>SP1</td><td>10/11/2019</td><td>11:00</td><td>Mallorca</td><td>Villarreal </td><td>3</td><td>1</td><td>H</td><td>2</td><td>0</td><td>...</td><td>1.88</td><td> 0.25</td><td>2.06</td><td>1.87</td><td>2.06</td><td>1.85</td><td>2.18</td><td>1.89</td><td>2.04</td><td>1.84</td></tr>\n",
       "\t<tr><th scope=row>143</th><td>SP1</td><td>30/11/2019</td><td>17:30</td><td>Mallorca</td><td>Betis      </td><td>1</td><td>2</td><td>A</td><td>0</td><td>2</td><td>...</td><td>1.82</td><td> 0.00</td><td>2.04</td><td>1.89</td><td>2.03</td><td>1.88</td><td>2.06</td><td>1.92</td><td>2.01</td><td>1.86</td></tr>\n",
       "\t<tr><th scope=row>172</th><td>SP1</td><td>21/12/2019</td><td>12:00</td><td>Mallorca</td><td>Sevilla    </td><td>0</td><td>2</td><td>A</td><td>0</td><td>1</td><td>...</td><td>1.96</td><td> 1.00</td><td>1.83</td><td>2.10</td><td>1.82</td><td>2.10</td><td>1.92</td><td>2.24</td><td>1.80</td><td>2.07</td></tr>\n",
       "\t<tr><th scope=row>196</th><td>SP1</td><td>19/01/2020</td><td>11:00</td><td>Mallorca</td><td>Valencia   </td><td>4</td><td>1</td><td>H</td><td>3</td><td>0</td><td>...</td><td>1.83</td><td> 0.25</td><td>1.86</td><td>2.07</td><td>1.86</td><td>2.05</td><td>1.96</td><td>2.09</td><td>1.85</td><td>2.02</td></tr>\n",
       "\t<tr><th scope=row>213</th><td>SP1</td><td>01/02/2020</td><td>17:30</td><td>Mallorca</td><td>Valladolid </td><td>0</td><td>1</td><td>A</td><td>0</td><td>0</td><td>...</td><td>1.55</td><td>-0.25</td><td>2.04</td><td>1.89</td><td>2.03</td><td>1.88</td><td>2.07</td><td>1.93</td><td>2.00</td><td>1.87</td></tr>\n",
       "\t<tr><th scope=row>232</th><td>SP1</td><td>15/02/2020</td><td>12:00</td><td>Mallorca</td><td>Alaves     </td><td>1</td><td>0</td><td>H</td><td>0</td><td>0</td><td>...</td><td>1.54</td><td> 0.00</td><td>1.88</td><td>2.05</td><td>1.88</td><td>2.04</td><td>1.94</td><td>2.08</td><td>1.86</td><td>2.00</td></tr>\n",
       "\t<tr><th scope=row>258</th><td>SP1</td><td>01/03/2020</td><td>17:30</td><td>Mallorca</td><td>Getafe     </td><td>0</td><td>1</td><td>A</td><td>0</td><td>0</td><td>...</td><td>1.54</td><td> 0.25</td><td>1.87</td><td>2.06</td><td>1.91</td><td>2.01</td><td>1.91</td><td>2.13</td><td>1.83</td><td>2.04</td></tr>\n",
       "</tbody>\n",
       "</table>\n"
      ],
      "text/latex": [
       "A data.frame: 14 × 105\n",
       "\\begin{tabular}{r|lllllllllllllllllllll}\n",
       "  & Div & Date & Time & HomeTeam & AwayTeam & FTHG & FTAG & FTR & HTHG & HTAG & ... & AvgC.2.5.1 & AHCh & B365CAHH & B365CAHA & PCAHH & PCAHA & MaxCAHH & MaxCAHA & AvgCAHH & AvgCAHA\\\\\n",
       "  & <fct> & <fct> & <fct> & <fct> & <fct> & <int> & <int> & <fct> & <int> & <int> & ... & <dbl> & <dbl> & <dbl> & <dbl> & <dbl> & <dbl> & <dbl> & <dbl> & <dbl> & <dbl>\\\\\n",
       "\\hline\n",
       "\t4 & SP1 & 17/08/2019 & 19:00 & Mallorca & Eibar       & 2 & 1 & H & 1 & 0 & ... & 1.66 &  0.00 & 2.11 & 1.82 & 2.09 & 1.83 & 2.12 & 1.88 & 2.07 & 1.83\\\\\n",
       "\t18 & SP1 & 25/08/2019 & 16:00 & Mallorca & Sociedad    & 0 & 1 & A & 0 & 0 & ... & 1.71 &  0.25 & 1.81 & 2.13 & 1.81 & 2.11 & 1.84 & 2.14 & 1.81 & 2.08\\\\\n",
       "\t31 & SP1 & 13/09/2019 & 20:00 & Mallorca & Ath Bilbao  & 0 & 0 & D & 0 & 0 & ... & 1.48 &  0.25 & 1.97 & 1.96 & 1.96 & 1.96 & 2.05 & 1.99 & 1.93 & 1.95\\\\\n",
       "\t55 & SP1 & 25/09/2019 & 18:00 & Mallorca & Ath Madrid  & 0 & 2 & A & 0 & 1 & ... & 1.71 &  0.75 & 2.04 & 1.89 & 2.02 & 1.90 & 2.14 & 1.91 & 2.02 & 1.87\\\\\n",
       "\t76 & SP1 & 06/10/2019 & 11:00 & Mallorca & Espanol     & 2 & 0 & H & 1 & 0 & ... & 1.60 & -0.25 & 2.10 & 1.70 & 2.18 & 1.76 & 2.19 & 1.81 & 2.14 & 1.76\\\\\n",
       "\t85 & SP1 & 19/10/2019 & 20:00 & Mallorca & Real Madrid & 1 & 0 & H & 1 & 0 & ... & 2.47 &  1.00 & 2.03 & 1.90 & 2.03 & 1.88 & 2.05 & 1.94 & 2.00 & 1.88\\\\\n",
       "\t108 & SP1 & 31/10/2019 & 18:00 & Mallorca & Osasuna     & 2 & 2 & D & 1 & 0 & ... & 1.55 & -0.25 & 2.15 & 1.67 & 2.18 & 1.76 & 2.25 & 1.80 & 2.15 & 1.75\\\\\n",
       "\t125 & SP1 & 10/11/2019 & 11:00 & Mallorca & Villarreal  & 3 & 1 & H & 2 & 0 & ... & 1.88 &  0.25 & 2.06 & 1.87 & 2.06 & 1.85 & 2.18 & 1.89 & 2.04 & 1.84\\\\\n",
       "\t143 & SP1 & 30/11/2019 & 17:30 & Mallorca & Betis       & 1 & 2 & A & 0 & 2 & ... & 1.82 &  0.00 & 2.04 & 1.89 & 2.03 & 1.88 & 2.06 & 1.92 & 2.01 & 1.86\\\\\n",
       "\t172 & SP1 & 21/12/2019 & 12:00 & Mallorca & Sevilla     & 0 & 2 & A & 0 & 1 & ... & 1.96 &  1.00 & 1.83 & 2.10 & 1.82 & 2.10 & 1.92 & 2.24 & 1.80 & 2.07\\\\\n",
       "\t196 & SP1 & 19/01/2020 & 11:00 & Mallorca & Valencia    & 4 & 1 & H & 3 & 0 & ... & 1.83 &  0.25 & 1.86 & 2.07 & 1.86 & 2.05 & 1.96 & 2.09 & 1.85 & 2.02\\\\\n",
       "\t213 & SP1 & 01/02/2020 & 17:30 & Mallorca & Valladolid  & 0 & 1 & A & 0 & 0 & ... & 1.55 & -0.25 & 2.04 & 1.89 & 2.03 & 1.88 & 2.07 & 1.93 & 2.00 & 1.87\\\\\n",
       "\t232 & SP1 & 15/02/2020 & 12:00 & Mallorca & Alaves      & 1 & 0 & H & 0 & 0 & ... & 1.54 &  0.00 & 1.88 & 2.05 & 1.88 & 2.04 & 1.94 & 2.08 & 1.86 & 2.00\\\\\n",
       "\t258 & SP1 & 01/03/2020 & 17:30 & Mallorca & Getafe      & 0 & 1 & A & 0 & 0 & ... & 1.54 &  0.25 & 1.87 & 2.06 & 1.91 & 2.01 & 1.91 & 2.13 & 1.83 & 2.04\\\\\n",
       "\\end{tabular}\n"
      ],
      "text/markdown": [
       "\n",
       "A data.frame: 14 × 105\n",
       "\n",
       "| <!--/--> | Div &lt;fct&gt; | Date &lt;fct&gt; | Time &lt;fct&gt; | HomeTeam &lt;fct&gt; | AwayTeam &lt;fct&gt; | FTHG &lt;int&gt; | FTAG &lt;int&gt; | FTR &lt;fct&gt; | HTHG &lt;int&gt; | HTAG &lt;int&gt; | ... ... | AvgC.2.5.1 &lt;dbl&gt; | AHCh &lt;dbl&gt; | B365CAHH &lt;dbl&gt; | B365CAHA &lt;dbl&gt; | PCAHH &lt;dbl&gt; | PCAHA &lt;dbl&gt; | MaxCAHH &lt;dbl&gt; | MaxCAHA &lt;dbl&gt; | AvgCAHH &lt;dbl&gt; | AvgCAHA &lt;dbl&gt; |\n",
       "|---|---|---|---|---|---|---|---|---|---|---|---|---|---|---|---|---|---|---|---|---|---|\n",
       "| 4 | SP1 | 17/08/2019 | 19:00 | Mallorca | Eibar       | 2 | 1 | H | 1 | 0 | ... | 1.66 |  0.00 | 2.11 | 1.82 | 2.09 | 1.83 | 2.12 | 1.88 | 2.07 | 1.83 |\n",
       "| 18 | SP1 | 25/08/2019 | 16:00 | Mallorca | Sociedad    | 0 | 1 | A | 0 | 0 | ... | 1.71 |  0.25 | 1.81 | 2.13 | 1.81 | 2.11 | 1.84 | 2.14 | 1.81 | 2.08 |\n",
       "| 31 | SP1 | 13/09/2019 | 20:00 | Mallorca | Ath Bilbao  | 0 | 0 | D | 0 | 0 | ... | 1.48 |  0.25 | 1.97 | 1.96 | 1.96 | 1.96 | 2.05 | 1.99 | 1.93 | 1.95 |\n",
       "| 55 | SP1 | 25/09/2019 | 18:00 | Mallorca | Ath Madrid  | 0 | 2 | A | 0 | 1 | ... | 1.71 |  0.75 | 2.04 | 1.89 | 2.02 | 1.90 | 2.14 | 1.91 | 2.02 | 1.87 |\n",
       "| 76 | SP1 | 06/10/2019 | 11:00 | Mallorca | Espanol     | 2 | 0 | H | 1 | 0 | ... | 1.60 | -0.25 | 2.10 | 1.70 | 2.18 | 1.76 | 2.19 | 1.81 | 2.14 | 1.76 |\n",
       "| 85 | SP1 | 19/10/2019 | 20:00 | Mallorca | Real Madrid | 1 | 0 | H | 1 | 0 | ... | 2.47 |  1.00 | 2.03 | 1.90 | 2.03 | 1.88 | 2.05 | 1.94 | 2.00 | 1.88 |\n",
       "| 108 | SP1 | 31/10/2019 | 18:00 | Mallorca | Osasuna     | 2 | 2 | D | 1 | 0 | ... | 1.55 | -0.25 | 2.15 | 1.67 | 2.18 | 1.76 | 2.25 | 1.80 | 2.15 | 1.75 |\n",
       "| 125 | SP1 | 10/11/2019 | 11:00 | Mallorca | Villarreal  | 3 | 1 | H | 2 | 0 | ... | 1.88 |  0.25 | 2.06 | 1.87 | 2.06 | 1.85 | 2.18 | 1.89 | 2.04 | 1.84 |\n",
       "| 143 | SP1 | 30/11/2019 | 17:30 | Mallorca | Betis       | 1 | 2 | A | 0 | 2 | ... | 1.82 |  0.00 | 2.04 | 1.89 | 2.03 | 1.88 | 2.06 | 1.92 | 2.01 | 1.86 |\n",
       "| 172 | SP1 | 21/12/2019 | 12:00 | Mallorca | Sevilla     | 0 | 2 | A | 0 | 1 | ... | 1.96 |  1.00 | 1.83 | 2.10 | 1.82 | 2.10 | 1.92 | 2.24 | 1.80 | 2.07 |\n",
       "| 196 | SP1 | 19/01/2020 | 11:00 | Mallorca | Valencia    | 4 | 1 | H | 3 | 0 | ... | 1.83 |  0.25 | 1.86 | 2.07 | 1.86 | 2.05 | 1.96 | 2.09 | 1.85 | 2.02 |\n",
       "| 213 | SP1 | 01/02/2020 | 17:30 | Mallorca | Valladolid  | 0 | 1 | A | 0 | 0 | ... | 1.55 | -0.25 | 2.04 | 1.89 | 2.03 | 1.88 | 2.07 | 1.93 | 2.00 | 1.87 |\n",
       "| 232 | SP1 | 15/02/2020 | 12:00 | Mallorca | Alaves      | 1 | 0 | H | 0 | 0 | ... | 1.54 |  0.00 | 1.88 | 2.05 | 1.88 | 2.04 | 1.94 | 2.08 | 1.86 | 2.00 |\n",
       "| 258 | SP1 | 01/03/2020 | 17:30 | Mallorca | Getafe      | 0 | 1 | A | 0 | 0 | ... | 1.54 |  0.25 | 1.87 | 2.06 | 1.91 | 2.01 | 1.91 | 2.13 | 1.83 | 2.04 |\n",
       "\n"
      ],
      "text/plain": [
       "    Div Date       Time  HomeTeam AwayTeam    FTHG FTAG FTR HTHG HTAG ...\n",
       "4   SP1 17/08/2019 19:00 Mallorca Eibar       2    1    H   1    0    ...\n",
       "18  SP1 25/08/2019 16:00 Mallorca Sociedad    0    1    A   0    0    ...\n",
       "31  SP1 13/09/2019 20:00 Mallorca Ath Bilbao  0    0    D   0    0    ...\n",
       "55  SP1 25/09/2019 18:00 Mallorca Ath Madrid  0    2    A   0    1    ...\n",
       "76  SP1 06/10/2019 11:00 Mallorca Espanol     2    0    H   1    0    ...\n",
       "85  SP1 19/10/2019 20:00 Mallorca Real Madrid 1    0    H   1    0    ...\n",
       "108 SP1 31/10/2019 18:00 Mallorca Osasuna     2    2    D   1    0    ...\n",
       "125 SP1 10/11/2019 11:00 Mallorca Villarreal  3    1    H   2    0    ...\n",
       "143 SP1 30/11/2019 17:30 Mallorca Betis       1    2    A   0    2    ...\n",
       "172 SP1 21/12/2019 12:00 Mallorca Sevilla     0    2    A   0    1    ...\n",
       "196 SP1 19/01/2020 11:00 Mallorca Valencia    4    1    H   3    0    ...\n",
       "213 SP1 01/02/2020 17:30 Mallorca Valladolid  0    1    A   0    0    ...\n",
       "232 SP1 15/02/2020 12:00 Mallorca Alaves      1    0    H   0    0    ...\n",
       "258 SP1 01/03/2020 17:30 Mallorca Getafe      0    1    A   0    0    ...\n",
       "    AvgC.2.5.1 AHCh  B365CAHH B365CAHA PCAHH PCAHA MaxCAHH MaxCAHA AvgCAHH\n",
       "4   1.66        0.00 2.11     1.82     2.09  1.83  2.12    1.88    2.07   \n",
       "18  1.71        0.25 1.81     2.13     1.81  2.11  1.84    2.14    1.81   \n",
       "31  1.48        0.25 1.97     1.96     1.96  1.96  2.05    1.99    1.93   \n",
       "55  1.71        0.75 2.04     1.89     2.02  1.90  2.14    1.91    2.02   \n",
       "76  1.60       -0.25 2.10     1.70     2.18  1.76  2.19    1.81    2.14   \n",
       "85  2.47        1.00 2.03     1.90     2.03  1.88  2.05    1.94    2.00   \n",
       "108 1.55       -0.25 2.15     1.67     2.18  1.76  2.25    1.80    2.15   \n",
       "125 1.88        0.25 2.06     1.87     2.06  1.85  2.18    1.89    2.04   \n",
       "143 1.82        0.00 2.04     1.89     2.03  1.88  2.06    1.92    2.01   \n",
       "172 1.96        1.00 1.83     2.10     1.82  2.10  1.92    2.24    1.80   \n",
       "196 1.83        0.25 1.86     2.07     1.86  2.05  1.96    2.09    1.85   \n",
       "213 1.55       -0.25 2.04     1.89     2.03  1.88  2.07    1.93    2.00   \n",
       "232 1.54        0.00 1.88     2.05     1.88  2.04  1.94    2.08    1.86   \n",
       "258 1.54        0.25 1.87     2.06     1.91  2.01  1.91    2.13    1.83   \n",
       "    AvgCAHA\n",
       "4   1.83   \n",
       "18  2.08   \n",
       "31  1.95   \n",
       "55  1.87   \n",
       "76  1.76   \n",
       "85  1.88   \n",
       "108 1.75   \n",
       "125 1.84   \n",
       "143 1.86   \n",
       "172 2.07   \n",
       "196 2.02   \n",
       "213 1.87   \n",
       "232 2.00   \n",
       "258 2.04   "
      ]
     },
     "metadata": {},
     "output_type": "display_data"
    },
    {
     "data": {
      "text/html": [
       "'Number of games in Mallorca'"
      ],
      "text/latex": [
       "'Number of games in Mallorca'"
      ],
      "text/markdown": [
       "'Number of games in Mallorca'"
      ],
      "text/plain": [
       "[1] \"Number of games in Mallorca\""
      ]
     },
     "metadata": {},
     "output_type": "display_data"
    },
    {
     "data": {
      "text/html": [
       "14"
      ],
      "text/latex": [
       "14"
      ],
      "text/markdown": [
       "14"
      ],
      "text/plain": [
       "[1] 14"
      ]
     },
     "metadata": {},
     "output_type": "display_data"
    },
    {
     "data": {
      "text/html": [
       "'Number of victories in Mallorca'"
      ],
      "text/latex": [
       "'Number of victories in Mallorca'"
      ],
      "text/markdown": [
       "'Number of victories in Mallorca'"
      ],
      "text/plain": [
       "[1] \"Number of victories in Mallorca\""
      ]
     },
     "metadata": {},
     "output_type": "display_data"
    },
    {
     "data": {
      "text/html": [
       "6"
      ],
      "text/latex": [
       "6"
      ],
      "text/markdown": [
       "6"
      ],
      "text/plain": [
       "[1] 6"
      ]
     },
     "metadata": {},
     "output_type": "display_data"
    },
    {
     "data": {
      "text/html": [
       "'Prob v'"
      ],
      "text/latex": [
       "'Prob v'"
      ],
      "text/markdown": [
       "'Prob v'"
      ],
      "text/plain": [
       "[1] \"Prob v\""
      ]
     },
     "metadata": {},
     "output_type": "display_data"
    },
    {
     "data": {
      "text/html": [
       "0.428571428571429"
      ],
      "text/latex": [
       "0.428571428571429"
      ],
      "text/markdown": [
       "0.428571428571429"
      ],
      "text/plain": [
       "[1] 0.4285714"
      ]
     },
     "metadata": {},
     "output_type": "display_data"
    },
    {
     "data": {
      "text/html": [
       "<style>\n",
       ".list-inline {list-style: none; margin:0; padding: 0}\n",
       ".list-inline>li {display: inline-block}\n",
       ".list-inline>li:not(:last-child)::after {content: \"\\00b7\"; padding: 0 .5ex}\n",
       "</style>\n",
       "<ol class=list-inline><li>0</li><li>1</li><li>2</li><li>3</li><li>4</li><li>5</li><li>6</li><li>7</li><li>8</li><li>9</li><li>10</li><li>11</li><li>12</li><li>13</li><li>14</li><li>15</li><li>16</li><li>17</li><li>18</li><li>19</li></ol>\n"
      ],
      "text/latex": [
       "\\begin{enumerate*}\n",
       "\\item 0\n",
       "\\item 1\n",
       "\\item 2\n",
       "\\item 3\n",
       "\\item 4\n",
       "\\item 5\n",
       "\\item 6\n",
       "\\item 7\n",
       "\\item 8\n",
       "\\item 9\n",
       "\\item 10\n",
       "\\item 11\n",
       "\\item 12\n",
       "\\item 13\n",
       "\\item 14\n",
       "\\item 15\n",
       "\\item 16\n",
       "\\item 17\n",
       "\\item 18\n",
       "\\item 19\n",
       "\\end{enumerate*}\n"
      ],
      "text/markdown": [
       "1. 0\n",
       "2. 1\n",
       "3. 2\n",
       "4. 3\n",
       "5. 4\n",
       "6. 5\n",
       "7. 6\n",
       "8. 7\n",
       "9. 8\n",
       "10. 9\n",
       "11. 10\n",
       "12. 11\n",
       "13. 12\n",
       "14. 13\n",
       "15. 14\n",
       "16. 15\n",
       "17. 16\n",
       "18. 17\n",
       "19. 18\n",
       "20. 19\n",
       "\n",
       "\n"
      ],
      "text/plain": [
       " [1]  0  1  2  3  4  5  6  7  8  9 10 11 12 13 14 15 16 17 18 19"
      ]
     },
     "metadata": {},
     "output_type": "display_data"
    },
    {
     "data": {
      "text/html": [
       "<style>\n",
       ".list-inline {list-style: none; margin:0; padding: 0}\n",
       ".list-inline>li {display: inline-block}\n",
       ".list-inline>li:not(:last-child)::after {content: \"\\00b7\"; padding: 0 .5ex}\n",
       "</style>\n",
       "<ol class=list-inline><li>0.000395792279481716</li><li>0.00415581893455802</li><li>0.0202596173059704</li><li>0.0607788519179111</li><li>0.125356382080692</li><li>0.188034573121037</li><li>0.211538894761167</li><li>0.181319052652429</li><li>0.118990628303157</li><li>0.0594953141515782</li><li>0.0223107428068419</li><li>0.00608474803822959</li><li>0.00114089025716805</li><li>0.00013164118351939</li><li>7.05220625996733e-06</li><li>0</li><li>0</li><li>0</li><li>0</li><li>0</li></ol>\n"
      ],
      "text/latex": [
       "\\begin{enumerate*}\n",
       "\\item 0.000395792279481716\n",
       "\\item 0.00415581893455802\n",
       "\\item 0.0202596173059704\n",
       "\\item 0.0607788519179111\n",
       "\\item 0.125356382080692\n",
       "\\item 0.188034573121037\n",
       "\\item 0.211538894761167\n",
       "\\item 0.181319052652429\n",
       "\\item 0.118990628303157\n",
       "\\item 0.0594953141515782\n",
       "\\item 0.0223107428068419\n",
       "\\item 0.00608474803822959\n",
       "\\item 0.00114089025716805\n",
       "\\item 0.00013164118351939\n",
       "\\item 7.05220625996733e-06\n",
       "\\item 0\n",
       "\\item 0\n",
       "\\item 0\n",
       "\\item 0\n",
       "\\item 0\n",
       "\\end{enumerate*}\n"
      ],
      "text/markdown": [
       "1. 0.000395792279481716\n",
       "2. 0.00415581893455802\n",
       "3. 0.0202596173059704\n",
       "4. 0.0607788519179111\n",
       "5. 0.125356382080692\n",
       "6. 0.188034573121037\n",
       "7. 0.211538894761167\n",
       "8. 0.181319052652429\n",
       "9. 0.118990628303157\n",
       "10. 0.0594953141515782\n",
       "11. 0.0223107428068419\n",
       "12. 0.00608474803822959\n",
       "13. 0.00114089025716805\n",
       "14. 0.00013164118351939\n",
       "15. 7.05220625996733e-06\n",
       "16. 0\n",
       "17. 0\n",
       "18. 0\n",
       "19. 0\n",
       "20. 0\n",
       "\n",
       "\n"
      ],
      "text/plain": [
       " [1] 3.957923e-04 4.155819e-03 2.025962e-02 6.077885e-02 1.253564e-01\n",
       " [6] 1.880346e-01 2.115389e-01 1.813191e-01 1.189906e-01 5.949531e-02\n",
       "[11] 2.231074e-02 6.084748e-03 1.140890e-03 1.316412e-04 7.052206e-06\n",
       "[16] 0.000000e+00 0.000000e+00 0.000000e+00 0.000000e+00 0.000000e+00"
      ]
     },
     "metadata": {},
     "output_type": "display_data"
    },
    {
     "data": {
      "text/html": [
       "6"
      ],
      "text/latex": [
       "6"
      ],
      "text/markdown": [
       "6"
      ],
      "text/plain": [
       "[1] 6"
      ]
     },
     "metadata": {},
     "output_type": "display_data"
    },
    {
     "data": {
      "text/html": [
       "3.42857142857143"
      ],
      "text/latex": [
       "3.42857142857143"
      ],
      "text/markdown": [
       "3.42857142857143"
      ],
      "text/plain": [
       "[1] 3.428571"
      ]
     },
     "metadata": {},
     "output_type": "display_data"
    },
    {
     "data": {
      "image/png": "[encoded data removed]",
      "text/plain": [
       "plot without title"
      ]
     },
     "metadata": {
      "image/png": {
       "height": 420,
       "width": 420
      },
      "text/plain": {
       "height": 420,
       "width": 420
      }
     },
     "output_type": "display_data"
    }
   ],
   "source": [
    "# Victorias de local\n",
    "ligaSP_1920_df <- read.csv(\"https://www.football-data.co.uk/mmz4281/1920/SP1.csv\")\n",
    "\n",
    "sprintf(\"head of data\")\n",
    "head(ligaSP_1920_df)\n",
    "\n",
    "\n",
    "sprintf(\"Print all existent teams \")\n",
    "levels(ligaSP_1920_df$HomeTeam)\n",
    "\n",
    "Mallorca <- subset(ligaSP_1920_df, ligaSP_1920_df$HomeTeam==\"Mallorca\")\n",
    "\n",
    "Mallorca\n",
    "\n",
    "n <- length(Mallorca[,1])\n",
    "sprintf(\"Number of games in Mallorca\")\n",
    "n\n",
    "\n",
    "# Victories\n",
    "Mallorca_v <- subset(Mallorca, Mallorca$FTR==\"H\")\n",
    "n_v<-length(Mallorca_v[,1])\n",
    "\n",
    "sprintf(\"Number of victories in Mallorca\")\n",
    "n_v\n",
    "\n",
    "prob_v <- n_v/ n\n",
    "sprintf(\"Prob v\")\n",
    "prob_v\n",
    "\n",
    "# Cual es la probabilidad de ganar en 10 partidas si la probabilidad de victoria es de 0.42857\n",
    "x <- c(0:19);x\n",
    "prob_victoria <- dbinom(x,n,prob_v)\n",
    "prob_victoria\n",
    "plot(prob_victoria)\n",
    "\n",
    "# Esperanza\n",
    "sprintf(\"Esperanza\")\n",
    "Es <- n*prob_v; Es\n",
    "sprintf(\"Varianza\")\n",
    "Va <- n*prob_v *(1 - prob_v); Va\n",
    "\n"
   ]
  },
  {
   "cell_type": "markdown",
   "metadata": {},
   "source": [
    "La confianza de los datos solo se resuelven con pruebas de hipotesis\n",
    "\n",
    "\n",
    "ahora una prueba con el COVID"
   ]
  },
  {
   "cell_type": "code",
   "execution_count": 41,
   "metadata": {},
   "outputs": [
    {
     "data": {
      "text/html": [
       "<table>\n",
       "<caption>A data.frame: 6 × 9</caption>\n",
       "<thead>\n",
       "\t<tr><th></th><th scope=col>ï..ID.de.caso</th><th scope=col>Fecha.de.diagnÃ³stico</th><th scope=col>Ciudad.de.ubicaciÃ³n</th><th scope=col>Departamento</th><th scope=col>AtenciÃ³n</th><th scope=col>Edad</th><th scope=col>Sexo</th><th scope=col>Tipo.</th><th scope=col>PaÃ.s.de.procedencia</th></tr>\n",
       "\t<tr><th></th><th scope=col>&lt;int&gt;</th><th scope=col>&lt;fct&gt;</th><th scope=col>&lt;fct&gt;</th><th scope=col>&lt;fct&gt;</th><th scope=col>&lt;fct&gt;</th><th scope=col>&lt;fct&gt;</th><th scope=col>&lt;fct&gt;</th><th scope=col>&lt;fct&gt;</th><th scope=col>&lt;fct&gt;</th></tr>\n",
       "</thead>\n",
       "<tbody>\n",
       "\t<tr><th scope=row>1</th><td>1</td><td>06/03/2020</td><td>BogotÃ¡  </td><td>BogotÃ¡  </td><td>Recuperado</td><td>10 a 19</td><td>F</td><td>Importado  </td><td>Italia  </td></tr>\n",
       "\t<tr><th scope=row>2</th><td>2</td><td>09/03/2020</td><td>Buga     </td><td>Valle    </td><td>Recuperado</td><td>30 a 39</td><td>M</td><td>Importado  </td><td>EspaÃ±a </td></tr>\n",
       "\t<tr><th scope=row>3</th><td>3</td><td>09/03/2020</td><td>MedellÃ­n</td><td>Antioquia</td><td>Recuperado</td><td>50 a 59</td><td>F</td><td>Importado  </td><td>EspaÃ±a </td></tr>\n",
       "\t<tr><th scope=row>4</th><td>4</td><td>11/03/2020</td><td>MedellÃ­n</td><td>Antioquia</td><td>En casa   </td><td>50 a 59</td><td>M</td><td>Relacionado</td><td>Colombia</td></tr>\n",
       "\t<tr><th scope=row>5</th><td>5</td><td>11/03/2020</td><td>MedellÃ­n</td><td>Antioquia</td><td>Recuperado</td><td>20 a 29</td><td>M</td><td>Relacionado</td><td>Colombia</td></tr>\n",
       "\t<tr><th scope=row>6</th><td>6</td><td>11/03/2020</td><td>ItagÃ¼Ã­ </td><td>Antioquia</td><td>En casa   </td><td>20 a 29</td><td>F</td><td>Relacionado</td><td>Colombia</td></tr>\n",
       "</tbody>\n",
       "</table>\n"
      ],
      "text/latex": [
       "A data.frame: 6 × 9\n",
       "\\begin{tabular}{r|lllllllll}\n",
       "  & ï..ID.de.caso & Fecha.de.diagnÃ³stico & Ciudad.de.ubicaciÃ³n & Departamento & AtenciÃ³n & Edad & Sexo & Tipo. & PaÃ.s.de.procedencia\\\\\n",
       "  & <int> & <fct> & <fct> & <fct> & <fct> & <fct> & <fct> & <fct> & <fct>\\\\\n",
       "\\hline\n",
       "\t1 & 1 & 06/03/2020 & BogotÃ¡   & BogotÃ¡   & Recuperado & 10 a 19 & F & Importado   & Italia  \\\\\n",
       "\t2 & 2 & 09/03/2020 & Buga      & Valle     & Recuperado & 30 a 39 & M & Importado   & EspaÃ±a \\\\\n",
       "\t3 & 3 & 09/03/2020 & MedellÃ­n & Antioquia & Recuperado & 50 a 59 & F & Importado   & EspaÃ±a \\\\\n",
       "\t4 & 4 & 11/03/2020 & MedellÃ­n & Antioquia & En casa    & 50 a 59 & M & Relacionado & Colombia\\\\\n",
       "\t5 & 5 & 11/03/2020 & MedellÃ­n & Antioquia & Recuperado & 20 a 29 & M & Relacionado & Colombia\\\\\n",
       "\t6 & 6 & 11/03/2020 & ItagÃ¼Ã­  & Antioquia & En casa    & 20 a 29 & F & Relacionado & Colombia\\\\\n",
       "\\end{tabular}\n"
      ],
      "text/markdown": [
       "\n",
       "A data.frame: 6 × 9\n",
       "\n",
       "| <!--/--> | ï..ID.de.caso &lt;int&gt; | Fecha.de.diagnÃ³stico &lt;fct&gt; | Ciudad.de.ubicaciÃ³n &lt;fct&gt; | Departamento &lt;fct&gt; | AtenciÃ³n &lt;fct&gt; | Edad &lt;fct&gt; | Sexo &lt;fct&gt; | Tipo. &lt;fct&gt; | PaÃ.s.de.procedencia &lt;fct&gt; |\n",
       "|---|---|---|---|---|---|---|---|---|---|\n",
       "| 1 | 1 | 06/03/2020 | BogotÃ¡   | BogotÃ¡   | Recuperado | 10 a 19 | F | Importado   | Italia   |\n",
       "| 2 | 2 | 09/03/2020 | Buga      | Valle     | Recuperado | 30 a 39 | M | Importado   | EspaÃ±a  |\n",
       "| 3 | 3 | 09/03/2020 | MedellÃ­n | Antioquia | Recuperado | 50 a 59 | F | Importado   | EspaÃ±a  |\n",
       "| 4 | 4 | 11/03/2020 | MedellÃ­n | Antioquia | En casa    | 50 a 59 | M | Relacionado | Colombia |\n",
       "| 5 | 5 | 11/03/2020 | MedellÃ­n | Antioquia | Recuperado | 20 a 29 | M | Relacionado | Colombia |\n",
       "| 6 | 6 | 11/03/2020 | ItagÃ¼Ã­  | Antioquia | En casa    | 20 a 29 | F | Relacionado | Colombia |\n",
       "\n"
      ],
      "text/plain": [
       "  ï..ID.de.caso Fecha.de.diagnÃ³stico Ciudad.de.ubicaciÃ³n Departamento\n",
       "1 1             06/03/2020            BogotÃ¡              BogotÃ¡     \n",
       "2 2             09/03/2020            Buga                 Valle       \n",
       "3 3             09/03/2020            MedellÃ­n            Antioquia   \n",
       "4 4             11/03/2020            MedellÃ­n            Antioquia   \n",
       "5 5             11/03/2020            MedellÃ­n            Antioquia   \n",
       "6 6             11/03/2020            ItagÃ¼Ã­             Antioquia   \n",
       "  AtenciÃ³n  Edad    Sexo Tipo.       PaÃ.s.de.procedencia\n",
       "1 Recuperado 10 a 19 F    Importado   Italia              \n",
       "2 Recuperado 30 a 39 M    Importado   EspaÃ±a             \n",
       "3 Recuperado 50 a 59 F    Importado   EspaÃ±a             \n",
       "4 En casa    50 a 59 M    Relacionado Colombia            \n",
       "5 Recuperado 20 a 29 M    Relacionado Colombia            \n",
       "6 En casa    20 a 29 F    Relacionado Colombia            "
      ]
     },
     "metadata": {},
     "output_type": "display_data"
    },
    {
     "data": {
      "text/html": [
       "<style>\n",
       ".list-inline {list-style: none; margin:0; padding: 0}\n",
       ".list-inline>li {display: inline-block}\n",
       ".list-inline>li:not(:last-child)::after {content: \"\\00b7\"; padding: 0 .5ex}\n",
       "</style>\n",
       "<ol class=list-inline><li>'Anapoima'</li><li>'Apartado'</li><li>'Armenia'</li><li>'Barbosa'</li><li>'Barranquilla'</li><li>'Bello'</li><li>'BogotÃ¡'</li><li>'Bucaramanga'</li><li>'Buga'</li><li>'CajicÃ¡'</li><li>'CalarcÃ¡'</li><li>'Cali'</li><li>'CÃºcuta'</li><li>'Cartagena'</li><li>'Cartago'</li><li>'ChÃ­a'</li><li>'ChinchinÃ¡'</li><li>'Cota'</li><li>'DariÃ©n'</li><li>'Dosquebradas'</li><li>'El Dovio'</li><li>'El Retiro'</li><li>'Envigado'</li><li>'Frontino'</li><li>'Funza'</li><li>'FusagasugÃ¡'</li><li>'Guarne'</li><li>'GuatapÃ©'</li><li>'IbaguÃ©'</li><li>'Ipiales'</li><li>'ItagÃ¼Ã­'</li><li>'La Dorada'</li><li>'La UniÃ³n'</li><li>'Madrid'</li><li>'Manizales'</li><li>'MedellÃ­n'</li><li>'Mosquera'</li><li>'Neiva'</li><li>'Pacho'</li><li>'Palermo'</li><li>'Palmira'</li><li>'Pereira'</li><li>'PopayÃ¡n'</li><li>'Puerto Colombia'</li><li>'Rionegro'</li><li>'Sabaneta'</li><li>'San AndrÃ©s Islas'</li><li>'San Pedro'</li><li>'Santa Marta'</li><li>'Santana'</li><li>'Soacha'</li><li>'Soledad'</li><li>'SopÃ³'</li><li>'Subachoque'</li><li>'Tolima'</li><li>'Trujillo'</li><li>'TuluÃ¡'</li><li>'Tunja'</li><li>'Valledupar'</li><li>'Villa del Rosario'</li><li>'VillamarÃ­a'</li><li>'Villavicencio'</li><li>'Villeta'</li><li>'Viterbo'</li><li>'Yopal'</li><li>'Yumbo'</li></ol>\n"
      ],
      "text/latex": [
       "\\begin{enumerate*}\n",
       "\\item 'Anapoima'\n",
       "\\item 'Apartado'\n",
       "\\item 'Armenia'\n",
       "\\item 'Barbosa'\n",
       "\\item 'Barranquilla'\n",
       "\\item 'Bello'\n",
       "\\item 'BogotÃ¡'\n",
       "\\item 'Bucaramanga'\n",
       "\\item 'Buga'\n",
       "\\item 'CajicÃ¡'\n",
       "\\item 'CalarcÃ¡'\n",
       "\\item 'Cali'\n",
       "\\item 'CÃºcuta'\n",
       "\\item 'Cartagena'\n",
       "\\item 'Cartago'\n",
       "\\item 'ChÃ­a'\n",
       "\\item 'ChinchinÃ¡'\n",
       "\\item 'Cota'\n",
       "\\item 'DariÃ©n'\n",
       "\\item 'Dosquebradas'\n",
       "\\item 'El Dovio'\n",
       "\\item 'El Retiro'\n",
       "\\item 'Envigado'\n",
       "\\item 'Frontino'\n",
       "\\item 'Funza'\n",
       "\\item 'FusagasugÃ¡'\n",
       "\\item 'Guarne'\n",
       "\\item 'GuatapÃ©'\n",
       "\\item 'IbaguÃ©'\n",
       "\\item 'Ipiales'\n",
       "\\item 'ItagÃ¼Ã­'\n",
       "\\item 'La Dorada'\n",
       "\\item 'La UniÃ³n'\n",
       "\\item 'Madrid'\n",
       "\\item 'Manizales'\n",
       "\\item 'MedellÃ­n'\n",
       "\\item 'Mosquera'\n",
       "\\item 'Neiva'\n",
       "\\item 'Pacho'\n",
       "\\item 'Palermo'\n",
       "\\item 'Palmira'\n",
       "\\item 'Pereira'\n",
       "\\item 'PopayÃ¡n'\n",
       "\\item 'Puerto Colombia'\n",
       "\\item 'Rionegro'\n",
       "\\item 'Sabaneta'\n",
       "\\item 'San AndrÃ©s Islas'\n",
       "\\item 'San Pedro'\n",
       "\\item 'Santa Marta'\n",
       "\\item 'Santana'\n",
       "\\item 'Soacha'\n",
       "\\item 'Soledad'\n",
       "\\item 'SopÃ³'\n",
       "\\item 'Subachoque'\n",
       "\\item 'Tolima'\n",
       "\\item 'Trujillo'\n",
       "\\item 'TuluÃ¡'\n",
       "\\item 'Tunja'\n",
       "\\item 'Valledupar'\n",
       "\\item 'Villa del Rosario'\n",
       "\\item 'VillamarÃ­a'\n",
       "\\item 'Villavicencio'\n",
       "\\item 'Villeta'\n",
       "\\item 'Viterbo'\n",
       "\\item 'Yopal'\n",
       "\\item 'Yumbo'\n",
       "\\end{enumerate*}\n"
      ],
      "text/markdown": [
       "1. 'Anapoima'\n",
       "2. 'Apartado'\n",
       "3. 'Armenia'\n",
       "4. 'Barbosa'\n",
       "5. 'Barranquilla'\n",
       "6. 'Bello'\n",
       "7. 'BogotÃ¡'\n",
       "8. 'Bucaramanga'\n",
       "9. 'Buga'\n",
       "10. 'CajicÃ¡'\n",
       "11. 'CalarcÃ¡'\n",
       "12. 'Cali'\n",
       "13. 'CÃºcuta'\n",
       "14. 'Cartagena'\n",
       "15. 'Cartago'\n",
       "16. 'ChÃ­a'\n",
       "17. 'ChinchinÃ¡'\n",
       "18. 'Cota'\n",
       "19. 'DariÃ©n'\n",
       "20. 'Dosquebradas'\n",
       "21. 'El Dovio'\n",
       "22. 'El Retiro'\n",
       "23. 'Envigado'\n",
       "24. 'Frontino'\n",
       "25. 'Funza'\n",
       "26. 'FusagasugÃ¡'\n",
       "27. 'Guarne'\n",
       "28. 'GuatapÃ©'\n",
       "29. 'IbaguÃ©'\n",
       "30. 'Ipiales'\n",
       "31. 'ItagÃ¼Ã­'\n",
       "32. 'La Dorada'\n",
       "33. 'La UniÃ³n'\n",
       "34. 'Madrid'\n",
       "35. 'Manizales'\n",
       "36. 'MedellÃ­n'\n",
       "37. 'Mosquera'\n",
       "38. 'Neiva'\n",
       "39. 'Pacho'\n",
       "40. 'Palermo'\n",
       "41. 'Palmira'\n",
       "42. 'Pereira'\n",
       "43. 'PopayÃ¡n'\n",
       "44. 'Puerto Colombia'\n",
       "45. 'Rionegro'\n",
       "46. 'Sabaneta'\n",
       "47. 'San AndrÃ©s Islas'\n",
       "48. 'San Pedro'\n",
       "49. 'Santa Marta'\n",
       "50. 'Santana'\n",
       "51. 'Soacha'\n",
       "52. 'Soledad'\n",
       "53. 'SopÃ³'\n",
       "54. 'Subachoque'\n",
       "55. 'Tolima'\n",
       "56. 'Trujillo'\n",
       "57. 'TuluÃ¡'\n",
       "58. 'Tunja'\n",
       "59. 'Valledupar'\n",
       "60. 'Villa del Rosario'\n",
       "61. 'VillamarÃ­a'\n",
       "62. 'Villavicencio'\n",
       "63. 'Villeta'\n",
       "64. 'Viterbo'\n",
       "65. 'Yopal'\n",
       "66. 'Yumbo'\n",
       "\n",
       "\n"
      ],
      "text/plain": [
       " [1] \"Anapoima\"          \"Apartado\"          \"Armenia\"          \n",
       " [4] \"Barbosa\"           \"Barranquilla\"      \"Bello\"            \n",
       " [7] \"BogotÃ¡\"           \"Bucaramanga\"       \"Buga\"             \n",
       "[10] \"CajicÃ¡\"           \"CalarcÃ¡\"          \"Cali\"             \n",
       "[13] \"CÃºcuta\"           \"Cartagena\"         \"Cartago\"          \n",
       "[16] \"ChÃ­a\"             \"ChinchinÃ¡\"        \"Cota\"             \n",
       "[19] \"DariÃ©n\"           \"Dosquebradas\"      \"El Dovio\"         \n",
       "[22] \"El Retiro\"         \"Envigado\"          \"Frontino\"         \n",
       "[25] \"Funza\"             \"FusagasugÃ¡\"       \"Guarne\"           \n",
       "[28] \"GuatapÃ©\"          \"IbaguÃ©\"           \"Ipiales\"          \n",
       "[31] \"ItagÃ¼Ã­\"          \"La Dorada\"         \"La UniÃ³n\"        \n",
       "[34] \"Madrid\"            \"Manizales\"         \"MedellÃ­n\"        \n",
       "[37] \"Mosquera\"          \"Neiva\"             \"Pacho\"            \n",
       "[40] \"Palermo\"           \"Palmira\"           \"Pereira\"          \n",
       "[43] \"PopayÃ¡n\"          \"Puerto Colombia\"   \"Rionegro\"         \n",
       "[46] \"Sabaneta\"          \"San AndrÃ©s Islas\" \"San Pedro\"        \n",
       "[49] \"Santa Marta\"       \"Santana\"           \"Soacha\"           \n",
       "[52] \"Soledad\"           \"SopÃ³\"             \"Subachoque\"       \n",
       "[55] \"Tolima\"            \"Trujillo\"          \"TuluÃ¡\"           \n",
       "[58] \"Tunja\"             \"Valledupar\"        \"Villa del Rosario\"\n",
       "[61] \"VillamarÃ­a\"       \"Villavicencio\"     \"Villeta\"          \n",
       "[64] \"Viterbo\"           \"Yopal\"             \"Yumbo\"            "
      ]
     },
     "metadata": {},
     "output_type": "display_data"
    },
    {
     "data": {
      "text/html": [
       "'Probabildiad de ser hombre y tener COVID'"
      ],
      "text/latex": [
       "'Probabildiad de ser hombre y tener COVID'"
      ],
      "text/markdown": [
       "'Probabildiad de ser hombre y tener COVID'"
      ],
      "text/plain": [
       "[1] \"Probabildiad de ser hombre y tener COVID\""
      ]
     },
     "metadata": {},
     "output_type": "display_data"
    },
    {
     "data": {
      "text/html": [
       "<strong>M:</strong> 0.515769944341373"
      ],
      "text/latex": [
       "\\textbf{M:} 0.515769944341373"
      ],
      "text/markdown": [
       "**M:** 0.515769944341373"
      ],
      "text/plain": [
       "        M \n",
       "0.5157699 "
      ]
     },
     "metadata": {},
     "output_type": "display_data"
    },
    {
     "data": {
      "text/html": [
       "'Probabildiad de ser importado de bogota'"
      ],
      "text/latex": [
       "'Probabildiad de ser importado de bogota'"
      ],
      "text/markdown": [
       "'Probabildiad de ser importado de bogota'"
      ],
      "text/plain": [
       "[1] \"Probabildiad de ser importado de bogota\""
      ]
     },
     "metadata": {},
     "output_type": "display_data"
    },
    {
     "data": {
      "text/plain": [
       "\n",
       "         Anapoima          Apartado           Armenia           Barbosa \n",
       "                2                 1                13                 1 \n",
       "     Barranquilla             Bello           BogotÃ¡       Bucaramanga \n",
       "               13                 3               223                 4 \n",
       "             Buga           CajicÃ¡          CalarcÃ¡              Cali \n",
       "                1                 3                 2                50 \n",
       "          CÃºcuta         Cartagena           Cartago             ChÃ­a \n",
       "               14                26                 1                 3 \n",
       "       ChinchinÃ¡              Cota           DariÃ©n      Dosquebradas \n",
       "                2                 2                 1                 4 \n",
       "         El Dovio         El Retiro          Envigado          Frontino \n",
       "                1                 1                 3                 1 \n",
       "            Funza       FusagasugÃ¡            Guarne          GuatapÃ© \n",
       "                1                 1                 1                 1 \n",
       "          IbaguÃ©           Ipiales          ItagÃ¼Ã­         La Dorada \n",
       "                8                 1                 3                 2 \n",
       "        La UniÃ³n            Madrid         Manizales         MedellÃ­n \n",
       "                1                 1                 5                41 \n",
       "         Mosquera             Neiva             Pacho           Palermo \n",
       "                1                13                 1                 1 \n",
       "          Palmira           Pereira          PopayÃ¡n   Puerto Colombia \n",
       "               13                15                 9                 1 \n",
       "         Rionegro          Sabaneta San AndrÃ©s Islas         San Pedro \n",
       "                3                 1                 1                 1 \n",
       "      Santa Marta           Santana            Soacha           Soledad \n",
       "                7                 1                 3                 2 \n",
       "            SopÃ³        Subachoque            Tolima          Trujillo \n",
       "                1                 1                 1                 1 \n",
       "           TuluÃ¡             Tunja        Valledupar Villa del Rosario \n",
       "                2                 1                 2                 1 \n",
       "      VillamarÃ­a     Villavicencio           Villeta           Viterbo \n",
       "                1                 8                 2                 2 \n",
       "            Yopal             Yumbo \n",
       "                1                 1 "
      ]
     },
     "metadata": {},
     "output_type": "display_data"
    },
    {
     "data": {
      "text/html": [
       "<pre class=language-r><code>function (x, ...) \n",
       "UseMethod(\"head\")</code></pre>"
      ],
      "text/latex": [
       "\\begin{minted}{r}\n",
       "function (x, ...) \n",
       "UseMethod(\"head\")\n",
       "\\end{minted}"
      ],
      "text/markdown": [
       "```r\n",
       "function (x, ...) \n",
       "UseMethod(\"head\")\n",
       "```"
      ],
      "text/plain": [
       "function (x, ...) \n",
       "UseMethod(\"head\")\n",
       "<bytecode: 0x00000000145b0f70>\n",
       "<environment: namespace:utils>"
      ]
     },
     "metadata": {},
     "output_type": "display_data"
    },
    {
     "data": {
      "text/html": [
       "<table>\n",
       "<caption>A data.frame: 6 × 9</caption>\n",
       "<thead>\n",
       "\t<tr><th></th><th scope=col>ï..ID.de.caso</th><th scope=col>Fecha.de.diagnÃ³stico</th><th scope=col>Ciudad.de.ubicaciÃ³n</th><th scope=col>Departamento</th><th scope=col>AtenciÃ³n</th><th scope=col>Edad</th><th scope=col>Sexo</th><th scope=col>Tipo.</th><th scope=col>PaÃ.s.de.procedencia</th></tr>\n",
       "\t<tr><th></th><th scope=col>&lt;int&gt;</th><th scope=col>&lt;fct&gt;</th><th scope=col>&lt;fct&gt;</th><th scope=col>&lt;fct&gt;</th><th scope=col>&lt;fct&gt;</th><th scope=col>&lt;fct&gt;</th><th scope=col>&lt;fct&gt;</th><th scope=col>&lt;fct&gt;</th><th scope=col>&lt;fct&gt;</th></tr>\n",
       "</thead>\n",
       "<tbody>\n",
       "\t<tr><th scope=row>1</th><td> 1</td><td>06/03/2020</td><td>BogotÃ¡</td><td>BogotÃ¡</td><td>Recuperado</td><td>10 a 19</td><td>F</td><td>Importado</td><td>Italia                </td></tr>\n",
       "\t<tr><th scope=row>8</th><td> 8</td><td>11/03/2020</td><td>BogotÃ¡</td><td>BogotÃ¡</td><td>Recuperado</td><td>20 a 29</td><td>F</td><td>Importado</td><td>EspaÃ±a               </td></tr>\n",
       "\t<tr><th scope=row>9</th><td> 9</td><td>11/03/2020</td><td>BogotÃ¡</td><td>BogotÃ¡</td><td>Recuperado</td><td>20 a 29</td><td>F</td><td>Importado</td><td>EspaÃ±a-Italia        </td></tr>\n",
       "\t<tr><th scope=row>10</th><td>10</td><td>12/03/2020</td><td>BogotÃ¡</td><td>BogotÃ¡</td><td>En casa   </td><td>30 a 39</td><td>F</td><td>Importado</td><td>EspaÃ±a               </td></tr>\n",
       "\t<tr><th scope=row>11</th><td>11</td><td>12/03/2020</td><td>BogotÃ¡</td><td>BogotÃ¡</td><td>En casa   </td><td>40 a 49</td><td>F</td><td>Importado</td><td>EspaÃ±a               </td></tr>\n",
       "\t<tr><th scope=row>16</th><td>16</td><td>13/03/2020</td><td>BogotÃ¡</td><td>BogotÃ¡</td><td>Hospital  </td><td>60 a 69</td><td>F</td><td>Importado</td><td>Italia-Ucrania-EspaÃ±a</td></tr>\n",
       "</tbody>\n",
       "</table>\n"
      ],
      "text/latex": [
       "A data.frame: 6 × 9\n",
       "\\begin{tabular}{r|lllllllll}\n",
       "  & ï..ID.de.caso & Fecha.de.diagnÃ³stico & Ciudad.de.ubicaciÃ³n & Departamento & AtenciÃ³n & Edad & Sexo & Tipo. & PaÃ.s.de.procedencia\\\\\n",
       "  & <int> & <fct> & <fct> & <fct> & <fct> & <fct> & <fct> & <fct> & <fct>\\\\\n",
       "\\hline\n",
       "\t1 &  1 & 06/03/2020 & BogotÃ¡ & BogotÃ¡ & Recuperado & 10 a 19 & F & Importado & Italia                \\\\\n",
       "\t8 &  8 & 11/03/2020 & BogotÃ¡ & BogotÃ¡ & Recuperado & 20 a 29 & F & Importado & EspaÃ±a               \\\\\n",
       "\t9 &  9 & 11/03/2020 & BogotÃ¡ & BogotÃ¡ & Recuperado & 20 a 29 & F & Importado & EspaÃ±a-Italia        \\\\\n",
       "\t10 & 10 & 12/03/2020 & BogotÃ¡ & BogotÃ¡ & En casa    & 30 a 39 & F & Importado & EspaÃ±a               \\\\\n",
       "\t11 & 11 & 12/03/2020 & BogotÃ¡ & BogotÃ¡ & En casa    & 40 a 49 & F & Importado & EspaÃ±a               \\\\\n",
       "\t16 & 16 & 13/03/2020 & BogotÃ¡ & BogotÃ¡ & Hospital   & 60 a 69 & F & Importado & Italia-Ucrania-EspaÃ±a\\\\\n",
       "\\end{tabular}\n"
      ],
      "text/markdown": [
       "\n",
       "A data.frame: 6 × 9\n",
       "\n",
       "| <!--/--> | ï..ID.de.caso &lt;int&gt; | Fecha.de.diagnÃ³stico &lt;fct&gt; | Ciudad.de.ubicaciÃ³n &lt;fct&gt; | Departamento &lt;fct&gt; | AtenciÃ³n &lt;fct&gt; | Edad &lt;fct&gt; | Sexo &lt;fct&gt; | Tipo. &lt;fct&gt; | PaÃ.s.de.procedencia &lt;fct&gt; |\n",
       "|---|---|---|---|---|---|---|---|---|---|\n",
       "| 1 |  1 | 06/03/2020 | BogotÃ¡ | BogotÃ¡ | Recuperado | 10 a 19 | F | Importado | Italia                 |\n",
       "| 8 |  8 | 11/03/2020 | BogotÃ¡ | BogotÃ¡ | Recuperado | 20 a 29 | F | Importado | EspaÃ±a                |\n",
       "| 9 |  9 | 11/03/2020 | BogotÃ¡ | BogotÃ¡ | Recuperado | 20 a 29 | F | Importado | EspaÃ±a-Italia         |\n",
       "| 10 | 10 | 12/03/2020 | BogotÃ¡ | BogotÃ¡ | En casa    | 30 a 39 | F | Importado | EspaÃ±a                |\n",
       "| 11 | 11 | 12/03/2020 | BogotÃ¡ | BogotÃ¡ | En casa    | 40 a 49 | F | Importado | EspaÃ±a                |\n",
       "| 16 | 16 | 13/03/2020 | BogotÃ¡ | BogotÃ¡ | Hospital   | 60 a 69 | F | Importado | Italia-Ucrania-EspaÃ±a |\n",
       "\n"
      ],
      "text/plain": [
       "   ï..ID.de.caso Fecha.de.diagnÃ³stico Ciudad.de.ubicaciÃ³n Departamento\n",
       "1   1            06/03/2020            BogotÃ¡              BogotÃ¡     \n",
       "8   8            11/03/2020            BogotÃ¡              BogotÃ¡     \n",
       "9   9            11/03/2020            BogotÃ¡              BogotÃ¡     \n",
       "10 10            12/03/2020            BogotÃ¡              BogotÃ¡     \n",
       "11 11            12/03/2020            BogotÃ¡              BogotÃ¡     \n",
       "16 16            13/03/2020            BogotÃ¡              BogotÃ¡     \n",
       "   AtenciÃ³n  Edad    Sexo Tipo.     PaÃ.s.de.procedencia  \n",
       "1  Recuperado 10 a 19 F    Importado Italia                \n",
       "8  Recuperado 20 a 29 F    Importado EspaÃ±a               \n",
       "9  Recuperado 20 a 29 F    Importado EspaÃ±a-Italia        \n",
       "10 En casa    30 a 39 F    Importado EspaÃ±a               \n",
       "11 En casa    40 a 49 F    Importado EspaÃ±a               \n",
       "16 Hospital   60 a 69 F    Importado Italia-Ucrania-EspaÃ±a"
      ]
     },
     "metadata": {},
     "output_type": "display_data"
    },
    {
     "data": {
      "text/html": [
       "'probability for Bogota'"
      ],
      "text/latex": [
       "'probability for Bogota'"
      ],
      "text/markdown": [
       "'probability for Bogota'"
      ],
      "text/plain": [
       "[1] \"probability for Bogota\""
      ]
     },
     "metadata": {},
     "output_type": "display_data"
    },
    {
     "data": {
      "text/html": [
       "0.413729128014842"
      ],
      "text/latex": [
       "0.413729128014842"
      ],
      "text/markdown": [
       "0.413729128014842"
      ],
      "text/plain": [
       "[1] 0.4137291"
      ]
     },
     "metadata": {},
     "output_type": "display_data"
    },
    {
     "data": {
      "text/html": [
       "'Esperanza para el caso de bogota'"
      ],
      "text/latex": [
       "'Esperanza para el caso de bogota'"
      ],
      "text/markdown": [
       "'Esperanza para el caso de bogota'"
      ],
      "text/plain": [
       "[1] \"Esperanza para el caso de bogota\""
      ]
     },
     "metadata": {},
     "output_type": "display_data"
    },
    {
     "data": {
      "text/html": [
       "413.729128014842"
      ],
      "text/latex": [
       "413.729128014842"
      ],
      "text/markdown": [
       "413.729128014842"
      ],
      "text/plain": [
       "[1] 413.7291"
      ]
     },
     "metadata": {},
     "output_type": "display_data"
    },
    {
     "data": {
      "text/html": [
       "586.270871985158"
      ],
      "text/latex": [
       "586.270871985158"
      ],
      "text/markdown": [
       "586.270871985158"
      ],
      "text/plain": [
       "[1] 586.2709"
      ]
     },
     "metadata": {},
     "output_type": "display_data"
    },
    {
     "data": {
      "text/html": [
       "'Probabildiad de ser importado de bogota'"
      ],
      "text/latex": [
       "'Probabildiad de ser importado de bogota'"
      ],
      "text/markdown": [
       "'Probabildiad de ser importado de bogota'"
      ],
      "text/plain": [
       "[1] \"Probabildiad de ser importado de bogota\""
      ]
     },
     "metadata": {},
     "output_type": "display_data"
    },
    {
     "data": {
      "text/plain": [
       "\n",
       "         Anapoima          Apartado           Armenia           Barbosa \n",
       "                2                 1                13                 1 \n",
       "     Barranquilla             Bello           BogotÃ¡       Bucaramanga \n",
       "               13                 3               223                 4 \n",
       "             Buga           CajicÃ¡          CalarcÃ¡              Cali \n",
       "                1                 3                 2                50 \n",
       "          CÃºcuta         Cartagena           Cartago             ChÃ­a \n",
       "               14                26                 1                 3 \n",
       "       ChinchinÃ¡              Cota           DariÃ©n      Dosquebradas \n",
       "                2                 2                 1                 4 \n",
       "         El Dovio         El Retiro          Envigado          Frontino \n",
       "                1                 1                 3                 1 \n",
       "            Funza       FusagasugÃ¡            Guarne          GuatapÃ© \n",
       "                1                 1                 1                 1 \n",
       "          IbaguÃ©           Ipiales          ItagÃ¼Ã­         La Dorada \n",
       "                8                 1                 3                 2 \n",
       "        La UniÃ³n            Madrid         Manizales         MedellÃ­n \n",
       "                1                 1                 5                41 \n",
       "         Mosquera             Neiva             Pacho           Palermo \n",
       "                1                13                 1                 1 \n",
       "          Palmira           Pereira          PopayÃ¡n   Puerto Colombia \n",
       "               13                15                 9                 1 \n",
       "         Rionegro          Sabaneta San AndrÃ©s Islas         San Pedro \n",
       "                3                 1                 1                 1 \n",
       "      Santa Marta           Santana            Soacha           Soledad \n",
       "                7                 1                 3                 2 \n",
       "            SopÃ³        Subachoque            Tolima          Trujillo \n",
       "                1                 1                 1                 1 \n",
       "           TuluÃ¡             Tunja        Valledupar Villa del Rosario \n",
       "                2                 1                 2                 1 \n",
       "      VillamarÃ­a     Villavicencio           Villeta           Viterbo \n",
       "                1                 8                 2                 2 \n",
       "            Yopal             Yumbo \n",
       "                1                 1 "
      ]
     },
     "metadata": {},
     "output_type": "display_data"
    },
    {
     "data": {
      "text/html": [
       "<pre class=language-r><code>function (x, ...) \n",
       "UseMethod(\"head\")</code></pre>"
      ],
      "text/latex": [
       "\\begin{minted}{r}\n",
       "function (x, ...) \n",
       "UseMethod(\"head\")\n",
       "\\end{minted}"
      ],
      "text/markdown": [
       "```r\n",
       "function (x, ...) \n",
       "UseMethod(\"head\")\n",
       "```"
      ],
      "text/plain": [
       "function (x, ...) \n",
       "UseMethod(\"head\")\n",
       "<bytecode: 0x00000000145b0f70>\n",
       "<environment: namespace:utils>"
      ]
     },
     "metadata": {},
     "output_type": "display_data"
    },
    {
     "data": {
      "text/html": [
       "<table>\n",
       "<caption>A data.frame: 4 × 9</caption>\n",
       "<thead>\n",
       "\t<tr><th></th><th scope=col>ï..ID.de.caso</th><th scope=col>Fecha.de.diagnÃ³stico</th><th scope=col>Ciudad.de.ubicaciÃ³n</th><th scope=col>Departamento</th><th scope=col>AtenciÃ³n</th><th scope=col>Edad</th><th scope=col>Sexo</th><th scope=col>Tipo.</th><th scope=col>PaÃ.s.de.procedencia</th></tr>\n",
       "\t<tr><th></th><th scope=col>&lt;int&gt;</th><th scope=col>&lt;fct&gt;</th><th scope=col>&lt;fct&gt;</th><th scope=col>&lt;fct&gt;</th><th scope=col>&lt;fct&gt;</th><th scope=col>&lt;fct&gt;</th><th scope=col>&lt;fct&gt;</th><th scope=col>&lt;fct&gt;</th><th scope=col>&lt;fct&gt;</th></tr>\n",
       "</thead>\n",
       "<tbody>\n",
       "\t<tr><th scope=row>28</th><td> 28</td><td>15/03/2020</td><td>Dosquebradas</td><td>Risaralda</td><td>En casa     </td><td>20 a 29</td><td>M</td><td>Importado  </td><td>Estados Unidos</td></tr>\n",
       "\t<tr><th scope=row>101</th><td>101</td><td>18/03/2020</td><td>Dosquebradas</td><td>Risaralda</td><td>En casa     </td><td>10 a 19</td><td>M</td><td>Importado  </td><td>EspaÃ±a       </td></tr>\n",
       "\t<tr><th scope=row>216</th><td>216</td><td>22/03/2020</td><td>Dosquebradas</td><td>Risaralda</td><td>Hospital UCI</td><td>40 a 49</td><td>M</td><td>Importado  </td><td>EspaÃ±a       </td></tr>\n",
       "\t<tr><th scope=row>289</th><td>289</td><td>23/03/2020</td><td>Dosquebradas</td><td>Risaralda</td><td>En casa     </td><td>40 a 49</td><td>F</td><td>Relacionado</td><td>Colombia      </td></tr>\n",
       "</tbody>\n",
       "</table>\n"
      ],
      "text/latex": [
       "A data.frame: 4 × 9\n",
       "\\begin{tabular}{r|lllllllll}\n",
       "  & ï..ID.de.caso & Fecha.de.diagnÃ³stico & Ciudad.de.ubicaciÃ³n & Departamento & AtenciÃ³n & Edad & Sexo & Tipo. & PaÃ.s.de.procedencia\\\\\n",
       "  & <int> & <fct> & <fct> & <fct> & <fct> & <fct> & <fct> & <fct> & <fct>\\\\\n",
       "\\hline\n",
       "\t28 &  28 & 15/03/2020 & Dosquebradas & Risaralda & En casa      & 20 a 29 & M & Importado   & Estados Unidos\\\\\n",
       "\t101 & 101 & 18/03/2020 & Dosquebradas & Risaralda & En casa      & 10 a 19 & M & Importado   & EspaÃ±a       \\\\\n",
       "\t216 & 216 & 22/03/2020 & Dosquebradas & Risaralda & Hospital UCI & 40 a 49 & M & Importado   & EspaÃ±a       \\\\\n",
       "\t289 & 289 & 23/03/2020 & Dosquebradas & Risaralda & En casa      & 40 a 49 & F & Relacionado & Colombia      \\\\\n",
       "\\end{tabular}\n"
      ],
      "text/markdown": [
       "\n",
       "A data.frame: 4 × 9\n",
       "\n",
       "| <!--/--> | ï..ID.de.caso &lt;int&gt; | Fecha.de.diagnÃ³stico &lt;fct&gt; | Ciudad.de.ubicaciÃ³n &lt;fct&gt; | Departamento &lt;fct&gt; | AtenciÃ³n &lt;fct&gt; | Edad &lt;fct&gt; | Sexo &lt;fct&gt; | Tipo. &lt;fct&gt; | PaÃ.s.de.procedencia &lt;fct&gt; |\n",
       "|---|---|---|---|---|---|---|---|---|---|\n",
       "| 28 |  28 | 15/03/2020 | Dosquebradas | Risaralda | En casa      | 20 a 29 | M | Importado   | Estados Unidos |\n",
       "| 101 | 101 | 18/03/2020 | Dosquebradas | Risaralda | En casa      | 10 a 19 | M | Importado   | EspaÃ±a        |\n",
       "| 216 | 216 | 22/03/2020 | Dosquebradas | Risaralda | Hospital UCI | 40 a 49 | M | Importado   | EspaÃ±a        |\n",
       "| 289 | 289 | 23/03/2020 | Dosquebradas | Risaralda | En casa      | 40 a 49 | F | Relacionado | Colombia       |\n",
       "\n"
      ],
      "text/plain": [
       "    ï..ID.de.caso Fecha.de.diagnÃ³stico Ciudad.de.ubicaciÃ³n Departamento\n",
       "28   28           15/03/2020            Dosquebradas         Risaralda   \n",
       "101 101           18/03/2020            Dosquebradas         Risaralda   \n",
       "216 216           22/03/2020            Dosquebradas         Risaralda   \n",
       "289 289           23/03/2020            Dosquebradas         Risaralda   \n",
       "    AtenciÃ³n    Edad    Sexo Tipo.       PaÃ.s.de.procedencia\n",
       "28  En casa      20 a 29 M    Importado   Estados Unidos      \n",
       "101 En casa      10 a 19 M    Importado   EspaÃ±a             \n",
       "216 Hospital UCI 40 a 49 M    Importado   EspaÃ±a             \n",
       "289 En casa      40 a 49 F    Relacionado Colombia            "
      ]
     },
     "metadata": {},
     "output_type": "display_data"
    },
    {
     "data": {
      "text/html": [
       "'probability for Bogota'"
      ],
      "text/latex": [
       "'probability for Bogota'"
      ],
      "text/markdown": [
       "'probability for Bogota'"
      ],
      "text/plain": [
       "[1] \"probability for Bogota\""
      ]
     },
     "metadata": {},
     "output_type": "display_data"
    },
    {
     "data": {
      "text/html": [
       "0.00742115027829314"
      ],
      "text/latex": [
       "0.00742115027829314"
      ],
      "text/markdown": [
       "0.00742115027829314"
      ],
      "text/plain": [
       "[1] 0.00742115"
      ]
     },
     "metadata": {},
     "output_type": "display_data"
    },
    {
     "data": {
      "image/png": "[encoded data removed]",
      "text/plain": [
       "Plot with title \"Bogota\""
      ]
     },
     "metadata": {
      "image/png": {
       "height": 420,
       "width": 420
      },
      "text/plain": {
       "height": 420,
       "width": 420
      }
     },
     "output_type": "display_data"
    },
    {
     "data": {
      "text/html": [
       "'Esperanza para el caso de Dos y Per'"
      ],
      "text/latex": [
       "'Esperanza para el caso de Dos y Per'"
      ],
      "text/markdown": [
       "'Esperanza para el caso de Dos y Per'"
      ],
      "text/plain": [
       "[1] \"Esperanza para el caso de Dos y Per\""
      ]
     },
     "metadata": {},
     "output_type": "display_data"
    },
    {
     "data": {
      "text/html": [
       "7.42115027829314"
      ],
      "text/latex": [
       "7.42115027829314"
      ],
      "text/markdown": [
       "7.42115027829314"
      ],
      "text/plain": [
       "[1] 7.42115"
      ]
     },
     "metadata": {},
     "output_type": "display_data"
    },
    {
     "data": {
      "text/html": [
       "7.42115027829314"
      ],
      "text/latex": [
       "7.42115027829314"
      ],
      "text/markdown": [
       "7.42115027829314"
      ],
      "text/plain": [
       "[1] 7.42115"
      ]
     },
     "metadata": {},
     "output_type": "display_data"
    },
    {
     "data": {
      "text/html": [
       "992.578849721707"
      ],
      "text/latex": [
       "992.578849721707"
      ],
      "text/markdown": [
       "992.578849721707"
      ],
      "text/plain": [
       "[1] 992.5788"
      ]
     },
     "metadata": {},
     "output_type": "display_data"
    },
    {
     "data": {
      "image/png": "[encoded data removed]",
      "text/plain": [
       "Plot with title \"Dos y pereira\""
      ]
     },
     "metadata": {
      "image/png": {
       "height": 420,
       "width": 420
      },
      "text/plain": {
       "height": 420,
       "width": 420
      }
     },
     "output_type": "display_data"
    }
   ],
   "source": [
    "covid19_CO_df <- read.csv(\"https://drive.google.com/u/1/uc?id=1R5BTpi0rT8tj3pZFkagJHY8z2dmYFwBP&export=download\")\n",
    "head(COVID19_CO_df)\n",
    "\n",
    "### Case for\n",
    "## Get current directory\n",
    "#getwd()\n",
    "## Set a direction where stored \n",
    "#direction <- \"/home/andres/maestria/R_classes\"\n",
    "#setwd(direccion)\n",
    "#getwd()\n",
    "#covid <- read.csv(\"Casos1.csv\")\n",
    "\n",
    "# Probabilidad de ser hombre infectado por COVID 10\n",
    "levels(covid19_CO_df$Ciudad.de.ubicaciÃ³n)\n",
    "\n",
    "g_tab <- table(covid19_CO_df$Sexo)\n",
    "\n",
    "\n",
    "# Total Men divided by total ocurrencies\n",
    "p=g_tab[\"M\"]/length(covid19_CO_df$Sexo)\n",
    "\n",
    "sprintf(\"Probabildiad de ser hombre y tener COVID\")\n",
    "p\n",
    "\n",
    "\n",
    "\n",
    "# Probabildiad de ser importado, en Bogota\n",
    "sprintf(\"Probabildiad de ser importado de bogota\")\n",
    "table(covid19_CO_df$Ciudad.de.ubicaciÃ³n)\n",
    "head\n",
    "covid19_Bog_df <- subset(covid19_CO_df, covid19_CO_df$Ciudad.de.ubicaciÃ³n==\"BogotÃ¡\")\n",
    "\n",
    "head(covid19_Bog_df)\n",
    "\n",
    "\n",
    "n <- 1000\n",
    "\n",
    "# Probability\n",
    "p <- nrow(covid19_Bog_df)/nrow(covid19_CO_df)\n",
    "sprintf(\"probability for Bogota\")\n",
    "p\n",
    "\n",
    "x<- c(0:n)\n",
    "\n",
    "dbogota <- dbinom(x,n,p)\n",
    "\n",
    "plot(dbogota, main=\"Bogota\")\n",
    "\n",
    "sprintf(\"Esperanza para el caso de bogota\")\n",
    "E<- p*n; E\n",
    "n-E\n",
    "\n",
    "# Probabildiad de ser importado, en Dosquebradas\n",
    "sprintf(\"Probabildiad de ser importado de bogota\")\n",
    "table(covid19_CO_df$Ciudad.de.ubicaciÃ³n)\n",
    "head\n",
    "covid19_DosPer_df <- subset(covid19_CO_df, covid19_CO_df$Ciudad.de.ubicaciÃ³n==\"Dosquebradas\" | covid19_CO_df$Ciudad.de.ubicaciÃ³n==\"Pereira\")\n",
    "\n",
    "head(covid19_Dos_df)\n",
    "\n",
    "\n",
    "n <- 1000\n",
    "\n",
    "# Probability\n",
    "p <- nrow(covid19_Dos_df)/nrow(covid19_CO_df)\n",
    "sprintf(\"probability for Bogota\")\n",
    "p\n",
    "\n",
    "x<- c(0:n)\n",
    "\n",
    "dDos <- dbinom(x,n,p)\n",
    "\n",
    "plot(dDos, main=\"Dos y pereira\")\n",
    "\n",
    "sprintf(\"Esperanza para el caso de Dos y Per\")\n",
    "E<- p*n; E\n",
    "E\n",
    "n-E\n",
    "\n",
    "\n",
    "# el resultado de esta grafica indica la proporción n la cantidad de casos que resultaran en bogota y el restante fuera del pais\n",
    "# la distribuciío\n",
    "\n",
    "# Cual es la probabilidad sobre 100 casos que sean en Bogota\n",
    "# Casos nacionales\n",
    "# Casos bogota\n",
    "# P casos en botoa, casos fuera de bogota\n"
   ]
  }
 ],
 "metadata": {
  "kernelspec": {
   "display_name": "R",
   "language": "R",
   "name": "ir"
  },
  "language_info": {
   "codemirror_mode": "r",
   "file_extension": ".r",
   "mimetype": "text/x-r-source",
   "name": "R",
   "pygments_lexer": "r",
   "version": "3.6.3"
  }
 },
 "nbformat": 4,
 "nbformat_minor": 4
}
