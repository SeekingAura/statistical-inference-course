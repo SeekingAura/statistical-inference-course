{
 "cells": [
  {
   "cell_type": "markdown",
   "metadata": {},
   "source": [
    "# Distribución de probabilidad de Poisson\n",
    "\n",
    "## Definición\n",
    "Permite estimar el número de veces que ocurre un evento en un intervalo de tiempo o espacio determinado\n",
    "\n",
    "Condiciones:\n",
    "\n",
    "* La probabilidad de ocurrencia es la misma para cualquiera de los intervalos de la misma magnitud\n",
    "* La ocurrencia o no-ocurrencia en cualquier intervalo es independiente de la ocurrencia o no-ocurrencia\n",
    "\n",
    "$P(x,\\lambda )= \\frac{\\lambda^{x}}{e}$\n",
    "\n",
    "X valor que se quiere observar\n",
    "\n",
    "Lambda conocimiento sobre el fenomeno\n",
    "\n",
    "## Ejemplo\n",
    "En un puente cruzan en promedio 12 vehículos por minuto, cual es la probabilidad para que 14 o más vehiculos crucen el puente en un minuto \n",
    "\n",
    "El lambda en este caso seria el promedio de vehiculso pro minuto (son 12)"
   ]
  },
  {
   "cell_type": "code",
   "execution_count": 12,
   "metadata": {},
   "outputs": [
    {
     "data": {
      "text/html": [
       "'Probabilidad de que pasen exactamente 14 vehiculos'"
      ],
      "text/latex": [
       "'Probabilidad de que pasen exactamente 14 vehiculos'"
      ],
      "text/markdown": [
       "'Probabilidad de que pasen exactamente 14 vehiculos'"
      ],
      "text/plain": [
       "[1] \"Probabilidad de que pasen exactamente 14 vehiculos\""
      ]
     },
     "metadata": {},
     "output_type": "display_data"
    },
    {
     "data": {
      "text/html": [
       "0.0904889001832984"
      ],
      "text/latex": [
       "0.0904889001832984"
      ],
      "text/markdown": [
       "0.0904889001832984"
      ],
      "text/plain": [
       "[1] 0.0904889"
      ]
     },
     "metadata": {},
     "output_type": "display_data"
    },
    {
     "data": {
      "text/html": [
       "'Probabilidad de que pasen exactamente 16 vehiculos'"
      ],
      "text/latex": [
       "'Probabilidad de que pasen exactamente 16 vehiculos'"
      ],
      "text/markdown": [
       "'Probabilidad de que pasen exactamente 16 vehiculos'"
      ],
      "text/plain": [
       "[1] \"Probabilidad de que pasen exactamente 16 vehiculos\""
      ]
     },
     "metadata": {},
     "output_type": "display_data"
    },
    {
     "data": {
      "text/html": [
       "0.0542933401099791"
      ],
      "text/latex": [
       "0.0542933401099791"
      ],
      "text/markdown": [
       "0.0542933401099791"
      ],
      "text/plain": [
       "[1] 0.05429334"
      ]
     },
     "metadata": {},
     "output_type": "display_data"
    },
    {
     "data": {
      "text/html": [
       "'Probabilidad de que pasen exactamente 18 vehiculos'"
      ],
      "text/latex": [
       "'Probabilidad de que pasen exactamente 18 vehiculos'"
      ],
      "text/markdown": [
       "'Probabilidad de que pasen exactamente 18 vehiculos'"
      ],
      "text/plain": [
       "[1] \"Probabilidad de que pasen exactamente 18 vehiculos\""
      ]
     },
     "metadata": {},
     "output_type": "display_data"
    },
    {
     "data": {
      "text/html": [
       "0.0255498071105783"
      ],
      "text/latex": [
       "0.0255498071105783"
      ],
      "text/markdown": [
       "0.0255498071105783"
      ],
      "text/plain": [
       "[1] 0.02554981"
      ]
     },
     "metadata": {},
     "output_type": "display_data"
    },
    {
     "data": {
      "text/html": [
       "'Probabilidad de que pasen 14 o menos vehiculos'"
      ],
      "text/latex": [
       "'Probabilidad de que pasen 14 o menos vehiculos'"
      ],
      "text/markdown": [
       "'Probabilidad de que pasen 14 o menos vehiculos'"
      ],
      "text/plain": [
       "[1] \"Probabilidad de que pasen 14 o menos vehiculos\""
      ]
     },
     "metadata": {},
     "output_type": "display_data"
    },
    {
     "data": {
      "text/html": [
       "0.772024532303544"
      ],
      "text/latex": [
       "0.772024532303544"
      ],
      "text/markdown": [
       "0.772024532303544"
      ],
      "text/plain": [
       "[1] 0.7720245"
      ]
     },
     "metadata": {},
     "output_type": "display_data"
    },
    {
     "data": {
      "text/html": [
       "'Probabilidad de que pasen 14 o más vehiculos'"
      ],
      "text/latex": [
       "'Probabilidad de que pasen 14 o más vehiculos'"
      ],
      "text/markdown": [
       "'Probabilidad de que pasen 14 o más vehiculos'"
      ],
      "text/plain": [
       "[1] \"Probabilidad de que pasen 14 o más vehiculos\""
      ]
     },
     "metadata": {},
     "output_type": "display_data"
    },
    {
     "data": {
      "text/html": [
       "0.227975467696456"
      ],
      "text/latex": [
       "0.227975467696456"
      ],
      "text/markdown": [
       "0.227975467696456"
      ],
      "text/plain": [
       "[1] 0.2279755"
      ]
     },
     "metadata": {},
     "output_type": "display_data"
    },
    {
     "data": {
      "text/html": [
       "'Probabilidad de que pasen una cantidad diferente a 14 vehiculos'"
      ],
      "text/latex": [
       "'Probabilidad de que pasen una cantidad diferente a 14 vehiculos'"
      ],
      "text/markdown": [
       "'Probabilidad de que pasen una cantidad diferente a 14 vehiculos'"
      ],
      "text/plain": [
       "[1] \"Probabilidad de que pasen una cantidad diferente a 14 vehiculos\""
      ]
     },
     "metadata": {},
     "output_type": "display_data"
    },
    {
     "data": {
      "text/html": [
       "0.909511099816702"
      ],
      "text/latex": [
       "0.909511099816702"
      ],
      "text/markdown": [
       "0.909511099816702"
      ],
      "text/plain": [
       "[1] 0.9095111"
      ]
     },
     "metadata": {},
     "output_type": "display_data"
    },
    {
     "data": {
      "image/png": "[encoded data removed]",
      "text/plain": [
       "Plot with title \"Histogram of d$data\""
      ]
     },
     "metadata": {
      "image/png": {
       "height": 420,
       "width": 420
      },
      "text/plain": {
       "height": 420,
       "width": 420
      }
     },
     "output_type": "display_data"
    }
   ],
   "source": [
    "# poisson media=12\n",
    "# probabildiad para que pasen EXACTAMENTE 14 \n",
    "sprintf(\"Probabilidad de que pasen exactamente 14 vehiculos\")\n",
    "dpois(14, lambda=12)\n",
    "\n",
    "# Probabilidad para que pasen EXACTAMENTE 16\n",
    "sprintf(\"Probabilidad de que pasen exactamente 16 vehiculos\")\n",
    "dpois(16, lambda=12)\n",
    "\n",
    "# Probabilidad para que pasen EXACTAMENTE 18\n",
    "sprintf(\"Probabilidad de que pasen exactamente 18 vehiculos\")\n",
    "dpois(18, lambda=12)\n",
    "\n",
    "# Probabilidad para que pasen 14 o menos - Acumulado\n",
    "sprintf(\"Probabilidad de que pasen 14 o menos vehiculos\")\n",
    "ppois(14, lambda=12)\n",
    "\n",
    "# Para mas de 14\n",
    "# Lower.tail refiere a NO tomar el lado izquierdo de la campana (1 -p)\n",
    "# Calculando la probabildiad de que sea 14 o mas vehiculos\n",
    "sprintf(\"Probabilidad de que pasen 14 o más vehiculos\")\n",
    "ppois(14,lambda=12, lower.tail=FALSE)\n",
    "\n",
    "sprintf(\"Probabilidad de que pasen una cantidad diferente a 14 vehiculos\")\n",
    "1-dpois(14,lambda=12)\n",
    "\n",
    "d<-data.frame('data'=rpois(20,12))\n",
    "hist(d$data)"
   ]
  },
  {
   "cell_type": "markdown",
   "metadata": {},
   "source": [
    "Una oficina de recaudo rechaza 6 transacciones por dia, cuales son las probabildiades de:\n",
    "\n",
    "1. rechazar 4 en un dia\n",
    "2. rechazar 9 en dos dias consecutivos\n",
    "\n",
    "\n"
   ]
  },
  {
   "cell_type": "code",
   "execution_count": 13,
   "metadata": {},
   "outputs": [
    {
     "data": {
      "text/html": [
       "0.133852617539983"
      ],
      "text/latex": [
       "0.133852617539983"
      ],
      "text/markdown": [
       "0.133852617539983"
      ],
      "text/plain": [
       "[1] 0.1338526"
      ]
     },
     "metadata": {},
     "output_type": "display_data"
    },
    {
     "data": {
      "text/html": [
       "0.0873643799030494"
      ],
      "text/latex": [
       "0.0873643799030494"
      ],
      "text/markdown": [
       "0.0873643799030494"
      ],
      "text/plain": [
       "[1] 0.08736438"
      ]
     },
     "metadata": {},
     "output_type": "display_data"
    }
   ],
   "source": [
    "# Probabilidad de rechazar 4 en un dia\n",
    "dpois(4,lambda=6)\n",
    "\n",
    "# Probabilidad de rechazar 2 en dos dia\n",
    "# Como se rechazan 6 por dia en dos dias se rechazan 2\n",
    "dpois(9,12)"
   ]
  },
  {
   "cell_type": "markdown",
   "metadata": {},
   "source": [
    "En un hospotal nacen en promedio 4.5 bebes cada dia, cual es la probabildiad para que nazvan 6 mañana\n",
    "\n",
    "Cual es el model para un año con la tasa de nacimiento para 6?"
   ]
  },
  {
   "cell_type": "code",
   "execution_count": 3,
   "metadata": {},
   "outputs": [
    {
     "data": {
      "text/html": [
       "0.128120143864584"
      ],
      "text/latex": [
       "0.128120143864584"
      ],
      "text/markdown": [
       "0.128120143864584"
      ],
      "text/plain": [
       "[1] 0.1281201"
      ]
     },
     "metadata": {},
     "output_type": "display_data"
    },
    {
     "name": "stderr",
     "output_type": "stream",
     "text": [
      "Warning message:\n",
      "\"Ignoring unknown parameters: binwidith\"\n",
      "`stat_bin()` using `bins = 30`. Pick better value with `binwidth`.\n",
      "\n"
     ]
    },
    {
     "data": {
      "text/html": [
       "<table>\n",
       "<caption>A data.frame: 1 × 1</caption>\n",
       "<thead>\n",
       "\t<tr><th scope=col>nac_6</th></tr>\n",
       "\t<tr><th scope=col>&lt;dbl&gt;</th></tr>\n",
       "</thead>\n",
       "<tbody>\n",
       "\t<tr><td>0.1150685</td></tr>\n",
       "</tbody>\n",
       "</table>\n"
      ],
      "text/latex": [
       "A data.frame: 1 × 1\n",
       "\\begin{tabular}{l}\n",
       " nac\\_6\\\\\n",
       " <dbl>\\\\\n",
       "\\hline\n",
       "\t 0.1150685\\\\\n",
       "\\end{tabular}\n"
      ],
      "text/markdown": [
       "\n",
       "A data.frame: 1 × 1\n",
       "\n",
       "| nac_6 &lt;dbl&gt; |\n",
       "|---|\n",
       "| 0.1150685 |\n",
       "\n"
      ],
      "text/plain": [
       "  nac_6    \n",
       "1 0.1150685"
      ]
     },
     "metadata": {},
     "output_type": "display_data"
    },
    {
     "data": {
      "image/png": "[encoded data removed]",
      "text/plain": [
       "plot without title"
      ]
     },
     "metadata": {
      "image/png": {
       "height": 420,
       "width": 420
      },
      "text/plain": {
       "height": 420,
       "width": 420
      }
     },
     "output_type": "display_data"
    }
   ],
   "source": [
    "dpois(6,lambda=4.5)\n",
    "\n",
    "library(ggplot2)\n",
    "set.seed(2)\n",
    "\n",
    "nac <- data.frame('data' = rpois(365, 4.5))\n",
    "\n",
    "ggplot(data=nac)+\n",
    "    geom_histogram(aes(x=data,\n",
    "                      y=stat(count/sum(count)),\n",
    "                      fill=data==6),\n",
    "                binwidith=1,\n",
    "                  color='black',)+\n",
    "    scale_x_continuous(breaks=0:10)+\n",
    "labs(x='Nacimiento por periodo',\n",
    "    y='Proporcion',\n",
    "    title= \"Sin nacimientos con Pois(lambda=4.5)\")+\n",
    "theme_bw()\n",
    "\n",
    "library(dplyr)\n",
    "\n",
    "nac %>% dplyr::summarize(nac_6 = sum(nac$data==6)/n())\n"
   ]
  },
  {
   "cell_type": "markdown",
   "metadata": {},
   "source": [
    "# Distribuciones muestrales\n",
    "## Muestreo\n",
    "* **Muestreo aleatorio simple**: es una muestra extraida de una población, para que la muestra sea representativa la selección debe ser equiprobable y tomada de forma aleatoria\n",
    "\n",
    "* **Población finita**; Una muestra aleatoria simple de tamaño n de una población finita de tamaño N es una muestra seleccionada de manera que cada posible muestra de tamaño n tenga la misma prabilidad de ser seleccionada. Puede ser con reemplazo o sin reemplazo, en la practica siempre se realiza sin reemplazo\n",
    "\n",
    "\n",
    "## Distribución muestral definicion\n",
    "La distribución muestral corresponde a una distribución de todas las muestras posibles. Seria tomar todas las muestras posibles a escojer\n",
    "\n",
    "### La distribución muestral se constituye asi\n",
    "* De una población finita de tamaño N se extraen al azar todas las muestras posibles de tamaño n\n",
    "* Se calcula la estadistica de itnereses\n",
    "\n",
    "## Distribuciones muestrales\n",
    "Buscar conocer: media, varianza y forma funcional si se habla de una población las medidas se denominan **parametros**\n",
    "\n",
    "### Muestra\n",
    "El número de meustras aleatorias simples distitnas de tamaño n que pueden seleccionarse de una población finita de tamaño N es:\n",
    "\n",
    "### Media\n",
    "Se comprota como una camana ya sea con reemplazo o sin reemplazo, se aproxima a la distribución normal.\n",
    "\n",
    "\n",
    "#### Distribución muestral de la media\n",
    "Si consideramos una población de N elementos con media $\\mu$ y desviación tipica $\\sigma$\n",
    "\n",
    "## Teorema\n",
    "Dada una población si extraemos todas las muestras posibles de un mismo tamaño entonces la distribución de todas las medidas muestrales posibles será igual a la media población, en consecuencia.\n",
    "\n",
    "$\\mu=\\mu_x$\n",
    "\n",
    "$\\sigma_x=\\frac{\\sigma}{\\sqrt{n}}$\n",
    "\n",
    "* El número de muestras posibles\n",
    "\n",
    "# Teorema del limite central\n",
    "Bajo condiciones generales las sumas y medias de muestras aleatorias de mediciones otmadas de una población tienden a tener una distribución aproximadamente normal. Es decir las muestras tienen un comportamiento como una probabilidad normal en condiciones normales\n",
    "\n",
    "El limite central permitirá aproximar la muiestra a la media\n",
    "\n",
    "Se peude usar la distribución para describir el comprotmaiento de los estimadores\n",
    "\n",
    "$z=\\frac{Estimador-Media}{Desviacionestandar}$\n",
    "\n",
    "La desviación estandar de una estadistica empleada como un estimador de un parametro poblaconal tambien se le conoce estimador d ela media poblacional\n",
    "\n",
    "\n",
    "## Eejemplo\n",
    "Se toma uestra aleatoria de tamaño de n=36 de una distribución con una media de 75 y desviación estandar de 12. Encontrar\n",
    "\n",
    "* $\\bar{x}=75$\n",
    "* La desviación estandar\n",
    "\n",
    "\n",
    "\n",
    "\n"
   ]
  },
  {
   "cell_type": "code",
   "execution_count": 6,
   "metadata": {},
   "outputs": [
    {
     "data": {
      "text/html": [
       "36"
      ],
      "text/latex": [
       "36"
      ],
      "text/markdown": [
       "36"
      ],
      "text/plain": [
       "[1] 36"
      ]
     },
     "metadata": {},
     "output_type": "display_data"
    },
    {
     "data": {
      "text/html": [
       "75"
      ],
      "text/latex": [
       "75"
      ],
      "text/markdown": [
       "75"
      ],
      "text/plain": [
       "[1] 75"
      ]
     },
     "metadata": {},
     "output_type": "display_data"
    },
    {
     "data": {
      "text/html": [
       "2"
      ],
      "text/latex": [
       "2"
      ],
      "text/markdown": [
       "2"
      ],
      "text/plain": [
       "[1] 2"
      ]
     },
     "metadata": {},
     "output_type": "display_data"
    },
    {
     "data": {
      "text/html": [
       "2.5"
      ],
      "text/latex": [
       "2.5"
      ],
      "text/markdown": [
       "2.5"
      ],
      "text/plain": [
       "[1] 2.5"
      ]
     },
     "metadata": {},
     "output_type": "display_data"
    },
    {
     "data": {
      "text/html": [
       "0.993790334674224"
      ],
      "text/latex": [
       "0.993790334674224"
      ],
      "text/markdown": [
       "0.993790334674224"
      ],
      "text/plain": [
       "[1] 0.9937903"
      ]
     },
     "metadata": {},
     "output_type": "display_data"
    },
    {
     "ename": "ERROR",
     "evalue": "Error in pnorm(): el argumento \"q\" está ausente, sin valor por omisión\n",
     "output_type": "error",
     "traceback": [
      "Error in pnorm(): el argumento \"q\" está ausente, sin valor por omisión\nTraceback:\n",
      "1. pnorm()"
     ]
    }
   ],
   "source": [
    "# Probabildiad de muestra\n",
    "n<-36\n",
    "ux<-75\n",
    "sx<-12/sqrt(n)\n",
    "n;ux;sx\n",
    "\n",
    "\n",
    "## Normalizar la media de la población\n",
    "# Media muestral exceda 80\n",
    "z<-(80-ux)/sx;z\n",
    "\n",
    "# Probabilidad de P(x>=80)\n",
    "pnorm(z)\n",
    "1-pnorm()\n",
    "\n",
    "# Hallar la probabilidad que la media muestral este parecido al 79 y 72\n",
    "z70<-(76-ux)/sx;z70\n",
    "z72<-(72-ux)/sx;z72\n",
    "(pnorm(z72) - pnorm(z70))*100\n",
    "\n",
    "\n",
    "\n",
    "# z es el valor de la tribución acumulada\n"
   ]
  },
  {
   "cell_type": "markdown",
   "metadata": {},
   "source": [
    "## Eejemplo 1\n",
    "Hallar la probabildiad de que la media muestral exceda de 80\n",
    "\n",
    "## Ejemplo 2\n",
    "La duración de la enfermedad de Alzheimer desde el principio de los isntomas hasta el fallecimiento varia de 3 a 20 años. El promedio es de 8 años con una desviación estandar de 4 años\n",
    "\n",
    "Se seleccionan al azar registros medicos de 30 pacientes con Alzehimer, encuentra\n",
    "* Duración menor a 7 años\n",
    "* Duración promedio excede 7 años\n",
    "\n",
    "\n",
    "De una maestra que tanto se puede parecer a la población.\n",
    "\n",
    "La idea es tomar una buena muestra para los analisis, tecnicas de muestreo.\n",
    "\n"
   ]
  },
  {
   "cell_type": "code",
   "execution_count": 9,
   "metadata": {},
   "outputs": [
    {
     "data": {
      "text/html": [
       "'Probabilidad de x barra menor a 7'"
      ],
      "text/latex": [
       "'Probabilidad de x barra menor a 7'"
      ],
      "text/markdown": [
       "'Probabilidad de x barra menor a 7'"
      ],
      "text/plain": [
       "[1] \"Probabilidad de x barra menor a 7\""
      ]
     },
     "metadata": {},
     "output_type": "display_data"
    },
    {
     "data": {
      "text/html": [
       "0.730296743340221"
      ],
      "text/latex": [
       "0.730296743340221"
      ],
      "text/markdown": [
       "0.730296743340221"
      ],
      "text/plain": [
       "[1] 0.7302967"
      ]
     },
     "metadata": {},
     "output_type": "display_data"
    },
    {
     "data": {
      "text/html": [
       "0.730296743340221"
      ],
      "text/latex": [
       "0.730296743340221"
      ],
      "text/markdown": [
       "0.730296743340221"
      ],
      "text/plain": [
       "[1] 0.7302967"
      ]
     },
     "metadata": {},
     "output_type": "display_data"
    },
    {
     "data": {
      "text/html": [
       "-1.36930639376292"
      ],
      "text/latex": [
       "-1.36930639376292"
      ],
      "text/markdown": [
       "-1.36930639376292"
      ],
      "text/plain": [
       "[1] -1.369306"
      ]
     },
     "metadata": {},
     "output_type": "display_data"
    },
    {
     "data": {
      "text/html": [
       "91.4548239884601"
      ],
      "text/latex": [
       "91.4548239884601"
      ],
      "text/markdown": [
       "91.4548239884601"
      ],
      "text/plain": [
       "[1] 91.45482"
      ]
     },
     "metadata": {},
     "output_type": "display_data"
    },
    {
     "data": {
      "text/html": [
       "'Probabilidad de x barra mayor a 7 y menor a 9'"
      ],
      "text/latex": [
       "'Probabilidad de x barra mayor a 7 y menor a 9'"
      ],
      "text/markdown": [
       "'Probabilidad de x barra mayor a 7 y menor a 9'"
      ],
      "text/plain": [
       "[1] \"Probabilidad de x barra mayor a 7 y menor a 9\""
      ]
     },
     "metadata": {},
     "output_type": "display_data"
    },
    {
     "data": {
      "text/html": [
       "1.36930639376292"
      ],
      "text/latex": [
       "1.36930639376292"
      ],
      "text/markdown": [
       "1.36930639376292"
      ],
      "text/plain": [
       "[1] 1.369306"
      ]
     },
     "metadata": {},
     "output_type": "display_data"
    },
    {
     "data": {
      "text/html": [
       "-1.36930639376292"
      ],
      "text/latex": [
       "-1.36930639376292"
      ],
      "text/markdown": [
       "-1.36930639376292"
      ],
      "text/plain": [
       "[1] -1.369306"
      ]
     },
     "metadata": {},
     "output_type": "display_data"
    },
    {
     "data": {
      "text/html": [
       "0.914548239884601"
      ],
      "text/latex": [
       "0.914548239884601"
      ],
      "text/markdown": [
       "0.914548239884601"
      ],
      "text/plain": [
       "[1] 0.9145482"
      ]
     },
     "metadata": {},
     "output_type": "display_data"
    },
    {
     "data": {
      "text/html": [
       "0.0854517601153987"
      ],
      "text/latex": [
       "0.0854517601153987"
      ],
      "text/markdown": [
       "0.0854517601153987"
      ],
      "text/plain": [
       "[1] 0.08545176"
      ]
     },
     "metadata": {},
     "output_type": "display_data"
    },
    {
     "data": {
      "text/html": [
       "82.9096479769203"
      ],
      "text/latex": [
       "82.9096479769203"
      ],
      "text/markdown": [
       "82.9096479769203"
      ],
      "text/plain": [
       "[1] 82.90965"
      ]
     },
     "metadata": {},
     "output_type": "display_data"
    }
   ],
   "source": [
    "# Probabilidad de x barra menor a 7\n",
    "sprintf(\"Probabilidad de x barra menor a 7\")\n",
    "miu <-8 # Media\n",
    "ds<-4\n",
    "n<-30\n",
    "xb<-7\n",
    "ds_xb<-ds/sqrt(n);ds_xb\n",
    "z<-(xb-miu)/ds_xb\n",
    "ds_xb;z\n",
    "\n",
    "(1-pnorm(z))*100\n",
    "\n",
    "# Probabilidad de x barra mayor a 7 y menor a 9\n",
    "sprintf(\"Probabilidad de x barra mayor a 7 y menor a 9\")\n",
    "xb<-9\n",
    "z2<-(xb-miu)/ds_xb\n",
    "z2;z\n",
    "\n",
    "pnorm(z2);pnorm(z)\n",
    "(pnorm(z2)-pnorm(z))*100 \n"
   ]
  },
  {
   "cell_type": "markdown",
   "metadata": {},
   "source": [
    "## Ejercicio 3\n",
    "La altura media de 400 arboles de una reversa es de 2.5 metros y su desviación estandar es de 0.25 metros. Determinar la probabildiad de que una muestra de 36 individuos la media "
   ]
  },
  {
   "cell_type": "code",
   "execution_count": 12,
   "metadata": {},
   "outputs": [
    {
     "data": {
      "text/html": [
       "0.0416666666666667"
      ],
      "text/latex": [
       "0.0416666666666667"
      ],
      "text/markdown": [
       "0.0416666666666667"
      ],
      "text/plain": [
       "[1] 0.04166667"
      ]
     },
     "metadata": {},
     "output_type": "display_data"
    },
    {
     "data": {
      "text/html": [
       "2.4"
      ],
      "text/latex": [
       "2.4"
      ],
      "text/markdown": [
       "2.4"
      ],
      "text/plain": [
       "[1] 2.4"
      ]
     },
     "metadata": {},
     "output_type": "display_data"
    },
    {
     "data": {
      "text/html": [
       "0.991802464075404"
      ],
      "text/latex": [
       "0.991802464075404"
      ],
      "text/markdown": [
       "0.991802464075404"
      ],
      "text/plain": [
       "[1] 0.9918025"
      ]
     },
     "metadata": {},
     "output_type": "display_data"
    },
    {
     "data": {
      "text/html": [
       "'Probabilidad de que en la población de arboles hayan 36 con 2.6 de altura'"
      ],
      "text/latex": [
       "'Probabilidad de que en la población de arboles hayan 36 con 2.6 de altura'"
      ],
      "text/markdown": [
       "'Probabilidad de que en la población de arboles hayan 36 con 2.6 de altura'"
      ],
      "text/plain": [
       "[1] \"Probabilidad de que en la población de arboles hayan 36 con 2.6 de altura\""
      ]
     },
     "metadata": {},
     "output_type": "display_data"
    },
    {
     "data": {
      "text/html": [
       "0.00819753592459604"
      ],
      "text/latex": [
       "0.00819753592459604"
      ],
      "text/markdown": [
       "0.00819753592459604"
      ],
      "text/plain": [
       "[1] 0.008197536"
      ]
     },
     "metadata": {},
     "output_type": "display_data"
    }
   ],
   "source": [
    "# Arboles\n",
    "# Media\n",
    "miu <- 2.5\n",
    "\n",
    "# Desviación\n",
    "ds <- 0.25\n",
    "\n",
    "# Tamaño para los 36 arboles\n",
    "xb <- 2.6\n",
    "\n",
    "# Cantidad de pboalción\n",
    "n <- 36\n",
    "ds_xb <- ds/sqrt(n);ds_xb\n",
    "\n",
    "\n",
    "z <- (xb - miu)/ds_xb\n",
    "z\n",
    "\n",
    "pnorm(z)\n",
    "\n",
    "sprintf(\"Probabilidad de que en la población de arboles hayan 36 con 2.6 de altura\")\n",
    "1-pnorm(z)"
   ]
  },
  {
   "cell_type": "markdown",
   "metadata": {},
   "source": [
    "# Trabajo de clase\n",
    "* Extraer 2 muestra de vehiculso que sean automovlies en Pereira\n",
    "* Hallar los valores de tendencia central para modelos de los vehiculos en cada muestra\n",
    "* Hallar los valores de tendencia central para el modelo de los vehiculos de la población\n",
    "* cual es la probabilidad que la media muestral supere el 2017\n",
    "* Cual es la probabilidad de que la media muestra encuentre entre 2014 y 2017"
   ]
  },
  {
   "cell_type": "code",
   "execution_count": 17,
   "metadata": {},
   "outputs": [
    {
     "data": {
      "text/html": [
       "<table>\n",
       "<caption>A data.frame: 6 × 6</caption>\n",
       "<thead>\n",
       "\t<tr><th></th><th scope=col>CLASE</th><th scope=col>PLACA</th><th scope=col>MARCA</th><th scope=col>MODELO</th><th scope=col>LINEA</th><th scope=col>CILINDRAJE</th></tr>\n",
       "\t<tr><th></th><th scope=col>&lt;fct&gt;</th><th scope=col>&lt;fct&gt;</th><th scope=col>&lt;fct&gt;</th><th scope=col>&lt;int&gt;</th><th scope=col>&lt;fct&gt;</th><th scope=col>&lt;int&gt;</th></tr>\n",
       "</thead>\n",
       "<tbody>\n",
       "\t<tr><th scope=row>1</th><td>AMBULANCIA</td><td>OCA021</td><td>CHEVROLET </td><td>1994</td><td>DIMAX 4X4 3000                 </td><td>5700</td></tr>\n",
       "\t<tr><th scope=row>2</th><td>AMBULANCIA</td><td>OCA050</td><td>FORD      </td><td>1997</td><td>F-150                          </td><td>4942</td></tr>\n",
       "\t<tr><th scope=row>3</th><td>AMBULANCIA</td><td>HWO878</td><td>TOYOTA    </td><td>2014</td><td>LAND CRUISER 4000              </td><td>4000</td></tr>\n",
       "\t<tr><th scope=row>4</th><td>AMBULANCIA</td><td>HWT466</td><td>NISSAN    </td><td>2015</td><td>URBAN 3000                     </td><td>3000</td></tr>\n",
       "\t<tr><th scope=row>5</th><td>AMBULANCIA</td><td>OVE404</td><td>JAC       </td><td>2015</td><td>HFC5049XJHKM 2771              </td><td>2771</td></tr>\n",
       "\t<tr><th scope=row>6</th><td>AMBULANCIA</td><td>IGN198</td><td>VOLKSWAGEN</td><td>2015</td><td>TRANSPORTER KOMBI T5 GP MT 1968</td><td>1968</td></tr>\n",
       "</tbody>\n",
       "</table>\n"
      ],
      "text/latex": [
       "A data.frame: 6 × 6\n",
       "\\begin{tabular}{r|llllll}\n",
       "  & CLASE & PLACA & MARCA & MODELO & LINEA & CILINDRAJE\\\\\n",
       "  & <fct> & <fct> & <fct> & <int> & <fct> & <int>\\\\\n",
       "\\hline\n",
       "\t1 & AMBULANCIA & OCA021 & CHEVROLET  & 1994 & DIMAX 4X4 3000                  & 5700\\\\\n",
       "\t2 & AMBULANCIA & OCA050 & FORD       & 1997 & F-150                           & 4942\\\\\n",
       "\t3 & AMBULANCIA & HWO878 & TOYOTA     & 2014 & LAND CRUISER 4000               & 4000\\\\\n",
       "\t4 & AMBULANCIA & HWT466 & NISSAN     & 2015 & URBAN 3000                      & 3000\\\\\n",
       "\t5 & AMBULANCIA & OVE404 & JAC        & 2015 & HFC5049XJHKM 2771               & 2771\\\\\n",
       "\t6 & AMBULANCIA & IGN198 & VOLKSWAGEN & 2015 & TRANSPORTER KOMBI T5 GP MT 1968 & 1968\\\\\n",
       "\\end{tabular}\n"
      ],
      "text/markdown": [
       "\n",
       "A data.frame: 6 × 6\n",
       "\n",
       "| <!--/--> | CLASE &lt;fct&gt; | PLACA &lt;fct&gt; | MARCA &lt;fct&gt; | MODELO &lt;int&gt; | LINEA &lt;fct&gt; | CILINDRAJE &lt;int&gt; |\n",
       "|---|---|---|---|---|---|---|\n",
       "| 1 | AMBULANCIA | OCA021 | CHEVROLET  | 1994 | DIMAX 4X4 3000                  | 5700 |\n",
       "| 2 | AMBULANCIA | OCA050 | FORD       | 1997 | F-150                           | 4942 |\n",
       "| 3 | AMBULANCIA | HWO878 | TOYOTA     | 2014 | LAND CRUISER 4000               | 4000 |\n",
       "| 4 | AMBULANCIA | HWT466 | NISSAN     | 2015 | URBAN 3000                      | 3000 |\n",
       "| 5 | AMBULANCIA | OVE404 | JAC        | 2015 | HFC5049XJHKM 2771               | 2771 |\n",
       "| 6 | AMBULANCIA | IGN198 | VOLKSWAGEN | 2015 | TRANSPORTER KOMBI T5 GP MT 1968 | 1968 |\n",
       "\n"
      ],
      "text/plain": [
       "  CLASE      PLACA  MARCA      MODELO LINEA                          \n",
       "1 AMBULANCIA OCA021 CHEVROLET  1994   DIMAX 4X4 3000                 \n",
       "2 AMBULANCIA OCA050 FORD       1997   F-150                          \n",
       "3 AMBULANCIA HWO878 TOYOTA     2014   LAND CRUISER 4000              \n",
       "4 AMBULANCIA HWT466 NISSAN     2015   URBAN 3000                     \n",
       "5 AMBULANCIA OVE404 JAC        2015   HFC5049XJHKM 2771              \n",
       "6 AMBULANCIA IGN198 VOLKSWAGEN 2015   TRANSPORTER KOMBI T5 GP MT 1968\n",
       "  CILINDRAJE\n",
       "1 5700      \n",
       "2 4942      \n",
       "3 4000      \n",
       "4 3000      \n",
       "5 2771      \n",
       "6 1968      "
      ]
     },
     "metadata": {},
     "output_type": "display_data"
    },
    {
     "data": {
      "text/html": [
       "<style>\n",
       ".list-inline {list-style: none; margin:0; padding: 0}\n",
       ".list-inline>li {display: inline-block}\n",
       ".list-inline>li:not(:last-child)::after {content: \"\\00b7\"; padding: 0 .5ex}\n",
       "</style>\n",
       "<ol class=list-inline><li>'CLASE'</li><li>'PLACA'</li><li>'MARCA'</li><li>'MODELO'</li><li>'LINEA'</li><li>'CILINDRAJE'</li></ol>\n"
      ],
      "text/latex": [
       "\\begin{enumerate*}\n",
       "\\item 'CLASE'\n",
       "\\item 'PLACA'\n",
       "\\item 'MARCA'\n",
       "\\item 'MODELO'\n",
       "\\item 'LINEA'\n",
       "\\item 'CILINDRAJE'\n",
       "\\end{enumerate*}\n"
      ],
      "text/markdown": [
       "1. 'CLASE'\n",
       "2. 'PLACA'\n",
       "3. 'MARCA'\n",
       "4. 'MODELO'\n",
       "5. 'LINEA'\n",
       "6. 'CILINDRAJE'\n",
       "\n",
       "\n"
      ],
      "text/plain": [
       "[1] \"CLASE\"      \"PLACA\"      \"MARCA\"      \"MODELO\"     \"LINEA\"     \n",
       "[6] \"CILINDRAJE\""
      ]
     },
     "metadata": {},
     "output_type": "display_data"
    }
   ],
   "source": [
    "vec_ris_df <- read.csv(\"https://www.datos.gov.co/api/views/x9pp-pcn5/rows.csv?accessType=DOWNLOAD\")\n",
    "\n",
    "\n"
   ]
  },
  {
   "cell_type": "code",
   "execution_count": 2,
   "metadata": {},
   "outputs": [
    {
     "ename": "ERROR",
     "evalue": "Error in head(vec_ris_df): objeto 'vec_ris_df' no encontrado\n",
     "output_type": "error",
     "traceback": [
      "Error in head(vec_ris_df): objeto 'vec_ris_df' no encontrado\nTraceback:\n",
      "1. head(vec_ris_df)"
     ]
    }
   ],
   "source": [
    "head(vec_ris_df)\n",
    "colnames(vec_ris_df)\n",
    "\n",
    "sample(xdata, sizedata)\n",
    "\n",
    "# sample https://meet.google.com/linkredirect?authuser=1&dest=https%3A%2F%2Fwww.rdocumentation.org%2Fpackages%2Fbase%2Fversions%2F3.6.2%2Ftopics%2Fsample\n",
    "# sample(xdata, sizedata)"
   ]
  }
 ],
 "metadata": {
  "kernelspec": {
   "display_name": "R",
   "language": "R",
   "name": "ir"
  },
  "language_info": {
   "codemirror_mode": "r",
   "file_extension": ".r",
   "mimetype": "text/x-r-source",
   "name": "R",
   "pygments_lexer": "r",
   "version": "3.6.3"
  }
 },
 "nbformat": 4,
 "nbformat_minor": 4
}
