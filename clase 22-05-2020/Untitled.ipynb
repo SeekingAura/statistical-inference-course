{
 "cells": [
  {
   "cell_type": "markdown",
   "metadata": {},
   "source": [
    "# Errores\n",
    "Error Tipo 1\n",
    "\n",
    "Error Tipo 2: Son aquellos erorres que den un diagnostico negativo cuando realmente era positivo\n",
    "\n",
    "Decisión correcta (1-$\\alpha$): consiste en aceptar la hipótesis nula (Ho) siendo esta verdadera. Se calcula de la forma $1-\\alpha$ ($\\alpha$ error Tipo 1), se le conoce como **Nivel de significancia**.\n",
    "\n",
    "Decisión correcta (1-$\\beta$) Consiste en rechazar la hipostesis nula (Ho) siendo esta falsa. Se calcula de la forma $1\\beta$ ($\\beta$ Error tipo 2), se le conoce como...\n",
    "\n",
    "## Calculo del valor $\\beta$ Critico\n",
    "Para encontrar el error tipo 2 requiere:\n",
    "1. Formular Hipotesis nula y alternativa\n",
    "2. Usar el nivel de significancia $\\alpha$ y el método del valor crítico para determinar el valor crítico y la regla de decision para la prueba (una cola o dos colas)\n",
    "3. Usar la regla de decisión para encontrar el valor de la media muestral que corresponde al valor crítico del estadístico de prueba\n",
    "4. w\n",
    "\n",
    "Para calcular a Beta se debe definir ese punto critico en donde la hipotesis pasa a ser un falso positivo. se calcula con\n",
    "\n",
    "### El valor critico\n",
    "$z=\\frac{\\bar{x}-\\mu _{0}}{\\sigma /\\sqrt{n}}$\n",
    "\n",
    "$\\bar{x}$ -> Limite del valor medio\n",
    "$\\mu _{0}$-> Valor medio\n",
    "$\\sigma$ -> Desviación\n",
    "$n$ -> El tamaño de la muestra\n",
    "$z$ Valor z de la tabla qe es asignado por el apha de la hipotesis\n",
    "\n",
    "$\\bar{x}=z*(\\sigma /\\sqrt{n})-\\mu_{0}$\n",
    "\n",
    "\n",
    "### Ejemplo para beta\n",
    "En una muestra de 36 baterias la vida media es de 120 horas, con una desviación de 36 horas. Se desea saber si la vida media es menor a 120 horas, el planteamiento de la hipotesis erá\n",
    "\n",
    "Prueba de una cola: $Ho: \\mu >= 120 y Ha: \\mu < 120$\n",
    "\n",
    "Si se rechaza Ho, la decisión será devolver el pedido al proveedor debido a que la media del número de horas de vida útil es menor a 120 horas. Si no rechaza Ho, la decisión será aceptar el pedido. El nivel de significancia será $\\alpha = 50\\%$\n",
    "\n",
    "### Proceso\n",
    "Sabemos que:\n",
    "* Ha se rechaza si $z <= z_{\\alpha}$\n",
    "* Ho se acepta si $z > z_{\\alpha}$\n",
    "\n",
    "Si $Z_{\\alpha}$\n",
    "\n",
    "Si despejamos la variable de la ecucación nos indicará cual es el valor minimo del valor medio necesario para rechazar la Ho\n",
    "\n",
    "\n",
    "$\\frac{x-120}{12/\\sqrt{36}}=-1.64$\n",
    "\n",
    "A\n",
    "\n",
    "$\\bar{x}<=120-1.64(\\frac{12}{\\sqrt{36}})=116.72$ -> Valor de la \"brecha\" donde la hipotesis se cumple od eja de cumplirse\n",
    "\n",
    "Se afirma que:\n",
    "* Se aceptará Ho siempre que $\\bar{x}<=116.72$\n",
    "* Se rechaza Ho y se aceptará Ha siempre que $\\bar{x}>116.72$\n",
    "\n",
    "Esta es la informaciónj necesaria para calcular el error tipo 2, el cual es la probabildiad de aceptar Ho con $\\mu >120$ es decir, cuando se tenga una media de $\\bar{x}<=116.72$\n",
    "\n",
    "Supongamos entonces media 112, la cual se encuentra en el área de aceptación de Ho, respecto a la media 116.72, de esta forma\n",
    "\n",
    "$z=\\frac{116.72-112}{12/\\sqrt{36}}=2.36$\n",
    "\n",
    "Se puede decir que <=2.36 (cola superior) es la probabilidad del error tipo 2"
   ]
  },
  {
   "cell_type": "code",
   "execution_count": 13,
   "metadata": {},
   "outputs": [
    {
     "data": {
      "text/html": [
       "0.990862532469427"
      ],
      "text/latex": [
       "0.990862532469427"
      ],
      "text/markdown": [
       "0.990862532469427"
      ],
      "text/plain": [
       "[1] 0.9908625"
      ]
     },
     "metadata": {},
     "output_type": "display_data"
    },
    {
     "data": {
      "text/html": [
       "-1.635"
      ],
      "text/latex": [
       "-1.635"
      ],
      "text/markdown": [
       "-1.635"
      ],
      "text/plain": [
       "[1] -1.635"
      ]
     },
     "metadata": {},
     "output_type": "display_data"
    },
    {
     "data": {
      "text/html": [
       "0.5"
      ],
      "text/latex": [
       "0.5"
      ],
      "text/markdown": [
       "0.5"
      ],
      "text/plain": [
       "[1] 0.5"
      ]
     },
     "metadata": {},
     "output_type": "display_data"
    },
    {
     "data": {
      "text/html": [
       "-2.5"
      ],
      "text/latex": [
       "-2.5"
      ],
      "text/markdown": [
       "-2.5"
      ],
      "text/plain": [
       "[1] -2.5"
      ]
     },
     "metadata": {},
     "output_type": "display_data"
    }
   ],
   "source": [
    "pnorm(2.36)\n",
    "\n",
    "# x_b <- 117 han encotrado en las pruebas que las baterias duran 117 horas\n",
    "\n",
    "x_b <- 116.73\n",
    "\n",
    "\n",
    "\n",
    "z <- (x_b - 120) / (12/sqrt(36));z\n",
    "# Entra un valor de z -1.5 como z es mayor a -1.63 se acepta hipotesis alternativa\n",
    "\n",
    "\n",
    "# x_b <- 121 han encotrado en las pruebas que las baterias duran 117 horas\n",
    "\n",
    "x_b <- 121\n",
    "\n",
    "\n",
    "\n",
    "z <- (x_b - 120) / (12/sqrt(36));z\n",
    "# Entra un valor de z 0.5 como z es mayor a -1.63 se acepta hipotesis alternativa\n",
    "\n",
    "\n",
    "\n",
    "####\n",
    "\n",
    "# x_b <- 121 han encotrado en las pruebas que las baterias duran 117 horas\n",
    "\n",
    "x_b <- 115\n",
    "\n",
    "\n",
    "\n",
    "z <- (x_b - 120) / (12/sqrt(36));z\n",
    "# Entra un valor de z -2.5 como z es menor a -1.63 se rechaza hipotesis nula y se acepta alternativa y devolver pedido\n",
    "\n"
   ]
  },
  {
   "cell_type": "markdown",
   "metadata": {},
   "source": [
    "### Los puntos criticos\n",
    "Puede pasar que al encontrar el punto critico se pueden encontrar probabilidades de que el valor"
   ]
  },
  {
   "cell_type": "code",
   "execution_count": 19,
   "metadata": {},
   "outputs": [
    {
     "data": {
      "text/html": [
       "2.36"
      ],
      "text/latex": [
       "2.36"
      ],
      "text/markdown": [
       "2.36"
      ],
      "text/plain": [
       "[1] 2.36"
      ]
     },
     "metadata": {},
     "output_type": "display_data"
    },
    {
     "data": {
      "text/html": [
       "0.990862532469427"
      ],
      "text/latex": [
       "0.990862532469427"
      ],
      "text/markdown": [
       "0.990862532469427"
      ],
      "text/plain": [
       "[1] 0.9908625"
      ]
     },
     "metadata": {},
     "output_type": "display_data"
    }
   ],
   "source": [
    "# Dado que el punto critico es 116.72 debo encontrar\n",
    "# la probabilidad que se de un valor a este, para el\n",
    "# lo reescribo la ecuación de z de tal forma que el\n",
    "# valor de referencia sea al punto limite\n",
    "\n",
    "mlu <- 112\n",
    "# cual es la probabilidad de que salga un valor \n",
    "# de 112 y de que rechace la prueba en la hipotesis\n",
    "# nula\n",
    "z <- (116.72-mlu)/(12/sqrt(36)); z\n",
    "beta <- pnorm(z); beta# Probabilidad acumulada, valor beta, probabildiad de NO cometer error tipo 2"
   ]
  },
  {
   "cell_type": "markdown",
   "metadata": {},
   "source": [
    "### La potencia\n",
    "La potencia de la probabilidad indica que tan lejos está de aceptar por error un valor que deberia ser aceptado la hipotesis nula"
   ]
  },
  {
   "cell_type": "code",
   "execution_count": 21,
   "metadata": {},
   "outputs": [
    {
     "data": {
      "text/html": [
       "2.36"
      ],
      "text/latex": [
       "2.36"
      ],
      "text/markdown": [
       "2.36"
      ],
      "text/plain": [
       "[1] 2.36"
      ]
     },
     "metadata": {},
     "output_type": "display_data"
    },
    {
     "data": {
      "text/html": [
       "0.990862532469427"
      ],
      "text/latex": [
       "0.990862532469427"
      ],
      "text/markdown": [
       "0.990862532469427"
      ],
      "text/plain": [
       "[1] 0.9908625"
      ]
     },
     "metadata": {},
     "output_type": "display_data"
    },
    {
     "data": {
      "text/html": [
       "0.00913746753057265"
      ],
      "text/latex": [
       "0.00913746753057265"
      ],
      "text/markdown": [
       "0.00913746753057265"
      ],
      "text/plain": [
       "[1] 0.009137468"
      ]
     },
     "metadata": {},
     "output_type": "display_data"
    }
   ],
   "source": [
    "mlu <- 112\n",
    "\n",
    "z <- (116.72-mlu)/(12/sqrt(36)); z\n",
    "beta <- pnorm(z); beta\n",
    "\n",
    "potencia <- 1-beta; potencia\n",
    "# Probabilidad de que se tome el valor 112 es la probabilidad de que se cometa error tipo 2"
   ]
  },
  {
   "cell_type": "code",
   "execution_count": 26,
   "metadata": {},
   "outputs": [
    {
     "data": {
      "text/html": [
       "<style>\n",
       ".list-inline {list-style: none; margin:0; padding: 0}\n",
       ".list-inline>li {display: inline-block}\n",
       ".list-inline>li:not(:last-child)::after {content: \"\\00b7\"; padding: 0 .5ex}\n",
       "</style>\n",
       "<ol class=list-inline><li>2.36</li><li>1.86</li><li>1.36</li><li>0.859999999999999</li><li>0.359999999999999</li><li>-0.140000000000001</li><li>-0.640000000000001</li></ol>\n"
      ],
      "text/latex": [
       "\\begin{enumerate*}\n",
       "\\item 2.36\n",
       "\\item 1.86\n",
       "\\item 1.36\n",
       "\\item 0.859999999999999\n",
       "\\item 0.359999999999999\n",
       "\\item -0.140000000000001\n",
       "\\item -0.640000000000001\n",
       "\\end{enumerate*}\n"
      ],
      "text/markdown": [
       "1. 2.36\n",
       "2. 1.86\n",
       "3. 1.36\n",
       "4. 0.859999999999999\n",
       "5. 0.359999999999999\n",
       "6. -0.140000000000001\n",
       "7. -0.640000000000001\n",
       "\n",
       "\n"
      ],
      "text/plain": [
       "[1]  2.36  1.86  1.36  0.86  0.36 -0.14 -0.64"
      ]
     },
     "metadata": {},
     "output_type": "display_data"
    },
    {
     "data": {
      "text/html": [
       "<style>\n",
       ".list-inline {list-style: none; margin:0; padding: 0}\n",
       ".list-inline>li {display: inline-block}\n",
       ".list-inline>li:not(:last-child)::after {content: \"\\00b7\"; padding: 0 .5ex}\n",
       "</style>\n",
       "<ol class=list-inline><li>0.990862532469427</li><li>0.968557237019247</li><li>0.913085038052915</li><li>0.805105478748191</li><li>0.640576433217991</li><li>0.444329995194093</li><li>0.261086299692861</li></ol>\n"
      ],
      "text/latex": [
       "\\begin{enumerate*}\n",
       "\\item 0.990862532469427\n",
       "\\item 0.968557237019247\n",
       "\\item 0.913085038052915\n",
       "\\item 0.805105478748191\n",
       "\\item 0.640576433217991\n",
       "\\item 0.444329995194093\n",
       "\\item 0.261086299692861\n",
       "\\end{enumerate*}\n"
      ],
      "text/markdown": [
       "1. 0.990862532469427\n",
       "2. 0.968557237019247\n",
       "3. 0.913085038052915\n",
       "4. 0.805105478748191\n",
       "5. 0.640576433217991\n",
       "6. 0.444329995194093\n",
       "7. 0.261086299692861\n",
       "\n",
       "\n"
      ],
      "text/plain": [
       "[1] 0.9908625 0.9685572 0.9130850 0.8051055 0.6405764 0.4443300 0.2610863"
      ]
     },
     "metadata": {},
     "output_type": "display_data"
    },
    {
     "data": {
      "image/png": "[encoded data removed]",
      "text/plain": [
       "Plot with title \"Probabilidad de NO cometer un error tipo 2\""
      ]
     },
     "metadata": {
      "image/png": {
       "height": 420,
       "width": 420
      },
      "text/plain": {
       "height": 420,
       "width": 420
      }
     },
     "output_type": "display_data"
    }
   ],
   "source": [
    "medias <- c(112, 113, 114, 115, 116, 117, 118)\n",
    "# 116.72 es el valor de la brecha\n",
    "z_medias <- (116.72 - medias)/(12/sqrt(36)); z_medias\n",
    "\n",
    "prob_betas <- pnorm(z_medias); prob_betaspot_beta <- 1-prob_betas; prob_betas\n",
    "\n",
    "plot(medias, prob_betas, main=\"Probabilidad de NO cometer un error tipo 2\", type=\"o\")"
   ]
  },
  {
   "cell_type": "markdown",
   "metadata": {},
   "source": [
    "Es decir la potencia de la prueba con valor Beta indica la probabilidad de NO cometer un error tipo 2\n",
    "### Un ejemplo anterior\n",
    "En una empresa dedicada a las ventas uan trabajadora gana en promedio 670$ al mes, ganarán mas os hombres que ocupan la misma posición?\n",
    "\n",
    "Una muestra de 40 hombres en la misma posición arroja un proemdiod e 725 con una desviación estándar de 102$, pruebela hpotesis apropiada usando $\\alpha=0.01$\n",
    "\n",
    "Hopotesis nula H_{0} el promedio es igual para ambos\n",
    "\n",
    "Hipotesis alternativa $H_{a}$ en promedio gana mas los hombrers\n",
    "\n",
    "\n",
    "\n",
    "\n",
    "\n",
    "\n",
    "\n"
   ]
  },
  {
   "cell_type": "code",
   "execution_count": 29,
   "metadata": {},
   "outputs": [
    {
     "data": {
      "text/html": [
       "-1.64485362695147"
      ],
      "text/latex": [
       "-1.64485362695147"
      ],
      "text/markdown": [
       "-1.64485362695147"
      ],
      "text/plain": [
       "[1] -1.644854"
      ]
     },
     "metadata": {},
     "output_type": "display_data"
    },
    {
     "data": {
      "text/html": [
       "698.550709650352"
      ],
      "text/latex": [
       "698.550709650352"
      ],
      "text/markdown": [
       "698.550709650352"
      ],
      "text/plain": [
       "[1] 698.5507"
      ]
     },
     "metadata": {},
     "output_type": "display_data"
    },
    {
     "data": {
      "text/html": [
       "670"
      ],
      "text/latex": [
       "670"
      ],
      "text/markdown": [
       "670"
      ],
      "text/plain": [
       "[1] 670"
      ]
     },
     "metadata": {},
     "output_type": "display_data"
    },
    {
     "data": {
      "text/html": [
       "1.77029943743649"
      ],
      "text/latex": [
       "1.77029943743649"
      ],
      "text/markdown": [
       "1.77029943743649"
      ],
      "text/plain": [
       "[1] 1.770299"
      ]
     },
     "metadata": {},
     "output_type": "display_data"
    },
    {
     "data": {
      "text/html": [
       "0.961661364126589"
      ],
      "text/latex": [
       "0.961661364126589"
      ],
      "text/markdown": [
       "0.961661364126589"
      ],
      "text/plain": [
       "[1] 0.9616614"
      ]
     },
     "metadata": {},
     "output_type": "display_data"
    }
   ],
   "source": [
    "# Ha Mujeres ganan menos que los hombres mlu<725\n",
    "# Ho mujeres ganan igual o mas que los hombres mlu_m >= 725\n",
    "\n",
    "Za <- qnorm(0.05); Za\n",
    "n<-40\n",
    "desv<-102\n",
    "x_b<-725 + (-1.64)*(102/sqrt(40));x_b\n",
    "\n",
    "miu_m <- 670; miu_m\n",
    "z <- (x_b - miu_m) / (desv / sqrt(n)); z\n",
    "\n",
    "beta<-pnorm(z);beta"
   ]
  },
  {
   "cell_type": "markdown",
   "metadata": {},
   "source": [
    "# Error de dos colas\n",
    "\n",
    "Si se trata de una prueba de dos colas"
   ]
  }
 ],
 "metadata": {
  "kernelspec": {
   "display_name": "R",
   "language": "R",
   "name": "ir"
  },
  "language_info": {
   "codemirror_mode": "r",
   "file_extension": ".r",
   "mimetype": "text/x-r-source",
   "name": "R",
   "pygments_lexer": "r",
   "version": "3.6.3"
  }
 },
 "nbformat": 4,
 "nbformat_minor": 4
}
