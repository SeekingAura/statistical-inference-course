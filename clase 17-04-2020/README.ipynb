{
 "cells": [
  {
   "cell_type": "markdown",
   "metadata": {},
   "source": [
    "# Teorema del limite central\n",
    "Se puede usar una distribución en donde describe el comportamiento de los datos a razón de una muestra.\n",
    "\n",
    "Esto se ha visto en una clase anterior.\n",
    "\n",
    "# Distribución muestral de la proporción muestral\n",
    "Si una muestra aleatoria de n observaciones se selecciona de una población binomial con parametro p, entonces la distribución muestral de la proporción muestral es:\n",
    "\n",
    "$p=\\frac{x}{n}$\n",
    "\n",
    "* p casos de exito,\n",
    "* q casos de fracaso\n",
    "* n numero de observaciones en la muestra\n",
    "\n",
    "Con media p y desviación estandar\n",
    "\n",
    "$SE$\n",
    "\n",
    "## Calculo de probabildiades para la proporción muestral\n",
    "1. Encontrar valores n y p\n",
    "2. Verificar si la aproximaciación normal a la disribución binomial es apropiada (np>5 y nq>5)\n",
    "3. encontrar el evento de interes **p** en terminos de **p** y localizar el area apropiada en la curva normal\n",
    "4. Normalizar los valores de p en z\n",
    "$z=\\frac{\\hat{p}-p}{\\sqrt{\\frac{pq}{n}}}$\n",
    "5. Hallar la probabildiad normal\n",
    "\n",
    "### Ejemplo\n",
    "En una muestra aleatioria de tamaño n=36 de una distribución binomial conmedia p=0.4, hallar la probabildiad que la proporción muestral exceda en 0.5"
   ]
  },
  {
   "cell_type": "code",
   "execution_count": 4,
   "metadata": {},
   "outputs": [
    {
     "data": {
      "text/html": [
       "'Define values'"
      ],
      "text/latex": [
       "'Define values'"
      ],
      "text/markdown": [
       "'Define values'"
      ],
      "text/plain": [
       "[1] \"Define values\""
      ]
     },
     "metadata": {},
     "output_type": "display_data"
    },
    {
     "data": {
      "text/html": [
       "36"
      ],
      "text/latex": [
       "36"
      ],
      "text/markdown": [
       "36"
      ],
      "text/plain": [
       "[1] 36"
      ]
     },
     "metadata": {},
     "output_type": "display_data"
    },
    {
     "data": {
      "text/html": [
       "0.4"
      ],
      "text/latex": [
       "0.4"
      ],
      "text/markdown": [
       "0.4"
      ],
      "text/plain": [
       "[1] 0.4"
      ]
     },
     "metadata": {},
     "output_type": "display_data"
    },
    {
     "data": {
      "text/html": [
       "0.5"
      ],
      "text/latex": [
       "0.5"
      ],
      "text/markdown": [
       "0.5"
      ],
      "text/plain": [
       "[1] 0.5"
      ]
     },
     "metadata": {},
     "output_type": "display_data"
    },
    {
     "data": {
      "text/html": [
       "'calculate den'"
      ],
      "text/latex": [
       "'calculate den'"
      ],
      "text/markdown": [
       "'calculate den'"
      ],
      "text/plain": [
       "[1] \"calculate den\""
      ]
     },
     "metadata": {},
     "output_type": "display_data"
    },
    {
     "data": {
      "text/html": [
       "0.0816496580927726"
      ],
      "text/latex": [
       "0.0816496580927726"
      ],
      "text/markdown": [
       "0.0816496580927726"
      ],
      "text/plain": [
       "[1] 0.08164966"
      ]
     },
     "metadata": {},
     "output_type": "display_data"
    },
    {
     "data": {
      "text/html": [
       "'calculate z'"
      ],
      "text/latex": [
       "'calculate z'"
      ],
      "text/markdown": [
       "'calculate z'"
      ],
      "text/plain": [
       "[1] \"calculate z\""
      ]
     },
     "metadata": {},
     "output_type": "display_data"
    },
    {
     "data": {
      "text/html": [
       "1.22474487139159"
      ],
      "text/latex": [
       "1.22474487139159"
      ],
      "text/markdown": [
       "1.22474487139159"
      ],
      "text/plain": [
       "[1] 1.224745"
      ]
     },
     "metadata": {},
     "output_type": "display_data"
    },
    {
     "data": {
      "text/html": [
       "'Get value z normalized'"
      ],
      "text/latex": [
       "'Get value z normalized'"
      ],
      "text/markdown": [
       "'Get value z normalized'"
      ],
      "text/plain": [
       "[1] \"Get value z normalized\""
      ]
     },
     "metadata": {},
     "output_type": "display_data"
    },
    {
     "data": {
      "text/html": [
       "0.889664319040077"
      ],
      "text/latex": [
       "0.889664319040077"
      ],
      "text/markdown": [
       "0.889664319040077"
      ],
      "text/plain": [
       "[1] 0.8896643"
      ]
     },
     "metadata": {},
     "output_type": "display_data"
    },
    {
     "data": {
      "text/html": [
       "'get prob to found a proportion high than 0.5 with p=0.4'"
      ],
      "text/latex": [
       "'get prob to found a proportion high than 0.5 with p=0.4'"
      ],
      "text/markdown": [
       "'get prob to found a proportion high than 0.5 with p=0.4'"
      ],
      "text/plain": [
       "[1] \"get prob to found a proportion high than 0.5 with p=0.4\""
      ]
     },
     "metadata": {},
     "output_type": "display_data"
    },
    {
     "data": {
      "text/html": [
       "0.110335680959923"
      ],
      "text/latex": [
       "0.110335680959923"
      ],
      "text/markdown": [
       "0.110335680959923"
      ],
      "text/plain": [
       "[1] 0.1103357"
      ]
     },
     "metadata": {},
     "output_type": "display_data"
    }
   ],
   "source": [
    "# Media y standart desviation\n",
    "sprintf(\"Define values\")\n",
    "# Quantity of values\n",
    "n<-36;n\n",
    "\n",
    "# Sample with more 30 is a good sample\n",
    "\n",
    "# Probability to happend an event that alredy know\n",
    "p<-0.4;p\n",
    "\n",
    "# Quantity to happend an event hipotetically \n",
    "# to have 50% or more\n",
    "p_bar<-0.5;p_bar\n",
    "\n",
    "sprintf(\"calculate den\")\n",
    "#\n",
    "q<-1-p\n",
    "# Estandar desviation\n",
    "stan_desv <- sqrt((p*q)/n);stan_desv\n",
    "\n",
    "sprintf(\"calculate z\")\n",
    "z<-(p_bar-p)/stan_desv;z\n",
    "\n",
    "sprintf(\"Get value z normalized\")\n",
    "pnorm(z)\n",
    "\n",
    "\n",
    "# Probabildiad de enocntrar una proporción mayor a 0.5 en una muestra\n",
    "sprintf(\"get prob to found a proportion high than 0.5 with p=0.4\")\n",
    "1-pnorm(z)\n"
   ]
  },
  {
   "cell_type": "markdown",
   "metadata": {},
   "source": [
    "Inferencia significa que uno puede hacer suposiciones sobre una muestra para la población\n",
    "\n",
    "# ¿Qué es estimar?\n",
    "* El proceso de estimación permite calcular alguna estadistica que se ofrece como la proximación del parametro de la población a partir de unos pocos datos extraidos de la muestra\n",
    "* Un parametro es una medida númerica descriptiva que caracteriza a una población\n",
    "\n",
    "## Métodos de inferencia\n",
    "Los métodos para hacer inferencia acerca de los parametros poblacionales\n",
    "\n",
    "### Estimación puntual\n",
    "\n",
    "#### Caracteristicas\n",
    "* La distribución muestral del estimador puntual debe estar centrada sobre el verdadadero valor del parametro a ser estimado\n",
    "* La media de la varianza debe ser pequeña\n",
    "\n",
    "Se dice que un estimador de un parametro es **insesgado** si la media de su si la media de su distribución es igual al verdadero valor del parametro\n",
    "\n",
    "\n",
    "sesgado es cuando no da exactamente el de la población\n",
    "\n",
    "Insesgado es cuando es igual al de la pbolación\n",
    "\n",
    "\n",
    "* Para estimar la media poblacional $\\mu$ en una población cuantitiva el estimador puntual x es insegado con el error estandar estimado como\n",
    "\n",
    "$SE=\\frac{s}{\\sqrt{n}}$\n",
    "\n",
    "* EL 95% de margen de error cuando n>=30 se estima como \n",
    "\n",
    "$\\pm 1.96(\\frac{s}{\\sqrt{n}})$\n",
    "\n",
    "supones que $np>5$ y $nq>5$\n",
    "\n",
    "### Ejemplo\n",
    "\n",
    "Una muesra aleatoria de 50 osos polares en el Artico produjo un peso promedio de 445kg con una desviación estandar de 47.63kg. Estimar el peso promedio de todos los osos polares del Artico.\n",
    "\n",
    "\n",
    "$1.96SE=1.96\\frac{s}{\\sqrt{n}}$\n",
    "\n",
    "Se puede decir que la estimación muestra de 445 kg esta a no mas de $\\pm 13.02$kg de la media poblacional"
   ]
  },
  {
   "cell_type": "code",
   "execution_count": 7,
   "metadata": {},
   "outputs": [
    {
     "data": {
      "text/html": [
       "6.73589919758305"
      ],
      "text/latex": [
       "6.73589919758305"
      ],
      "text/markdown": [
       "6.73589919758305"
      ],
      "text/plain": [
       "[1] 6.735899"
      ]
     },
     "metadata": {},
     "output_type": "display_data"
    },
    {
     "data": {
      "text/html": [
       "'Calculate desviation'"
      ],
      "text/latex": [
       "'Calculate desviation'"
      ],
      "text/markdown": [
       "'Calculate desviation'"
      ],
      "text/plain": [
       "[1] \"Calculate desviation\""
      ]
     },
     "metadata": {},
     "output_type": "display_data"
    },
    {
     "data": {
      "text/html": [
       "13.2023624272628"
      ],
      "text/latex": [
       "13.2023624272628"
      ],
      "text/markdown": [
       "13.2023624272628"
      ],
      "text/plain": [
       "[1] 13.20236"
      ]
     },
     "metadata": {},
     "output_type": "display_data"
    },
    {
     "data": {
      "text/html": [
       "'Calculate estimation'"
      ],
      "text/latex": [
       "'Calculate estimation'"
      ],
      "text/markdown": [
       "'Calculate estimation'"
      ],
      "text/plain": [
       "[1] \"Calculate estimation\""
      ]
     },
     "metadata": {},
     "output_type": "display_data"
    },
    {
     "data": {
      "text/html": [
       "445"
      ],
      "text/latex": [
       "445"
      ],
      "text/markdown": [
       "445"
      ],
      "text/plain": [
       "[1] 445"
      ]
     },
     "metadata": {},
     "output_type": "display_data"
    },
    {
     "data": {
      "text/html": [
       "'estimation results'"
      ],
      "text/latex": [
       "'estimation results'"
      ],
      "text/markdown": [
       "'estimation results'"
      ],
      "text/plain": [
       "[1] \"estimation results\""
      ]
     },
     "metadata": {},
     "output_type": "display_data"
    },
    {
     "data": {
      "text/html": [
       "458.202362427263"
      ],
      "text/latex": [
       "458.202362427263"
      ],
      "text/markdown": [
       "458.202362427263"
      ],
      "text/plain": [
       "[1] 458.2024"
      ]
     },
     "metadata": {},
     "output_type": "display_data"
    },
    {
     "data": {
      "text/html": [
       "431.797637572737"
      ],
      "text/latex": [
       "431.797637572737"
      ],
      "text/markdown": [
       "431.797637572737"
      ],
      "text/plain": [
       "[1] 431.7976"
      ]
     },
     "metadata": {},
     "output_type": "display_data"
    }
   ],
   "source": [
    "# Ejercicio oso polar\n",
    "no <-50\n",
    "\n",
    "# standar desv\n",
    "seo <- 47.63\n",
    "\n",
    "valor <- seo/sqrt(no);valor\n",
    "\n",
    "sprintf(\"Calculate desviation\")\n",
    "desv_p <-1.96*valor; desv_p\n",
    "\n",
    "sprintf(\"Calculate estimation\")\n",
    "media_po <-445; media_po\n",
    "\n",
    "sprintf(\"estimation results\")\n",
    "media_po+desv_p\n",
    "media_po-desv_p"
   ]
  },
  {
   "cell_type": "markdown",
   "metadata": {},
   "source": [
    "#### Ejemplo 2\n",
    "En una muestra aleatoria de 100 adultos el 73% de la muestra indicaron que han leido u oido que el calentamiento global es \n",
    "\n",
    "Se puede asegurar que la estimación del 0.73"
   ]
  },
  {
   "cell_type": "code",
   "execution_count": 8,
   "metadata": {},
   "outputs": [
    {
     "data": {
      "text/html": [
       "100"
      ],
      "text/latex": [
       "100"
      ],
      "text/markdown": [
       "100"
      ],
      "text/plain": [
       "[1] 100"
      ]
     },
     "metadata": {},
     "output_type": "display_data"
    },
    {
     "data": {
      "text/html": [
       "0.73"
      ],
      "text/latex": [
       "0.73"
      ],
      "text/markdown": [
       "0.73"
      ],
      "text/plain": [
       "[1] 0.73"
      ]
     },
     "metadata": {},
     "output_type": "display_data"
    },
    {
     "data": {
      "text/html": [
       "0.27"
      ],
      "text/latex": [
       "0.27"
      ],
      "text/markdown": [
       "0.27"
      ],
      "text/plain": [
       "[1] 0.27"
      ]
     },
     "metadata": {},
     "output_type": "display_data"
    },
    {
     "data": {
      "text/html": [
       "0.0443959457608462"
      ],
      "text/latex": [
       "0.0443959457608462"
      ],
      "text/markdown": [
       "0.0443959457608462"
      ],
      "text/plain": [
       "[1] 0.04439595"
      ]
     },
     "metadata": {},
     "output_type": "display_data"
    },
    {
     "data": {
      "text/html": [
       "'Error value'"
      ],
      "text/latex": [
       "'Error value'"
      ],
      "text/markdown": [
       "'Error value'"
      ],
      "text/plain": [
       "[1] \"Error value\""
      ]
     },
     "metadata": {},
     "output_type": "display_data"
    },
    {
     "data": {
      "text/html": [
       "0.0870160536912586"
      ],
      "text/latex": [
       "0.0870160536912586"
      ],
      "text/markdown": [
       "0.0870160536912586"
      ],
      "text/plain": [
       "[1] 0.08701605"
      ]
     },
     "metadata": {},
     "output_type": "display_data"
    },
    {
     "data": {
      "text/html": [
       "'Range of people knwo about topic'"
      ],
      "text/latex": [
       "'Range of people knwo about topic'"
      ],
      "text/markdown": [
       "'Range of people knwo about topic'"
      ],
      "text/plain": [
       "[1] \"Range of people knwo about topic\""
      ]
     },
     "metadata": {},
     "output_type": "display_data"
    },
    {
     "data": {
      "text/html": [
       "0.642983946308741"
      ],
      "text/latex": [
       "0.642983946308741"
      ],
      "text/markdown": [
       "0.642983946308741"
      ],
      "text/plain": [
       "[1] 0.6429839"
      ]
     },
     "metadata": {},
     "output_type": "display_data"
    },
    {
     "data": {
      "text/html": [
       "0.817016053691259"
      ],
      "text/latex": [
       "0.817016053691259"
      ],
      "text/markdown": [
       "0.817016053691259"
      ],
      "text/plain": [
       "[1] 0.8170161"
      ]
     },
     "metadata": {},
     "output_type": "display_data"
    }
   ],
   "source": [
    "# Ejercicio de encuestas\n",
    "\n",
    "nen <- 100; nen\n",
    "p <- 0.73; p\n",
    "q <- 1-p; q\n",
    "\n",
    "# valor encuestado\n",
    "valor_en <- sqrt((p*q)/nen);valor_en\n",
    "\n",
    "# Calcular cual es el mayen de error para ese 73%\n",
    "# Si se encuesta la población, encontraria \n",
    "# una respuesta entre\n",
    "sprintf(\"Error value\")\n",
    "mar_pob <- 1.96*valor_en;mar_pob\n",
    "\n",
    "# Si se encuestará a toda la población\n",
    "# En el 95% de las personas estarán en \n",
    "# el rango de las personas\n",
    "sprintf(\"Range of people knwo about topic\")\n",
    "p- mar_pob\n",
    "p+mar_pob\n",
    "\n"
   ]
  },
  {
   "cell_type": "markdown",
   "metadata": {},
   "source": [
    "# Estimación dle intervalo\n",
    "* El **estimador de intervalo** es una regla para encontrar un coeficiente de confianza\n",
    "\n",
    "* Una estimación de intervalo de confianza peude expresarse como $x\\pm \\sigma$ siempre y cuando\n",
    "\n",
    "* El area entre las dos colas de\n",
    "\n",
    "## Intervalo de confianza\n",
    "Para una muestra grande\n",
    "\n",
    "$\\bar{x} \\pm z_{\\alpha / 2}$\n",
    "\n",
    "## Ejemplo\n",
    "\n",
    "En una muestra de 50 hombres adultos se encintró que el promedio de ingesta de productos lácteos fue de 756 gramos por dia con una desviación estandar de 35 gramos por dia. Encontrar el intervalo de confianza \n",
    "\n",
    "$\\bar{x} \\pm 1.96 (\\frac{s}{\\sqrt{n}})$\n",
    "\n",
    "\n",
    "Dado que en la tabla de distribución normal es posible hallar la equivalencia del 95% de los valores cualquiera"
   ]
  },
  {
   "cell_type": "code",
   "execution_count": 12,
   "metadata": {},
   "outputs": [
    {
     "data": {
      "text/html": [
       "50"
      ],
      "text/latex": [
       "50"
      ],
      "text/markdown": [
       "50"
      ],
      "text/plain": [
       "[1] 50"
      ]
     },
     "metadata": {},
     "output_type": "display_data"
    },
    {
     "data": {
      "text/html": [
       "756"
      ],
      "text/latex": [
       "756"
      ],
      "text/markdown": [
       "756"
      ],
      "text/plain": [
       "[1] 756"
      ]
     },
     "metadata": {},
     "output_type": "display_data"
    },
    {
     "data": {
      "text/html": [
       "35"
      ],
      "text/latex": [
       "35"
      ],
      "text/markdown": [
       "35"
      ],
      "text/plain": [
       "[1] 35"
      ]
     },
     "metadata": {},
     "output_type": "display_data"
    },
    {
     "data": {
      "text/html": [
       "9.70150503787943"
      ],
      "text/latex": [
       "9.70150503787943"
      ],
      "text/markdown": [
       "9.70150503787943"
      ],
      "text/plain": [
       "[1] 9.701505"
      ]
     },
     "metadata": {},
     "output_type": "display_data"
    },
    {
     "data": {
      "text/html": [
       "746.298494962121"
      ],
      "text/latex": [
       "746.298494962121"
      ],
      "text/markdown": [
       "746.298494962121"
      ],
      "text/plain": [
       "[1] 746.2985"
      ]
     },
     "metadata": {},
     "output_type": "display_data"
    },
    {
     "data": {
      "text/html": [
       "765.701505037879"
      ],
      "text/latex": [
       "765.701505037879"
      ],
      "text/markdown": [
       "765.701505037879"
      ],
      "text/plain": [
       "[1] 765.7015"
      ]
     },
     "metadata": {},
     "output_type": "display_data"
    }
   ],
   "source": [
    "# Estimar el intervalo de confianza\n",
    "n_h <-50;n_h\n",
    "x_h <- 756; x_h\n",
    "s_h  <-35; s_h\n",
    "#Se desea encontrar el proemdio \n",
    "# intervalo de consumo con 95% de confianza\n",
    "# Es decir el valor \"central\" del 95% de la campana\n",
    "\n",
    "# 1.96\n",
    "val_int<-1.96*(s_h/sqrt(n_h));val_int\n",
    "\n",
    "\n",
    "# Limite inferior\n",
    "linf <- x_h - val_int; linf\n",
    "lsup <- x_h + val_int; lsup\n",
    "# 95% de probabildiad de que el promedio\n",
    "# de la población se encuentre en el rango resultante"
   ]
  },
  {
   "cell_type": "markdown",
   "metadata": {},
   "source": [
    "### Ejemplo 2\n",
    "Si se desea cambiar el itnervalo de confianza a 99% (0.99)"
   ]
  },
  {
   "cell_type": "code",
   "execution_count": 24,
   "metadata": {},
   "outputs": [
    {
     "data": {
      "text/html": [
       "0.01"
      ],
      "text/latex": [
       "0.01"
      ],
      "text/markdown": [
       "0.01"
      ],
      "text/plain": [
       "[1] 0.01"
      ]
     },
     "metadata": {},
     "output_type": "display_data"
    },
    {
     "data": {
      "text/html": [
       "0.005"
      ],
      "text/latex": [
       "0.005"
      ],
      "text/markdown": [
       "0.005"
      ],
      "text/plain": [
       "[1] 0.005"
      ]
     },
     "metadata": {},
     "output_type": "display_data"
    },
    {
     "data": {
      "text/html": [
       "50"
      ],
      "text/latex": [
       "50"
      ],
      "text/markdown": [
       "50"
      ],
      "text/plain": [
       "[1] 50"
      ]
     },
     "metadata": {},
     "output_type": "display_data"
    },
    {
     "data": {
      "text/html": [
       "756"
      ],
      "text/latex": [
       "756"
      ],
      "text/markdown": [
       "756"
      ],
      "text/plain": [
       "[1] 756"
      ]
     },
     "metadata": {},
     "output_type": "display_data"
    },
    {
     "data": {
      "text/html": [
       "35"
      ],
      "text/latex": [
       "35"
      ],
      "text/markdown": [
       "35"
      ],
      "text/plain": [
       "[1] 35"
      ]
     },
     "metadata": {},
     "output_type": "display_data"
    },
    {
     "data": {
      "text/html": [
       "12.7497045740291"
      ],
      "text/latex": [
       "12.7497045740291"
      ],
      "text/markdown": [
       "12.7497045740291"
      ],
      "text/plain": [
       "[1] 12.7497"
      ]
     },
     "metadata": {},
     "output_type": "display_data"
    },
    {
     "data": {
      "text/html": [
       "743.250295425971"
      ],
      "text/latex": [
       "743.250295425971"
      ],
      "text/markdown": [
       "743.250295425971"
      ],
      "text/plain": [
       "[1] 743.2503"
      ]
     },
     "metadata": {},
     "output_type": "display_data"
    },
    {
     "data": {
      "text/html": [
       "768.749704574029"
      ],
      "text/latex": [
       "768.749704574029"
      ],
      "text/markdown": [
       "768.749704574029"
      ],
      "text/plain": [
       "[1] 768.7497"
      ]
     },
     "metadata": {},
     "output_type": "display_data"
    },
    {
     "data": {
      "text/html": [
       "0.83521987001969"
      ],
      "text/latex": [
       "0.83521987001969"
      ],
      "text/markdown": [
       "0.83521987001969"
      ],
      "text/plain": [
       "[1] 0.8352199"
      ]
     },
     "metadata": {},
     "output_type": "display_data"
    }
   ],
   "source": [
    "# Ampliar el intervalo de confianza a 99%\n",
    "alpha <- 1-0.99;alpha\n",
    "# Alpha divided in two\n",
    "alpha_2 <- alpha/2;alpha_2\n",
    "\n",
    "# Get z value\n",
    "z<-abs(qnorm(alpha_2));\n",
    "\n",
    "n_h <-50;n_h\n",
    "x_h <- 756; x_h\n",
    "s_h  <-35; s_h\n",
    "\n",
    "# Apply z value\n",
    "val_int <- z*(s_h/sqrt(n_h));val_int\n",
    "\n",
    "# Con 99% de confianza el intervalo del \n",
    "# promedio de consumo estará entre\n",
    "linf<- x_h - val_int;linf\n",
    "lsup <- x_h +val_int;lsup\n",
    "pnorm(0.975)"
   ]
  },
  {
   "cell_type": "markdown",
   "metadata": {},
   "source": [
    "# Ejemplo de muestras aleatorias\n",
    "\n",
    "En una muestra aelatoria de 985 probables electores fueroin encuestados, de elklkos 592 tenian la intención de votar pro el candidato A, encontrar el 90% para el canditado A"
   ]
  },
  {
   "cell_type": "code",
   "execution_count": 34,
   "metadata": {},
   "outputs": [
    {
     "data": {
      "text/html": [
       "985"
      ],
      "text/latex": [
       "985"
      ],
      "text/markdown": [
       "985"
      ],
      "text/plain": [
       "[1] 985"
      ]
     },
     "metadata": {},
     "output_type": "display_data"
    },
    {
     "data": {
      "text/html": [
       "592"
      ],
      "text/latex": [
       "592"
      ],
      "text/markdown": [
       "592"
      ],
      "text/plain": [
       "[1] 592"
      ]
     },
     "metadata": {},
     "output_type": "display_data"
    },
    {
     "data": {
      "text/html": [
       "0.601015228426396"
      ],
      "text/latex": [
       "0.601015228426396"
      ],
      "text/markdown": [
       "0.601015228426396"
      ],
      "text/plain": [
       "[1] 0.6010152"
      ]
     },
     "metadata": {},
     "output_type": "display_data"
    },
    {
     "data": {
      "text/html": [
       "'standart desviation'"
      ],
      "text/latex": [
       "'standart desviation'"
      ],
      "text/markdown": [
       "'standart desviation'"
      ],
      "text/plain": [
       "[1] \"standart desviation\""
      ]
     },
     "metadata": {},
     "output_type": "display_data"
    },
    {
     "data": {
      "text/html": [
       "0.0156028086637934"
      ],
      "text/latex": [
       "0.0156028086637934"
      ],
      "text/markdown": [
       "0.0156028086637934"
      ],
      "text/plain": [
       "[1] 0.01560281"
      ]
     },
     "metadata": {},
     "output_type": "display_data"
    },
    {
     "data": {
      "text/html": [
       "0.1"
      ],
      "text/latex": [
       "0.1"
      ],
      "text/markdown": [
       "0.1"
      ],
      "text/plain": [
       "[1] 0.1"
      ]
     },
     "metadata": {},
     "output_type": "display_data"
    },
    {
     "data": {
      "text/html": [
       "0.05"
      ],
      "text/latex": [
       "0.05"
      ],
      "text/markdown": [
       "0.05"
      ],
      "text/plain": [
       "[1] 0.05"
      ]
     },
     "metadata": {},
     "output_type": "display_data"
    },
    {
     "data": {
      "text/html": [
       "'z value for 90%'"
      ],
      "text/latex": [
       "'z value for 90\\%'"
      ],
      "text/markdown": [
       "'z value for 90%'"
      ],
      "text/plain": [
       "[1] \"z value for 90%\""
      ]
     },
     "metadata": {},
     "output_type": "display_data"
    },
    {
     "data": {
      "text/html": [
       "-1.64485362695147"
      ],
      "text/latex": [
       "-1.64485362695147"
      ],
      "text/markdown": [
       "-1.64485362695147"
      ],
      "text/plain": [
       "[1] -1.644854"
      ]
     },
     "metadata": {},
     "output_type": "display_data"
    },
    {
     "data": {
      "text/html": [
       "'interval'"
      ],
      "text/latex": [
       "'interval'"
      ],
      "text/markdown": [
       "'interval'"
      ],
      "text/plain": [
       "[1] \"interval\""
      ]
     },
     "metadata": {},
     "output_type": "display_data"
    },
    {
     "data": {
      "text/html": [
       "-0.0256643364212705"
      ],
      "text/latex": [
       "-0.0256643364212705"
      ],
      "text/markdown": [
       "-0.0256643364212705"
      ],
      "text/plain": [
       "[1] -0.02566434"
      ]
     },
     "metadata": {},
     "output_type": "display_data"
    },
    {
     "data": {
      "text/html": [
       "-0.0256643364212705"
      ],
      "text/latex": [
       "-0.0256643364212705"
      ],
      "text/markdown": [
       "-0.0256643364212705"
      ],
      "text/plain": [
       "[1] -0.02566434"
      ]
     },
     "metadata": {},
     "output_type": "display_data"
    },
    {
     "data": {
      "text/html": [
       "0.626679564847667"
      ],
      "text/latex": [
       "0.626679564847667"
      ],
      "text/markdown": [
       "0.626679564847667"
      ],
      "text/plain": [
       "[1] 0.6266796"
      ]
     },
     "metadata": {},
     "output_type": "display_data"
    },
    {
     "data": {
      "text/html": [
       "0.575350892005125"
      ],
      "text/latex": [
       "0.575350892005125"
      ],
      "text/markdown": [
       "0.575350892005125"
      ],
      "text/plain": [
       "[1] 0.5753509"
      ]
     },
     "metadata": {},
     "output_type": "display_data"
    }
   ],
   "source": [
    "# Analisis de cuenta\n",
    "en_n <- 985; en_n\n",
    "af_a <- 592; af_a\n",
    "p <- af_a / en_n; p\n",
    "q <- 1-p\n",
    "\n",
    "sprintf(\"standart desviation\")\n",
    "desv_af <- sqrt((p*q)/en_n);desv_af\n",
    "\n",
    "# Calculate for probability percentage\n",
    "alpha_en <-1-0.90;alpha_en\n",
    "alpha_en2 <- alpha_en/2;alpha_en2\n",
    "\n",
    "sprintf(\"z value for 90%%\")\n",
    "z_en <-qnorm(alpha_en2);z_en\n",
    "\n",
    "sprintf(\"interval\")\n",
    "val_inten <- z_en*desv_af;val_inten;val_inten\n",
    "\n",
    "linf_en <- p - val_inten;linf_en\n",
    "lsup_en <- p + val_inten;lsup_en\n"
   ]
  },
  {
   "cell_type": "markdown",
   "metadata": {},
   "source": [
    "# Diferencias entre dos medias poblacionales\n",
    "A veces se reuqeire la estimación de una media poblacional producto de la comparación entre dos medias poblacionales\n",
    "\n",
    "Para ello se suman\n",
    "\n",
    "## Ejemplo\n",
    "Se desea saber si hay diferencia de consumo ente hombres y muejre spara dos muestras de 50 individuos hombres y 50 mujeres.\n",
    "\n",
    "Esto sirve para comparar poblaciones peuden ser iguales o diferentes para obtener diferencias. Se puede aplicar ocn itnervalos de confianza que tan diferentes son una de la otra, pero ojo siempre dbeen ser de los mismos datos.\n",
    "\n",
    "# Selección del tamaño de la muestra\n",
    "Dado a que la estimación por intervalos nos arroja valores "
   ]
  }
 ],
 "metadata": {
  "kernelspec": {
   "display_name": "R",
   "language": "R",
   "name": "ir"
  },
  "language_info": {
   "codemirror_mode": "r",
   "file_extension": ".r",
   "mimetype": "text/x-r-source",
   "name": "R",
   "pygments_lexer": "r",
   "version": "3.6.3"
  }
 },
 "nbformat": 4,
 "nbformat_minor": 4
}
